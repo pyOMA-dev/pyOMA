{
 "cells": [
  {
   "cell_type": "markdown",
   "id": "c6aeae5b-2a75-420f-a483-2a8b795d932f",
   "metadata": {},
   "source": [
    "### Welcome to PyOMA\n",
    "\n",
    "Run the cells below with Shift+Enter"
   ]
  },
  {
   "cell_type": "code",
   "execution_count": 4,
   "id": "0d29dfe6-dd21-423a-9ee0-51c473f2b8a8",
   "metadata": {},
   "outputs": [
    {
     "name": "stdout",
     "output_type": "stream",
     "text": [
      "The autoreload extension is already loaded. To reload it, use:\n",
      "  %reload_ext autoreload\n"
     ]
    }
   ],
   "source": [
    "%matplotlib widget\n",
    "%load_ext autoreload\n",
    "%autoreload 2\n",
    "\n",
    "import matplotlib\n",
    "import sys\n",
    "import os\n",
    "from pathlib import Path\n",
    "import numpy as np\n",
    "import matplotlib.pyplot as plt \n",
    "\n",
    "%aimport -sys -logging -matplotlib -matplotlib.pyplot -numpy -pandas - scipy.stats -scipy.stats.qmc"
   ]
  },
  {
   "cell_type": "markdown",
   "id": "3a54feb7-f5b6-4755-96ae-e0e97d6a8ac3",
   "metadata": {},
   "source": [
    "please modify the path below to point to the code directory and run the cell"
   ]
  },
  {
   "cell_type": "code",
   "execution_count": 5,
   "id": "c0709c7c-e300-4521-8c9b-6620f4fd15d3",
   "metadata": {},
   "outputs": [],
   "source": [
    "sys.path.append('/home/sima9999/git/pyOMA')\n",
    "\n",
    "from core.PreProcessingTools import PreProcessSignals, GeometryProcessor\n",
    "from core.StabilDiagram import StabilCalc, StabilCluster, StabilPlot\n",
    "from core.PostProcessingTools import MergePoSER\n",
    "from core.PlotMSH import ModeShapePlot\n",
    "\n",
    "from GUI.JupyterGUI import PlotMSHWeb, StabilGUIWeb, SnappingCursor, OutputWidgetHandler, ConfigGUIWeb"
   ]
  },
  {
   "cell_type": "markdown",
   "id": "e26a2c90-8c74-455e-82a8-cb0655bff13e",
   "metadata": {},
   "source": [
    "please modify the paths and setting below to point to the project and setup directories and run the cell"
   ]
  },
  {
   "cell_type": "code",
   "execution_count": 6,
   "id": "d001b95c",
   "metadata": {},
   "outputs": [],
   "source": [
    "project_dir = Path('/home/sima9999/git/pyOMA/tests/files/')\n",
    "nodes_file = project_dir / 'grid.txt'\n",
    "lines_file = project_dir / 'lines.txt'\n",
    "parent_child_file = ''\n",
    "\n",
    "meas_name = 'measurement_1'\n",
    "setup_dir = project_dir / meas_name\n",
    "result_dir = setup_dir\n",
    "\n",
    "setup_info_file = setup_dir / 'setup_info.txt'\n",
    "meas_file = setup_dir / (meas_name + '.npy')\n",
    "oma_conf_file = project_dir / 'varssi_config.txt'\n",
    "chan_dofs_file = setup_dir / \"channel_dofs.txt\"\n",
    "\n",
    "skip_existing=True\n",
    "save_results=False\n",
    "\n",
    "PreProcessSignals.load_measurement_file = np.load"
   ]
  },
  {
   "cell_type": "code",
   "execution_count": 11,
   "id": "8685bd66-3d60-415a-9143-0468c3cbcb58",
   "metadata": {},
   "outputs": [
    {
     "data": {
      "application/vnd.jupyter.widget-view+json": {
       "model_id": "d1c6f2141ebd4305b4d42231fbb04ec7",
       "version_major": 2,
       "version_minor": 0
      },
      "text/plain": [
       "Tab(children=(VBox(children=(Text(value='/home/sima9999/git/pyOMA/tests/files', description='Project Directory…"
      ]
     },
     "metadata": {},
     "output_type": "display_data"
    }
   ],
   "source": [
    "display(ConfigGUIWeb(locals()))"
   ]
  },
  {
   "cell_type": "code",
   "execution_count": 31,
   "id": "a2985354-a753-49fa-84ec-776f954a9e39",
   "metadata": {},
   "outputs": [],
   "source": [
    "geometry_data = GeometryProcessor.load_geometry(\n",
    "    nodes_file=nodes_file,\n",
    "    lines_file=lines_file,\n",
    "    parent_childs_file=parent_child_file)"
   ]
  },
  {
   "cell_type": "code",
   "execution_count": 32,
   "id": "08200156-8e72-4069-b19e-0473be0c3ee1",
   "metadata": {},
   "outputs": [
    {
     "name": "stdout",
     "output_type": "stream",
     "text": [
      "INFO:core.PreProcessingTools:Now removing Channel ref_z (no. 5)!\n"
     ]
    }
   ],
   "source": [
    "if not os.path.exists(setup_dir / \n",
    "        'prep_data.npz') or not skip_existing:\n",
    "    prep_data = PreProcessSignals.init_from_config(\n",
    "        conf_file=setup_info_file,\n",
    "        meas_file=meas_file,\n",
    "        chan_dofs_file=chan_dofs_file)\n",
    "\n",
    "    if save_results:\n",
    "        prep_data.save_state(result_dir / 'prep_data.npz')\n",
    "else:\n",
    "    prep_data = PreProcessSignals.load_state(result_dir / 'prep_data.npz')"
   ]
  },
  {
   "cell_type": "code",
   "execution_count": 33,
   "id": "a1f46920-cde6-4a60-94ae-f1014cf8ab46",
   "metadata": {},
   "outputs": [
    {
     "name": "stdout",
     "output_type": "stream",
     "text": [
      "Assembling toeplitz matrix using pre-computed correlation functions 200 block-columns and 201 block rows\n",
      "INFO:core.PreProcessingTools:Estimating Correlation Functions (BT) with n_lags=400 and num_blocks=1...\n",
      "....................................................................................................\n",
      "Computing state matrices with pinv-based method, with maximum model order 100...\n",
      "Computing modal parameters...\n",
      "....................................................................................................\n"
     ]
    }
   ],
   "source": [
    "if not os.path.exists(result_dir /\n",
    "        'modal_data.npz') or not skip_existing:\n",
    "\n",
    "    modal_data = method.init_from_config(oma_conf_file, prep_data)\n",
    "\n",
    "    if save_results:\n",
    "        modal_data.save_state(result_dir / 'modal_data.npz')\n",
    "else:\n",
    "    modal_data = method.load_state(\n",
    "        result_dir / 'modal_data.npz', prep_data)"
   ]
  },
  {
   "cell_type": "code",
   "execution_count": 26,
   "id": "193d3383-4866-49af-b87d-43a2af82534f",
   "metadata": {},
   "outputs": [
    {
     "name": "stdout",
     "output_type": "stream",
     "text": [
      "Now loading previous results from  /home/sima9999/git/pyOMA/tests/files/measurement_1/stabil_data.npz\n"
     ]
    }
   ],
   "source": [
    "if os.path.exists(result_dir \n",
    "                  / 'stabil_data.npz') and skip_existing:\n",
    "    stabil_calc = StabilCalc.load_state(\n",
    "        result_dir / 'stabil_data.npz', modal_data, prep_data)\n",
    "else:\n",
    "    stabil_calc = StabilCalc(modal_data, prep_data)\n",
    "stabil_plot = StabilPlot(stabil_calc)"
   ]
  },
  {
   "cell_type": "code",
   "execution_count": 27,
   "id": "ab6548e1-7eb7-45ac-9e75-e5b67899df3a",
   "metadata": {},
   "outputs": [
    {
     "data": {
      "application/vnd.jupyter.widget-view+json": {
       "model_id": "5cf1e306b2dd4ae2a1ae32561ebe433a",
       "version_major": 2,
       "version_minor": 0
      },
      "text/plain": [
       "VBox(children=(Canvas(footer_visible=False, header_visible=False, resizable=False, toolbar=Toolbar(toolitems=[…"
      ]
     },
     "metadata": {},
     "output_type": "display_data"
    }
   ],
   "source": [
    "display(StabilGUIWeb(stabil_plot))"
   ]
  },
  {
   "cell_type": "code",
   "execution_count": 28,
   "id": "b3e857e9",
   "metadata": {},
   "outputs": [],
   "source": [
    "if save_results:\n",
    "    stabil_calc.save_state(result_dir / 'stabil_data.npz')"
   ]
  },
  {
   "cell_type": "code",
   "execution_count": 29,
   "id": "833bf761-b2af-461c-9289-138fbc7c1c5b",
   "metadata": {},
   "outputs": [],
   "source": [
    "mode_shape_plot = ModeShapePlot(amplitude=10,\n",
    "                                prep_data=prep_data,\n",
    "                                stabil_calc=stabil_calc,\n",
    "                                geometry_data=geometry_data,\n",
    "                                modal_data=modal_data)"
   ]
  },
  {
   "cell_type": "code",
   "execution_count": 30,
   "id": "27c49636-53c1-4d1d-ac73-a78b3fdd9c7b",
   "metadata": {},
   "outputs": [
    {
     "data": {
      "application/vnd.jupyter.widget-view+json": {
       "model_id": "bfc8f5f57d7746b58bfd291a7fbbc181",
       "version_major": 2,
       "version_minor": 0
      },
      "text/plain": [
       "VBox(children=(Canvas(footer_visible=False, header_visible=False, resizable=False, toolbar=Toolbar(toolitems=[…"
      ]
     },
     "metadata": {},
     "output_type": "display_data"
    }
   ],
   "source": [
    "display(PlotMSHWeb(mode_shape_plot))"
   ]
  },
  {
   "cell_type": "code",
   "execution_count": null,
   "id": "06c8a259-40df-4ea2-8fc8-4e232a19893c",
   "metadata": {},
   "outputs": [],
   "source": []
  }
 ],
 "metadata": {
  "kernelspec": {
   "display_name": "Python 3 (ipykernel)",
   "language": "python",
   "name": "python3"
  },
  "language_info": {
   "codemirror_mode": {
    "name": "ipython",
    "version": 3
   },
   "file_extension": ".py",
   "mimetype": "text/x-python",
   "name": "python",
   "nbconvert_exporter": "python",
   "pygments_lexer": "ipython3",
   "version": "3.10.8"
  }
 },
 "nbformat": 4,
 "nbformat_minor": 5
}
