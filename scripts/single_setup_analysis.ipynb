{
 "cells": [
  {
   "cell_type": "markdown",
   "id": "c6aeae5b-2a75-420f-a483-2a8b795d932f",
   "metadata": {},
   "source": [
    "# pyOMA Jupyter Notebook\n",
    "\n",
    "Run the cells below with Shift+Enter"
   ]
  },
  {
   "cell_type": "code",
   "execution_count": 1,
   "id": "0d29dfe6-dd21-423a-9ee0-51c473f2b8a8",
   "metadata": {},
   "outputs": [],
   "source": [
    "%matplotlib widget\n",
    "%load_ext autoreload\n",
    "%autoreload 2\n",
    "\n",
    "import matplotlib\n",
    "import sys\n",
    "import os\n",
    "from pathlib import Path\n",
    "import numpy as np\n",
    "import matplotlib.pyplot as plt \n",
    "\n",
    "%aimport -sys -logging -matplotlib -matplotlib.pyplot -numpy -pandas - scipy.stats -scipy.stats.qmc"
   ]
  },
  {
   "cell_type": "markdown",
   "id": "3a54feb7-f5b6-4755-96ae-e0e97d6a8ac3",
   "metadata": {},
   "source": [
    "please modify the path below to point to the code directory and run the cell"
   ]
  },
  {
   "cell_type": "code",
   "execution_count": 2,
   "id": "c0709c7c-e300-4521-8c9b-6620f4fd15d3",
   "metadata": {},
   "outputs": [],
   "source": [
    "sys.path.append('/home/sima9999/git/pyOMA')\n",
    "\n",
    "from pyOMA.core.PreProcessingTools import PreProcessSignals, GeometryProcessor, SignalPlot\n",
    "from pyOMA.core.StabilDiagram import StabilCalc, StabilCluster, StabilPlot\n",
    "from pyOMA.core.PostProcessingTools import MergePoSER\n",
    "from pyOMA.core.PlotMSH import ModeShapePlot\n",
    "\n",
    "from pyOMA.GUI.JupyterGUI import PlotMSHWeb, StabilGUIWeb, SnappingCursor, OutputWidgetHandler, ConfigGUIWeb"
   ]
  },
  {
   "cell_type": "markdown",
   "id": "e26a2c90-8c74-455e-82a8-cb0655bff13e",
   "metadata": {},
   "source": [
    "please modify the paths and setting below to point to the project and setup directories and run the cell"
   ]
  },
  {
   "cell_type": "code",
   "execution_count": 3,
   "id": "d001b95c",
   "metadata": {},
   "outputs": [],
   "source": [
    "project_dir = Path('/home/sima9999/git/pyOMA/tests/files/')\n",
    "nodes_file = project_dir / 'grid.txt'\n",
    "lines_file = project_dir / 'lines.txt'\n",
    "parent_child_file = ''\n",
    "\n",
    "meas_name = 'measurement_1'\n",
    "setup_dir = project_dir / meas_name\n",
    "result_dir = setup_dir\n",
    "\n",
    "setup_info_file = setup_dir / 'setup_info.txt'\n",
    "meas_file = setup_dir / (meas_name + '.npy')\n",
    "oma_conf_file = project_dir / 'plscf_config.txt'\n",
    "chan_dofs_file = setup_dir / \"channel_dofs.txt\"\n",
    "\n",
    "skip_existing=True\n",
    "save_results=False\n",
    "\n",
    "PreProcessSignals.load_measurement_file = np.load"
   ]
  },
  {
   "cell_type": "code",
   "execution_count": 4,
   "id": "8685bd66-3d60-415a-9143-0468c3cbcb58",
   "metadata": {},
   "outputs": [
    {
     "data": {
      "application/vnd.jupyter.widget-view+json": {
       "model_id": "33cff545df8a49afb42f8f87586e6a96",
       "version_major": 2,
       "version_minor": 0
      },
      "text/plain": [
       "Tab(children=(VBox(children=(Text(value='/home/sima9999/git/pyOMA/tests/files', description='Project Directory…"
      ]
     },
     "metadata": {},
     "output_type": "display_data"
    }
   ],
   "source": [
    "display(ConfigGUIWeb(locals()))"
   ]
  },
  {
   "cell_type": "code",
   "execution_count": 5,
   "id": "a2985354-a753-49fa-84ec-776f954a9e39",
   "metadata": {},
   "outputs": [],
   "source": [
    "geometry_data = GeometryProcessor.load_geometry(\n",
    "    nodes_file=nodes_file,\n",
    "    lines_file=lines_file,\n",
    "    parent_childs_file=parent_child_file)"
   ]
  },
  {
   "cell_type": "code",
   "execution_count": 6,
   "id": "08200156-8e72-4069-b19e-0473be0c3ee1",
   "metadata": {},
   "outputs": [
    {
     "name": "stdout",
     "output_type": "stream",
     "text": [
      "INFO:pyOMA.core.PreProcessingTools:Now removing Channel ref_z (no. 5)!\n",
      "INFO:pyOMA.core.PreProcessingTools:Decimating signals by factor 3 to a sampling rate of 85.33333333333333 Hz\n",
      "INFO:pyOMA.core.PreProcessingTools:Filtering signals in the band: None .. 34.13333333333333 with a 8 order cheby1 filter.\n",
      "INFO:pyOMA.core.PreProcessingTools:Decimating signals by factor 3 to a sampling rate of 28.444444444444443 Hz\n",
      "INFO:pyOMA.core.PreProcessingTools:Filtering signals in the band: None .. 11.377777777777776 with a 8 order cheby1 filter.\n"
     ]
    }
   ],
   "source": [
    "if not os.path.exists(setup_dir / \n",
    "        'prep_signals.npz') or not skip_existing:\n",
    "    prep_signals = PreProcessSignals.init_from_config(\n",
    "        conf_file=setup_info_file,\n",
    "        meas_file=meas_file,\n",
    "        chan_dofs_file=chan_dofs_file)\n",
    "\n",
    "    if save_results:\n",
    "        prep_signals.save_state(result_dir / 'prep_signals.npz')\n",
    "else:\n",
    "    prep_signals = PreProcessSignals.load_state(result_dir / 'prep_signals.npz')\n",
    "\n",
    "prep_signals.decimate_signals(3)\n",
    "prep_signals.decimate_signals(3)"
   ]
  },
  {
   "cell_type": "code",
   "execution_count": 7,
   "id": "a1f46920-cde6-4a60-94ae-f1014cf8ab46",
   "metadata": {
    "tags": []
   },
   "outputs": [
    {
     "name": "stdout",
     "output_type": "stream",
     "text": [
      "INFO:pyOMA.core.PLSCF:Constructing half-spectrum matrix ... \n",
      "INFO:pyOMA.core.PreProcessingTools:Estimating Correlation Functions (BT) with n_lags=2048 and num_blocks=1...\n",
      "....................................................................................................\n",
      "INFO:pyOMA.core.PLSCF:Computing modal parameters...\n",
      "....................................................................................................\n"
     ]
    }
   ],
   "source": [
    "if not os.path.exists(result_dir /\n",
    "        'modal_data.npz') or not skip_existing:\n",
    "\n",
    "    modal_data = method.init_from_config(oma_conf_file, prep_signals)\n",
    "\n",
    "    if save_results:\n",
    "        \n",
    "        modal_data.save_state(result_dir / 'modal_data.npz')\n",
    "else:\n",
    "    modal_data = method.load_state(\n",
    "        result_dir / 'modal_data.npz', prep_signals)"
   ]
  },
  {
   "cell_type": "code",
   "execution_count": 8,
   "id": "193d3383-4866-49af-b87d-43a2af82534f",
   "metadata": {},
   "outputs": [
    {
     "name": "stdout",
     "output_type": "stream",
     "text": [
      "WARNING:pyOMA.core.StabilDiagram:Providing prep_signals is not required anymore. Ignoring argument!\n"
     ]
    }
   ],
   "source": [
    "if os.path.exists(result_dir \n",
    "                  / 'stabil_data.npz') and skip_existing:\n",
    "    stabil_calc = StabilCalc.load_state(\n",
    "        result_dir / 'stabil_data.npz', modal_data, prep_signals)\n",
    "else:\n",
    "    stabil_calc = StabilCalc(modal_data, prep_signals)\n",
    "stabil_plot = StabilPlot(stabil_calc)"
   ]
  },
  {
   "cell_type": "code",
   "execution_count": 9,
   "id": "ab6548e1-7eb7-45ac-9e75-e5b67899df3a",
   "metadata": {},
   "outputs": [
    {
     "name": "stdout",
     "output_type": "stream",
     "text": [
      "Checking stabilisation criteria...\n",
      "....................................................................................................\n"
     ]
    },
    {
     "data": {
      "application/vnd.jupyter.widget-view+json": {
       "model_id": "e86a7b139135439db81d953bd7d277fc",
       "version_major": 2,
       "version_minor": 0
      },
      "text/plain": [
       "VBox(children=(Canvas(footer_visible=False, header_visible=False, resizable=False, toolbar=Toolbar(toolitems=[…"
      ]
     },
     "metadata": {},
     "output_type": "display_data"
    }
   ],
   "source": [
    "display(StabilGUIWeb(stabil_plot))"
   ]
  },
  {
   "cell_type": "code",
   "execution_count": 10,
   "id": "b3e857e9",
   "metadata": {},
   "outputs": [],
   "source": [
    "if save_results:\n",
    "    stabil_calc.save_state(result_dir / 'stabil_data.npz')"
   ]
  },
  {
   "cell_type": "code",
   "execution_count": 11,
   "id": "833bf761-b2af-461c-9289-138fbc7c1c5b",
   "metadata": {},
   "outputs": [],
   "source": [
    "mode_shape_plot = ModeShapePlot(amplitude=10,\n",
    "                                prep_signals=prep_signals,\n",
    "                                stabil_calc=stabil_calc,\n",
    "                                geometry_data=geometry_data,\n",
    "                                modal_data=modal_data)"
   ]
  },
  {
   "cell_type": "code",
   "execution_count": 12,
   "id": "27c49636-53c1-4d1d-ac73-a78b3fdd9c7b",
   "metadata": {},
   "outputs": [
    {
     "name": "stdout",
     "output_type": "stream",
     "text": [
      "17 1.2308258533310823 nan 0.5078235897990817 nan 0.999839118516995 179.9755617844604 0.3578819749149628 0.011981070265078442 0.07465523987722156 nan nan nan nan\n"
     ]
    },
    {
     "data": {
      "application/vnd.jupyter.widget-view+json": {
       "model_id": "7dc21b90631e44459470d9cf25c89501",
       "version_major": 2,
       "version_minor": 0
      },
      "text/plain": [
       "VBox(children=(Canvas(footer_visible=False, header_visible=False, resizable=False, toolbar=Toolbar(toolitems=[…"
      ]
     },
     "metadata": {},
     "output_type": "display_data"
    }
   ],
   "source": [
    "display(PlotMSHWeb(mode_shape_plot))"
   ]
  },
  {
   "cell_type": "code",
   "execution_count": null,
   "id": "2ec123cb-0f9e-40e0-9dde-9b7cf1ed1cde",
   "metadata": {},
   "outputs": [],
   "source": []
  }
 ],
 "metadata": {
  "kernelspec": {
   "display_name": "Python 3 (ipykernel)",
   "language": "python",
   "name": "python3"
  },
  "language_info": {
   "codemirror_mode": {
    "name": "ipython",
    "version": 3
   },
   "file_extension": ".py",
   "mimetype": "text/x-python",
   "name": "python",
   "nbconvert_exporter": "python",
   "pygments_lexer": "ipython3",
   "version": "3.10.8"
  },
  "toc-autonumbering": false,
  "toc-showcode": true,
  "widgets": {
   "application/vnd.jupyter.widget-state+json": {
    "state": {
     "0242c0b5101b40eaaebe06185bfcc70e": {
      "model_module": "@jupyter-widgets/base",
      "model_module_version": "2.0.0",
      "model_name": "LayoutModel",
      "state": {
       "width": "90%"
      }
     },
     "02787a841d0c4202addaa1b434aa9849": {
      "model_module": "@jupyter-widgets/controls",
      "model_module_version": "2.0.0",
      "model_name": "RadioButtonsModel",
      "state": {
       "_options_labels": [
        "Stable",
        "All",
        "Off"
       ],
       "description": "Cursor",
       "index": 0,
       "layout": "IPY_MODEL_1e1058408fd44034a29eda7dca5118e1",
       "style": "IPY_MODEL_68754ce8129941de972bdecdf021ea3f"
      }
     },
     "03e5f970e9bc41af929017802349fb11": {
      "model_module": "@jupyter-widgets/controls",
      "model_module_version": "2.0.0",
      "model_name": "ButtonStyleModel",
      "state": {
       "font_family": null,
       "font_size": null,
       "font_style": null,
       "font_variant": null,
       "font_weight": null,
       "text_color": null,
       "text_decoration": null
      }
     },
     "0510a3d022b843b3a779b89d975205b2": {
      "model_module": "@jupyter-widgets/controls",
      "model_module_version": "2.0.0",
      "model_name": "VBoxModel",
      "state": {
       "children": [
        "IPY_MODEL_da344529b25d48a3a33d7355bfc930b5",
        "IPY_MODEL_dc21c0c266344a9287f4017aea50e14f",
        "IPY_MODEL_8eabb5ba30894cb0867375bab77bb2f6",
        "IPY_MODEL_48c23380a7504b6ba32939a80b1c6c03",
        "IPY_MODEL_02787a841d0c4202addaa1b434aa9849"
       ],
       "layout": "IPY_MODEL_2d45da7224e7423395a8e3caad96616a"
      }
     },
     "0740040ff68c423d943f42244ea83508": {
      "model_module": "@jupyter-widgets/base",
      "model_module_version": "2.0.0",
      "model_name": "LayoutModel",
      "state": {}
     },
     "07b591ae06f74febbfb14cd6daecab8f": {
      "model_module": "@jupyter-widgets/controls",
      "model_module_version": "2.0.0",
      "model_name": "ButtonStyleModel",
      "state": {
       "font_family": null,
       "font_size": null,
       "font_style": null,
       "font_variant": null,
       "font_weight": null,
       "text_color": null,
       "text_decoration": null
      }
     },
     "084a6d2ea6f34c25b592d597cf8d5ee9": {
      "model_module": "@jupyter-widgets/base",
      "model_module_version": "2.0.0",
      "model_name": "LayoutModel",
      "state": {
       "width": "200px"
      }
     },
     "094a33024466439794b312d122b119d2": {
      "model_module": "@jupyter-widgets/controls",
      "model_module_version": "2.0.0",
      "model_name": "FloatSliderModel",
      "state": {
       "behavior": "drag-tap",
       "description": "Elevation",
       "layout": "IPY_MODEL_df1616d1287e4542b518470d0582565b",
       "max": 180,
       "min": -180,
       "style": "IPY_MODEL_fa1bdb6138d44360a1ecb73f8d488d07",
       "value": 30
      }
     },
     "0adce065fd354112a7da33845f0a5928": {
      "model_module": "@jupyter-widgets/controls",
      "model_module_version": "2.0.0",
      "model_name": "TextStyleModel",
      "state": {
       "description_width": "",
       "font_size": null,
       "text_color": null
      }
     },
     "0bb805d513934eb1a49e7a8d1dd84a00": {
      "model_module": "@jupyter-widgets/base",
      "model_module_version": "2.0.0",
      "model_name": "LayoutModel",
      "state": {
       "width": "800px"
      }
     },
     "0d555c78f30f46968a913be82035545a": {
      "model_module": "@jupyter-widgets/controls",
      "model_module_version": "2.0.0",
      "model_name": "ButtonStyleModel",
      "state": {
       "font_family": null,
       "font_size": null,
       "font_style": null,
       "font_variant": null,
       "font_weight": null,
       "text_color": null,
       "text_decoration": null
      }
     },
     "10039db771194bce85c25992dc5eacf2": {
      "model_module": "@jupyter-widgets/controls",
      "model_module_version": "2.0.0",
      "model_name": "TextStyleModel",
      "state": {
       "description_width": "200px",
       "font_size": null,
       "text_color": null
      }
     },
     "1058d1a5f0f84dc894f5bbf17a14891d": {
      "model_module": "@jupyter-widgets/controls",
      "model_module_version": "2.0.0",
      "model_name": "ButtonStyleModel",
      "state": {
       "font_family": null,
       "font_size": null,
       "font_style": null,
       "font_variant": null,
       "font_weight": null,
       "text_color": null,
       "text_decoration": null
      }
     },
     "10d6d1605fde42f980a10c8c677a4df8": {
      "model_module": "@jupyter-widgets/controls",
      "model_module_version": "2.0.0",
      "model_name": "DropdownModel",
      "state": {
       "_options_labels": [
        "Reference-based Covariance-Driven Stochastic Subspace Identification",
        "Reference-based Data-Driven Stochastic Subspace Identification",
        "Stochastic Subspace Identification with Uncertainty Estimation",
        "Poly-reference Least Squares Complex Frequency",
        "Poly-reference Complex Exponential"
       ],
       "index": 3,
       "layout": "IPY_MODEL_26c039479bd14741bc3778afe232776c",
       "style": "IPY_MODEL_d0eb4acbb37e404eb9d21b54b8883114"
      }
     },
     "11bde1cf752a42698f9d229aabad735b": {
      "model_module": "@jupyter-widgets/controls",
      "model_module_version": "2.0.0",
      "model_name": "TextStyleModel",
      "state": {
       "description_width": "200px",
       "font_size": null,
       "text_color": null
      }
     },
     "11d6927186dc4f3688631dc583e6ea7e": {
      "model_module": "@jupyter-widgets/base",
      "model_module_version": "2.0.0",
      "model_name": "LayoutModel",
      "state": {}
     },
     "120f8a9635b747618c63aaf2ead44a3d": {
      "model_module": "@jupyter-widgets/base",
      "model_module_version": "2.0.0",
      "model_name": "LayoutModel",
      "state": {}
     },
     "12e39dffe2334807a8c2942992bb6e07": {
      "model_module": "@jupyter-widgets/controls",
      "model_module_version": "2.0.0",
      "model_name": "TextareaModel",
      "state": {
       "layout": "IPY_MODEL_aa10a90975124a898fe4ea90788ae3d2",
       "placeholder": "Load nodes file",
       "style": "IPY_MODEL_d650c29a11c040c5bd955a5b42eca496",
       "value": "node_name\t x\t\t y\t\t  z\n   1   1.8100000e+01  -1.8100000e+01   0.0000000e+00\n   2   1.8100000e+01   1.8100000e+01   0.0000000e+00\n   3  -1.8100000e+01   1.8100000e+01   0.0000000e+00\n   4  -1.8100000e+01  -1.8100000e+01   0.0000000e+00\n   5   1.8100000e+01  -1.8100000e+01   1.9200000e+01\n   6   1.8100000e+01   1.8100000e+01   1.9200000e+01\n   7  -1.8100000e+01   1.8100000e+01   1.9200000e+01\n   8  -1.8100000e+01  -1.8100000e+01   1.9200000e+01\n   9   1.8100000e+01  -1.8100000e+01   3.9200000e+01\n   10   1.8100000e+01   1.8100000e+01   3.9200000e+01\n   11  -1.8100000e+01   1.8100000e+01   3.9200000e+01\n   12  -1.8100000e+01  -1.8100000e+01   3.9200000e+01\n   13   1.8100000e+01  -1.8100000e+01   5.9200000e+01\n   14   1.8100000e+01   1.8100000e+01   5.9200000e+01\n   15  -1.8100000e+01   1.8100000e+01   5.9200000e+01\n   16  -1.8100000e+01  -1.8100000e+01   5.9200000e+01\n   17   1.8100000e+01  -1.8100000e+01   7.9200000e+01\n   18   1.8100000e+01   1.8100000e+01   7.9200000e+01\n   19  -1.8100000e+01   1.8100000e+01   7.9200000e+01\n   20  -1.8100000e+01  -1.8100000e+01   7.9200000e+01\n   21   1.8100000e+01  -1.8100000e+01   9.8000000e+01\n   22   1.8100000e+01   1.8100000e+01   9.8000000e+01\n   23  -1.8100000e+01   1.8100000e+01   9.8000000e+01\n   24  -1.8100000e+01  -1.8100000e+01   9.8000000e+01\n"
      }
     },
     "137851ca6036458f816f9253bcdc41c0": {
      "model_module": "@jupyter-widgets/controls",
      "model_module_version": "2.0.0",
      "model_name": "CheckboxStyleModel",
      "state": {
       "description_width": ""
      }
     },
     "14167d6d7e16440285493528f1d84a68": {
      "model_module": "@jupyter-widgets/base",
      "model_module_version": "2.0.0",
      "model_name": "LayoutModel",
      "state": {}
     },
     "14aab63fe88e497e95c7847ee19ba398": {
      "model_module": "@jupyter-widgets/base",
      "model_module_version": "2.0.0",
      "model_name": "LayoutModel",
      "state": {}
     },
     "14cf9230fe2f4e64a0cf0c7951dac5c3": {
      "model_module": "@jupyter-widgets/base",
      "model_module_version": "2.0.0",
      "model_name": "LayoutModel",
      "state": {}
     },
     "15037191ec6440ec9cf2fead38f9a523": {
      "model_module": "@jupyter-widgets/controls",
      "model_module_version": "2.0.0",
      "model_name": "FloatSliderModel",
      "state": {
       "behavior": "drag-tap",
       "description": "MPD_max [°]",
       "layout": "IPY_MODEL_5302cb957c8542a5a22769f4a6cd51e7",
       "max": 180,
       "style": "IPY_MODEL_366c3aa5c6f24e24afb6b1d0403e5ecb",
       "value": 90
      }
     },
     "16729693a3184b43b839e0f7caa5de74": {
      "model_module": "@jupyter-widgets/base",
      "model_module_version": "2.0.0",
      "model_name": "LayoutModel",
      "state": {}
     },
     "16c694b46fad422d85b0ae3981e0471f": {
      "model_module": "@jupyter-widgets/controls",
      "model_module_version": "2.0.0",
      "model_name": "TextStyleModel",
      "state": {
       "description_width": "",
       "font_size": null,
       "text_color": null
      }
     },
     "17feb511f987468ea698648a306cedbe": {
      "model_module": "@jupyter-widgets/controls",
      "model_module_version": "2.0.0",
      "model_name": "VBoxModel",
      "state": {
       "children": [
        "IPY_MODEL_3a3179dbac4f4c17b97caf334b6961da",
        "IPY_MODEL_bb9b0d10b78f4ed5a687af0ee557cb66",
        "IPY_MODEL_b2e0e1df8af442658b1c4dc8b7ebe997",
        "IPY_MODEL_1b4288350e304ec08407d725307a5334"
       ],
       "layout": "IPY_MODEL_38fb58584fec403799db556e3673d6e3"
      }
     },
     "1828a460b400407e91edbf7b5dd96900": {
      "model_module": "@jupyter-widgets/controls",
      "model_module_version": "2.0.0",
      "model_name": "SliderStyleModel",
      "state": {
       "description_width": ""
      }
     },
     "1847f069a4704e358a555dd3dcc59610": {
      "model_module": "@jupyter-widgets/controls",
      "model_module_version": "2.0.0",
      "model_name": "VBoxModel",
      "state": {
       "children": [
        "IPY_MODEL_1deaf0ad6ed549bf89ae2bf77efff09a",
        "IPY_MODEL_df42bf39df5a4d8990dc79f566704d55",
        "IPY_MODEL_d123d18dda2241c78e919b07a788fd06"
       ],
       "layout": "IPY_MODEL_9a4a8d31c9444f53a0f289120e53965f"
      }
     },
     "19b66e7eeca64da7b8902194a5147a03": {
      "model_module": "@jupyter-widgets/controls",
      "model_module_version": "2.0.0",
      "model_name": "ButtonModel",
      "state": {
       "description": "Load",
       "layout": "IPY_MODEL_394f94aa2d204716b4707d994e1da061",
       "style": "IPY_MODEL_4db9741a68234472b7c2517390e7f41b",
       "tooltip": null
      }
     },
     "1ab52e5b95ed4d77a5e160fa9df0107a": {
      "model_module": "@jupyter-widgets/base",
      "model_module_version": "2.0.0",
      "model_name": "LayoutModel",
      "state": {}
     },
     "1b4288350e304ec08407d725307a5334": {
      "model_module": "@jupyter-widgets/controls",
      "model_module_version": "2.0.0",
      "model_name": "FloatLogSliderModel",
      "state": {
       "behavior": "drag-tap",
       "description": "MAC [%]",
       "layout": "IPY_MODEL_1ca8dd9b82e846a294e8ca0b14b3cd43",
       "max": 0,
       "min": -4,
       "style": "IPY_MODEL_6d1785e24b1f41cbb29298947cdf7e37",
       "value": 0.01995262314968879
      }
     },
     "1c70fa1d8fdb43d3a1fed2775c96dbc3": {
      "model_module": "@jupyter-widgets/base",
      "model_module_version": "2.0.0",
      "model_name": "LayoutModel",
      "state": {}
     },
     "1c7bf780db4f4dbeb6f8e1e365bb2fda": {
      "model_module": "@jupyter-widgets/controls",
      "model_module_version": "2.0.0",
      "model_name": "TextStyleModel",
      "state": {
       "description_width": "",
       "font_size": null,
       "text_color": null
      }
     },
     "1ca7342c653145ff8316f7fea4bfd034": {
      "model_module": "@jupyter-widgets/controls",
      "model_module_version": "2.0.0",
      "model_name": "ButtonModel",
      "state": {
       "description": "Load",
       "layout": "IPY_MODEL_22798035bc414996aaa3cc1d1869436f",
       "style": "IPY_MODEL_55b6a91b9ffa4dc3bd695425c940e8c7",
       "tooltip": null
      }
     },
     "1ca8dd9b82e846a294e8ca0b14b3cd43": {
      "model_module": "@jupyter-widgets/base",
      "model_module_version": "2.0.0",
      "model_name": "LayoutModel",
      "state": {}
     },
     "1cd679083e4c456a96ea1e40ea0253d4": {
      "model_module": "@jupyter-widgets/base",
      "model_module_version": "2.0.0",
      "model_name": "LayoutModel",
      "state": {}
     },
     "1d5ab5f8ea254b84ad837ac35d97af1b": {
      "model_module": "@jupyter-widgets/controls",
      "model_module_version": "2.0.0",
      "model_name": "TextStyleModel",
      "state": {
       "description_width": "200px",
       "font_size": null,
       "text_color": null
      }
     },
     "1deaf0ad6ed549bf89ae2bf77efff09a": {
      "model_module": "@jupyter-widgets/controls",
      "model_module_version": "2.0.0",
      "model_name": "TextModel",
      "state": {
       "description": "Parent-Child Assignments File",
       "layout": "IPY_MODEL_64a2743548af48bf868d7f09b2dc7b72",
       "style": "IPY_MODEL_11bde1cf752a42698f9d229aabad735b"
      }
     },
     "1e1058408fd44034a29eda7dca5118e1": {
      "model_module": "@jupyter-widgets/base",
      "model_module_version": "2.0.0",
      "model_name": "LayoutModel",
      "state": {
       "width": "100px"
      }
     },
     "1e48934c0e6e4673958ee668d14f45e4": {
      "model_module": "@jupyter-widgets/base",
      "model_module_version": "2.0.0",
      "model_name": "LayoutModel",
      "state": {}
     },
     "1e994613188b401a938459f481e30d66": {
      "model_module": "@jupyter-widgets/controls",
      "model_module_version": "2.0.0",
      "model_name": "ButtonStyleModel",
      "state": {
       "font_family": null,
       "font_size": null,
       "font_style": null,
       "font_variant": null,
       "font_weight": null,
       "text_color": null,
       "text_decoration": null
      }
     },
     "1f1b3774c11e4dd8b71cf3265708f11e": {
      "model_module": "@jupyter-widgets/controls",
      "model_module_version": "2.0.0",
      "model_name": "HBoxModel",
      "state": {
       "children": [
        "IPY_MODEL_5903d6c4a7d24ba48c4512054e784e17",
        "IPY_MODEL_f44c56aa3f73477c9ab857f2ed974501"
       ],
       "layout": "IPY_MODEL_4cf11e12f99e47ae807b53a3e090e080"
      }
     },
     "1f709d75a9534d41b4a8a10779aa0465": {
      "model_module": "@jupyter-widgets/base",
      "model_module_version": "2.0.0",
      "model_name": "LayoutModel",
      "state": {}
     },
     "22798035bc414996aaa3cc1d1869436f": {
      "model_module": "@jupyter-widgets/base",
      "model_module_version": "2.0.0",
      "model_name": "LayoutModel",
      "state": {}
     },
     "22bdd337f7b54c8195e5644a657c870e": {
      "model_module": "@jupyter-widgets/base",
      "model_module_version": "2.0.0",
      "model_name": "LayoutModel",
      "state": {}
     },
     "26c039479bd14741bc3778afe232776c": {
      "model_module": "@jupyter-widgets/base",
      "model_module_version": "2.0.0",
      "model_name": "LayoutModel",
      "state": {
       "width": "800px"
      }
     },
     "26fbe0e9c247411d95da93092df265fd": {
      "model_module": "@jupyter-widgets/controls",
      "model_module_version": "2.0.0",
      "model_name": "TextStyleModel",
      "state": {
       "description_width": "",
       "font_size": null,
       "text_color": null
      }
     },
     "2710e484f2a240ab948a8a3edd220184": {
      "model_module": "@jupyter-widgets/base",
      "model_module_version": "2.0.0",
      "model_name": "LayoutModel",
      "state": {}
     },
     "278488d8141d4994adc8af1eb2cb60a4": {
      "model_module": "@jupyter-widgets/controls",
      "model_module_version": "2.0.0",
      "model_name": "ButtonStyleModel",
      "state": {
       "font_family": null,
       "font_size": null,
       "font_style": null,
       "font_variant": null,
       "font_weight": null,
       "text_color": null,
       "text_decoration": null
      }
     },
     "28529105bbd1435e8be9c47ffd791001": {
      "model_module": "@jupyter-widgets/base",
      "model_module_version": "2.0.0",
      "model_name": "LayoutModel",
      "state": {
       "border_bottom": "solid 1px",
       "border_left": "solid 1px",
       "border_right": "solid 1px",
       "border_top": "solid 1px"
      }
     },
     "295829449f5949ec80b99b2a9417b6fe": {
      "model_module": "@jupyter-widgets/controls",
      "model_module_version": "2.0.0",
      "model_name": "ButtonModel",
      "state": {
       "description": "Save",
       "layout": "IPY_MODEL_dd4dcc533f0f4e3093f5d3781979171a",
       "style": "IPY_MODEL_8c82c45abbf041f38f7e54c578ebc70f",
       "tooltip": null
      }
     },
     "2a2bcae706f1433c94bcfec57500421d": {
      "model_module": "@jupyter-widgets/controls",
      "model_module_version": "2.0.0",
      "model_name": "TextModel",
      "state": {
       "description": "Channel-DOF-Assignments File",
       "layout": "IPY_MODEL_428a5973baa9445384fc640e3fd049d2",
       "style": "IPY_MODEL_d1920ad644bf40fbb5ee855dd213069c",
       "value": "/home/sima9999/git/pyOMA/tests/files/measurement_1/channel_dofs.txt"
      }
     },
     "2ad705c00d6d40c3afb008fb16051f9c": {
      "model_module": "@jupyter-widgets/base",
      "model_module_version": "2.0.0",
      "model_name": "LayoutModel",
      "state": {}
     },
     "2b253179290e4c52ac47dc2abe1229dd": {
      "model_module": "@jupyter-widgets/base",
      "model_module_version": "2.0.0",
      "model_name": "LayoutModel",
      "state": {}
     },
     "2bf8f737a55d4aadb9b44140f409c538": {
      "model_module": "@jupyter-widgets/base",
      "model_module_version": "2.0.0",
      "model_name": "LayoutModel",
      "state": {
       "border_bottom": "solid 1px",
       "border_left": "solid 1px",
       "border_right": "solid 1px",
       "border_top": "solid 1px"
      }
     },
     "2c430a82db244e18a708d6ac943f5586": {
      "model_module": "@jupyter-widgets/controls",
      "model_module_version": "2.0.0",
      "model_name": "HBoxModel",
      "state": {
       "children": [
        "IPY_MODEL_470401c4eeff49f594bc8ee99966419a",
        "IPY_MODEL_8dfae25ca85d489da484b1168ceb5a29"
       ],
       "layout": "IPY_MODEL_5e20ce994f0e4dd581feddb732ae3f22"
      }
     },
     "2d45da7224e7423395a8e3caad96616a": {
      "model_module": "@jupyter-widgets/base",
      "model_module_version": "2.0.0",
      "model_name": "LayoutModel",
      "state": {
       "border_bottom": "solid 1px",
       "border_left": "solid 1px",
       "border_right": "solid 1px",
       "border_top": "solid 1px",
       "width": "200px"
      }
     },
     "2ef2e0351e474cd4baa034d55010777f": {
      "model_module": "@jupyter-widgets/base",
      "model_module_version": "2.0.0",
      "model_name": "LayoutModel",
      "state": {}
     },
     "2ff4126d877f492abecde1c0681474a3": {
      "model_module": "@jupyter-widgets/controls",
      "model_module_version": "2.0.0",
      "model_name": "CheckboxStyleModel",
      "state": {
       "description_width": ""
      }
     },
     "2ff73396016c4e5aa2cb00e8640af448": {
      "model_module": "@jupyter-widgets/controls",
      "model_module_version": "2.0.0",
      "model_name": "LabelStyleModel",
      "state": {
       "description_width": "",
       "font_family": null,
       "font_size": null,
       "font_style": null,
       "font_variant": null,
       "font_weight": null,
       "text_color": null,
       "text_decoration": null
      }
     },
     "313aee5a5fed4ba6b2dd93fc182693d5": {
      "model_module": "@jupyter-widgets/controls",
      "model_module_version": "2.0.0",
      "model_name": "HBoxModel",
      "state": {
       "children": [
        "IPY_MODEL_bddcbf51fcd8448486a14b735a7bb76f",
        "IPY_MODEL_295829449f5949ec80b99b2a9417b6fe"
       ],
       "layout": "IPY_MODEL_2ef2e0351e474cd4baa034d55010777f"
      }
     },
     "31c38282e42340b2846d814d4424991e": {
      "model_module": "@jupyter-widgets/base",
      "model_module_version": "2.0.0",
      "model_name": "LayoutModel",
      "state": {}
     },
     "33cff545df8a49afb42f8f87586e6a96": {
      "model_module": "@jupyter-widgets/controls",
      "model_module_version": "2.0.0",
      "model_name": "TabModel",
      "state": {
       "children": [
        "IPY_MODEL_ef2c085071764f139587f68465f1b96a",
        "IPY_MODEL_a1e18f4249bf44aa8290542db14e3e6f",
        "IPY_MODEL_f943b11b5f484197b8ddda8aadee717e",
        "IPY_MODEL_d43c68b6cd0947a0a0f46c86ff903a6e",
        "IPY_MODEL_720fbdd9cd224186b1f4d9cdfca46b02"
       ],
       "layout": "IPY_MODEL_94d44ca41cdd4fa883bee633b8aef1ce",
       "selected_index": 0,
       "titles": [
        "General",
        "Geometry",
        "Setup Info",
        "Channel-DOF-Assignments",
        "OMA Config"
       ]
      }
     },
     "358f707cee66479d83cc1397ecd8941e": {
      "model_module": "@jupyter-widgets/controls",
      "model_module_version": "2.0.0",
      "model_name": "CheckboxStyleModel",
      "state": {
       "description_width": ""
      }
     },
     "3624b576c06a4e4d8290f966d89ab809": {
      "model_module": "@jupyter-widgets/controls",
      "model_module_version": "2.0.0",
      "model_name": "TextModel",
      "state": {
       "description": "Result Directory",
       "layout": "IPY_MODEL_c2ddcd07f52742cb9caf516777e51e3b",
       "style": "IPY_MODEL_87db0e26ec95441ba532efec7e712dab",
       "value": "/home/sima9999/git/pyOMA/tests/files/measurement_1"
      }
     },
     "366c3aa5c6f24e24afb6b1d0403e5ecb": {
      "model_module": "@jupyter-widgets/controls",
      "model_module_version": "2.0.0",
      "model_name": "SliderStyleModel",
      "state": {
       "description_width": ""
      }
     },
     "3713a782ecf54ebea8bd013d4633c25b": {
      "model_module": "@jupyter-widgets/base",
      "model_module_version": "2.0.0",
      "model_name": "LayoutModel",
      "state": {
       "border_bottom": "solid 1px",
       "border_left": "solid 1px",
       "border_right": "solid 1px",
       "border_top": "solid 1px"
      }
     },
     "3790dae28bac46418df957e614706e5c": {
      "model_module": "@jupyter-widgets/base",
      "model_module_version": "2.0.0",
      "model_name": "LayoutModel",
      "state": {}
     },
     "37abfbacf222416cab8bad97a8cdae93": {
      "model_module": "@jupyter-widgets/base",
      "model_module_version": "2.0.0",
      "model_name": "LayoutModel",
      "state": {
       "height": "30px",
       "width": "100px"
      }
     },
     "37d9b2bb19734107977d6af820ef015b": {
      "model_module": "@jupyter-widgets/controls",
      "model_module_version": "2.0.0",
      "model_name": "HTMLMathStyleModel",
      "state": {
       "description_width": "",
       "font_size": null,
       "text_color": null
      }
     },
     "38175ae3b7a0420198fa4a8c285e74d6": {
      "model_module": "@jupyter-widgets/controls",
      "model_module_version": "2.0.0",
      "model_name": "ButtonModel",
      "state": {
       "description": "X",
       "layout": "IPY_MODEL_f956738966444044afea45dbdb8b5bd3",
       "style": "IPY_MODEL_7c810b4b931c43cf9b230fca3afc27c3",
       "tooltip": null
      }
     },
     "385e59632a76466a8ef85d45f9e93352": {
      "model_module": "@jupyter-widgets/controls",
      "model_module_version": "2.0.0",
      "model_name": "ButtonStyleModel",
      "state": {
       "font_family": null,
       "font_size": null,
       "font_style": null,
       "font_variant": null,
       "font_weight": null,
       "text_color": null,
       "text_decoration": null
      }
     },
     "38fb58584fec403799db556e3673d6e3": {
      "model_module": "@jupyter-widgets/base",
      "model_module_version": "2.0.0",
      "model_name": "LayoutModel",
      "state": {
       "border_bottom": "solid 1px",
       "border_left": "solid 1px",
       "border_right": "solid 1px",
       "border_top": "solid 1px",
       "width": "350px"
      }
     },
     "394f94aa2d204716b4707d994e1da061": {
      "model_module": "@jupyter-widgets/base",
      "model_module_version": "2.0.0",
      "model_name": "LayoutModel",
      "state": {}
     },
     "398bdb8f6c8c45bda05fff2e768a1b47": {
      "model_module": "@jupyter-widgets/controls",
      "model_module_version": "2.0.0",
      "model_name": "TextModel",
      "state": {
       "description": "Measurement File",
       "layout": "IPY_MODEL_c38dfcb6d2e84f3598606072e07cb02b",
       "style": "IPY_MODEL_1d5ab5f8ea254b84ad837ac35d97af1b",
       "value": "/home/sima9999/git/pyOMA/tests/files/measurement_1/measurement_1.npy"
      }
     },
     "3a3179dbac4f4c17b97caf334b6961da": {
      "model_module": "@jupyter-widgets/controls",
      "model_module_version": "2.0.0",
      "model_name": "LabelModel",
      "state": {
       "layout": "IPY_MODEL_6063c46a7ef7420fa60f8f84683bb159",
       "style": "IPY_MODEL_780fde3369614c119c0b5a571f22591b",
       "value": "Soft criteria:"
      }
     },
     "3cb5c4f03a3c4350a3d1909f47fa232a": {
      "model_module": "@jupyter-widgets/output",
      "model_module_version": "1.0.0",
      "model_name": "OutputModel",
      "state": {
       "layout": "IPY_MODEL_a077095623494f778c9b374b21d08096"
      }
     },
     "3d0f33f705cb4880b31c913e38269ab3": {
      "model_module": "@jupyter-widgets/base",
      "model_module_version": "2.0.0",
      "model_name": "LayoutModel",
      "state": {}
     },
     "3dd4cad2111842d698294828a2be2cb6": {
      "model_module": "@jupyter-widgets/controls",
      "model_module_version": "2.0.0",
      "model_name": "CheckboxStyleModel",
      "state": {
       "description_width": ""
      }
     },
     "3e5fac88eece416da9854a1862c9cceb": {
      "model_module": "@jupyter-widgets/controls",
      "model_module_version": "2.0.0",
      "model_name": "DescriptionStyleModel",
      "state": {
       "description_width": ""
      }
     },
     "3e64ca82e46a41af8400023a48960bb3": {
      "model_module": "@jupyter-widgets/controls",
      "model_module_version": "2.0.0",
      "model_name": "CheckboxModel",
      "state": {
       "description": "Show Connecting Lines",
       "disabled": false,
       "indent": false,
       "layout": "IPY_MODEL_661481b747214dd38b656d7563ae6740",
       "style": "IPY_MODEL_8461713409b14207ad77232b2e020881",
       "value": true
      }
     },
     "3ea8f0b6324143c8882fe2f46869af63": {
      "model_module": "@jupyter-widgets/controls",
      "model_module_version": "2.0.0",
      "model_name": "VBoxModel",
      "state": {
       "children": [
        "IPY_MODEL_6cc5b10222904a93b83237e5531daf92",
        "IPY_MODEL_b419de2aa6b24951996e08529edcdc21",
        "IPY_MODEL_c4131cd591a642048074007e6a3e4985",
        "IPY_MODEL_5fb6e94211af42e681042b35b79b329f",
        "IPY_MODEL_3e64ca82e46a41af8400023a48960bb3",
        "IPY_MODEL_da88b8236a47478fbe602bb11f595520",
        "IPY_MODEL_976ccc85aba44cb5a98c6740144a3b7a",
        "IPY_MODEL_691b199b58da45f0bd63fd41cb8f0736"
       ],
       "layout": "IPY_MODEL_f357880d1c78402db26e4ad04609e902"
      }
     },
     "40442266ad484cf89c74a0d6213e8911": {
      "model_module": "@jupyter-widgets/controls",
      "model_module_version": "2.0.0",
      "model_name": "VBoxModel",
      "state": {
       "children": [
        "IPY_MODEL_a698a6daccdb4bb1b90bf0aadfbcb161",
        "IPY_MODEL_a452dcdeaaaa4d4590fe6bfa9a7aa90f"
       ],
       "layout": "IPY_MODEL_f954bbd86dae421d9f1db17cbf0372ae"
      }
     },
     "428a5973baa9445384fc640e3fd049d2": {
      "model_module": "@jupyter-widgets/base",
      "model_module_version": "2.0.0",
      "model_name": "LayoutModel",
      "state": {
       "width": "800px"
      }
     },
     "436ae4fdc7eb4aa6b1a2b8a527759d4e": {
      "model_module": "@jupyter-widgets/base",
      "model_module_version": "2.0.0",
      "model_name": "LayoutModel",
      "state": {}
     },
     "43db7ae411b64fb7bc4d740987849d69": {
      "model_module": "@jupyter-widgets/base",
      "model_module_version": "2.0.0",
      "model_name": "LayoutModel",
      "state": {}
     },
     "45497391f9c7430f9b576bc6c9502091": {
      "model_module": "@jupyter-widgets/controls",
      "model_module_version": "2.0.0",
      "model_name": "TextareaModel",
      "state": {
       "layout": "IPY_MODEL_9fbf666135854dae949d054abac7a707",
       "placeholder": "Load modal analysis config file",
       "style": "IPY_MODEL_26fbe0e9c247411d95da93092df265fd",
       "value": "Begin Frequency:\n0\nEnd Frequency:\n14.5\nSamples per time segment:\n2048\nMaximum Model Order:\n50"
      }
     },
     "470401c4eeff49f594bc8ee99966419a": {
      "model_module": "@jupyter-widgets/controls",
      "model_module_version": "2.0.0",
      "model_name": "ButtonModel",
      "state": {
       "description": "Load",
       "layout": "IPY_MODEL_16729693a3184b43b839e0f7caa5de74",
       "style": "IPY_MODEL_9fd561d3918248f0abf347278bee8ae1",
       "tooltip": null
      }
     },
     "4717dfd403a24204ae8b1ae5bff36be9": {
      "model_module": "@jupyter-widgets/controls",
      "model_module_version": "2.0.0",
      "model_name": "TextModel",
      "state": {
       "description": "Lines File",
       "layout": "IPY_MODEL_e4e87c2d3bde487a881242970ba53a26",
       "style": "IPY_MODEL_981546649d494379871dae2045129562",
       "value": "/home/sima9999/git/pyOMA/tests/files/lines.txt"
      }
     },
     "47d56176094b43d28f0d621c3c068c4a": {
      "model_module": "@jupyter-widgets/controls",
      "model_module_version": "2.0.0",
      "model_name": "SliderStyleModel",
      "state": {
       "description_width": ""
      }
     },
     "47da2d8e91044d09ad89f6bb6de6bc85": {
      "model_module": "@jupyter-widgets/base",
      "model_module_version": "2.0.0",
      "model_name": "LayoutModel",
      "state": {
       "width": "800px"
      }
     },
     "48c23380a7504b6ba32939a80b1c6c03": {
      "model_module": "@jupyter-widgets/controls",
      "model_module_version": "2.0.0",
      "model_name": "CheckboxModel",
      "state": {
       "description": "Show PSD",
       "disabled": false,
       "indent": false,
       "layout": "IPY_MODEL_c6eb497fccf0478fa5138e8db0f5afe4",
       "style": "IPY_MODEL_d84270b852a2416e939cb17d03b2527b",
       "value": false
      }
     },
     "497cfd0bffc5489e8020d3c2bbd222e2": {
      "model_module": "@jupyter-widgets/base",
      "model_module_version": "2.0.0",
      "model_name": "LayoutModel",
      "state": {}
     },
     "4abeb5ce62df4cc68d15b9991e7e0aab": {
      "model_module": "@jupyter-widgets/controls",
      "model_module_version": "2.0.0",
      "model_name": "HBoxModel",
      "state": {
       "children": [
        "IPY_MODEL_3ea8f0b6324143c8882fe2f46869af63",
        "IPY_MODEL_e9db576016164c4e993bb4f24d45aa41",
        "IPY_MODEL_66d7208eb3e545bfa58586d1054a9a21",
        "IPY_MODEL_ec1096f7df5641a0a6326af5fb8d1dee"
       ],
       "layout": "IPY_MODEL_c040302caca1440e8509386f89e378f3"
      }
     },
     "4cb0750727f14b88b60b3fc8713ee488": {
      "model_module": "@jupyter-widgets/base",
      "model_module_version": "2.0.0",
      "model_name": "LayoutModel",
      "state": {}
     },
     "4cf11e12f99e47ae807b53a3e090e080": {
      "model_module": "@jupyter-widgets/base",
      "model_module_version": "2.0.0",
      "model_name": "LayoutModel",
      "state": {}
     },
     "4d5d6ced9ade4302a050f6b966583be8": {
      "model_module": "jupyter-matplotlib",
      "model_module_version": "^0.11",
      "model_name": "ToolbarModel",
      "state": {
       "_model_module_version": "^0.11",
       "_view_module_version": "^0.11",
       "collapsed": true,
       "layout": "IPY_MODEL_e79efc2dfa3949569c3449f5519209ae",
       "orientation": "vertical",
       "position": "right",
       "toolitems": [
        [
         "Home",
         "Reset original view",
         "home",
         "home"
        ],
        [
         "Back",
         "Back to previous view",
         "arrow-left",
         "back"
        ],
        [
         "Forward",
         "Forward to next view",
         "arrow-right",
         "forward"
        ],
        [
         "Pan",
         "Left button pans, Right button zooms\nx/y fixes axis, CTRL fixes aspect",
         "arrows",
         "pan"
        ],
        [
         "Zoom",
         "Zoom to rectangle\nx/y fixes axis",
         "square-o",
         "zoom"
        ],
        [
         "Download",
         "Download plot",
         "floppy-o",
         "save_figure"
        ]
       ]
      }
     },
     "4db9741a68234472b7c2517390e7f41b": {
      "model_module": "@jupyter-widgets/controls",
      "model_module_version": "2.0.0",
      "model_name": "ButtonStyleModel",
      "state": {
       "font_family": null,
       "font_size": null,
       "font_style": null,
       "font_variant": null,
       "font_weight": null,
       "text_color": null,
       "text_decoration": null
      }
     },
     "4eefa5a931cb4b7b8b8eb4fba5987204": {
      "model_module": "@jupyter-widgets/controls",
      "model_module_version": "2.0.0",
      "model_name": "ButtonStyleModel",
      "state": {
       "font_family": null,
       "font_size": null,
       "font_style": null,
       "font_variant": null,
       "font_weight": null,
       "text_color": null,
       "text_decoration": null
      }
     },
     "4f219f6754be4ec687c3f820f60b2777": {
      "model_module": "@jupyter-widgets/controls",
      "model_module_version": "2.0.0",
      "model_name": "LabelModel",
      "state": {
       "layout": "IPY_MODEL_5d28fce22c3c498d97891ad0c31b1221",
       "style": "IPY_MODEL_d89eed83d2a24c2a903345ce1ee0665f",
       "value": "Info:"
      }
     },
     "5005bfa7518044908ab58f73e1145387": {
      "model_module": "@jupyter-widgets/base",
      "model_module_version": "2.0.0",
      "model_name": "LayoutModel",
      "state": {}
     },
     "502248e06fd54ff190fa6abe7d8e3bea": {
      "model_module": "@jupyter-widgets/base",
      "model_module_version": "2.0.0",
      "model_name": "LayoutModel",
      "state": {
       "align_items": "center"
      }
     },
     "503b7a5679984610a112bc40e8ce87b1": {
      "model_module": "@jupyter-widgets/controls",
      "model_module_version": "2.0.0",
      "model_name": "ButtonStyleModel",
      "state": {
       "font_family": null,
       "font_size": null,
       "font_style": null,
       "font_variant": null,
       "font_weight": null,
       "text_color": null,
       "text_decoration": null
      }
     },
     "521afd89cb5f4a4ca2eacd19ee2d8854": {
      "model_module": "@jupyter-widgets/controls",
      "model_module_version": "2.0.0",
      "model_name": "CheckboxModel",
      "state": {
       "description": "Skip existing results",
       "disabled": false,
       "layout": "IPY_MODEL_3d0f33f705cb4880b31c913e38269ab3",
       "style": "IPY_MODEL_ef5e9b92427643338b237fecd42f1fd1",
       "value": false
      }
     },
     "529b9c95d3c24e4989514fff7912512c": {
      "model_module": "@jupyter-widgets/controls",
      "model_module_version": "2.0.0",
      "model_name": "ButtonStyleModel",
      "state": {
       "font_family": null,
       "font_size": null,
       "font_style": null,
       "font_variant": null,
       "font_weight": null,
       "text_color": null,
       "text_decoration": null
      }
     },
     "52f1990b1d774fc5bc610e384d50b55f": {
      "model_module": "@jupyter-widgets/controls",
      "model_module_version": "2.0.0",
      "model_name": "FloatSliderModel",
      "state": {
       "behavior": "drag-tap",
       "description": "MPC_min",
       "layout": "IPY_MODEL_f2350afd13f94adf886346e57c58931c",
       "max": 1,
       "step": 0.01,
       "style": "IPY_MODEL_47d56176094b43d28f0d621c3c068c4a"
      }
     },
     "5302cb957c8542a5a22769f4a6cd51e7": {
      "model_module": "@jupyter-widgets/base",
      "model_module_version": "2.0.0",
      "model_name": "LayoutModel",
      "state": {}
     },
     "53d4b2d3285144dda1afd92adbc3f654": {
      "model_module": "@jupyter-widgets/controls",
      "model_module_version": "2.0.0",
      "model_name": "TextareaModel",
      "state": {
       "layout": "IPY_MODEL_6ead13adb20848ad91425587342a2a10",
       "placeholder": "Load lines file",
       "style": "IPY_MODEL_9ef2f6dc4e4e4bf3bb598daf160ebbdb",
       "value": "node_name_1\t node_name_2\n   3   7\n   4   8\n   5   9\n   6   10\n   7   11\n   8   12\n   9   13\n   10   14\n   11   15\n   12   16\n   1   5\n   2   6\n   8   5\n   5   6\n   6   7\n   7   8\n   11   12\n   12   9\n   9   10\n   10   11\n   15   16\n   16   13\n   13   14\n   14   15\n   15   19\n   19   18\n   16   20\n   19   20\n   17   20\n   17   13\n   17   18\n   17   21\n   24   21\n   22   21\n   22   18\n   22   23\n   19   23\n   23   24\n   20   24\n   18   14"
      }
     },
     "55b6a91b9ffa4dc3bd695425c940e8c7": {
      "model_module": "@jupyter-widgets/controls",
      "model_module_version": "2.0.0",
      "model_name": "ButtonStyleModel",
      "state": {
       "font_family": null,
       "font_size": null,
       "font_style": null,
       "font_variant": null,
       "font_weight": null,
       "text_color": null,
       "text_decoration": null
      }
     },
     "574b6b87ff984071b3659502621c33f1": {
      "model_module": "@jupyter-widgets/controls",
      "model_module_version": "2.0.0",
      "model_name": "LabelStyleModel",
      "state": {
       "description_width": "",
       "font_family": null,
       "font_size": null,
       "font_style": null,
       "font_variant": null,
       "font_weight": null,
       "text_color": null,
       "text_decoration": null
      }
     },
     "5760206e00f646d9825c5274cfece192": {
      "model_module": "@jupyter-widgets/controls",
      "model_module_version": "2.0.0",
      "model_name": "TextModel",
      "state": {
       "description": "Setup Directory",
       "layout": "IPY_MODEL_0bb805d513934eb1a49e7a8d1dd84a00",
       "style": "IPY_MODEL_d195820c7ccc4b1993eacf26f7374e4f",
       "value": "/home/sima9999/git/pyOMA/tests/files/measurement_1"
      }
     },
     "5903d6c4a7d24ba48c4512054e784e17": {
      "model_module": "@jupyter-widgets/controls",
      "model_module_version": "2.0.0",
      "model_name": "ButtonModel",
      "state": {
       "icon": "play",
       "layout": "IPY_MODEL_1e48934c0e6e4673958ee668d14f45e4",
       "style": "IPY_MODEL_c8f252148aa948c6be064b5508bae442",
       "tooltip": null
      }
     },
     "5acbdadddeb74bdea01b0f70b4ae5471": {
      "model_module": "@jupyter-widgets/controls",
      "model_module_version": "2.0.0",
      "model_name": "ButtonModel",
      "state": {
       "description": "Save",
       "layout": "IPY_MODEL_f003e50423de4c438529be81bb7d8693",
       "style": "IPY_MODEL_c25812d2e0a94939b997488c2df93259",
       "tooltip": null
      }
     },
     "5acbe2508aee47fb8de1a653e3338552": {
      "model_module": "@jupyter-widgets/controls",
      "model_module_version": "2.0.0",
      "model_name": "LabelStyleModel",
      "state": {
       "description_width": "",
       "font_family": null,
       "font_size": null,
       "font_style": null,
       "font_variant": null,
       "font_weight": null,
       "text_color": null,
       "text_decoration": null
      }
     },
     "5af244160f824744be004473f724e42c": {
      "model_module": "@jupyter-widgets/base",
      "model_module_version": "2.0.0",
      "model_name": "LayoutModel",
      "state": {}
     },
     "5bfa6e5bcb2b4c659818db97d828fc00": {
      "model_module": "@jupyter-widgets/base",
      "model_module_version": "2.0.0",
      "model_name": "LayoutModel",
      "state": {}
     },
     "5cebd50eacbf46d2bc41963dff68f3b0": {
      "model_module": "@jupyter-widgets/base",
      "model_module_version": "2.0.0",
      "model_name": "LayoutModel",
      "state": {}
     },
     "5d28fce22c3c498d97891ad0c31b1221": {
      "model_module": "@jupyter-widgets/base",
      "model_module_version": "2.0.0",
      "model_name": "LayoutModel",
      "state": {}
     },
     "5e20ce994f0e4dd581feddb732ae3f22": {
      "model_module": "@jupyter-widgets/base",
      "model_module_version": "2.0.0",
      "model_name": "LayoutModel",
      "state": {}
     },
     "5e5dd0fcff8b45879c0d37f1c1ee32d5": {
      "model_module": "@jupyter-widgets/base",
      "model_module_version": "2.0.0",
      "model_name": "LayoutModel",
      "state": {}
     },
     "5fb6e94211af42e681042b35b79b329f": {
      "model_module": "@jupyter-widgets/controls",
      "model_module_version": "2.0.0",
      "model_name": "CheckboxModel",
      "state": {
       "description": "Show Lines",
       "disabled": false,
       "indent": false,
       "layout": "IPY_MODEL_d07af7625fe04e0380a7425c1609dd00",
       "style": "IPY_MODEL_d3e64376c5484ceca053fd0ae1e90568",
       "value": true
      }
     },
     "6063c46a7ef7420fa60f8f84683bb159": {
      "model_module": "@jupyter-widgets/base",
      "model_module_version": "2.0.0",
      "model_name": "LayoutModel",
      "state": {}
     },
     "61cfa379d8fe4cfa9d0551351423f464": {
      "model_module": "@jupyter-widgets/controls",
      "model_module_version": "2.0.0",
      "model_name": "LabelStyleModel",
      "state": {
       "description_width": "",
       "font_family": null,
       "font_size": null,
       "font_style": null,
       "font_variant": null,
       "font_weight": null,
       "text_color": null,
       "text_decoration": null
      }
     },
     "64a2743548af48bf868d7f09b2dc7b72": {
      "model_module": "@jupyter-widgets/base",
      "model_module_version": "2.0.0",
      "model_name": "LayoutModel",
      "state": {
       "width": "800px"
      }
     },
     "64b316baa30d4c428fed0e1e066a7718": {
      "model_module": "jupyter-matplotlib",
      "model_module_version": "^0.11",
      "model_name": "MPLCanvasModel",
      "state": {
       "_cursor": "default",
       "_data_url": "data:image/png;base64,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",
       "_figure_label": "Figure 0",
       "_message": "x=119.0501, y=81.1413, z=−39.5271",
       "_model_module_version": "^0.11",
       "_size": [
        850.3939947419401,
        525.5723925793184
       ],
       "_view_module_version": "^0.11",
       "footer_visible": false,
       "header_visible": false,
       "layout": "IPY_MODEL_5cebd50eacbf46d2bc41963dff68f3b0",
       "resizable": false,
       "toolbar": "IPY_MODEL_4d5d6ced9ade4302a050f6b966583be8",
       "toolbar_position": "right"
      }
     },
     "64c3f1e76a2f4b4f849c11d98cb598d2": {
      "model_module": "@jupyter-widgets/controls",
      "model_module_version": "2.0.0",
      "model_name": "HBoxModel",
      "state": {
       "children": [
        "IPY_MODEL_38175ae3b7a0420198fa4a8c285e74d6",
        "IPY_MODEL_cc7b7469505a47b1b0ebec432db85ff9",
        "IPY_MODEL_ca3d4ff40d97489b9a9e80911b20aa18",
        "IPY_MODEL_79fd0d4a4e914da1a7c6d669fbb18053"
       ],
       "layout": "IPY_MODEL_97a3318866f6493d9f75cb8064e0ab58"
      }
     },
     "661481b747214dd38b656d7563ae6740": {
      "model_module": "@jupyter-widgets/base",
      "model_module_version": "2.0.0",
      "model_name": "LayoutModel",
      "state": {
       "height": "30px",
       "width": "170px"
      }
     },
     "66d7208eb3e545bfa58586d1054a9a21": {
      "model_module": "@jupyter-widgets/controls",
      "model_module_version": "2.0.0",
      "model_name": "VBoxModel",
      "state": {
       "children": [
        "IPY_MODEL_d32db302953845d3ac580bcc0b3f422a",
        "IPY_MODEL_91e92d2b976a4e9ca0c2918dfcc01528",
        "IPY_MODEL_ae29711882cb4fadada3c1455e9c6042",
        "IPY_MODEL_b44fc857d2164070b1ca40a62406d504",
        "IPY_MODEL_1f1b3774c11e4dd8b71cf3265708f11e",
        "IPY_MODEL_8a4f0086b47f432f913886636414cee2"
       ],
       "layout": "IPY_MODEL_3713a782ecf54ebea8bd013d4633c25b"
      }
     },
     "68754ce8129941de972bdecdf021ea3f": {
      "model_module": "@jupyter-widgets/controls",
      "model_module_version": "2.0.0",
      "model_name": "DescriptionStyleModel",
      "state": {
       "description_width": ""
      }
     },
     "68cedd378c9e4668ba117da14b792744": {
      "model_module": "@jupyter-widgets/controls",
      "model_module_version": "2.0.0",
      "model_name": "CheckboxStyleModel",
      "state": {
       "description_width": ""
      }
     },
     "691b199b58da45f0bd63fd41cb8f0736": {
      "model_module": "@jupyter-widgets/controls",
      "model_module_version": "2.0.0",
      "model_name": "CheckboxModel",
      "state": {
       "description": "Show Channel-DOF Assignm.",
       "disabled": false,
       "indent": false,
       "layout": "IPY_MODEL_b0bdd1f697234190878a191ae46b4095",
       "style": "IPY_MODEL_3dd4cad2111842d698294828a2be2cb6",
       "value": false
      }
     },
     "697966f8a10c4eddadd89d078fd1ab1a": {
      "model_module": "@jupyter-widgets/controls",
      "model_module_version": "2.0.0",
      "model_name": "TextModel",
      "state": {
       "description": "Nodes File",
       "layout": "IPY_MODEL_8e9ae0772eee4a93b447d7fb18911dbf",
       "style": "IPY_MODEL_9bd9a2b357df4f7aa2106b4d9ed57e09",
       "value": "/home/sima9999/git/pyOMA/tests/files/grid.txt"
      }
     },
     "6c6571d0439b47c09f4f175ab8e81e7e": {
      "model_module": "@jupyter-widgets/controls",
      "model_module_version": "2.0.0",
      "model_name": "TextModel",
      "state": {
       "description": "Project Directory",
       "layout": "IPY_MODEL_47da2d8e91044d09ad89f6bb6de6bc85",
       "style": "IPY_MODEL_d5eda39594b447da90a831d8642d078a",
       "value": "/home/sima9999/git/pyOMA/tests/files"
      }
     },
     "6cc5b10222904a93b83237e5531daf92": {
      "model_module": "@jupyter-widgets/controls",
      "model_module_version": "2.0.0",
      "model_name": "LabelModel",
      "state": {
       "layout": "IPY_MODEL_14aab63fe88e497e95c7847ee19ba398",
       "style": "IPY_MODEL_5acbe2508aee47fb8de1a653e3338552",
       "value": "Options:"
      }
     },
     "6d1785e24b1f41cbb29298947cdf7e37": {
      "model_module": "@jupyter-widgets/controls",
      "model_module_version": "2.0.0",
      "model_name": "SliderStyleModel",
      "state": {
       "description_width": ""
      }
     },
     "6ead13adb20848ad91425587342a2a10": {
      "model_module": "@jupyter-widgets/base",
      "model_module_version": "2.0.0",
      "model_name": "LayoutModel",
      "state": {
       "height": "400px",
       "width": "800px"
      }
     },
     "6ec9476bc6a54df4af939511b89d271d": {
      "model_module": "@jupyter-widgets/controls",
      "model_module_version": "2.0.0",
      "model_name": "LabelModel",
      "state": {
       "layout": "IPY_MODEL_3790dae28bac46418df957e614706e5c",
       "style": "IPY_MODEL_2ff73396016c4e5aa2cb00e8640af448",
       "value": "Left click to rotate, middle click to pan, right click to zoom."
      }
     },
     "6f0160c40606469b9c6df49ee53f2af8": {
      "model_module": "@jupyter-widgets/base",
      "model_module_version": "2.0.0",
      "model_name": "LayoutModel",
      "state": {
       "height": "400px",
       "width": "800px"
      }
     },
     "6fcf95a95f38420990cfceb86ca7d0ef": {
      "model_module": "@jupyter-widgets/base",
      "model_module_version": "2.0.0",
      "model_name": "LayoutModel",
      "state": {}
     },
     "70ccd03e0b8b479abd8d79cfc75100fc": {
      "model_module": "@jupyter-widgets/base",
      "model_module_version": "2.0.0",
      "model_name": "LayoutModel",
      "state": {
       "width": "800px"
      }
     },
     "710782e316de404bbffe1c1a5a14d45e": {
      "model_module": "@jupyter-widgets/base",
      "model_module_version": "2.0.0",
      "model_name": "LayoutModel",
      "state": {
       "height": "30px",
       "width": "30px"
      }
     },
     "720fbdd9cd224186b1f4d9cdfca46b02": {
      "model_module": "@jupyter-widgets/controls",
      "model_module_version": "2.0.0",
      "model_name": "VBoxModel",
      "state": {
       "children": [
        "IPY_MODEL_eb8e30faa6b94f4288113dcb5656a400",
        "IPY_MODEL_45497391f9c7430f9b576bc6c9502091",
        "IPY_MODEL_dd15fd36ead440fbab0b394be7412ef6"
       ],
       "layout": "IPY_MODEL_f052b58acc54459cb3e0ee0329f49494"
      }
     },
     "72dea6d078874e88afed99f4fa67855f": {
      "model_module": "@jupyter-widgets/controls",
      "model_module_version": "2.0.0",
      "model_name": "TextareaModel",
      "state": {
       "layout": "IPY_MODEL_c7289d8d7a61474ca0b51db14bc82fa7",
       "placeholder": "Load channel-DOF-assignments file",
       "style": "IPY_MODEL_0adce065fd354112a7da33845f0a5928",
       "value": "Channel-Nr.\tNode\tAzimuth\tElevation\tChannel Name\n0\t5\t28.86587619188732\t-8.695480642236125\tvib_l\n1\t5\t80.97701187878498\t-7.3090246040909514\tvib_r\n2\t5\t55.87930714013499\t29.34874066364139\tvib_t\n3\t24\t0.0\t180.0\tref_x\n4\t24\t-90.0\t0.0\tref_y\n5\t24\t0.0\t90.0\tref_z\n"
      }
     },
     "746de3a61de44cba8f635ad54efd2f1d": {
      "model_module": "@jupyter-widgets/output",
      "model_module_version": "1.0.0",
      "model_name": "OutputModel",
      "state": {
       "layout": "IPY_MODEL_805f445ed50746418232f349fe1a7a0f"
      }
     },
     "75c1cd1613cd49a2a36d74778d52b21e": {
      "model_module": "@jupyter-widgets/controls",
      "model_module_version": "2.0.0",
      "model_name": "ButtonModel",
      "state": {
       "description": "Save",
       "layout": "IPY_MODEL_ecd03160224b43aea107210196111501",
       "style": "IPY_MODEL_1058d1a5f0f84dc894f5bbf17a14891d",
       "tooltip": null
      }
     },
     "780fde3369614c119c0b5a571f22591b": {
      "model_module": "@jupyter-widgets/controls",
      "model_module_version": "2.0.0",
      "model_name": "LabelStyleModel",
      "state": {
       "description_width": "",
       "font_family": null,
       "font_size": null,
       "font_style": null,
       "font_variant": null,
       "font_weight": null,
       "text_color": null,
       "text_decoration": null
      }
     },
     "79fd0d4a4e914da1a7c6d669fbb18053": {
      "model_module": "@jupyter-widgets/controls",
      "model_module_version": "2.0.0",
      "model_name": "ButtonModel",
      "state": {
       "description": "ISO",
       "layout": "IPY_MODEL_d42744f81622455c9c338404a696a997",
       "style": "IPY_MODEL_385e59632a76466a8ef85d45f9e93352",
       "tooltip": null
      }
     },
     "7bda18dc61e440e0a300dc1fa766cb9a": {
      "model_module": "@jupyter-widgets/controls",
      "model_module_version": "2.0.0",
      "model_name": "DescriptionStyleModel",
      "state": {
       "description_width": ""
      }
     },
     "7c810b4b931c43cf9b230fca3afc27c3": {
      "model_module": "@jupyter-widgets/controls",
      "model_module_version": "2.0.0",
      "model_name": "ButtonStyleModel",
      "state": {
       "font_family": null,
       "font_size": null,
       "font_style": null,
       "font_variant": null,
       "font_weight": null,
       "text_color": null,
       "text_decoration": null
      }
     },
     "7dc21b90631e44459470d9cf25c89501": {
      "model_module": "@jupyter-widgets/controls",
      "model_module_version": "2.0.0",
      "model_name": "VBoxModel",
      "state": {
       "children": [
        "IPY_MODEL_64b316baa30d4c428fed0e1e066a7718",
        "IPY_MODEL_6ec9476bc6a54df4af939511b89d271d",
        "IPY_MODEL_4abeb5ce62df4cc68d15b9991e7e0aab",
        "IPY_MODEL_746de3a61de44cba8f635ad54efd2f1d"
       ],
       "layout": "IPY_MODEL_9a1fc266e27440bfbead39e4887405fd"
      }
     },
     "7eabca04a7454cdb8acf51780ae43e88": {
      "model_module": "@jupyter-widgets/base",
      "model_module_version": "2.0.0",
      "model_name": "LayoutModel",
      "state": {}
     },
     "7f40c2728b22488d9214671d3b5e5a63": {
      "model_module": "@jupyter-widgets/controls",
      "model_module_version": "2.0.0",
      "model_name": "CheckboxStyleModel",
      "state": {
       "description_width": ""
      }
     },
     "805f445ed50746418232f349fe1a7a0f": {
      "model_module": "@jupyter-widgets/base",
      "model_module_version": "2.0.0",
      "model_name": "LayoutModel",
      "state": {
       "border_bottom": "1px solid black",
       "border_left": "1px solid black",
       "border_right": "1px solid black",
       "border_top": "1px solid black",
       "height": "160px",
       "overflow": "scroll",
       "width": "80%"
      }
     },
     "809b3266c4074e1a9dfe508089039595": {
      "model_module": "@jupyter-widgets/base",
      "model_module_version": "2.0.0",
      "model_name": "LayoutModel",
      "state": {}
     },
     "824c22118afc4c64841e178339fb226c": {
      "model_module": "@jupyter-widgets/controls",
      "model_module_version": "2.0.0",
      "model_name": "HTMLMathModel",
      "state": {
       "layout": "IPY_MODEL_da243412fa1747eda8ab71bf8840cc74",
       "style": "IPY_MODEL_e3ec5e4cb22a4dc6ac33f0d53c68e486",
       "value": "<table>\n<tr>\n<td> Frequency [Hz]:</td>\n <td> 12.160 </td>\n</tr>\n<tr>\n<td> Model order:</td>\n <td> 19 </td>\n</tr>\n<tr>\n<td> Damping [%]:</td>\n <td> 0.144 </td>\n</tr>\n<tr>\n<td> MPC [-]:</td>\n <td> 0.99979 </td>\n</tr>\n<tr>\n<td> MP  [°]:</td>\n <td> 0.354 </td>\n</tr>\n<tr>\n<td> MPD [-]:</td>\n <td> 0.38340 </td>\n</tr>\n<tr>\n<td> dMP  [°]:</td>\n <td> 0.078 </td>\n</tr>\n</table>"
      }
     },
     "8461713409b14207ad77232b2e020881": {
      "model_module": "@jupyter-widgets/controls",
      "model_module_version": "2.0.0",
      "model_name": "CheckboxStyleModel",
      "state": {
       "description_width": ""
      }
     },
     "8641b767347f405285c180aee97644dc": {
      "model_module": "@jupyter-widgets/base",
      "model_module_version": "2.0.0",
      "model_name": "LayoutModel",
      "state": {}
     },
     "86c67e560fa9404cbd53765c97d58b17": {
      "model_module": "@jupyter-widgets/controls",
      "model_module_version": "2.0.0",
      "model_name": "SliderStyleModel",
      "state": {
       "description_width": ""
      }
     },
     "87d79f8f19fa41ef87b9fb15fe6a6f94": {
      "model_module": "@jupyter-widgets/controls",
      "model_module_version": "2.0.0",
      "model_name": "HTMLMathModel",
      "state": {
       "layout": "IPY_MODEL_43db7ae411b64fb7bc4d740987849d69",
       "style": "IPY_MODEL_37d9b2bb19734107977d6af820ef015b",
       "value": "<table>\n<tr>\n<td> Frequency [Hz]:</td>\n <td> 12.594 </td>\n</tr>\n<tr>\n<td> Model order:</td>\n <td> 28 </td>\n</tr>\n<tr>\n<td> Damping [%]:</td>\n <td> 0.259 </td>\n</tr>\n<tr>\n<td> MPC [-]:</td>\n <td> 0.99797 </td>\n</tr>\n<tr>\n<td> MP  [°]:</td>\n <td> 0.318 </td>\n</tr>\n<tr>\n<td> MPD [-]:</td>\n <td> 0.91546 </td>\n</tr>\n<tr>\n<td> dMP  [°]:</td>\n <td> 0.176 </td>\n</tr>\n</table>"
      }
     },
     "87db0e26ec95441ba532efec7e712dab": {
      "model_module": "@jupyter-widgets/controls",
      "model_module_version": "2.0.0",
      "model_name": "TextStyleModel",
      "state": {
       "description_width": "200px",
       "font_size": null,
       "text_color": null
      }
     },
     "885e5547b24144d48da78c85cf52941c": {
      "model_module": "@jupyter-widgets/base",
      "model_module_version": "2.0.0",
      "model_name": "LayoutModel",
      "state": {
       "height": "30px",
       "width": "180px"
      }
     },
     "89a6c7889f79409a89eeb7f4947051b5": {
      "model_module": "@jupyter-widgets/controls",
      "model_module_version": "2.0.0",
      "model_name": "HBoxModel",
      "state": {
       "children": [
        "IPY_MODEL_19b66e7eeca64da7b8902194a5147a03",
        "IPY_MODEL_5acbdadddeb74bdea01b0f70b4ae5471"
       ],
       "layout": "IPY_MODEL_22bdd337f7b54c8195e5644a657c870e"
      }
     },
     "89bab77e2ce94cc6bb4c3aa118c8c8d1": {
      "model_module": "@jupyter-widgets/controls",
      "model_module_version": "2.0.0",
      "model_name": "ButtonModel",
      "state": {
       "description": "Load",
       "layout": "IPY_MODEL_1cd679083e4c456a96ea1e40ea0253d4",
       "style": "IPY_MODEL_03e5f970e9bc41af929017802349fb11",
       "tooltip": null
      }
     },
     "8a4f0086b47f432f913886636414cee2": {
      "model_module": "@jupyter-widgets/controls",
      "model_module_version": "2.0.0",
      "model_name": "ButtonModel",
      "state": {
       "description": "Reload Mode Selection",
       "layout": "IPY_MODEL_0242c0b5101b40eaaebe06185bfcc70e",
       "style": "IPY_MODEL_278488d8141d4994adc8af1eb2cb60a4",
       "tooltip": null
      }
     },
     "8c82c45abbf041f38f7e54c578ebc70f": {
      "model_module": "@jupyter-widgets/controls",
      "model_module_version": "2.0.0",
      "model_name": "ButtonStyleModel",
      "state": {
       "font_family": null,
       "font_size": null,
       "font_style": null,
       "font_variant": null,
       "font_weight": null,
       "text_color": null,
       "text_decoration": null
      }
     },
     "8ce34b15468d426197b2a3a2f0bafebb": {
      "model_module": "@jupyter-widgets/base",
      "model_module_version": "2.0.0",
      "model_name": "LayoutModel",
      "state": {
       "border_bottom": "solid 1px",
       "border_left": "solid 1px",
       "border_right": "solid 1px",
       "border_top": "solid 1px",
       "width": "350px"
      }
     },
     "8dfae25ca85d489da484b1168ceb5a29": {
      "model_module": "@jupyter-widgets/controls",
      "model_module_version": "2.0.0",
      "model_name": "ButtonModel",
      "state": {
       "description": "Save",
       "layout": "IPY_MODEL_497cfd0bffc5489e8020d3c2bbd222e2",
       "style": "IPY_MODEL_503b7a5679984610a112bc40e8ce87b1",
       "tooltip": null
      }
     },
     "8e9ae0772eee4a93b447d7fb18911dbf": {
      "model_module": "@jupyter-widgets/base",
      "model_module_version": "2.0.0",
      "model_name": "LayoutModel",
      "state": {
       "width": "800px"
      }
     },
     "8eabb5ba30894cb0867375bab77bb2f6": {
      "model_module": "@jupyter-widgets/controls",
      "model_module_version": "2.0.0",
      "model_name": "CheckboxModel",
      "state": {
       "description": "All poles",
       "disabled": false,
       "indent": false,
       "layout": "IPY_MODEL_9f0aa81e612145569dfde8b499fc525f",
       "style": "IPY_MODEL_68cedd378c9e4668ba117da14b792744",
       "value": true
      }
     },
     "90c6e11ba26047abb4d12bf60b76f6ab": {
      "model_module": "@jupyter-widgets/controls",
      "model_module_version": "2.0.0",
      "model_name": "ButtonStyleModel",
      "state": {
       "font_family": null,
       "font_size": null,
       "font_style": null,
       "font_variant": null,
       "font_weight": null,
       "text_color": null,
       "text_decoration": null
      }
     },
     "91e92d2b976a4e9ca0c2918dfcc01528": {
      "model_module": "@jupyter-widgets/controls",
      "model_module_version": "2.0.0",
      "model_name": "DropdownModel",
      "state": {
       "_options_labels": [
        "1.231",
        "1.434",
        "2.100",
        "4.017",
        "4.774",
        "6.678",
        "7.620",
        "9.665",
        "12.160",
        "12.594"
       ],
       "index": 9,
       "layout": "IPY_MODEL_cca4d8ac57bc407992101276b371e701",
       "style": "IPY_MODEL_7bda18dc61e440e0a300dc1fa766cb9a"
      }
     },
     "94d44ca41cdd4fa883bee633b8aef1ce": {
      "model_module": "@jupyter-widgets/base",
      "model_module_version": "2.0.0",
      "model_name": "LayoutModel",
      "state": {}
     },
     "954a71d9d27f4424a6098cc583b0cf2f": {
      "model_module": "@jupyter-widgets/base",
      "model_module_version": "2.0.0",
      "model_name": "LayoutModel",
      "state": {}
     },
     "96af54839bda427ab131e0b77e360a0c": {
      "model_module": "@jupyter-widgets/controls",
      "model_module_version": "2.0.0",
      "model_name": "CheckboxStyleModel",
      "state": {
       "description_width": ""
      }
     },
     "96f3eb12460642358ce916952814bda9": {
      "model_module": "@jupyter-widgets/base",
      "model_module_version": "2.0.0",
      "model_name": "LayoutModel",
      "state": {
       "height": "30px",
       "width": "200px"
      }
     },
     "976ccc85aba44cb5a98c6740144a3b7a": {
      "model_module": "@jupyter-widgets/controls",
      "model_module_version": "2.0.0",
      "model_name": "CheckboxModel",
      "state": {
       "description": "Show Parent-Child Assignm.",
       "disabled": false,
       "indent": false,
       "layout": "IPY_MODEL_96f3eb12460642358ce916952814bda9",
       "style": "IPY_MODEL_96af54839bda427ab131e0b77e360a0c",
       "value": false
      }
     },
     "97a3318866f6493d9f75cb8064e0ab58": {
      "model_module": "@jupyter-widgets/base",
      "model_module_version": "2.0.0",
      "model_name": "LayoutModel",
      "state": {}
     },
     "981546649d494379871dae2045129562": {
      "model_module": "@jupyter-widgets/controls",
      "model_module_version": "2.0.0",
      "model_name": "TextStyleModel",
      "state": {
       "description_width": "200px",
       "font_size": null,
       "text_color": null
      }
     },
     "9a1fc266e27440bfbead39e4887405fd": {
      "model_module": "@jupyter-widgets/base",
      "model_module_version": "2.0.0",
      "model_name": "LayoutModel",
      "state": {
       "align_items": "center"
      }
     },
     "9a4a8d31c9444f53a0f289120e53965f": {
      "model_module": "@jupyter-widgets/base",
      "model_module_version": "2.0.0",
      "model_name": "LayoutModel",
      "state": {}
     },
     "9a4ffce6107b4d279c845ae8c503bb13": {
      "model_module": "@jupyter-widgets/controls",
      "model_module_version": "2.0.0",
      "model_name": "HBoxModel",
      "state": {
       "children": [
        "IPY_MODEL_521afd89cb5f4a4ca2eacd19ee2d8854",
        "IPY_MODEL_ae49e743885c42eb9d45d6ee9837f4da"
       ],
       "layout": "IPY_MODEL_c4789795fef04d849be95e46e06c7cf8"
      }
     },
     "9b06b24e670e426ea30a206c16bcf328": {
      "model_module": "@jupyter-widgets/controls",
      "model_module_version": "2.0.0",
      "model_name": "FloatSliderModel",
      "state": {
       "behavior": "drag-tap",
       "description": "Roll",
       "layout": "IPY_MODEL_1c70fa1d8fdb43d3a1fed2775c96dbc3",
       "max": 180,
       "min": -180,
       "style": "IPY_MODEL_1828a460b400407e91edbf7b5dd96900"
      }
     },
     "9bd9a2b357df4f7aa2106b4d9ed57e09": {
      "model_module": "@jupyter-widgets/controls",
      "model_module_version": "2.0.0",
      "model_name": "TextStyleModel",
      "state": {
       "description_width": "200px",
       "font_size": null,
       "text_color": null
      }
     },
     "9bf35315b3f04b02bf14a9426a4db57d": {
      "model_module": "@jupyter-widgets/controls",
      "model_module_version": "2.0.0",
      "model_name": "LabelStyleModel",
      "state": {
       "description_width": "",
       "font_family": null,
       "font_size": null,
       "font_style": null,
       "font_variant": null,
       "font_weight": null,
       "text_color": null,
       "text_decoration": null
      }
     },
     "9c1c3beabe414cc38f4a8954c63da8e9": {
      "model_module": "@jupyter-widgets/controls",
      "model_module_version": "2.0.0",
      "model_name": "ButtonModel",
      "state": {
       "description": "Reset",
       "layout": "IPY_MODEL_954a71d9d27f4424a6098cc583b0cf2f",
       "style": "IPY_MODEL_4eefa5a931cb4b7b8b8eb4fba5987204",
       "tooltip": null
      }
     },
     "9ef2f6dc4e4e4bf3bb598daf160ebbdb": {
      "model_module": "@jupyter-widgets/controls",
      "model_module_version": "2.0.0",
      "model_name": "TextStyleModel",
      "state": {
       "description_width": "",
       "font_size": null,
       "text_color": null
      }
     },
     "9f0aa81e612145569dfde8b499fc525f": {
      "model_module": "@jupyter-widgets/base",
      "model_module_version": "2.0.0",
      "model_name": "LayoutModel",
      "state": {
       "width": "100px"
      }
     },
     "9f39b51aadd84375b96e34ceb08c5393": {
      "model_module": "@jupyter-widgets/controls",
      "model_module_version": "2.0.0",
      "model_name": "SliderStyleModel",
      "state": {
       "description_width": ""
      }
     },
     "9fbf666135854dae949d054abac7a707": {
      "model_module": "@jupyter-widgets/base",
      "model_module_version": "2.0.0",
      "model_name": "LayoutModel",
      "state": {
       "height": "400px",
       "width": "800px"
      }
     },
     "9fd561d3918248f0abf347278bee8ae1": {
      "model_module": "@jupyter-widgets/controls",
      "model_module_version": "2.0.0",
      "model_name": "ButtonStyleModel",
      "state": {
       "font_family": null,
       "font_size": null,
       "font_style": null,
       "font_variant": null,
       "font_weight": null,
       "text_color": null,
       "text_decoration": null
      }
     },
     "a077095623494f778c9b374b21d08096": {
      "model_module": "@jupyter-widgets/base",
      "model_module_version": "2.0.0",
      "model_name": "LayoutModel",
      "state": {
       "border_bottom": "1px solid black",
       "border_left": "1px solid black",
       "border_right": "1px solid black",
       "border_top": "1px solid black",
       "height": "160px",
       "overflow": "scroll",
       "width": "1360px"
      }
     },
     "a12fba531ef048a0ba55c9b89a52053f": {
      "model_module": "@jupyter-widgets/controls",
      "model_module_version": "2.0.0",
      "model_name": "FloatSliderModel",
      "state": {
       "behavior": "drag-tap",
       "description": "Azimuth",
       "layout": "IPY_MODEL_2b253179290e4c52ac47dc2abe1229dd",
       "max": 180,
       "min": -180,
       "style": "IPY_MODEL_cf75a661580948669461e1f2224debae",
       "value": -60
      }
     },
     "a1e18f4249bf44aa8290542db14e3e6f": {
      "model_module": "@jupyter-widgets/controls",
      "model_module_version": "2.0.0",
      "model_name": "TabModel",
      "state": {
       "children": [
        "IPY_MODEL_c6cc6b66264441c6a8289c92b8504abb",
        "IPY_MODEL_c0827d3518ad4d478a0ae79791fcce73",
        "IPY_MODEL_1847f069a4704e358a555dd3dcc59610"
       ],
       "layout": "IPY_MODEL_120f8a9635b747618c63aaf2ead44a3d",
       "selected_index": 0,
       "titles": [
        "Nodes",
        "Lines",
        "Parent-Child-Assignments"
       ]
      }
     },
     "a1e3c71c144b4c2d981b93795a638b38": {
      "model_module": "jupyter-matplotlib",
      "model_module_version": "^0.11",
      "model_name": "ToolbarModel",
      "state": {
       "_model_module_version": "^0.11",
       "_view_module_version": "^0.11",
       "collapsed": true,
       "layout": "IPY_MODEL_4cb0750727f14b88b60b3fc8713ee488",
       "orientation": "vertical",
       "position": "right",
       "toolitems": [
        [
         "Home",
         "Reset original view",
         "home",
         "home"
        ],
        [
         "Back",
         "Back to previous view",
         "arrow-left",
         "back"
        ],
        [
         "Forward",
         "Forward to next view",
         "arrow-right",
         "forward"
        ],
        [
         "Pan",
         "Left button pans, Right button zooms\nx/y fixes axis, CTRL fixes aspect",
         "arrows",
         "pan"
        ],
        [
         "Zoom",
         "Zoom to rectangle\nx/y fixes axis",
         "square-o",
         "zoom"
        ],
        [
         "Download",
         "Download plot",
         "floppy-o",
         "save_figure"
        ]
       ]
      }
     },
     "a452dcdeaaaa4d4590fe6bfa9a7aa90f": {
      "model_module": "@jupyter-widgets/controls",
      "model_module_version": "2.0.0",
      "model_name": "HTMLMathModel",
      "state": {
       "layout": "IPY_MODEL_5af244160f824744be004473f724e42c",
       "style": "IPY_MODEL_d6175e480c7e41ab821c62a15446b5b0",
       "value": "<table>\n<tr>\n<td> Frequency [Hz]:</td>\n <td> 12.594 </td>\n</tr>\n<tr>\n<td> Model order:</td>\n <td> 28 </td>\n</tr>\n<tr>\n<td> Damping [%]:</td>\n <td> 0.259 </td>\n</tr>\n<tr>\n<td> MPC [-]:</td>\n <td> 0.99797 </td>\n</tr>\n<tr>\n<td> MP  [°]:</td>\n <td> 0.318 </td>\n</tr>\n<tr>\n<td> MPD [-]:</td>\n <td> 0.91546 </td>\n</tr>\n<tr>\n<td> dMP  [°]:</td>\n <td> 0.176 </td>\n</tr>\n</table>"
      }
     },
     "a698a6daccdb4bb1b90bf0aadfbcb161": {
      "model_module": "@jupyter-widgets/controls",
      "model_module_version": "2.0.0",
      "model_name": "DropdownModel",
      "state": {
       "_options_labels": [
        "1.231",
        "1.434",
        "2.100",
        "4.017",
        "4.774",
        "6.678",
        "7.620",
        "9.665",
        "12.160",
        "12.594"
       ],
       "description": "Selected mode:",
       "index": 9,
       "layout": "IPY_MODEL_084a6d2ea6f34c25b592d597cf8d5ee9",
       "style": "IPY_MODEL_dde480be6ddc48a6b3c5f93304052b6a"
      }
     },
     "aa10a90975124a898fe4ea90788ae3d2": {
      "model_module": "@jupyter-widgets/base",
      "model_module_version": "2.0.0",
      "model_name": "LayoutModel",
      "state": {
       "height": "400px",
       "width": "800px"
      }
     },
     "ae29711882cb4fadada3c1455e9c6042": {
      "model_module": "@jupyter-widgets/controls",
      "model_module_version": "2.0.0",
      "model_name": "FloatTextModel",
      "state": {
       "description": "Amplitude",
       "layout": "IPY_MODEL_436ae4fdc7eb4aa6b1a2b8a527759d4e",
       "step": null,
       "style": "IPY_MODEL_3e5fac88eece416da9854a1862c9cceb",
       "value": 20
      }
     },
     "ae49e743885c42eb9d45d6ee9837f4da": {
      "model_module": "@jupyter-widgets/controls",
      "model_module_version": "2.0.0",
      "model_name": "CheckboxModel",
      "state": {
       "description": "Save new results",
       "disabled": false,
       "layout": "IPY_MODEL_2710e484f2a240ab948a8a3edd220184",
       "style": "IPY_MODEL_137851ca6036458f816f9253bcdc41c0",
       "value": false
      }
     },
     "b0bdd1f697234190878a191ae46b4095": {
      "model_module": "@jupyter-widgets/base",
      "model_module_version": "2.0.0",
      "model_name": "LayoutModel",
      "state": {
       "height": "30px",
       "width": "190px"
      }
     },
     "b1525a0d15c546a5a7e356fe8f8b55c9": {
      "model_module": "@jupyter-widgets/controls",
      "model_module_version": "2.0.0",
      "model_name": "HBoxModel",
      "state": {
       "children": [
        "IPY_MODEL_1ca7342c653145ff8316f7fea4bfd034",
        "IPY_MODEL_ed8fde2c6ea348fd845eabc2e09ce3b4"
       ],
       "layout": "IPY_MODEL_11d6927186dc4f3688631dc583e6ea7e"
      }
     },
     "b158a95929954e13964cc8b71d99ac82": {
      "model_module": "@jupyter-widgets/controls",
      "model_module_version": "2.0.0",
      "model_name": "LabelModel",
      "state": {
       "layout": "IPY_MODEL_8641b767347f405285c180aee97644dc",
       "style": "IPY_MODEL_61cfa379d8fe4cfa9d0551351423f464",
       "value": "View:"
      }
     },
     "b278cc26c45d4f56a0e8155e10ce9d81": {
      "model_module": "@jupyter-widgets/controls",
      "model_module_version": "2.0.0",
      "model_name": "LabelStyleModel",
      "state": {
       "description_width": "",
       "font_family": null,
       "font_size": null,
       "font_style": null,
       "font_variant": null,
       "font_weight": null,
       "text_color": null,
       "text_decoration": null
      }
     },
     "b2e0e1df8af442658b1c4dc8b7ebe997": {
      "model_module": "@jupyter-widgets/controls",
      "model_module_version": "2.0.0",
      "model_name": "FloatLogSliderModel",
      "state": {
       "behavior": "drag-tap",
       "description": "Damping [%]",
       "layout": "IPY_MODEL_809b3266c4074e1a9dfe508089039595",
       "max": 0,
       "min": -4,
       "style": "IPY_MODEL_86c67e560fa9404cbd53765c97d58b17",
       "value": 0.05011872336272725
      }
     },
     "b37566eb7c724e59a661e7e0b604d4d0": {
      "model_module": "@jupyter-widgets/controls",
      "model_module_version": "2.0.0",
      "model_name": "LabelModel",
      "state": {
       "layout": "IPY_MODEL_5e5dd0fcff8b45879c0d37f1c1ee32d5",
       "style": "IPY_MODEL_9bf35315b3f04b02bf14a9426a4db57d",
       "value": "Hard criteria:"
      }
     },
     "b419de2aa6b24951996e08529edcdc21": {
      "model_module": "@jupyter-widgets/controls",
      "model_module_version": "2.0.0",
      "model_name": "CheckboxModel",
      "state": {
       "description": "Show Axis Arrows",
       "disabled": false,
       "indent": false,
       "layout": "IPY_MODEL_dcb6b08ab0ac443aa262e831ebffcebc",
       "style": "IPY_MODEL_358f707cee66479d83cc1397ecd8941e",
       "value": true
      }
     },
     "b44fc857d2164070b1ca40a62406d504": {
      "model_module": "@jupyter-widgets/controls",
      "model_module_version": "2.0.0",
      "model_name": "CheckboxModel",
      "state": {
       "description": "Real Modeshape",
       "disabled": false,
       "layout": "IPY_MODEL_14167d6d7e16440285493528f1d84a68",
       "style": "IPY_MODEL_2ff4126d877f492abecde1c0681474a3",
       "value": false
      }
     },
     "b479e701eeae4d498d9678156fa4e6a6": {
      "model_module": "@jupyter-widgets/base",
      "model_module_version": "2.0.0",
      "model_name": "LayoutModel",
      "state": {
       "width": "100px"
      }
     },
     "b734903b8a2449c283e538c50ad06254": {
      "model_module": "@jupyter-widgets/base",
      "model_module_version": "2.0.0",
      "model_name": "LayoutModel",
      "state": {}
     },
     "b9f3c50600fb4b3384fb4bd8768618af": {
      "model_module": "@jupyter-widgets/controls",
      "model_module_version": "2.0.0",
      "model_name": "FloatRangeSliderModel",
      "state": {
       "_model_name": "FloatRangeSliderModel",
       "_view_name": "FloatRangeSliderView",
       "behavior": "drag-tap",
       "description": "Damping range [%]",
       "layout": "IPY_MODEL_c3cd9e9aaf834f00aad2591f1732e2c1",
       "max": 20,
       "step": 0.1,
       "style": "IPY_MODEL_ee494846ce834f5c9985ecfcdc687acf",
       "value": [
        0,
        20
       ]
      }
     },
     "bb9b0d10b78f4ed5a687af0ee557cb66": {
      "model_module": "@jupyter-widgets/controls",
      "model_module_version": "2.0.0",
      "model_name": "FloatLogSliderModel",
      "state": {
       "behavior": "drag-tap",
       "description": "Frequency [%]",
       "layout": "IPY_MODEL_f0797552c0bf4f5c92c10b707b772aeb",
       "max": 0,
       "min": -4,
       "style": "IPY_MODEL_9f39b51aadd84375b96e34ceb08c5393",
       "value": 0.01
      }
     },
     "bb9e2830c1d045708a9cd2803a3ea288": {
      "model_module": "@jupyter-widgets/controls",
      "model_module_version": "2.0.0",
      "model_name": "CheckboxStyleModel",
      "state": {
       "description_width": ""
      }
     },
     "bddcbf51fcd8448486a14b735a7bb76f": {
      "model_module": "@jupyter-widgets/controls",
      "model_module_version": "2.0.0",
      "model_name": "ButtonModel",
      "state": {
       "description": "Load",
       "layout": "IPY_MODEL_31c38282e42340b2846d814d4424991e",
       "style": "IPY_MODEL_ed6c0b0948b04c4aa6aadb9c2c0e43ce",
       "tooltip": null
      }
     },
     "be4447cbe8754221ac7c3c40d830506d": {
      "model_module": "@jupyter-widgets/base",
      "model_module_version": "2.0.0",
      "model_name": "LayoutModel",
      "state": {}
     },
     "c040302caca1440e8509386f89e378f3": {
      "model_module": "@jupyter-widgets/base",
      "model_module_version": "2.0.0",
      "model_name": "LayoutModel",
      "state": {
       "justify_content": "space-around"
      }
     },
     "c0827d3518ad4d478a0ae79791fcce73": {
      "model_module": "@jupyter-widgets/controls",
      "model_module_version": "2.0.0",
      "model_name": "VBoxModel",
      "state": {
       "children": [
        "IPY_MODEL_4717dfd403a24204ae8b1ae5bff36be9",
        "IPY_MODEL_53d4b2d3285144dda1afd92adbc3f654",
        "IPY_MODEL_313aee5a5fed4ba6b2dd93fc182693d5"
       ],
       "layout": "IPY_MODEL_e6143d4ef2aa4fb78095613515aa54e6"
      }
     },
     "c25812d2e0a94939b997488c2df93259": {
      "model_module": "@jupyter-widgets/controls",
      "model_module_version": "2.0.0",
      "model_name": "ButtonStyleModel",
      "state": {
       "font_family": null,
       "font_size": null,
       "font_style": null,
       "font_variant": null,
       "font_weight": null,
       "text_color": null,
       "text_decoration": null
      }
     },
     "c2b86b8c8f39440fa52efe9239a3aab6": {
      "model_module": "@jupyter-widgets/controls",
      "model_module_version": "2.0.0",
      "model_name": "HBoxModel",
      "state": {
       "children": [
        "IPY_MODEL_17feb511f987468ea698648a306cedbe",
        "IPY_MODEL_f72f0a365a824c59ad71d9668b47e012",
        "IPY_MODEL_0510a3d022b843b3a779b89d975205b2",
        "IPY_MODEL_40442266ad484cf89c74a0d6213e8911",
        "IPY_MODEL_e092a6c2d15c4d6986f6ca62b59cb341"
       ],
       "layout": "IPY_MODEL_dcf1684aba864dc58b45850d1fffca16"
      }
     },
     "c2ddcd07f52742cb9caf516777e51e3b": {
      "model_module": "@jupyter-widgets/base",
      "model_module_version": "2.0.0",
      "model_name": "LayoutModel",
      "state": {
       "width": "800px"
      }
     },
     "c38dfcb6d2e84f3598606072e07cb02b": {
      "model_module": "@jupyter-widgets/base",
      "model_module_version": "2.0.0",
      "model_name": "LayoutModel",
      "state": {
       "width": "800px"
      }
     },
     "c3cd9e9aaf834f00aad2591f1732e2c1": {
      "model_module": "@jupyter-widgets/base",
      "model_module_version": "2.0.0",
      "model_name": "LayoutModel",
      "state": {}
     },
     "c4131cd591a642048074007e6a3e4985": {
      "model_module": "@jupyter-widgets/controls",
      "model_module_version": "2.0.0",
      "model_name": "CheckboxModel",
      "state": {
       "description": "Show Nodes",
       "disabled": false,
       "indent": false,
       "layout": "IPY_MODEL_37abfbacf222416cab8bad97a8cdae93",
       "style": "IPY_MODEL_f8e2c5afd7f4458f9e48b7f4e734fff2",
       "value": true
      }
     },
     "c4789795fef04d849be95e46e06c7cf8": {
      "model_module": "@jupyter-widgets/base",
      "model_module_version": "2.0.0",
      "model_name": "LayoutModel",
      "state": {}
     },
     "c5dfb210f0fc4eb1a21eed8d95e820cf": {
      "model_module": "@jupyter-widgets/controls",
      "model_module_version": "2.0.0",
      "model_name": "LabelStyleModel",
      "state": {
       "description_width": "",
       "font_family": null,
       "font_size": null,
       "font_style": null,
       "font_variant": null,
       "font_weight": null,
       "text_color": null,
       "text_decoration": null
      }
     },
     "c6cc6b66264441c6a8289c92b8504abb": {
      "model_module": "@jupyter-widgets/controls",
      "model_module_version": "2.0.0",
      "model_name": "VBoxModel",
      "state": {
       "children": [
        "IPY_MODEL_697966f8a10c4eddadd89d078fd1ab1a",
        "IPY_MODEL_12e39dffe2334807a8c2942992bb6e07",
        "IPY_MODEL_b1525a0d15c546a5a7e356fe8f8b55c9"
       ],
       "layout": "IPY_MODEL_b734903b8a2449c283e538c50ad06254"
      }
     },
     "c6eb497fccf0478fa5138e8db0f5afe4": {
      "model_module": "@jupyter-widgets/base",
      "model_module_version": "2.0.0",
      "model_name": "LayoutModel",
      "state": {
       "width": "100px"
      }
     },
     "c7289d8d7a61474ca0b51db14bc82fa7": {
      "model_module": "@jupyter-widgets/base",
      "model_module_version": "2.0.0",
      "model_name": "LayoutModel",
      "state": {
       "height": "400px",
       "width": "800px"
      }
     },
     "c8f252148aa948c6be064b5508bae442": {
      "model_module": "@jupyter-widgets/controls",
      "model_module_version": "2.0.0",
      "model_name": "ButtonStyleModel",
      "state": {
       "font_family": null,
       "font_size": null,
       "font_style": null,
       "font_variant": null,
       "font_weight": null,
       "text_color": null,
       "text_decoration": null
      }
     },
     "ca3d4ff40d97489b9a9e80911b20aa18": {
      "model_module": "@jupyter-widgets/controls",
      "model_module_version": "2.0.0",
      "model_name": "ButtonModel",
      "state": {
       "description": "Z",
       "layout": "IPY_MODEL_710782e316de404bbffe1c1a5a14d45e",
       "style": "IPY_MODEL_07b591ae06f74febbfb14cd6daecab8f",
       "tooltip": null
      }
     },
     "cb82a605919c47e8ac93b118da420a7e": {
      "model_module": "@jupyter-widgets/controls",
      "model_module_version": "2.0.0",
      "model_name": "ButtonModel",
      "state": {
       "description": "Load",
       "layout": "IPY_MODEL_14cf9230fe2f4e64a0cf0c7951dac5c3",
       "style": "IPY_MODEL_0d555c78f30f46968a913be82035545a",
       "tooltip": null
      }
     },
     "cc7b7469505a47b1b0ebec432db85ff9": {
      "model_module": "@jupyter-widgets/controls",
      "model_module_version": "2.0.0",
      "model_name": "ButtonModel",
      "state": {
       "description": "Y",
       "layout": "IPY_MODEL_e1a7f3e420a74303893ef4152b5934fc",
       "style": "IPY_MODEL_90c6e11ba26047abb4d12bf60b76f6ab",
       "tooltip": null
      }
     },
     "cca4d8ac57bc407992101276b371e701": {
      "model_module": "@jupyter-widgets/base",
      "model_module_version": "2.0.0",
      "model_name": "LayoutModel",
      "state": {}
     },
     "cf75a661580948669461e1f2224debae": {
      "model_module": "@jupyter-widgets/controls",
      "model_module_version": "2.0.0",
      "model_name": "SliderStyleModel",
      "state": {
       "description_width": ""
      }
     },
     "cf8719c68c0d43c3b5d70422ee393c39": {
      "model_module": "@jupyter-widgets/base",
      "model_module_version": "2.0.0",
      "model_name": "LayoutModel",
      "state": {
       "height": "400px",
       "width": "800px"
      }
     },
     "d07af7625fe04e0380a7425c1609dd00": {
      "model_module": "@jupyter-widgets/base",
      "model_module_version": "2.0.0",
      "model_name": "LayoutModel",
      "state": {
       "height": "30px",
       "width": "100px"
      }
     },
     "d0a8c7abf59f41cab5ab86e88b44c0f1": {
      "model_module": "@jupyter-widgets/controls",
      "model_module_version": "2.0.0",
      "model_name": "LabelModel",
      "state": {
       "layout": "IPY_MODEL_7eabca04a7454cdb8acf51780ae43e88",
       "style": "IPY_MODEL_b278cc26c45d4f56a0e8155e10ce9d81",
       "value": "Current mode:"
      }
     },
     "d0eb4acbb37e404eb9d21b54b8883114": {
      "model_module": "@jupyter-widgets/controls",
      "model_module_version": "2.0.0",
      "model_name": "DescriptionStyleModel",
      "state": {
       "description_width": ""
      }
     },
     "d123d18dda2241c78e919b07a788fd06": {
      "model_module": "@jupyter-widgets/controls",
      "model_module_version": "2.0.0",
      "model_name": "HBoxModel",
      "state": {
       "children": [
        "IPY_MODEL_cb82a605919c47e8ac93b118da420a7e",
        "IPY_MODEL_ed640f3e8e85453e9968c40a87b6d672"
       ],
       "layout": "IPY_MODEL_5bfa6e5bcb2b4c659818db97d828fc00"
      }
     },
     "d1920ad644bf40fbb5ee855dd213069c": {
      "model_module": "@jupyter-widgets/controls",
      "model_module_version": "2.0.0",
      "model_name": "TextStyleModel",
      "state": {
       "description_width": "200px",
       "font_size": null,
       "text_color": null
      }
     },
     "d195820c7ccc4b1993eacf26f7374e4f": {
      "model_module": "@jupyter-widgets/controls",
      "model_module_version": "2.0.0",
      "model_name": "TextStyleModel",
      "state": {
       "description_width": "200px",
       "font_size": null,
       "text_color": null
      }
     },
     "d32db302953845d3ac580bcc0b3f422a": {
      "model_module": "@jupyter-widgets/controls",
      "model_module_version": "2.0.0",
      "model_name": "LabelModel",
      "state": {
       "layout": "IPY_MODEL_d4acf79d290e4b2fac978d311a4c802b",
       "style": "IPY_MODEL_574b6b87ff984071b3659502621c33f1",
       "value": "Mode:"
      }
     },
     "d3e64376c5484ceca053fd0ae1e90568": {
      "model_module": "@jupyter-widgets/controls",
      "model_module_version": "2.0.0",
      "model_name": "CheckboxStyleModel",
      "state": {
       "description_width": ""
      }
     },
     "d3e8670331f04dae80c383229c5236f9": {
      "model_module": "@jupyter-widgets/base",
      "model_module_version": "2.0.0",
      "model_name": "LayoutModel",
      "state": {}
     },
     "d42744f81622455c9c338404a696a997": {
      "model_module": "@jupyter-widgets/base",
      "model_module_version": "2.0.0",
      "model_name": "LayoutModel",
      "state": {
       "height": "30px",
       "width": "40px"
      }
     },
     "d43c68b6cd0947a0a0f46c86ff903a6e": {
      "model_module": "@jupyter-widgets/controls",
      "model_module_version": "2.0.0",
      "model_name": "VBoxModel",
      "state": {
       "children": [
        "IPY_MODEL_2a2bcae706f1433c94bcfec57500421d",
        "IPY_MODEL_72dea6d078874e88afed99f4fa67855f",
        "IPY_MODEL_2c430a82db244e18a708d6ac943f5586"
       ],
       "layout": "IPY_MODEL_1ab52e5b95ed4d77a5e160fa9df0107a"
      }
     },
     "d4acf79d290e4b2fac978d311a4c802b": {
      "model_module": "@jupyter-widgets/base",
      "model_module_version": "2.0.0",
      "model_name": "LayoutModel",
      "state": {}
     },
     "d5eda39594b447da90a831d8642d078a": {
      "model_module": "@jupyter-widgets/controls",
      "model_module_version": "2.0.0",
      "model_name": "TextStyleModel",
      "state": {
       "description_width": "200px",
       "font_size": null,
       "text_color": null
      }
     },
     "d6175e480c7e41ab821c62a15446b5b0": {
      "model_module": "@jupyter-widgets/controls",
      "model_module_version": "2.0.0",
      "model_name": "HTMLMathStyleModel",
      "state": {
       "description_width": "",
       "font_size": null,
       "text_color": null
      }
     },
     "d650c29a11c040c5bd955a5b42eca496": {
      "model_module": "@jupyter-widgets/controls",
      "model_module_version": "2.0.0",
      "model_name": "TextStyleModel",
      "state": {
       "description_width": "",
       "font_size": null,
       "text_color": null
      }
     },
     "d84270b852a2416e939cb17d03b2527b": {
      "model_module": "@jupyter-widgets/controls",
      "model_module_version": "2.0.0",
      "model_name": "CheckboxStyleModel",
      "state": {
       "description_width": ""
      }
     },
     "d89eed83d2a24c2a903345ce1ee0665f": {
      "model_module": "@jupyter-widgets/controls",
      "model_module_version": "2.0.0",
      "model_name": "LabelStyleModel",
      "state": {
       "description_width": "",
       "font_family": null,
       "font_size": null,
       "font_style": null,
       "font_variant": null,
       "font_weight": null,
       "text_color": null,
       "text_decoration": null
      }
     },
     "da243412fa1747eda8ab71bf8840cc74": {
      "model_module": "@jupyter-widgets/base",
      "model_module_version": "2.0.0",
      "model_name": "LayoutModel",
      "state": {}
     },
     "da344529b25d48a3a33d7355bfc930b5": {
      "model_module": "@jupyter-widgets/controls",
      "model_module_version": "2.0.0",
      "model_name": "LabelModel",
      "state": {
       "layout": "IPY_MODEL_6fcf95a95f38420990cfceb86ca7d0ef",
       "style": "IPY_MODEL_c5dfb210f0fc4eb1a21eed8d95e820cf",
       "value": "View"
      }
     },
     "da88b8236a47478fbe602bb11f595520": {
      "model_module": "@jupyter-widgets/controls",
      "model_module_version": "2.0.0",
      "model_name": "CheckboxModel",
      "state": {
       "description": "Show Non-displaced Lines",
       "disabled": false,
       "indent": false,
       "layout": "IPY_MODEL_885e5547b24144d48da78c85cf52941c",
       "style": "IPY_MODEL_7f40c2728b22488d9214671d3b5e5a63",
       "value": true
      }
     },
     "dc21c0c266344a9287f4017aea50e14f": {
      "model_module": "@jupyter-widgets/controls",
      "model_module_version": "2.0.0",
      "model_name": "CheckboxModel",
      "state": {
       "description": "Stable poles",
       "disabled": false,
       "indent": false,
       "layout": "IPY_MODEL_b479e701eeae4d498d9678156fa4e6a6",
       "style": "IPY_MODEL_bb9e2830c1d045708a9cd2803a3ea288",
       "value": true
      }
     },
     "dcb6b08ab0ac443aa262e831ebffcebc": {
      "model_module": "@jupyter-widgets/base",
      "model_module_version": "2.0.0",
      "model_name": "LayoutModel",
      "state": {
       "height": "30px",
       "width": "150px"
      }
     },
     "dcf1684aba864dc58b45850d1fffca16": {
      "model_module": "@jupyter-widgets/base",
      "model_module_version": "2.0.0",
      "model_name": "LayoutModel",
      "state": {
       "justify_content": "space-around"
      }
     },
     "dd15fd36ead440fbab0b394be7412ef6": {
      "model_module": "@jupyter-widgets/controls",
      "model_module_version": "2.0.0",
      "model_name": "HBoxModel",
      "state": {
       "children": [
        "IPY_MODEL_89bab77e2ce94cc6bb4c3aa118c8c8d1",
        "IPY_MODEL_75c1cd1613cd49a2a36d74778d52b21e"
       ],
       "layout": "IPY_MODEL_0740040ff68c423d943f42244ea83508"
      }
     },
     "dd4dcc533f0f4e3093f5d3781979171a": {
      "model_module": "@jupyter-widgets/base",
      "model_module_version": "2.0.0",
      "model_name": "LayoutModel",
      "state": {}
     },
     "dde480be6ddc48a6b3c5f93304052b6a": {
      "model_module": "@jupyter-widgets/controls",
      "model_module_version": "2.0.0",
      "model_name": "DescriptionStyleModel",
      "state": {
       "description_width": "100px"
      }
     },
     "df1616d1287e4542b518470d0582565b": {
      "model_module": "@jupyter-widgets/base",
      "model_module_version": "2.0.0",
      "model_name": "LayoutModel",
      "state": {}
     },
     "df42bf39df5a4d8990dc79f566704d55": {
      "model_module": "@jupyter-widgets/controls",
      "model_module_version": "2.0.0",
      "model_name": "TextareaModel",
      "state": {
       "layout": "IPY_MODEL_6f0160c40606469b9c6df49ee53f2af8",
       "placeholder": "Load parent child assignments file",
       "style": "IPY_MODEL_16c694b46fad422d85b0ae3981e0471f",
       "value": "File does not exist"
      }
     },
     "e092a6c2d15c4d6986f6ca62b59cb341": {
      "model_module": "@jupyter-widgets/controls",
      "model_module_version": "2.0.0",
      "model_name": "VBoxModel",
      "state": {
       "children": [
        "IPY_MODEL_d0a8c7abf59f41cab5ab86e88b44c0f1",
        "IPY_MODEL_824c22118afc4c64841e178339fb226c"
       ],
       "layout": "IPY_MODEL_f93aa895d3f646b2bf9604e285e62126"
      }
     },
     "e1a7f3e420a74303893ef4152b5934fc": {
      "model_module": "@jupyter-widgets/base",
      "model_module_version": "2.0.0",
      "model_name": "LayoutModel",
      "state": {
       "height": "30px",
       "width": "30px"
      }
     },
     "e3ec5e4cb22a4dc6ac33f0d53c68e486": {
      "model_module": "@jupyter-widgets/controls",
      "model_module_version": "2.0.0",
      "model_name": "HTMLMathStyleModel",
      "state": {
       "description_width": "",
       "font_size": null,
       "text_color": null
      }
     },
     "e4e87c2d3bde487a881242970ba53a26": {
      "model_module": "@jupyter-widgets/base",
      "model_module_version": "2.0.0",
      "model_name": "LayoutModel",
      "state": {
       "width": "800px"
      }
     },
     "e6143d4ef2aa4fb78095613515aa54e6": {
      "model_module": "@jupyter-widgets/base",
      "model_module_version": "2.0.0",
      "model_name": "LayoutModel",
      "state": {}
     },
     "e79efc2dfa3949569c3449f5519209ae": {
      "model_module": "@jupyter-widgets/base",
      "model_module_version": "2.0.0",
      "model_name": "LayoutModel",
      "state": {}
     },
     "e8195e5243944f098a8882c4a8ba6938": {
      "model_module": "jupyter-matplotlib",
      "model_module_version": "^0.11",
      "model_name": "MPLCanvasModel",
      "state": {
       "_cursor": "default",
       "_data_url": "data:image/png;base64,iVBORw0KGgoAAAANSUhEUgAABVAAAAINCAYAAADYyVTvAAAgAElEQVR4XuzdB/hsV1U28EHsih2x9woWxBIrNhA79oYVC1FRUST34k25qZLkYguoiRExVjAixkqxYVdU1NgriopYsHfNx+88Wffb2Tkzc+rMmfmv/Tz3Se6dmVPW3nutd72r7Hvc8ZKxypESSAmkBFICKYGUQEogJZASSAmkBFICKYGUQEogJZASSAmkBFICd5PAPZJAzVWREkgJpARSAimBlEBKICWQEkgJpARSAimBlEBKICWQEkgJpATaJZAEaq6MlEBKICWQEkgJpARSAimBlEBKICWQEkgJpARSAimBlEBKICWwRgJJoObSSAmkBFICKYGUQEogJZASSAmkBFICKYGUQEogJZASSAmkBFICSaDmGkgJpARSAimBlEBKICWQEkgJpARSAimBlEBKICWQEkgJpARSAv0kkBmo/eSV304JpARSAimBlEBKICWQEkgJpARSAimBlEBKICWQEkgJpAROkASSQD1Bk52vmhJICaQEUgIpgZRASiAlkBJICaQEUgIpgZRASiAlkBJICfSTQBKo/eSV304JpARSAimBlEBKICWQEkgJpARSAimBlEBKICWQEkgJpAROkASSQD1Bk52vmhJICaQEUgIpgZRASiAlkBJICaQEUgIpgZRASiAlkBJICfSTQBKo/eSV304JpARSAimBlEBKICWQEkgJpARSAimBlEBKICWQEkgJpAROkASSQD1Bk52vmhJICaQEUgIpgZRASiAlkBJICaQEUgIpgZRASiAlkBJICfSTQBKo/eSV304JpARSAimBlEBKICWQEkgJpARSAimBlEBKICWQEkgJpAROkASSQD1Bk52vmhJICaQEUgIpgZRASiAlkBJICaQEUgIpgZRASiAlkBJICfSTQBKo/eSV304JpARSAimBlEBKICWQEkgJpARSAimBlEBKICWQEkgJpAROkASSQD1Bk52vmhJICaQEUgIpgZRASiAlkBJICaQEUgIpgZRASiAlkBJICfSTQBKo/eSV304JpARSAimBlEBKICWQEkgJpARSAimBlEBKICWQEkgJpAROkAQWR6CePXt2dfnll99lCu5zn/usXvjCFzb/dscddzSf33TTTasXv/jFqwsuuGD1xCc+cXW/+93vBE1bvmpKICWQEkgJpARSAimBlEBKICWQEkgJpARSAimBlEBKICWwCwkskkC99dZbV89+9rPPv/8973nP1b3vfe/m79dee+3q6quvXj35yU9evdVbvdXqqquuWj3nOc9Z/d7v/d7qXve61y5klvdICaQEUgIpgZRASiAlkBJICaQEUgIpgZRASiAlkBJICaQETogEFkmgPv3pT18973nPu9sUyD59vdd7vdWjHvWo1alTp5rP//M//3MlQxWx+ohHPOKETFu+ZkogJZASSAmkBFICKYGUQEogJZASSAmkBFICKYGUQEogJbALCSySQL3++utXr/qqr7p6uZd7uaZE/5prrlm92Zu92eqP//iPV2/+5m+++tVf/dXVO73TO52Xz0Mf+tDVq73aq62+9Vu/tVVmf/iHf3iXf/+Xf/mX1cu+7Ms2f3KkBFICKYGUQEogJZASSAmkBFICKYGUQEogJZASSAmkBFICxyuB//qv/1q90Ru90eqVX/mVB73k4gjUH/mRH1n927/9W1Oe/9d//ddNif7v/u7vrn7rt36rKdN/r/d6r9Vf/MVfNJmoMT7v8z5v9fznP3/1jGc8oxOBilB9mZd5mdUbv/EbDxJa/iglkBJICaQEUgIpgZRASiAlkBJICaQEUgIpgZRASiAlkBI4DAngDV/3dV93dd/73nfQAy+OQK3f4l//9V+brNOLLrpo9e7v/u4NgfqXf/mXzUvH+NzP/dzVn//5n69+9Ed/tJMQIiP1Ld7iLTp9P7+UEkgJpARSAimBlEBKICWQEkgJpARSAimBlEBKICWQEkgJHKYExnKBiydQTcuDH/zgFbLzMY95zKAS/npqxwrtMJdKPnVKICWQEkgJpARSAimBlEBKICWQEkgJpARSAimBlEBK4ORJYCwXuHgC1SFRMlCV6V9yySVN6f6XfumXNhmphh4Gr/3ar93rEKmxQjt5yyzfOCWQEkgJpARSAimBlEBKICWQEkgJpARSAimBlEBKICVwmBIYywUujkD98i//8tVHfMRHNI1dX/SiFzU9UH/qp35q9Zu/+ZtNz9Jrr7129ZVf+ZWrb/mWb1m95Vu+ZXPA1E/+5E82/VHvda97dZrFsULrdJP80mQScOiXg8N+/Md/fPWc5zxn9X//93/NIWKf/dmfvfqO7/iO1S//8i+vXuEVXmH1SZ/0SatP/uRPXr3US73Uxnu7xtd//dev/uZv/mb1pm/6pqtHP/rRq7d927dt/c0//uM/rp73vOet/uEf/mH1Sq/0Sqv73//+q9d6rdea7N12caFf/MVfXF166aWr22+/vZHNu77ru64+4zM+Y3WPe9yj+bt+wzK8t8lt3bPecccdTQ/i3/7t317993//d9Ne4x3e4R1WL//yL7+L15v1Hv/7v//b9GB2gJ3hMLu3eZu3Wd3znvec9b5Lv/g///M/N/vi7//+71ev+Iqv2My38Ru/8RtND+vXeI3XaPZKV51cv++znvWs1Vd/9Vc3e9S1PvRDP3T13u/93qu3f/u3P3GH/1l7n//5n9/I26D7nvjEJzaBxUMf5vfXf/3XV1r1OAjSmnGA5NIGHfcnf/InjS6g417/9V+/WYsOujxpg/2FoX7/93+/scWw2v3ud7+mr3wM8yrI/exnP7uRF/v6FV/xFc3HU+iHuWVOr1mX//RP/9ToMOuSHtrVINfv/u7vXn3Xd33X6t///d+b+0sU+Imf+InV//zP/zTyfo/3eI/Vq7zKqzT9u8wBe34oo81+3Oc+95n18SVj8COcoWCtsuPw35LlBnfS+3Cogy6sg9d8zdfcKCdr12/I2Prwm1d/9VefVbZDLm5vec4Xv/jFDYZ4wzd8w+YgYHjenDjk9z/+4z+a/feZn/mZq4/8yI/cilHpafaSnrZP3uAN3uCgMQM98Ad/8AfNH//PB7b3X/qlX/puImdDyfNv//ZvG+zNPpVnhQyZo7l/Y76033PGiWSo13md12mwJH9u7jFkb73whS9sMC6dbB/aW30PoPm7v/u7xrbYn7COa8A+Y0ebLN/xHd9xqx9W+jgveMELGhtjDZmLL/7iL25aJ8YIf9jn1hv84x2sSXttbl36sz/7s6snPOEJDTf0Jm/yJqsv+7Iva+6dY/kSoMute3uIbl8CbhnLBS6OQEWCIbhs0Hvf+97N5r3yyivPN3mlJC6//PLVjTfe2BjeCy64oHEm3+7t3q7zChortM43yi+OlgDA+73f+72r7/me72kIuhjIPoCiHtYBwr3N2fH9T/iET2iuVw7XOnPmzOqKK664y78Dcg41A7Y5L4Ap5w+R8wEf8AGzG4vRwnvJBQBPoLQeDB1ZeBcGHSHwKZ/yKQ2Q7TM4x+YGwAMCkMx6FDOs9vIhH9QGYH37t397Ix/zbzDcCPRP/dRPXSTR02fuhn6XEbztttsaEpnTG/vC9cw/Z80BgIAZpweI6zrsUb/5oR/6obvt0Q/7sA9bvc/7vM/qYQ972OIdg67vu+17X/VVX7USVGT3ap119dVXr06fPr3tEov83Pv82I/92AogpnPoa3uLPkGWv8u7vMtinptj95SnPKVxzK1tzt1f/dVfNf8VsOM4nJTB/n3nd35nQ0LRg2wjWSBq7Et68vu+7/tWn/iJn9jMZT0e9KAHNXYh9MNDH/rQ88GXpcjQmkT8IiG8IywK/LP59M/cg5P6wAc+sHHUNw329hGPeESzDgVBP/7jP76VWJn7eftev7YfcDxn/N3e7d1WH/zBHzwLrkIMBBktwIsAcV8EqrW6xEDIL/zCL6ye+cxnNs4mXwgO8dzv+77vu3q/93u/VrHznRAgsXYFMhDH2qC953u+Z9+pmu37v/Zrv7b6wR/8wfMYQoKEpBj7rLZ18RB8QUkU68g1vxV0EMxnT8gAFoVJYNulk4m1sO0JutY70ENIU+QDwoqutSZi8I3oXQPxBbtKPEHOSUgamhwx2wJ4yYUR3HwxZLd3QkSyJWwK30Sywlyj796yJn/4h3949dznPvc8xjUX/p0NQ1Z3GXxTCV/WMALW/oQv7E8BsaGDLG+99dYmkayWJf1Gz7UNtoaPw8bRy09/+tPvtv/4OnxIe5QM4H7YPvYp/eQdEGIf8zEfM0tyCb/Amre/y2FdC9RKqsuxXAlIPoChI8GKbrL29o1bxnKBiyNQd7EExgptF8+Y91g1YOGmm25qCFF/KEnEn1YOMRgOQOLhD394E8EWMePkcIDqcfHFF6+QDo985CMbZ4iyF7E9derU6hnPeMbqaU972uqjP/qjm5/96Z/+aWM0ZGt+4Ad+YAOw3evnf/7nGxD3UR/1Ub2IoX3M57lz55q+wQYQ9QM/8APN/7/zO7/z6ld+5Vea/wdg/P2pT33qeRK1z7MCwQwvWcroMD8yC4A5YOiLvuiLGsBxaAM4sPaAcgAEKDW8E0OA9HF43dwR16XJDZi/+eabm7X/kIc8pHFSgFH7x/BvHB1y82/Wxud8zud0dl6QhY9//ONXH/IhH9Ls61tuuaXJSLGOAc8v+IIvaMCgfQ64HfP4pV/6pfPR/wsvvHD1Dd/wDY28yVMUHnj8mZ/5mVHAe1/yo3e///u/v9Gt1gvnkKNPb3NSBH6WEnzhVPzO7/zO6uM+7uOaTH17HvijOzke1uIxZNt3WQsqPugADm5kPSJ22A/zxw6oDOJQsTl0AyeRg4gw5wgJfn/6p3/6ef1Aj5aHgnZ5jrm+wwHlpDmsFFHFmQf6EVP2GlvAzs05PuiDPqjBO1/zNV/TEM0wC/yBvGd/ZN584zd+4+rTPu3TGkxiz7DDMtMFH5Y82uwHZ5yOZy/ofUTqlIMt+rqv+7qGhPrYj/3YhmBg3/kBSAfZ0fDcksYf/dEfNcQG3fj+7//+ja0z18h9dtB71EkjSDTBbOS7wLi1ax9aSz/3cz/XkIj25r6HjMMnPelJqwc84AErax2RrZpCMBYu/+Zv/ubm/2FHmN0zqzaT5OC94a+2YS7JjZ5GvtHTru3f6etDwwzmnw8UutY7szfm2LzyY5BZ9Ct9YB3b/7ApPcvG0gvWzy4CP33XlUOf2Xo+F/LNfCFW2Ns/+7M/a+Z/aAXTpmex79mxem/R7/aK9VNnNQbGpZ/4S+QumOEdJPloMRg+wrp7y7K1FtkV9iX2p/3Mr0QQDj3Yuk2WMlxhLPvNWqllSQd+0zd9U5MUxL7A1pIXVDt5T/L3jvD+Yx/72OY7soPpGRhcQoN3Z9fJRFAECSxIOvWQ3HTZZZc1AUP39ZzWztmzZ5s1TifYJzmWJwF7+oYbbmgSDdhZ69Dag6nxBPvELWO5wCRQl7fe8onulADlb5NRkowaQPG1X/u1DZkCdIs8KfNlzJThU7Jf8iVf0mQkKy8sI5gAhQg0xc9YySwFNmQmMHw+A+IATYMTJYpLYdckWXyG1Fjy8K4yhRg3pBSjbYgkAi2cGZ+RB0OIQGZEy8j2pvdjXGXIAew1QGOUzQ2wAMwf2hAxQ95pdcBhLYdMtG/7tm9r/ezQ3rPv8zJ4AcgQeAwh5xSZ4v/tJ8DLnrHnGE5EWBcH1fcRKRxdYEiE3rWAafvTH2tTptWHf/iHN2v3mAegKOIvK8t/yRtRZ9/5N4SD/9JlhzSsEw6fLCGEVDk2fbaPd+SEILIQgGUpm2eJz5AAKmGOfXDUtb5BktYZN/EZvSnwyBFUlYAIkVnMTiA32GaESJT/99EPu5CvZ4ctPuuzPusudt+69Jn/+myuIXBLdnAHWbE/7BDcQzdGMI/tlp0oYEX/Cmj99E//dIODlkzm1/ajlCP8UdqPqWSshRFZPepRj7obibDps6nuP+Q6sC49L1hW40+fIYV9Vg7EI1JGcKLWqQhLJCzSfd8DiYQY/MIv/MLm3ZxpQQ/A+ogec6U0F2YVWIsydmRqBObrlgQIUnukrXoBjrdH2NNDwQx0poBpG1EuqMJ+BtGnWkcWp/Vdt5ba9Nk+14Fgm/lFuCF4y2FtsxcyptdlWo959r57y/qzfvhTsk3Lsemz+hkRkUjIeg+yKfYuvS3bs+/YJK/4LAKC5bUjScjzWEvIef/Gv2GjBbG1fmPvrccIZiAu7c9IYOAPC1T4Tf1Z33dp+z4ZS46C/wXaELZIWliD3+EzFZQSDnIsTwIRfKbn6+oBAQuBi33hliRQB6yXsUIbcMv8yQAJcCCAH4rbEKUsy/ijlCAu7XNki4iH7EGZLTE4HJRsfR3ZCP49rhtlCbI3lZG2GfAodRCVW2oWnAj1urK0uv2Bd5bdINNFZE9EqMsIkhHobevLJcrrXspcD21Q+qLOyPragSEvvZiBkiVG9ueUNSD51m/91o3jbiCRgN0gwkSCGcPoC4XkQ5YgQrcNjkFE8RGlSBlDxBJIij3KeUDMdCFlt91zyZ97b7rMiDIp/29fc0AM8pKVdkiDblJNIIgTvXPL51eCKkNeNvK+h7Wr9Bf4U6Zejyc/+cnNWueAHPuQYaJ1h0ywth587LWMFvaxXqf+To+GfY3/9tEPu5Cvnvucs5osd+8g2+CRuSoPlDGrpuFMCwCHzrP/OZLstAHrGD639hDb/rQF/HYht673YD9k8Ao61AOBJpO5tB9dr7vpezLFVcW0Ed/+XaBXWwl2bSnjcY97XBN4bgs+042yrlRiRWm2/aTVmcwxVVP1kBgg0y36EO/zPclbACYy1RBlgvjWNH0ba7y0c4IHYee8OzK0HJHdB6+1taFCXsEUNQG2TzlsunfMMV3T1m9fBYpAiwCqjH7kkoz/ekSwfx1G39f789PoOkkobb2P4Ug4YQ7CH/aA27vurdAR/Bglx/UQwBYcJON1g+62P63btvZEMsv5HHzKviNkKXM0Wo2V10Bw2lM1OYu4cl+JSKFH7EH8CNkbkkeQqob3FPio8U74wwhXeEhgJ3ztvu/S9n0twsK/LDkA+9zz1b77FPfMa0wnAW1I4KU2HiAC7/vCLWO5wMxAnW6d5JUmlgCiRGQL6FNSIQtIlDmcL+QBhR5DBBbwkIkha6M0vq4TfZEYbcZAuZ5sNspelhGgEuANyKOsgygqX40jpWRiHbiZWAyDLieLJpxc7yWrD0FlAF6hOBhO39VvCWncll207gHCcCOq2/pLiaoiHcj40AZgIToGXNRkgZLO6667rik3G9O36NBk4nk56UoxEO2GLBmyQGbal7LGySwijQgXWUUym7cNQFVAQxaNTBF71h6VhYFAtUcNOgC5IAv1mAeHT1aAbBtZvOUhUvYv8loEXs+3QxoRrJEt1Obs062RUbPv94pS2nWZ+WwUO3TsZL550JNTBhhiu27LYu+zmchmWSiGQBzS1eAks0MCmUbYcPrCv3H+ljAQV8jTtsBpZFLMSUJxdjkaSCWl7KHzkI6yicKZhXXsI0QKxxgpwN4qdV5yT14kO53VRvZEWw8tlabMolUSDCe2VQyFA0eGSzqU7/rrr29K3LU4qQcyVBZWSeTbTw7UXVfxo+2Ufck273vINmW/gwS112AtaxqpJpu01h9wuLUPDwiw1fszWm8o06+zU8nGukO2HApmCFKqjRD2PoLWss6R0Mhh/ZDbgngRlCDbJR3OSOcLtglq0Af1kO0vaDRH8sWmvQX32yvl3trmG23SL/Fe5kyCimzbqAQs39l+VhkYLdf67FFVhtbAOlkiNelTQaJyRDs6OiESgawT2FKQQtAC0SyoZfg3mBwZpt1ADJmf/GktQpBl60jxPu9Ufpf8kbb8MCQ1WamYhLns6bCR63onD71v/m4aCQiG8BMR7PWIdi77wi1JoA6Y47FCG3DL/MkACQBKwKJSDw6EiBnwReGLkMUBSTK1lO4r4QfKRNqRhfXpiHpGIR2UFlLCUcLv0UQWRe+VFxlKZkW2KOwSzCMbGX7EIIOx5KGslAPLwVdyHqATqcVhYJhE5GVokBn5Ks3oepAUWTBeCNk6ss9hERlfl2W2ZLl5NsQV0N1WKs4RURolq3KXJzMvQWb2jTKasrctp0eEHYABcsJQWl/2KyIA2dxl2OeIVCAMkYqsQNQDbTKEOJWchqX0c+vyTkO/g1SK3ma33357Q0DRReRKFuyY4IVs+0MbstNl18pWKDNskETWDF1NH+97CJZwVmVM1f0lA/xpN6H/3LEPbVnIQubOOgKDDLTc4azbt8r6lP/5N/aF/vB7ZKR1LCORneqqH+aWMYLYcyPM6Z8Y1oGSWuSkIONcg0yQzZxs2blwDRnRhwgTOiGCJnARMhtWkZEu24wDvMQDY0Je0eMY0VXiDPaDHaEL2hytMfIOEin65JfXIjvOONxTzveY+03xWxiNflfmXlYSIc3hKsG1uucf7CpL0xopg76wMiyDtFxCBqYSfWQ5DCHQCkPK8Lf32AXvgQzSdsB68IcOkW1JJrB9nZVp/dNNAq91dnNUSo3pMTnFnPa5Bj3gfRDiWmSVI9ZzkA4SRuhT8iyrJOAx5er0th6dc2XN93mv+K79LhBOlwmQlyOCGoIs8N7Uw94SGLW3ygrC2FuyOOukD8EpepVuKuUY/R2jn+qmZ9W71tqly9v2pwBOJCb0eeeQpSB7bZuiFURbZaHe5QJwfGb9Ra0jchHAiBJ+WbPwuwxQWYICe3Q42fm38If54PQnvy9aePV5h23fdRia5+W7I7mjhB8e9qzwg2BsjuVJIAKjbcQ6nU8/7wu3jOUCMwN1eestn+hOCTBOwCLCSmYGJSmTUkRMxJWiD5JUhBpQZBwpcE5HPfxORFPZqMg+B0TUnmNEOcssjcb8Im3uzUj4LseJMUI02vAA3pIzPby7TC4EICNXZuuK0GuNADwgqUWH4jAaWb59BjKNE6IsBYiQmaQM61nPetb5g5bayj373GNf36XclYaJGsdJ8oyBNWCdnISss1r2AhBIPfsOiAHaZEtYAwaSiaxkRQJaHAH9/LoeBsCB0sMNmLS/rE8kgci2Uh7ATWZ43aNwX2tkzvvK0hCcsD/LrHG9uOggMpV5s5QDePrIAvkoM8K7IOM4Lf4NwUb3cvjqTKI+15/yu4J49BmijzOB+JEh69/YIY7skkmrKWXhnWWuIEGRFZwmOtJelyXOGTanHEVzys6wy/QEnYD48F0VC+a6r36Y8l3arsXGy+ZhL+ENz4mUkpVkPyL820pOp3wuZJ5sXrbbWhPgZMPD2UdOc4gFRelCTq7Km0PoC91mPwQrZSByjlUNrTsxeqiMEQwIEGuRzRLsoFPhPX/8W1tW2ND7TfE7MhGoR5TCn6qk7CnrkJ5EBtdVP8gL7+m71q41bM36jd9au13720/xDuuuAbfD1sg+svec1jH7zhbAEvSKYKqsd/PFxnkPWXzrMsCRiPCCqiCVDcgVZCOd5b0PDTMgmrWRkgWISCQTgVR6E/EoiIzMQ5CSp8/J0/5hQ2F6unlp7SliXURLGJUKiDl4hg4wX3QdDDBHUCP2Fvtkn9R7iz2vMRViETYVuEZo8wtlRLNldAmMWyfs1OufHREUgGv5FNa97FHrmt0RDOffDhmyVx0SXMoy/DABmHWylD1rTZGBwItnQqiqNBOgsX5gHfgb5mR7rDd4x5okg+jbbe7mSpjxnDKs6QmBdVVv2u1IHiA7mATJmmN5EhCYiAOZ8QsIb9yOObNu94lbkkAdsF7GCm3ALfMnAyXA2CGyEKOAA2MVg3NBmcdgKBg/GUzrHFob+fTp0w3AiMHxUzJSNzNn8ChuCjoGh5mBGXpa4kAxDP4Zo88wclzKIXOSgWQwgZTIAuobpRbl5oRwgGSPxYis1G2gYvCL7eCHFD8SGtDjhBkIACBFNkRbb6odPNbeb2E/2Bdl780o2S/3JxAKUPV12mQmyFjj8MaInqcAL/JgyhLPvQt0wwMg7DnQnMtykCnAfMiHF0WpWJRsej9OjcDEkkhhOg6JKkMjes96Vs6Utdg1Y3/J66zrs9GDSAqOfbS7YTMElABhjq8MTvuU01kOctIrGZlqDNUPXZ916Pc8P7whqBqDvTTX8exDr93ld2QsIwOBVtrUsoes/xcIhkUQUYinQ9EFbfbDO3CMkWZzDDjRnAo4xYAXBQKQp31xzxzPWF9T6xvPHL3AfS6oJDNvHcmMzGAXSnuBlLF24dylDIRulD57ppgfZE3bEJi3J5Am6wY9TUfLUIsejr6LgD1EzEAPINfg61LXqoaw78vsSfPNT7JmYsDesnHrA/+WsgY8hwSMSOKI55IpHad1z/Ws5CRjkX8ZY9veUpHIHyh9KUEMGLcr8YmEtD9L/9NvZYaPTcgZIkuBufBx2D17stQ3iGKJRrJP2/zhkB3bDqfOkTEc91ChIJmi1G3kj5Rua7U319rJ6/aXAMLU2ioxIR8O5yIpYV9jLBeYGaj7mrm8b2cJyFJhZBk8/+XEcthkXoieiWTYjLJLRZ43EVtAiVIKvc4oYg6R/mHrMhCAMiVeIuFAGeICgTbW2HV++Qm+yBFz8AdCKqLUiGTggYNGDv5wKPSaRX72dSiUOAIHZMQxbjtUaoJX6XQJUV3EE6UtYsqotzVX33QxIAlxCjSQBXDlvTgudf+/Tg914F9CcslyAq5inQBNSAZrx3+tAftQNNsf8uq7jojJnkP8xx4VtJDZKuNClPmkZPvFkgFwHS4gg4/sOUXK+/a5x9qWM/0iomyNWAd0iUziTWuAPvZe9qo9Zt0MWTNzbS+OjnVvfdOdnB1kGuB+0tp3lPOrqsD7s4eImbq/HnupTJtTx/n3PYE8+hT5ag9zuPR8W6Ic6SCZfvSezCh2UjYb+yboyKZ0zaofsjbtB/pP1Qy9KquOo676wTOw0fSiwJXKD1kdS9o3296ZfK0F+4o91cvO/wBv7DwAACAASURBVNMf1hnbQtfDWVO8F6IAOadaAllHdyKdl5Llvk5esIxMQuvQHlPSHQct1r+BWciPXO05mEeQR7biFDLcNqd9PzcnsLtMOYMe0ENZT0X6RbaZeRI8jdYV2+5h7fg9Msg1rCEVMUt8/23v4nO+j/dBPNCZgib8D/NrLSPM/Tt9wN7aQ3A9+wur7jvIH3o09p39RneWhGPpO5jrvgH3LnJs+45nQ6TaY/54DvqUjOkjA8EiC5PPaT9ZSzCBRAFrs2+g1+8kCCCT6HFVHMrnx/qT9IO9Lwvde8AnnrWrLJHDqjH5umyd31lPbAsCnkwQ9iEz2abWnnXIDiHCut5r6HzBiqox+OvWOZmxkSftIN+h8lvC7+gma9Raop/myDDv855JoPaR1p3fHSu0AbfMnwyUAFJOqZpePpR2DEQCQ6Hni+gypa9ciUHT37MtKwhgE6mSyVqPdWX/ItqiwEC+a1MAQJqSdaTOkoEZgyO6gwCoB6OnKThCGsgCsvWelB2C9JAptG/l1nfJMO6amXPaORsMOmXNGWXg615S665vnXFczS25ALGuE2VTZU+yvs94iN8HqgA+6wFZAqwhyWQK2IOIBk6dPcJxMfSQ4tT3Hdas7AqkYT2QCEqREKll9kXfexzS970rp7Ie9nX0j1zC+6xbI9aATPdDbOMhgCJbxH4H1jlOgLuMJqXq+3ZOdznvCFEBzNABbCBbqHe4vV7OryyxSy+99PxBUeuek36lp+nstlPvd/l+6+7Fcbb/kPyce1lddBxb473bTmUe+9yIWvYqDn10PSQJUkSpaJDV1h8S11wgyjzPoa7JaJMBtwmiWFv2G7JIxuUYnIUwFZCDDxEL5BjtJATdgywZO29T/t76ihJu2bnWHgyCJIVj6mopJKTEgMAsMI/1I0HAOy4NsyCSzAniCq7WvxexBE/A6THgCq0H6B24AOG0bhybDSITB7DARLAnmSHHEXkwqXVtfskLBkNAa4EB2y9heG4Z1MhTxCnC0R703PywJeh8pCM/qLbxMuERnOaAvO1Bep+sBbKQi30HEtzejYMU/Z6+hmW1qBvS/9Q1JBHJPq7xOVKdH7cNeynP1xLEu0Wms+vSleFLe39ryzwiMdko8+nvSGh2kp6mr+cYnk2FgvYO9dDWSy/XHCmBvhIYywVmBmpfief3dyYBhhaocpiCshyN8Cl4ByvIXIkDAHzGGANjjAFnt+30Ro3qNazn3MlUpfABTycuIswAuvJgKJvLv4lwifwzdkABo+sQIYAOkbrUoeSJ/ABUskM2i+QjCPXuAb6UZyi9BCCAdu8MiDOESzjEpY9sow+Q5zYvnE6GFwmuxYA1sc3h5aAgppDIyoiiVFy0FcgBrE5S71OOrB7BMr6jbMw6sW+AezIGssIJFciIxuCCEn2ztOzrc+fONdlp+nnJvETy67vqfogr5URtpzj3WSuH8F171iF2MqUcaoOIFPwBYPWoArhll/fNrp763ZHp1ogsBUGlyFQIpx7ZWx/sMfUzTH09jirZypbh7HFOrHuZGk972tOa0t+axJj6GZZyPUE1+09GC90a86sc2oEvSsejd7YMSeX7iBxOJlKDQ8/552SxoQhAFR+XX375+YO5OGFLJP+QxuZcH8Eom6bj/DtbWR/cMsWcIUOjzP2WW25psk45r3oGI/D1uaQf6QFEmfVJ5wowtZ3aPsUzzXmNOOTHmqDrOPz2WgQwtMsZ056A3UB+sP+R6QVbWrvIDHgyWtDM+Z59rh2nsJtb+jOwDKzLHpYH1wl8a1sVbZMCs5ArzCKTcwmHR5XvT/bIKfsKaQ6LIs71P/cudIgDewQF7DtZZwLjyFTfq8ex2aDwfQSs4fZICIFD6QR43aEsEUzx/nwfQWxtzMYEHPqs003flV2M8IJTIguY/yYhxWfmdxctUdY9o73PxiPlaxtvfdpz1mdU5LFfyFb2AGnXt3JCJic9xL9CLMsshyXoN8+CBO+bEb8On/Px3IcftKm83T0FuSVDwNT6f5OHfsH2GltEdwgcWnN0CR0EhwskW2eCHnx0/pc+rn2zcrust/AL+Or65cKZ8IfsXTrOnmAjc6QE+kggCdQ+0rrzu2OFNuCW+ZMBEpCVIDvl+uuvb4CUTFSOHFIBCcoYK2VFtMiQM6IxufLB0hghPhENiCAOietSwkhXUW4RXhE35TIxkKeADENSAxLGiZOD2FgCWGkTr6ghB4txBlY5KJFpy/jL8GCEalKRfMj+0Y9+9OIyFzYtIySO9xJ1LQdnTJ8cjv82I4toBRAc5FH32QT6EM8+Oyll/PaJEibBh5LgsK7sPSDzoosuuktGKILBZ9abwEPXYY8Ccu4DiCHdgDk9wAQ8kNcyLwQBzMHSnN6u79n1e96X/rGugXh/d1CGgI7SRCSfz+Y8FbzLswpkcSrqNeK3ceo2XXJIGe0IMgQEO1K3jLAnZH1Yg0sk/brMWZ/vCBYqfxaQq9+Xg8xxilPMEawIHoErNoddtU8RqPQB+8rhQj5zpBF/1i/9zGlb0rD36DFkDqetHHHqd5fTl/u8E0eUQy2jhpOO9ONok5V1h+yT4aslT5yw7HCNaFtjHrZlHPV5nl18lwMsi1Z2bY2lEAzI9aEnO7uuIHLbid5smMO6kP9LyIYrZa3FkuBjWyIAIt1AQBnRk9jc15mmQbj6bCm9mhG+EhnoCnbdoVBKcZHG1r8AKhsHYyNOfQ6PIlARijIA63FsNmjdvMFiyD2DvYXxYyDNkKgI1LEl4WP3Pcxt3yG/a/LeZ3CLMn6BgH0NNh4hTbeUNp5ud0gRW3fq1Km72LzwOeGvPkFhOtyadl1kIB/Wv2k1proDwYwc1Jauz1CpJUhpLdR6P/rnwl7rKra8u7lg5/yeXXnYwx7W2B//b/8Fzucv0i/enY0qB+wu8aRtvvu8T9t3XZuPHvhXZj5SGBktmCJ5Q7VhW6Xl2Hvn749bAmO5wMxAPe71cdBvJ8MCIerkTQPBGeUPslo4aTIGo7zJdzg9QbiKlsXgYASoKK9TX5dxj+E6ov9tJFBkCAB3SyQGlJ8EmAYO4hAk71b+HRiX0VcOxAwAvy7av8RFBdhYJ6LdbWUkslCBcIBo01CuaQ2Umcjxfb0+ZUcgYRF9J2EgNpDSddYtckRAw+D41n3ZBB8AUBH8rkNrgCg/E/woG+2Xe1bwhJOAnDnmEWQC/VaW85ay4GwCyPscMuKUc7VlZstwsIZky8x9evmUMhCo46zLuq5HrH3OR98slCmfcVfXkpXCQWnLYuPEONxBUEOAUkYUgqS2M23Pah1HL0y2RjbQkgbn2uGSiMy2Q0I22Yqh78GJZsfIkkMbeIesYBuEoHmIgDGnVSaQIChbLqA7dy+6oe+27nccdE45oroeQRgJ0g0JmCk1VV3k8JG2oKe1a83uOwhVvrc9ccUVV6w9nRiOEeSO0+iRZmxFG9kqQ00lA4y3lFYFKhPsnSAAEVECMTLXkNpxSI817//9QeQgmehe+7Eex2aDkKSCxTU2Jyd7AlaqK6qsG8GVyFqeep/2uZ5nh03KTOny9wKrgpCCcvsaiEMZsBJpyhGZqf6tTsTxb/xSazICGF2eX39RhCRdQw+Vet3v/R0pKUjWZ8BWsHJbUIHPy3Zre7UuKxSpi8hFxMPrgbntPS1D+I3wdrSQkRyxzv8RaIX3YL0pB+wb/kVX333K++e1jlcCSaAOmNuxQhtwy/zJAAmIEIo6cyiUhyob4Ngi+IAEkUJAUglCNKIPwIgAK3swBjnD4ZXFwVA5zAL5QykrBUA4lqfeipIrYWgrZY/yFEZxiVlIDF88l2wfhs26B7SVyclaMAA1ci1HtC4Ip3jA1O38J97XOuGEtR0IJrMB8JSJsWmQBxAhA7IeQQYtIcK/KwEjSYEnUelyhCz8m2h6faARMsReq9fWpudGEISTi4xDIJgPJJZAhpJf82yv2rdzlArtSq5d7hMEKvki7znKsu2BXg4lXYXQ9/k+h/Ipc9UWdJDhLsPs0MhGDjmnQuVDPTh+nCi6pG+Lin3O09B7IxFlsLQRNDJTlUiHo4l0jpOgBR5l9MeQ0V/aV/sZ2aqNjN/LWFrSCAdUZmxbsGbTGhn6HpFxx/4I+NJ1BmJV0FZPXvNAFwggkx3diHCVsQfbLKUHYlcZ0GEyl7QSqoeMZVhtaKB6E5ZBOCEXkShLagnjuRAu9Hxb33bkk8QCmWyGebeP4JJ6RIBjScHwaNkQxI6AgJLmyDSF6Q36gX5Btloj7L0WFn5Xj2OzQXwf+gcGL7OyyYbfwvfR7iDaipBHJI+sSyLouh+n+J7nk1W8rs2Z+YYh28jwKe7f5RrIRbpSBn85tEPQIskQnFa+Xo51mHjTPQW66GbtrvilodetcXpcwAQJKuO+z/As1ofr1iMCFesCgL4v+54+EcSAvVWExN7je2tZ4NnopGgjAtOr5KzHJj3U553q7wqqwFnmStBFBqoMbToN3iBL+FNlS46UQB8JjOUCMwO1j7TzuzuVgJIUmWw33nhjk1UBNCJmOOMcCkQXw6RPYmSpUvhBlNWZoTITlb0xLEpho4RfeaF+bQyD+8VAunFaEBRl+RNF7Zk4LfssQdk2GQw1BcEBVgIcJfyyOQAvhldjc0YoBkMJsJLtktsTtL07sg25LgJazj1gyVHSg6guPamvExkvmqrXckGaIAfaynq3zcWhfv7c5z636TUMyJeZTUAfZx9wsZ7KEqggV5FPZRZ4Fxno42cOrD2gTk8/Jfzubf/K/BX5H1rS2eUZlvIdgRt6SgYAJ1Ommb8Dr/Y2h1KmOJntcwDaSA5zVmbq0SUAvv3XVp67z2fedm9ZXkrgOB91K5gooaUjTsJAYikVXDe/7CdSgz1BKgs8hh1B9nF+ZOwIsviu6gh7W8ZK9OlmZwVJlzSiLFGZICe7JDLYAQTqOmdy6HsgTWQK0p1IUrrOOkQQyTpFMkfQM9oV2VvmBy5pC/wNfZZd/U5fZzoEzirJClUl8B7HuY287/J8UXJLd9YkaZCryAc9z5c0EBnIT3a3LL+1f5A7ylkjOz4COnVg1x60VqypJWEW2EHrBJhUoFSGsLZLSFJ4AiEiQcKaZ/fgcJnE9oOgjP7T9dhmg0odtaR5XvcsQX7V2X7RtsOagLvK5A3kqmxCJNMSWkw5+Bf5hegqy8vZAiXiU7c/6Tuv0SaB3imDTtYn8jewban3ZUNK4ulLUkvsYUf4nPZ2WcLPXpoz5GlbJumm91qHz+19vixZ84fWtZlDIrMZfGjZsddee20TyLL3kKsShRCo1pOMVJmgfCt2qcT8/EU+Vlu7m77z0vZ9rbz4dvYFbBYl/PR79HgWqM+REugjgSRQ+0jrzu+OFdqAW+ZPBkiAA0ORA9iMMQIFaYDQAYZlUVLsIrKyRzl6esqsO+GRwwawIWH0NOMIK+1CMIqY6uVWAmlRfQSF0jFZmzJCRCdl1TCkHOi6dHnAa872E3KLwz2UP5GNTBogTCYQAO69ZKh6b+/LYIr6ryu9me1hJ7iwOeHUIrYBbf/lPACWSoo4+dF0f93tgCdlfTIdyEVppN9aYxwV64csT8pAdgBZHJBYJ7K5gc/I+kboAcP2on+zLxFpMrfq/pHb5GZvIyXMk+taw9YixwAIBfYAwrYI+LZrH9rnemMhR8nVYQBISlmeSFRrHbkH6O/7hGVrBNFBh9IndEm5Rroc3ra0uaEf6X42yDsJOHESrENlpEiXk9LGw/yShf/SAd5bKTkdAEuZ36j2YB8FI2VMc9riVF/OaPw/QtofmZPIE4ECgc8lDnuQw+ud6DgEHx3HpngHGGDqChTOKUzCkUXUWm8cSG1oEGc+54wLMCNb6ViBULoBKXVog5NvfdFj9prAJV1PzyltZUdUCQ0dkcWqTYA1JxMaxjGH5IikWlofe/uI3WVHYRntT8jCM5MXOxiBHZhFKS/9RH4wC+IKZhGMRMosLTihX6E977n0QYVFkaSe3zta19aB4IH5sf4NGK6tlcOx2aDwfZBW5t++h8GsZcEme16GsqQA8893EWhGLi/lIDm6i4/Fb/Ks1rKggPkV7DGXdXbn0D0+5HfkCbeQNbtmzdlD9Cyda6hA5CvCo2xd+JxI4b6t2wRDkK/sHf/C3oQj7F14FhnaFy+To3eo8TmSUfWPFlreYZO/496ywq0b+Bt+E+y01rQ2oTcRsg7URFbyxWEAa40O8ltyYQfNaX12xJC5qX8jQMjnN0ey8smM744f8O5kt+2A4CmeI69xXBIYywVmBupxrYejextOOeJAdEkkmuMWg+IX0YvsUEQD5QqQrQPErqMsI3rQuBZwwmEBrusByAJ6DH8MYNZ9D6EHI2PHqDEyMRhpTolsFu/G0EbvV0AB6cphPMQBtCHKAc8YgDhntOtp5cgT1wBwQi6yqERXgYmTNjhjsU7i3QEn68T+5ORE37I4fZtDNBRIiZyfPn36fCmwe3KgEascR07DSRmAqb36/Oc///wrC9oAxsq/ykMk9imTTWtE9tchDgElJdMBsryDthSy2Mv2MIf4bn2f2f6mAyJo4vd0gExS9rMcviNj0+EW5YgspCBSEWb2NCe7rzPa9/nHfB9hQcdFb1c6jiNJxw3py7ntWTj0giOcQ9nbBtkhkejc+rAQa9I8bHKUt91z358jFKwvfWdjsNdw1hQndctQFPgWDDVgIOQdMmPdASv7longLxwi8yoGMgqWqftJw3e+6zC/wCxsA8yy1IAvEhWZxnYgQOF7QX6EoAHXw/MXXHBBExhAoGwKgB+bDQrfhx6NMwwQjmQiQEV+UbYMawm2IiqXFAxArvHf+FExol3HEvqHC/TSO6WNRx5KwrEm9Zz1HYNc6Vj7b0iGrzmUaSrJI/QQXa4tkzY4Q7Fc27qXUctWdKkAE6ySAU4/xt7zfkhlgXu2mW9Ml9CbAncITWswRuzPoe/QRddqEaBipfTdzQffnY7IkRLoK4EkUPtK7CXfHyu0AbfMn4yQAJAgusrR0q+FIyPadMkllzTgUCYMYhXJhfjzZ91JtAyEiJ3Sf5mYom2u09Z/q3xkRkZ00j2A1y4gBQAGchgawAdg53h3+e0Icd3lp2SjfAsI8+5Ai8OxGG3PFicrIqgAGwC9bxR0qmed6jocCBl6nH5Aoiw956hxpnzOcbJWgIy29eL38b19ykVJvAyDWH/WvHW7y3VkbgBJQBhYl7kT97eurHWA094Y0xeSvLUGUHpof7q29Wi/6wunpM9+EnHmWAJ3CDqk6qGdPt1lvSOjlHvJiqAHAVRZAVqYTHkoCHAvK4ue4IzbM8Bz34Of6GG6sl4jXd617Tv2MsCOxOJ00F+IJOtvV8O+ozeQZfTkrvfd1O9pT8n2klHPSY+57hJg6jq/2p2cPXu2IVzdL8gcdkeAyjwixzhqSBOYzFxb0+Z3iIM6tZzK69kfgnObdFy5h7yjjKsheyh0rT0vA59cVN8IpkRP2Thkz1qUOaR/ZNkPcU5ZzHlt+yzwkkBRudfYH3rfPND1iHt6vysBah36LT2qkqnvGqN/2GGkkOdig83LUBLdvMocptsCq8jyKgPzvsMOwrw1lmmbh6VgFs9mLs2XYLY5grNKbC44AIPSRd4TRpbtbZ2zQeaYvpXh3ucQsa46aq51rEejg9GQ2XSqg6DqtlJd7k03WxuuQ5+wxTJ0I/PYv8Fd8BF8uq8gFHmbZ88S+5KvE88TBwWab89e98vvIosx34mqMhndyDdkHyJOGX6MsPHexff4mQYSUgCbvWInt1WwdXlO5COfU7DInLq+llRd9Vh5j3KP0Ul0JqzsOemq0JWIRnOy6R6ybrUTsAfpnNBx2uOpvKP/tN5A9tJH/BBtQxD6ZZujLjIY8h3zqFKB784PMY/k2HbQ55Dr529OngTGcoGZgXry1sxBvTFAqKTaiYkc/BhREihKJiNISYFInEwt4FjZTw1sOT+UPTI2hrIDillDdpGsqQYQqAQN6AVukAqAJLJHds4uSEq9pPSvaRscOwcDyc5kjBBXwC1yZhfPNpWc+1xHOaY+ctYFZzPWC5BuvQzNmOzzDH2+C3gCcspxABSkEWDjD8cRqDmmubIv7WWOcmTR1PKydwBB2Wv2PFAXQNQeLnsV95H1Er+rvFlZbmQFlM9o/eoZh4QaS+ghFGTmA9B0FZ1Fj9K95mNf0X3vjUin9+l0jheHgJPDkVTamKOfBNhAGd4qKuh+jhZCyD4SRIxS2X5X/f/fRiLao3EYRX0dc4hQMHdK4lVIuDdniC4DaNl2pY27JMmHvm/8zh7SO5ws6z0ky7GtumXdPZFqnFT7mlw4whxbmbuRvVv+lrw4xvTFsTqTgijeD15DXCKPyBqxYT2NCdp1mXvEi7Vqnt0/yE9Ygt0pg7RdrmefwCICVkg2f9wDeSyTEHEzVq93eY65vuO9vB9MVWKtwOYIGP2xzSN5wmbIGeu7zd6x9VoS9JXzXO+37rqCnXpBWhdl1RfMAsd1Je3ZOP4ILEQ+yEh6wUAoTxk8HSMjATKZgeW+hCMEj+yLuffltmdn72AFrclisDP2H//Hno4Ba8PUiOuy9Qys6VCvKVojnDp1anXdddc1AcWoaHB/BKdn7ENErttjdKJ1wy7UutKcrMsSVdXE7rQNbbTsv7ISE9a2f/VNVU4/53Afvrvklxj2BH2MgFbSnyMl0FcCSaD2ldhLvj9WaANumT8ZKAHOnsxThKSSc9F5kUNRqIhWU56UqBFAl+GoTwDXg0YEC1DzOYcRCJfZJivVH71txg5gX8N7JQ/6xADCADciACGA9G1rhD/2vuXvGWO9ewxEqqw+YMKBNN4XQJCJyvB5NlkAng1IaDvFfspn28e1OCaALSDLyYxsRVFzIErUtm8D97nfw5xwGpVnIhtiHckcs/bj3+d+jl1cH6BVqonUjjYd/h6l60AsYGtowWE9R4aDwARnLA5f2cXzzn0P6xWx753tRwEYrTZkttjPyE16xJoeWyIvYwYw5ZhFX09OrOw3emRfJzgLQMm4c6BOlIlbJ/qQsgdLPPxl7nUx9vrKfJEViPkojTbXymetAZlSfbOOy2dyKjybwqG2lthC11N5Yd4QKvYpZ03GGSeMIxtOnSwlRCQH0KnFU/cXHSu/db+XVYTotIciE5RcOeUcT61HuvTxRLogS80N/BLZkjKLrHfZQGwX0gJRHbiC3ZaNJCt/aEbkXLIZe11rgkzIlUwii4pOpPeRNQKgcw3zCG8ig8xvkGAIEPiUTup74KZgoT0Hc2hFFbY9/n3IAYxzvX/f68rmc0iQIC+MHVirxOb+3zza++QrWBI9MukERJYsdr/1d7JmByMzsO8z7eL7nteetEa8v2CRwKQAkYPe4mC4Ls/Cp4GF7PkodUci2fdkJ4Ny373PvRefjJ6XeBH7UkKGfUnvm999DoS25Bu+jgxowSwEr7/7dz1JzU2ZlQ5bkK89CW/x47xrVDwNfR84S2sA/iuikp6W7UqfCAIJViNqu4x1e8y7kT1d5d1rXWlNIlHrQRahw7SG4icasKa/G2y3oAg7Ry58Z/ubXfdvc/ZZZj8lUrED8IN2HirzVLloieAzvcFzpAT6SGAsF5gZqH2knd/dqQSQCAw0pQk8aXCtJx0DxMlCSCI9RbWVkMQAQhkr/WaiSTmQBqDpj+ozfXlkb8loAt4oZdE/J9uOHchTBrftRNzbbrutiSSHgR57r3W/B0DdS/YYEgTYQqA6dEZpIFlySCKq7TqMN6PIcT3k7Ic2mZhzpaJOia5LvckHMPdZ1wyBueatvK4eeNZtBAfKz5zYifwFko5hrjgGotyIA8AIYSBDrswWt14RqkqHALZyxGmk9tWcfZh2Me/uoTTpqquuajJugFvECd0EwMoWB/o5lhy1tvXR9Tk5DkgvGenKq8uBnEEcmBP6ZJcDKUHvC2zU7VU8l0CYeR56Ovcu32Up90LGm2u2tM7epWfY2jZ593l+mTTstiAIfSrbxj62t2Vg6SuNDOH4GJyeusclB9xJ48iIQ+jFbQ+dO3eusbWc7XJYx/YQ3aX9yLZRYxeBIuX5SFh2+zGPeUyToUiWgmq+zxmnL82p+SX3YxreVQ9a71VXGMjCYgv1jIXv5hhKqNknAfi6zYWMLM57fVr6puegv+htuBPxVA8JA2w6UuUQByylNN981WXl1jEsRgYRmFMlhaixdxxcowICTkcw2zOwPqzud6pNlpqZLilCwAjRhvRHYiFQ9Zc0z94H6b8twOH37FvbAUACS/Q0ebDZ+xzag+lhy8+q96XWA7AKfLrrkv2QCd1LJ2izIRgcBCYMKREH8cs/FFAMAlEgLEhOe5BPFL5ikK1DZS7hAU6F3+wL10egKoNHatLj5r5Lb9h1e4wvo2+ra5f+r2eWeIHkR5TWmdyCHfQcEpcswiardrMHXVcAkM/BJiFQ2WlELv9bYEswaY7BvppHCUHmQs9aBKrECe/Bd/dfOidHSqCPBJJA7SOtO787VmgDbpk/GSABGXgisZwToy6LiRR+n5UlvzIxAFRGKbJBKH6ldW3XKa+7rnS4z+PLcEXy1M6UawQY5wjNWW7MaUUObxvl+4aBVWaytHL2be+x7XNZpqKxHPl6hMPe5sxvu+6cnyMf4mCA+j5xOjTnel+9r6Z8d/sh9nmX69b7FGHDsTiWrEQAscvJ5GfOnGmI1qGDQyeLlbPeVhboGegRmYm7HAJQ1oP92pZhyyFCniDMc3STQDjm6zKKObxsJ4du6OgazBEA4HgJFLS1IUGec+qmKJsc+i5df7fNfgj6kr3DHLcNDrvrRSUM8kUVAowiANpW3iwgyAbIXq3LUrfd7xA+ty6R8g9/+MPv9rjemZ2ck2xH3kbwtX4AdkhQGnkdFT/bZIoQUAUkKNV2wBOiHGkMhx3iQKTIHEcA1iPsjfUKuxjIRRU1kYW76Z3tj7J35ZLkQ49Zxxp+bwAAIABJREFUD7WfUv4dsbgtU89a8576nLdl4CPy4Pt9t+sQuEDotgVwt9nvXcwbolJgydg0J+ZMsgsyM8jtaL9Q/p1OlrAzdEjQgVPb7hH3k/2q5cC2sW6P0ZWIRe9eY7oot0d2ynovR1e7XcqxfA/Xqw+N3PYOXT+X1BOVUdvmses183spARIYywVmBmquo8VKQDkCoybiJSImos0ZEX0DuhgEmZQykeKkRC9D4creK8vmZL3o94ZERdaIZIk2ak4voi3rEqEZpyOOEQpCwn3aMk4iAv/Yxz52VuKL84kQZXCUrQA7BkKZ3OJk15KIikxMz3ZsB/JwQpU9t5EDsnARrJz6AFxj5n+q3yIE9cBrA8rKZkT/OSHH0AcVCYhMiZ7EbTKMgImsAXNZjsgEMr8RKJlqHvZxHUSITHaDcx6HxyiFtkY52QbdePr06cGPSI6yCehTOqMesn/oizFZrkMeLrLlZUS09Y/kKNBhssJydJMAEkrfXKRctEQof8lm0iWCEENH6Ygh5ONUdddVBRGOInvLoWwLJEZGpxOl5251M/Q9y9/BFoKmbY6p79nH3qlLRiFMInAcFSqcdiWK9rnMImSeYb+GTWffZRUjXOwH2bvHNGA8mX0Ow6wdfUQBQom+ZCvnGDLt6F+tKepDWGQaCvSw0V37B8uMQ6AiStrWt/fVW/JQg0NaQclMa6vACmxuHmFvgXqBa/0+BVQCl8Y8wuywPdzqt+zeUnUCu2w9wm3K7wU3ker0rT2pBU9kP25ap9G6iY6UjVsOa4e9vv/973+3ipE51v6mawqu8tEcgFTvSyTejTfe2Csze+rn58vBiuaFTyMDVQsbLaBkoJKv9ccm8S3pcJnQMkB9ZphLQUVZ0r4jw3/ooJ/4Gq5puAcyHWa1/lVVdSHY/XbdHuPXqvLw7gJ29lQM2aSyS7XvgSPLERWK3l1QB5FryJq15+JQN+/PFpnf8j2sc3pyjgG3yGI2Z+bOumML+T7aRJCjbO+yp+wcz5HXPD4JJIE6YE7HCm3ALfMnAyQg20ImiixUSlTJvr540UNGlB4wAcCUvBgIQU4/o1eXN3PEARjXQWRGCb/vxqFKyrHGDsSWZ1MqUQIgpIDnVG4AVM05ovQPgOB8IKDdHyGtp42sMv23lHQYPgN4gA29mo5tABVAR51lar2I5gLpffuYzS0jgQIlP8oTy2b8SnEjC6GtBHDu55rj+vp6IVyAJKCcoyqqXZblCJQg/JRtl+VC5hBBDtQB88dAKMuwVFLvXRCkgH+UxZl75YAAOf1Xl973nR86T09kGV5lxgvA7V4IGiWVux7KH+lmjkCZZS2LQ5AKweZggRzdJGCfyKAhS2ReuU/sP58J+nHOhw6ZgBwcOgoRKzAloKENg/m0vhDyyAWkIuKvzjIVyOPsIsz6HKox9Jmn+B2Sk3wFGso9hFBhV7uW3GpfAu9EQEOJvlJ9jqMefpxtehKZJAtNZQ1bLgsSOa7Nx5j5m0IWU18DZlPWXvcFJW+BlGiJNFfQFxmoDYODneosU4Q2rKdctk/7H+S3uRa0Lat92Dc6HRk7Vq9PPQ9drxcEYJ0BF9hcFiodLjDoD0zvv/QAu6dNAlnLSnVWgev5L9mQ2VLtOyKHXRLchl2ihJ/uU0UBv0hq2DZgcSSpgGYdPLe/teaqybFt15zjc8ExxF9dJWKezR0dJQiwzz7WKrjoBz4fLK08Pw7IfMADHtD4YQKHPtcuhn7lo/Exo4RfEAtGsg61uBk6BLi0YoLrrfUo4Rf8MdfI8bKl2qb7rNtjoSv5fQjfILbNiaxmviBdVetKLUgE+hCVdFoE092HDO1XZCV7I+M/SvjhcHZexSc/Za7BP2fnBCEQulHCz776jK4Zkx0813PndZctgbFcYGagLnt+T/zTKWfhxHMqkHuMnCwNB6gwiAwB54WSF/XlcNgUbaWfiE0GlCEAUIFvpAEwy8iLACJwxg5ZCZQ5g8jJ5+gAjYBVlKKNOaijy/OJGDL2jA5jSjYGh5RDIDMV0cw5UzLo2fw7AFH3+epyv6V/BxkPKDG4nHYRWDLhrCPs2vpN7fudPJ91xGGwjmRKI7XMFcIXsJur79s+3p0zCbza0/Vp0/FvnBCBEZFx/RZF2u15wHDOMs59yMM65ZyXrUoAXKSiNYFguvLKK8/3eR76jLJ37Q09rhAEdERk+9AddEKdeTX0Xn1+hxCn961xsohDRgBo60GG07Z+cn3udxK+S9dxetgkcy3Di9NGpuadPRxDRMmcQ7azP/ZwVDi4JnvoDyKM0yP7xt7Vow7pxwZrTaIPomsgHQ9lcFztIWQxuQqckjVdjUixh7q0WiEvgT6OIkyDeNGKiFOrxyrZkKEgLLvtmgIcSBVOf9dDSA5Frp4zAmR0PNmSCRLeoWccfM40MmTOIbMr1qV165mQWf4I4sCjfQY8KJht/8mohLmQE/YhrIIgi/79fa67hO9an/aCbFLvFlhL0gJdg7TyrvYGHC7jzRqHzwOr2jNRZULvs3mwwRSHvM4lI/vR2oDbEFKy/exN5Bzil59hrXYZ9CI/BxFLRuyvJAAy5AMtIXBuDwiKmVP2WVWDfWmfeOexwbguctr2HeQ8rEhfsimIXTbOfw0+X7QuinYp5sw7GJJu7H2fedcxQ4ak+Yw2OQJeiFRrg8/KLre1vWi757Y9Bh/SlYJu5oSvrH0cMr8tUx4Zbh96xnLvxf+rzuTXWt8CPuTDpjmwSnk9u93Fvg2VH9JZMAEHACuwd3SB3tSwheSCpfZGHvrO+bv5JZAE6gAZjxXagFvmT0ZIQG8VJGlE7eNSDCKgiRQLwoWh1Hu0rUTR74ASxAMwXl5HJHXsadblKzJEDC9HKJxI5CwCt8tpvCPEdf6n5MJglgds+VA2KhKKQSyfTblsWfIxxTMs6RqyomQ2MfblepHpMSayPOc7ivxaR4iJGACfdbSkdgNTyAAo1PdNxlZdou/69qdMU4SfwIoMNgOpCIhOuX+neJ+x15CJIhCkbQnZxEB0yZZWUlqX+A29JwCtLEomogGAc9TohDl7NW97Xo62bFtOhiGjgm73XMdwWNi295/jcw4vhwRBbSAuOXZ0yhSENFJJJianphzmi67V+9H8IUY4Ykr/Yr9ba4hCAaOufdnmkNGQawo62ENRhjx0DyHQEKay79kse18ghZyiBULZL1Lmo6x8geZ9ZnsNkVnX37DXshMRHvSiQQ8qg9/WU7LrPTZ9D05C+CGw4CYD2Yc4sl6HrFX4DB6NNheuCYfYG4eSeb1OZuYI1qIDSqzFTgt8kqfgtXUtCGrNk69/Q/iUA15WNbVk8jSeV9AEeeq9Ymg/4NR3LT76DGsdARjtyRBXAk/W/FL2edu+VAbuGdtaAvV5/6m+Cz/w+UoMTY6ySsteoPSsCibkfySc2OPIfWTnFJnP8IyMU2s9+lkLZqoY9O99xro9RvYSZ9iPUlfK8m7ruRz3lB1tjZZy8hkSFuFsP8ugDdyAMGXPEb+70FeqsGQ0B3/j2RDcfPd1/n4feeZ3T54ExnKBmYF68tbMwb0xIw1McBDC8QNK9PuSvULhczSQf7IB6hMGyxcGzvS6Ec1mzJAulHJd0jiVkBhiJBgnJ4yMLELZE4yc6BlAKSo4hfNaPzdjp3RExE72K/IUmAAUAFfgrHy28vc+85wcQ0OkEWm9VOICIBGlR5CSOyAnM0X5V+ngWAMyQPT94cQPcX6mWh9t1+FcIN4REeaAvK0RWSoiwlORZnO+w5BrA7AyDoFVmUXIFI6CYASSVKmQvkfmNeZQZob9vrQ5HPL+9W+sA2QX4oBDRg4y3GT0yHgC/qd8b+SMDKgoIwPsAdQlZKTLjqevrP1DzcyaYk0MvYa55VDRK+ypbA1kjT1mP01Jklu3MpCQBuw1Ut4eRZ4g/mVWluuW3mYT/c5a25QBi6DwHrJ4PDPyjKO+FELBO3g2+ol9kfUjWEu3CaCyn11OpY4MS04t+cA2rsEeI/CQbghVDjKH+dJLL22IvD5D1qzgqsw52IM+4WCPyUDuc/8h3/W+ntczWitT6j8yhzOtXcE5xB39V1YL2TvWqvu6f7nuYAoBAbjOv9tfcN22vQUfwiuyUctWPUPks4/fwN7kxmaTm7VKbgK86+x0YBy/s19gUO/O/rN3Qboib/SfXELGJdkive1BvgMCCXEDY9aHrsLMgiDsFnvl/egqe6yPrrLnrTc6wHqbM8tvyNrxfta89/WsMAOibmofgf2KvRn2qy82EXQXfOfz1T1AvXusSe8jaYdO1OZMxuOUesa96BjrWm/laCGnBcS69mlsqHXHn4N56RbPG74vXER3e7d41tCV1hsdtu0dAm8iS8nasGZVgrCx7IVnEBQx19ps8Ld3ZS/oEj1YVeWRhwA/313AYgpye8j6z98ctgSSQB0wf2OFNuCW+ZOBEmAE9L/SCxVAoygp7yhrZTQ0CAdSOYeUrChaWzYaB1zJetmHKEoUlL8xHHMrYgSfTFrPywgCn4wpkIXEnTKS5z0ZZNePjBXGl0yBHEB1HZgDNOIQm4juuY6ByFraQT1AlZYEHGzkOidV1hrAC2jJ6tgGIAYu0Ul/Fn3dkMBIDk4c0ORdOBPW9txrdNIX6ngxe1rJl/6JnI22w9y8NyCIODDHxzysA5nHAGuM+oAt60HbginWNSeenuXII+s5hIgf8yBjcCnZJMc853O9m8CZLA3Em7lF7HG8/B0xwRGZakT/u2uvvbZxrKP0L64vmCWbTMZkHz3mushYgQREAjLSe9H3goKyd5ZELiA9ZDKxtewnJxM+iazyNgc+ZCRoZr4ETMJRDttLDpxIuCEy8OlLf9d/UUVOlyGzzUEh7CRdav/DxWwOh9QaOUmjlHnoP/KQGc0ubcrcIifzo/UCvWnOzI1/Q8LAdV1I80OUN/mwG9YPudnv7IZ/V64uwaEeJcaBIxGuDs5SeYIojKoovwvcKvBife9zwGTafsHq9i9fw57mQ5jjCGx7fpnosmlrXaV6yCE+S9JVQ2VK9yprjyQQGM6a93c6ZKoKqU3YBMFZnyg/5H12ibsFgAS7IjHF80rkEIDRXkC1ZTnYUVjQ+mI/kdZkb1iHyOpte26bTLy/bPhoXRDJC1EZ4t7mQSCUvfUMAu3sMNs7d4sntpDvjgOIEQfM8YlUpvXBE9vkkZ+fDAmM5QIzA/VkrJODfUuGQ0Ya5e6/IvoyWJzey4g4BEn2BacMiYYEjRNM66b+QA5SMPrqiawhCjXtdwiDUwVlZ841kBOIYMQHUB7kJfDO2QLMpjrtWsSWc6zswgEIoqj6USFkZOCSw9mzZ5tTJ+sRh3cB/RzdcKYARr/zvOTUJ5I+l0zjupxBxBpjHuQaUCDDBjhv64k79zMNub7Ir5Lt+lR0wBRIUGbbN9NoyHPs+jea0MuK5nTJiEMgAEwXXnhhc/CX7Ge9qfw7Mq8skdv1s+7ifjLX9HeKEeuXzrMHgUVO+lR9xsjVvqYjAVODHpC5Luhjv0+dVbILOeY9Vo29Q4Sb25hDc4sMiBPfp8rqlTXPltJVepbJEJGpouKDflbup+zZQRQCW10HB9G618+OXoigAfvtoCqZne6zhMHuqJYxlH8GDrFfkWwyeRzksY6k9D6c6diLcE9kCjuow96X3YZUIhfZUt4dwePa24gLMlO+KnNVBlHIUlYPHNJ2eM0S5DrnM+jlJxOsDGIjhNhicqX/Qi/WzyEQAdc51I/djows5AN5IheUn08R6JpTBkOubU8KUpMbu22QG8wFy2gVFf8e15dBLlCK+EB+WesyF+0HgQBBY2sYAen/ETf0l9/UhyoNeeYhv0Hg8A/sDRglsK9nYzslPtjrBv9DMD+wWsy7vWlvw2+HekBYyE4gyJo3P7BJEGj2gnf0OV01xZpH0JP/nNikXpPxnuwjHDYl7raGJa/wVZGp3otvRZ+z1WxnZKIKxOmla82wfXS/PUdX22dwsSC6/1fizv7C0X0TceJQKu+t7ZusanOH5DWfro+85V/FnErq8Jnvks+cgx/K16dPBaUE9SWWxIFW7K0zFHKkBPpIIAnUPtK687tjhTbglvmTARLgcJw7d67JuBDV12ReDyrZkzItRN+k8yMLOQUGA+6EQH1QyxNTXYtR4bwBxYhZShghIetClgjFjCyYayiPlfnhRN265CcIE20JpiiZ1YRe1qVMXHLjvJKJMhbRbyAQ4QzU1SNOrGfQ63YIjJZMAU3Vl9J3hnE354jptoNHgBLvLCq+9IFoQHK0NZMHIPTX45Qc2+BIiWorY/KeIuHAkgwDjiuHRZ8o+wepR4cDdMc6vLsMO6SmDEEgOQZH0h4Fuu1P+3TM4MDK7mk7hMs97C16k97NcVgSQG5wLtoCSOymuTWvgmtTDPZY9ikiBJHKBnPykLVRgsfW+ayPHkNIIKQcHFY75YKE7Bq7uoSgXpyEjFCpM+URAYgHdkofvnrY8whTek/5ZJAx3lvQiGOtjYnAp8ASIhVZhXyiQ/VF1jph01ABwwFvIzhgBfdxnbmziqZYb1Nco5Z5eU1EEPyJtF93UBSiDyGCFK+D9uX87ar3/RQy6XIN5CFSUfVWnWkKb9MtEh5qshB+ZNMD45w5c2Z1zTXXNPvavkBYqzQR/JaN57AaAQSJE7LQ9zHsC/PsZPM68CGAYU/ZTzIJEVwIX3u2HhJBvN9SdNVQWSLq4DB4rW4pFQEaeJvuHzMQjBJcNmETtksgaMyo12R5LUEvdnSKU+bpGmub/8QvgfOsE8k1bJeMbH6VHqkGP5W9FIj0eew5gXO6yXqyJgVAN+25bbIRQNKWQjY4Qrcc9ni0obNuS/trP9qn7MVcpfze0xrTAohv4KBEeEarFPhX4EqQBgbIkRLoI4GxXGBmoPaRdn53pxJgbChvvWK2jbLshxPHSAF2MUTLlBtsG+V1tn237+cijgxRW5YpZ1Y0baqTxN2rS9+otvcFFkVkGcu24TmBWQd9LGEgzTmN67JMZacyrhycpQ9N2gEFDls9Ikou43qKyP6SZNH3fYDavocyLOl9tz0Lp11AhwNRO6gR4HANoJUDOmZE9oGs/rZ+fTJAlCkes7zHyG/Jv4214nC2OmjnuTlxnA/BxCkGIqTLerzooosaErXrvldFIRjYlmUa2an0+xKypLfpaYQAYlVGfT2CcOMU23PITH3ytClCmm7DQrKbBFg2DWSBoLFMo3oE+dsWPJ1ifSzxGsqwlSKHzOtnRC7YO+v6EyKSECxthBlSw56wv7a1AViibDY9U5wc3kai+V1UStTBYBgHqRqVNGSDFNk2kJPs4T4GvAFnRpZp+QzIL/Y6kgr4LIKebVmm9f7ex7tMcU9BK/tGtmM9+BTmmK4eWy3VBZvQ+V18nU3vXa/J8rvb9HkfeUpk2RashPvioLpa98SeQ6giFtkS/mT4tio8EK1tCRibnlOwQ4CzjYz2WZTynz59+i4BBGX8slDX6YA+sln3Xfa9yyG/c/ruU7xHXmN5EkgCdcCcjBXagFvmTwZIgBFB1inPF2mSjSoDVUmDzBYZh5R3nFTrFrIRlagrtVHyEENEWJRORJQjIrIHNAO3nIkob4wTLwc87tafuKdSbMam7tcis1D24RRRWw8iMgjAyGZFLjLcrs8AKpfibCrjjGb95cPLXtXDSVSxdrrNCbDI+WvLoNkqhBm+4B1kJyIey6zjuBUyWeas7N6lD2AFUdDmXMty0YLBHB7bkB0uuCCAIPpuvpTlaj0hIGIo44lDwpAKY7MOlixDwJguU1YK1FrbMexlmWc+R3giPscMB9IoQ1RmSheWAyjlEMr231f55Jh3O+m/VWHBCVOxIbukHNZPtJRRrTDFYHvZVw6XAJw2MDImOXR6pyHjkU0cVv/eddABstYEyeohW10mDpJ4Cb07o5pE2XddSslWsZ+IBSX09RDoRWqHUyzTS8UMck/ZvWsiC2QgaW8i8HrJJZc0pbTsmxJLmGjTkPUEf+hlXg8HhMgWNndTtXXoOsf7+l5kzJVERDwL/ae9jN6VqnbaBqxEbjBVnQEdGXRsVxcSYF8yGHJfGWs333xzQyrWmdbkxoaxJ3VwJqqFQufo+2htG4igqCbzdzK3/g14f84KsU0yUB6NLEIY1kEfmXAyZWWE03Fwtn3fRrjD1k6Fh+EOOcNbNR2cRk/U7yHLnh2ILPohayt+0wWb2FdtlWd97luvyfK3fCkkKvsydlhDMia1r5HRShfD9faRKjl+qL0UPU4R9xKJord17DnfQ6CqzIiqxdhzsljZhz6DT8335XvUv4URfMZmsNmljpN9am8IiM5xCLJ38P5whB7L7i/YIuMbH4AXiB7TKqlypAT6SGAsF5gZqH2knd/duQRE1ABYByLJIgRIZT+KwBnKEyl8ZKgR0UL9UOpeYIgIzo1rAbyMLvDDaZFNqVQoepfN8aJh/Oq+hQyfPjuexXtN0Qxb7xzvJ0rsXRG03h8AlZEJ+AA4DHA9RNQBIGW7yv7LwVkAAjl0206XnUOG664JaJAvoFEackbVnHJWt0V+d/m86+5FvnqHcY7LnmvmBMiR2TAWLC7hPetnAAKRJNYlkKlUB1kg8wo5IKNcVhQCRlYPYD3FPlmiLDwTBwVJLMiBFFLujNBAmMRhG9aEPTq2nxoiDUmKYJNFUzqIyg0FIDi5Ai85DksC0c8aMVEfOBZlmDLnpiov5mwKerIx9q9rc8rsZ6Wu1hkHT5l/W5BonXQFTulG+r08FV3wlN7gSFm7Sxgc2wiEyR4v95MyYNlb9nPbwUKwgGxb74N09n5RCo2UYccELukGxBS8I0tLkNn3kBp0wqYR814HTOhVRBC73pZptwTZzvEM9J+2CSHz0q7AitZukGNt94+2RgJMZVA5DlRjz5Crc5W4ziGTLtf0flq/KK91MFIpt8gcbEsIsP6twcA4AiACCta3tcfO2Rv2iiQAusTaFCTfV/A4SPa6Nz0Z8D0Eheg7MvDc9CAfpGzHZS8jV+mvtkBQF5kv5TvaLdFTArslriYPLUXghrZ2B32fP7BJ9FotdWkEe6bAJvWajOcUCOQ/TIm7XQshyRdDBgYZilgXMIgzPTyDhJunPOUpTWAM8RoBHXvOnvCHTSSXTXtum9zZDUF55CgsHn2LZaWy2f4riG6fx2Dn2F7fFSCac9APSGX6GBZg+/i4/Fs2kW9gPeZICfSRQBKofaR153fHCm3ALfMnAyUAnCLzkEcAqDIoJeZ6LplHCh95JmqHHEU+yVory/fj1oCaPlb6VIlmc0KQiIyncjkEbemcDXzktT9j/BhM4EJvKI4lwySKp1l3NNWf6r6MGxBDbvqp6R+JfObIihpzvmRWtA2yIWd91fzWAFgY/Ro0TfW8Y64jU4/zhzz1jpwhoJexNd9AVlsJ65h7zvFbmdKi0YgP7wE42gNAOTDJ6V1CmerU7y4wYp3JXrDm7FWg0JwhDTki1qxAgGxJgPKYB71gPXNUrAV7GPHEUfMZXcLZBBzrvntD5BJZc/SBzF/7CCCnm8wHPdm13HrI/fM380kgSCDVFwgehLy5pf/tuanK970B/cWRYbP9v0oQATe2jsOjgkEW18UXX9zY3K6DsyZLTZY6vSjTi86nFzm59PsUvcO7Ps+270Ugl9PpkA3ZRREEln20iTzmFHKakd72ImzgeobPBD3JU+BXEAXJhFxWkh/ZepueTxYsHWo+tIqBnciVrZTtgyycilDfJqelfB6HNIbM6Vb/Rv/pSVgHH+rnJnekoLmGLZFl5gx5eozl+/H+ymutR8E1a5UtUqauUsbaRxTWdsOahXHgmcA4SCA43HfZNrie3TP8P/IIPt8XhvNMst7YSTrUmoBLvKdgbtk+iq6SRR4nh9NVAvl0lXeXqFGfLbCUfdDnOegcLUb4ZDCC+bIH6CjZxWPL9+NZdoFN2tbkXLhbtQT/lL2iZ60hxKRAjYxtflZk/9sjWmForcJu2FP2l7VkSPyhv7ftuW3zGoFI+h/WZLfhBM/CZtuX8Lf9CiOyvewFIpjtndNv9uyqriQK8H1kHCN86WRkvcAL3aDFR46UQB8JjOUCMwO1j7Tzu3uRANJEGaLsM45fDAaFIYoydEbHv8nAWJedRhFz4Bj6GLIskRXryMQpX5pBpPwRRBxMQ6YsYnfqEi+gj9xk+wAhMThNHKhN9/NbZLRn5VwZDJVoMydhiQMJJ/IPTBiAAGDHwVxStuw22QHewKk5s16AF4BdS4q6Yf+2ax3S5whvZaWyL2PYx2RgcKKU/h569kbXOaEfOJUCHnV/J7pKNkwfEmrbfTnDsn3oW8OeoU+B9GPO9t0ml2P4nFMrIMYpNBAd5pY+n3pu6S8EoBLe8mAH9gZ5gCwZoscQFvS7AGTYfDqBYzW3AzdkDQg2CkRG30Z7le3lhG4LRgD29qLDngzOq3kSPInrIkANTqVMP5lCXQ/R4jArHeUgI3wMjjhZnjTyNOa2ljn9hyzTKmabXOln2FKwABljWJMOaEN2H/OQGSZ7TQWQIfgmQUBm2Dq5tWEcdk6bq8DFrgXDyewVPOl7svjUModDJCEgvKJHpaoN2B2xVQ66CobzTqGrfMf+WlKgZ4yMrHl+DBLVfBoyh+2XSLoYc/3ytzA9+xXYhP1C2E+JTeo1Sd/C3fyHIfZq07sjUbVIi5YUAmxOsrfOayLQ+mEL+GP0v2ENWY9Rtm7P0VX0zTZdte65rGn7zzOVeBPWJAMBIetZ1qvhEFfrua70nGrO6+vYe9rflZjC/fECdeupuZ4hr3tcEkgCdcB8jhXagFvmT0ZIABi58sorG0XJgDIejLTefwyKzzhWnBKZHUog1kU/GUnfRyBybGTlKFlo61814pG3/lS0FjEJIHKAtjlUWy/Y8gWZKw6dkPUqk80ABBDI+qYx2uuGSKQIo73iWWW/kfkSHdX6HQABfzisbT3xyAXws5Y4pkpNPbcPAAAgAElEQVRqgLGlkazWNmcMWBzaX8jccZIFDGRqaQsgexvAnZo4GbJG69+YEyBOVovntkftd/tZSZzgyNRgdornnvoaQDOg6I9oP5IjiGQlU5xTwYGp9QbgTEe6PzkPBeOlPBCznE6Ejwwizw3s980m8myROUkm9qt1zFnfpMumnptDvd6QubXmOE2cN9kmdKoKD3/WrQ06Rzm5qhG6NkY4idryjMmitxesUTpxiuzrLvNJdkhoGYmcVveWpWMdlz0Aa33rPTnhyBPkQh+di3xlv5FTfscGI8C9Pz1uPshUhuNVV101KAAbsrQXj6XnKQffeo3sKfqSjpAZ2kVfWluuQcZRdr9O9wgm1/MP19kbft/lfl3W3xzfgZHoZYFahDoiRFBl6MnpbXJre25BAdhSBjX5yNAUWIjTxgVIDJ8hbgRikDVdhgoN15ax5/cCLK49lnxF6payQnKZe9hx0yBXuGuXuqqLnNZ9h74nf3ixq773G2uevGGGrmueb0Gm5oz+CRy+DhcMsV/r3tPaE+xA+tvjdLS1z75Ngbu3zYE1wQexVv0/3QTT8XXZGLg3bAzdxY+Bydgg9pjM6BjkJjuEQBzbIsQ8mg+BIM9kHvl7EjfMb6yJwF3kNQU+3Car+Nx6PHv2bJMUBP+xqXz3tjNFul4zv3eyJTCWC1x0BqqeN5oG2yAaGRvKi5Bf5eBcU0Rdx1ihdb1Pfm+8BBBIFLVyKkaEcQOGEILKrRhATlREQMMAIlvLfi2exG+iJI6x4TwwEIwR44WE3aVBGC+d9VewH2T7lJmn5bcZZZHjtkb2MgE5uZwzoIbz5jpApOy/qTNl55RDfW0ZtTJvzDtw7Z1EXIECh0iUfUd3+Vxz3Avg0p9LGSGwwUHivPi7huwOOVjSejcPT33qU5uSJTranAQRDtDJ5FG6b56OOUuK827/2Yd0W2Q0WSP2a2SMRauSrg7LHGts2zXpVIDcfHHMgWC6hA5ny7sSYJwnp4sjRuh9fwR52AXrWs/GJRwgtE0eh/Q5h0pvbjJGYJhDtlI2kLnU96x22hCIWrwg/9YNTjYdFH3Wli4Ta0/GEIdXqTLCB5ZA5schFpzdKfUt8lmgE56JCpBSTmVmPsLBPAg8HUKf7znnG2HFwRaIY+OQ1sgShNpQfblJ98ARdE/fYNCcMuhybXhZthv8g7xBnrO59reKLJl9cwzknEPK6ACkFVvG7iOF2P22k7ThAEGEbSXhyCX4wbt4J7rIte1LlS1De3jbf2SF3IKH2SxBQQFBBG/bwaVzyG7ua9L35EeOoe8FbLyrv+vJPJaki3cwnyqNZPC6tvUIF8DfcMGcwZxorxIHE0VWv3dz77lLwQXg+KfWpfVEd5A5UtAQKEOMWndsjOfUJ5XdlQzDbto78dwwvM/HZDabe5hTNjk86Vr2ZiTeeC7+kvmKNeHv1sQufAiEMt89gi72NjzCn0Hwsn19gpNz76W8/mFIYCwXuFgCVSQEWSOCr0SiJFAZ+Ti1MZzKPmB8rNAOY2kcx1Pq+YgwB4AoSqQoh87Jfw6c4cAAXjJeGCLrQpYa8sE6KTP3KHsHoug1Q+nHIVJOrdWcfp9N6qecLUZPXxpAlVGxdzS4NxBQsvsYTAf0XHPNNXe5dTRtR3CQdRCsDBZnWr8nfVUP8QRR60FDeM4BnRLEE1LHugEaatJ9ynnZ9bXitHZzXmaVRN8yfaoEJ5YwOCf2sOi7fnJKUhH1AmiiznE6tbJ1wQ4nmC6ZOBwjU6Vq5k7mDMIfsLefAWoODpJEDyx7suy9Nuaec/w2TtCtnUyOgv3GcdJbtcuIAxLqA/iiJy5yZKqT5Ls8z0n4DgzGMWE3y6CZrFLOVtvBfBH0hscQ3GFzfN86RjgJevqtssRDGPQljFEfEoRAsY45wfqPTqVvOdjIHplFZBSZq54h9ouAElnSmwKC8BGbXGb8HoJsp35GB7EIsiAUyiBbHDijb962rMH6mUL3aBeleiMGIgERogdknwPRpn7nIdcTWKU7BSOjogN5KfDhjzYbyJIph0AgLGpdOywnCA/ktgCvwCFMDo+ZLwkAMCzbr71E+G1tzxSHrbEpzhIIUgcJRPe4Zhzy1Ped+AdsFllF5jxZ2Xf2fJyC3ve6S/u+AJFAUZu+JwOYeYoATRzIVZ+lwF7Qp8hDczjHgKH06JZAYq0FhhRIsJf5kNbdnEO7OORnGUC2tq1Tz2Odxp5EHJKJ9c/vpWvsnXhuCQa33HJLs5cc2DgUE8PdfGoEtr0f1Xh6jMIBhgOOI8FEAJQ9UkKvJc3cQ5WFtXnbbbc1SRXsIDvpELvLLrusaV8TPu7cz5LXPx4JjOUCF0mgMrTKI5RuKE3iHJUEKiXIsA4dY4U29L75u34SQOZR2LKNlNhzyhhWvVA4dpw1/4bQQ4wyfhq9y6ykYB1kQekbwJmoJgCAQPR7BgzYVv7AoPo9Z+nQB2AnKwLAZ3CRpAHwgYcnPOEJzXtGRmL5viKhwLVy6bq3TYAPBrx0JA5FXsAAEGJN1NHKOJm4BAmH8l7rntNc2ztth8QgwwEQ4H8JQ8a0bMXrr7++yfACbtkAJ2sDavYp8MQR8szWN1B5bINjhkiWYcDB9UeGC2fDIAsAEjkQh8Ahm5c4BKroIAdd1cCejpaFIgjWpT0FB44zjEiuB30H5OspNlWGzBLluetnEmxiX9t6DsuEQZCrDiqHrBTr07o1rwg+ASvZRj5DlrDF9K/PDiEQxx7KkGpzUJFNSBRrj7ym0Lfa68C9AikybAT1yA7xR+4GpxG+8Vw+99mZM2dWCESB5pM4BJTOnTvX2A1Bm3ogSKw7tqPPODbdY81YO0h/uLccEUBHaPp8ymGfWNPweqnzT506tbruuuuaW/HrfE5PsP2CiEGM2GvaSLUNthABBL/V7UHsIQeq2id1r9Jt7wfzImfaDgKz3shRS5pjCN7Jepd9qTKpHuYF8TkFScVXe8ELXrB65CMfeTdcAAfqHQsXzNFSC+ZAFLclgcSJ9xdeeOFsrcoiicPahvFiCIwj6eFbmdbI6hhsp30jKEAudaVNBPjYp6GVWXxC91dVUgZLEZQyZe0DQU89VmPwte0t8zjnQG7jAdg1Otxa5J/KWBZc1MbJf6Of7JzPktc+LgmM5QIXSaCKHgPujJNNWxOoNhDgLUpjQztYZFP6eh25ZJw56UBpjuVKgIM1xohSspwaQxSbc7NttJUQbfvN0j5HjnU9aKd+X5ltsl5k/rUNYJKzJvJ4aIMjRG+0yQZ4ACLonl0cJja37Myr/nltTpJ76/+EsOR0L2Egt5UPKVvdNmSkrnuvbb9d+udIQoEhASARdzqwBLUyUpGPCGYEJRtYk1hLeUdOqyw5mVv14EDJxOjqrAgGaOHQRoyEAyHINqa35lLktpTnEHjjyLVlmETACdlXBqP6ZMDAYV1s8r7lIZAvWNOWZSjjUwYQJ5L92KRvEQMXX3zx1teRAeYQriEDgcjJPolD4sXjH//4JoNO+X49BFqUikdQvauMuuieQwq8RgagwFbbafC33nprEwTpSzRvk6fKEgE1RE85JEUgY7aNG264YS1ZY28hwNbhBwEJtmNbG4D6GWASLSEQh219VAVXkM7HULnEjxaoRVrXQwDb/Dlfoo+Ob5tTdh/h1RbYD7J7jgxozwIz0RNwfj2seQH8Oat6Ipvd+R2lb8tPVXUgqUGiT5mBy04iDiW08GnrIfv6cY97XPMbZP6QYe4RpYIZZTsS54Xw9+hNmeMqwGLIWoXbYYCxa2LTM9vXXQ7iOwbffcjc5W+GS+DoCFQGyWaWUWIj1wQqYEnBIECBV5vXxheBXNcDLQnU4Qtsn78ETETdOOEMKkMhUs3IIRFEMvXpBF6U+cs+AsRkxgA8jP3ll1/evEKQsYwBgkIGqoirPzJQRV31Noo+NPt877H3FokX4RS5E1hQ9orMMBhZUVhl/tFTtrxflLq1OQTKTjgoemTtomxjrBzq31svMqNkMNYGPzJv1zkVUz/LLq5nrwg+tWUkWSOIp77O5FzPLbsEea+thNJBzo7/XnvttQ3Jy5FBKAK//l5H8Od6rl1fl87zzpwYEXX6yPzFfpOBhnykx2TiyzjQ5mSJQ7Ysna30sR6hZ2SC6PO4bXC66GfkSD2sG8EA4P8QMhq3vetSPhcsUxLblomGsOBUX3TRRXfRpRxje1QggI7l1CD5ZbDAbWU/3zggbynvu+45YAs4RJl8PaLNAYcYwbNJ3+phh+TfNpBAyNgnPelJjeMqkQDO0YaFnTIQ29ECQYa6TEL3V13Ttke23fMYPpfZjEiAT7RxqocsLxleNYG37d036Z7ImLMPDqUHc5S+thFF9uuNN97YEKtTl1EjsPlpdH5ZKSCI5p4Ggij+n48n4xSBacD261q+yG6FIdoy9CKLdAjBFBmDbdmrZCVDD/EFYx/6UOUpqahN3z/zmc9sDrS0zscOPj7fpK1Unr4zz3MFJPh9CLm2g4cisACvzBXYCzK0voc1DvtpY4AsLDOao2crwtXeqXuOBuk8piqLX8cemxM9WGOohoK7BD4EH8rngsdvv/32pvpizsFXlVCnskDyhAQ6tlFrgyDicQTkkCMl0EcCR0WgyhJ0qillrfTYqAnUWjgIEYaWUi6jI5uEOFZofSYovztOAsrFEX56Hso2ZtwZQIpbPyvK/qabbmqcB4S76LnfcPAYxLIMHbDm9PnDEYkeqIgK/488k21w6APBwkADrEA9gxOGDwAiK8QGg1v2Evbe0UsKQVP22vEZkgJZAdx0IT2WJkd9e2Sh1n3QBGA4yUqyxvQRWtr7KucEejkl5cn1SDl7BiCyJ5YwgCR7LzIsBUyUEtmTwB1wZN16Xn8QEcdaru2wJDoOGSNQBMAi/QFcgRDzRocJCtFbmusvcdDRMj4QT+UpynQMUoIO6dp+IIgqAF/AK4asEWuZHbCvc0wnAQQdfW8vlgdrICTIXOlcXbqK/BOU5Ozp02noway/m39D+MNfnMR1BxxO9wbTXCmybWun1/67+eabG7IJaTmVvkW0kg+Ci12y/5HPZKgPq0GHIzvoTXgZgRt935GtJ3UgX5AU1mx5QB37QecIRvXNQgzdo31ISS7QPfQxfXRouse6RQBqY1Wul8iQG1Luvm3NBXFb98RGmtElhgCqkmW4RVY3YtQfBAoSZ92BNdoSIAC16CoxjXcUdGRPh/TuD0JZYA5eLjFHkH1jiKttMtvl5/wslUn2DmIqBn2P1OaTT9GqgN5XJVevMUE3xJj2Dm0ZolPIIsjGup817C/4hMBkw+bKqLSe4FjrWWVRrOcIKHvHshRf0oq9SpfR7w95yEPukiGMdJVUZm+MOY2erReQx6VYz1FVItFCpqlRtnVjd6wJgbu2qqAp5qq8hoAY3UQvwL7RA1UAS4UTElfiQY6UQB8JjOUCF1XCj+ixMUojSbFRZjY0x6vNgOprIwtHBkqXMVZoXe6R35lGAkgvBIHsAhlpsuZkZzE41gJSAfhyuqehzACwQRTWCpVDTxFbT0ryKGNgC0BDtHKU2sp0pnmT3V2FkQYGEJ2akAN9SEKDzOwpmalkWPc59Z0o1yEjJI69R6Ycu7rx++7eavydyAWhA8B5LwQdJx9AAJyQOXNFnsc/ff8riPJzGulNh0VFz1sOIUDGIezSf7L/nYf9AoCXIQBEe2Zki/2uVxSnGIngmREy9vmxDmsSaLZPrVmOetg9zq697A99iNRZKmEC3NNDKkVkD8igkwGmB5m1yXlv0z9t80r/K5WWESTICugjkVzLZ4jVPgdJHuvamfK9EIT2orlig+1Hjhr9Yc2ReX1aMseKbhXYNi9GZKLGf9kj1/C9Qxj2oQwhh19xGNlF9sLao6foJATzlPqWs4qktm/YY0Mw1P0MOIWsyRKpx7nWaqCtxPMQZDzVM5IJm0dfsnnmhWzYeEQ3YqavvqRr6R5r/1h0jyA7ct46srcFs9hamFj7AxVZc5BIyH5BGQH6+973vk2mugw7gW19HssRWNVzmNO2Soby+wggRJDnV8ps33ofFWn14YN91hvsYf9bS+YfdoKF4Wf34bPOIas+zzjFdzfpewQyfV8GJYbeEy6Q8KSqyFkKgqsIcPoU9oELpj7ArHxWAWprjt8IW3pvf7e/kZpzt/azz7w/7MOewOB8Ev6pdWQ/sjGIazLxfGwMHebv1pwAG1vguZHCKrLa2pZ0nSNErTYC8Bmb7vpwp8CDfWQvCk6YF7Y9KoStiTFt9ro+n/eUTEd3y/jm7wuG0Rn+zkZm+6au0szvhQTGcoGLIlApT8aqHIwmJYccbevvwYkSAQY2u/bsGSu0XH67lQCwIgMLwRIDOJadxqmh+GUvGwgwZTzrmp1TvD5T7mMwDCJYUba02zeb726IF2SUNgaMTzmU/wHPDM+6wXDKBiRfA+GKfI5MgfmefN4rA2+y+gAAoM0QgGGchzZgn/eJx11dgIFTgQBHaADC5tAa2AXw6fP01iyHR9Rbu4UgDlwDqJTlZa/ODXD7PPNc37U2zRtQHcGPuBedFaXCSy9Z9+wyiuggBBMHgT233zb1LW+TK2eb3hbo4lQI7HDEXSvJ03lWIifKOmQ3yR9hJ3hBf6yrQkBys9cC4nVfMmSfIBb7fUiD7kTQWMex9jiZ5FBma02pb/WgVSIcpYklgWrts2UGIkorq5Naul+vIySqNYuU4PyrTELUqGAaWmbfpnvI3fwfqu5BhCAg4GvDfmZntYRYl+k5ds/SB/YQElUQwhAMQ84gUZUMR+a6z+gLmaVd2wkgNSVESByI3zvErjwYZ8g7wMFkFb4jsoYO01qnPpB0yPWX8pta3yOs+N0STepg2Zhnti/hAqRg4AIEIFuuHHvOYQ0iImUvIikNhCX9YC3uYuA5YBnBZUMgAznPtsC95sG6gpXoGOS95yYvzx17x3kNnnuKcxvc00Gt9EHYbfiSTkCwwgDsoDURGGDKNbFN7nCfLFvrxvAc+ujGYZfbfp+fpwRqCYzlAhdFoLZNb1nCD5zqgcGYioSILDrsRoRZenfXsuKxQstluFsJIBMQ6BppU+ShPEXdkKHIPkqfc4dYAMZKp6Z8WsBKmZD+fIyVKKCIp16pSycj4j0YMQAA2QRsOqGQg8AA12XNiEJ7hkPhfYF9pTP6Y3bJPvQbxtR3u0bZRViVAgGdngcIAMqXlN3L+fRunm+oU7VpF8jw4CQASOQmyk4GXTPuhu4wEWQEMX3I6UMKK1l0f3uHM7nk0ncHFTjwwfquB4fFWm47zGWovJb+O06u8iSEsvUqi0oGvsi/Fht9nDcZC+TKyWRL7UcZbv7M5TCHfO0378J5ph8QqwKf1mbfk5E5X2Rh3/bNJlv6fC/h+ciXo8Zh4WDCVRwmjjTiYJv+8HvzrOULh4wtMOgiOlDmiL0skNPVpixBLp7BOuZoblt71nebvkXusQv0s++Qif1c7wGZv4gjgS8jbDvn2UAI+TdzEkTO0gJi+54zOInOg1266rd18+Ma5k3WnDUrm15Aec5MuTHy8+6wH4wIP9u3MCIypN6/cII/1k8fezLk+ewfz0QnKOmHLd1TME3gRcWCvRGD3OFV5xa0HXjV9gyuyT6Ypy4Yt+0aZAZHIeHJxjzbZ+bdviWrQ9Nd8Z7kgwyj4/lDMCH9Tg9Fhuk6/TVkztt+AxfbT3x3e1NQHNFdtoqZ6l7rsDiili6fywdY9/z8ImX3slDtUYMe12JCwljYGP5o+KT0kvXI17W3+RH2sgDyVIPvoEWeeWHDDb6b7G3B0Oi/rVWiXtN9cdvY5xRI5LuTmz0puEJegoeJA8dK92T+fiwXeFAEKqMo4hDAnlETnXFS3KZsunppjBXayVxq+3lrSp2jUB8E5mkAGKBKuT5wAyxHpoxy7LJXnu9TwL73ohe9qImmMkqIJaDYPWRcLp1EZTiUEyEjGM9ong10ip4CmwGQlapo0K80BVkCsPo+0MQwIlOmKMkpV4boP8eZ7EWU7VlzwiArn5ubQNzPKr3rXWUN6sWGxAeMACKOMFAuS2iuDErzKshgICei1Ex2tii1YNSSh16nevlZv1H+Wz6vfydLh9voj3bsI0pGOZYcQcESoBEAR6DI8tOvq4vTi8yRdU4HWJP0JscCIAeE9VvsSjIMkbt3icN4rE3vA5B7lwc96EGth74MuU/+ZpwEohccB5eNoMetP33C6W5VPptspN9zDhGo+mtzUP0bh5yt1ZKHo66XG+K+7rM97umX/Wt7QCm4/WoPIGHsP3ugbI0Th0jJKpIk0DbMhesJ/tIFdD1nsmsSwbIltZ+ns87pqLb5gTXZc5gLARX2XBB/10TCNumwnbI547BBawVeRAbyk/Sk3hYE2XaPIZ+TG1wEHyE82HK4VDad7G64EZkXSRJxD8/qHZBNu8CPqhrpLs9nn/IVBP2QfZIz7NVDHeaAXyDLkT6OUnHrmU2mQ+YuhTaPTm83l7L4+TR8BP6btdnHl982D+yWioc2LL6PvWsP6vVPz9gDkW0tkMY/pfvrczhq7LTObmyTxabP+SawpefxXHRItNzxO4EDfrJhnfiOjGxBmV0MdhBuiMOPPSf/Eoa0Jz3LnPh1F++Y99i9BMZygYsnUOcQ6VihzfFMec12CehtG2Dm9OnTTeTLEK2ToQHsagguQmYwwghGRrk+bR357qAHf5SNxCFSQTRedtllTYbbkgdDgaTkOJUEMQPjvZERyoo4A0gR0URN9IEihkbwwcEHyh6UQyiZmmoAnk4Pjkb+EaEP8sbfj+mQpja5eVenJnNq9cYKcguB4BRgIElv2jkcGPsEYW1tlNlISoWsG2T63OVRQ9cS8hdwlonC8TOQAYAdciDKZgFhQRWgUub1MQ/rRxsO/a+ARwEIZDjnQ69DmQEO00KObxt6zyG1XKtcA2yhbHw6VD+uOQanjc7xX+/ASTb8XVsWgSuE+LqqgTmeKa/ZLgGZYdYKR5ZzHYPeEpxhWwSt1w1ZTdYnm6oqRHDb/NJ9V199deOE6Wcoy5xOnOOwmqXOrT2ATKafyz2gOkRZooMy2XGZRZx7+5KTSB+y9WwLssm8IBxkCzksM7J9/XvXg1SXKqN9PlfMDx0VmYtkfu7cuWbeSvsZgQLk99IONERG+uM9SjIKAYjAt39lz+56xKGC2mxZx2wRAhUedziRgI2AggMvBWoQSWyCbG/fV3mCgJ17kBHcgUwsEwzoMQezlof8zP0sU18fEUyv1D1hVRrIepeE0bVdwpBni8O+JKyYz/AR+GtIfwE3enCK7N44ELfG4vvau95RkoB1LQjJVl5//fWN78rvdPiiNebfSyy2zm4EdiKvsZm7dAIfgd2HxeBNNkgw1KBH+Hcywc0bHODf+JO7GAKuZMNWwsAO7UOm8nlwAXS01n05UgJ9JDCWC0wCtY+087s7l4Dor2gYQki7BtmmhmbfDAilzhFDsIRTwklDJgJoASAZL0AMcOTAISYAX4CIc6J8xD3WZXzs/MXX3BA5J+OB81QPkVbEqd6wnFgEDFDKeUW6KvtlrJF3/p/cZKRNNWQQMKhtDgVnWnlWeZLjVPdd0nU4s3p4kkGdDYQkdNCHAxr0T5tyxAm3gEVd1gMwCja451LL3/XqRbYg+oFnJClQ6L0Qpf4uY8HfrVsEzJkzZ6YU4aKuRV/RZ8C/U3FF1xHv9phMgQc+8IENOa+8fxtwRFQC6k7RBUTrYV8q6ecYzjGQ3XpM09l1LzpzKYgjG1HwJ8d+JcCJs+/oqHrQa3Ga9ToHN5w9wUsBS2QJG+0EeZ/5PQfSWhQcRZZw1I59sMuClioQ6sM+7AF2XfshJDWCQ3UIXch+G4LHSFN2HU6RQWZfqSpg7zm+dIMM/sBBxy7TKd8v5sdaDJm7PjkLBsCOsq20n4ixyeZO+Wx9r6VCQ/Yykqwe8B8CQqbbrgdMDssLxpQkLl1z6623NnrH52y9oKDAr96bcL6qCdmECO05q8SQMvQT7Fz3+5eR6jMVRG34e9fyHHI/vgCytC2RQbIFHQJTDG19sO2ZBIr8gVnq1ln6gtJ/AkxT9CKNvQs31Vm1c2LxdTLQuoJ9dV7LxRdf3Ohs/qw2N2Tv3eEkh6Qik42uduPBD37wNtFv/Dyqu9h42cha5glesN3sDWLbYGu0zdOfW6BB5WOpL0c9xJofI935APChBB1+LuyvnQ38oKpUNTJskSMl0EcCSaD2kdad3x0rtAG3zJ8MkADA0jUtn/GNE9RFHmWqysaI07qBxi4nrNeHXgx47Nl+Qh5IJgfptJVOMMIidIhmYLXLoWpTvi8QzNC23VfGryhh7aDMJqw9XRghD4AAbW1DBJdzoBfglINOQ1LIKgYq6sEpR3ogsZY4tNwI0Njl+QRHBEKOdXTVV12I5NCHMkvaDmKUrSTzEPkyxwBsZTJwzNpahihn8+/I/xz7lcAm/cQBVM3AeVmXQY+oN5eyYjYNDi19JYPvJJwcr9RQ7zbEQdvBG+w14vOGG244f0hG15Uge1xgTjYOB7drr8iu1z8J31s3P8g7PaORe+anDizAmYLv+8jobJsXeO6KK65oKgpk+dUDMS/jU9/AXQ9rGwanR2THxsE3stmit++2Z5JFO2WJd30/rUsQQ+sqItgxJC/y6xAH8k65eBsBTLZ0iOBX3wMeu8pCj3vtJASF6yGQpEpB4E2AbeywdwWddo3F1z23DM+bb765sXubhuB4HHK8zW5Yq8jutoBnH/kNzfjVm998zTlkrocfv+k+U/qyc75PXns5EhjLBWYG6nLmMp+kRQIcNcpdzxWkiVNpDZFpEUbRqWi6HVFT5INylBKkiVz7XKaTbDwZqJxF2VcyUAFOkTZZHUseSEgkiJKnenBugSDZBYAKolXGF6MtA1UDbgCKgwsgAoLliadj3xswZ+wAlpr4jqxgWUd1b9qx9/1/7N3Jy7XZVTbw+iNER+tzqEIAACAASURBVIKjBEc600Hs4iCEKIkQMpCgwUxEywaSElPpqqzEGCuJMWVDFEeCsUGJg5gMjCKCiKhDQUSI6Ehw7PT7fnfVVe7s3Oc5d9+dveDlfd/nOedu1m7WWte61tpH+r4ARQmsspL6UI+wG0pgf6lnT6a6j+VnfQhe9Lw6KnNCxtvBZoJU6z2Mcus2PZkAwzk1VQAoULyqZL9Slmvfow9Zf0A4BqpxpBd6uwd8Gv9PfvKT3YFN9s1aJD6wqZSoriFAMnsQkFwvrVLCjran9bFj13ieds3bGsDwML/6giL7GvDDfLsVcGFZ+p25ZDzTQxWzBdMYmM4GYXdJ9ljvyvivLlh3GLiAF/twKdZnKgQkhaxHuqYbwTTBGNM/jx0nkh7sCZYhmwqQ4NNIUrTDpMbPplvjo1/jV77ylc53VNlRVnCwRdiefWzF8U+w3DesMyxnPm0t2LSCxlug0nJP8Y1XwrCzNyA78F8xx4g5jIUnqaLygu3TGxO7TSmzqh5VV8rPy0qzNZ41rGLtrzxDKQAa+yMQuI/du8bzLH1N8Q4d8ilqSfuVNfcQICKwXCKpPvjnKT9hih6ydvnideJ2TV/81rOaxxio9ng6Fp9hoNKHygIJNoAoMBRTmGRf6vOdSrvRFw+O0ZlqJvNbnGDdSchJ9KlMwvi2LokkNwaqz/3Jn/xJl1yqmdpj7jvks8bK4ceSVGJ2DFT7rj1DTICZKikg+dGkaWCMBhqAOkZbr312rtIm3LJ9ZaIGlDPI+gq0ZfuVshElvwAFDplyIOAdkcUEMnBuAYlloMfI6KPiNEPGOj1QGTAOE0OLQXNkSc8zQVPZ9wbwyzBjQwi6vJ93AjJzWuhFb1IGj34Ascr4lYwsJSnVVU5SMiwBtRg2HOO6L+1S9z7KdTBwBTAYwuZX5h9nR7bW3mOeLX1qZPpMup/EQVnmlqb9xhs4ckSR9ACuYZcIsLxPDpgQWHHk6IwjpaxIX8CrM60E64ASYJRgU/kvPWGLcrL9XiA8pHyLgy65AYih1wg9Yp24hr5Xa4ixFDgAIQBI5dy3F9vTjtyfdw2dHPWa7CN7IcAWlESsOQCgBGRZxly/B1tqPAU5bJAkhzksOGS/2QhgYXqNr9HO5Ii6zRoAigqGyzWgcgRgiomLcaQsn50UxCoXtuaVSarisF6BSex4fCNJO8CqFieP0A5hjfE1PsB/dlMFTcaHPde3kP0ue1/6PHuuNVEfGLTGMw69JuaddchHLJmEkqx8RL7ZHgdKhsEOgER88HyArST7U6YPFLFGlMsrzeX7m/t8W0mCtYWO+MtKycsyc760Z12qxHzt9+i7viQM4KtuJWKeS3KaL363lgS4FKOUvbRzeCEAG0A35GDMe8/onbRGwWaVTIgvnsPMAPJbrt30Uwb+KY8HWLOP2mpIcPOR2E4tDsRqZKjdmHu4Gt8vVUgqlfxfEjVni+ibj2wDwGRjxDfWqfm0hdiv7B9snQq/9EC1Hu3XL774YocJNGkaGKOBuVhgY6CO0Xb77OYaEHAJ2vxdUvRjDIErNk/OFQOlBycjjdVSs52cAIyFJQPL4GBFKnOyMWOFyBAufSr90grz7AAPDigj5j0Eqt4BoFSCZ4BSLB/gEyaQ9/eeWKqCY7oqwZQlnpUDABTBfMWC8Lzuo68V8GSJ3kZLPOea1+AYYVwJFJSeCL6MjzmMfdpXRr3E85gHMtjmsDXjbwEe1peDSQC6RxatJzhoZca7fF5sdIHNGQ57W0LP1ivg1BqyzwmA9bE1ptYz0BGTYciBZAJQrHxBhblhrwDGAGLsBTWwucTzl9cAimvRoJeVfQuYCizyLgL6ISDw0s/UrveNGsA0sYf893//d9eT09zwb+CBns4OVnmK4ZhkmSAH4KoSIT2NMVX83J6ItYfhBUBdIlg+w1iyu9YAPVqD5RpQxhxgWhUBwJn+2Y3yNOS8J2CV8y9Jao/gGwG9JZiaTNNAPT457doeRST3zF26tm8qRTaPh5SXTnuiad/iB2N78oPttUBITDZzyfyogcFpdxn/rYBkmGLWvL0BMMMvwozlN1oT7F0554GY2HAAnpq9Pf4p7n/DuGork4o19wa2YeZZt6o/ppY837/7up/gi2K4s738UBUuyCZin632EAk1rcbEZ/wZNkeM4KAw4K29bSmJL36UtcuOSgwo4xd7AYzpPQxre7+4rRT7EgIKH/ApuzFHZ2IHa0u7pzBPrU9rlpgrEvBA01SISWZslYjR/xiozL8APtMJkBc5xBwCrLbe33NmwGN+twGoE8Z9rtIm3LJ9ZYYGOFh6qtUncAo4HNaDocFBJEA72c2SPVPeGmjqO+j/hJMso4YVUzcan/HIq36VgylLySH2b0AZR5mBKTPmDDNmC6Yup4VgVnD6tUKoT270+bmOYYILzq5x4yhjzwC4x2ZJl3ieVQfiiYsLugQEgCPCOVGCUp5svcazATvMDc4+5wejQNLA/CiDknvjnGTFvc8t/Q5AFyxwAUstnEwgqwDwUcR+pa9hGPaCOo4jwLNmst3TCRDV3BD8C7ID5JiXSzOi+57FfuD+AH2BnP3AuwDWlp5nZ9477o3j3N/fW9sCWkxUQa3kmzmHxZODFu/d3/ftfWyP8uec1CtgBPax2wBD+9KjgKfRmTVAt/ZnawCAZA3Qb1mtwGZrdcC3IcBm+3kJ5tGh7wlu+Tx9va/vjVX7/ddr4Nb48BNLew784W+Nsef31t2SY2F/j48oaeb5+QD2+rUOCBry/BKgGNeAj7J9FFskYagNFTCnlB/+4R/u/POaEHHvfnP07ZAh+sOws+4kHO1dWgosbavuvcfU39+ygfYd/rkxALKz/VP3kKk6BoiZB8aaPhEurKclKqSMV9lCjC+Job+1L55xq3UEf5DgEM+yA8R7qzpQYVnaxHxX8rz2ndjP0m5MnSf5HlvDNpeHMYmjndmA1e4ZCNBUNYn7bymeC2NYNRURrwPcVfwdnfi0pZ7avYZrYC4W2Biow3XdPrmTBgT+Nk6ZuThdgg4lbxh9nC4lEIwyEZDr99lXivK1r32tu1bAWJuwrJ+S9r7DHXZ65UG3ZVzjLNxy6jD66AYDlPgcI6kXkoBWgMwwa7bO6fYzrFzGcegBXrce1rNxBsY4nJi1AkxMJc8j2+h5OK9nDLY5q2TrZzc3ykPYOEf0ymD4HSawYKrO9nPoOLY+b/w5toATLJYtxPqULImTVN5TsKpkXYnXo4ixEuw4VMAaBkbJtmNrEKVp9q4xJ6Fm3xjCXF1Dz/XcXOoe2BMCJYkldkJQjsVnntcn/i51zzNdp29tC1pvJRuH2Je+9xeUa1PCxhiTCDtgLDCn9RA8m71dcqxvrQE+juCU/SOADcxSwKk9EfOGAFSNnf3bHPfv1vt0uREqx4cdxWQDOGGMqZDAOmUXMeqfEtfB7vNdyU3f1UvVd5eu/ul7DvcHICnpZ1utwYC/e1YD8Q09E71iQNqfAVxYbQG6/Cz7xw/+4A9266LvYKz6ve0/fFrxgGSOJLIKnCng51q2armZ+vVXQqjg50mSipvMT6xFyZa+JOkUH90d+R/RMVagRBAdu9cYf9/9fX6uf2yOq8YJMQbTWouT9NX3zFv64uZNfDXAI91n3adKwLuLu6wDewN/jB8XpqVx9F6upZpNpQ4SwZjDlYfOM3EgYhGma2mzw7g2Pu7L7gBUt4oHyucfMsZD37d9rmmABhqAOmEezFXahFu2r0zUABCNYZYJxuKzidq8OV0o+wIy5T9O9OQgEsYGAAQ8dMhKROkQYFBwzakSjMjKM2KYq5y5PbPzE1V082sCL+X+JfMwB/JgfwFi9KrjZNJDSiMEb3QNgJ7r2Ix5J2OqzJhjwXALMIyp0hGOhb43Wz7PmGc/8mcBJ/pemfMy1nRIp0q4y9N6OWxf/epXu7VUllYZl76WGEu/s/VprXPOy3YduU8CKokT/eoeQfR4UvZFlN4JCjmx9kOMM8ELoFsws3Yz/yPrm9Ov7BLAYY6zEUoxc4K21iaPDKL2rW1A8612N1PHGshv72Zb7TNsS1py5EBI+7rWMnqUA7mbvKoBJ1B/6EMf6pJbAZEwk+zThE3G0iMYcfZJh5AASYCn7H1j4iw7m9ghyXb7LpsoiWeOZ09+qm2C7wJ0rDN7tvGTIAas8HG0w6irgJZ9+me6e3kGLV/K9gNAnTXbCT31HoAYh+Tw5YFK/A2HQkoQpDWF78dX5ef7Y48HsAJwbgnmKJ/XXsOnRZCwZvhAEg0O7hkD8C09HmteD9PYu4tvvCt/z97Bn5ckU7GyRNIU2Oc+9nU6toeLqTEE92hxUJZ3exYscoQL8Rw9IASUZwKsOQaubd1r4SVxIq4EehoTa5E9VEEFcMbq5LfZF8Q3aXdmj3AN8ZjnN2bekU11jsfSzE9AO31ZI7XfnVYbqsIkL7yDeAA4PYZ9P1fnT42xOag6YMsxnvs+7fvH0MBcLLAxUI8xju0pbmiAY/Wxj32saxTtpFnZOQ6hIENGjtMAdLGBco5sopwzp03L+guik+nXA1IpO6PFyPq/EhI/AxABW4GuVxAAGYcZuKLfkAMQ9D1iADnOwCpNwulTM/+SScHh1KsNS4gB30oARIBvz1MG1p5bTzgAKoe7yXANKJnTSF9Soew3yFESsJgPMs8cO72ZzAdsj0gOZQO0ADzWBLCtRz10zVl/rG2CrWPNCnwCHnruLefmcI0v90l7lzLe9HZS3uUUYHuhwFArDuuaM8tRFyg8qjj4iA0AaJStQnK4nkTbVv26jjYGObjD2mYXAyBY21iigLil1rYyRIeRuBe7CixRYpeD8/wcS1jAphKEDWryzDOAH2ApppgkFr3QnQoA5cv2Q+AR0M1+aK986aWXOuYS+yh5wDb2nbze9DtdA7d8D6CDw4YA2SqY+iR+lLGU1ImwaxLFEmBasawlABlrjx+oDL5sEQEU9nxrHGh5730Aeu5Pb+Y3/9S+xO8zzx1sar8GQvHd+YLAHQAOu1eWGNf3wqADcDswsyRD5AAr+t6ij+o9Hazxe+1SJAzpEfgW4VMrGXdauf1lrthrzH+2tuw7mUO2JCuB4lsJQN34qtRBhtGSDQgpZhAzaoeiInErkfyib71ysZ4jyECAZzqzTzs0yry3n5efAVYCTZ977rnXAW/+ujZOYlpVWEsmHsW9mLqEb6kHun3NGIojrUnxIQCXTVIlwadQCbZVMkKLGnPbGPsbuWfPMd5qLrX7rKuBBqBO0O9cpU24ZfvKRA0AfgR4jIbMG5D0gx/8YOcQAoQ4B4C1Z5999hmnBwJQnY6KocXAA199nvHiUAFbX3nllS4YcfgUR0529i1veUvH4kgv1YmPe5ivhX1Kf04n5FQRgLRgDYOPPvSpy4mP5cNzRLEktuo3aXw4DrdOA0/GG1jUZLgGcuqqsvia7SKQE2DRuWBLKVHfqaRYDIJFDIaxfciGPqn7pwQVAAb4ilif1iXwluMoQDIvzYkri0QRoFjLDetXMA98wsQRNAChjB0mOeBZMuhWOfaV9eTdgEzYS4KWWrB4gQVsyCMKcNnaBpbULI2l1zaAwx82W+ClNFCwI5jFiMIQZpMEmQBADMot+u8efdwdjOdEZsErUIl/w/7abzGpiLVunQPjJHr1MQcy2ZsFu4JL+pzbeufoutry+f7oj/6oC9QlqmoxLpKQbGYf81dCmK+lZUUNNATQk7xcq/e+5+PnukfdLiNJFcn0rQ/B4lsCYgBtxDPw2e1T/BRsM0xGvb/jt/JTMPocvgOowzqrhV/ADtSAtc8BoPi89iBxwtXE+wHB6K3vQMbMRQmuOfLUvPEM9iSJoK0SY+wJsO8HfuAHuj0RecZcsU/yFQFv7E1fT/05enjqu1rKARvFpPW6B0iq+jN/tWWxNsv9Ogkb15cEKHvCipG8G99PgmEpUa3DXiNRsEE5zd697WueiQDoxclibgkgYOsWLNR6jO3JSCHlGCNUpT/4Unpp17m+BuZigY2Bev05cuo3nJvhkoGU0WbQhvR86isdPqMCGTrg6D3hWPSdesk4yfpv1W/yf/7nfzp23a3stUBF0D3XAbynj6v9HnCC0SSJ0CdYp1idnDOgZV+giKmmvLQvMFlKX0PXZ+4nSBgyv5d6vj2uI9B0iJQ1gWHKwX1KMFD1hn5E4fhj5fX1yMPaACQkMHg0/QCQt1rbY+y1ZJ6+dWsBSGcaZ8GyoHSKKPvH5tOmBWup9UKdosX+7zjUUEIPoF1Lkg8AUiW5tUjwYZmqFKjFeuSXAgiV168hSoSxtYA0faKnKPbbkmDMkPcAsmGBKkcmKsnGVE8AyZAnxo4HsgQwfCtSwBBdLPUZvgEA8RYgroWLCg0JljnCTzOvgduAy1oAtRLzwLUtRCKiD0yv771lXMdvwzLtm6PAQPMf8OiZkkTI8yYp43fvete7Ot+8lN/6rd/qkmpZO0voeKjNdm/xl7ZRWL32tS3aRh1xjJfQe7vG/hpoAOqEMZirtAm3bF+ZqAGGRtaTE8jZU15s8+bQ+qNHpuABC4DzEAaqTRdjjlOh9DUMVCUsymIF1JwJZRFYWzKYGJk5pGHi4x7ma4AwpZSMrUNmGGNA2Kc//emOzedvrAQMFlnaWjBhyFaOUBioxpdDXQuWjfHRaqHJcA0AwQUcHB/si1KUYcloA9vpH7vROqpZanGa1yzNyvr0fGXfP/9PX7SUEsmWAxzM7yuL3s5YN0rvBOmSHRxsDFRAocCXIw0kt44F5X2B/JV1lHf79V//9S4oUaFQC0aI5MtWyaCj6VspvbWNgVr3gQ2bZKm17YAMgKiEmPWKFSaJyeays0rOsSWNxwsvvNABfo2B+kzH/MFCxdRVis+3Eah+67d+a7e+CXa1pJG1L6GFbWduKxe1Z0oU8GnWbLNytLm99vOwnfxPc7gGGjD/sbIkAfpAa4CdNizApvq7KXe2Jpcsxy31wXawC5j3dZIiCWtsTAeVbSnaQ5nb2lEQQBPgzTzX3xzoyyf13Hx6Yv8AsgLv/L4PuAGOYqaxATWoBpACANmD+gDtLd9/jXt5PxVc2On8uVoyj+l3juh/ydbeYvkiQWB8av+1hfAFtSuQUOfLek+VDcBi60pC2d74VNuHpZ9T5ZC4VFucet1rMYBtrbRfdZj1X/al5eMpkSdiuLKiKC05lP0v0Yoh783GAHb54MZWf3IidhQjembyl3/5l138nXhAImIIKWmufusxxkBVWVqOsXcQ6zRpGhijgblYYGOgjtF2++zmGkhgAThjUACdDBQwyL+BCZwG5WuMOvDHBgts1WuJA5v+now6ZiVGHkcgPVCBqEreMWLc7wrCYZC9FEwBi4EHSjEEWRxI7AmOq5YGwKicDOndfZcOty7vEnDozVr3ZE3ZS19G9gpjteY7KAMVVHDE9IZKuVAOuKBbThwGA+dJmwwl43H8BDoCHqW4fSVJSz679Ylp7N7WMYCXcBbDUNFsX6kOp+7q/XAd9KHskC78Eagr0xPMh9lk39LWwh4IKHtUSW9rTn3J6LLPAZiUvZW9xh5JT0BMa1vLB8F1ubaVxDrgYqm1zc4AKgAgSnIT2KefmzHAhpIkk6zpY/Y90tjkXQWJ9mgluPQG2KI7zHPAgH2b76KHIx1KqkgkG1t7uIQnUOmtb33rI6pvtXcOoFH3gwfWSeraa/glfcKXMS7lQY0+x5ZiG2ups2ZCGCDC9ptDfOMA63wCgKUkRg3grKbI4sJpK8T/dDCX5I42UuwYoFdvSHuVBKKEIP9dKxu+Cdaj+X5LgE/AIHaxbFsg8QhMXipRtIWext7D/uA9vXuZSDUPsSIlW+l1rqTPLAC8bF0hBpNQ8HMg6lYC1JPM0Cefb5geqMB2YCACCVuzlSQpydaWFUHpfWyOiz0xUe3l4tjYZCCp5wWq8veSXMzBVIhByERLHhaYc0box5pUyWCdAUfF0J4FSG0e2TvEA3xz7TaGslfn6j5nmhhjcWx6oGaMEYLsZU2aBsZooAGoY7T12mfnKm3CLdtXJmoAsINpJZue3mkay9vAGSKBmoyeMitgKeE86D2FoSELGNEjEGAo+84p8xnOJScZACGjVTZFn/jIh/mad5cRLkUgxgjK2HG2AKUcesEXIym7CEDd49R7gbzAghNhPIyzTC6DqU8X4Hcrg32YQVzgQcxv42zOG2dzQBACoCsDwzjAgkLgu7WH7cHxE7iv7RRbnzLzWGp9JVc5zZsDCVR4BBGQGBc94wSUmEs5jRvryc/9LQi1Zh9VAP0CO+x6jKr00TXPcwLxIzMds7bpAmhRrm3AxVJMEraEjRXICrzcJzbH/61r9llgKwBbMhA8+9wHdgmaJYfTA9q/+Sn0VjLzJVD4QBin1r//Ay7Kg3POro8jPH8SjYALp2ljZUm+s4vsEbCqPICzfOYc1MjPsmerpAB4+641YbzKxPUa7wsA4R8DROyLnknyEasW8Mv/3Vo8g2S5vdn9MdK1E8Cmtg8Bdkn2DT6fOe5vIOFTbWokIoAqfFw+pBhB/2t/7EsSDFf1IQHmDngCIPOX7R18KoA1HQPrl+iPLH6iY+NIx5ieYmrthoDcS5aXD5mbxtacED+I36wxc10vXcl3ydUl3nvIs+QzSDkY1fYL655dtIcQ617yBBiozYZYjO8m7rE3GEd+nbnLX2c3vQubIOEoybakuB895fnKa0u68JuAuggLW8YD5XOUY6yKRgJr7zFecgzatfbRwFwssDFQ9xm3dtcRGhCE6eHIORBMMCgy1sqSZfeVtSnVx64kjKnP9x0owgg5dVCpnOtyLJX6K4m7Enga9QKRlTtweghjCDTjAMnQA8ew+zjV/g1EBWL5s0cpIEcDQ4nTx6HgaHB8lWRd1fEdsRQmf1RyQYIAmMrx5VBzdjWQ55BkrBkUjh8gndMpwJHA6Ot3Nflhnvii9al0TxacE1kK4AfAkNK/Ne5/xGtKHmGl2fsExP4P/LYeMAYEn1s08z+ibspnAqICCrGVONgCEPuGeT4FPDX/VDgASrYOwNbQtUSUtS2oztrGBK1be8y9tz1c2xyAtnGIsK/2EsBpDm2ce6+rfV91DV8Eo4qYvzlYRy/bOPzf+Z3f2dloiS4BtQD4av4LO2X9sU11W5ktx91zAA74l5J79AygsnbCcrT3AO3Y0tJP8V17tvG0Z/suIMJ3y7L6W99f4j3ZcrYfg8yzAXPdf63eq0Oe2d5Kn/ZqvimAlI9ijqfcmm7tJURZvnVxr92ANlVAVIlGAK35I2GDeWnMruhDemfzx9wS09jjgWF0J7Fif+BDl6XiQ8ao/IzrmstpAQOkNKcAe3QsYUnHxmcPHdsX9YKO3yhRiG3soOAptn+sfurPi6X4Ip6L32b/yrovEy5sss+plCHWJEaqsTKO/HVrRWLBHr+WnwdE/cAHPtC1xcqa8zzstWoHzyDZCei1d2wVD5R6tY/xK5BBPM/eYzx3jrTv76+BBqBOGIO5Sptwy/aVGRpgvP/mb/6mc7g4ChGMABs8RwkA6HMMvKyoks2+vlT6pGBmKuMnDJVSdWVDa7MBZqhg9Fc5UIAoeqtFhhiAyuk5ijCIgFxjzDnjhDHWxvFR+zquNTZAjb/+67/u1g3nG2tJoI7NXfdIXOsZbl3X+tbvU5lQfWgSx1LZ5FpO5Nbveu9+nFrjxKmVVBC8lyLZgRmsfOkKAN89fWz1ewEh1orgXhKHjRAYmn9nPPAIo8v7YAgRSSnB2FpJKUCIJAcWTi1K8bQTuAeEbDXWR7yP9ay8E+BFANxpXRJmKvsYlr4SVpUmV2GghyUJoMmeJ+Gn3BWj60giGcHHyinfqmYkbIBJQ4Ak5b7WZmISezoCAHB8yPePpIuhz6KqyDtnfgNj6AwD1aFdmePGmk9CF/d0Apw2DsBX8wdIBTS0z+1BBBiqizmfAzxLrCIb8J8BzumNPgcsLZ8J889Y5WwIMQMADRh9BAHgqr5J9SE2J3LNG97whl0ej0+tugKzlABOxZfa2tgb+gRDXazmPYi41XoQp2qntXaVBjY6MhJWeBlfexbgc35Gt5J5CEh7COKAMv20qqKnd77znZ2tLNt17PFs7Z7n1MBcLLAxUM857g/z1DZvfaQ4qmHOMSgmfpkV5bCmjJ9BUlaivKpkZQBPGX9MARk9xo6DJtOnPE7W+lY51pkUztB8//d/f+eAy4R6X/pQ4sLo+D9HHci6Ryax1qVx/dM//dPOEQR+K3nxrMBU2VCZ5LKZ+pnG4mjPmt5tHG7OtvEXxJn7/k3Xe2Ts6ckzcX5vnchrPktyWN8C6iuLvU3vTj3dBIbaJySIERDSFSBZEApAwcK/aqC45TizN6l0wNzJAQv2IvrVL/pMICpgR7WFJJT3kSBhB2MLHb6xpAjq7eGAL0E8ADpMMiB/SnGVL25xgu+S77bFtQSnDoPhj9iXiT0Pq87+jM1EJL3o1ueUlNO1ffMKIKr9DjAEBMHakuSTzOAD6g17lN7XEhNY1qnaMbe1rsA4tdZUQD0FggKn7O/GFUhoTAGAQCH+7BX72WLcYZCpfKEjABO/75VXXukAJD/ji5jP/HktWfRntgZu6cRn7Nl8XD5NSsqxhlWtmDNXA6PtA0gQ9nPvjGnKF+DT8wscrDvXHzCPgWpsIMa7MREzsSkSYXv3FLff8XswqgG6fCJjbl32HSS29v6NxBOdYJKyseIw81q8aQ+rgT6xJ//NOjCWEgFII/mOua/nfR8ZaIn3EQ/Ye/iWEhb2n7TKcn3xs0Q+MQfMLweR6c2/pWDwm3OezX4r/ue7IBiokhMTXK0CY0v9Puq9GoA6YeTnKm3CLdtXJmpAeQMmC5BNc/AECAA2TpeAVxAhsI3oASSTLYtn040oRRAI+8N51chb6QTDx9l1AIY+ZGcXWXeOKoPICQLGOEgqDrkSfg319b4D0uwtOaghhwrkeTw3JxGgBwxvMl8DFz0GhQAAIABJREFUSkTp24FsJRAkCMHutEaWPOFzzBM70AajkuOfsk0JAII1Z11z4vWB4thfWTBOJRW04OAoCjK9v4w7cIrjyOG2733uc5/rDgURKDaZpwEBjT579FombdgbJ0FL7mx1wvC8N3k1IWFuAGjqgFqA5lRdJ4QvmUSTgLGO2VY9e5McMzcFPwJd/pdgDEjW5P80AHyWKAEc8lEw8c1HgJpqm7AcgQN6QJuLksmABIlh+zZA4cySU76BCMCHiLmcg4/0wF6KYTdVV+Y1EEHQrgVU+TwS2OY+nwX41Ce+z3/FSqt7U6ZfMaDiSFVCU3WV70ncY58DT/nyAfgyf/keWnKZ2w690neRD4+xqrRf1VifTvTNFwdgvZetHqwbc4afa61cSQDvkirsVNn3WFyjesd+O4flT59iIeAkBmUJQLMb2OFYk3slE/V/9nxYxuWhp+lZzF9ycNSWrT/sVwBG69/c4ycARHPAsfZTn/zkJ79uGgK/zW97PdCVPQZY/vEf//EzP/ZjP9a1aHKorndcQxzuaL3xNdlugKr549/Wq3cSG0gMGXP+hGfzflsm6yRPVNAAofnG9kxzQDzDt3nppZe6Fg5NmgbGaGAuFtgYqGO03T67uQYAoYJXWWWgTylOocVOYDQZ85I9CiAUcPg5wdaQxRPAOckaoMgYKI9luBxQJDsYhsfmL7rQDYEsAmIsINnYsH+8n8MEiN8z0gxkTjpf6PaTLsPJ9dyc45opECdYOcuVWixMUtTMLxlvDpy2FwLUWoyDIN447CGctbScsFYDnnqW8nAJ/+87ZGqPZ17rnsqS/uIv/qL7w6lWApa1Szc5aAOYwokEsp4dPFlLl2Ou+/nPf75jOACqazE3Oe/6cJ2hZUJOAReA1f0O2U0BqDJ+wMVSwk5bmwJXwZg9B5hqHgu2/YwNltjTqmWvAHyp913yOjkN2d8AUeOGdUkwkXIgJGDf/OS/EIE5f4at5OecmYmjPBO43wd+8M3sg05g3uPwo3KslQxLqEj4AZlKMf+NjZ/39eH3WYwvyeG+E8uBxdYmAEyv4KuIYFVyBaMOiBoBhnzhC1/odEl3PiOJAGxVCo2RLdHPR6x1AkQERFsPNTPZtezn/N0rJRf57MBlcwt7sBa6QjoAHE8VAKR+on1+txY32ozwIfmSewhQUqLTPlEfnMeuSDyLebaqcmDXxJ/sqbiUT6YtHGa0Fiz8NH5FWg3QmQoDCTMsaQe6iVfN/S9+8YtdchzhBZuY/2ePX0MkaCSt2BdjSjyP8Y/EbvPPJYUAu0r56wOK13g+1wTg8l9UpznbxF6hKhXoyxemJ3ttwLC1nqNd93oaaADqhDGdq7QJt2xfmaiBMEIZElnpCOfol37pl17/P3C1ZAyh/AMUkpWKsbr3GGcHZrBpgadD5Qjvy8kA9PY5udh2HJGn2BxD3/XRPye4ljyomb7RC0aY7DmndA+R0cacHiI53GfIZ8/4GeOExaTUeYhY832nqA75bvvM/2lAECEoLdlv+W2CSiefn+G085RgOhyij4mDcY7ZvSSjdkypLD+sBp8eeS4CTI3JHAG4nrndDSAYI0tPvlri890Cjubobex3UzWDDduXBACEYKViWvZJ9hIMsL7yXCCYZMSVgD8JfeAQEKRk7Erg5EyCW+PgACnzutYJvx4D1XzpOwwPyJI2UGPH+KifTyKhD3z3zPwG+8CcRLj4SeWfZE6fAM+w4vcC+M0X9i0EmfoZHSoM4JWI2kIwf4ewnMt4S3XBvWovdvv5559/5iMf+cgqbSjG2OtSj/YlhIstRHk+pvFTIqEtKdykaWCMBuZigY2BOkbb7bOba4AjiRXHkMiSlRu+06fTB1WGrmy2zXHSjF6mjPic38uYKlHgqMuEM2KyW0oEBMUM4ZklmVAAgHeT9eRMAWQE/oBKjiinEjsoDfv3fGfZWmwp2e66bxNAD5tYoMJ5bjJdA5gtmAvAtj7HNwc37dUuQfkepprgCkMlPQC9MWcYA5CjZJ1ipV9ZMO/pQsCpPEkgk8MFOOEpfxY4SjBILoVhfmW9rP1uWGHmn7LcWgSUQAC2Zm5/ubXfw/Xt+yos+lhyEhBK99hDfcCXErbF/LRGHU6B3SLRKQBUzszeuCemISbVmdmSS+ks18G0Y6Pt0YA3gCrGMz0BLPg/xCGQSj6TULZXSEKy91j7e/WwXkIf3kGJMHtfH54SsMza3PswKWxIVQJ9zMewu9nZW6W31gF2ZB+blq9qbfJJyxZUS+h3z2uEdYvBVh4EyQ83h81vcxcgqi8kBqpSdX2BsSEFu7VO+AF01Qeq83ewU90LA/AqonrMHuFQw5oBGtYtv1+ifKqELVwTU1yPzjE87UP3gK2p97/3PaXc2jo4sKk+t0LZvPYaWJ3f/u3ffu9Si/w+vb6NiZhVTCP2FL8A9pXqe86SIJBqQSCqknn2UrKT7q0DbGs20/rwnmsIENx4SlCwNyTVinwc8wmrVl9ipfKexTuyU3U7gjWezzWxzM1na9iei4Hq/nTJJ8Y8Zw/MiSZNA2M00ADUMdp67bNzlTbhlu0rEzUQFo2vK1NNRlEpBLZGDoR6z3ve8/od9ErBAKj7OXIoGDZ/OFfpgaqni9P9Pvaxj3XZ8bOL9wKwcOD1UqOjsgcq8Aw7F9NQ0La3JNCvG9MrxQFoKDMRaDSZrwFlTzK69cFcGt5bB9ho+hPuIQLnHGojUaKMKQ3sU9LPqQPwCriuLBxvh20IDq1jIEr6NlsXmKkOjpAo0Q8WuLwkEHZl3T71bmFJ1Sxt9kZgJBBa+uCltXSdYNpast4DVvq5pJSAQ2C2ZBk9m2LOAo7SUkIyE2NF8oP+MKUF35IDTf5PA0DtsOwwwDCP7NV8IL0yBZLGzkElKnPoUlsbBxkJegGq9owzCwDYuykjZYuSqKAbCT6/rxPpe72v/UAiGhMwYK/xSY9IAAqG9y1hw4Ct1mZYqL7/la98pfPb9OS3x19FvJtkH3AICJ79CBACBOF3sO3AHGMv6aIHKh3RlbXQpxOACtDMOJRgGhupBUBfC5Oz61SylD/gnYFLEfNG4rUvaTbmndM/2/zTYiEVDH7u3sZMzLRXAixJBuC4JEZa6ujd6tBElWvYqVu22rH/WrtsK38tPVAltwB+SCwY56WIUfUA1stWmyrJWT6vpKNWAMYRaLnWgV1AUC2JPJvqG+tIAgN7mS7Fkuy1Mnp2yM+tQy2ktuzPzJ9I33YVCumBikSFYAAwn8O4HrM22mevo4G5WGBjoF5nLlzyTThdDLbNmwj2ACuyd4SDDSDUE8uGLrOv4bXSQKBbaUB9RwZbJpxDIGuIfQrA018F6LilwV1rwLwPx5Mu6CZ64vzQnWAEKCNI27LJ+lPv61AcrCTjYexkRfV0E1gAx+ss81q6u/p1jb2AGyAkOy/Ac5AaZ1zGWyC+J7tOQPDUwWY5cbM+zfRq45ZDUwQDgCb7HuC0lJzKjYWaHqlX08PW75MA0WnD9iEHFLIbEgxY0QJ/e+hZhA3QL4xY3wJe7+KdHMbm1OslRWDL9gi6cpovAJcd97e9xR7P9nzLt3zLkre+xLXCxKM74BwBzgnIVWCEeR+dGk+Brl56Atsr9Ann6/H5gMaAVO9nPQLSAArW5BFEZRRb5fmsLeMEWAJCCPjvlecCeYAr9hx9gY2lU7CVaAMu9mL3ralbQAz/wz5AZ+a5/UhiF7EBW49eCN/PvgEwp9tbOkminT8PiLVOBMbuJamIMXc1sR+Yexj+3hnQqYpLbCPGkaCaWp4dXbkWIooxcg+VGVpP0LeDpeqes1vr2FrBTOYb2SfMFfsEABJbsmQ5b/Fs1j3di78kCTyHvYp/LdEtsVLHl8BA+wR7LFbzDun3b/1Lwuhlu9ahee6J7S0BH3+y1FXsjJ8B6rFksZ9VCGwp5uJ3f/d3d3sjHXlu42vO64GqbcWeccuWumj3Wk4DDUCdoMu5Sptwy/aVGRqwYXKqZZRt4BxOziYGBiPDacWmwdDgzCo54ED0gaGMv8w2J861vu3bvq3LUJ/lYJChamSQP/rRj3asDWX9dMHoAJmBANi2Y8BTzgAHlSM75ntDn9fn9BUTWHNEgBQcNA5JX48wnzcvjCfDyWme6zCOedYzf9YawXDEthOkC7oBKRru06Eg3VzhmO7hlDicQ8l6Aim6Nu9kmGXm69LOM4/FU89un9PTWBCTQ2J83pj4nSSIthfYC02W04B9hd6VrbER5pu1wd6csTxakO3QDXYSCKUsUDBy64TwW5q0/7MDkhdP6cH+ohTRvAXgxvbYT5Tvvvjii5cA+pabcV9/Jf397HMSisTejKnE/8FWIjkc0t7NntPplZKMQAhzFtPJfudQIcD8kQBie7BEJDsqAWneYxDroSwxyUe91yuZb+Y9gUG+D3DxnkAU1+ffWGtXShjaj7RqKPcjlWUSABhxfscP8TPMO8xU+xWd3BLMZL6jpLskseQM31GJ8hllyF5rL8Y4FRv5NwCMjdJL/pYvbE4BrIkE+j3/TpLAeIiZfVe8ZCzKQ8DW1K+xBBazwX2JS/bF8wHSvLM+pJ7vKeb30s9r3fKjrXfjIL7UekI8KgnLP8NAreNR+rT+gYLO6ghzFTAIcNWmxV6yNqmHry9WlGjVJoWe0xrPfus9iDZa7PpefW/piW75FWIUNkFMgGl8bx4vPebtetfQwFwssDFQrzEPLv0WDBSGImehbBTNSMr0c1ptpJhaOVWeEwEkrJvwc1aVAXG2IgyCdgD1ScVXUKpATJkDhyyCraK8cshJtoynzCkHH7DAmceWkLW8BWyurTfPYfw4TpxxwmFm4LfqebT2O+5xfcYECzsnPwOlBSECma0cFIxLbTS04SjFuCplwka+UlnjvXG2bpU16veVvS3f4bBLFgGlsHOs6yZNA0trQOAC1FPZERsAvGcD+ko4rV2985TP1gLk05ewr8fs0s99xuvZg/k62HOl2JOV5mZvLplBmHxKMDFxmqyvgfgfwOxUBUhMY5IZH+xrAAQB4FknY9jWgBW9b/m7YSEDVjEp9+79uoR2+Wz2E2xG7wogwiDke0j4S1oROuXTSV6lV/PVk+T2Wv42MoF5hqxgr9Xeam65vFhAD8kkps1JJ7wDpY4mADJzBKMUwMf/NEckko6SKAKWsnESKNa7uZn13negWXRc7h+SZBJjqaj0PcApQHMLn1uiWAXT3/3d370+BYDwYjw/S89W78a+iJO3LN0v5yWWLOZrep1i5SJKaTkgedCkaWCsBhqAOlZj///zc5U24ZbtKxM1wMHiVCl1YHhk9GyWsqiyd4yrci//10geiCozxbhxZn03/TNluGX2OCIAVj1VNKbmsABlOL5X2ohlC4GnHFR/GPmUSMkyctKeYiFxZB1CwomT1aUb5SiAS4wIwM5cp27KtAD+Cl44lliqAHZsMSwQ4wlUajJOA+mBiuXBgUqpL2eFnpc8qfvWkylJk61PW47yxFLAvT+yzQ6VWLJv4zhNbfdpexsAm4MueMA0sY7px5zn5EpsCK6BqHrpbV22tp022p320IDATtAkWcYGKONTTicRyWZquVFWJLC59l9gP/DfGk7bmBL0wyLRx6zJ/2kge7C9l62W4JQw1pv6z//8zzvwjB/EJ8IAw34EJrDFQBG9kPlATdbVgMPk+ECl/8G3xIIT1ANSMfX4Tz4HDLJOhoCoaVkFOMI+MwesI2Aq38vhYkMS3+tqYPrV+ex8SnuB/QQYY89g0wE29g4+h/1GQpB9Uy4ORGULr5wkAJ4Cg7At6Qb7DwPbXuvf5tDUCgignEPLsJtdj9AnIsLRWgCxHWwOH4ceEGQwTfn85o2Kwb0PlPVsOeA4jHFkE+td0kNsdAtETfxijTvJ3pwXe1r71rzqMAlIlVhrCrY2cgSf0l4mgYHtDTQVP2uhglTE78QEtweJAfmjfrelAJoRnfj9aVdjX8DaZQs90yPEBFvq/BHuNRcLbAzUR5glJ35HmzwjQ5zSDdwhAgsHDMnUKz3QA5AjIKhT/iuzyigwBIIOoIN+SIyWzdbfWFucN4wZ2X0MNxnaK4j3ZlAEWzL9sswOmBCkaRbOiXUYSg766HtnwDTdYfeWbFNBNWeMPtdqbn5rDJQUOZFYJro8gZTzoYcWh1tz+6mO5hXGfuw7mCNOvOWICNBKlgdgGvux7zTWsfd56vOegaPMMRVkce45csY7J82bgxIfmBT2gquLNUrvwFFBDwagBJB1p2SXgw5QdtgM8FSwYa1enaVz9XE/0vvpMQeoYxvLZJk2KwI8NsS8i5ir7IzEnIQWYVP1cgO0ChAFmQCBsG6O9L57PUv2YGAo9qm+d8pR7YVAJklhTFPAsyQyxz+nJGNBYeYbn/KU573e5cr3NWfN5/JAU+8LQBXMSxY4SC3+hxJk+zjAYUjCICfVO5CG/xoxP1RnANlUUJ11j6cj/ihALyAYYAyQAyABPiM9YFw6cMrfgBsttuiAb7c3eLbW/LZvSoSw+eVea//VGxnbjl80VgD7mJGq8dxD72t7h6SMA5iQTsRAR6lgQWixnsyRstpIIsJhQfbBvYF0c1JbJWNVtjOw3o2V6si+g28TvwAq6d5YSHwBA4Hl73rXuzoyiIMX+XtrMs7NJySiHBLFr+Rbi7cxUx2kyQ7Zixx+Re9AfPuPg/62FH6DBJK4XYWGOAX7X9JFHO/5tP9o0jQwRgMNQB2jrdc+O1dpE27ZvjJRA07Y5EAAyND3y7IG4KpNHij42c9+tsvwax4OZOXE6kMD/FEiwWBxvAQiwAfGD/AKTATcMBQAx5QPTXzcw3zN4QSCKtls2VCZbZldThTghXMapl/fQ2O/feITn+hKqPpAUuCqcQFUbynKODjcZZCS+8sAKw+tT9De8vnOeC8OtrXQB5ImsFdCz+FaS5xeyilOvycBZwAWyQ1Ok35y2DhacwANzxpEDtWhg+04uMCnJHYwAAEq9j6CcS1xYF8ToAObnyofG3rv9rmmASxIQUkNkkYzwFXluPaNCAAJeFS2mxCYA4bSCzV/sx97lQMebXQlKtlszEV6j04/97nPPfNzP/dz3d6LmQe4Jnofs3VE4Eun9khsIYFuk3U0QMdYe/yP8mCXHHwIBBHcS/RFMMocciLIv9f2CMAoPukDSQOuAjGOAnaN0TIf3n7i3AJtDSKSLs4kACj5DPCILy5JD9zxHT0k6c732MWrCeDNe94CSQGfmI1T+p1j92rx8ZnPfKYD+8RIRGwlWWMuq1Zz6vsRBDhn/fSBpMBV68k77SkYsmKrPpA04Ko5W1foYXlKhgP/xFcvv/xyV0GUMRGf8eX87v3vf3/3+zUkrTPc2z3o1Tth94YhLj4US0nc8C2BwuwR/zJ2aI1nq6+JfWze6gVuD1WRIf60P9gn6A5TFsDapGlgjAbmYoGNgTpG2+2zm2sA8MdxYKxq50EAJiN7b+O04abM4t4LlGXD9z575N8zwECme3LrfTFYOXSc2r7TNgGZssScry0F8A3w6wNuvYsMqjJGGcsmwzQQljeHr+/QC0xvTIAf+ZEfGXbBCZ8SgAoMh4h5bZzXbq4/5FnW/AzQGqN6iBgfbFRJk6cO2xhyrfaZpgEawPgRdAtQBHW1CLrsHQC+yJikBnCkZNk9stax8gDSmLvK8tO73eEiH//4xwerxmnmqjOarKMBfWiBpBJVpaiA0j4FuIpVJtiPJEEJ9L53CBb2lwORgIq18IMl/IE2ZyzjB9q89NJL39Bmib8GOH5K7DGSqvz4NRO568ya+1cFqCGBhHlef0OlGHa5OTRWxE3iqKdki5Lxoc9tvwOUl5UN+W4qolTUjbE1Q+899HOq4LB6+w5UUnmBRW3O1v36E79geAIAnxK+HN97DZHgnHMw3ZZxMl0N8RO2fKY1xqRdc3sNNAB1gs7nKm3CLdtXJmpAmUlOKAXWlQAP+j5WqkCMYQUcpITfZwEtWBpKITA7BCay10omGDLlEpwSDFQgoQx3Tqic+LiH+ZoG7AIpTj09YaF6Z8CnrJ2+O/7OIQj1gzNGgmeZ4L5yaWwZn2Hkt5Rkd417XcoVFo9yZuPdZJgGZJOVRlkP9SFcgHTzwLrBdFpL4iQJMK1DPc+wfTBOOf8cfBlwjp8gDFh4dVE6JWC3hylnEzBghDs4L8kRQDIGgf0LY6NvXVxdT+391tGAKgSAjeoNc64WTBX2WNAfse/6mSCSfdBqR0sda5adBQJh7qkWANDOCeLWeet9rqp0V1WI8nz/zsnCQFX7Mh3zTbQfUtapJ1xKR7EV6VKwrSURPTdZRwMAUj1Q7bPl3JWkx5RSwVQzRLVYwDrDKLvXWojN81ml6mVvYW+jfBU7U0XClqeML6lJDDZJgjIZy1fnY/jbOwORsVQBTFpWsH0AM4y4urXBks+257Xsk/Zaif86AWIfVRbO3w1TccyzRreqfLS9Kkv4xQMAbKzPo/hUxl0ch8ldi9gNa/bZZ58do4LFP4uVKXbS2qYGctOCwHovWeoeQvxiHBCCzHcVktoyKeFXzWHs+XLvfve7O9YwxuVaIiGht779TOLNM4gDAL/WoTFAxPEsbLjnsi+pguKvbyV8BnGBeapSzl4rKcDW2YO1urGnYCY3aRoYo4G5WGBjoI7Rdvvs5hqwSaakwAbOgcI80wsqAQOnLP19bO42e2XnSg8BgGma7uRfho9TxhlJD1SBi7JgjgbH+CrC6HDoGUEgszIgZYACMgdICbz0vrwlyk30mBW8lYfTuIayYTrfulwQoMfZ8zzYsXFQsDaUgXFEsVP3zE6fcf4AKekQ+BxgGmPEOCsL5Vyv3XsMqC/Z4Tk4dhjm5i8mgjVsTDmbQMOy/+0Z9T3kmZXvA669v8BbKxL/BrLYw7ACgVscSkG1Pa8v6Bhyr/aZpoE+DQisBH1sZw4cFNCrPgDu1+XK1qYThNkFgA+RAMCcsn4lRoCAGHRD2dWPMjL8GUG0vqf2NywsILYySyJBgqnPx8FqlADlCwGc2GjVOAC4JutpQEKP/2EP5v/E/wiDWEBftpoC9gj6zXv+5j0ByvBnMa4ABmlZ5eeS1kgAbPRZRTJfch+LFoOP0BF/LjqlL0BS/HhrQG9vula6XYNSZ9VF/dyALEQQe23WfE5sB7opo47OxryzpLNkizJnPoX5Y14p2eZf8LOA/33VR2Pus9Rn0/KibsXFNxTDmBt65e4pgBc+GAYqVnTiDfGq+cuX7WNKJ35hS4HA2s6JsZTOSzoiuoh3//M//7MbE0DrWoJFD5j3BwiJIAH0ZfPZaGC9WFGyA5CrzYS9KeeNrPVcfdcV91sDEkjmM79DbPDCCy90May5THdNmgbGaKABqGO09dpn5yptwi3bV2ZogIHhdBFAAqMi0CD+LZiwqTshELBKBBYCDQ4bx4wITAAQJctUls21BCf6VJU9Vmc88iG+CnDRhB+oWAtHjB6eKoP2PX2SNJjHeqFf7RI4CUrUOPh7AJUcKaCR/kIAcs/pXTjWnM/WV2/89MMIE5wLELFQ9TKkZ8wmDpQT39cWYwgE9Cx95TjWsZJWY3z18v3omkOLmSJwrtni9jeHEljjxggbvDH61p6lj3V9h7opR9R/UZBlzvl32ucIEksbAOwA/GE2+XnfOhaosyltn/76uWTfA5Jh3Ehe2YPpTzDt5+yc/qik1C2fBUAiyQQkabKuBlQtYQabxxIB8T+MmX8DRTCxjadYAyOYzTKeQ0SyW+ISQC5JxiZLNvB1gV9bn4A95JmHfsb+wHdLVRhdAVCBNtGp+U+w4Pj72hnYKwA6UwDEoc+29+esbXut9e49ESC0iwCkiVtUAUz1t+kWk5CPLEFNzF9zFhCYliF768D9PZMelxJwev3a2+iALqw3wOre/p992Zx1HoO5qfrRekdMAX5b7zWDPLpN/GLeIy7Yv63xjIk1Yr/v66+65Pi4p8Pb7DfpS55zBuw1ZR9zew7AUs99Y7N1nOw8BEC1WD8+Rfzf9Gnd+pmWHIt2rX00MBcLbAzUfcat3XWkBhhPQVkcChs9hwJTw2bP4fzUpz7VAaY2VhkqGWygXymMhpJXWT5gILAIE1OJ8BU3YAadMcci4pgAWJSYYVEMcUIYcwxEGUmOre9zYjAk9sxYM6jK6cwH4ybQcHjYWixJugs4r3xuiO5GTvFNPm7+SxgAn+tAjGONWSZYEwhyBLGatgQ6OMoYPNZzHH3gITY59gng/orr9KnB18YEQx4zQxAuCOLcYvk5YAuzCcAt0JgaYG0y+dpNTqkBe0FsgHnHvio1BahmP2GDrVPCZkho6hMnWAzYZ94C+1WBnBkEWnMQswcLatlbex29Apqwb+yLWEw58JItYt8/+MEP3u2vueZzP9q1+QL8D8mE0v/wczaUf2KvZkMBqP4eM+clKFxfshqIyE9l++4dQnWUcTCP+RnlvpBn40vpnWyOIzUgMUiEe1d7Bj+ff+WdVZzwNREcal/+KO967zmsV+CT+XCvB669Vnm0P3SYvVby+J5txxAE4gHu3Kf+vGuqEMDkI5JfWiNgR+8p5oP14m/7GTsBJJNQV+1mHtnvVNuoQjyC/8fu0bX1LqEikS0eokvz9R5LWtxifVsHKv0SnyEQKN33rlsI0P5XfuVXOtaspKY1ByTlS6pmEE97R8+jsg/Lcy/9s4eeFegsTqDr9P3fQlftHtfTwKUB1ByEoyeHBtvExuoU9d/5nd/pjJKshBOK+w66uTXcc5V2vWl07DfigDD6xlnGL5kxjpcyBP3VlL5gqnLICKBP1laGrXQk9KcBmJYsVOUgMn5XzG4rp3QYFOcqwrn64he/2LH9hor+ojKusqaEgwC0AWLXJ00OveYZPpcSKqVP2JiZW+aV+XXPqT3KO3L4HEQACAFwEEEdYPIoJ/p6Pnv9rdJeQdYf/MEfdOVRjyL60yrd0/MwTHIBuXVnvxJ0ZDwB3dgtEFEJAAAgAElEQVR/gK0mTQNrakAwo+RU6bI5SLBwzEvBsDkrOKyFn2YN7x20r6mbOdfW/5ReBbOEfbHvAT/0pxOo1wJkEUhi5zfZXwNY2/xVAGHWhqcCDr397W9/vTx7/ydd/gnsC96df513x8a1L6Rnb3lX89nnJVr4WHz40lflZ6qu4J/vmbCfoinvwaexdkvbnbMJplyz7zvmm7gG2OjfRMKFL3D0mEbcplIuFYUSBGJ6sckRfWt+tP0ZO7b0o83vtLh5alxhFr4PdCViWT2Sy/6dxkw7ORV+a4q151mQbCJsuHkLUPVMWYvm0y/+4i/u2icX81UrAa0OYhslWLRua5UXa86U6157LhZ4WAaqjIz+GzJPWDYBUIFBTulTbop1hpkjuLQhDWWfzVXadafT8d6M46E3mKzT3//933eAD4MDILXZc07MEz0TZf5kyhheQBEDABzNARjmiX8LOHxODzflQcBE2WEOyJU2YmsDC5cTah3JmDLODKYMP1bpkMQD8DRGij4xYhgxDq+gQOnwvYzr8WbWsCeShTVvzBfzy9wy5zh+2M9nOPGYU20Ncd70vNJvjMMquyyTaw3sDaLKwmNEYOkAYKz7lBUZKetTtpyDzTbUh10NG81zfYpzLUkhaaE/lQSGfc7PlfkZN8EpNqB1bX/EbLh6qeO5RvF6TyuhqYLD3/YTe4dgjD0w/7BPk8is397+yXazzUcP7rceOTqkV/qh17TM4fM6PMWep4SR3iW/VNBgm7FN2Ey/8Au/0CVLm+ynAaAhX4nPxCeyN/OXgKnAcewtB6Bc8aCv7AtAF/MXoJR9ge+BvQaIifBBzHe23WE67FuEngLA2jMcKoU8sRf7beyM4r8AfbH3+IkYpFrweAdMW6zxJQ46pSNl//YCvrmYGIitnYc5qAzcz44odAFgVkmDXc3fA0xicKdF2JGemx+t1ybbZn4bP/OaH21ta6+R3rV9z42Aod+o9/R9xBMgt/ECGotrxROSCRjoqg36+qguoRNz0bNYe+an5Ia40DPoM+vfkj3sjr2KTfJcSG2A1K3F/uCQK/oVv4jLVI1qP4EQJCYbw/Df+vnb/Y6pgblY4CEBVBuKDZQjDgTiIAJQscEsZtl25ZyEsWaUOY4ajQ+RuUobco/2mWU0ANQElmte7SAKfwPUbfiMj0wZA4bVohdKKbLZDALGKbYqxiBmB9YMECaHSGF5MWAMIKNyBUm5PtDJfLd+NNvGDOCo0ok1NuTkQk4ux5V+ytL1HPB11ZNR7UNaHXB2zLlSgKpAP3sRcPrIYoy/9KUvdSeGluX4SU4I9LR12FO0CgC+CJS+/OUvd8GTNY3JRqxVOhek+bey9qtLDuRxQBQwxf/ZRHuVk3TZQwxz+5fTUTnkHEoOfjtI7eqzY7/3A5QKYFR/SEZG2BoJSnaXmI9lHzXlvNYvYTMcftTk/zQgWJUY4cemqoMN4t8Cm/UwxMCxFwjY+cICbT4yFpfSZ8mWFkjuN6sQObSoAPpZHyk7t1fbm4FaEv8AtKuJdW8Oeu+yVN2+oGKQLspDDp05QF9hHAJzAM58TWANv4TPztZj+9kvjtSr86nxQ05AzACWl6Ba+lvybxwcNFdU6wC8zCfnFERc3/kFAD7+w9HYnOJ2vd1VE2nPUArwFyvZcyNoHEXEjHxT+3OZCOBHI/iYv08d8OadAH18M4Ck2EHLCixQyW8VBMYSaCpZ5t3NozVEPCAWtFZzUJV15udi4BwwDPhnqz2LPrriZ7bnVn/XNZ7VNREH2EKxu3VlvmMD0xscwFkBLXm4lvave925WOAhAVSbEAMMvEDRDoBq8VrQ2F9lGadMCYBMxq9PoqT8TqDOiWmljsdfGLL5ms5ztvQuZXhs+gS7UuAAyNLLR2uHUjhu+qKaQ7KcmADYMh/4wAc6QyjD5xoCEdd07ZRpH18zTz8hUFlmUf8sp9Vj28o6AgKBaJwr0nfIR3llDhjQuj4RM58BYANVnQJ8NeEwcXoY57p8jANobjHenPwjy1NjhKktcNd3dC8g2Byz38ssY1hF7NH2amKOcdrSbP/evD3yeAx9NqW7Akz2kI7sV2yhXr/AZEGmRCJWrnIvCRHMcIwUTv6WvWuHvlP73Pk18PnPf74DQzBCagF+ZG0CQMoDDOv/P8IaHjraAI9f/uVf7nwVCbsI4Mla/r7v+74OLLXmCZZ5bDjgxPpnpyVJBb9N9tEAWwrUEluojCqFbWOLCSD8LP1Mh2pSiwnAkpL7WjCk+VLYawFf9DOUOAU4h7jg/z4bASalZ+fb3va2Lg44gwDL7X19gBrgSkxjnc5NduiLjOUrOV5L5pvf9bVP2FOPT/md9AZcBazbD48iqrgktuy9tQQwf9/73nfzIE/vJA59y1ve0n2dfyb5/du//dtd9aO9Xnxm33jllVc6sBCzeI2qSGAjP1L8Qthi9gcjmG8JNPWc4mJzFJFBPGRtmtshNmwxNsF9tP3xPPxbSVz4kPHwM2x3/aibNA2M0cDlAFTGVIm+xWpxlABqQCHMt7IEhoEQaMvk9EkDUMdMqWN9FvtR5svGnjLxBGX+L6Nr8wcA6RtTi01W6TUGR8qUnwrsrhLU6RfTF+DW+rn3vkq8Bcyy5X2GXNZSybVM+9UEo4KhDtu9fj8OEcbEkZy8vjHgmHGgsRZr4XRwDGXF9zqkgaNfsieGzKN783bINY7+GeNhbQGPvW9KGsvWBsYNwwXAoi+vz+sVra0GALpJ08DSGgDSaf3S175kDNPpEdbwUN1L9iqPZLO17YgAmSR8hwpG+gsvvDD04+1zC2tA1YRYBMGjLr/VQgkwQvT6Rvq4kqhyMncDypTvFqZkACZrX0UFUBQxAqB4T7SxwXA9g2AkSgoDomrBEgcYLwFsArP4A30ntgNWMRyBuEu0C1hS78r0kToQWPpshucWswVsXPLeU68lQQCoM2drwSxH4Hr22We/riqj/BxcoyRc5L2fikcBs0v3C7f2nBuikguISsTRKhkwUGEvEqH+JNYufU57mPfcSoC2wHRyS1fYv6lu2eq52n3Or4FLAajKlyxoYBnQi/QBqAxQmVHTC8N3k6m8N6xzlXbv+u33y2kAQAdU90dphwy1LB0AnQOCoaovDdAAmFCK/kNKXjEwsbk4NEAG7FN/UsLvWgAcPXTXKplYTiPDriTJAFhJZk65SEr4ASveFQPiVq+63CVMS03dObClAHRcE9uiD5wb9qTH/RS2D5aP/aXuWSZzzKGSLT56P04lL4BSLTBqZ1UprjIYgc3WZTkZeb2llAKbXw6ekXXnuHm2tE544xvf2AWceslhuYSZetzZM//JBA/2PKeyYp+lhB9TV9CJeY814LRe5b2qM3ye/ZRQwqhv0jSwtAbYYtUM7G+9n5ibOWgQyIpZE8GQ1uPOdyTjchjE0s93xusJajFIAR0qqiL2wDe/+c1dhQeQVTIZsMA2Aavo0+cF9cYDKFGXxJ5RH2d9Zof5sKdYW3UbFcCE8UEMYW+v1jeer6TMlr9UC2AGiMoupY8p5h27Lx774Ac/2H1FwkAcpwcjvwBYo+wfgCOJz+c6g+jZ6L0A5XXfVlVzWH7mwNwDWLXjssfSq2qzUsL61d7naL5AEvf6uLMZpaTqzWnwRzowFLtcXAU8rO3eV7/61Q54NKb1OOTdkIHEXGFv6lnLj+XvimMlvZXwiynErGJUCfE1Dk+zjsTDJUseaG0+ua91aN7wKa0/MY7feU7vGeB1i7UoRg2zXYIKAzUl/HQNC/J8Z0mubKGzdo9hGpiLBR6qhF+gr/yj7LMoM2KzYoSUMwJrxpbw16qcq7RhQ9M+tYQGBGNAUNltQZdNUgkFMAUoKusHbFG+b1ONo6DUNz2AgIfmFMcO2w7Yio0KQGXIlTP4GaMytI/uEu+29jWAwth9AiuOmgDN2qE/a0npA93eE84gYAtIk35OwFMGVbBw1XJh78ipoDsBbHoFAazMLYZdGVa5X93T5R6/T69ayQMZ8Dj05j4Gg7LwvYNuB0wob+Q0Y08TzIm0ZfHcnFTyKCwrQCgQVYsICQo9siQsOL4Y38rBzEuBOKceqM/Bte7P0ituj/XQ7jlPA2kTAdhTbp5gkl+FLTmktyk2zvPPPz/vQS72bRVWADjtcpKUA6xazw7coS/6td6VwCIZSHDyW+wN7JMxOMtBOxcbvu51gD9AP+OW3unGw96sl7/xApw4DPVqYu7xJ9hq7aOyLwBDAUP0UVbrYCECVtk4+uDHY5IBRLAnAzBj7ooDJQ1qsO2oOkzlFuacvtBZk8AyAJDk0hKkA7rho9oLtPGIL2q+8afoCxh3NLE+VLbxscUVaR+FRYiNTH/itr2S+n36QtLCLC7Xtc9hnwL2VKM9xZhNmb9xBwxbE2IxvhpcQxzqZ/YI/p2fp03L0uPnXATtMDCkMVytVbEc283HNJ+cH+I5ERvE1XxLcbM+rluLygzPa07bJ8T64q+f/Mmf7HQP3O5rHbL1c7b7nUsDc7HAQwGo+k/WzCKHmwDKlNEyOphgsm1OHCWy8t/8zd/cDpE617wd9bRYVcqQOWcMrzEnnAUZPQ4J54rhwc5gDHLSPIAhoB9QFZOyPDiJgXY9JTBrGatRL7vghxl8zL30jSwvbU0BRYcEW/Sakz4xZPSS1ZfGegW8YQVfVTD/vLs5Us4tzr25tUZ/ojV0mRNPjZ0xFJDbazlE3mNvR9UcFXSVjLU+PSgb1qplyLxdQ49bX1OvPL12BRglW9yexokE7puXnEprUl8trI41WAtbv3u733E1gBmJRYVpZw8BeAAHgH0Yqph2t4TNEAw9yhoeOorABD0N9b7j52rhIfnFlxE4Yv2mjUd5TX6QihLgqyC+yb4aADAgg/BVMaSAgpiZxFoBGN1iqe375PPvDnTBsJTkU/2EQWcOs1FhkuYu9KPCDLAECJQIiG9fPol9AqizZdnwfE080zH17IPWpn3R+gW2sd3mgHmxhNAfPYqFMAbNNb4A1h5f4Ki9ds0N+xpCAgCRT22vI4DFo7Ud8Fxaetln40dLmCAieFbM0qfWtfkuYSD+hFlIFIhrMT6NET1EYB0AzbWYw55FT/1UdPEbkZVUberRC0g1P/NMYmr2CIFJ7Li1WDuIBFjsEetKDIrpjwDVpGlgrAYuBaD2vXxZwu/3sjR6RWESMspKGJUyYtRZUENkrtKG3KN9ZlkNALJs+ErYgCycKpldpQYcNRs9dmXGVpm6IAQwxDgEUFAWxFHDEnCaoDmksf1VGVtAF0w+ZVGAUCwVp1taN2MCWAwAgKuSQVlixtSJ6X0H1fgsp1mw5/dzy5SWnUnjr+YkaXMrJaey+gLVNZybNXVnDXHqOa7GRAmo0y2PwqC1NpX1YUUD/80fP+O8Wc/K/MzlMfN2/Ggf7xuCI30NBRf2MawWTAd7l4DTeNrnON1YqVcNzo83Mss8kT0aAGlN2i/H9BG99QTWjvWeBHPY88s88atXsUYFg8APASDWioQdwbbDljQ3PYs1yx5rQ/GIa3io3gW2QBc+rQAWA4itse6RBgTb7HgCbj4v34Wulzg0jv0RSEvIlH7T0Oe/8uf4mJh99ldz+Sk7ZN5LMkhS0inARQWI/Xlt+2XsjOFe/tetfaHvvT0jJqqkgf1KVZNkL7vPpmG5qy47Q2IAmGPcw6K19/KZkTv4kPZ3489OL92+AfDFt8PcpDd+Hf/uKL5AaY/EDmWloHiOb+Mz/Dzl4XsdaJr9yziyy9atNhOlWFvmbMrr6VnFQO1H+34+E7tuf1cV6J2BgvZvn2MvVRVISGJVIomtTWqwxryH+enfqjpVo9k/MDrZGriKsVIVgcQmMbKXiDvF7eJ3/pK1JCbYu3puL320+87XwFws8FAM1D511ACqDYhBRf+X/RFMyj5YTENlrtKG3qd9bhkNcERs5pgt2GfGnQg0OaXKHkomoKBOAJKsP2dFcAd0AMIyTpy8CAMoE8p4XE0wfWRGOXcRjqyyHozbJZ15a1PfJQwEDiPhwOl9hzm4tNN4pbFqunumy25rsxEWQjm+HFAscWs3h8Fdafz73sWalSACKmfPy+cEYYBVjJMm59SAPTK9AXOgkmBNYvANb3jD5JeS5NLuAsuc2OP5RwKNtZNZKclkk/vYkgLE97///a18v2d0gS2qAco+7IA6h3tgpvJ9cqhH+XXsLf31HCQ3RwTT9uDSb+ITmY9HAWLmvN/U7/I/JaAxS4GhBMCjP/eRfEZ7iGoth1/W/pcS+aMkSjMOWJL0CvwjEgdAwPJwOfshX35MfDd1nKd+D7Du2YHAeXb7rLWa9SrhocJG+4YlEmRTn3WP79nXsDZLe8R/0UJtbXs09n0lSNjkMj7MwVEYvUOE3+YawMfIN33TN3WHytX+mr0W29beDsQkAEusSkSxJeOzPIs5ikmrZUyqE4G1CDGYsZIYsQH5Dh1or+U99hLtE7SxMUYRzyyObX7wXqNy7vvOxQIPD6CuMTxzlbbGM7Vr9mtAEKb3in6Aep1wWAVhsvsCQg6/TZ3zgmUDwAO2AkxtrrLBShKAejJYjJIsJ+Dd9TR5V6LNMcYyPEuPpSHzRSZfvx46FJDLNMogMpr+YK4M6Vc35F4+w3EXuANMMQYEXZwnP8dMksVs0q+BWnccGrozb41d2ez9ijqUkTdXZeSBhYJWa1G2XuDHecUYB7DKOp+ldcLUscIy8556P9ubsAMSgAjGrF9r2d6G0dHkXBowv4Fegm9J4pR4CmwAC5JegLGxAjwFtimzE6wLxuz7sZMOqlgTSPHcAhp2F3hg7gJBMEaIZCWmjVOA9e1s8qoGVGzwWdhqbas+85nPdCXPksH8VWOmd57ScLZBoKtlgv51WE72TLZiKlMP8AbMqv0mbRrsw4L8RwN+jAuwQXId60wvQOvKmuVnWmvGhL9zBDmT/4WZS6+Soey+8nzzj/23BgDAmIhAffMdyLo3K7FvjIFeDrEFmklg2LOBZ/ZwIkYBPlnH/tjr5yY6jjDXhj6DuEzVIP+fPTK+EuTskThO7/s17dHQ5/Q5lRS/+7u/280zY6TEHivas2KJ8j3vMTD5ba7Bvhtre6e92do057VuSIxpnmt/JmGmKsN6sJ/z9cRRzlfQumJpSZsN8bG9C0jLJvM97Hf2ee8pRjavtRLwc+vQeRpYuVtLDtnC9FV5xQ5ixCIXAOHFSnuCu1vro91vGQ3MxQIbgLrMOLSrrKQBxlbvU2W92BicEE3TgQsMjuw0Wj+WhhK3X/u1X+vKKeoG7XqnyKAxCDHgmq5zjP1MYIfhlkNrVnqdTS+r/E+PG+V99IGtCzRllBnxlIsvUfrHcfj0pz/d20idcVYS4hTVqwNfUwaY7gTMxkuWupRH0Z1AQ0YcU9mhZQIThwkAjiVGOJrAQk434CUnmU7R9xm+w2kFdmkbIQBzAFz2NEkgB2lx0h20YM9rci4NYFpJ9DnIrwTABVXsmrEVsI0BrXyXLbSfWzfld3MAhiSW8s41BJCXUkUtJwKQCh6t79hZQbTAGpNk7TLFNd5zjWsKTLWl4t9Y7wJYyU1JX0E338e4CX6BDso8AUz0x0YIhgEUQKixYq9lf1y/z2/CJrYXSTw/mvAVJdqNQclyAigI4gFlOaR0T92YJ8aw7yAbzFkHM9pPzKMjiLnO/5Qs4P9I9NgXBLT8VHbPfgYk+dVf/dXFk/1L6UDiV1VbDlLN4VFiDaCOPc9atRdjYUpUON38EXqUWyPsEfsmtirtkeQP4NnhQGKvI4hxNP+wP0tmrLUl/gTc3Tv4i9+GwekaZem/uWzO04H9m0h0qgQUN5kTwFOga3w980V8yuddSiQm+IvY0Bj0Ec+n177EvHUooRHbrMerZ/d/gOtTB2Ut9Zz1dSSYVTBKWknQskdpQeBd7MH02KRpYIwGGoA6RluvfXau0ibcsn1logaUqTJKSlk1keaYAAAFX3qXCkRl6xhhBomzq8dnnY2SXWTQGCMHs8gSy7j9zM/8TJdpVBrAqSkbeU985EN8jUFMZtepqBguacCtJA+jl9ArJ3WucBYFfAxZnaH0LIw2B+GKp8823c3VwKvtOPwxZ1P2xmkSoPo5Z5wjjokiefKRj3zk0uCLPk/ANWIv49Ri4xLMAIEYERBb203OpQEgqYCgLxEgUSB5gIEyJngyD7Bab4FdfofdstapzNjSWmyQkjFt/gJXI7E/7MVVe4+PnY0AU0wlvcn9/fLLL3dgGH/EfKhFCSybS/hEkk72yLL8eegzYCgLSvv8JtcT0AMPlNw+mvA/rSt7cZ3MwE5zCAz22N4H3sT/sv5qpubR/C8gDrDGqdl8QslAvZHtdRIB8U3tE8T/+ZSpwDjSHETuAAQ7rImojMOaBYjxXcp4RFk0kCfvfaT3WONZsj7opq+yT0m25Dim/RFELMS3KoHFPJfElVjzXqzknSQD+irGQoYwN/hz5oEkjGoMfq8YlLABEowqI5GF7MtLSQB/MXB5uFh8B/fhdzugtBSsWkAy3zw2fqlnuncde5sWHohRngvJSXsEewYfit4czFa2Xbh3zfb7pgEamIsFNgZqm0eH1oDyDw6JLDQpgzGAqIyZIIMDq9+noAwTtc7wyqKFQVEHdOX/pwQgR1RgmvB7tgBQec7y/1hCDPhciWF2vb6SHKUW9P+IQdg93UZ3gMG+PrF0p9TtbW97271Lnfb3Y5h2nFgA6lFPl11iEARaekXeEzpIv7t7n22/P44GgJkSAm9/+9u/4aHCFsVcGtp3zUUA7IBZ7JH64Au/B5Kxb2uxtwU0wJChItjEQGvyqo2OfwNATa9NbXDSG++WnoAQ2QOm+C9p+2Bf7etJ+NRcvfrY8T/5mAHIyvdV1isxrL3BnJ7FS+jwTP6X+Q2UD6sXQIThV/uqWRPm9FHtHGYecBeTkuhlibVsD8YeBDyF+QvIVinHB8Yev7ooWXc4EjZmX5shzHZ7m3lwBGG/VICpdqpFwhqQ/+EPf/jJR5X4Ts/U+oO1fZYgwFYN2SdJRv8HtgMsgakqCJcS7+GeYo3S586zuY82FHpxl8J30IaHnbkHIi/1rLmOVnRY6bGP0ZMkrXjJ/4HW5TkfSz9Du941NdAA1AnjOldpE27ZvjJRA8r/lKV98pOf7IItGX8MVAZA+T6GALABuORgMSUj73jHO7peXqU48RCAh7mBeYqBmhJ+QarfYaLqbXUVkdGXtQdAKwlNCT+QWSk9B49ulyjJSOmSzKtMYSlxmDFllKk3+XoNYFNzvPp0Z/zM9yP1Wltj/Dhtkh7KhCQ7OEVYVd4be0Hw4W/9ojixmM5jQNc1nnnNa2Im2O84hfYzQVjaO6RkEBtXry6lXk3OpYEcHtVX/quiAtsFU2VMibvgRhmvNhjKuUux/7OTqjj6GDZLaI89dm1l/OwxgBT4wYZj25ivwAZz2XNiVu4NPC3x3ktcQxmismU2ma+SEn7+iOQxkFRgzVYoF8bECQgjwKRTiWTXGCsCY0ynPmac/QezmI/QByyMvdfZPm/u6oGIdVUn7PhVDg/SR3+PvoClLs/kf0kOWP852E6fXXYM49q+x3/EimbzMc30nbVPlIfyHGUe8Z8xC80PYE7aJQBQ/Vxbove9731dT+gwvR+llZX9yDizCfa32h75nT2MvTqCSBTxQWvw0LNhgwI0jd1TIh4FRqoeqQ+AAq7zX9l1cwUQiYktgWXOlyX8KhAQgew/te7m6Crl+HVLkvgO1pzYsHzPtBiTXJOY7UsmzXmme98FJuv5LV5XmYOBmhJ+zyt+L5nr967Xft80EA3MxQIbA7XNpUNrwMYOQMIu1R9MUAZcQduXmdPbiVGSWeOAKZlROoJlAxAlGARAQ79jxDAuGSuAnoADa1KGjZHsM56HVtATD0c/ylIYPRl+pTLAGAxR7Q4YpfJEw7nvKdsMLKVD1ybGj9EzZgKNMYDA3Oc50/cfXXdxGIGE6eMHKA07WgCPASBrj32ajPSZxnjMs9rDAKj2K0CxEtKwdLy7wIz4fUodx1y/fXZfDTgQTdLEoYj6g2IaAhs5dPZLgeWUxBbgXasWrLhUXAiAgO4ACC1r1gR7tJQwd7VqAex7J0lPbFrBjpJ9oJNeaoLDJq9qIP3wMNn4O1hM5oHyxRdffLGz4e9973s7MNWc0UdPkK4vJ0abxPGcdjxKkYFwbHd6ovObMDCNJ9t9tBOzt5g78T9VOBmb6EDJK3/SGjvKAY98CAlXvm/pf2H6Ackla+wzRxCl7ta/diIAUgxFzygxgOAAhJJgAdpj+kqmAlCOJvxaFUJaiFmHQDPr1zwxFggDfu5z1himnLV75eRvOUbsjj2MPUqbC8k8P2enAM2YhEeQgN9JFhlLNivs0yH9WtO2IPYbUMoGsr1iUIlNLdWIhKL9wx9+nPmtB6pEljhN1RkQfknxLFjRfAL7RCpVJMrMY3s+kQAVTxsrPkUSGmJI63Vr0UOXjcRct7asIfsFe0V3YoOjAPFb66bdb7oGGoA6QXdzlTbhlu0rMzRgvJzCpzzxa1/72utXykm/2KmyvITD67OAQX1RbLa+wxhy1jA1MApqUWbym7/5mzOe8nhfZfxlL/WQrUWmlWOwZAN3ji7dcxYZf8463fubsRYUNunXwKPrzlzlJAnYb4mkB+a5dVxn9684r6xPh8tw7PuELpQENjmnBhzwJ5Bkx+yXmIfsFja2QKWvnce9NxUYCdS1AQBmYi4qpcT6Clhx7xpzfi8oTu/OW9fBJAeeHOVAmznvu+R3MZOUhCdwz7UFrAAl/edS2l/f19gCyqbui1g+bDdgn502J+M3leDHku97lmslqeF5gUCYdQBUCXpMrqO0kuFD8JEBC0f3v8xjgJL9Anhq33KmAcCmFvMPWH1UAXIBmfi5wDD694ekesYejFUOID4KYLiFPo2rscN8tF70/rSvGH+A5FoHGk55N+AiIE68JMkokR1GSZYAACAASURBVCSpxC4DPiUFhwDfiD4qTMSe9lJAun31jW984zMOcSxbnPF3MTrt7en979ndGzNb7+mlBcnFPuG57GdshjGx5+ufHFKN+eyZ0hbme7/3e1erXrn3juL6N73pTd2hyBHPa79AgNJ+oUnTwFgNzMUCGwN1rMbb53fRgAwZ4JPBYVhsnFgsH//4xzs2acRmz1mRvZbhE4QyYjLBsr+AGgYd4w3Qp2E2EEIJ0VVFaQo2n/dlFL/ne76nY7cswUQyDnGIlH4AZmWcZSw5SRx5uj9KkHGEMTZHBWACHg4LvXHM9IN6dN0JqqxHpaz0wblTuiojLvkBTBjixB5hnJd4BnsYdhnmvX/Th6AMe5FD2+TcGnC4oYDL2Aq4lKMJsLVfEXBOmespfXUQhf1ZMMZWLrHf39M2BgsgTm9AwIL7m7OAXM+BRVmfcnzvmkN/LzDEAFLlIDC8B0CzT3wFpZlAnL4+fUPvvdTnsO+0WjB2RAIUCx8QoaIE81xQm+DR3iiAFJjPFdd1X2wp/5aAjt8099p7fn+JceZ//vM//3Nnl8wrJbf+9PV7X/Nd+Qx8B/cF1pkHpZzJh+AHOWjJPgGU9i7sHD/fe1iPqi5UWFinPs+Xt5ccTew95gfwyT4uCQZ889zmixjFn6MwgNfQn0SvNi58fazsHGZW2yM2TpJtC3s05j2zT1jj7Ig56B3sgXz0IWLfFA8B0M0FiSkxEaKKaoE+ey45hgSkFYu5goXKTvJ1pybE7j2rWBBQ7Bk9H59SZQPbaRy1EfK3+4sXsahT0Xnv2mv93viIZbFQgdraeqi6eMTWMmvp+NGu2wDUCSM+V2kTbtm+MkMDnCu9ZWyeAgzBBGGMZKVQ+zlbnBWlPsn++gxjrVQ/bBcOmt4y5WcEW/qqXBGQADgDnhicUuiD3vTEmyLpbVePh75WwK7asZ9yjyt+57/+67861hnAJGLu6vX5yAxdTrZDk/Qxtt5rARQ4cAczTwnUWo7l0eacciv7VX0CsSBFWa1DBpqcXwOCKKyV0i4BHNmuvQOXodqVzBQIPnWYwxq2FjuF3S97JAoK9d7TG61P9J3DNiqf1bPZY/ZkiAHIgKEC2LBNBdVKLbGY+g6J8q6Y6noKPsq+OHROHnWchz5/Psfn1foC2Jg5AOzQzoXfOiXRMvYZ1vy8fc/+gUUNwIpIJCltBj4R8zttT+4lSNZ83qeuzVaLV8pqOcxLQDD/+GoC0McmLc+PONuetMQ+oSey1hSl/4pByqbcA/3FA+YMXUbYIcDlkixUyULt8CTKso+I1cTRYsEvf/nLHShpLMOIlawxd8WS995jzbmNSKB9V+kL0w1C1CMcyrambh/12nOxwMZAfdSZc5L3FkT83u/9Xrd566nGGNlAnTpq0xdoYJE6WVAPKJlCGTzAKWP0V3/1V89g+QgwGDeZUQdJ+YwNGfUfmwvAyADu0d9lraGgG/186JA+UpohGKMTIIwsI/2NFSxg+mR0GS9GmFGmbwG/spSzO/VjdXLv85wkSQD9yQT39CTTTY/GRuP29C67d62r/f65557rGupjXMnEA1QFGxxbTAUAqjIwmXlgM8fy6oIlrq2BQNFaSnkjhgt2hHWNnYaB1uS8GgAYSOxJoLBL9gC2y/7N1rFdgIQjC/BOGx3MIjbF/DRnBWnmb4IxZazAoBwWM/edwkoBhEqsYKUAVLFr+AjAF89UCqD1D//wDzsGIR9CoArAzmFsDmnaq9/nd33Xd3XP7RkA6uaCMmf+ief1byCS91Rlgznk58A1PS61AGjyqgaOPM5jxsga0p9f8vXNb35z57+yBfxVtlL1lH3jrJIyXC20AI16fwNxvJNWJNYmgoNkEn+Av2T+L8G6XlpnACpJYKIno/VpD9eyxHplz5VyX0WMnZiJ/6oFCR8O2Ga/tyc5XIttOLLYUwH32gmwB/zNsfbAno0YAdxX7q/aURUeGy7OQmK5BfizXeaMz7FhqvYwRMVYGNpiqfQzn6NH+4h1ZKzcx7jFFmsXJR4Rn9hXtFwTz0lsWGuYxWK9v/3bv53zCJO/q6KF76+Sxh/EAnuEag2+hnNQ6K1J08AYDTQAdYy2XvvsXKVNuGX7ykQNKGnmPDLCHChAqkCBYVLqK2tnc8VeY2QcVlEaKgbCCbOcFiVwGB4ca0AfpqRAlbH3e9dnSK8i2AkCVYF5ybD9t3/7t84ICTT1ZAI8j5GcyigwrQ+wcW0ZQdedAsyOeY6zfVafLKwEJazlYVqcUA3cOQAayD+amIcAfvMVOCBAAsiblw6dIXGWzGVJFHtASsSuqi8OPYAdePKJT3yi6xEH2HF6q/8LNgmHeOtS0qvqfI/3AuYlyVfaLsE422UeHDlhINkh+JK8BOYB/tlU/y8ZNdaufc/PJEF8bq5g5P3Zn/1ZF6DWPVUdMCkAtVdkfQgiBauYNPpXlkk+QIekKuBDELy1OAzDIXpZ65iFgkNgsGfis9C1/Y8tEXCzHYJczHzBrb1A8P7oMmScgQhnOIyQz8B/0wsUmFEK0B9bDHi1F+g/d66Z94gMQCi+ubVq73BAjL3PmpRAzYE6wBLzX5IhB57NfYalvq/FhnVaH44UEJyv47mvQi5QTq0Sxh7MdxWD/fiP/3g3nsgbKtTsSXsyF58aW+OCQMOXMt+m2AN7soPDvDsmbinaOLA3DoX6ju/4jt5HsYaBlg54LPXkushDfGEg6lyBe+iP3hebsZUAW+9h7hpXNkVrCnE2djiAWHuNPSo1xZJ8B3gAvwHAqz2CBIvWGO95z3u6wyqbNA2M0cBcLLAxUMdou312cw0oM5fJxNBhoFH2nURLAFGaSnNa9EEBsmKw1cJACUL0AWUonWjtmrLZgiiBl2vqT9TXxH7zl17ghoxvgkblNFinGAyEwcnBNPQBVB4jMumMGMepLnfkkHB49YA6ctA/5n2X+iwQUBa3jy3CMTGPgfyPJgB3zismTXnAm7K9f//3f+/UoR9f5u8LL7zQJT+uXLYj6BAc5kAZ6zfl3WH0heEHcD4zA+nR5nv5vvZpAYoDKvpAO2Xm7BSA5KgiSMbcwWixXoF+pD4MSQAU+2oO53Nz3kvPZMAn9n4tgFqMGoy2sFMEhAkO+6pNJFCVYPrO1iJI1j8Wa4svEj/Hc4SNn2fi76RkFlBBl4Abh4MIkB9d7o0z/0UA7jTno8tXvvKVjnnM36qBN74b1jE25pEO5Bmj089+9rPPqECRdNGuBiMfaQL7+q1vfWvHFpe0l2TCxMc6xzyzBo5m95A5gGAq3WoJ0/Fnf/ZnD19RMHT86J/PZtxI9iz/R97gmxhL/t0R5d4+McQe8EsBnfaSvjZc5oRkF0CyTzCv2SdJxVr01dWeRvJ8bls0pfuSMT/90z/9DfuIGNk+Ii5W8SKuy1iqLMF0F5+ws9ifWwpSjsSRJC3b9oUvfKEDTr2HteY5+cdYu02aBsZooAGoY7T12mfnKm3CLdtXJmqAAZOhZoQ4VMorbKgEwMIAcqxC6/d3LcpnXCMnVgNhcw0bMAA1/+/rMTbx0Xf9moCqZDmWD1MHtmPfWUAP2MaE62M9yASmf9+uSjjYzc0/TKK+vrNKaIAlQP5HEyAHBlkJsNQ6MM8w8siLL77YMZ+n9u89g36VkA1lcHOMAcpNzqcBoAF2B1ah8r9asEIk/xKgHvEN7VtAvLEy1u70XR+4AlDpC9AlHDB4S8aNNioOpsFY6SuLVNGi16j9aGsBuqiwSc+7+CSeA6BaAs7l//XQVgZqf8SmwnB7dBFMAyaw4fS2rcU4S1IBC44u9ncgjeqqWiQkMJaRC8rDVI/+TuXzpf2Hn5n7AFRMTWLs0kuUDnKYD9BVUoE/dSQBLuXchfq5wiRG/DjCgXVL6E3Sj32q9yz/13IJ8C0e2GM/HfJ+S9iDe+MK8JMovQUiY31Kfkii1qKMnk1QYTmXxYu1bV/sSzaq6AREsuXiajFi7I+xFGOzpwhHknxbCpKUg7yyP+S5xO104v/A5cQHWz5bu9e5NTAXC2wM1HOP/+WfHvipPER2DHCiiXRK+JVGYKD4neyeEnzU/lIEabKDwBlGSKm+UjeZtpTwc3g4ZvoVybRdRTifWDiYfXolplyNEXW4hiwe5pAs8RhhTLFM+4L+ZHRlU/vA7DH3udpnJQEwSATvtSjR42TtwXzaW8/KbDlpSpg4cualdSvI1SuWM4c1bt1im8n064eElXpVSd9i7w4csYdxwAHJmMwOj6IjDCQBp96STc6pAaAXxof+eLXtEpArya7t2pHeVIsJCTP2wFzEmgGA6OcpMRTGtGAbC4stXsrW2hOAzBi6Ki1K4Tvo3eZ3GEAEYM1fcCqycvlS/A4ws1fLBPfGPtXPHTCkVFLQSmf6HCuLJWEBSSZb/xKa9geBuM8ueejIkebZmGd5apztrebAXuM85j18Nv0V2cd6n085u7JbLKwzirJi9oxfyV9V9swft+dhOJrXkhp+zh5qawOU4/Mf7cwCcQXQyzqu2+o4oMda9bujHoA1dv6Yk9pPAbHs6WUJv/fE9tcLNIeAjb3+2p+3TwDwJR+m2oP//d//7a5hv3ZifSlAvVRGisP6RAxrbvcxQ8W+Egf0PLftA0awOYjJznaUguUOqFXp6Y84JCX84mzrE9HBv7dOOkkSSTiIXz0/QDol/BKJ4nfxLPC3SdPAGA00AHWMtl777FylTbhl+8pEDQjEgHXKQLCy9EUUGNnwBWwYKEA7/1eGoK+VQI3zgrGhvESJIfBBMCrLBkhV6i9rr6+S8ggHNjBk6bk48XEP9TUnIns34v05qgS4qSyEcPiUSY0VepdhZmTD5BFIM8JALmVKtxiwY+91lc+n9UEcrQAL5rN5ioGkh+AjisMxlAiZpxw4GWVAKefcPFKiaP4CmYALfjfXoTy6npVO5WRtJV6YDvQiUAGU2OMkgQDNTc6rAQwLYxh2emyXxJaE3hn6SVuX7KfAS6BVSlpN+FmqP5aytcqw+QeSKew5sFliQUDvHoDSujSSXu25/Ae/93wCXT4A8APTbw+GmGfwHta4nnT8FMA0W82XwbgRTAPbAar2B0ATBjPWKUY+wLjJqxqgCwD70cZ57PgYe0CUnt/sYNom8b9UaJkz+qOeVbAAVTNJMGOyK8/HLrWXAJaAJhj4/FkJBe8M+AIaA1SPJN5FQgw4zzZLeNqPxBn2eADb0doOzNEfwFu7LmQNPTLZMPbKz+yjZ9iT7tkDyXs9eJ8StkMyQ/yo3JxNEbtiff7Hf/xHB4CmZ319HYQBPm/OlODvIlP80z/90+vxmXYVcwUb2D4iCWMfsZ+Ym55PPOffqjM8txYn4mUsfWMoQWetsT9Ay62FffM8KvSA8SoLtAuSTBQ7AU/F/k2aBsZoYC4W2BioY7TdPruLBgAHyYyVh1IwUpglQDvZQz3ABEZo/QyerLXsoNII2ascwKAkqhSGgQMny3Yl8b76qgU4Ld+N7vSSxOidIvTqusZDsCno828sICBYfaDHlHtc8TvYUhw285beONx67nGqb2Wor6iH+p2wogHLQOZbIvgAMpvTVz9Aig4wpbDqJTn6xKEEkkNzS7seYX4d+R0FLpJ/EgixXQIXgJpWFXscaDRWX+wBtjjG6VPC7uQQtLH3uPV5iVWgCqAJoCgAxGbTAgOwWwd87CKAEhsME8cfzFnj4BCQPXtJWs8/9EM/1CUha3vt/7faHqis4fvcC/SX0vkZrvPUOAPbnWZ/FsG65G/xFcxxrCz+LT+LvxWG9Vnep35OZeBaHLF19RwHHqnakXC2Tq1XpcRHnesOurG/2OuMD2KBP0Bh8+5ooO/cOSP+4pOZk9ZcBDtYAuOo45Tn5GcBOufYA7YH6AiQAVBK5ImHJEP5rPcYuKo2xKVslV6f7JfKI33+nSWxFFnAMzlzgL22jwBVxSCSMO6DYar1Sd1P1DtJZCwB5E6Zb/SbGL/8Pv2qrnzEsyOm6LF95+s10ADUCTNirtIm3LJ9ZaYGbPio+w5JkHnnRGGRAgD1Ro0wBhg9jI/P+J3Nl4MpK8oJw+jQDoCRwp5UztXXf27mIx/m6wA75SEynRwcbDYZ/bnl4q5lLWHDcUI0UMfo6Wt2bgx81jhyqHx2KafgMIoe+CCcE3NU+SUg0NyLk4lZQU8CJSV5xupR9GQOaWWAUUZH5pc1LKDCXMOy4Yw+2onz+jcr27fO6ISzSw8cXmyHuYcLDJy27WMrawAgYl/AqsQy0/fLoSlnEXu8igcgCPDXXiZAs5fZ5wD+WGRzejUCkvzB0rEnZO6zK3SHsSYIBYJiat/aO+0p2DSYYZ5VMou+9zjB3rOwzfY8CUjPYg/UzoRIALPVSvwxkr2T9xcMA2OAMlioj7YvDlkXRxhnyRDAH9+TD1q3mhjyHj4DoHL4Z1rcSLaYK4AQZaxnFrYfgw97U5LZepYAUQZurtMfvanQAXyvxYIzXyRkJDDsBYCvKevKHq71gngEC9WeZ5yu4svVexZdiaMAgd5XZRpQdYrulpzH9XNaf31zZ+o+Yc+2Hr2n+Wq8AehsoeoBNq9ObljHfPzYHf6ceQFkN2fEpb7ju8DUpQXjFLvV/fgZ1hO9sCWem91R+fSv//qvnX3la7Lre9jG+t1VlbB1nt0zY9TOaeMxdH4sPQbtesfQwFwssDFQjzGO7Sme0ADnSRke4xyx2cuGKZnwR7BUikBK/xgGLcIBU+4vOEmTer8DsmK4XvEgFuWUSv2AdbVgrci8zjFAQyauwBYIVDb5pnNsn7M7/kPef+hnBPNaUQAcIoBVelrDkRr6XFt9zlx02MBTp2kKRCRAcqr2Vs+2130AUJJG9sA+EVxiLmMpXiU420vX7b7TNWB/FzADgZ8Stkap59g+nQImBxcKViMCYXNfdclZ5z59ea9Sb96Lf2PtR4ASAm9Ak5JFbFMAdWSqXqePePvmPQ0A0figALkIENV8VXEyZc4K+NOWqhx/JdT8hFtlwveedc/fA2q05tKmS1IjwrbRU2nb2H3+/hoVKPYWzFExQgRoJC5Y20feU/9j7y0hYF6Xe5bYSrXEkYgontPeWseASzwngN9cKQ/6A6KKSbUxuMUy/sd//Meu2qTc2wGt5vTaTF021LghIJU2VOUXMpKkgQSncv3SBwfmIiqpHNlT9AD3fGV8JC7CqJ3SFsP8pQ/zpLSzEpbt/I49R3q7ezcAdYKu5yptwi3bVyZqAOOK88KxQuFXIshIK40BeirrteHphRIwDlgok429pqcSp0tWT//TT33qU93mqEwOC1XPl5dffrljtWB3HMkBmKiy178GaMJOYZhjJBh4RjztD3KK4VrZxfT9BHwx1BhVMqACbgGGPklr3Xuu/rb8PkeMI6DMCyigZIajo7cPx0YPoLrx+5bPt/a9/uEf/qFby5jJmGAyzQTQztHx7hxTALOfCbrWYqGs/a5jru+wDHuT/c56sW6xjtgwDrt1hbWAjaqRfpOmga01oPSRXbEulRNrhQPwS8KM/ZUAAPgIxrBezN+hTDzAodJCvgB7DnyVANXygD+gh/depYVzdG096/EM9PJeqmHoUmBOBPr6z+mdiJ1nvTtwT69ICWU2nX0VWGrHQ7fsSGvpMWdUlvkuoFvPPvOU38qHBbqwc8qatbvgD40VwDmGGMDDIW3GnC1kF60nB7zszfob8058HGubv862KceV8GfLgEzWt0Pg+O4OI/KegFX+0JIHMemtytaKIcQTWIH8DtVb7qvnYnr9j3m/q31WZZ+xKvcsgDPWMHb0UQ72WvM5JTHEnuaMta3agY0SV+m7DPA3h2pBkADY8W/5unxayZWQS8RCa7XiwCy1zthgzxwbKubVPkP/ULGG+Jh/iXH6Uz/1U509R4DBqrWfibP3kN/4jd/o+sgmYfqJT3yiex4xvPnHBx6TlGV7zWO2ku2VgBJn2Zu9rx6xe7by2UPHj3jPuVhgY6A+4qw50Tv//u//fsdsUcqjnIbhEiwJPLDVBBOCB2UIwELCwXTioIOMSoOEcSmoe/755zugRmZZYCdb6NqMXoKXE6no5qNyQgHPMo+AYcZS4309ixh8JSdKOZRE0MnSwtHglDJSDHHJuBBYOF01bIyl732268n6Cnw46qWeBF3KVDSYByBeVQCA+v9JaHCGHCTBqVMOLAFgvioRA77LQptX1v+Vxdo1LwR1emHRhfULXOfo6fksiLanAVacrnqm4PnKY/dI7/bOd76z64/mUAe22inykhsAIrZYgkyw6Gf2NkEjQOS5554bpCY2Sn84bWhqlg5wkRP88z//86eb+8AZwSs/JaAnf8eeDwzDtKFP+571Tw8AJn6K9+YT2R/4Othzfq7Vx95MoUGDevEPARwkAdmouh88wISNAwyOOWgTCJITw+uDP3MyPSabJOxZRNKYz40pCFw2z+0VACa+oXmudY1kgaQMUJPv/453vKMrcV5K7C+AaCBNOSaSNqq44sMudb+zXid7Fl+jjK34+hjE9iwg/hR29ZI64RsB39d4TvZGP2J7c135CEDlx1rbZYKQfvQWZb+AzKV+gL1iISzKN73pTUuq4fVr2W9UfgBF6wMSEW0k7qwBn+NLSk74nLUJdHWgoZ8FcFrlIW9c1BoEcNoXJBLFr3qb0xtiFOCUTlVqDZWw+M2PMuFonOxJri1Js/c8Hvo+7XPTNNAA1Al6m6u0CbdsX5moAaCo0l4AEkc0p8dzTDmNNn0BCCp/TpznYPms01cjyjgwZIClwEQl/sBTTFTflc3yO8yBK4j3KDP0JSOofj8sF+Dq0oIJLPi7lc1jnI0Lh+uRhdOJBW2u9/UHNOcFyJyfq0ocFckRaxMzhQOK9SGAIkBWgRQgQQB563Clq+gI20YQAKDC7uDIOuGWAJRl4ZUy+r3EEnaAPmtNmga21ADAAbjDJrOjEYCpn/cJgARraYg4IRgbTXKpliQZ3vve93assTOJJJAgNYlf61syU2I3h2M6RE7gK9BjS7FNgUxYTNE1pqp90v8F4JIrTfbVAJ+VrRKE16I8FpgiqayP31ABbADYnQpe9v3P942/vulK+c8ggBEHRwEsgJdJiGZeSwiwe/TIz0+LLbYOA5JfuZQApgHP1lItEhR8jQ996EOnS9IspZ9cB4tRQheAXUuSBsDDvVtJrPmc5oJkoWR2DbAB3swlPll5SB22Khblj/7oj/YyJYGCvvsTP/ETSw9Zdz0HXIkzHMZWizjYmlM5wq9MGy3xGfuEuOH52Cf2dmsfEwMc+YmvCyh1YKTY0pkIkrOe3e8QhYbKU3uleMM9JGWvXPU3VFdX/txcLLAxUK88Oy7wbkrVOE82bZvZv/zLv3RvhV2Jhq+EDTMFYBoWJedUZhDgEnHgQgIsn01PQT8DoHKSyK1Tbs+mSoHrUHaDgCzvv+R7KomQWb3lNBhXwKCA4JHFPMa41KzdIQm1ANKUZmJHXFXiiFqPnE0sLCI7nH7FyiA5TtYupw7T7crypS99qSsL4yhi50iIyLwTCRJgCwfS+hIwcL4x65s0DWypgaxdNnmoHRmTtMP2cQ/zvBbgilI8hyydrS+yRK/1KolLkhQBTgBQAUt8GAE7BhB2KcAJA13FTHSNgaMtgv+P0euWc+TR7oVRKaDvA0T83IFg9nWHAA6VtPlBGOg7XE4fUfZySWBx6LNN+RwbZj4DhQFSaUGTeU03fu5zSp+TaPB5vi0wZSlRuoykobVCLUp6MWHFF4/QNugpndqz7LN950UAuhz0K9ljP9pTVDJJKq3xnE/FLaqBVEhJYjhQN4Io4pkkAbEpa5FwkVhZq0TeuEhYSNrUkmdTyUmsQ8+S3s0IR9YAsR5VLm4pkihhm5c+hliJ/2u/cNhVecbGvefjL4v7JShr8Y7Y1OIttrbJdTXQANQJYztXaRNu2b4yUQOYeU6M18Sa4ZHFSwm/DV8PFH9s6u9+97u7u2DscTbLklbGAwgro8ZICUAELsAYZRVAVT1PUPuvIukJwxBi7DH8KeHngMraybYBoAGdSwudKz8HZpdsYPeRzRREMIJXPLxrjC6B9uY1gy5zXYrggQ7N71qHY+5x9M8K/JXnK+3lrMniC5Cwz6xZYLxy1a997WvPfPSjH+3WvD3hyoKV4/2tY8AyZllKw9JPC8tBMA1g1TtuaNLkynpr77atBt785jd3pXUqQjAgBTSqOQBEwE/VD5hxmEvsrTJc7A5JoyFi3mOrKlmve8SlVNO6EESdSSRI2F9+SqpFBHbYW4AwdhtjyP6vT5vy2Q9/+MPPYNsCjZXqAzT4LNj69gLXsnc22VcD1oC2FsajZjHp3au1hTk7pl8tBpmx7Sv1lVjkT5kn2rqcRTDBgEeSoeZ7iBJ6vNpX9GW09u0bwAzJZkxsCVS9JpcSDD2gkWR+zSq0h0niPnqlFF2n1UG5Z2UMjCP/DMB/6xClpcbr3nXynH2tXeY+J0APO7OvHD7tZmoQmR9v3vbFO2nNoaqgjwF9712H/F5bAfaDDa33HG0H2FjvZPxUgNlPUsLv8/YqdpuN33ps6YfvAET1DtihKeG3VsXu9osxFWk+izFNH3UvZRUfQFRjuPW7DhnL9pnlNDAXC2wM1OXGol1pBQ1gomFp2ORk9ThaHEhOogyRLLWfA0+BosRGLxDBWAMcylIB7Bh2AQeQSq8oAZ4SWQAtA8Lo1r2lVnilzS6Zxtv0h4EL0NS3hwFSEun0R4YS2Fz36VrqIfV40/OLYyB7aBw5wYJH91XiVvfkWereZ7oOpiGd6PtpbmM6cNqxT7GuldUYr6sK58061iReuY7yVnPFnNFeAkhovXJ+BZLA1jVO4j2Sfq1XTrf14uA7Dp85ACixpjjlgkwOMAC67+CCI71Pe5ZragDIwW7qWWgNC7asTSWJkkPssJYc1i0gFVNEgJJDH+9pxT74yiuvdHMfOxO7ydqQRBDs2C/XCjzvPduc3wNsQJ8uiwAAIABJREFUAKESJJKI/JSw3VyXLQBIK58EtNKlQ4QCpLKtwDg2AjuX3yMguLKdmKPvLb/LvzJnrQO+pnlv/FRMsWHKxfvYT/eekY8qWSGZKuEvwFexkdPj+cQSFmcRNg1zlq4k2vmm2nuwa/TlffnrEokOi/Ge1o33HHoI3RBd2J+cp4BtZy9xbYxw601scLbeskPeecpnsBXFVuIu7PjEVhIG7IADio4A4N96TolmMeSc5xRLiq0kq81N7TTMVfEMprS2HDURgq7NI3u3e2M761cv/jLHJQ8Asn3M8injVH+H7bXG0jLGfdhQvU/ZUK3DjJ/4mC8paacyUc9t/qWEDwa2qqc9hE/BF0YAAjRLIrKV4scc3jWmf2xsr7FieyUtjatrJV5dMkGzh87aPe9roAGo93X0DZ+Yq7QJt2xfmaEBICe2qE2vFA6XTJTSnvoEao4qZwvIwGgomwLGJkNYXgdQo5ToiocvcDS1NOhrTcD54ZiuyQB1XwbJGHJKBRScmwDiwLImr7aO4KTIFAuAsFboiZMFNHiEEyH19+OwcWRuCcdPADrlBOMzzjNBIzC5rzwJ406grlRMQN0OkDrjCF/jmTHj9CC/1fM0bylQwfYSRI4RrV7YKoGggBWo6g8gyv541rmPZS7otufxUwTUaV9ifQOLAWT8GDbCz5Qwp5VRdMiuAp/G6nXMGLTPjtMAJlcOJDG29nBJBeATgGVKOfj/Y+/+Qm+7rnqBH+6LF+6b4JsXWh988EHR5oIUBQMV8UWpglRoTKsoqS1Ibc9patIk9sT8M6XEBLFY1FOVkgeh2toUaUpaUS8qBUX60CJVUFHxpS9yL3jh/j4rGSfzzLP23uvvXn/2GHA45/x+e6+15lhzzjHGd3zHmNaX+QJQ57/xqfgJ0cpFFcvWBEipr6n1HXM/xsC2IUcYn3Fiw0mkztGHESADzMJqA3izvfSNsHEp/kaXuWPP0qKijK3MbcAb8HktB+9YI9bKHM8pFsVMVhkVh5zau8WkKqfaqiHs30gSYlDrli00pwOI7dMPuct7qj+jf6lSfjbUfuRvNjQOYPb7D37wg7f7nZbfNyZ72VKMTGCvPbM+5Jnu+B6qKPuKlhPmcW17Vbiyo2uZx33HlZ/vroGxWGAyULvrOj+5oAZs9soxZPAIyj7QQKb6UKNnzphTBbFdCAMFaJUJFOw5wU+fHCyQuY3XgqprwEulClh7nAnl4DKgAONzHbzB4cAY8k44EhxiDgR2Ul2WuaSulr63OalEKNhaMsN0JrvNiTBf52ILLz1295eJl2XmpHNCASSYVZwZGXFZ8KX7a51bT94759WpzgI6Abj9D0NGoGc9Y98v5dyeWx95v3VqAMjpYDNrV2Bjz1f5gEHNRmN3YS8N3b/Md4w1wJTrSyrVgJG9wmE7xJrYQnUD8MGeT19ANfuedS4gN06ly4CkL3/5yw1Ljm2wB9Kt79LrQw89NJi95F7ABuAeIJZNrssa1znj1v9UgnNgt3dFp0p4gX9jgnP+EzupMkMCzRwH4vi5a+tROeb6S2gVwQGQKtlvLloHKiqAl9aA/1vrwJ4hwHPXMQG0xBj2LOtORcxcrMCuz3TOz2mVIE7gS2DGH+oBWe5Z/Hf7E19kbRIxIKDEmkDYCPbnkGcFmALexFHsmD2T3ZPAc+0ua88cEwvRoWQg3dnz7f9iVf4eIHbqSgIJAWvLXmSvMK/Z0NIe+4w2MVip7Iz9RBu9tVR4AKC17mIbxez8iTG9z70D78I7AWp7F/bSlMvQQAKoA97zWKUNuGV+ZYQGGBXlIgxXKQIHTbGVr7UFZRxX/VBtksHWkmXW/0QwFiJoULrQdkjFiMdexVc1x2cQSwYbhwdrh8FXGky35wBfBL7KEYGEcXKz+3JSlV9szemf+wULvqJkj4NGV4JdIKqDIvr0T5v7Wae4vvIZ85KDF2LMmA16nvm34IkzB0y9BBEAGK/gshRtORw6xtkTRANUzImh4NQl6DLHOJ8GzFNsDrZaHzVgPxCiFnsWxsjU/QTZN2wjiaYA/+yfwEB7yhb6oyrHB94IztnHWNfRFsH4BNchWiBg50lE+qPMmG3oI20+kkBSeTndpaxPA4BTvX/Nb36B+ULMez8DNLINW0o02je0AbF+S9H30EGy5iIG2lzrGKAUvZatMX6GGAGAyK5ODWatbVbZq+3ZwFNjpwPzSgKf/reaUJF0UgHnXUYMiLxhTwVSdhW6AN4h5PBDrTu+OAKKtWb/HSqu45AyyUHXFQdZxxLj5vzYVhWeXRwh9i3jCMCjuU0fRCsNbQRqFrjvaH+3dG9tPUnF6WWVCxD41q1bzRxNSQ301cBYLDAZqH01np8/qwZsljJNMmPK+LEp9dgBIDiEApDCGGr+XhoxPY0YBBl/vcQ4QgyAg1b0UBFUOYxG2ZsDaThumtUDa/YiSqKAwnq5YOMo/QOoKuNgTB06QK9KFhw+MKcoFXEKJSaSlgGAHoZa0Khs3c8uBRTrqmdZYMwk5SQCCY6MecoZAvo7DG0voLN5aJ0bo3UOjJENFgRyXP3M/PAZRo/Tam3vXQDHelDFicN6eFmv5gDHmkMv+JMUUuprH9x7b9i9v/Otjc/8+8QnPnHt3/7t3xq77KRhgIOSQL/T0xA4QRwEibFjTU9pc5yaK/HCjsS+oL+bdRGtftasV+vYfs//kEwENGODeX72GmCmDzYgANChokRrD/5R9EJ1wIeecF1PDm7zkSQ39QiUrH7nO995tgqVNb+bNT2b/qda2PCBrS29J1VVWWv2f/MfCM8vYAu2AHzVPj57J7GPHafvIaIEgETlhZZdcwg9WmsqO/RyZlvtJ/YpbDfA0t4S1qFH8+jjH/94M05+FuYp0M1c018ZiDqkX+8c76nPNeMQTvEeJjO/SIWCMVkvknhd2YbmhtJ7yWzXAzLzQ/lhWm7Zd4eSUPi6nlUCgc/rOpiiro2hyp6O8fMDPGVvrSU+djy7Oc2uiH35moBziTlkFyJujApOB7xev369zyuY7LNPPPFEU2Wh6pSN1GpAQtHzWKfIF9jpKamBPhpIALWPtl777FilDbhlfmWgBgQJjJOyXkxFJYKcR2Cc/p7+tokyDvfee+/tuwg6lAUxkmHYZPRkIfVLsek+9dRTzd+MiGxc35P8Bg7pbF8Duik5kd3U9Nwp5rKcAkpMFQ6p3q8AzDjde66HY6AF0dow1I4oQyiYW8PpnXONv+9141RdDlsN6mN4ybpiX++l9QTnyNoWMJHHHnusWedABUGTE42VEkmSWM/A96lZbH3f0dyf57hao4IaQbM90FqmIzrATgCkSAzRh4QInWlrkpIaOJcGAKJ6GOpNiCUiKYaZYw8TqCrFBcoF4wfbSfVDgKpjnxPQ6DRvbJq6V3ScmAxMEoyuUQAY7DPQ2RhKMTZ+ix6MmFQSv1/84hebxKeAHnhm71TW+NxzzzUtT7oehNnmI7k38ERbI6XhElUp69CAecLfBfqYBwgE9nsEAQxs+78kI7/P53zGv9cu1i5b/tM//dONH65KSdIF24xPqKyfnWP751jHQCNrx/5EZ6VI/NOr9eeZ9ijiYf08AXUSXKVIzjhciN++tcQsUBjQ6eDcEoAE2DskiQ3iW50Sc4DPBYStDyoSP7qPBPcQxr6ElcOdJAgkDUpBltC6SSJraJm6FgPmrz1CYqCUODiN3bauxIH0xC7HmSLur4JRcg6Zga0fChSf0vOh31ufCDd0gEDgmcQ+3kv0nbVu2bOU1EAfDYzFApOB2kfb+dmza0DGCYgiMAL6AVKIQEPPGNl2TDyOpL8JR9NpgYCEMBp6nEQABWhlLLA5gKY2Z05bfPfsg5zhhoKgYB/QgUO1BF2ydHQZ4wWwMrBDHYCuj653m1KROkD0fT3rsGNl+bfQs67rmMd8Lpgm+tTWp+qa3xxADtuULK4xzzv2u1iVWCDYDhw1gHusc2xpzuTTTz/dAIWcJYCixMme++dK8Mi0c6wxAWLNYiQLJv0fuK6kk8QJxRgFKamBc2mADcYAef/7398ruGo72HDIMwv42PMbN27cdX920L7B5q/1VN0IolWLYH+VoopEgIsVxFeRbIx90d/2AMGuwBJbLnpIn9Jjm49UfodO/dFzOmUdGkAI4KtJKGKRAb0k1aL3pOQa5hjCAVAHE1l11tql9PGNS0/CmONYtdjX1gbASzJm6nWMlQisBbS1lXU79E4/yHe84x1rV+Wg55OYwXgEVtdMR8C8/XMrYHwoQPsT/tOh58ZCxfqU8DslSCdY/6oXo9y9/I5kBXCvCxhb34vP61mcyVH39rVHS5Lw/4Ymxa2lYGrWvnIk7viW5UHCyuLFim1CZ5L65xSVJJi52trYK8IP9szG5P/AfftjSmqgjwYSQO2jrdc+O1ZpA26ZXxmoAZk5JQg2eb2dohcgZp5NngECGAgiAjhgGDArOVvB3uNYxoETPut7BGMDgCrLSqYK6gYOd7KvlQCqsg0OEmcIMwiAGuNldGRX5wZQMZSU7+vTVkswKudgF0ym0DNfCGgoIAKgcRxqkbUWbO/l1GVrEgjDOeMM+TexzjlQmFgBoL71rW9twMK9A6iSQA8//HBTkqw0OtYsFgTH0f8ljrBEiPkiGEwA9cyL9cJvB+DQa06A2YedMpWtlWyRRACg1gAA9opAGnuoZuCs5bUBiTBQ2yoKgGT6nEoqOfzk5Zdfvr0v+oc9wM/tl5LLWOtAtVMSPpKyzTZACiCN6ZoA6ilNnu/3kt2YkgB18xwTC+gVhxwhGkQbh2P+1vmeuNudSh/f/hF9UNl+/qm2XcYc7bimXsdaj2BcA0jbeggDzzD5MAH3KAA8OlfRVwuSicogwJU4YisSwC9fUVK+FvsmUkkXAJX/qcxegrCtjQPwXVw1pA+nxBcAm59ft9uwR6suoncM0iESFRhtRAzXw+6WNCgBVL6lhEGb0NkQpu2QZ4/vGEMw6e0JbX4wYNsaTUkN9NHAWCwwGah9tJ2fPbsGAEWcRH+wSG7evHm7hB+AIkPnb2CpYCBETzRstbJPpCwhZ/OBBx5omBpKgpVg+BkQVSDy+c9//uxjnOuG2KYcCQ4gQxkl/IA3jmL0kdVzSonUnD2esJQAPe5TMyo5/jYyzgwGQsq1pvWCYKmtN6yyWO8SEwUrYw9iDXMWjZnjqCRV8sMhcJghHFi/15vMH/qxjsf0hlq73jir1rCkAxYMYATzFtjCyQWea0fi/xgX2EnYCvbClNTAuTQQCbD77ruvKcVVWo4xaU76XZTwszvsURyEF8D/2OcsWwjU7BiHJGGoeK5IoI6939TfB/KqKGCTBfyl8E+U8PNtJJIBGQBj+5/AXmCp/Q6Qw97ZtSzVPdp8JD+3/zrdWMITcJWyDg14L/xhJ2M7+JM9lEzT2grQZf83HyQjD5UFr2Mkdz4F+wW8k/gzNv6qcQGmAD/8dL6hJMIc6xjZgO7sHTUIJoZAMADaSsLsUaJX6M/8zM/c1fNYYgazPfS/pfHbwwBr2Muln+h922/tq/bTUxJl8CUhJ74T4DsfDRmnr6iMxGBtA3rFqHqLs6uedYhIQLALfEVVXqVE6xttWrDWkYokMLTgCbBcWbwzQpT706UETZ8k6ZBnrr/jfWlvw7YhUJUl/HwM4LXxiRFSUgN9NJAAah9tvfbZsUobcMv8ykANcAwFFjZKxg4zQikbZ8chUKj9egFiL5anjkZZeGTvbP6CDIwKwIzSJowV2VcsL4c4AE/35CQpm9dXiuEHlmIlKO1yuBY9chr1kNEUvcxADnxVR7/mPhwFgbVSF6X63qkMLAaTzOLUpVlzjOOc14zm8px6QBon0CmpQDS9fMc0rj/nOLrciyOpn6vSdOPluAkGOU4Cqijdk/3GprZ+rf29i75rgCbBjb1QWa2fmQMcWWCVxIcgh0Nc74N710+Ob3kNAHYkdARrABCMSTabDSbAv0hMWuN+bm+r+w0OHYn7s2la+rime/gZVhVWtuSoZ1qzxCE2wDB20P5uPNY13UafcsCpvfHDH/5wA6AJ7u0B7KiAG8DUtQ1OBOilj+R6WK5YP3oitjHy1qzHvT+bdw1I15MTSwzz278lKoDt7CJ/im8ludZWvbI2HdU+PoaZNYDQoBc65mmcmg5MmkOARvo0Y/oBmuiNTyKB62/tpcactD7HM091TQkcYKM5Y/+05u2fSteNn8+1hVYQtT6i9F68Z41E4l3MBwMA2ItHugiSh3J4sQuglO8lcccP45ebH0PJH9q0WL8O6qJr12Mj2S5zbuxhsZ5RItGziyM8O0DUz7Fe+YzWnBjQe/f+PQ8xVok6It62HpcQfb4dJGX96/MM0EfKQSpg5/nI4tiU1EAfDYzFApOB2kfb+dlFNGADdzAC5l0pjI3AKAK2+uGAok5P5CAExV+pH0dJVisEIxKYCJDam2gAroTxv/7rv24PjXPIUVLKD4RiuM9xWiuHA5POISLKtAUA3gNnWZC9ZzbhkHklsNC/CEPAHOWgaZwOVMQ+xRDakygZlclX0loKViXnzhw1R/SDkkS5BJF4kNSxl5Win7OSX4kRnwGi6i+cgMclzIr1jdGe/uKLLzY2WvBnn8c2rYXt0ZpCOeSUwpa4v8AQO1sgiD3mUBQMG8HzmsXzCggxbOzzxhDrWuJYoBilizEOlTMSpIJs4wNy9D1UUKsYIG34SN6j+wu220pf16zDS3g284SdxEIGhPiD0U3MAXNe71PM4a4njK9Bb8d8fPMaAw+TcK51TK/iAkAMP8N9rD9xg/ZWWG57FskvQJ5WZ3wJfrn9G+uP/rcAxLe9H/FetD0xLu+UL43x2aeXpzUG0ATKSm7pV2qv5IfxxaONxpA5ArhGEgDmeDZrmj2TjHTttr6rfe7j2bW8UtHk2c1vcQTw2PWDeISVyy7HfhL34HOzMw50Pjf7NJ6BffIMzsrw7xDv1HPZG1JSA301kABqX41dfX6s0gbcMr8yUgMAQAxGTg6DYyNnbBh4ZeFApTbhUDJ6DCfASQZOTyWlQYAagIMN2Pc5cRgYDIrMG2OzB8FucYqmchNGE1DMOHMaGUeHEABTz+EkeY8YhHo1en/ex1qBQId7yNwCMqOEZGiWecw84tR+9atfbZxa81XPojWCzbHWOOOx1voEPBwj+la25BAt5UKAdqW3SuiMWxuPtc6XMe/41HeBTlh21g9gQ+sSzBg6xzjD0imTIBzwcj+zzurWGafumb9PDfTRAHuCuYIVx9YIXiXN9OVkr4EQymHrUsI+9zj2Wfd3PwCu/VHfdHZujXtl2zg8vyAXy9A6BxrZ9wTrglqsXX8Ev9ohYOKw3cbIfteHkHTVa5uPxMfiNwFR2vaXrtfey+foyH4afiT/cMn91HN4P56Ln2q+sJ/mAhD93ECHOUk/QCVgEnvT1382BuXGEgX+HfMZgxzjLPogzjmn+C4x74Fj7OoSPt8UY7SfYJmrWjIfAIbH2piUnzdmnz8UV03xfF2v4bkkxoyF2NfZkq77esxNf0sutMU61g4mIxa3eYec08bkF7eIX/jikteepetzePYYS9goazVslHvDJnxG4o+v3+fax+Jf8zqu5W/t7NiX+vrsj8pMMTKdINhopdG172n9rsrxdX3fxz6nz7eKUfuf+ak6Yw1zdIqx5TXOr4GxWODqGKgWqz9BIWeI9cPDQCQafd+6desOTZcHaXR5BWOV1uUe+ZnpNMBJ1MeMAVVGIRNYMioZPHPExnpK9FIFxNYMVFlWRgKbw+bsmkqJh/S1OfUM5/y90odnnnnmLgYq1imHVHaTcRUM0EF9CvA5n3Ut9+I4MNT6PwGV6SYCJ2yEtfbSW1J/mEzY3taVNSQRwWnHHO1y+ACwWmmqstVDaxwrSm8074DTeQnioDxlhTUDVSJEb7i2kkYAjDI18zj2M+CqNb/1/ewS3vlWx2iuWsOAfYEZ5jwGfclEFZgrM2eDU17XgOAeAwyDt2TQShrpaamUlh9Er3H4lv3VGlfBocXJ2GA7AnztFoDfNRMPw13gfWlSsnTDtpnHbNs5QL216xvYgthA+JN8pTgxGwDZRbSmENf52xrAJq8PhcEaFAdsFdDsooepPuMd2ItrRinQSZXPOcgSU4zFvmguSIzNVVnAXtl7+aDWN8KEBJK1LQacar4d2+PtrX3IBl102+aTG4v+ybVPLkFnvqhWBKKWIt7h25/y4+ccHzvnLATPWDNQtaXDpE1JDfTVwFgscHUAKkfRIo9SJEZVoCiABKYCULEb9HcMYQxklrrKWKV1vU9+bhoNOIlWdo5D76RfgAKwT48ngCjARfmbzfXYRoq1pUTBd4ExSgLMI6d7yz6ae4B6zgeHUCbaZ7ZavqPnqd6JP/RDP9SsG2VdyjR+8zd/s2ELcBqUN3Ja4wRfwa3M+yWLuaTXJL0pHwem23P0QaIr5ZRTOztb1nccIlP20sNEUTrFieP4AAIOSbDLAQLAAWtaib5g3ZqWGFHaqnQRE0XG2dofW9q0BZ3rdypABZRy7O1J9jBzkJ3k2AJYQtg2+6X+cdi6SpwEovYza95JwpgTKamBKTUgcQIUjdJ5NlTiDoBiLTvlGgCCGe3UYf3IH3zwwSkfYbPXojO2mm3RWicODFF1oPTSurcXYuTb+/QLB06zUfQr4J2qhzjgFANQmxTEBL61pJa+m8AYvf5UBVyKtPWJZduAzKok9InFFrtUwcYDcGGV698L5JKQN4f8jv+JQXpMACIOkpKAwVp1aI0EqfZTvm8uakfAF9CvMZMvx2fboZ6m9gk+LJKEcyPWLvZF8Rlg076I7Unsi1P1tra3OmDXvHMPc5U/am2Hb+WAorFybI/Xi1SMqSXTVHJo3zrkk9On/qb8S71OsZbZF63VHNok9vazQ6z7eFfWcG3DphifilH+BP8VsK2iUkwgXuXzqrLMljNTzZ7Luc5YLHB1AGrbqwOOAlEZU0AQR9OiHCpjlTb0vvm9/hrgtGtwzuADAAVmSgIB6oAD5ehKDvQJVM5WM7XKOyqJUJ7vM4K4OMkUyCCY04Q6+uVwQjChgYmyg1sUpSocBA6H3k4CWU6pLDSdMdoOnyCcBuAq56o+iXSLYx/6zDKxDucwFwSlpQic9Mrl0CutTHlVAwA72WdN+UsWFKcKWG99HXMOHVgCKBCc0y09W9ecWidM+znARQJNWRUGBWDRwQB7FoAnp9B6VLrrpGLrFcNUwsP+xR4CX0LvEo7ALI5m+S7sZ0AsgaikSUpqYEoNmKvmKBsDhNOjUVAj8Snxga3H9gBY9EeVkMIqOnep8ZRjnupaAlPtOeyRdQ/T3/u932v8Hckp7U20K4ogFhuPf8SvkQAWVI5hS9k3lFB7Bmz1UrCItV8AqtqjL0WO2TatnzDWLrn/nhJaCWYJvvqkc8AUH/PUAUTmtbkMrJcYANgAgICofoZdjTQBtAbqKKPOBPbhFcjfBzYjf9TJUu1VEEUkqcf07TzH+le2D0C1vurKuDggip84poQ7DmXjW9UkLHYLSMcHHTvfju3xMZYHHnig86FWp/R/at9CPgifXEwtaWF/Z0PEP/TBhouTAaticAQkumiTLuMb+q7EZCqu+MKvvPJK0+JL4gpLWKxgj0GI4lekpAb6aGAsFrhqAJVDx7BaLEAvgJCAEXjKsALDZD31hzvGmgslhWItdk5n34b7fV5MfnYaDQjGnCoK8IuyEw6V8mrZLuAMFob/kyhvq+8uYAtD6/tRcgSQwfjA8qq/z4ACHmW/tibWTvRENF6njAK5OPzKeOm1Hq+yX84X5+pSJZw2mc22Un2OCZkyW7x1XT/++OMHQWXzzvo91l5D9tv6dNpoAADWJOZTHKQi6+xaBONFOSu7sGdh1+hNwoO9ij3Leib+j/kj6cMhBpLevHmzYdG39ZnkEFv3W9zP9vye9zA2QbnSW0G5gAfrnJirQD5VIsS61v+N8MMusSS8ft+CQmAzZnldho9tZx/U9xmgVDLHgv3nZw4hGRuAA6YkjQ9VDADIkRcQGS5F2DbgnTYJtbBHqlW0SbpEsc6djA1sbzsBm90Xt6kaOyYOMVOpIr4D4PDBShsX+8a//Mu/NO1AgDp1cvsS9X9ozPRjb1CtU8upd7YmPYq/xGXXr1+/a1/k6yg3V2XTtja7jsOehjENbK5FfIlU0gbgdr1+fO7YHi9WMxaJqTFjKZ+pj08u+QkkpQvrWJK99DUlOs0nfiVWbpvMOT6xfVRZlbE77Acm4FlhQd5XSmqgjwZ2CaBytm0kjKXAUEYS24YInv1MQClLidWAPSeTdKhpeQKofabUuj4LwAQQMKLxfjGobKoCMZu9RtccWXIIQBWERFNw38fgUtoqQ+sgKtnt+vuuKbAB3m5NSgDVeDn7AlyJBkaSk1WPl3HEdpF9vFThLGD0YVO2lZ5hBGFNXTLrpJ4bgD7OjP6ktfzZn/1ZkzU+FmQqKxMcAa0DQMU2BZ56H9a4A1MA/AS7ArM6QJq9zlWs21/6pV9qSpbsUZFht57tc5KLGGH2R4kkPwOgaj3h57V4DxisW9zP9vqO9zIuJd6AD1Ug/DYBqSDXXFV6jjkm2MEkwrgh7NGl9DI+9p4DKACg1oxcgKYefQJECb2yGkZJrj0hAFTlzWPa77gPwBabMNoIlM8NpLUnt4ENe5nHbbZNdRNmdS3YaZJS9uhLFHEX24/9pWVMLXxq1SWHWGvxeX4nZiQAFdiqJVBUSYTN4w9IsvLjXReondKuAe0TsHoBqHVCBmsPWPejP/qjJ3taLq3fSPiK/ep9MUBH8+B7v/d7Bz+qHt1aBEje1+KQYa0l2ioD+t7w2B5vHXknyuXHjKV8pmM+ebTDCp+cPQag2t9VdrEzpa8JP7E+VZGw820y5/gkYbRSU71SMk21CuBTeFZ+h70hJTXQRwO7BFAFx5xx2W5ZEU2CLVAGthbOOTBVP8dTpSILBxcAAAAgAElEQVTx3bFK6/OC8rPjNBBOPYPPyHnfgHOOWVnCz8E1DwCuhwTjWLkRgxEl/EqyGWdML9eIDBsD3bUEadwI5/s24MUaih4xxsdQAo21LADKCGyJNSfbylGNA9vme7L1Xpkzo5TFXsNhKIUu6UhPpLlOkl6vZg4/maQWZxMDqnR0o2ycc+Pgp0MSJUwAVDrHhMKCdi3Os36fH/7whxumuTWupP0S2ihggxszQFSLA+ycKOHnNNKpsiggSwRKAH59Ju2V5buIHpUAq652cotzMZ95GQ0EG5KNkaxjh9kWfpy/2W8BmwqI3/3d322qIeJU5WWeeD13BSQrhbae69OOVTyw3xJIWHr2gEiW8HnZJOWN9Bx75tCR2a/ZN6zgeo/wvvhKl9A6pdQfHWM22Wfr/VRZ66W3RNF6wrypW8bwo55//vkGiLf2j0mUnEefRWXb9hM9L6OEH+NUohWQA0jdyiFIQ9fimO8hQfAD2pjkGJ1iH/vI2nsZa/8i9gem14eR6VGqElV7pyDGDNHZsesA6hFoJAAOkbO63vPYHm9fV4Wlr7/9ZArp45Pb2yXen3322YY4wp+MEn7scDEj+yS5JknXJvGu2mzY2PHxXYG69hJ+RVnCDzT1c3PEz1NSA300MBYLXHUJfyhCZoYx5bC0CVaDgLFraeJYpfV5QfnZ8RoAFnAKMI9lVQGnMlGPPPJIA9pgH/vDoB7r32n++Lyspc9xIjh5er4wcMBTc82mLIuL4WpejemxM370w6/A+ceUxObmTBm7TCeGJX3KOMriKbHE7gNOCxT6HMg2/OnW+02sSc4TViUmn55zyk05E4BmTttYh2q9o+//ZNaOoEepufUDMAWoYkbqaabtyrGDizhI1ibd0jX96vnHMZJAw0qRQJOJtmY5Uz4zti9V/5Ge/xsCR6WQDuAheh3Sp8oLYJRgCAM/BHuHIykBYJ9TUm0/U+ZkzSu/bWtNcf6R5R33pAEgip6QwHvrGbAnILPugarmpCoiDEYMGHZXYiTl1aoZgAcWvgQSsMDPlFbySSKAtKdiomJEWsuCe3suAMr3gKxjJXoC6vHtD9aP4NhzKHW17wJwL0VUQLBtgG37adg2/gG9Aw63esjoFO8wwDr9CZVTm58SoPxnPhNA5hQrOhKtyBKAUW0BtKyQEMDuBdqzddqEYGk7DyPlsAbsHQAve7B9AVHCHgIs5C9o4XUK1F6Lfu2L9h+2g08T+6IKQpjA2H7ugH6AoevSFZ8TS1eFI79LVdUUPZ+P7fFTjaV8Z+GTe/flvhU+eb1v2d/1QbX/A0+xciVCjZ8Pbj2KhxGQ2mTu8SFQONxKvIrtzv9FKgBuS6iIDdjClNRAHw2MxQI3AaDaADjisp21cCqxajjvXUs6xyqtzwvKz47XAGAFOKpkTWZatk4PxBBO/tNPP90pILMJ+ywjGSITqzTOHOPAuZ8ggZNRNy8fP5rzXkEQC2gu9WVsGCaR4TdeOvAzDL9LF84A54kD4d+YEXpHyXRz2KbKEu9Jz9Ylhoh5FmsIwClRUbMH2sYNWJEo4SwfWuN6rQFjvINTQdledEufGOEA5FKsU2yx+rAXnwG8APuVUse7sEfaz9LJ3MvMWN84tMTRVgLoRAAoknR+HmI+AkGUGKa8rgFrVTmpBAl7w+4APYAGgFE+DwCzFp91mJ5Aty7XHaJf95VAtN+4v4CZfyCpykfaajJ5iC7iO/xO4F1t2+y9NWN4zH22+l3AHBCITx32BtmhPDn91NgcBoNtLZkPEOELiO1CzHPxnUMp8+C5U9q81jD87b0SqnQHpPYnDqWM8xFOX2nZTxzaF/mUUcI99gkBzeYbAon9zr5nH1RlJoE91Xw7tsfzzaZmVR/at9p8cmMWY7PL9UHMKjcBrKdi4bnHB9hFtBCLhUhoAdlVBaakBvpqYCwWuDoAVcZRwAjM4nhj0WHNYchh0qGTO4UZi4Zx8HnlSzYLWcouMlZpXe6Rn5lWAzZ4mUKOLIeegwYIBGYxPuaGn3URWTjzhoMGiFCaIPMIuDHnZNFdV2kxRo1NWjn8VhlvDo7B4sMMkGwAvHD8jZfzIDDjJNAnB8t4U641JzxiUJpvAsc3vOENdwWpgD/tJOgQCG2erL00aq53K5tPX6ELc6yLo05/5iQHVjkqBw8TVeZbQCV4xzgHJLzxjW+cBCjoogNONBDImAQfbBLHfcxJ113uW3+GXpQ/62HqmfSDciKq+XhIOJnlfgY47fIuhjxffic1EBowP9kbp7kLxNhT+yfGPhurLY49MqVdA1ioyAB0KJjHilIFo3SRTv2eXeLr6tGNgTPVwSPlEwEL7R+CYolDyda+AC3bCFzzNwYT32KLthEwqAwV45QdACioTMn99PUZY42bL+amqgf2JuykueRcCwxTiTwVE21JaJ8T3/HPfZaYNxIE+nbngXOnd037r3iYz8IfExOZp/4AwLybLYqksPYN4kB2xJ43FeDIV3J969t+Z18Fnpp7c4gEgfY19lP7arkWjE+LG2QE/1bRpSpwyFj54WywhKb4DhtVZdehfcveZp/7jd/4jeZMEfe39vSB7Rpb09ex8Y3Vp5jAAVn2GeNhK9vOqhh7n/z+ZWhgLBa4OgBViSEDKmgMp0tpvtPXGFhZJ5sC4AeIqmxE/45jJaL1VBirtMuYWusZJWOjjAJgXgrHXlaKcbD5CzaAC4fEZ5S/MlClMChKBD74wQ82AIVyVwEMEMccVALrHuZeWx/e9Wjq7ifRVydKVOK3HFsO6dvf/vamDMKYGXEGlwOhdI/h7hswrVkPczxb9JMyf6K0j9N66BCfOZ5h69fU91Sfq/LwN/Mz1jLd0ikBrioJPAeAaR3oI2XPsQcAM+wDkisOFTgHC5lObt261fQr5pSWAtBX6mg/y3W69VWwn+dX7YDFwta2ibUrADKnU+7UgBJJfo6kTSlAJ4ncQ3L//fc3bXmmYkpN8V72Yhv5nthpQFRVDwJ37D5JAAzUNel8ivc29TUAeUAPYAx/HZgujgNQYY2F7dLWgz7bTtKmY4mCLN0//naA2NHuTKJC0goQ7d98li1W7Zg3YhRkFiCevRARxN9ve9vbesX9bdqTkHJItTVNP/ZZa1zyH1HrnEkSvqb9v+4Nzu/VEkMCqquontNmhN+KgIAsRJfIaW2tXiQ6tSoBlqqCKMX8sYbFhEsJkBuJgh5C7AuAZYAvG5iSGuirgbFY4OoA1L4KGPL5sUobcs/8znANYH1Fk2qBgg0++nlihcp8y5jJUAIUDpWhRx8VIL3SDA2vMTsEc0rWsFsZUeUKAHtOHgPKuCpRwnIG+DBoWxB95vSRMk4n6zJAStOx15T4Mjp+xqhinwKqBD4Mr55Des2mtGvAHOR4YaJI4nBWBVlYguaU3rOnSl4uXbfmoXJezr3yUAkKyQ2HlejFpI+XE5/L0iDMlp/8yZ+cXXUCEY6sthYYRwI9jruyOM6cxMTczrUkjhO2OfTuJ3HIacQisLYBuyo02k6Inl1BeYPUQKWBONhM0GY/NG8FupIOAlXgqTkr+e0030s+rLCePABnfg7GvYSS5I2glv6UVrLP/BCiZFHy017ATtMlEoGDMNcgYRudKK1fa9hGPhr/Yiu2EdgXB4kC98zd6CXJf7LvTtEfcQ3vbI5nkHAEbrDZ5ikAjI+pv6RenHxwTELzWh9ZayDYyvqemtcAEt/TkzH8gTmedQ/X1AIEYM1noXM+i3fAZwEMIpsc6mG51vGbJ3o9W396t9rz2A+gKn9MH+2hPZn5lfwoAKMe8/42B8V59lxJEvHRucQBvtjD2lRgoCKRIY/Z660DTNIu5IE40BERxjkOvmusYj+6FAti8YZI1ANPVWJiij/zzDONveZb8rX55NYlf/gcxIE2favCEPuL1TFOxbVf+cpXGhDd3/aUPgDzud5p3mfdGhiLBSaAuu73e/FPB7jkfMWhE0A9GWwlF/qt6Ydo8wcGctYYwbYTvxlGTpoSdkYkrqvZNtDUz5UEAHJ8rj6FluOszFjJRVvfwTW+KAAekEf2FqjH4fdv2VWMbWWA/l8bZdlGgDWHK9lt7W/WoSiANABfqSPOCEPPUe3ak3mNc+ccz6Qc3xxUwi+BIdjWHJ4+OZHWoVPnCb0qYeXIYU9jh88lWDDWulYCNaOd047RbX8oD2+a+lnsV4ID95Lwsbdx8q1V6xMT177nUBd7YzKhpn4Deb2+GpBwVAapkkGpqHXEzmC8CHgBUNYvQNXaqfv69r3fnj4PLLLfxEnH/BB65KsoXbZHBhMVSMJXkTx2PoBgF0OdL7MGYRsBZfXJ7FuzjQAHgG/bKdyAHeWufrc1UOpccwQRAbjh4Mc62ainL8a1Q2G1aNOixl4BbDfPzW/+PdsHOFVtqMoHwJNytwbsFfwjrF77cCnAZz6CVmeSr1sRhARJdiA7kkIpQPePfvSjjc+o//MQEROpNjQ/6/Z/f/qnf9rYJ+vbfJxbkFaQdhxo/N73vrchFdjXJZ3YTv4mnxiQeEr4hXxoMXEdm7gGwNn1QwCz5g7iAn+S76vFnSQe/Zg7fg/MffLJJ0/dfvLfe9dIS+YAkpMxaGvAR+ZjAFTF5J43JTXQRwMJoPbR1mufHau0AbfMrwzUAONm8/7u7/7uBjyQaSKCMg45ppoMnSwZg8fhBbDUgtkRp0/7blzHz4Cn8X89mACwbYcDAF2dOrqF04OBe9E3pxwvZ0AbghhvWTodOosMJueha1/hga93s19Thip4bes/F44ZMDClXQOcouirVM5PwKiEhkw8KecnZ/JLX/rSXRn0qXUMrOC0ynYL6GoBcmC5azMwlwiIOM2CeAxYoFO593Ec7UXmIOafxFFKamBJDfRNtrXZniWff8l7Y9QIVGs/p+2Z+EESuiTaF/m35I4y6aUFGxYYgIFaC1a9Fl1rYcse05X2KfwlYHYtURElkZU9+Nq1KOnHt5YYqEUM5tAo8x6LrCzNPfZOcs9o1w4iBKapip42RqZekUAoIOpWRCsTB0e/613vam0/YP6wORjtQwRAj5nbVv4doDOgkf81t1y/fv2aA3+jR2lbnIsNqurt1PpQaXmoglCrDOCwdnUhDg2UqKdPc0Qio7y/2FlyTj/UJZKeqvoCQC9jhWhF4Fk9t+dMSQ300cBYLDAZqH20nZ89uwbCsDCSHAPZJ6KUHkgo24bpgPUni+fQAgcm1cIgymALPmS1gaEyb0AQTh4HgzF+9NFHD7LLlFVwnBn0tYsAK7L+dKUnDtaubC0A1XhJm0Mqy68c6JAztvaxn+P5ZGIxejkVtXBQ/JHFTWnXgJKiOJTN/OSYYVZhpervKdCu56eDBCVIrPc5D5SwTrA87SN183zrRYZeidycJcjKdwGo9jTOIzZ5rFn6UiYLUFYGCUCd68CDnL+pga4a6AOgAv4CBOx6/T1/zl6DfSRg5+fEWjfmONk8xg+ww06qf6e0dQ37gN7MSrD9qUUCTBC/BdsoKc9fbANo9CsEsGoltZWWTudeP+YwQF/lRC3KpNktbDv61RKhTcxnycSQBFDb32KQHjB6JVtr0YpC0vecJelj55v4TFyHdSlGqwW4yodsqzjscm8+nkR0G6sTo18CQBUZn3RusR+KKSQT9BwtfT1sfnrwLPacY2J9BLlDCX8tfEZVXdikIXxtAKr9TkyjlUDcX4II014lhHYlkl/nFs9nLOaAeB0GYJz8YOJZgb5Bujj38+X9tquBBFAHvLuxShtwy/zKQA3YvLEysEqffvrphvEnUAByCDj8XDmVUg5OgmxhW8bb7fUYUxYCqIk+nzJrAhRGUpNsG7T/M1ZlQChTCTjRQgDrawviWQG+mGr6J0YJP0PkBG9jln0MIMuY4uAaRrtLucgW9DDHM3K+BLHA9LI8jd44I5jN+lemHNaAda25vf2Yk2QNC771TrSW9Ze1tgmwRYZe0kT2vEsvqKG6t9btLQAAPaRKsZb0IKz7SA2916HvWYcYzA7kAaRynDEQjBsLQdCpDBKTC+OgD3g19bPm9VIDNODwPOCY9SMJghEisLHOJR+V9VvbSp4B/1jeKa9qQCUNRg3Wu0A6SvgBTfYCdpze7H9Rws/u2AeAkpiSWGhrEEw47x642GYbAcAOaFm7SNZhRqo4qk8vN8Zoc5TtU9rfJOaYxD1Qr2RFms/YbqpQgCCAMK2Q+KNxmA9fHUOQPy5xCkgF7JjrKXdrQEKaz8JnquOTYHLyHyR+tyJ8PmX6nrlum+ZwLJVAfs6+DJEgiigHZ69K0X5CjAngP0eLDlVP2KcqLiORFiX8/i/B5pm6JO2VsvOrjav0k9mOqJ5y3kCIz2qV4D4AdntblPAj0jhYSl9u78LznVvMA/GU/UGcoKVHlPCzj9oBsTWeMyU10EcDY7HAZKD20XZ+dhENADY5Y/qzAAJl/zEpbe42T4EYQJTTLmN2qNE1pw3wAVjUKwjwEL1fNOy2OQtEPvnJTzYNy4EnSmM5IBxp/dts3DKEWxB91RhKYxGQAVucZMoY6j/lYBqtCgSzstMMKQeV47CVgx6Weg/mGkMOIOCwMvB+JkNrvmA5R8uIpZ5x7fcFQuthrFk/kBBg+Mu//MuNXukSiKq8ynrHUMFEURYKqJlbrHetGOwBgA1JFf3cALpYNQ6rmxu0BJQAGvwtkBSwuycAgj6sXSwewWZKamBpDcR68RxAEgGbAE4AKsAnbKfTooFTeejDnW8M0xwAzc9hgwHRgCN7jlY6/i+YxFJywIc9yR7gs3wbP1+D8KXs4XwKthE44WdsI1YZ21gDFmt47voZzFksNHOYzdH/ng8IFFQ2Oga8WeN4p34myRL6A57yMQEgGH98TIAR2892mdNAMvbNngF0V3ERCQFrALAKSN0KeWFqXXa5nnY/Kp9URYlxtEMKn0UCAEi9NbCfnfDeAcPIMyqC9Nm2J5on4rGhACeyAzajMzWsb3137bHuaY2LO895QKc14h0CA1UYicc8F3DTOhH7dhHrSGWm9YY1iiEPjLX/IgyJkbXJKkUszd92/7AjPs8mAW7NH3qf8+yBY2NDrNAnWWsYiRT9Wr07P+NP2CuylUqX2ZGfKTWQAOqA+TBWaQNumV8ZoQHOEyBBQ2uNo0MAg5xYgYQNHlh4qrRXFu2RRx5pmDAhjIkSiehpyLljoBnTEKAJkGcLjn+pamCpUvyyDEorA9k6jD+GUzY3BIAMXJ7zgJwRU2FVXwVCY1aVuuXsm5PlKZereuiVPQy2LtaVwDTE/LSWgdOlyNDT7dzApXvaZyRllDuVpcacbH3EStb2nCrlyEt0aE0S5YvGTxfWcFuZ1pzPk9dODRzTgKQIVpmWOW3CjmJTd2HSXJqm+TnKnQWu4edY6wJhAKRAvxaAguDSgY9rkr3YRoBfHKoZ+tUXG7AA1Ek5rgF9efmYSqJD2E5gUXmgEYCH39l2SJSSdLauPPgm9X63BvgH9g6JrNJnUZVnXznHYUhTvxdj4gMB3QFlIeI88djYliVaJZmfkvQhANloz3UOXzPua38X54o9yziXj+fwpD597mEcvlP61dYR31X1YS3AZJ8HTNK3/4cALP3uHK0Mjs0fbQdUgUYy1mfNA0z1+uC0qedhXm+fGhiLBSYDdZ/zYnejsmlijCovYFxkoiNQAwByamXalHO0NVEvFcIYYLoJ8mzAjEZ9OiUDolwXiArQAebUxtT3ZQW1FBDIuMYa+2FxqpQ9/8d//EfDisRCDeCFg6J3jGwnINAf+lXmjxm4VMZxKxOYrr7+9a83euPMcTK2luVfWtcYlkBCQTcdKvmzpq11LTcEANjTS5wgC9TwXAISe4C9YKi4hrFiF5g39h6Jijjsre26viO7bs/SzsQehIWrHC8ZzkPfRH5vTg2wMwJBLD2MMgEp5qnkowoQrEnBooCOve4TGM753Gu5tmQJNr6+hvZDLCR9nwHPqhuATf62F2DHs+2SyWuTtdhGz4E9Ze/1b/s49vOxfbfWJZ0DAfmZ7FGf767tvZTPA5g339g569B6bOuhOWYMfEzMN/sC8BST157gXXgn3o1/f+u3fmtj4zAO2X+2FguQnz+UZTjmuc/1XXuhd2COGSe2IR0NBe/ELGIXMQydruFguWO6lKQQR/lb7MbPq4kq/EBgBxCV39OHyGL+8eGwcdkj33ePMglubYf+re+p4x7xq3eMHYo5ywa6T1uswD8ECnp/CAN9/F7j4y8ChI1bXIpcZG0DTo/FJqq++Nzu7fveBTasg97WIPYIfVoxchGgrBOxO7Z6SmpgiAYSQB2gtbFKG3DL/MoIDTAo2JJxcEJcSlD29re/vSm98G/Gieg96We12IBlYrEGS+GoOKxKj9WuotxfmS9DCzQFQNrUAZOcvqHOT9f7d/mc8QpY205u1LtTPxzCuGtbAEjV/oBjQZeCBEDNKVZvl2fJz6QG2jSAIQ08NVfLrHe9Ps1JSQ9s6i2KvUHvVI66/UKgJKjk4NrD2hIv2AO+EwzxOHHb3sI5VqoXp5NuUSf5zPvTgGQddqlA7pAo7WZvrQm2BxtNeWbKtQb44OvYG0pRwo+BB2hQYlqKfUHPups3b6YKKw0Ak+yhgEKVRnwavg02Hn1eahKK/VCaK8lhbgFYACgAKid4xwnXc00ogK334p5sH5sWp2j7N/sYjEPtuvZaug+o0o7DfgnsNF8BzcAuvvdegPpD80iFD8DcOIGiEUdhFGIkj42jzCE9QQGoAHmgYICYDp86B6tS2xIxmGdBTGHz+HTiKu94KrCW7qwphB7l7Na4fc+4xYGH2Lo+h/WqnZ13UQumL1B1SWIInWlHEIfLekZ7hGd/5plnml61KamBvhoYiwUmA7WvxvPzZ9eAbB1DwNFgDE16BuHRRx9tjBKDCGCRyQWOAlyBMnXjfyUANttf/MVfbHobKmdQMqSPiu/pJ6hX6CmJg2SApYIdGzmmmMBGmwHX7ZM1PHW/ob9/6qmnGnaKPkHGBdj1jLJ2AFOnF+qHo0SNzjgUHDdOi9IWPwf4YAROZeSHjiW/tz8NyJRjvEQfYywqiRDOpfUEaOFYc94cDKcc0PraYtn6Jz7xiWZc+kvFibIYF/YcQZMS3PLAFY6hPlacYr8HljrUCtPZHgh8st9JFimxSkkNLK0BoIgEnGCHvcFmMY/ZackPIlng53r0AVudCiwo8nOsq0sXaxl4KuDW290eCUjQS1JgTLdsOl055JFe6U/gy4c5dIDmpeqVHiXe+TbREoYe2RQJKuyqPbMbjwFXL730UgOWvulNb2rAEb60tjVO3NYvs26hM+UcwiRjz70XwOHzzz/fVIQBtj0Ln5PtYzfZvz3uD3EwLbALSCWZGmzJ6G1eHvYzpf7XcK043ApYKjYJVrL5Zz/TUm0skG9PtIfykzA+xTbslL0VsMnvove5xH4NmJS88QySFd4x4Nw79kxTHKiHgIAQY3zWVJwDIn4TN1tX7EUbIO0AQ6Xx1hqCkeqH7/me72kScnrqIgppexc2fC5dHbuu9W8cDlUV14tpYQJ0qmWF3uEqs1JSA300kABqH2299tmxShtwy/zKQA3YvJWw2eAZO4e3APucFsjwcYBR+oGihBOozykDoOF0CAODbcBgOXmegcaUEaz4OVADYGMzPiWccgAG8LE2SDZ5DrrSh6UFGKocS1mUvjb6+nAmANLKHoDOfg5QFaTVfWSMkS7pMY3T0m9zf/eXBBHIWoMcPuuZcwtkBNhz6PSStd4dlKLsksPE8dyScGIBIG1gZ5wmK4Aq+w5LCmHncrzpQglvCMdR8iOYrA5lSUkNLK0Bp8djQlqnmNECRyJQZXOsbQAhu+vEXyfoskMOg7D2HVx4yQJMxrKhG4waAe+Xv/zlJiH7Hd/xHc2hOw7bUfb8qU99qgl2MXn5IWw7Hecp5a/PIEw+B6PQU31gGbAOaLeWZPc55z0Ax9gBl+xOKX4HiGFb2Ks5BHCq9zngSNIUwG0P8DzeR/nOsFI/9rGPNYw683xPIg6x5q31uu2YOESy2O/mBPiW1Cc/DkguVqrjKEk27x4RZigLFUBtL2WL6sOgJJ/9LhLTc+kBYUUM6/R64GkpgGJJDL8bezAxH1lcyhe0jkoJwg8fsq4mjPVuzYn3ALv+SNBJpriu39kvo8JzLl0duq7nsh+JUZF6HFDINnp2PoXfYaj/4R/+4bkfLe+3cQ2MxQKTgbrxCbD3x8e2wKQEBmJoxYRXcsTo2Ow5YgxuiH/bdIGtIZy0YH4BUeM6QEQ/j//HQS3H9IrFClBkfGsBVtrIsVpLRtm535OSoCj/KcfrOcr/67MG9AVA1wbeZ3/nd36n+fkUWdJz6yDvt24NAE+sO/ORxBqMEvV4+vL3mN1AhaFO9RIa8bx6mOrj6kTnWjiogOLyYB2lbRxvwjmsS5wlPZRm6b+LMbAlfSzxDvKe82vA/I0SwHoNl3fHhhHcAmq0kgH6AQxu3Lgx/0Ou+A7W8eOPP94kcrGxYj+M0lMtdmr7zX/hC0Vw28V/WbEKJn00PQcBzUD9NpappBawQTL+ksTa0wcfSxwwXwvgRMISsDOHaEOBGRg+srWvhBjbUt99+wJ/HzuWaK2lIsV73JMAEDEUf+qnfuquYSFhSEBpMxH+z57GbiwATP6cpFEt5h+wTNXg0Oo3ZfuYzog3bX22f//3f7/xx+LU+Tn064AqVUNlAjzuI0ZF/sEYlfwaI4B4fqY4rvYF2QTJTdWSdfWW3rLi68cee+y2baG3OMRKbBy2xZwce2jXkDHyD1SM1ravjAu8X2B8SmqgjwYSQO2jrdc+O1ZpA26ZXxmoAQdHKQFkgLCxok9pMC5ko9D7GcoQfWAYkfLUTkYMG1M2V1ZToMfB9l1GwnUBnsd6t8X1GX6Zc73balFOJ3MMLFmyZwwDyDmgB4EppqlyDCV+nObQo7VAXwJZ+q0FU0D2HzMgJTUwpQawgiD8VKoAACAASURBVLTQ4CSTmJPWo36ocXKv35vPgj6lv8DFLcnf/u3fNiVj+rfWTBPjwvIWOCpjC+EMf+Yzn2mSIE57LnudCiY53jLvnNu9BZZberf5rK9rANMPYAWsAuzFCcAAwDK4UdHARmKYY6EDTxzwcel9zJQn8hvuv//+ph9g7IdadzgwA+vcfkBP9IyJqvza79hwe4ugPOVVDai2kUynr5rhBVQAUNGdCqdLkgBNAMfmTy3sDmLCe97znlnUwuYDlt73vvc1/rgSYvdk/wA87KFqDPsE+wj84ZuHnzDLQy1wUTrAknZIVi3BvLUXtJ2avsDjTn5LVYVAsADKyxtgZ+rReyj50eVhJJy0QcJWDPJM+T0VPmLCuZjW7oVMw0f7+Z//+bseOaqPpgDJxXYYzSoS6iS99Y70g8HJfy6Fn83uBIBqjQFQVYb5rLnH1oiLJV7Kg7e6vIMpPmN/0Moh2h2I+a2bMm7ArNUSIiU10EcDY7HAZKD20XZ+9uwawLDCVONI2DixSk16WTvABCMIDA0nmFEC+umfUzuHABtZNKd+vvLKK7dL+AESMoAcyi7lwQy7gI+DWWZHGSPlRsqRPd/SwhmlK39kdKOE36mcjJHfYwJwWIGqNRMjehTJ0LYdyrX0+PL+29YAp01fJdlz2XFMZ6VVWkkInCQ4sLGwpKNsBwgJSN2SRCmZ9Vcf+mQf4azWpVd6EGOZAkmVKUn6BKM8mFX0xcGtyzC3pJt81v1ogC2RaNOjTNIzGGxK+NlwbCt22dr+4he/2CRIACMvvPDC7dL+/Wij/0gE/EonBdQqPwT+1jq7bA+w72k3BNzig0QJv4NIMNSV+AOlU17VgPkm2R09Fku9AJ9V3vAn2ZhLE4QDtpbdKQEX80x5P/BkroOb2EM+pzmLfeiezz77bJMAiDLd6MEa1RsA1b3ZubD9bf1m7aXiFOB/W9XKHuarChsVe+IoVQkh4jEtHeLgvKFjdR0+lD217iUbLZKijcTQe5z6nnfovIk2IPyP//iPm7gMa3RsH+YAYxFktK8rJUg9+gq3MUiV/mN9exee175JZ2wMtjigWz9koPYSwl9wf4lYzxiguCSY5wOuauVnT0lJDfTRQAKofbT12mfHKm3ALfMrIzQgMMAkAEoKHpTjAyKUYGAQYLBgGOj1ovwI0CCrW59giQWmbAlY6vsCNyAOZgeGKgPheqfE4S++I3vJAZTd1NcJKMswY8tibS4tcSIykOVHfuRHGtaalgj05nllLRmfKKHyb8GGLCPQyveBwcazJJt2aT3m/efRAIZa9EaUOVfCqpRdBpw4IVXvJb0ROU1YWZjUWzw52VrS6F7SQmKHw8x5Bh4bpyRFXXplX9NDy88lPXwXkw/TwN4mYQNkaWOOz/PG8qqpgcMaEOhItPGv2A1zVZBj3WJUmccOjQOKKKv05wtf+EKT1GSv60MfL1HXwFDAHp+HLwFU1S4IC4if4f/6yEqA8mfYZn30gFCCyTyI685ZwycD1tMh/8a+Cbgy7wTlwOpLbH9iHt26dauxPVpRWa8SHewUgNMhLW0tnaZak/TP/wx7iJHO5ySShgAvtg9gAkC0VyxRPjzVeNuuA+D7rd/6rWviCWB1+ELGbY/EzKwZg3M+z7mvLeYSR2Ehi6OsR0Cg9Yq8Ibkx9iCzYDdrFQCwB9IDCcWJYkb+05wANZsoGWZc8Y4lLlRR/fVf/3VTxVi3Zxr6HjCa7W3K3ZGFAmC0zvickpdt4gwCQDMQVSm8qhBl/ZIZEk32Bfbn0PeHPm+f72lzBWi3j+sDLlGIVYudLjZVbWDfSEkN9NHAWCwwGah9tJ2fXUQDHA3GFDvUIVGE0cPossnHz/xcAIEFc8j5Y8yANUoAQjiRft7W0/TQgAWEyjP8HSJDhi2yppIb7DbOZ5RDe1Z9v2R46Y4wtEBUvWZkH4mgApgsozm0B9EikyVvuikNSHoooRIohQhyOZ4AwpiLHEJrlCO8RbHGBAbYALFfcfyMS6DUxkCgAwCrtRm6iLELeCVFxgYYW9RlPvN6NSAoVnKuTLdNJOfYWYEQGyMZYh4DWVOuNb0eMdKAqKWvI7GppJnDjxkEdA7h8yjhz4Me755B9l0AgsSbUlZi38VotO/WSfZLmoMxlwB4IUB6/rOE3ZzSZg/b7oeZKIHaVoI95/Od69rANP3RHagXYo8Egmnds3dB5BBHIcWEAPGszamSQYgxEikSAyESfexOyXydS9diKi0qgJvRo1pMVdrBKe7NR8TqBb6zI0SFB9sBvD1GgkFa0BOaHXFIaYh9ALOzbIc3xbMOuYYKDO0G+BghKidffPHFpqVeSmqgrwYSQO2rsavPj1XagFvmV0ZqABNNP1TGlnGQsbSZhoOMzYbBwunQD+UQqwAogYFpM8aQUb7lOnVpLaOnfE4LAYIZp0/hN33TN90eiXsDUDmgAFvA5NrYDMYrM/nEE080IKpnfOSRR+7KJtKfrKjxRoAhazlndnbklMiv70QDHDZzFOiCZSIJAeDHhrHGMIdkmjGvti6CeOwK65ITLXCyt2FGAFMlc2IPsc9pXYAphMGA1R79ELEWJGrWtt9s/f3k84/XAHAP6GH9msMAAfMbWCVoxDaVAGCvAaflHLbe+Wf2AuCCz7FD/r4kkeBVMSIg1s4Dy5wPgqVHvwJjPgp9Ya4pz4yE6CXpqetYgdH2XfMRGDcnu/LUM3m3mHH+tjaAuRjFS+zl5g+GGQZzrMdTz3/s93E9CVHzVpUW1vmhiqzSHvq3lgsYmOwj9qU+wPWp4n2fD8MOO5uPi3XoecZes+8znPq8Nc0PMj/FJQBFfji2HXBobIn3qfsv/XtxFD8IG1VSeMhaACACKe2R/u0dK2d3Tf+3/u0DbM6c1Q7mLoYkdrF3qX2N1lPWuffqXcZBgVPo3ZjYS3bTvSUlgdBiVfc5RYDB3sQ4tUZcyzr0t+s46G0tBwh7Ju1FsJb1+rYuxPH85pTUwBANjMUCk4E6ROv5nbNqwMaOfcHARgYPsMdAOARKAGGzBzL4DAcJc7I2whphuw4mWC1KlmTgiKyoHlEylkAK99Q6gCF2YuZWgjnGlB4wVmpRKijbyElT0oKp6t/Gy5lWPijQkHlconH4WSdY3mwxDWBYYj4LbKxhZU3WIfAkTgK1jv1eyc7P/uzPDnKuFxvggRtjRClbtKdYZxxtATWQWK834/++7/u+O5i59jtOZPTtktDBFhoSbKxNH/k8+9CAthQSHsH2q0cFRGVPBUGqSkoR5LJD7BHAUJAL3LEW2nqa70Nj7aPQakdQS19lhc2xMbPVbHrKejXAvvHH+FSAIsl3/iagTHspwPhWxbrGtMOAA+BgrwEFAZcSf22nrcdYzVt9DAGJtY+v8mxI+bDrRBscQG60EnEPbG3l02uynfY6/SjFKRKp/gb6qWwTd9QHoW11nszx3GIWMRuSiHUFNBSzeb9av0k+nUMktfTzlwQIsabZNr1OJcWmFHMZWGsfEbuJi42b3WAPTjG3lcbrVS72O2RnMHW1i1myjZu4XrsPLQVCvGNrRJLFgXQpqYG+GkgAta/Grj4/VmkDbplfGagBIApnQhDF8dSrRUZZZkwAFmAfhkv0fFES09Y/SCk7g/H44483bFJMNyXEGJlYqQwRo+MzsoRAxui7xFBxbtzDiYprcrwOqda4bt68ee3BBx9s9IH9gxngoCsHbSnNcIhAnIap71QwbOnYeJXRrCUDOXAK5ddWqoE4yENgpR1HZL0Fl9YeYBUzR/Yeu4pzqHfV1st1OLhYpRxCYzcu+womACaun8m0+zfWPWcc8x7IKmGk5yGGriQHvVxCqd9Kp3A+VqUBoIlEwLve9a7GpgJPsMoAgkBVAaRAF1Poa1/7WlMtEmJta1cBSAIosbECTyAI4AlzdYv9j/tOEuubveaf6P1Mp/YIrF5Ak71CwCgRTC8O0lSmyq6z5fyclPVpAPvMvo1ZCbwDrHiXkcBWVTDXwU3n0Ia56GAc8xbzz/rlv+vZrecpIAvZoRZVT5KFwCff55v6mRPY9ajEZKU7Pn4fccgs4IeNVMYcz6PSyp4iUYkVuAbh+zz33HMNOUP/4xgrUoh9FABcJ5zW8NxreQaxijkifgsbIWb8gz/4gyZexNA/BxFE+xVxpEPRPIfe9vw0/TvNRX/qA62G6tDeoUIJ0ce4Ae0EO1NZu5jVuA8lZVQ/YW+q8LBGHOhqD7IutLnTLustb3lLMxZx5MMPPzz0UUd/zyHR7J02XtjKzkvQxxmBABmBj1wfGj36pnmB3WtgLBaYDNTdT5FtD5AB1CNRIMGBACAwiIA/kx/AgMYPZAlx4JRMpJOrQ5TGCEQYBc5cBCmMm8y07J3fOzHRH45bnb2TIVaWwVgBdtYuSlgYccEVIwOkAtLoGxOOrKCLgys7Wpd6hKMpQ7lkydva9ZzPN0wDHE0ACaeTAPTNQ86aHlUcNoGY9SiIsPbnyOIPe/rh38KoCZCpTsRI/gCXHG6HPc5BBCxxHGXbBaSa5QvCH3jggWYvBJhsIaEzXGP5zS1oQJ85rXD0ztbDU5KSsMUSnoA+7CCHqUnMYZM7uILYB4CrqkeAS6WY84BBiVTrYe8igQL8wd6TNGHDBbZseLDQgUqCRgEu8EmfT3smllDZT3HvutrS+CTBJM/s1zWbC6CnZRT7tlUWqrUcAGD9Xvjvxuw08lqAIUgN9gd+vc8AUCVQESacRK+FDyJAHwFW63HZ1r9RIgJgy89fg2Dtsv0AL2BpKdYzn0GVXPaKvvttYSdKOLMNdY98YCK/0j451WFNh+YLEByIqX8tJrZqCmA4IFOlkX3cHm2vnkL4fgBUiTVtAkphNxyS/Na3vvVgibt1xk6LgTGy7U3iaWxveuRTirERaOgYG3oJAYxrRSBOEK/aE+wZbKAErTXhmek7JTXQRwMJoPbR1mufHau0AbfMrwzUAKYFBotyPg4Yw0A4RliiGkrLbDMEIRxRpwYK2sIZBX4G24WRi+v4Tvl/QSDAsQRk47oyfsqIAZGCljULYx5s0mPjBU4Bl9ucTGUhAlfA1VQN3dess3y282pA6U25luIEaqxvzlsclGL+WnucOMwsLJUtC6aJJIZ2IrXo38XxxYKPfS4OP6AX+5m9S0JD4gNLVWBZ9mbesm7y2berAawVbJVTEvbI2gemEgkFc15Q13YIo4BUoAdE2LtIZGLr0pMKmzjYsRy3/TFKnWsfpvz53nW1pfFpTSOB0FaODjCUUMRUCybZlsbGhwSCtoFYxmGds1cf+MAH7hoWRh5wufbx6cF1+QGAILaujwCDgn1af0/yQX9hQMwahE+DUYe5X8sp3a7h+Zd8Bgln4Bn703YoFNKLuWUOzSna1wSjuYy5+Gx8t4g5p9qfxamIQOZwWwIdqKySA3uzTYCkYuU6Piw/C/gFQhPzcIkyfrF8vLvyWWOfpFfJVQdhpaQG+mhgLBaYDNQ+2s7Pnl0DmFhKC/RHksFTCkg4oYyS0g1Za9nrkCgZAqDGhg9oldnFMpXlZ3hkuLEBNLh3XYELdqo/jHF9QqugBtsVQ0ZJ0JoFa0fZn7IVpfzYKzLc9913XwPehB4xfJUJtQWmkeGU+cvTvtf8trf5bJgB2Gpx+AlGmnUMRLEWZZsJ9ok+cT6vvMic3bIoUbSXtZVyOVwE2zZ0I3Gh7Ya1iJnLGbd2rUesFEGgUsetspa2/B7z2e/UgJ6d5iabo0LDwRYEeyTYK+yxecw2SyCYvwSTxJyP/r61bpUkSiS8853v3L3a7Q3KFO17gDX9YiVIMJtCXxK47LY2KIJc+gybPlWAvntFn3mAgByl2RL+tVgrAEK+6Rarfcw5h7Hq/9hGLvjc5z7XMKOxSWvBoJPIL33xsPsx//UA1famj9iP+OltvVf5+ACoNkC3zz2m+qx+6Fjn9FODVGIXrDutTfjuKXdqAAjCZwI+651dinkJSORHDemj20fXQdJh71QHAXUxiyW4xar2Z6CfZOEUEkQhZJ+6vQWwU0WHSqX6gOS4twSmuJCdCdsh5lWdaC4S687aVP20lF1xToI1jEGsH6u1oKrFcxPPrhUBfaSkBvpoIAHUPtp67bNjlTbglvmVgRpQViAYw07TOy1K+G2agAiZa9ltxoBgXsr0A0WV/peiR4pyAEEHkBWbDatFhk3mkGOLcYkhBiStSz7ch+OlpH0LDd05swyhHlv+RAk/Bx1wpd8WFqDgtGb+MJaAKk6BsqIlMo8Dp0x+bSMaiLJFrTY4gPofWnNYLJw+YKp+pxw4jhwnWSmgf29Z9HKy/xh39Fg2HmXMxmx9YhVIgHD+lWlpS8KJ1WfOOrYHyboLGJSJpaQGltaAigUlvJIfAFOldQI5pegYJNY30FRfOEnPaMsTz22eEyBpaW8wTJQHs8mX0O9Xsth46cuhclhVQFV+C/3ycSSUBOj2EIknSRSfpV+MnZT1acD7BJTpoV+yTCW7rQUssmhns76nP/1E/EX+NPCoJB9gUWOXa+nRxoYDHLNhkifhiwJO+doqoyQK2Uw9/PvIH/3RHzUlyPRdtqfC6PY82Hna5KxB6I3tbyu55icB4oDrWWly99viN6lSBPwB2EqJPvt8Rv7S3ALgNt9VEqmaiBJ+8xmYqWWEuHUK0ePVuNlELQpKcfCy+W8tavnUJmJdsZ31Zf+R5EAcYp+1zuKHYveKjcXOWkktIfZH9k9Mz//lE0cJf/RcfuKJJ26DwEs8Y95zmxoYiwUmA3Wb7/2inprxA57KIAICBVQMBlBBzzSZff0+BRVYpX4vQKuzkRwRDpPPAmqwVwUrgBmBHieFkXVYlY1aXxhOHzARC0zZj58dKolY20v5i7/4iwaIogdgqT6KmKYCLKAxh57Bl9mX0eOg6tHDATBWxhNLLnrZrW18+Tzb1gDWGXaV4Aa7Ss9h802iwgFL+vUqvcIe4LyZnxImdY+wrWkBk864iXFjLNiz9MaS4AEgCR71fLYe6YdDDCjRqgTDD+PMGhZwZ1+0rc2A/T4vAIB9kRBhU4EVZRkgthm7LSkquSdJECLI1JvQepAksPaV5QFPAAfm/yUACGwxRg3dGXOc3GzdC5qJPZCdllSxXwgk7SsBuu53hm13ZCqY9OUEgNv3+ZqSDuyd8m3VQW3tK7YyYoxoIOA3f/M3N7YacAMYtH7NZYfAtREPzFvA18svv9wwzSTtrQGAE/YZX2BI30gtf+jbPembnZTMESPwPawtz7oWkRAB+GHwSoaYJypS2H7xTpBE1vK8a3oObGJxG7AP65jPhPFs3rAn7M45+sQ7JApTmM9qD2frsIoBlGwdmwcInEqsLW3nAJxAT5VIWglI0CMfHGtbYH6ZZ6qbfA5RQeKD3bX+ALN+xzd1nyWrLoGmYnXxvipSlRhIBPxoSUWxat9D5qZ6B3md7WogAdQB726s0gbcMr8yQgMyUMp7AH2CBiKQctonFimHKwQI42eHjBQDZ+PlsIYwuvpPRQNy9+NkCUY4vYRBBp5yDM9hiEeo646vMjQy8H//939/++cytUDnYNgao+yjMjJBL8GM48xyAlJSA3NpgHMmU49pTsw/zp8/sfYABxIAgrND2fS5nm+u6yrLM+6wRe4jwNPOgMNPON2YZcp5Q6xd+55DA+xzkkEpqYG1aIDtVPkh0eHftQjw2BWJAIFaLeyURCcwhrC1kgiSp4DYS5Gvfe1rTdUNACVEAB72udaDihI2nY+Ssl4NSHoBuwFlURILEJCU30OfeQlAQBbgNAQobP0COg4JIFkykL8aPb/5+OyhvaI+4LTrGwYEeZ7S33cWguepCRZdrznX56xtDGVEDokRAhT6/u///ga82lLcMZeOjl2X3oCJDhcibE2wnp2XcS5BzMHktBZCAH+IOvbpKcUeIk6VhIl1AwS95557GjtbJijb7svOqrwU77bZFolOIOWhNgBTjuXUtTBmtf+JFgiqVCQV7A9TgtKnniN/vx8NjMUCk4G6n7mw65EASfVCVZZgo2ccNIlnkDhfQAYgDIeJUfm2b/u2JitXB10cE+U7SuR8loHQo0bWsBYZOtfEesVu5cAANxinLZTwG48gFvCkbwyn1vMz7kqj6rJ8BljpifFy9AFXMpQymdljcdfLa9HBWa+cX9l5oKl1hi0NPFCeJfCSxdevbG+tJByQYf8SKAmkCRAJ6wRLxu+URmJTKOUVSClltv8BljKoWnTq5s1bNMBGP/roo01Cjv1RCogdI1GpAkQwdsye2A/YZmxLpc5bsbVTTQb+DZuNPWcvAPRoa0IP2hwIeoFL/BNMVKx9vdmHgkxTPfeWrsOfZF8k8OyrEsV8yXPZF3u7e/OxJAW3vo9je2IB8jGtbUQGyT02rQvLk+3nzwNy7BkShMqLze22eU1/3h//nO748faYtkOEzEu69h1raO5DuthsFWzmGACLnUbO6Lo+sXXFM74LGDoFgm1p3U3xrPVcC/3aE80dwCW/0bqyvpYQzyFBbo56Bu+xfM4pnqnUgzkiAS/ulSDoU6kBgHVOhqpDa9cftleffWQj1Zzn2heP6UVM6hBnsQECgvXuudcA7k7xPvMapzXAL7S3+luiAD7BrxyKTySAelrnd31irNIG3DK/MkID0a8UwMcwEgZCoKW0X4bW38BRfY0IBgejomcqZ44wCspjgDUhrgO0kYWTOSwNhUAFM9X3XNf1gItESUgwxUYMbdav0gfmXln+FKf3/vAP/3Bj4MvxRhkMJ1N5GYdTWSX90WNXB3DWQeXFd6UBjiZWuLIjfY4EOvobtWXDsQk4pHsNKOxnwCftQjj/QFPJHo5ClO5av5h7ehZjm2H7rcG53dWkzMEM1oAeb9HLtL4IINC8BY4oV057crea2WzJEYyikLDZ5afrnwnOtexpY/UOfpk7/WKUvdJVtE8BdgEfsH6HBmM7VdfJYUm6K1Vmp6xtAKAYSxWT9V72+W67GEBEeT87FlUn/i3x4mCgGzdu3DGvsUn56uyl+/Eh+Pt8ee2+lmSWeg49Jc0hz2Y8dGEsdJHr8+R0OvoBzG2tDsw1oHnot+tcG3f37t+e+zn5hhLrseb4h+ZZ+IZdk44SbwhEQN6o7qxH6SwNLbSW9LuB4iomSya5MYpRtbN6/PHHu7+c/OQmNQC3gVkgxbHVmOZaPEkc2PeHJEvGYoHJQN3kVLqch+YcyYRxlpRnOOnTotF43sYuA43twnAANaMPCrBVTxcbrN4pNn89j5TFYp+6ZpT/O0jphRdeaA6fitPo3U+zb4EK8DBORuUcanSPkSo7d87SkL5vHdNU/zRZO32klDtgBSl5oEd/lAgTGR3jx3BTThagDEaBvnTYGXWD9r7Pk59PDdQakPVWsusACeXpGFUyzfr6We8AfCWP+oFKaGChOl13jwIc5iBg3XAOgSKYUcoY7UVK97UywUAVJGKRA1uyN9oeZ8P2xgTUMCeJOSnxyak1byVJ2FJMrFjrWJUpd2rgfe9737WPfvSjDaNUgkTCVxLUXlgmlTDUovcxgEmFiaRoHiB1fEaxJ5LifMeyHROfkr9I5/Sd0k0DQBdzD1ioj2L4w9hx9Ix9euzQR34nEBtrjm2XMNR70eFobBtQVOVZHK6FQOF+qlIcdhNJGD4DP9Ua0bJqCUYvEMuzaVlgj4uDtFSZ0IXAf8uHhHWbEfN9auxcm+/J7ryy53QQMYC3XhOIPnxcYPpQMdddH6nH9SPhg3xgnlkbEpSnxBkDSAlsjD/iQb2C+dr8b/64tStGdGizg5qWEvs1go+4H3j88MMPN6X8CARadCAJpR+81NuZ/75iPzEQ1jE/J8B8Pa2tqbA/fZ8kAdS+Grv6/FilDbhlfmWgBmRzsUP1jwGQMjycXRumMlcLSiAGFK37oAgyPvaxjzUnITI2SndksV566aXmDwAVQOh7MhocHKVEBDCr52p9Or3fcQ41tXbf6Js6cHizfk2Apa+WQPbP//zPGwPDaDo4CjDD0EdvVMANdi1QuGa0YcNgbQjukjU06yu7uItLXGCeCjgkNwQYjKG5qHWE+apkQ3CCaS5RYv3tUSQwjM9+h3mDyeeUVfsSB1apih5xEj5YA34nUFTquETAuMd3kGMargG2lf2U9GR32U6JR3PXGv70pz/dVIlI4GFqsSdDWAPDn3D938Q856vwb9htgS1QSqDIRrPZ9BvlyPTLBwFAYQECpE4x/tavhfmekD8JaHA6db1nSuT9zd/8TTMvl2RbzTf66a8cvqET4uu1rKoESw4Yeqj/KdD02WefbVr0PPbYYw2AI4kvWLaHeE+ID8r7+bP2F8mY97znPXeV4v/jP/5jU957rhPXa20qhdbD1Fjq1mFYuogXCBp56OOweWg/lEii37pVQ8w14Hm0Qhp2l/Hf8pwOP7Mm6ufkz9qnxzwn26DVRduaO7Y+6pGxz+Ykdqc42t/YnEDZODjYfmj9OUyq7Gs8Xkvdr4B1Kj6nM31QJSkAqIBkcQEygWSLvusp+9SAM1qscfhEXSGi8gZDmt0+1MLlkFbGYoHJQN3nfNvNqDhYGJRAPQ5vsDDCwfV/wGBZ8lYOnnPmNM/oDeN39WEM5f+jsf9f/uVfNmAFg9IGTgBQMcSwwdYo+qNFH5wu4wVeyYy2ndooy6OROEOazbrX+La3+UzWrtIbzGZN9rErAaqnxPf2WLYuSJRdtV/JuEtatO17sQfam4ArwNQ+Pa9O6Td/nxoYooGuIL5kpwoO5f7RXmfI/fb2HdUtAUIdOzDq2LglSuNwyL3pZ4rxsC8SdKpsahFMSdQL0hKE7qZtYCaGJcZaLcANvrvzBSTt28RhThhkx+wcogLbKOkvUAZCSRrWwnfHknNiPRbruUX7HQkMfnItEkeejX+dB7MOezPmWhw2dmiuSTTpi7ikqAKQ5G9jG9vjJcDHPCcWpgQapmgtEmxiXqShUwdWSVRgdR6zNdZlaiRbNAAAIABJREFUHAa5lN9NnxGXls9aYgBY7HEQ7ZLvPu89jwYwq/lGbWfV8CUl3Kw3lcV9JAHUPtp67bNjlTbglvmVgRp48sknmxICQKq+nDLSBFuLsZB10ERamW+dAWesGBMOFQeOU2yjxYjBQJWx0oQaKOi6ssZxgqPMm41bli/K92MInCGl8crilYGtURg9BkYJFcdNYGUT0s6ALoBVxhGAsfJLoGubUY7sue90ORBgjfrIZ1qfBsw969s6AhjqfQpQBQoylOYkwcLCKuBAk5iz6xvRuCcSbGIC2K8ctoNxRg/GDnTC/pZ9x3BQtqK0kYNrP0vG1Djd57fHawCzCoBAJAEEZ4TNUM6qIoQ4LR6rpI1FNv4ptnuFsNnYevbBWOdG5EAeLKAQjH3sPoK1rmxYRQ7mPoAwpV0DDuaSKG4LxKKFCl8zK226zSDgJzY5v7JOoEQFmHJiBIY20XMWI13bGmSEKL8XEGMcAbxVZABQg5mNLPH+97//rvZZGGn88qUqwxAutMjCkKwTvMqNtScw3jinoZuG81OhAXPN/tZWcRNzTbs1VXdLithSD9S254xWaWOeU6yrclA8Vq85LFJ7XBcWtlYlX/jCFxrf0rojWkchM0jeE3ExPxxgu5Tfbb2rPvO89m0+sJgUBhDP6JnLs02WfP957+k1oHIENuNAs1rYH3NU1V7f/tdjscBkoE7/rvOKE2qAwZFVwMwCeJYl/BwVmylDwgFD4y+FEfAHo4BhwMxgeL7yla80wV2U8LuHjLVrMz4E+KpEFqChB2EpSnWUe60dUPzBH/zBa5i0HFGHJEQJPwq8Eg296TRkJ1H6UWdxZB0Br3pPtWXWJ3zVeakL1IA1bU1y1AQZgADzU8kvkICB8299AbGDlPgp49qjcIz1d+IIKFnBUhCYKus1fmPnSHAmBWp6P0sq/diP/dge1ZFj2pgG2FkldgItcxPArye5JCe7Kgjzfwk9doU96cpa3ZgqBj+u5In9DssOo0byCPiEzacPWByiGSX8biTJqyxU+Zr9I+WwBqLcj70pS30lkwNc1SoqpZsGJEJUL7HVWu6E2AMw5cxh+8KhBB9GKT9VwhBIKkDGjAM28ruVK0cPRn5BtM/yHYnXUgCY/Pq20uZuoxn3qQCvagA3DocEqnm2PKRsmJ7FMJJv/B3tjPrOtWF37f+tY8+JBKAFndh1aNI7WlXULFbzTFLNmgTenrq+dheY4wBU8SwGtZgWiUbci3DEFgEnEYX4p0tInIMihkds8rxRwh8t/iROrK2UfWogWl/ULRXNDb2vkena2vKc0kYCqKc01PL7sUobcMv8yggNABGUzAMAvTuAp9IfGzoQUIAGKNULLHq3AAQxMuIQBreXyRKg6IWqjAZIIRPIcCiBdfp1WaKOtamnEceQEeH4AC4YFQwbAOyaxXiMX2DF2QRWyeBxWhlb44hsrYBWz1d0eJ/1c0GagEPvG3oC1qSkBqbUgJKsj3/84w173PoGupinGGuMI8BAj1RtJDBTremlS7SmHH95rW984xuNLozTGsQKwIpysIm9SJ9D7Cl7myDfHibgPNRfbq7nzOumBto0IAFiTgYLNUr/zGfrmM3RA1DZftqT9jkUNhvQLOFrLxS86nmH1UaXTp5WRSIRjCkJCLQ/Cp7zoMfja5Pu9JYWcLE3EnZ6otpf/Q1QYG9SumnAmgbeY4SxUw6eQT7gW2ILIjaET37oinxyTDjAqUMl7Q+Shhhl/HzAKkAnhN/uc29605saIM0+wy/gm2Op8XmXEgAZwoKxWKPmGxtOP0DichxLPeNW71vONYQXJep959o5xh5ApmRWPKd5ANy3JsYypF0f8cW14voSbK6PjVcDzIfGLOa75557mvkqWaHiCeiq4lJbDvG0qgc6Vg2xZOsJYC9fV3UFINVY7dVIFeJSdjOrBs4xu5e5hz0ekYufwy8yDzBSkdkkDBxeOoR5PhYLTAbqMvMh79pTA0rtZaXjABnl9kAE2SiBhQ3VJg/0I4wAEIKBKVkuL7/8csPqEnyE+JwNuq30jRMnC86gEIENR5HzvQX2jA0Go42BCQH+Ampqg8jIA4xl+YLpwpnllCZ42nPC5sc7awDwIgPOmHEOJUMkO2IOupDyYGCCwGTPYn+jC86x8WPbCkY5sQRYqmWJYEwfv74lK3vWXY5teQ2EM1v3JFfGr4oEixpgkvbk8LuStGSz2eEQ/dYFyfRbi9Oetf9o61++/IxY3xMAT7EVsVqin7TWTliN2ZO3//uiw0N26lDv0/IuWkf93M/9XAMK/ed//mfzK/uFkn7s05Jt6Hd8BIC3deJdEmw5lRkAyiX9coE+/0U8Yr3GWLQoqsfRX9P5jUNzjX7XlFif+zld30FVfENxG5FIo4cuay5mkrYXWH3ISHGdcpYBUR3mtga/W9sqzNOwgUgW9mzAWraW2//ewE4gf8EyVIwQyU74xBDw1PcTQB0wb8YqbcAt8ysjNSCbpyzQRm/xCMKAqsDMEEZFyTpwlPMiU8UAYJBGTyI/f+qppxoWAmYlY6MXG2bMoYNpulx35PBm+7pNRx9Yh0Ap/RBsYbYBkdtKPAA4nFNlJvQhcAO4Yr6lpAbm0oCgCINEwkISRCAiCMHeMG8FRQBDDhTmyd6FYyvDKmHDgZU8ogcMeckbiSGseQE/5zYD/73PiO2Mz/rFFvn0pz/dBGXWbvQX18sT+1TfXvY5pV0D9j+JFLYYOx8jT+CgLFqpsAQxsAnrBuOIbzQ0iLjUd8AXlBhXobPUoVEqMPis/C3iHdrPt+Zv0aVxAKX559pusVF97BL2ptJmdo7Qgf6nrmOue0cAUszDOFBW8tW/JRbXdLCk5Kdn42N7tjZQV0sOTFqAkM8hcPC16zMXLnV9Grf1aV5p80S0M7E+2BOMcVWBKgqXBM2PvR9roetzmg96X+sJ7N+IPdaD9hiEPxgsUzGpiiTrwbwfowfMUzGxhARbw+dUiQiQZav53GsAKM0Bdg6RAqFAZYb/r/Uckktet3OOnU8JpxD/6P8+Zu2PxQJXx0DVPNyfOFFNVglQhr1ABNrKPAFCnA/GVXDZJ/s0VmlzTo689t0aEEhgVwgqIkvGgNpEzRWn+ZoXHDAgDOcN0MAIfP3rX28cE46YbLX5opwmxAI0j8wvhqR2wrpc91SvmaXeKf0wwsqblP4x5oIFzqhsPTaun4dw4hlvP1OKZeyAa38zpILflNTA1BowvzCCsKUxTc1bZep621iPwb40dwUmWk287W1vm/oxVnc9TjLQ2Drl1Nq/4lRUgTbWDidCkKHUUTlWSmpgSQ0I/Phi/j4kHF6l0wLjbD9xt5b4Ocqi2V7MSMCRNkV8mRA6jEM92Gv7gORyBpNLzv5+9xbjOPwC+AEU9D75pvZ9JYkAki2I1jMquAA8xsFOKyXmV3e1S8r0gSFtwtY568CeAmxEiBAPrAkw7fuevGdrHGDF1+bXIH6YCw4AkjC5dPGulWiLr+jInmdPtD5UH9ob9yJiL4lxczxY8aqLxLAIPkDMOIsC6cc8MYckLvRCpZ8hIpEJPAVCA3prscaw/ICrfU84H/I8h76jhY29BCHIHyIByyd2VglCUEpqoK8GxmKBqwNQsRZsmJhyRLD8q7/6q7d73z399NPXfuVXfqUx2E4zlLGxuDTo7pq5G6u0vi8pPz9cA4yJDRyAoET/wQcfbMB1JzIqB+R0YJLKWutlWjez964/+clPNgdMAVs1nWaUXc+G7LtO87t582azEcv4lQJ8PHVdhm+NwvAam2QDAxuHSDkl0immjLJxE+Cqg2oAz8DmAFaBV3EKIyO1Zad1je8on+laE2yZY5IYUaYhYJIBF0gq2zDvgP76/FmzeuFIouxZnnzyyaaEUbCI0affM/a4fsxKfIElH/rQh5qEiFKud7/73Y0jnJIaWEoDAH/JkLA3Kj38G7NKCR5wRaku1qTPYpOk3KkBrDRJY3ZYBQiwANjy2GOPNesdwCrg1gtMv1k/Z+P5zXyjtNHrn1EAs7BxTmZXjkoQBPirGDZdDoJZw0j504Afh88EcxYYzM/sYpeAYpIuvqMVxQsvvNAApeY9UgNGu8NtHFAXh4mwhVutRAF68bXFuPbBOFSKHbdHinnY9zHMqjXMizHPQAfPPfdcw3y0PiSICP8QyQOw6HCyvRzIheiC/KOFmv2f3ychgbhiP7h+/XrDTr/vvvsaG0rsISoSxLgOUOrbA1QCUwWnOFg/UbEz39JBXf5GmLG2nfWB9atP8RLC3gHL/Q0DgAcBdP1b+bY9Bjt1SYB3Cb3kPcdrYCwWuDoAtU0lNlGLxgnhAB4b5wc+8IHbDodsHWBVGXYXGau0LvfIz0yjAQ6FjCw2mgMS/FuQADQHnjIAgEDZeoAKY1uLIE3A8dBDDzUN5oEwAFgsNlk8c0pWu+0UWyezHruuZ+HorlGsGwGYgFYpoEbhWH4ymPTGMXViJMH4w+DlqNblGsAqARrdSlqkpAam1AAHUcm6U7k5zZwhh8ZJXAiqsK/s8fZ/vUHt9bLmYQOmfJY1XYvDzEnmTAswAciSPBj3AkjtDbB22EMBGadXT6iU1MASGsBEYzsEOuyz5Af7wu5IegfgIUADjFjfWC9Zyn/n29LXHfsIswhggIEqWaxvrIQo0erE7//1X/+1CRzZbQlTvk4eJLXE7O93zwACJb1qFjZwSLL/J37iJxpG55pF9QOb3XZYFNvFXp2yS5KD9gS+pb6OeoUCkJElAMvYqfYI+wsBoPFdVWBsUQBXEiTIGnUSGMsc0xCgtRUG8hzvAKiO7AJIrvu8A+vtkfUp9HM8xzmu6Z1rTWCsfFvrSaLMHLf/AzL5f5JoKjdK4Tfz/SQj+/YpdaCwmI+NttfoW44kw6+O1ht+5rwMhDVxoAqxcws/wcFbKo0ByPZMACobiDhlv/Dc9JaSGuijgbFY4KoBVFkobAVNjjEBZVgElRYOoxxiccl8Yqu2SSgpfmfRyWgEy7WPwvOz59WAzJsensdE5kxwJsiQyatF7zAMNyD8KYmyuPgcFtix6wpYALhrK+NneCNre2zMMV7ZRYdW1Azc+C7ACuOtTb+ndJq/Tw0c0wCwFNAvm6yiQDUBUPWYsAmcuj1LFwaKEiwtbjjCPn8JrQ32/M63PDZMEEzTPsKv06c85XUNAIyw8ekyguuu+tHeyn6Qsm4NxEFDKoHahK8qyS1ptmaR7ERuQCJo69vK78aIPmaX+JUOaj0lfFqVUcATQKvE4hYFeUMMCjCrhT9u/TskUn/LSxXzwXu+ceNGqwrEhPZHsdnW5VOf+tTJAwABl3pft/mEki3wDEzRPgJDKQ8XPvVdlWB89HPLsfYe8SyStBjvKamBPhrYJYCKyq48SfmwDB0jbHPAolOGrIQTazBEJpJBktVrkwRQ+0ypdX1WRk4m2iYqQ42BGmUcMtJYx94/ViVwHTOrFuCgTBq2FqBGkMGJkemVITeXlAthesh8lyKrdey6yi08Xxew45yaxQIC6sokfuQjH2nWjhIowRVdYfspJYrT7Dgr9ITtV5eCyHLSE2ZLBrvnfIuXcS9lvvZ5WXBAvaDMzwSRSholKAhnGpNcJl7Jknm9Z9FmBIsHuwwTRzJHIIrtE61MlO9i1jtoClNBMjElNbCEBjBZgjXFJv/2b/92Y1+UWQp09fIlWCQYRgDX2pdb4rnXdk/73nd913c1p5BjIfFLMBH1a2fHCT+I/0Lsnfwg+yGGatdKrLWN+5KeJ1iIAFR9MEtRyu1dinnWXqYO1FGlZT5iSJcCDMQaw5A+Zpf8DsuMHvil/FQShwVF6XAk+/X61fZH5cUWBfjr/fO16xJ0jHwtDLTvGNrXcos6qZ+ZbQCI8fP4QW3rA2jWN2G3Rt2IISVLrHfrSMwpHsO0Jnw+cau9v64O5B/aK5zt8QM/8AO9hqetnbkIX+Fb/9M//VOzVrWMijXIz/R8Pvd3f/d3vc6a6fUwRz4MINa6yl6pzz8GqnVCPzAirUPE79oNpKQG+mhglwAqgEwPHOUhyq1RyGVs/R+AymjrixnC6HLeP/e5z3XS3VildbpJfmgSDQA0AZyy1N6vzTJK+L13cwNz0omXNnrBQ2lk9JEBLnBG9FdiBHweSB89UM0HxuSBBx5onJdSOG/HriuwcZ01CjDZusHYVvYSPVCBUhIUSmCwBwg9KQXR4oAuQqKXlUzlkD47a9RLPtO6NCCYsLatZ2Xp/mCicijf8pa3NHNUCZ95iZmgJYVSfmVPexal+kASTBWgk2BBeRU9Yac4HA+47G+gclsQu2f95NjWpwF2FoNcCaogBzBi3bLLQAFJPb9XyQDwt9ZT7tQAIgB7yx8BnrLJ2hVh6uuJR5RT8on4LgJKTF7f0RO1BhxSv+vTQBx+Ajip2654/07b5m9Fv8P1jeDVJ+IfKqd2/oSWHWUlVrQpOGWXtPPAuAQmGjdAVfzH7vFfJVv4Aj7nYCpJAuDqEmy4Kd6DWAWw7L2XFV10iY0IHPbu99Lfc4jOJBGQNvg8ytNLiT6hquX2stdJPiDhiEvFtNjV9gitLbS4sO/rlyt5XpJ1gKr0oX1L3/730R4PACvRCSxV1s/nlMzgcyOmfed3fmezD5WHLw95p0O/Qw9aeGHM2g8QCqKE3xzQS1pcwE6mpAb6aGAsFrjqEv5QhCAaC1DwOKSEv1boWKX1eUH52fEawLB64oknGlYG4ARzUmmTTVNfThk0P2N4gIOycZiXggk9PzkmwAiOCSYMhiXQwe+AjJgxQFcBSN2Pqst119rDjcEDlBLM0VdeeaVhtTC6DKTgtWy8zTj5DIYqo4nFSid0LttLrympgak1wHlTjg9wMU/14zUPMRACkLGG9SmWAAEg6sm7d9HfkNOIhUYPEiGYCPY1zANZeQE4nfi9hMjamPB7f0c5vjs1YN3y17RfAqpIzJWiFJFdMaclTfZQgjn1HFDxwZehQ+vbvhgHqdCdyhsBpX1AeTRfBijNR9LSI2UbGlAVxfeUhOdvEcl9flsNrq15RCpG+OBILQAvoBafkX/ZxS6Z05IBDoUBGrJthI/K//Y38FQVBp9dayqg0trB5WPvDEhuLN67/pZ8IPZdhQ0AOSu9rjVxCnDQHBL7Eb4hQB14vifADFEM09QaMt+tH0xQh2qbH+wB5jXSgOS5VhYSFPTBRtQgc5f9wrpDqkFg8P0ogQ+7LcHpM8g3WkQtSRSKA1XFppKHEikSswhOKiPzMMoubzw/U2tgLBY4GkC18SvX0vR4LkaQzRLQoyQMG1HWIXqjYKtqMp2HSO17cWBHypQp+SOATqCowyni1FmBB4cUoMAJ83MbrvkT/ZkYCw2nsUpD9BtThhSNs2tNdrnuWrVPFzL5nPUQ+gBA1esVSIXJwpGNVgbWFkdFo+6U1MBcGlCKE3147enhLEuScOCIuWguK1u/FMHEESzqPxXCobaGJX0Eq8qaJJTW1of5Ut5RjvNODVjHGNMqhdpEAIhdlODp4ZkDYObLCJIBqQJGZZQC5lr0v0MuaOupmHNz3RqQoOZvYSUSfi1/KwCjdT/960+nKkzyBGONsEvAVGPpYpfEkVjrDg6KtlKugzCDdQfUAa5KorJ99eFLW9FTPCdfWywCRFVZSSSX7ImXXLpfv0cJBbFLuT6AfnsEmIGlEmD2fCJBYO6L1awniRUkF4l1IqZFkLHOhibO+d0S8c6aEecScTPglAD4YSsINEuLUn4tvvjEREsb7Ha+RGAASz9j3n9bGlgcQI2FLHs2BYCKug7QAphiL+hzYdFgK8jKWsyyEcBUmXdZd4ZbBp6R7SJjldblHvmZaTXA2dDDNNo0MKKYqeZKiMwUh8TBC8R89Llv+ZZvuf0ZgYjrKF/guOjZhtEmAJHVOyaAHeUEDFuXA5qm1cDxq3E6Zfw5HAwh44K95qA0/WMx/DghMpxOM1f6W/c6jTtw7gRwjLI11dU4C5jpnxPtO9an7Gjf0pJz6i3vtS4NmMfasVijHMpgWwFPOU7+b12bw0qOugRn6xph/6exHu177BxHEUMBA00Gni4uQQf9tXb3N/gTEmcYLOaZvRCrfgq/ZYrn28s1whZ96UtfaioY+Gb8Q6KnI6CPXdFzDSiCVc1OKFdPuVMDKmrYc2WV+kILrvke5i2dKWXGwOG7SBrTM52b6/TJBwA25B6x3pllfw+mdh9/a40j4h9b/8ZhzhmbsmS+qaQ83xkoI4kiuW+u8jVVcfmueC/IDeb4vffe2/iRkobm8dr87rHvIHxtdh0o3NXXHnvfc38fICf5Y38SgxmrJAF7cCruWtv64Ieao/xUczzsV9shakP0HO0LzXsxmvYtesKK3/zf/awhce2Q+eJdiBORZeJdYMHzKzE5JTFUa3pHeouKH/mbSwt9O8PjxRdfbJjpyFHAX/7ElACqvVgcC7C2lyHtsbPpJy49A6a//1gscDQD1ZBkDjHU9G0ZK9g2Mu/AMA6gjQK4FX2CbKYOAdLX0uJnZPWTkZnsKmOV1vU++blpNKC8wUbOeHC2COOhtA2grrm0zU4WjSPG2WIkOGgybMrf9JhhgGTrbMSMhcBEmYJADtCK4XHKmE8zommvAtgFCAMwGUK6MSZAgdPMsQOsJeuFIfz3f//3xnnRR+YQiNr3CQV23hPglmETzNG/Z9MbKw4X6Xvd/PxlaUBZKkal/d9atH6jrC8y4+YSJ1PZH7bbnsEB9k4PWKV99MCZ0x/MXsZ5trdxtFOOa4CtkESyL/EVBPLK5LA5tlQuu/b3XNoizyrBbX0CR4hECPvjwDh9UQGEABZy//33ryJQW5OO+TFacyihfMMb3tDYcmJv5OvwvQXUyj/ZX8lLDDZ2nj8gEJZEjf6zaxpbPsu+NcB2AWSANcAHdts+DBCyJ9grzFXMS70eJQn4rlFxgnWHfe2wJfNdMkCv1CGg0b41ve7R2cPsTd67vUjM5R2LT/gzqhW0Z9iCAIAl9s1Tc5f9EucYIzZkeTbL2PFYP8r2JR/s/f6I4cRa4izngfRtY+E59cun+/JduKYkPeDQWuVvWqPWGlY8wHjJGE58j80O3IwKNc8Py+FLAFWnEH71rVu30k+cQpkbuMZYLHASAFUZ9bPPPtuUVsgo1Y2dlUyvScYqbU1j2fuzyABxsGziNncgvaAAcKLXmp/5P6DQxv/jP/7jtwEV35XRFrA5sVOQ4VALBpAhwV4FNDLuv/ALv9AcXIPVujWRcGDgBKBlGwKgs2yitSmDFodIYfNKVNClE3/HimygFgscCiUnkQ1k6PTGwvS1B0yZJRz7zPn9dWrAYRHmswQZJ1WPYs41JxsDiwC9gIoSJ6oTJNj2Kpxz+5OgA+s2gkc60HYEqIqJm0Hl8RkAPJUwAziFfyJAMdeU0GIylJUKe51Pc48rbJFgks2xdtkma1U/O6Cpz7DbAupv//Zvb9gkghb2QTVIzuXX35KThR0gwl6rytK+xLrnZzt1WbIYqBSAKb2Xga7+lK6hBNP7SEkNnEsDcYiUw2/KFlDR/5O/CNjnv0v8a0OjhJ3t5wdIvmBZS6ICkvjtl346/bne3ZT3wXQUd9XvToKHXUaC2sKBYMg7zz33XAPk6wcadsr8BP4D+x38N5X9kuAV19rfMbZDgHwqcCXOVB/0kQCAxcK+HyJGvH79etMW79d+7dcaYJaPrYWGOFurAPZ7KXF/oK+qFr1xHSQlvhe3e15xrgOwxgq9IigAp9v8RAc21uekjL1nfn85DYzFAicBULH7DonNRDZjTTJWaWsay96fxYYGONAHRhAgAOZw6YujVJ/DJbgQNNhM6zJAjDandmrIzQgBERkG2Ta9e7EwgY4cNeVBa5urp94vEIDxw6oq2xn4nhIMwEvoh9E07ugLqxyafsYKQJZTrDdx3ZuKkyTgw0KVMUxJDRzSAMA9SvwwV5xIC3jHSH3hhRcapmCUYceBFUoF7Qd7FX2fJIA4tzXbQFCptEuiJFmoh2cA1pP5g8kHcCoFI9UprgL8IQcx7HXeDRlX2CK6xDilbwk6gbN1/Cd/8idNgCnQERCxv8ASYg1LtgFQsZJSXtUAPSlzVnXFP5EIVsYo0JU4EmD7I9hWVeIAmlpU5gi6s0dqzqpzagCohKgAjCgF4IFRKrHOrjlB3D7AFzdX+etAG3s2YETyBWvO51WOsXcp29GAA5D4Lm3vTTyiAsE7ngp4nEszwDtxJ0Z03UpC3KgKUKwl5ppC7OuSvmxiLc4G8DzWTx/27qF3ARSGi4ihkRUkN7RKFLcBK/nj/Ch9988t/3Bl225cgb3vvWLg3nN18/+mB6oerVfVLP/3ytd4SAvHq+TgZ6+A1THCRqpmPuQnIgmxsQ5iTtmHBsZigZMAqFtT5VilbW28W35eQcIzzzxzdAiyl5hqgos2YQiAhtiRp0QQuCVRQoKFh3lbtrEARnXpFzXFeIGnAmCOcJvcvHmzASeSAbOlmXX+Z1WeeiwZd+iJppjD5x9ttzvG3heHJpbfUq6LwaFPnHYGKe0aYO+x8NiHtj6bfqdcTYIpZbgGSlsk4NJn+5gASYLVgsWjHU9b8DL8ibb/TaWaccjModFIMtsLJJixuWoBTGlP5HyBlNTAuTQAKOV3W+chbLWeipKikn+S7hIqkivHhA+p/dYxP/Nc48r79NOAJJp9qc1HiQobcd5U7cT6PV33T7NpWg9IXtWCDYkxjaij7eAU8uu//uuNP1wTY1wbeUiCArjZB9T0LpCFsL1LiR7ax55bJclZYzix+FUF6f+5iiv/+1X/ZMc+/++rP1+9+vP/rv78z6s//+vqz71Xfxw7+z+ukoxXp3DpbzNI/ZHEtSdpj1MLP1HFl4Rwyj40MBYLnBRABdpY2GjfJtpaZazS1jquPT4XJ0xWDEioiTwGqv6IMpea0stqCnwxi2QGZahLEXwou1ASZPPHjmFEfB/zSFkwBirDh7If/Zck+1bIAAAgAElEQVS2oksZfrrBVAGkhPg5UACbRwkVI8txdWIhp1ZZIJaQcoWxIisrG9qWmQ32FyfZfVNSA4c0YD5iMGMqY59goGKjYJdjqzlYSpkUwAADFdtK4/44lXSPmrX/2cOczlr3ZwaKWHd1ieQe9TBmTOyFCgZ7Ht+kFAE9Hfu5JFzKcA2ELXrzm9/c9Opkq81bVSIYqFiS2C3KDtkD7BbVIERfcn0QsdWcKp/yqgYE4xhaAmVBnXZZQGZBPFsOeBLYCf6AFG2nJSuf9T7W1kor3/G+NcC35lPXiamPfOQjTQ9H1UmAMxVm9gGMO1UV/h0+gFPH49Dg6IVeM1r3rcXtj04VjRYj/JRa+DASPNoQrb3Fl9Yz+pFqfVbjG1Fpx75NddgQgBQr1zVrUfUnhsVArWPeYzMGKKslXv0uVDDBRawtLQMQctyXjWZzMF7/+Z//+XzVIVfEoKuHaQDUb1yRb958RdJ541XbBHZQTCA2iAOl33GVOHzyio36jiuG7BVF9NpVr49rVw/ae+HEOzzmJ9qXtG9I2YcGxmKBkwCoQBgTWx8rwlG2iXDYADg2xzXJWKWtaSx7fxYlDIwv8BRYIHCIEn6bux6njMlnP/vZBiBFr49SkGhirwE1owdE9Vl/BBTRA9XpkIJn8xVNf2vymc98pukPA2QqGVYM4ec///kGPAAQRA9UpQpYAQyFoHWs6A0EjHb9spcR/evfqLylzekYe9/8/v40YA5Zjy+99NI1LSasS6Cq7L5EijkFMLWGMcqn6uO7Vk3qFYnhDUiR5AkBNksMAa2AVHs+SGvsuzFnON0Y+XpElsFP9AQTxOsxmTJOA2wRe6sft/6mDr7AXFE+DhzxN1vl0AdzG+gnKaJ83wEZ/Mi1l3KO01C/b/NH7HEf+tCHmgSK8n0tcdh25YT69tK1ElntTfgAwKkQ7T+UbdpXAdkpqYFzaQDDlF8ukVLurX72V3/1V83+4BBE+wNWnHnMTwW4md/PP/9883P+I3sPYJV8UW6csh0N6FnpzArl7eUhS/w7e5ly8S0kL6PEW4zjQKMQPpg4VDs0PupUQLDD1wCFfJayMgveYk8XF/dlQ+r3DrSu3wVyAoKNKgWVI9EDFWvYeoPnWINnkau2SlfO7rWr4PXaFVvi2lUGpiFI8Q/oREwZPVCV3Kt8RLh499VecRUUXLtClK9dIb7XrhTU63H5ifYegDTwuPQTAed8mylbNPR6uPzwLBoYiwVOAqDaNCxMIIoMuADYgpP5tjA1kV6TjFXamsZyCc8SDa7jdEBjBqjqDRZ91GQxsTF8BsuUUbPZOq0bU83nBW7YMfreYblocq+UgQOnb41guq3Ec+06FjjJ9huX0qj/z97dxtx2VfUCfz7oJyMmFzReTSSaqBhj1BKJ11BSKIZckksVoV7xUj+01SuFWptS+356+kJfsAmSUlADxkqjlKYvApoWpZdoEwWDyif8dMNLCFESmms0+sHk7t/CcZjPOmvvvdae62XuvedITs45z7Nf1hprzjnG+I//GENQZTgWwFlvKUM6OKv0JWCllxe+8IVNNpURHkNkKDlJMnRaCbgW3+c62u0Fxvi++hmHqQG2w560f61jFQ3BPNHrSZUDp85+t4fZlnbf3UPSDD1wErHtnU32sf0uiQR4kgSataxqT5XLDuhRBlyKQZf/8A//0EzQ1RtbAFeBu/yHm9oiAadqD0GzpIf1yjZjVOpnjImmdJ8dUvkBTKl9sk8/A6WhQCQ227oVxLLZzkF2HSANnKI7/SP9jA8QQ6XoFksfs6j0Etn81Vc/oSQN8AGduZhdzliVJCqSgKdAIHad7cKI06IGsGqYFD8dCIV8471ar6igss6RJmqysKSnvP1anFXIVeyBdSDWct4D2K0BoJRe9vsgCCmwDqCvterexI3AU2Am/2wsicSi9iziVyAqENH+sbckfcVxQ2Tds+BPiyF9F/9aLCeW5neyQf4/m5+5YryugKOTVcb1ZNX7rbk9oC8CFEY7gFNciQTkuthF19+cC+btrKoxV/0+vs5EXTF4h4j7x4Bf5ydK7FQ5HA3kYoGjAKgCWYwCjp6DkLNn87k4ByaGWkmSq7SS7uVYroUjhoWG3UI4UybipRO4TfVl3DhdhMMmU5gOWPF+2SuGkGB1KGdQ2jCkl0xpehe4/p9VM23BKYPHyMgc0oHSeuyfEMw9oMzYwzp8t2xzlFRjH9F/u2y2NN3V6ylLA0BUw2Y4RbFHOYqxrgCpQHlrOGVblXUX412N/fz44483lR0AVcKRxLYfq9/WeFdb7iexC5JK9Iht4LwXFPhTwdPxnltqiwD9kmumwRNgqr0r0BScEaCpoK0ygLufAVBUdQyAFGuLSFJiQr3qVa86ueiii5ryfqx0PoDzU6AMMMVSxTwdUuY53kqon3TsGmC77H8gk/UJMLN2nbmSn9aq3slsumQplpeWK0QM6VzAPgOSSKyW3Bru2J/1pvv3jNlez9x5Ju6STHN27Qt46v74DYghfNNo9ya+sTanaD0DKNUiTSJMNSaQ0H5wpu8ar657FhJvqpkMbLNXie+R6LT/ZpGVb7Y6IE5WU8VOVgH/qa8U20u0iDGJxCDQGnHvVHJwRdxbsaZOVpT1hr06VPiJWofwXcJPRDzSg7n6iUO1Wfbrc7HAUQBUdG9MDgYvBVABqQxgOH2lqDJXaaXcxzFdB8Dz9ttvbwBSIjDQ/0VGui0MhIOuazohEMYhrByIcQLMoOvrs6TEEwiLkcqJY+T17VT+VgpQ40C3r2Qhlee5Zg4pZq0gStYyBkjJ4gtS3a8SSY6L1yjdN7BjKuYe/fvuds/GY1qvY96rZ2jdY2YISADfklUy4Icoei1Zs8qiAIYcRXvw0ksvbRw7jqv1xd5Y95IEhyp0YK9y2lPRB9GAqV2Gbh2qrvrel3PfH2fnsTjE9hEQA+sHE4jPJoC1f4DxYwo2TuxftogdcG6RH1xN05XAM1lY73EBYbUT27XvzFOqaJAJ+8qOB4tX4M62C+r5BgJt/oqAWNBXGXvb9VtfMb4GnLF8aaAZ5hx/E5POmRMDTp1L1rP/K8PVjzqSLcg37L5zSrJwCoBq/Luun9ilAXEJ2+MPf9ZaEMOZ3bCPyR1xGNvWN86RHAD8YTh6D1KPtY193Ra2UnsbPh/sROURXSHEsNu557nPty/5Az6fLfHZkhr6amuroMUd0TIDcQloO4usyE0njz56slLUyQoVPfWVQE0Vzf4mYvPrVkCrFiHnyaoya+XonKwC5Z0v+xj9xJ2VtadvzMUCRwFQZSkEdJh9AFRZRYEdh88FRrPfUnScq7RS7uNYrsOkaQGXoCCyfkATZZn6tZjQ2UcAMwIKZUQ+S6CnFAMjCZNLs2zApLXLwAFrBCSMvxK471g1ql5SGG1MUtlI1wdAwu5maBlVJR0p0CtQFkTJqCnpU/YgW8o4Yv1wZqYCUZfU0yF9NyBfM3kgAyeKA6X0mCPm3JXBPySxNmV7OXaCKusbW0022N8yzljNnG5JO0kEgMwhMjHvuuuupveh7LpS51Qkh+zdKCc7pDVQ72VcDbAbGMxa1gAwVQYIYtk2+4jdGIsFxNawsWyPdWv/RgsOd8UO2bNYqKpH2KcqmzXA5xHg8lfCBwImGbzlb33ysPzo2jn4ohe9qPmdZDA/wZk5Vl+++qyqBvpoAPhguJl1CHyR9LV+VSlF394AUX2e/qf8HOuZb0OcScAev8NcH3PCeZ97qK8ZRwPiJxWq4m6gl0oD9gFOABwUW/FrD1Wiz7o1bC/YG+6dj6v1SlqhZ73bB/x+iQMAK9KPfeP9yD5dxKC+uvP5StTFwog30V7H9ei1z59kQ/xfzOG7JJkN0Jq8hF/vUy0JVrjRKhg/dUuPrkBVxB9gr/idiNMB03qEY8mekhWTfdVI+WTl5JjE2Fc99XVHpoFcLHAUAFVmRe9TbEBg16/8yq80zrqMuGzBbPTvng8/V2k9v6a+bAQNAA4EXRwr6wkoD0yxrkzDw0z1PAWF20Qv1I9//OONMWC8YoiUn8li6W8iqJMZDMHssKYFg52Zrm1fOuLvNdPXysB1ys6HYJzoXwPgZZBDGBxlfx9Z9YIBtsQQKUxGQZX+aRr1VylXA7LBWBqCiLRMRTmUvkCe4dLA/pjasyfdm75YQH79tYEyBhFyLE3vtnYBMPSCkWU9c6IOqcefe3amca61HaELe54j6SwEqgCmgOr0VaVqYJ0G+GLK8uwdAWzI888/39gNibh0QFmOJn2OhPkTTzzRsFcEbPqgqoDARMNMjZJE7BH7uibxNmscOYENxzjH4JM0k0STABVQ871VehmwmfbE4xcBsergnZwVXd+7iwbEhPxsfktaIQIMMrhUBY32E0TbiVe+8pUNo1optOGI/Bq+vmQM4Q8AdA7Nzu+i2317TwCI7enmQFT2B2DH7ztEQcIxCJCflvZZB6KqLpJM5OMGq5QvJxkGVFahEQLwFIfaH876XYXttd98vl60IQYNw23EuPanqhTMU7YDoQGQC1SdVHz+Sk8rh/ZkdaPnvgoADwOQGNQDXJsB5wsikfZ7bCMyxamKvFXcvsrAnKx6852sBqVMetn1w/dXA7lY4CgAKvXJkBj2Y1ELbAV7wChZlNIkV2ml3c8hX48hSPohAvow7hzwAFSGgFFheBkgfVA2SZS1c9wYC0GeYM60b4bKZ8u2AS7abA1MDkCknqsO8aXE9EEGlz7apacxJVC/0whI3Q/WnnYFDI73MdqCaCAsxkr0oVvqnur3rtcAxobp4f9z1ccHcywVToU1L6MtgD4E4WxGaRdWqYAJw9zEUesbCIOxACgAvmDP6bfIQZVMKS1Rl/NM2E6ACRDVOUcv2GeSKK9ZNdbHFsAg4DgKSscaBpdzzfW9ZWoAiKZMFtO0LTGVVzuclBG2y50AS9kcoIegS0kuUdlhui3bCuDzc0kQYKt9rKS3SrcG+NJ0KmnCB4kkMkCcbXf2S/ICIrpA8E3Pvuq8amAqDZgpwCZJdLbFsChJT74qsW6xqA2EBSQ5K/zs7NmzDZjDz+F7SxQfmp2fSv8lfa6zia/2pje96bzLArKr+mN/ckvTS7rnuBbntXsE/LdZtvw28S3SSwyfkjzg8yH7tMVQboxL8e6uIo7GAOZfpyL+Bd7ak5IeQG1JC9/FD8Va5WtOWsq/8lNWNNOTVWD6dfDzP4UNA75rs2f/OwvEsxKyQHiJGDEBsskp0XZglZhZORy7qqu+78A1kIsFjgag7pOec5W2T/e679caQMKm++BsKVHcJEqJ+vRKVO7YFv2b9GbC9sDWWUo4k/pBto2f61HyARjW6kC5VADG26616363vaf+fh4NaC0B/OZ8dZXYcmoE13qDHoJEmf62e9EL+S1veUtTCkgiwx+Mlm3v34ffA82VvfUR/bIAVlWqBro0AMxgt7oSLQIyzG7tl3YdShHfKSBUEthXMM5+/dd//WDZR331sOl1qkv6tFeQEJZYaYspxVo10HOVqoG5NADswJTW47ItWk6pHJEcBZqxXZhlm4Rfq2TXaw/Jzs/1PJb8Hn01Eaq62k0B0lXVAFAPsYzfuaynL9CvS+64447G/gXTuv3/9D2AZoSf2267befHqS2UfsLtcnyxsRh5k6gq6Yo9d76Y9htX8euK5XOyYuCd+g2d6H26Sdi+81pFSswinvze7412ifWDDksDuVjgzgAq9lpf0beiJMlVWkn3cujXYtK2Uh5ZaM5YykAVsMnU+f22UnStAGRBGSoMGIetQxnwioEqmMPA8ZltBmoY+RS0WULvGCj6vyi1aDNQZeNkKFOwjXMqs/n7v//7TcZOEPV7K2OCgar0AXuvtAFvS+i11O+MDLXMvV52qWAm2RPKVg6l/CnAAszKyMBjr9mvgi7saZM3BVMcbvvZewCodHBI/RQxAQQeyqwkRwDlGKhYfAIRZVievbPJ77uGEZS6rut1zasBbV+ij3f7m6PUVjVGLgM1knaCZWzwYITcdNNNDdNGtYM1jGUjGSkYw0BNW+bMq5nyv805z45joGLge17OPs+UbVdJwrdh47uCWwm4f/3Xf23YRFWqBubSAJvNr+5iRfO9sdnsfcLW810x5PneKk4kezBQrXOfxffGaH3ta197UHZ+ruex5PewA5JAksJt0YZKApj9OUQGqvPaPfLn2i2mVBNiW6cVZnx6bZuc621Rqg6Mveaaa3Z+nIhAbEmb4WqugGoUiVRsT4kKcQcGKv+a763KmG8+mawIISvH4DwGqjPgsssuOwH+itOB0drXGISF3OSscHZgOp8S12pGRGWgTvbI9v2Dc7HAnQFUhq7vBFvOe0mSq7SS7uXQr0V5GsdJD0DGSG8kTDXlBpwzQ5Uw9fowQ9H/AQ/eq4dg9EDVc4ax4JwZ2pKyuZQ+6j2j3+DSQUj0NGs30xcgMR4YRPoQhygNARDr8er6owcq1pFgS9kDA16lTA1gB2MVO2uV1aTN4+0FzxWYfkjgGQeJQ22vAY0lR5SwY6sA/5UEKv/Vz5F+OJUcO4mDfZzmum7lGZDHkQaSaCHib/0PsTWcdQGqSoZYC1WqBtZpAFih/UtaKui1kuDACgFVV6ntLhoVmOlLDhBhX5X1SwQA/wQ9Akl/K22MHqh9GJa7XMuhvIe9xzwSXNvvyi31QNXbVn9UjCI9JGPQZtx3sIv13juk9iaH8lwP+T6iNQjCQ9rLkd/tzEFkePWrX92owHnB7jsvkCQkWACmgCLrVmLG2o4eqIdk5w95DcS9Oe+1bQCCpbMqgF/AVWXhYrNDlEjwS+4D+gIzgYnw5STErfMAj8Wn9g7/N/Xro3ewdjc5g2OjxyrAMa0W0SpMbK2NhmRn9EBlX+xBrXfYm0nFwKeVj7tqAnuymhR77qv4EDAAlZVAU2B79EDl0yAWIVicGiQbPVCBp1itVaoGOjSQiwXuDKAa4hNicrJhABoTR8kGB1lWXCmH4L8kyVVaSfdyDNfiQI8eSIADAlD1HAVhhlT0EetU6QLmpX5KQArNvQWYekxqmu0gBtwALPRkxOzE8IhJoH2+Z6rXAIyUPinJwz4DsGCQukZMFUYxHSKhhybjx2nV90b2UgAGgFayoa+knpJVytUA8FCJrfImk5gFDxIG1j5nSuBxSGKNSmBICrhXrDVZbyAi4FCiA4BAH4BTDuihDkkBGmPg0oNEUirYghgNHOJTjuMhLYZ6L6NogG0QZADdBKuCWPuK3QBKsBtj2QE2FTgCnLVHfY/EDxCEAFOcaUBB7Xlq64ntj9gZh9ULcNCD3f/5KABSQSVwnL/tzJRk8RrlmM5Hz9qZeYjsru2aq69YSgMxTRzwwz5Zp/xRvqsqEsBqysiTFAUohV8PaHImWdOAN5UYh2rnl3pGc30vsFAC7fOf/3zjy4lF9K4Ua7ER7A/A7lBFewoJMPfN/hogZR+oJrTuo/+p+0fYgZvQj30D5LSHvN65Lg7NqRRhh8UT9qLYNz4/Khi1CWC//e2ZsBuu95lnnpm+UmQFlK5YQCerUsmTk1XZfipYqNYJkhDmLhGz82kkW1SqnpKVvleMqJOVk/N1ULZK1UCHBnKxwJ0B1PRaLr744obNlk4A93uHJgaVrEpJkqu0ku7lWK4F0+zOO+9sDnbykpe8pGGdyUw74LH02qX3XboR4GHBGMJAtJcQYBiAxpibNCjLBagVXDJ4mJtLDo9ynZwQTqU/gE96YEgYU06JEgyOaVsYSvernyI9AWOUjDzwwANNOWWV8jUAADc0Tbm2wEQwYhia5963CmDuu4z12mdPtl8LGJAYib7G9iiwGLsaGMQRl0zQE83e7MM+n/v+h36f+6EHDmv6TLHfNfH37FPBKpM4cg5WqRrYpgFri83ABhK4sQMGfLIbYzNAgXdsDtCWWNNRhRTlidguaeC47fqP/fdAZ4HiRz/60eYM9Pww+NhxoBPAGnOf/wJ0YtslTwHUqk+qVA3MrQFgDWAfOCPRbxAigJ/NBp6G3XddfFNMdUw49p0AkJxPziks60Ow83M/gzm/b5PP5/k6nz7zmc80iSCxFgDP8z3E3qdtvSOtYE1a23xiCTD7QGKg7fsBUWNIErIP+4w8wQfOAU/jmuxLn+9ZxOfbl2IKJCI+J3tD7Lt77723+f5ZZOUXrFhCJycrstMq83rqKw1ONf/AOiL8h6uvvrq7v6wWCF/60snqJk9WDvUsl16/ZP80kIsFjgKgOgBlSNp9+jClbEwOXUmSq7SS7uVYrkUwpgeKAIEIxGTvGCBAIqOElXnhhRdunEhtirW+LgIRIhAxhEfZUMrCieFKSwNUgBPG7ksrY+Ba3Ld7xCB1jduujyFkZAKMEkwpf9YLZ2lQ+FjW7lj3Wcqa3HQ/znwlSBIVRNDDSQZ2tqVrbXstB1K/XmVfROBlryth5YD6fAkOa5/N8R7Z/X0U7HbguCAzWLds5ite8YpzDB3Bh3sGfgFKBJ+CSq8prb/4Pj6DY7vmPnYjRyf8KwxTlR0hmCPK+7HH2a8KhvTTMFBCwOiPABKbKfqWG6bjXMTydWY6JzFVBeZpu5d+31RfVTUwnQbizPG3WBFJAbMuFUARwFVVRbDMlD4DcJB0qpSpASxA/kkMIRKj8MnScv30yqe2PyVqSQWVOC6ASX6rBJd41H5Iz2+6Q94hY+sqfEngKV/S9wCy+ZLshyRrkHP8TsWi380WKyIKrBInJ6u+6asmyKcepXZzkiyB3/CB9Vc/r7dusE9XrNVVQ9cSl0O9pkI0kIsFjgKgolJjxMiGp4KFAKhywJYkuUor6V6O4VoMiNInRvlfGOko9dG77eabb27Ah8ioRclPWzdRHqwcFovPOuCgKSUR0GF2MiKlSPS5BD5F6YdrxSoF+m5jnzHW7u/5559v7o8RB874W38doE3u5OVSdFWvY3kNcLyAnsB9zg2mFOcQ2AlQ8bOQdWubrdDrFNNWmw1sVJlx4KE1bN2zNxw7mXRrWLkTJ6qdwFteI5uvIPorA0Bk+NNyKskcZY6cWINgtB/ByNGvEoPQWYfZN2b5den6qtdXvgYEhGyVxACg39+pYJ7qZ9bu413+nc1/hc5PlSPORGX67DaA1FmIYSoY9hp+tzOSb+S85dsY0lWZp/M/s/qNmzWgbzvbL+GpFQWgXyKUT67MWaKAbbfW2T4JQkAPGzhWn+b6jMbTACDcUDB+Cf9OwkeMAhz3vNiCYxcJ8j//8z9v/Fdr27ntDOe3Wv9K5r/927/93PnND3R+B4g6lv587yOPPNJ8D9CUn+4a+JJshT2pz6lnJr7GTvU7e1N7xtlmLayGO6+osCervgEnq+beze0bnKhKNMr2/cz1uxeVWLCmRhA3Vn2UV+V5J6uFWdmnYy2eA/2cXCxwFABV0OywlHniyBGGEGDF8TOcpyTJVVpJ93Lo16IPqYMbu1SWU5NrzBZNxxlvvVkw2dD5gS76xzDiXtdmZ2pSb2AUBw6oo6m3A5gxs361BOjbT3VqvXMaMe70FFaqF/ciYNIrCiMVS29TbzNgk2EeWmjIZCoBYSA5rnQBoNFio0rVQK4GJDBkhwGBzvtYr9Yd9rMz1/7iFHLMTPZkK/RwTde2n33uc59rmCjeY9iZFgZaeAALtYqJ6d6u2V43IRRjBbO8T8uA3Hsd6/32pbPIwACgUkgM2lB+CyixhyWFUhYvHdKDn3VNOh7rGuvnVA0M0QD2ozVt+IQeauwxW4xBhi3pZ0oE4zyoTMn12o3hX8447YuUNzsD6Yx++dsG8gjMMVMJv0ACSull7S87ZOXW106tAYl/a5g/yw9l9/V0NGjnxhtvbHxR/2fT2Db+qTV+2223NXaer75P9n1qfS79+esGJIlRxP2S33y+Y07kqBZQ3Sj2iqFpnhtiGaBZST4dRRw35fkdw7zsMYB3iFgTu1OyU5UIkk2IJP8HPvCBJhlqP84i+qWvCHmrgF8fyJP/uyIOIEeI+Z944olGjzABvoWKlgDsXwA8fd3r0Ha//t5VIrFK1cAmDeRigaMAqOG42YTALEGzTMv/Xk0/K7G0MldpdUnOpwHNoU3iBmwaAOUQx3LxM4encvS0ibReM3rvtqeTMw7K9RkHBk05nH4vMnLaAPyPVc8URoKTV4IAiw1qk1lr970BFtlrWHcycuuEgyqT+P73v78BpAx68z57UzALhOEEVakayNWAAF4ygzPY7mml55WWEZIU+rauW9scOcxLa1bQxDECynLGOZamb0amPr1eyRDBlx6p3rsvIkESPSHb1ywpCUjGEBeA/K+OUqSYdEwvFYjal6d+uNeJER62SjJDggAj0hr3fywSAdkHP/jBc8kRTJgq3RqgJ6whzBuAE39AklgAiYmKke5cNMVcy5TwtbU7wmrnA1WpGihFA/wDg83MHGCvzcxAfEBqcDYgRPDHkW9UnfHvVZ7xAbwGQxXpoUoZGvCcMCv5fGKrVFTJPLiagC4+E28cq1i3GKjiuPDRAMz33Xdf4wtjeMY+CB1NdX6LA/nm7Vk1vldiQ+yrJL7NfI1EnlZws83N0PZx5c+fPPnkyadX5Kk3rXClu1ZECexcrWsAqOJ8/sXZ1XV9ZEXE+G9m7YiHP/Yx9NRjXXL1vgdoIBcLzAZQOXSy3Sal78tQgFylDXg+9aWZGjCp1xCVTYKlJjNFZPwAE5y0tKRXOTugdJtEn8ltr5v698piAMXA4ba4xjtWUwpl5JTod0kazG661lLud2p91s+fVgMcacGRgKdL7rnnnpOLLrqoYVRb26oTrrrqqlMv1T91U0IgXtxes9gp+iPv25RerLLXvOY1TWKoLcEW4LDSCRvbFnZMwEnnY01Rn3aV1E8/ZA0o2xTgbBMl5/xGbFX93qp0a0CyE1MI21QZ5SYRpNMnAbRqp2IQX5WqgVI0IBEqYW+dsluSKgafShZKAkoSbJKHHnroRAuQKmVoQDsGhKG0rRUAACAASURBVCnAWpfcfffdTbLnmJnw1ra+/em6ReYBoCIU2BPaH+qHGjLV+S0u1mahq59wAKiA3nYbOxVR9h7ykrL52QSTdFWt8v9WRLwXrJKzn1x9sfFRGkL+x+qPKxH9vmb1B4P3m1dnyIny/xWrt0rVQB8N5GKB2QCqi8QKUra1Lz3ocpXW58HU14yjASVqV155ZXOAO/gd4jJiDJJMFAACgKAkmOidJIMHeLQuQwCKGKZKhJUQYqAy/IAfwKpG2TKEMfxmnKvf/VNkdzFLuhh9SvCVOG1j3MkKS2rQBwaqPjaAZhlhJfzAZj1wqlQN5GpA/+CPrTK/9mJ7sFE4YFpKaMWxbm1r18F504MJ60R2WWCFaakHqD1vT8f5HddszypbbZe5597T1O/HsnH2dJXgP7WaROqeMVABxPZuWzjadIO9M3a/rKnvvX7+4WkAKBosGxUj2m4YCCNpcmYV2GAjqXrQz1Bfz2CkH54mxrkjegI4AVL5NRj5zgLMJew8DFTBuRYfWPjRo877nKXanVSpGihFA3xtfgI7jXAjMcDWix3ZMH/zyz/xiU80AJMqKUlWiUZgHUa7dV+lDA1I0kiGayXWBt2iXcO2Krky7mS6q7Cmn3322VMsXQxUVQUqM8Syqov8O2Sq81vcC2jUX7UtAaCaJ9JuucDu8EeXStTfukoEfmGVdL1/5Uf8l1VbiG/+z+Fz/7GqVvvKqkz/XSsQ/wdXBI0rVhWWVaoGhmggFwscBUCVtRDAmZa4D5KrtH24x0O5RsCn/oAGIwABZa1lqgGAnCpGHFNT+Zo+jIwEoFSvsLYI2IA8jL5SwuiBKkuo3E3Z8NnW5L+l9Bg9JWUMMeuiT6QgVemCsmgA8KaeUMBmmX49KF/4whee64H62c9+tgFfvT+A56Xus37vYWhAVh3oiS0JEIx1qQTVIBQBfvTs3bS2sVQNhrK3gfvRA9W+FmRpCyOZEvvB+aDUFWCgrUe773HJ2o0SfAFlmtnX6y36O2GgYilEsBn3o0ROSZZkCAZDlaqBEjSAKW3v2semMNu3eqA6F/iJmNLa8kgCOg+OuT/etucFZNbf2ZkGgOab6BUJpObL8HmcAfpOS6aQaGGkJZEy/ypVA6VoQFsJSUMMVDaOH8BHxa62vp0LwcZDnNCrke+v1ZbSY35+lXI04LmJHyTF9c5Mfb60L/2mOQ3l3M00V8IvpSOtaqzt8E/FoNpeAZ4Bk6G7Kc9vhIQnVyXxEhPpAOLouc+XNpNAv9YQCTw9UMWPYsYlRGWLSgzkJ6Si/766xv+6KuF/7+qMcK2SiAB7cX+VqoEhGsjFAkcBUN/2tredPPzww03/OSXFBgWkIrAuSXKVVtK9HMO1MMZABsYGcEg4VnqBKtUHfnLGAIOE42WCd1scxMplgTnf+q3f2nyWhvWYXkooABol9RKMzB/WnUw9MMo9clzctwB1k7g/Ex7dHwNIX4Iu7Qw4PXpOtffqMayneo/TaEA2HViPNYklJdOurB/rDBMh7U+6bm0DTTlsAEIOkfd6nzPbHtW2Qpkw4JDDZz9IhnDuZi0vGkGFMRUVg9Z+dF/OKGwzzFTMBAAT1jg9qvDgSNINXQOjBKDtnrMjXFr9iKqBnTQgkAGWqm4QFDoDQvxfkoM9w0bfl5ZPOylihDdpVYJdKqEk4GavMZW0P3EuACbsfcQF/oF+qEBXeqXfOnBnhIdQP2JUDWDkSbA4A55//vlmXgZxTkgCYKnyUQGsJGwb4oOkTJWyNMAv4Z+IL/h8GPJ+BnjTa9OAu2MX57dzXEzKb0WC4bfybZ3h9GY/TH1+x3Av/iUbwV/mb/Ml+eziSaAuH5PP7fpcJ1vDz/SapQQjXX9Weoo5Ja7H3IRItix1bfV791cDuVjgKADqK1/5yrUalHFRklGS5CqtpHs5lmtRCqjvJweLAAYd6kBVbBYMaMZJueCmfoAMhoMYi1N2EGgBcMXumAM8ZTyx9TiGfTKzwBXMW1k2AREQRdYtbU+waQ0IZJVlYOn594te9KKmhEN/onbj95LWEh0BmAC8+8QqLEmHcS2cWgkGgOTUpd6cQOvVBNYYYmZPRnlpqp+ute21gip7VCmTZAEwUQk7hrjP5eTZ8/YPR9B7rOs5xTU6PziXOZlva1y/U062/an9AUaZ8y3Yeb4L4Kz1gcASK9XvZeRzvntOfdXvOh4NYLQA8AzQcPaQaFXBV1x3HhyPhr5+p33OEK8RxDrzAE/OVmescxwr3R9nIcBCQIl16k8FT49rNQ31K6fUzrZ1Lf6SDGDLIsFivVq/bKFkQQCor33ta0/0T9eu4phFsliiuG/cMKeuPCvnEqKG5wh8c8YjuRyLbFvz4rc0jpNkRAjAqsYMnfr8Zoddg5iPvTC8CiPcerK39Kk1ANLgUtcpSed3/EzPEuFoacGeBaTygwlfQkxQEytLP5n9/f5cLHAUAHXf1JertH2730O4Xj0/MS2ijIdxxjxV+jMkWBCMKF2PkjfvVe6mJ9OUBl+2XSJB9o8xY6x+7Md+rDECMbl4iudkMI9+sAE8+w5Oqb5qJTL2AGSeDWNPgEWAIoa8AqnDVgjwUd8w4BsHPLLd1lzJQ4dcrz0KgCGuW8sOrSw4f0TiRLWDITR9EhHDNLf+1RxlbUM4ccGGl7HXmw2bfQrxPVoX6EMliCKcWqVhxzygYQpd18/M0wA2i57b2k50DYWxT9797ncfNSDiDAEg+cMvIM4OunGWdIkEC/YuBl+IRCr2DfZ6lePUANugx6K9BozkS0rAARWm9Cu7tJ1jGyXMzThgVwNUdf1IEnzVYxWED8/XsCb6BYBJkDgrpk6GH6vOh9y3Z2LNOsslwAnWreeTxlcwBySgSAxg7PLhPMsp4xqxptY5f/AHf9AApgTR6Pbbb296kqciCWPmhrZv4duqbNCDuKtP/xA9jfFalWmSKYHfYPSaj4JYNQQDGONa6mcchgZyscDRAFSOoItxGCgzMl2xVMlVWqn3dajXhS15yy23NKWBnh2jADhgtJT26xfYRwR3+i85bBk5WThOmwm2wFNByhRlCvaGXmW+VwsBbDmGVLadIcWAnYL9CmwGPALPlIkw9IZl+V5MNw399ZYtRZQf6pfpmmRnses4jkqC6A2IVqWfBgBtBitx6gCNGGCYYZhMzujLL7/8vGFP/T552lcBTy+88MKGfQlUsCcNi7NHsa4xqbHGnQP2L0a2nk5TOqHpHf/pn/5po0O9iQEX9GwfaYuBdZf2lhpDU1iunGyJBf2p9Gu2l7UhAZBLjEgwVKkaWFoDmCtY42wde4b1zvawqYI353nYOcmRY2WVGa7l7NIXj08DPGKTte9Q9pq2OvFMMZRMs6ZPAa0EDt1hCdGn/6dDSJZeB/X759EAkMNek0DkD/Ml+ZXWAx9T1cacIBvb5LvDNlrXbKOkJxttrXcJf17igA0VN0ZSwdp2frz+9a9vEjLHJvw1oBHQlP+LTIDl6ayIFj9zJo+PTf/b7jdarDifneWqofhkno8yc23WYlCU9QtQ5cvZkxIeyDTiUWf7VGLI8jPPPNMkVJApnBHIB84JpKSYFSJpwb8E1iNYIPs4Q7BQ7UuxRNfwqamuu/25hlIaKEvH9oBzgd8rptUejN9RpWpgqAZyscBsANViNinR9MToZyOYNaDnwQcf3NqncegNj/H6XKWNcQ31M/ppQI8T5b+AQIc74AerUr9Sh7+DnQHrE4wBS6Nc1mcA5BgSjbsZD1O+NbkfW/QIsk8M00h7jgJBMEh89xQgiMbumm4DmumRsWa49bYBpDI8fcHnsXXS/jwG/Ld+67eaZ83ZTjOKrl9ZFxbelCzhqe9xzs8HUMh4y9Cm/YA9e2xrwQzmdWnC0bOfAQwcTI339dDmkHKi0sFnMWRlrkmvMVmWU5ruV2sX8A8AMeRuzGz4rbfeenLXXXc1vWWdE0qp9IQGMnPagcwA3SpVA0tqIAbDCRTZVGxxtsXeMByGj8gvZGMlQSR10qqIJa99zu8WjLL5ejnTQQgQSRAIaDZTIE0IGcylKkNQq3IAQCVwBDQZsufMlNipclwaWMqv7NIy28evEPelVRFhG9nOdUNPAxxRkQVwxTzln0ia6oeqvNm+KSnZP8dKcx7od37FFVecatWjOstwPv49nVVZRgPsHICbrcP6Ts9yLE4xlyrJd73rXY2fZvBfeq5b32yg834K4o6+wfxn7bCQkIC5Yitl7zELxL4FwiuPxzJV0YmdCuyVgPFeZBZMaPHqmL5t36eGRCDuE+OLa/gQiBb8Xvr9nd/5nSaud51VqgaGaCAXC8wCUB0ggC0ZFWXCGDlAVKwxZRf6u8lIypaVJLlKK+leDv1alKkqK1BG4ABV0iPIUM6KXYeBCpjkvG0SmUHZNGtUKwCAnDUquLM+GRa/57CMKfaA7xPkKDduy2OPPdZ8J0MwpnBcGUYOqESG0j/9Y5RAKOGgR45plASP+d27fBa2rDITzuJ3f/d3n/oIwWVMsgQiVdmuAeuaHgXYbZGJth5uuOGGRRyidVdvPQIIMSw5fBxAzhEnEGjpHAAgYGaE+D1mRrscabuGhr9CD0LgrunhbeYHlo2Mviz9mIMTMHP0inXe0Y9hWZgNzivTiSUXOLZdPWaH32F9R9XAbhrg5wF02BeBjOQGUJUdsl71HCcYMIIhyRG/L7kP926a2PwuQKc+c12JFvtcQphtjvJPex4rT8UI0EQVjZ7mAltAFXvpPAzywhTXXD+zPA1s8yu10cBQ5RvPIVhuKoVMFG/bxkga8NW72txY62JJPrDzgV0j1jgfgM1FnJB4OBZxNgKW24mWuH++sj1Pp1WW0cBHP/rRpgpAYqBdAYUwI4GIXYrEAh9pz61QMo8c4Byfoo8ngoRrFGPCaADuKhjsL2xxMbPfAXa1dWObJOrtX6+VoFceD1xll1RO8MXnFrGM9jWqUOFNzjQJGT4xQohhq8Be11ilamCIBnKxwCwAFQPQAYJ92h5mAbCSjVSOpMykJMlVWkn3cujX8hu/8Rsn999//8bbBBIJ3jYJJ64PkD92IBKOkPLerl5lWLXKlIFDY4oShz49sMa+313vQWCIvQTU67puZwjnugsQ3PU7D/l99oweS5iKbRHocJRuvPHGSVpH7KpXZep9wMd0zboPmX4O1NTCYZOJF8y1RSJCokS5IYbYWNKnNQG2bsqAGOu76+dUDfTVgKQMEAWA2lcAhhJ8xyRsHFBU2562YNr85m/+ZtMKJHyFf/zHf+xVdQFQq+W8x7OSYq1IpHW1jcFWjmTfHFoBsiA2RElw+p1hGwE1kqNtkSCI/pHrrhULW5x5LIJUgfjgnDAdvS0AMExUbLwqy2jg0UcfbQgoXaXtgD3gKMBPclElURd7833ve19jAwHlY4uKw7Rndtfn60eOAauiSjJ+k7jWsYk+fe45qrA2vRawC+CtUjUwRAO5WGAWgKqkwiHSxaxzE0pIlVfG4I8hNzbla3OVNuW11c8+rQGZVllW2WelEtgZUcLvORqkoDcKduUmke3T+8XrrVkMVJ8LfACsYs3ouRRrY6zngIEjKJLNw6JrS5TQdwVUudeAradnDGeLIQU+CnQxUAFrgKdS9mYw+LCV9LVMRS8tzohzRuuBKts1AHCW1MJYbAtWBxYU0L4PQLf928Z5BdDfHtWAH2PNddrvsvcy4v7t99htxN7iAAJdnQ1Ti/Ihf+itnTDUBsQ1a5kwZqkhYBQ7R1UH4MW9ajMicMY+4zRiGpU8FGzq51I/f3kNGM7IrgJQtcbRKgYoYm2yceybvStYxEBlj6znOXs0Lq+lk6YNkUDVGdLue26P0yFQJNqusH38EyWe2hZJNOoJbd8rw2THsXGib2QJ91ivYXoNhF+phBu42BZsZYDNXAxFsZ6SZANr2glw/rpydMwx/cvbghWHkf7www83bS34p6pnVHxcd911jf8q2RvM1Om1u/w38IUwUO3vts8rgYw96EyQbKmyjAYwS7WccJa37Rj7h92pLB65pwsIlwRRWYelOkULN8Cudjn8ZVVaUcJvH2F1nj17tokH+dtwGm2oxL+qHaKEHwPVNbLrepxPcZ3bnp6WVXqDqxiVhHGORAk/pi87iPnuOqtUDQzRQC4WmAWgMpQYqOuYfV/60peaTVtKmXAoNldpQx5QfW2eBpRvK091qOv7BSzlkOkdo9k1AFQmtk8Jq0MYA4RhE7xED1TOnc9lJDAgxxaOoCwkI5qWpws6Gdd1mfnc69AzFPAsgFU6FT1Q9VPTkw67dwhjKPd6Nr2fU6gE2vOmJ+0UiEBBGQo2BSOpxLvKdg1gNf/xH/9xU9ouIAnB+pKUsBamKBvafmWbXyEgwPTELCUyy4IFjBoOnmSEIM16EbRxALvaPuReR9f7sQr0s9JKRHlUMAqwzO0xDDAA6pigtBYFsv4CSCWN0QMVwKLsSl9n+6NK1cCSGpCgFMBYi3qTAW6c50TAZu0SyRA/f8Mb3nCurH/J6577uwGdkj4StvZvnBXAZGeIlgZtFp8kGB/lgQceaPogRw9UAbx+dnRdyxfnfpLLfx/Gt95/6/xKeww4OYdIxuthjyjAZrdto6GQ7HSXbYz+i4bWSEQqddYDle0D7rD1kjHp/IA57mnp7+C/SXSrrkn72DtflVsrXa7D45Z7ShjXWMJYpqptY23zE53lEob25kMPPdTEmwDNSLyLa6x7STMtoSLeGfNuxJcS8OJcPjUyTSTeEYn4kvYbcY4AIhER+N5Yz9adaxYrqP5zrUsIXSEl0B0MgM0DoErY8H8lJOFQx1bNssSzOLTvzMUCswBUoAxadxezjqJj8IssQUmSq7SS7uUYrkVQBgjilAEriIwapw0zUQ+aPoINw0jotwnsEPRxTJTJAZMEJFOUwckmA620EeAYchSxygC/GASM1pigS+hChlPGEGuFgaY7egs9YNO1WTB99DjVazwHjgcQleMvQcOBFHTSUW2Y31/zgg6OkGfPGZLk0itP8kF2WVBeIvuLU8ohZTPsd6WpsUc5g/r/YVtymDTAt28FWXMJx01go+xQ6aTkILaBc4OznAY6Y1wT5xH71hko+eIMIb6PUymY6pM8GuNa6mdUDWzSgD0JyPPH3rR2Y6060+1nP9PWybpli45RsJbsZ0Epf0C7K2cIWyxo9fNU2D9BLJaeRDK/B9Dqfc4gSeRj6yV7jOumfc9dfqUEqT9T+pXrdL/ONgJP2cZ2D8j0cyQG+N9xRqS/kzgYu8XVPqwf+5s/zG/T0sN5qc0RH0DfTHH3FHHDPuimlGtEjMGQFtMBKMVYzmmxi7McS1iPeuxqIq7hdwMjAa1aPk2Z5OAvS2CGD+0aXBtbg9iTDnx7+9vf3hAUVIioaiBeB7hEWEqHHs6tf+07sHmJfUHsB4kV7cqQKqpUDQzVQC4WmAWgYoRhBtlcbeMIDGEUsQSxdkqSXKWVdC/Hci2yaUoOgBdAFetKbxR/DxFMDwOplDhZo4I5DK+uwTBDPnfba4G1WIGcTNfg8AfmYgdO6QQxNlimSrqVyRtKgyWHcVsigCY45JQATj1nWUVGvj1Yapu+6+9PGuYGAFWADTSXccYQEVwJakoTIAuwAPCvTD2CBy0d9B3F/ATSeB0nz/7p0zM19z7tIXsWowBQIYCR9ZYEoUcgiGsBbkwhQKcYeMfx5pRjBsjETzG9dYp7qJ95HBrQI5g/qJ2FBJ1zR8Am0WDPKhVUFjjFXnEu+D57UpJlm121r7weaCMhsu31Yz5B1VnOEH+zw4BQZ4gzpksE21i8KmgE5Pxt7BsBb7WNYz6Z/fqs8Cv5x+wmvxK7eWq/cp2W2rYx1jW7ybZb6+vazfDvsVjtSSLxi+E3RX/IfXnKQHIJl3i+7D1SBJ9jzvNqV33xQT13Z60zdgqCyq7XNtb7JCwkBK196xvYjQSQnuWAPue9cvqIayTFulpajHVdQTIAuiO6aQFjH6p4vP322zvZy+wLm4Lp6bVY7F47h5+97b7FMoEB2BfIEyqzulqYbPus+vuqARrIxQKzAFSGDriBbaCcIJqZy8BwoDFjbMQhQR6wB3MKgGIDo5rrb8lghMjsRO/I+Jnr8F19JFdpfb6jvmZcDRjQAoiPzBgnTFZb2WBXc+51366PizJCQGaIg/gDH/hA54TQse5CZlLGzwAfgR4B3jr8N2Xmc78faAsgBkqGMNxK+7uGD+R+X31/1cBQDXCyOXccTEAlxgU2SvQ69XnYp3pFKeNjT/QGm5qRzPFXJskWuUbnDOdYYnDOnqPsq/6vzo84O7AWsO+r8zh0tdXXT60Be9nU3NTGXnDBBQ3gZ/9K5BhwBwgYAwQQnGvnwcZFhQrfU3IVK6gt9jI/gL8ImCQYRJjsXUNuptZXn88HoOj91h70QX/OI/5wZaL30WR9zZwaYK+0jFIiHMwxoJE+vvzfEEneM2fONK+NPYk1h9gwRVutOXWQ813OKv2i7fvQi3hBX9RSz6q4XziAFkv8OQJQFKeLP8Y493P0Ovd7PTv+m0oD9sr9s038tyH4SJ/rVvmLkUn/RELR9yANbYo1gZJixQ9/+MNNMoYgsGCxLjE8qn2vgGrJWX8TiVkxAL+iRDJQn2dVX7OsBnKxwCwA1a0DUWXG9aeLRvYyTXrZ3X333eeVI21Tl14iWAoyODI1Ni/QyWEQPXAAqIC0tO8TqnnfgyhXadvuof5+XA3o1Ymmr4RAVs2ac2g6TNH6o1/itm+VJRRUWUecDwMdlFAoD2DcBXxTBCHYNxigjJLAkVEyZZNj5GfYdQK4sYWx9n2Mi/3kPvVu5KQyqpxabTiqVA0sqQHlrAIoIIuAS69ie9SeAF5yumWf7VF9ozA/2QNOofU9hWBCSzIATX2HoA+DG/BCsLjXscXGvB7MBcxbbHlnnV6Irkf7D2w/g7YAy1WqBkrQgEAfOGJvAPnZWMxKtsjPVJBICEjs2df8vRyJViXOA/6BpKDBS8BUzJt2D2jfJcB0nZIy/IBg8UnYYLstWarYpQtnILBZ4M1f8DdfV7sTQaRgXGCsT/ixtkXIWUP1vdNowN4ExthX/E97U4KDHw4EESP6GT/YsCi2FTAoGeKswKz23j5DYqe5g+U/VXm4s4xv5Dx1VvGVtGLSaxbbuESJHvyqh1yjGMQZjU3r/679WMSa50t6dnw365o/Z70DLcV/Y53bbJt2Z5IPvsdeM5gXs1TLJ4m4Lr+VTREb6yvq2bDT4lTJTs8tZg8s9cz4u9rgqWJhC1WwwHHYcfeJwHeI7Oal9H0s35uLBWYDqKFoxjIyTZy5sTJMPtNhAPSJaYQAVGCtYHoXyVXaLt9Z37ObBgQJDn6HO7CAsdH42kGP5WKaIAejT9CDtSaQA8YwJDFECjBiwjuWl4E1YwtGjkDSUKcUKBXoaZTv/pRKjC3uj54EVoLWGCLFWHJof+ZnfqYBZKpUDSylAYkw5UUGqliT1qigSdJMOZ/qA0GYHq72r/3v9RzFmIA6Rf8/gYuzwp5NB5cBVpXTy3yv6/09pi4lj0zjdb90w/lV3QF4ElCxjSnTb8zvrp9VNTBUA+yoNhP2r/0pmJPoxtz2OwOS2FjBI3Y3G97u+TnkOyVTVI9ILkg0pP6oifZs+6/92q+dq1KRuFQW3E6+8F8lcux5/RZL6g0u6cl/0H7HeekenIvOBv3pBJRAJ9ftrKhSNVCCBiQw9H5sD7Pif5qsLQHInt9yyy1NdZnBpvamcwI7VYUZ8NRZYh/3JciUcO9jXIPY1wAitj7tVemsigFTXRPgx/junM+IgYIYlvq3p1hADMD61V/91dH7xedc85TvdXarduBLpkApYJUvaxAYPY0hEoKwEXbMGjFgUJyp1SIf217Twq4tXusa7rrrroa05tmJD1UEqwLmkwN9l7KLAGjryJmQth8zK0H1xZwD88Z4TvUzytBALhY4GoA6lTrcoCwWIxolCwBU4KnNjO2q9Arbdd0Aj1BSXKNsBmc0LSGZ6vrr5+ZpQEDAicJydqgDOTkQyhGU+wrABGUYnpsEcwP4gHGpVAggwYljMIAz1hSgBEAytjCS1ia2a1sEksqVlSmNWYbASZWR873Yu7L8wFq61B+LA4MZGyXBY99z/byqgT4awCLHqBAIKPGzBzmU+hsDXiTOACDYYvaozDNWpr1vuASAxu/GFnsG66OL3YnJzR5hzUwtWAD6JDrvnGGCTMAtlq6gE3iKzVMnkE79JOrnb9OAPWn/6pemP6+qJNOiBW18rdTGqi7CasHIyRkCJ6nKvzNIsp2015NO4CXo0k+RKCnFWlHi2O4DLfCUtCktGHNfMfwxmKfuR/AY/WXdm0RsDJnb9qzq76sGptYAUIZtYrPae9PP2XdgqdgNyAQ85aM7J8jv/u7vNj46H4E9NuTmmIROkEP4Ru2zCrFEn/guhv3SOsKYd/Z3JcfEG1oPRUuXpa91ju9/97vf3djELtYt/xbJRXybSzozHJnvjIhgz2Fs2jsSljHUSvzrdW0Bntqv4mhxoz0YsaNrtFc/+MEPNsNn55ZY6xjrErFtkUA1JFnlcpWqgSEaOGgAFVBmYyvZNpAgxOHM0AJBZTkF2xxyjAcHRVsqgDpkSZX12ijf33RVfcr4BRaA0m1izY0t+rQa3qO0sS3hbABjokXFGN+vNKRrL7Q/e4r7HeP662cchwawvuxNPZYEVc70bWLN+iM7jpk+dhm/zzboZl05LwBGPyvA0NTCmY1p5uu+CwA9BYg89b3Vzz8sDWCDfs/3fM/Wmwqbo3pEwJdTxq80EXALJG2LhAOQNg28ALp8Rn3Qu2zhpn2/9cYmeEEkQvt+dLXnfTVVXze1BjDA+aHKa9uCqMAvZrewqSX4N8kxlvGrgkH2QXZoi3MBkxA7HRhZkkT5Pv+oq6waoKfs+ljK+K1v1UOSBW1RHYgMBkDNJdBguW7zhVUsRC/i9Fokx2QPrAAAIABJREFUMVUxbBL71eDwuSUSoXqAdw3deuKJJxrWLXJVlaqBIRo4aABVFgXDQIZmE/hlKqnAW7ayi+XXVmiu0oY8oPraPA14pthWjzzySJNtdUhGCb8yBQ6YkgNM0k0i84nFwcAAbaJXjGyctSWzBXD0mWOLzB22p3KltnCS9JiRZR4yDKvPNWqlgbWLdcNBNSwLYw0DVR8iTiwWS5WqgaU0AIxUymtYhP1njyrVlw1/xzve0UwABVZy8AwSVK5vj4ZTpb+TCoWxRemcDHxXaw0JPEk9JVlTi/Jce1QgxfGlHyVLzkSBKedbSe8c/Vinvtf6+futATZWRZBg8SMf+UhTvnvFFVc0yW8lqPodCuDsXyxybE9Jipw+foI+/iFGaTthqFUPgJUfGa1z9P1mcwWC2OypRMkx9k2fRM5cT0tfdgxzbYeUU7LngF4sX1VZziK69xolslWqBkrQgLJh67GrJUYARwBANt55AXjTliZK+CU/VGY5R7SaOjaGGfapOMVZlbYR8mzFLRiG4qE+Sas514OKGUxGbMV2ladkFyBOC5W0LcGc1zf3d2FIqpbtSiQ89dRTTUJPlVUuA5Ud0CNUwhBj1PoQcxpgBZwV5/Kh2cu2ACddJ1/TZ0QJP+a354XIxI53gcBT65Pfq9oMAYn9S0UigR9hnTlLqlQNDNFALhZYbAn/2972tiY45CD3GXQjiOas2+jbJFdp2z6//n48DTggZSuVsDjAz5492wCogHWgit4swJQ+/ZE4G8BMZX2MhB6hgAk9De+9997mIFYKOLYEy9T3Ka8IQ8lw6mfIKGDSjS2MsrIoJSSA5uiBal8BnelSEFalamApDXCOOGiYaD/3cz/XnOGSJdpeqCiwN5V82eOcKGvZa+xj71UmNnbigS4EfoIXAKqEQ0iAMnMNcKALjjcHV0AJ9HFmAJJ//ud/vulrJQNfpWqgBA2EjRWMAS2tTyW6yvDsXzYWo0pfY4zzSJzseu2CQ58JeNHOIxhPGCkSDQDdlJ0qkem8ATpIyAbrB1tVwInBKTGSG8zuej9d71O6THf6LmsdotoqeqB6PSBCIgrQ9OY3v3nMr66fVTWwswbsQWXmehMDN8JOA3rsTeeDBCi7pq2WGI6PL6ki5jPXgF9O2P8p7PzONzfDG/WudFZp18EPibMKCOmsckap3CnprKIWZ6j2C84p51GAv/4voWUQsHN/it71MzyWwV8h8cVHY5+c4fG8DAKTjAcMis3GEPsM4eCxxx5rEmt6oOq1yk9mk7HC2b22iKn5uWJRfq+KST1QvR/xJga6jnGNu3wG/blGtlzsHutM+zvkoHXs1F2+q77neDSQiwUWB6A6fIGnNoxMex92EQYOkE2PRxt+m+Qqbdvn19+PqwHrgGEQ/GhQTvQ88W+Guqt8r+sKBEkMBIMWomzezxk3a24KJ82axrJTYoHVJnjTQF+2T28cbLJ2j6MxNKh8CpsvZaXIhPo5o+2a6uTCMTRdPyNHA5IgABUMMsGC0i/OZYi9zgnkyGGTcaSsW855V0lPzrXEeyVuHn/88YYtJ3OPBabSQSD3Iz/yI83QmrkCF+cbcCT6IMY1yrrb22NNcB1Db/UzjlsDbKkqD0Bfe/9KeErq2b9sN0aZxEmuSGqw3c4JzBmJFeeHwN3eAaKmwv8TuAIkMHIE9s4gtpH/uK6Xfu517vp+uqI7/dLb4h78HttLUqlK1UBJGsA0xbJTISGWszfttW/7tm8719PcgCg2HyhoPUeJsX/bkyrG2P5jFGcl0IsenG3OKoQMTH5nlSqzEkV8AyQHAjtjPUtnshgOQ9K9HIvEgEKtlvirsAoDmSQQ6QagOVYcRu8Sammf0+ibvW1WiEQGApq9GrNAXJekvRg8HdI497NzJlhP9MbvdU3uEUhsJoBKrSpVA0M1kIsF7gygYgL1lSGsPr2pMGwYXYdLCIMrYyX7puQDW8lhBITSP8RhZPpru9Sh6xpzldb3vuvrxtOAw1LPH+xJTgQA0DoY2vsPeCirqw8Px80aUyIj0JoCPA0NMKIYp1h12DiAWwZJsCYAMolYADi2KO3DAtBvzh5hfGQjZa6nvN+x76N+3mFrQBJMyZp9bs1ytgVOQEvOtgQHENOaFYhxmPqc9Tlas2cFK9pecCjZHwkP2fmpv7t93YIoA/UAU84MLFxly2P2Tc7RVX1v1UBogI3FGpfQZmPtX62VMEckJiQQMW42VY2w8SbOS1J437YAU2Dl/JDgkIzULkBvQEBDl7DBXq8CxWc7U7QSKHU/ORPZcH+cka7Z+cT/4b9MXd4sgeWMpk9spLmSR3VX7b8G7GN7zVkASLM3rdt0b2KSa9el4gTA6neYqHx8NjdXnDvOCOcK+7nUNPFd7sNZJVHKf+97Vjkb6N39Aln7zEPY5do2vceZId7hyzm/nPsq8MQ6xybWN98N+5ZegJTYqFrHjRmH0TMGKQzlueeeO/mnf/qnxg6yETCTbaK8X5ztb/4usFtyw4DCpUWczBfX6oOP4Zpe9rKX9ZptsvS11+8vUwO5WODOAGqfsnoq42h1TX1bp851jpmeHnpTyUSglttESkSAqMqfbfq+k4hzlVbmUjjcq+L83HjjjQ3oqXca4WApa9FrZ4gzxLhgOKeDxQROplzrJzaXMKRKLTg5hGPk+2XTxixtMUFRyaTkQgjglt6USFWpGihBA9aniaGCdD207FN/hygvMmxG5lkQxvn86Z/+6ezG+33u3XU8/fTT566HjRIEaskxB5DqrFDGj8EegqmLMdDHKe5zj/U1VQNjaUBZnSQdICTEfmHbgi0NsLR/2uxpgb/gzVoXaBKgpsoRzNZjBe4w4fm/eriG8Hedic5BupyiDzJ/21mM5RvD7ADaehiOAWyNtebq5+yvBqwrzDcJl2C+8e/tebMNJEtz9j0WLAadeJGIF2IK/BSVX0s/CRV2zz777Kn7BVi/+tWvnqTSben7Lfn7AacGF0rEx4A/DFS2sC9e0ff+3vWudzWDVSUKCD+ZbQCmIqBtE2e9qi7EBUxhIsmpaqSEVm8wH/FsYACSAmJ3ZKptCdZt915/f5wayMUCdwZQ91nduUrb53vfx2tXtmuoC6Ac4xigcckllzQltn4mYOsjnCiGSwAAPFT2h8mlLw+R3ZqjITtARG9Dgyo4iVGOoN+vgFKpxRiOnWDrFa94RWM86Ukjfkxb/WMZSH3TZECrVA0sqQFD1JTwA1U4mdY/lgjmBKdJ+Z7yJw6hpIMgS3adAwpYzAmutt03BqzeUa5HA33sCUwQe9UevfLKK0dNeLSvB4NAywBgEufWOaivJIfcdTgDa/P8bU+x/n4uDdiXF198ccNSZNvsa+XnQAx72/61b+wfbBn7J01CSFQATzGVML29h13GZNKORrB0bGKfSxjRBZ0IIgGnQE3BsqotlSV8mTGZZhg/zj4BK90DTP1bz7kvfvGLzdnbl0hxbM+s3m9/Deg5jBxhjbO3gE7ADz8V8KfacdcekfwGA6okYJ0p9gfb6Zzib2DYTek/9NfCOK/kLxnAGfcLiJacdr/OCH3TD+l+x9HaNJ+ifYF5G2ItcZh4D0HAs0CckRADpo4hkul6Zdsv7CvGtwFS2mJ47mxo9NDt+j5JDPZazKiaQXyqr7jYVOsYBCZDXZcS92P4I5KR2F0SRNzAFolhu4a9LnWt9Xv3RwO5WOCoACpatTJlfa3GAICmegy5Spvquurnnq8BhgZQYmgLsAC4wgFycGrdIOMmoGCgtoneMABY7wceYm0IBAQFMtJ6kWKiTimCIJl2jpweRmn5hhInPV2Bw5zJXBHIciA5UPYlA4nJguEabFc6rVI1sJQG7AcBkqQG516QowzXHlW2rjm8cmDAid/ZM5xSvcFk1rsmvY55L75DQAfoSR1QvZeAmc4d4MJUov2N7+F0C4o4tEodnYccR/8HpFSpGihBA5IM9q4/ShbtWyWAgArldqqHJPIwc6xrdhdYQuwzA6EwpdqAieSnATOGj0zBtCxBd+uuQdLTnjeMS0muYBariT+D2Svpq8UJvWHpjiUBPmn3o31KiGBbPzoAONC2StXArhrg86qmAIrwA7SbUrFor2OlmgLOBhqatq4dx7rvtle064oWQClwyA82aKfEKfa76tL9YiECzMQQ6f1GkhpoB8irMr0G+GyYwBJcabsaz4kPK3HIf80ViS7+s+cu+Yi1bQirvSWetcbFnHzYdYJMpM2O/QaIFR+yy4YXqjYAoorFl7C97k8MwP9tkwViQBc7NBYYnfs86vv3RwO5WOAoACp2jLJoThXR80S2muHTp+KGG24oSqO5SivqZg78YkzhFDDo4cLR8jfhKMjwWVtAlVh769Shdy6DpeUDx0xZmj/XXXdd00PF5wIWo2xwKrXKQD744IMNWCT4aYthMcoRcg2rICcagN9xxx2NATQ4AyDFEF177bVNSV6UlUx1v/VzqwY2aQBYypnk2AMDOZoSJvp7CnCU8wILgQP2KAcO+GLd6pfGaRIsTCGYA84fvdi62l1wOjmVGDRTCccYy8x5575vvfXWBiRxfgCg2FoMtbHLwaa6n/q5h6sBCXSJQexToOknPvGJhg2lzYQkg/3LJgkgCRBQmX/YdElRQCmb3G7Lo7wQy0bS89haz+iN7v6xTjHh+Qj+7Y+AV6DsZ86rMQHNmPSNadoWSVkJLuWd7SFdh7vC652NrQFJAWeFKhNJAH5p+PfWPN/f74CrKjGGiDgPk04Lq/ZguEjcYqGq6DgEUdlmkBx/JCaVx325X+A0chN/psr0GgBaqljqarMUySmx6NDEQPvKA/wMP1m8p28un1GMZ0+pAmFb1wkfmq0GmLLRbDIAXgICexUQiyUufpxbJGPFrtoCtfvnuj/3CfAF9FapGhiigVwscBQAlRMl22Ihc+pkBQCoNuSZM2eaMsySJFdpJd3LoV9LsEwZGWzNADhj4JL/Y7UwIptEkBEZqpjqHa9P/z81oKhEiWFdlzFzH9htmLY5EsGsz1jyfnPuob738DWAbSJQl4BTmh8loX3WrPcBbLDbphBJFw6lkqZ0oGF8l3JkzA72bypx5jmTNulDefSSE1Knuvf6ufulAXYrmDZ99q/kCL9REEkEeEr1JU/aYg9goQFidy3n3S9tfuNqg0mGAY+N0+W3YMoLmrU7GksktrRR6UpQaaOkj3oXWDPW99fPOXwNBMvU2vany7+XMASgDk2cBMv0+uuv72yzY/0CZMQPhyDBMsUg7BpIqx2HFmE/+7M/ewi3W/w9AKyxn7WNa0tUUKmoQBzIEfNhIl5M7W4aI+sVmvbPbn8fgoIZBOl7vCb9PGSCsNU51zv0vcEylUzpmncinkaMqq2shmq2vj4XCxwFQFUSIEMQk5EFdABUF6dEKxqDl/K4cpVWyn0cw3UA4TnwjL9ShLSEX7DFqTp79uzWJtfKzQQD1qOeqdinUcKPgWq9MmSybVMKlggmjUCw3XbANUpCYKaOkSXG/rY3sU/9iRJ+DFQZO9fCkFepGlhKA1iVstwSb5w8AY2ACTstSvRNnhaoY6Dbw/Y99rmyHmCK7PoUIrvt2rr2I0BHRl5Agg06lSiJZq8kgP7lX/7lXAm/7xQIAXH1SR1z8NxU91I/97A1YL9gPumdBgzFQNVGxv5VxiiYBJIANghWC3BQiToJVmMXKKfVDh9g6pYdJT4h7Xy0GaJDNh0j1PnozBT4Og9NK5cgHrMXnN6Rzh4JovakaM+XTwHsHjLEs0T91mtaTgPmD1iz+ntr34H5FiX8Js9rU8HO+d3QKouvfvWrzdmDAdgeEMuWsu3OpzHbXiynyZOmv6bqNqXYbbYuYDpaIYkDqkyvAf2/+WYY0O2+s85vdhCAmjsAid1kc1Vj6lOKgRol/PYAu7CtPZ3rAPhG9XCU8NsjSASqQrTV4I/OLaq83A+iRHtmh/hBzAyk1iKoStXAEA3kYoGjAKiyFPqwAaGUSQeA6m8gUUxNG3JjU742V2lTXlv97NMaEJRhpSnneeaZZ5pMNEo/48T5wYRQBtxnyqAABOjxzne+8xwowlmTWZPF2tYnZqxnY8qh/nBvetObzvUjAp4CdQVDAsh2ydEu3y1j594AzHTF+MnmCVw5U9HvZpfPru+pGhhLA0r17UPAACAAM8T6/MpXvtKsX+tYmbpyPNl2IMqTTz7ZlP8K7tMhNGNdU3yO/soG3rzxjW8813LDmeRnfifwm3IadQSYHGAOrvJo/RA5jhxzTiW9VKkaKEEDABA2Wm9yyU0AH3a5/qYY49YwlqRebey5fSWhR9hAv/+Wb/mWJuCLfmvWujWu9N97j20Iir7oSicBQRKizkYDdpx/AlsAFB2O3d/Q+ctf0ntagBqBvj7y+tgaaHUo5c8l7J1jvAa21JqWELWW+cWf//znm+Qpn1Xi0FmifHeXfe/MASLxLSRfCeIAu+p7+A9dbM19fRZK+LX84ZfE/apGc7/mIDifD+l+S35Ozkmt5ZBltKGIJBSQUvsTyX/DfccQ5DUYDL9YKxyAI2DV+Wzeh321aWCwfcaPRRaQlHddeqBK1PsMDM9IfI5xvUM/Q8zKh7Cuo4zfPoYDwACs69xWCEOvqb5+/zWQiwWOAqBiAHHiOMqCWSAN0IvRc4GAoZIkV2kl3csxXAtQ0WEOiOdwEUwWDj2HoavHTJdeOBIMGeZECKPmMx3M+ojNIa5DQBi9CzFfGVtZYn1ssGTHEAGpwEdpRluULXGq2sySMb63fkbVwBANSI4IdLS3wLAConD4QuxzaxljHAsd2KqUlc3p6iM85Lu3vdb3ctKAFZxIzlsMnjMgZ8oBUnFt7CpmCQdRoBmCmaYMGuBUpWqgBA3Yl0BTCYa2sL2SmPa5cn9MKK9NgRG/Y9MFR/r1YXrr7SfoZ6PHSCyWoKeh14ClG/3RnUkhmEIYetioUzDLlH0Ca50xKgD4YAJWoJcEcGWfDn2S9fVtDWCa8lNVKqb+Pd9UqyuMunQIzxANSr4AsbAzAURa/jhPfA9wyOCdQxL365wAGovB+Qxxv5Kter5WmU8D/DPxlxjPsD/rkI1TjeF55LJP407EkggyfNMQVUliTRWP0Wd8050DKSXq7Dv2l7DNgHgVB5sA2Kk1yu5Y1/wG6zr2Mf9Ai60pSQxT31v9/OU0kIsFjgKgynhw4DCDbEJTO2UrAFVYOkozS5JcpZV0L8dyLUoh7rzzzhNT4zFRZMhMGxRkDRGOE4Yb2r9MrfdrYg+4nFMEQZi0soZAEYEhxk5kjbuuxfUyJJIUSiX7ZOTdr2w+1q0sIyOur2xf0HlOndTvOl4N2NNshj5e9oPsuRJSgYA9GkOm9CVVNq/sTuuNEO/BRLcnlCxxsIYKZwzryncYjBJ70c+1upAYVPonmGPTgL1zibYj2LmAXN8PVGVnJZKqVA2UpIGY0q70T/kd4E1gJvkgwAfG2Tv2qT0MdI296//OAkM2MKbsZ/tfsuDY21Q4D50BmHPOQKCTxLIy5+/8zu/caQnwQwTddM6n6GLz870AqfwPgAzQVjBdk687qby+qUMDzgnlx6qznAfWl6nh+hoOteXpmrYvvJ/tZjutc2cM+92nam0fHxb9SUCLL9yvc1ZsMcX9AtokVAi9Dn1W+6jf9Jr73D/AFAkIeCoRqF89ALVP/DZEP/xW1QkS/uys75GwNFyp71nN77755pub3uSepSSDeJG9WVqAwc8++2zTvobuEBiQ93J7yC59X/X7l9NALhY4CoDq9h3YMh0OCg40Fp2Gw0MnJ86hylylzXGN9Tu+oQHrSVk7llowsL7pm76pKS0ADg5hYCmdkI1j1EIMiJGlFoiUKJxLwZMgMwQbTp/UGIy17ro5pIxompmUrTMgYqzykRJ1Vq9pfzVgT+utB8wMwZzAtIryMw6Uvk9YqZy9T3/60+cGrGBF2ctp2dQ2bdgfmFb2WoieawK4TUmNbZ87xu8lWbC9UlauaxJwjjl1e4xrrZ9RNWAQIoA/tVeYXsoKMUgkSWJYo70K8AhW5S579xg0LijWpy7VKduvDY+zYRfhq2MWCbyJINuZyq+q5ZC7aLS+Z1cNYJ9imAGZUnFuAHH4+30E0G9NS3TGmgb4W9PHBu710deurxGT6XGNPRyD7Zzd+lCKK/oCdrt+/9Lvc//APPcP2CPuX7sTwN5S9+8sFytqExCCDABE3cYgRc7BisWYDXvM3+Zj6oW61D25D1Vq2vr8yZ/8ybn1xkYh7WkzMxaTd+l1Vb9/Xg3kYoGjAajz3nbet+UqLe/b67uHakDpnrI+ZedK3QURr3vd6xrQk8HCgO4jABKfoQRA6a2hFCZW+hwHtICitBIXAaferLLHACHMHSAPJxE7j3FbB/Aoo8RQ8R5A03vf+94GPBaMmdhLb5g9VaoGStGAoXGGIAiclKTqeYqJot0ER13fRGX7HEQOLMdJ6wvlS3ryAWYMgrO2nQ3W/TYB1DoLMLBktLHBsSoiEMOem4K9se26/B5rXBLSfen/iHXPacSowdiVVNoVQOnz/fU1VQNDNIApDaxQ6SCQ1L/z2muvbRKdQBLAquoHDBzBUAR6SvklMmPvCsRVNVU5aYAKOsXg1RfSnjdMExOHHQdY9znnUl3ydSRXnZl0LVDG0HOmOv8w/pcMmOtzPx4NYPEZEsUH55uz5Ww6+wtQlciMKeObtCKJ6kzh01rTGOtYmD4HE/Wyyy6ra3qkZeXsUCXgWWE6kji7sV0PvTeydQas18fUGUr4ZEr2kcfmrmj0/YBc9tZ+AmIjygBF+cLOdgAku9slAGGsbD6lmFIyw3MFvrIz+u0/9NBDI62e4R9jlo77sIddDxulMoXtU8KvJ3eVqoGhGsjFAncGUDnDfaU0inWu0vred31dvgYwwxgCh79DXQ9EQRfWGTDh1ltvbZpeC8C2yY//+I83ZWjeb6KgoMPnA2YMYQCulnYQc1QYP+BJygphLAGiAlXMvC5hdLB9lB8rzWDsGUglwIBiYJHPr1I1UIoGOG2SBvaoTDgGqLJV4CbwX4Y8ehVjZgJW7WsJlVScD95vSMQ28BMr3bnQLokXxOk9ykFWLruEcFyxxQEeHEaDdZxRQGZnFpAjZRsscY31O6sGQgOGWSi9Z3OsWSAqf0vZuaDS/9mcmBjNBuvfxg7HtPfYu/Z7ab7jEk9auxJ2HANdOT2A4m//9m+bM1EyyTmQ9nXfdo3YRRhFklR8nlRi8ImgFKBdpWpgag1En0gATgo8SRoCbYIosKnaSqm6NQ0guuSSS05dsp7pkWgsjSAxtW6n+Hz+mUGBElztqj3nkHisj981xbXN8ZmGGQH8sTqdzakYjvj000+fXH311bOXvUsgABdVHBo2GmIfISBhZfNxu1oHINXwrc0fMLuGH46w4zmzEebYSObv2os457lIgACEz5w508QC4lZxrz0t0efe+BhaBVWpGhiigVwscGcAVeDWt4dH2vR+yM1N9dpcpU11XfVzz9fA3Xff3fQoxQLDpHSAEn8DPv3ehE2H6SYB+ANS9HJh3BkExk62Te8en6efYJRjlPIs9C4FEHUBxBimgGA9atp7UUYRO09Zid/L3mHvMZICrtBjlFKWcr/1Oo5XAwIlbGp/JAwALbL8AAPJAP2dsEoAm8Sa5qwrOzVQKhVZeHuHk4uNsk7sE2eI/dV2hr3HOYHF0qcJ/xRPji7oxX7lALsnoAmAA2sW+GRIRG2iP4X262cO0QDbqUxWSx2VHdiMeuCrILEfJSoImwMkZb+8Tjsda/nyyy9vbLHXKk0XoGORH7uw7f4IIIHSSjQFtZh2Ycf5Qn3LnAMk5VNpBdQWrRYw9trg6rE/h3r/02jgPe95T2PjtO2RIExF4gC4wwfQsmqdBEiq1ZfEQirOG2QDAGwbXJ3mjg77U4GkWPHXX3/9eT3Y2QBnd/RmPkRNiBtVWrj/9hA957D7lyjs8ien1AdiARvQVZGEhPNHf/RHTQVIFwjqrH/qqacaQpK4MY2zvVfSPsDVKe+h67ORpszWufHGGxv/Ir021Zj2doCrc19b/b791kAuFrgzgMoxDuGQ3XDDDU02IA4Nh6zS6HvuuefEBNGSJFdpJd3LoV8L8M8a4tA72KMHWGSj/R8bCxNtkyjTjWDBe9u9xOL/pQGK+hzKBHZN2I0yPEavXW7HkIdx36f7PfT1XO9vvQbYESV8JF2z1ragKPoWxx5lgyQQsEr0SWsHTffdd1/TqgPzep3YJ/YYBzJKsdLXAnn++q//ugF6lhB72DXSBwAV+6GtH2y02opjiadTvzPVQCQp2+vT/wVtys2J/YtVwn4BTYKNqjzP/vf7e++9t2GaTDFZfp+eWiRCu3SanpHKn/v2LcUO1lJBUqiLnS8Ql6h64xvfuE+qqte6pxow0FWpcZcfK0GojY82Nvz8dRIAkXYhXYPQxKLA2To8NX+RhE903XXXnUfccHYDEPlcyvsPUfickvcA1DZxxf2bBYOZK+k/pxiOrM1LV+JLSyq/70owuEYVVgg2aVwdNkdfVfuTnwzEnFv49pKvXdeGnCe2txaRC6pUDQzRQC4WuDOAml6kvkyYfMqsU+Gk6d/IWS5JcpVW0r0c+rVggCnzU8qjnDUt4cdiYaQFWwaWbRKBCBBGI20OQHyu0kHM1he/+MUNSKsMoiSReSOSE22xvxg3TJIuUeaglEOvIgY/SvgxUJXnAaRl+KtUDZSgAc6Q3kaATAwHDFQl/BxVzBHBj32KAUC0o3jsscc62SnBsgpQZt39BTvFPsHOTsXvOJ3ABH1HlxBMhr//+79vnETsjijhx0ClG7ZVWW9f8GSJe6jfeRwaYGMFObFHMVCjhB8QgokKSNUrTtsJrBZ+o/J++92QJOxVLQCAeBLvtSzvpClXtL+BRGx5lPBLmkgeORecd30rwgDdQCsM3zY7H7sf01/J5KbE03Gs6HqXc2jomdjzAAAgAElEQVQAw5QfCrDnm6aiJ7oEoRY9KrHWCYBHWbXem/ZHKhKPyvudRceekBnjeYqfH3nkkaYvrf60qTjLxSzO+kOtilHxo2xcLOpsTkU8qZqCv6hFypyifJ9PLDHWrkbQzkpsK2Gp0rItN998c0NUYpsNXUtL+MXXgFOkOC165hb2yHXzdSVV0xJ+PV/Fv84J/nCVqoEhGsjFAkcBUDWgF+S1+8twkjl5UXI55MamfG2u0qa8tvrZ52vAusJS0TCacbau9AUUAHCcsEcFXtvEIewwZiwwpfVbUp572223NRkuRnEpoGTdtetd6toioAF6ClSx4mQM1zHnfN4dd9zRlDZoWaBPKiYr1o+SKUZef0el0lWqBkrRgN5R1qU9KWCyvpXoaNEhCfChD32oAToxrpwH2FSy7vat9hzEWQGcsVdk3LcBC8HkFnzpw4bxCswNhusSznA8D06x65JEcuYBqAQvzjxVH0Ame7lK1UAJGmBbMVUkPSTWMVv07vQze1JwJ1DDrGaH2DL+IeBEksTelRgU5K3r11bCfc55DaFT554STKx6SSSAEZ1ix2N9DREVO/xgpIcAAZypjz/+eNMWxDncx6ca8p31tVUDXRrQf5yNt+clPLXxkLwEnGpX4aywxre1qADESr5ILsaadrZY6+ylNS1WrZKngehNy6+i6ygJV2Hg7OY/Ibts87vyrmK5d0fSne1SLp/ef8zQ0Id07vuXSNd+BQCq3YV941rFy/aGZJmWVl3i2dkzyETIRfxu8SLfk91RGQLjWULYJX4v8kD0eHWthsuKa1VRsGV16OEST2e/vzMXCxwFQMVmA0Y98MADp7QJsIohOCWpOVdpJd3LMVwLENFhztEKcVhyhoAofQZIeR9QhEEAPLZFYKJhdomCyYM1y4BgydIDFolsIIO4zlAz8HpD0lFbAC/Bbi3xnus1HacGlKtLjGCktcXPOXb2vSDfuvczQOc///M/N2wIDiMWgOmhwXjbpknv4ZjJ0HPG9B3VLgBzBWsFYLGkKG0EQLnftJ+4JJCsfLsP15LXWr/7uDXA5gBCu4YT6lWuAsR+EwBJfgJMSTCZhu7dY9A2nWLXmPzcdSbStWTREPm3f/u3JhGjtJNPEWcqv0rJ5KGyx4boqL52Pg0gBABuiD6H1jxfwLpWfQVU3SaAlkguatelcgQj0mcA+qI90LbPqb/frgE9ayW1w+/yDj4Z/4nfJal9yMJuuX82LMD6uH92Lh3iNKceDFYV70k2sKmuz7NCQgKEbkpCPPnkkw0grKIh9TPtPT72kjZBDMyv4JM7G0JUrGHXAo2rVA0M1UAuFjgKgMqxU15pSnBQvGXIUd1l/4BWJUmu0kq6l2O5FqXqd911V7OeHO4AVUyWdsP4bfpw+GJZACRk3RgZJQqllasxYhrjmy7KGfS3jDyDqMcTdl7XAIiu+//Yxz7WNN6WofQeQ3MAQ1WqBkrUgD2qNN8e1fNTGS8WtSDfGsZUkSm3ByQV7BWlR9gnQEaOnp5pXaVKcb/OE8EVUXLsc7BU/u7v/q5piwGAveCCCxowtQTBktWmhO0SpOj5hBlbs+4lPJ16DakGAKR6DiqbtX/ZWHtZTzh7Sxm6lhT2p6nZWGJRgs6HFAxt2rvpdwFN7Htnhu/p6uk51dPhh/hu1yBg7muPh1yPgVq+g/13Bqig4bf4Pgz0du/nIZ9NZ9hJEtTAqjhTK/N0iBbra8fSAFAKAApMZcfFkog5Q9p4WNOYcuy4/ckX0I+ylDVt6A0ChJYcAN1trNqxdDvF5/C7VBc4n0gfv2uK6xjzMyXOAY7Ad89nU2LK/QMsxWnE6/mdSye02VIt7772ta81ttQe8mz6MGL5wPxM1V4xkMr/6WNp4fuLXf/yL/+yeS5wpa7Bc0tfZ/3+/dFALhY4CoBKXTLZNq2SaA60kizlk+0eKSWoNldpJdzDMV0D5x5YILMmkCCMgYDMz6J0t49O9ORlEGIYi/coD8DG7Mtk7fM9u77G3tFrBuNU8BQigygDN9QR5JACn4Lp4/OAzvSgr1SVqoHSNGDaJ9alZEEIcAL71NoFHvh3NJUfcv3OD0wXyYjIZAMhgbHYrCUGNJKRSm05xiGSKNocAFKrVA2UogHggHVp4m97/7Kx60oIh16/vYt58qlPfeqUTxAB49RBrMD56aefbgDhEOeRksIx2Ff8AD6APu/8Hz4rpmnqtzgT9YDbNJ18qF7r66sGltAAsMfeseZjSCRbrOxYtZRKqq7p4em1lmzb3Z9YBcM+RELYtPo6AHKJFXf6O6NFXDpcWFJdC5p9YTeyidpUaPWUxo7Wl7W3LREB3OdXx4wBGpLIxN42yG1olcOYT1XFhHYe6cwO16YKC5mqDzg85vXUzzoMDeRigaMBqPukzlyl7dO9HsK1cqw0iVYawgEB1gP/lNwD6jEz+jCx9IFhDDTIBpaaloh9qhcbAwq49LslxTVoMcBxlIHnZElKfPzjH2+Yp4Zu9DVkgCKlf1g+Jphi8N55550NWEyPyn8ZoCpVA6VoQFmUgEkvUgxQQL8SPmCFthVABOe3bLTm8UPBCo6kRvt6Ckfggq2iRIij3DXBdEndYHcYqiVxIvFj0A4nGXDE0f3t3/7ttUPklrzu+t3HpwH7U+9ToJ5SfX172Vj7mU0DIrBvYwAGzgNMNUlU5wSwBagJVFVSqRRxqqAqJn7zPXy/BK59+md/9mdN4Kp369BEZ3u1KJlknw29wTiVQJZEFQSz62y5AXdf/vKXG0ZOe3DO8a2+esf7qgHAjz2MCc0vl9w0gMdaN5dAdRj/1b7a1MO0VNuOoc5O89sBptiAEiH2LQZn1/CsfX2W+3jdysI9H60jPB/rjq0C5gPsJK/FUKULooyYWGyM4cxOsMdiXDZKtcG6YaPY2j/8wz/cVGVhdYoR2ekXvOAFTZ9tsbfBjkuIhIrvxg72fNhd7N+/+Zu/afaQFlu1onKJJ7P/35mLBY4GoDIIHDpGkONqkZvSN2dJVd/Hmau0vt9TX5evAW0g9Ni9/PLLGyNnTQlgMDNMkgUo9J3AByDRs8fgGT0WBXiARMGX0kHZRuX9S4kMuhI9e0fZRSoyozKLMvEMXR9RuoS1psREWRNHFHik55n7FXQBZqtUDZSiAY6qgIodMflTX23lvoCJSATIhkt6ABSGTN5UmuV99haANhXOmFYXb33rWweDslPqznkniKQP+xYrgkMr6FIuFiXMU15D/eyqgT4aACAaHoItwsb+xV/8RcM4ZX/Y6JtuuqkBSJ566qk+H7f2NVif2gNgnrT7E8fQRf5Cn76JQy9EMCepo6RRUJmCtHwLAaxrAqzuKs46foAziv6AS9hB/NboU8duS6yw477P2VWlamAfNWBNI0mYag4IUcn4kpe8pBmOKEnqb5UW7PbLX/7yzlss2bYrhxZvmLOQxsPOErZc7HzIQ5dKX5OAUrZKYhpJJcTzkdBnz6zDkoVNVJ1lQr2WioYH2zfiW7YhZtRce+21nbeh5Q6iAt/a34hE7Ct7JhmppZbPGtoybwyd8R88h65hrhKmiATuq4Q2A2Pcb/2M+TSQiwWOAqAKPoFPFjDmnIPHzwR3mAccwJIkV2kl3cuhX0tMknd4Kt01eZbItgEcASIyhKY/bhLlhPoayjJqLSE7B4jVu1eg5XNj+vZSOsVikWlzfV2GSuBGB7Lx2wQIFUxVuuLEGZITGbzQY5RLbfu8+vuqgak1gE2lDFbWmxNnLwgu0r3PxuiZCKzBHB1Swm4PYHXJyrdL9Z0l9913XxPAlcTKVraIDWEPY0pIojgbMOm15xA4YhYAk6tUDSypAaCmQMbeuuqqq5rkHAYPVrd9GxOKc22OfQ+EtY/bQZPPBj5iz1x88cWjqwPL1n2uY43p0W6/qhTZVYLhKqDHZOWzhM/j/JIMlfyUEK12fFct1/eVogH+u5YfYkdkCWBJrHf2jZ0DrlrvEiNdUrJtB0phznb1K2a7nYvA1W0tCkp5Xod2HSomVDJ1xVUIJ8BDRB1+aalijxheZY+wDWmc7Jr9H7jKfnQJIoLqLutQHJy+H4CpfN7P2KS5xYBX+8R3t6tKttnjua+1ft9+aSAXCxwFQJUBV3LhIIrAVEDKibT5ZHhKklyllXQvh34tN998czOAAvtMzxMGjQQL0/8ZPoHLJsFiiyEP3hufIyMMQI3/5wZ3Oc8DawcQDCwB9rZFlpAjJnjbJvqmRR+49H6DHV7C/W67h/r749IAtjk7Evs71mj0PU3XLMaAoElZe19hh5QQA17ajph9f//99zcls21WW9/Pn+J1wBPlSvYwADX6oKZ7GqCydOuRKe69fuZ+aUCpINZ4e/9iTWNPh9+Va2O17BHs3XLLLZ3tbPRQ5i9I6o8tyul9vmAV+7MtrkuLIUnQXSWC9re//e0NGz9YUemejwFc1Y7vquX6vlI0wH9Xfm9gY5QaxxnCjwWeXHbZZQ04tI4J2Me2e/86BuuUupD0jL7t7e9RMq1c+i1veUsxAyun1EWJn/3e9763mdXSrvpzrWwWcBJ4N2TWxtz3aY1deeWVTcJNC4KuOFlLOP5vl7CVyG5pXB17EIlBBST7PsTfHksHm2yqag3XhcFefeCxNH48n5OLBY4CoGIB6Fuj7CIV7APZEIyhkiRXaSXdy6Ffi4yZfoV6qenNkpbwo+8rCcQIueaaazaqQiCC3aY/mt5pGKhRwg9Y9Tu9iYAySwmABHsGcwaQk0qULbrfvgw59wNw1RvOfUUJv30q+JNRBb5UqRooQQP6MAFLOXF6AAoqOLf6nUp02KfK1pXDSdYBZpQX9ZVgeAvGTExNJcqEMF9f/OIX9/3IyV/HsXVeSQDRT5TwY6Bik6v0UN479dCcyW+0fsHeawBTB/NUMGpdYqAqQQf6W8PaY7BJ6ZCKXW7aoCrnguqR9oAPe+F973vfZH0F+RFaB3W1D7E//Y59zRnspFoG28eUYf4znwVDio8tmMQWAjjpdeescmbSd5WqgX3UQDDXEQfYNJO2o4RfCx9VJhiAfsdn75KSbbtYQ69TMYrERyrYdfxz91fiAMt9XE9Dr9mZCqS3/trzJTAvEVs8uz5zNoZ+91ivt/7ZJIm7Bx988FQJf7TBY3/Zpy6JSk9VimxOWsKvHYDff+Yzn2mGrc4tYlRtPrraa7GJ2gNVBvfcT+Uwvi8XCxwFQOXAKbtoT1jV6F+wyqktSXKVVtK9HMO1AE0EYTK1+rkoccMW0w9UhhrjY11z7FQ/JnsbvqDfECBSAIbNojebtar/qUzWksIYcKhcGxYNppyAyrUJHGVC+/Z6CefTHgQ0mTKu6TaQ1udFv5sl77d+d9VAqgGsK8kSDut3fdd3NWxR+x77WjLF/hBoAGT0IATI9JXoX6in1aWXXnqOka45/Yc+9KEm2SCLP9Xwmb7Xmb7OPUuoSH7oMe5MoA/JSWcgwIrDXKVqYGkNYKlYj8rr7SMgovJ969UaBfIBWdm2XOFv8itVYwAY7Vnlvo8++mjT2sd19B22OPRa2FBJHACn9lQCayQBYIh9KYjFpssReuKn8nHck0ocdlwiCQMWA1/LEcE/htSQRFLOddX3Vg2MrQH2WBUYu24/Y5MCaiQKJDT5AWy9fYXJ2SUl23YDaiV8AFxYjliCEjGAIQCd0mp/qiyjAXGV+RpmTwDo+YGeD8BQvClW5H+VLq6TXQCSaofF7gLvxbRsMyDYXuoSpfASn+yL2BBRSR9vczQMbxOD87mXEPZcL1b7xvmg1YX9DhMwGFoSsas9xhLXWr9zvzSQiwWOAqACdWTEBb6Yc5xZTqZgmLO8LuuxlKpzlbbUdR/r9zooNbRW7pKKkgoGri8jk1HE3HLopiIAEqDIsi0tynUFTLKGyvgZcwAPgFivKEZuiOgZpZl4KvanbKvMf5WqgZI0YI9y+AClqQBDrH9OrqQJZibnbqhIRhjKBGz5ju/4jsYRw3AVmCnLLXHooUTIDTfc0ABDqUiIAFCmAoqG6ra+vmoAI4Q/yP9r21jl/RKYY4hqDe1uBIrYmZhdWNr2r328DmgZ47udGYAP94oR7jt9N7vq7HJG5QpQSV9IPo/P5+fo+9zWKXYeILVK1cA+a0BpsYSL/sGpAHx+6Zd+qQFQf+iHfmjjLZZs25E+tBnj32hnArAydA7T75JLLima3bjP66rvtUt8wTAIQpi1pOpPggzoXVJSfd092TuAeGznENeNcCPJJpm5SZ599tnmNdZmKtpqqQhbB7721XHO6yRL3YM9Y/+Ik7XTEQ+LC/qSinKuob738DSQiwWOAqBazMBSpVMR5HFoMf30p4gm+KWoP1dppdzHMV0H0ERpj6BCqRxWFmBBVmqo6PWif5rMMPYKRke7FHDoZ475egGawMlEYffNcMkAbtpH8R5gELAVUy1eLyuJySfT6rMwUH/iJ35izEuun1U1MKoGTBK97bbbmoBKhllGXC9ASQUDYvxb2T0nyhkQPZL7XITz43Of+1zzfqKdheEVKRBpP33hC19o9ox95PdL2jEJFS0N2C6ACt1sc4j76KK+pmpgbA0IcjDGDT0UiLKxJmuzYZsEi1MpZdg8bXU2CTDCfsCs8W+sT3tY0KgP3JQgqusCmn72s59thqX6LufSLv7Iunt0BinNdFbxqyV9+Nj8FoGjMv8f/dEfPe/twc7hC0jAOhtri4+xV/nhfJ69E7ZUQgBTsl1qPsfdAqz4qfxza1iCVJsKTLi+4E0f2z7HvXR9h/MN65RPwUd3Hva9r6Wu+ZC+19pgL9gk7cus89Tnk5QzoNA5C5ADbgPr9kHYTMQAvU9dv7MfLqMcX+u7vraQbrSTEDNihBve5v0lJOndoxYDkhFsvOeDqb4P4PY+rKFjvMZcLHAUADUUz0AI9Bg/WQvOW4mSq7QS7+mQr0mAIkuLgZEOoBCwYGYMcUKwNTBN0768SgIEe2OUFi7xHDhkSv4YTWxaDrGAyURxZZPYa5zTEACM4Etmv0rVQGkauP322xtWFRZWCHBEywksFS07sDk0t4/1LiDByOwCFIben31kP9lX8fkCSr2Y+7Ldh37nptdHKxzXEwLMxT4bi9E35vXWzzpuDUjQAfgFpCGqRYCoKkDawqYricdCE+QKiPwMSMgmb2OFAxf5AcAJ74v3S3pIMvRp71P6E3vnO9954lxM/RY61Qs69VuAus4uIGucXc4K5Z2C6SpVA6kGJAkx71JbCjxSyrwt4TGmJq1bTD8ttULsYz6+n7/0pS9tbH/tEzqm1o/ns+ASWstI7sW5KNmlTQQ7sc+iWgvBwJkfYg+rqvSnr6j0tNdiAJX30ZWfqdpcMgl3DDa+73OqrxtPA7lY4KgA6ni3Ne0n5Spt2qurn97WgHJdA6M0iubwYWfqDXbnnXc2QZbyiz4NvvWEkVHTz4bhBCwKQAQnjIes28te9rK9egCCVP2VMAcASNh6nAT3opeNe1aG8ou/+ItNZlEQ6/XYrfrjYPJWqRooRQPWJqYlsFICQN9ibDbggVYWkijWtvJ754LkCZaqXqFKl/QCxCzYVQAUrkHyz37CZLOfnnvuuZNPfepTDSNmzkb62GeCRwAyBr7yZLpQIk0XfQbo7aqL+r6qgaEaUFZvjWKPAfZUJklOWqf8LmWC7X5yeh76efRcA3h6LRY6wETvw03AicDY3jdkxt7kC/AJ9CQ1eE757z6zVPR71f9UeyyJZJOQ+S1aZmGo0h99O6ecXVj6zi6+kXJMv9fPj88UU5aHPtf6+sPTAMDF3sSyM78C41tFh72oD799rDpjapHwB9ZiweplKJmCgAM8VR1mbVvPqsRq1cXUT+PwPh84b0o9X46NUKIvSS6mVL2gz+7Q1milaEkbGUl91w8sFd++4x3vaGI75779rR/5NsHu5Dc7E86ePdvoS9yIqas/LLsjnlxKDt3GL6XXY//eXCwwC0CV9egj7R6Mfd4z5WtylTbltdXPPq0BQB/HCXiql641B1QwVd4hzzgYAGMozDYx2TNKfEwIlmX/4he/2JTdAR71j9HbbJ+EkQQo6WkKRA3BxBEscYgBzjL7AlfZRSWVnAl6BTxVqRooRQPWpf0IEOE0vf71r2+cOg7e937v9568/OUvb5xgfRbTknrrHdAqGOtrl7ruGVAqgLSftAlIBbNLM37fPRcgAxDmuGJQYOK5Jm1MNNMHFtGNpFKfBFIpz7hex+FqgE2R1FOKzy5J0Fm7+pTa2xKUGNUhygwxVoElQJJUMK4BgvqKKtfrEsw5Aya8t538VOpnrzgP9jVAds96Pzr/3I+gX+KITXcW8FsuvPDChoELeDLow9mVVn85G//wD/+wKV0FRs91dh3uKj+MO7Nm+NJ865RdZr2I2SQt5qhSUk0C3NfuTdWJvt7W/MMPP9wkYLTqsn5dq7UtQVClaqCvBvhP/DYtBdNEnFgQwIjJ31UZ0ffzl3ydhIJEOgKQ+5EMEcOKbcV/fgYk3ib0YFiU+Rt8S5Vc4mG29Yorrmh8a3Zc7Di3HIONn1un9fu+roFcLDALQBW0ceAEcmlpdfvhRHPmUh5artJKuY9juI4zZ840JfcMBQDBQU44dtYcJwt4CkTdJIBEQVy8V4ZOY2oBngmg8bmb1nGJ+uboyhJyQFNhOMNZ4BwAUBlSvU8NudjX+y3xGdRrGkcDnEAgqXJ5wCG7gUGFLa7NhjULNOUQm4DdFv2rgK4YWruW7WJsAx+6EjIcSH2mMGRzp2z31Zi9jVnmvNOGQ7Dp3jB1OLvam0gySQ5VqRpYUgOA00jiWa8APQlKAN/3fd/3ddocrDMMS8EtVnlb3v/+9zeAybr2OuwaIEg1SbvEkC0HvvBP97XSAugZgBGd6g+JiY+hL5hN7bggmA67WHrOCOfFNddcs7UlwpJrqH73fBpASABUAuTbgrEMiDH4berSXdVRmOsSo/z0KOO33tl/foD9rSyZ3a+tKOZbI4fwTdpB/eRP/mQDCLYFEUdSykyMfUwsifHEevaKeFZcK85Vdh+2gb3Y1svV69lRlQ70kMbZbDhbruJBP9S55dBt/Nz6rN/3DQ3kYoFZAKpAUoafIyfLr+RDoFu65Cqt9Ps7pOtj2JSucpoABzHdFxON+L/gCjtskyjZiADNe+NzsGIAqPH/fQNQsXAZTCydVDBWwvFVAqX5Nnae/QlA3df7PaS1Xe/ltAYAlEr3SLpHrVfr1pqVtFOaq+SwLcoOAYxYK7v235aQkKjpAmywvgCsWFzKwOYQQSNWDn0AUIHEbf1g65Y0BG8OvdTvKE8DwI7oV5ruX202AKhdNieSElhwXb6j/YaRjhXTJeya80D5YnvQBVsOJFIerAfoPkqa+E11yuf2J9WpAVPKsCWc2iJ5CqSqDL59XAXTXLO2Guv2huFoAVxOPTxRgh8BAmNOCx1tKcLG/fu//3vju7LpGNfA3n1rszXN06uf2lcD99xzT5PEi5gxfZ+2TEBHraL2EUCNa3ZvANRgm6a2QoXStgoMjFV6SOPq2INskJY4GOLICXOLOR7a+RyqjZ9bn/X7vqGBXCwwC0B1GQwcRpDAUzZHo+/LL7+8CXBLPZBylVYX4Hwa+Ku/+qumx4thKQ7QtIRfhlxPQn09MVg2CfAQW9o0Qn1jGIso4QesCjw4cPtW0q4VAbaA/qZtpoD+VVHCwQmNEn5N0wHHQCDGqUrVQAkasEf1LAS2GCgjgIsSfkCi39mjwBSASxswkczj7DkLdrU92Aj2iv3UDhxl6DG5/G6uqaTAEGcSFgGJEn4MVD0jObYc57mup4R1Uq+hXA1gkGOhGuhk3UYJvwDOH3ubnxiCQa2EX4BrPaeCfWnYYVd5frxOYpT9d060h94IHA2ey+2LvLS2AaXAZckTDNQo4ccq4rdgEWrlA0iWRMIybU9Rd5bSh3OztvtY+omW8f3iNgMZ3/rWt563JoDtKh+U9U4t0YpLr0V2DljCR1VdBrTBgvVvbPU5k5dT33f9/Hk0EGv5l3/5l0/5hRJs7APfaY5WFVPcLfsqnv3yl7/ctGiJEn6MUtWGWhfY49vOfCxdLO9PfvKTjR1OS/iBpuaESKoskag/Bhs/xdqon7ldA7lYYDaAml5iMHQYOww4wV3al3H77czzilylzXOV9VtCA9inendikwBW9ALjVAFTBQoCg3bA0KW9cMZ+4Rd+oQH6MaYZjJtuuqn5XABJuw9b6U9BfxgBpCCL0VTuZ+8BRjXg1zsKyMxBwKrTf44x1DfH7/a190/pz6Ve324awASQLNEMH6hijwNcMKckCgR9wBkl6/YqQFESz2uACMpXOX+7CifUfgoml/5YJoDaT/YOh7WLybDr9217nwQSPegBKcDkFBsggznh7+uvv/6E81ulaqAEDWC1XXvttU2Sg71hX5T/GUxhfz755JONPUoF8KdMj/0CggpoBU3RwgPot4kFJ0AWJKrCCAa7/0e7CyDQrgmVEnTKXtvndEl3AGF9mp2Vzj09IyWD9UPGQgVi82+wgfkC+qJKDHlNZe+V8ETLuAagC/BSUhIoL1ZjS7Ga/elKSkxx5ZL8/FfJFH6qqeLsnXJ9yQBEAL46m6zcv0rVwBANaA2lJF0rF5UIqpOsNQk+fpR48Ad+4AeGfGQxr3WuI6s515XY803dq/hOaxyDllVxbhP6kODUEsD72RuEG3oBoGqBIFZeSjbZeL5B7e291JPZ7+/NxQJHBVABWUqu/DEcQNPvCqDu9wIr4epNUQRcAORTwUjDJF03YKLr2mUh9VXDdgsBvirzWKK/yxj6VfL04Q9/uHEKlPMr9eUIK93HUMXi4aSGMJLYvKZ5V6kaKEkD9qWpqHqNpu00OEnAGexSLFDgijUN4FQ6DOTU40r2PBcs4XBHf9F0PwEvgRC5nz9U34BSIJI9nQpA5ZFHHtnKLhj6ffX1VQM5GsBoM/ypbWP1MsdyaYu9C1iVJD5D2hcAACAASURBVMU09weTXP9fwe22/m3snhJgCXz+JgBWIkRlCbAx2grk3NPS7xUgOgfaOjVx+brrrjt3eQIC7Yz431irWIT+/VM/9VMNeDD32bW03ur3b9aAPadveNuW6rErcTeXYE4DcYG6qaiUUm0hYepvZ0OVqoGhGsDSRJAhSCbsg7P0EFpCGPSkxYVzPsQ5z4+WINnGPo33AJMlMSUvUzHgEVC7ZHvGY7DxQ9d0fX2+BhYHUNMSfllLGxB7CDuo78bNV8OwT8hV2rBvq68eQwOMHQYpYIWzJxhQ+rdLfyZMGAYHY0NZv+ELstz7LIwnZ9jkYk6mUosweEqSMfj8Thb/Pe95T3Yphueh347P9Az0qSwxWbLPz/SYrx3wjxn+ta99rSn7tUcFUyH6gur9CWjRIxFzDVACdMU+A6awPxhpXcNptuk2WNymiXNGlcm+9KUvXcymaeQv+cN2uU8s3X1jy2/Tef394WgAM1JCUjCG2QJQ3TboTKJUcsTe0zfVntvWmgL4KlHPlvNF2SXvcVbY+9sAwxjCJunIXrrGdFJzSU9ElYz2IV/96lc36pQeAFJexxdwXkgySRQrjZZ0qlI1EBqwB9hStpYPx5ZKXvQR9lYCX6lw7vqybiUDtKkgWndJiPJZMevY+SpVA7tqQH9dZejAU+vbOvczPhW7wWZYa9tsxq7fP+X7tHEyMNG5bw9LrmNwDx2myq+WABUj28/aMWKBl4DleEZAXvbeM/L8sIr38XlNuRbqZ/fXQC4WmMVATYdIAU2VWcSk8/63cPqVmIDKNG0Szp/MuRJFjl8Io60kTFDN6GPaAYWUovSRXKX1+Y76mvE0wOABC5SzpiJAUlYLYOkrSv8ZGkFaCMdMubs1fGhiABfmT5qdZFTvv//+htW2i2AJYOh5LvZoMOM4uRdddFE1aLsotb7nnAY4bM5z4EgIpxADa1PLCVPArUuVEEB9Dpd9DohR2t93mjD7okT2ueeea77eZwkyMRcuvfTSphfrnKIUWSsDIEgIkEhpMj1VqRooSQNnzpxpkp2pzVE2KeE5Zk9FPRH5ivZ9lGXaF6Z59ylVj7YcErLsmGDa5yhdLi2hKmGiHDPVqWtmxwW8XSK5hJkrycnmO0/9kQgSXJcQFJe0buu1DNOA2Evf8fb6uuCCC5oWEkPWFxAWGzCG4MSVSMzbj2wwVqyy4ipVA7kacI6qYoIzAAqtVXEMQo32M/sG1kv0q+Lgp4YtlAgUN9uPfYQu2IUY4hbvwUTXl3hJgoxWdWyZJGtqy7Bjkfa2JVr73H99zfFpIBcLzAJQHTp612zLAnBy+4oNL0hWLsnZU2osO6p8Ow41gCpgSKsAPTo4lzImemPqibdNcpW27fPr78fVAFAOo0UvF4bC85MZk63GpjDJt88BCmwQbFhjl1xySVMObG0C47E3lSm0B1mMeyfzfpoeOJdddllT2qycA0DM4RXICh71muLoDhFMHT0isXW8F5jEaAO37cHaZ22INutr2xqIZvb2p4AJmGpYnD5M9j1QU0/ktgA9DTIU1OkT+P3f//0NgCojr3SLnXjDG97QS+F6BmoNYt/o/cRhM9xCr0Gff9VVV83mYGNMAIOwI+xbe04CyHkIWO3b46rXjdcXVQ1kasAeZJu13OHHXXnllU17GYCqIUj2leqRXMGu1BOY/8nmGA7JNrFBKi4EwcCXdSJYFJABE/kXgkMsVtenhYfr3oW5nntfXe8PO+462XPJFNeu553esdEDNX2vxBHWL3aO85Ce/EwpK4afcw3QXKVqYBcNiM34gen68jN9yq0vpBa9GfsIO40MYU+zZ+wcv9IZYo2z95IyGNi5Pc77XE99zeFrQJsTYD1/CvHKOvZ/vqaY0hm7L8xGoKJSfUk/SYho3YIE4LzvM0SRbdA7WzJSqyzzRoCTqkfYbrZHVdgS4lzR29s5YagqX9jPwp+AFdVqrCWezP5/Zy4WmAWgAmX6HDIm3e0qSsA4sjEdTqCsvEtgLagmMkcmigu++zAccpW2673U9w3XAADBUBi907CTBWfK/AAIwEA90qwva3GbYKpibQDkOXkCL6WxmGUMBUdtKSOx7dp3+b0SB0Gl9Q4Ukr0HFNODTGtMOx/y2fYhEMv+k+lMRS8trCDtAoawD4Z8f33t4WqAg2QfOssB/BgCQE9MKuJ3girrrC2y5oYXvvnNbz6PkS6o4xhjXG/r4+QaOI+cUSBuKpxLv+uaGD7VU3H/huxoSQDIlSCM4W+CVD/HCK/7baonUD93iAaUwGN0SmazFa961asa+8Nns3+1ljG8I1eAhr7j6qv/P3t3Am5LUZ0Bu9WooFFwIDiARkAcGf5EUBGJA4oDCA7BKIqBAKJRMAJRAZEZEWcQBUSZnBBHEERERYkgoICJSdD8av6gCVFjjBgTJ/711r110qfvvufs+fTuXet57nOns3d3re6qWvWtb33rgEUNJMWHdIGxSUlerM0cODHSrRf1GNbBTDWK+d9sdjXqPQ/7eQd8SUoHfIlKlR5iIAdJ+zjwKbPl8zUcLq2Tkj3A5bo5WAOjNPsatMRz2DGUz3XLA0u9X+a3+Lzf9ysnCMhzbbDBBukM5x3370gTyDL2cO+/86DKx37Ond3yeBnNuDwgUXbKKaek9R35q27ION5DiSqA4iwY5qk4EDmoTiSyFyKZseWqKyXbDop5dXkkMB4b++IHI3GxoSRGNHU7OebyX2veGknHlWi25byO6EQH3NmgbhKmX/nKV5K0TfM8OgvPrtzjynpgVCxwJAB1GkM3QGwik0jwDaAR3NpQ64ufwy4gTAe5pmUn5X+32OTAcxpjKNcY3gMyz0rQsdGAB1iTzOZngwCM6PYro7iUyW4LzvJnMU2UcShv2GijjRa+t964Zvi7XvlPOsRmLTe+EtDygcMWZk7246DjBVZ7Dr3YfBnEwuxtC3tn5Z9EuYN+PSB4zV20vbP5HQVYYgX4O9Cj2UzJ9+s6KtkikGoermTXJV+UJ/Vir9bvj5aUbLeEjD2iaSQCgDP9JGz6HfdSP4cZB7jlD8kQHc3zGpb9g2Xbr3zNOO6pfEfxQC8PeE9zmZ/3FVCniZF3U8w27J7T61oaZzjM9WKe5AOXTsK9ms5YP7Bq1sZmk1xV8SRJuNJm7crSI3wKKAUAGDuwem0+deDElpdwbpqEFJC4H2bSSo+/XL+dHvB+eY/22WefNW7Qe2d+9tvdXHMo+yp2mbOZfTzvcdYUlWEqEUnEYV6bl11oDNfOJ9v9u5KcV5JOY7+pd+08hAGNfSlZPwumImlt95srFMyftWp7B4P1UyGV+CdBQlg/BvzLkMH5bpwfbxd/3jT+fOf4s7ZS/xR6xI8NUkOwEKbqFolAcXmvhCgZOaSG3GhuqjdWLjbzHug0gGoxA4zakGUZGCAIk45oOVZDNpPL5ksTs2kFQJ3d9zwDqLnMDvOE0T3xfijPHRRA9VkAKraJjQeAmr93UECxrZ6tA6jGa94IeLFOAajDjncpAFXpowRGAVDb+la0+77qAKp3Nr+j1nsAqr/Tq6rrAOYRTQtAVY7sUDdtAJU/AKiZvVf3TwFQ2/1ez8vd1QFU7ycA1b/RIAagDrvn9PLfPAKofApAFQ9LNAFQ1+bTpQDUDHAVAHVeZub4xzkJAFU5Nf1yCZAc40tWShoCgLDFVZ0VAHX8z3OevnGeANRcfQUsFjuvYTGfgtJd/VfElu+KZN3NIVv1L5G0vzDO1exZQTpYP5qybh1JjZeHDvGdNSCM6o3QPpjaK7MUgKovAMmBAqBO7XF06kKdBlCVHwHIrrzyygRy1QFUZYv1Zh40q5RjA8aWs1Gdttz3l/8fnweUCmEa2wCU8tRL+GWtLZxnnnlm0qxZztZWwg+c8X7RQwPEdMUwtgWgSp/qJfwOXzTRlKgo5RvEcnnW2kr4gWBt6do4yLjKz668B5TPm4cSY4JcGp+5hF+Juv9TEtyrhF9lQi4FbJZeDVLCL/Hwjne8IwEUzRJec0mwpryQPuo0THLInmZvw0Srl/DTMcT6ps9aSvin8TTKNZbzgGafkpA0Rusl/LobK+GXvPPvoxrgkB66Ev46s8a1P/jBD6Zkg6T62kp9lfBrTIPV1quEX6zQlPAY9Z6H/TwGr+7Ixlsv4XePfNpLiof2HXaqss5mY1d7OCD2oIMOKiX8wz6UOf/cciX83i8l/L0Y4E3XSbpLSJKmEYsr1VV1QpLn9a9/fepxIR4QW2pY5VxYSvjn/AUcYfi5hN/6jkBTt6XiyBEuOdGPkroSH5oXzRJ+c0tc3fN8HA0IQwexCrHy6r3hh31DJk9Fp0SdykzxJZ1jVV0SljdFImOzk06qgr5bRUfXKg7jEx1X/nKMdGPsRcxBrBNPWGtKCf9UHkenLjIqFtjaEn56dbQ9aFzUD8TDlPA3n/ioTuvUGzQDg9HYCQB4xBFHJO0vz49OEqCObIN3op8mUsrWHLhkupULCdSAMViuWFzA02kBI9NwewaUgE40fQSpSqCAQNdcc02aX/wwiDmYasZFV40f73Of+6TDnYOdjUxJJW3GYsUDw3hAqb1kic67WOfmq3KrQw45JAEIkmm9OmwDTiRSlPQAPgGgAkeav5Jw/q6xTD/mXVbJ4PreZTqBhPqBNljcNNim1ZHUQdU9YPCZt+aXEjP3KIGkAZ51sVjxQBs8cEYcrACXGhRJbirxlQhRMi+RYS7321xmqfHkJlJ0QM0JICG2q3jR3ibxspSshTjC/CHpYZ5rUGpuS1aIJ4yhLTI0GWBSUmoff0no0mHCK900VjGMQ2/dlP47/IqLrIeAVhU3gFVr2yBNftrwXpV7aJcHlnu/7NEa2vRjkpb2Z/Pv+OOPr94UwI4kqjVEXwvEBvucKqpeoFc/1yg/UzxQ94D10znSuimpJwHt75JO5CEQdWYFpM9NpMwhc04SwjlNBYg9t6eURpwDAachMlyFRl71q9VNpGhtIxBkGQNEG3PSuTiRiyKmjqxcFTpXVWwkVUzSib9Y9i0arbki2T1ZM8TG+gPYw/UzKVY8MKgHRsUCWwegmiTAUxkHmXL6p3XLTaRkRWhcMSWdgt3SRGrQ12c2fh4oYmMAotYNqOAw4Pd+TeMxm4NFOZvMFXC1HxZrv9dpy8/Rj8XcrZc9A4QAVcNqvGF/A2KVTzh4AlDNS6XWtGpnJfBoyzMq97HYA9Z/OqT1OQqw1HVb2enaTNAIFJGN944DUL33Sl2f/exnL2gJLudv77KyQQc277LvAs4IrHffffdF0jHLfdc4/l+wL6CnJ5kNMKLqQmBZrHigTR7AGhOLAVmyYaIB/LBIxmWATuAsZrh9yOHPfAW89JPEu/baa1MzSeuE+zPH/S55k7WYx3Wvo37P2vZxYJP1spcBpJQ8a7xjXJ6HNRW7iB50P0nnUe+7fL67HvB+iQOxQr1f3i3vmIoxyfVB3i9zWYzflFsj/6EKA1tcokP1R7HigVE9IC4kQ6ERocoeAKpzDHBOjGc/mSVDLoCZGIN7tyeqzDCnJCAWWeiJBmpcVTvuWMUGUcWmmf5bUhEQSQqxbuYcoHKBNABEfepTq2A0VME8qqq7333iriI7Y62hhVpfazCIgeCDrDUTv9lygZnxQOcAVOweJViy6srBsjm85nIQwTkAiB4jgFWGBNhqMVTiuJyN6rTlvr/8//g94JCDxaJDouyTQxJGVk9dl2Uun8vXlHJoFAOEaAL14x/Byn2jgyKw1OajlBKDVHn/KOYZkAYQPAOYBLr9zL1Rrlk+210PAC0Fbsr0/FlWXSb8P//zP1OCBHjaq6lT0yM+e3NoNtHjFRQDQpqdO/v1IsBSMxlNZyToNG5ZqVJ5mt/YfPYue6GyxnoDHX6iHQdEwg43v3PzmX7HW36uGx4AYnhvrffWZkzMZhn3pEdKGkaJOPCO9IY9ViJj3Aa0IRdgL3dwxCYapJTPfOEryZd7RnMM9zhoTGHNMT8dYu2LuUFpc60Qw5i/dB79n/XEftxvwpFPlSpi3/brU/cGnHJ/xiWmNs5ixQPj8MA43y/7rDUj97FQeSbxaf82r2cN1BqHf8t3/J8HJLjEOIgbYqAttthioLW+ly/tkdZka7NqButqv+vxtJ6N/VyFZE6Eie2wTJvm54CgwEZnMXPG/r+GxRwL8GQVABqxYt18B3LaZZddlkBJEjevjdL+NeJeIKv9XPXT6143FVfYw5CoEKqMH7Ar1i1WPDCsB0bFAlvHQF3b4gUszY07bNpKOhyqLRbYBoOAQqM6bdiHVT43nAeAKcrXHHTqpsxHsDUIGIgBc/rpp6cNMxugASDvcNI1U/oMaHawyyYziSVUSn+79rRnczyy5bLLgAXghzJfchD1hm4CQTpMWJfzZvY+iUXsgrr9WZRgSSgp1ZIUso5hCdgTMXaUMQ/Czp83v3ZxvJIQWNjmFKDMoRMwsc022yR2yTQOh5J1p5xyyqI9B3gnZnvdlA5b03q2mEy5HBTAY291wHOww5bPB10JDsQAh2CHf8CvZ2N+khYxX5cy+nZY+fW4hU+RBw4++OBpDbdcp3hgIh6gcyghSM+7bvR9D48yYw2k1tpFfCJ3VL60TR6ggZv7m5Bts54yTHqM+q4ajXv7i0Sf/Vyiz55Dn5QUzsD7eXxPZO2qyMZXoZWxyG0SgIhJ4vC6SfSpyJLsW2R77VVF8FkF66EKtHVijwCoq9IEQc75QJzr+fOHPXbayeGJDbR88dQ9MCoW2DoAdRoeHNVp07jHco3/8wCNE1qGSu+xMLDUHBqUtWIlW/D7ofCfFALYZB9os9EF22OPPdLGIECjKUgrsc7qmvVnACimFWusdNOUQinFePOb31xdfvnlCbRSrlKseGAlPUCrV5IE2+R973tfSmbQbQL6A4OU0muG4pBF4/Cxj33sSt7uVK9N45A0hiSR+UxbDpuPthW9SWsgfUM6xxKJObgEQgu+JYwK42yqj2zFLoaZI5EssUjb2nMH1Dl8SjR6RzRnmaQBTpWU77bbbml/BQ66NqDP3FU26f+6YhdccEGqxDAm7E5MHUwZ43S4Nf/8bs5az8gD5IOoAyEdciDRUvuwuAczjy+tkQ6N4hYJUGsj3T4l08WKB2bRAwASpdMSPeJUjWGwC8X94nw9MEhVNHV+Z3Gs5Z4H94DznkSxUnR7GBBNgtAZRhxEF7rZOHTwq7TvE0BCOtbmhncfcGyuiAnpkQJQB46FNXAMKYwQEK2qrbZaGLTEHB+KIRDT/JIEBKgeeOCBKdEn/l5k4f8kAxBn8yQJMCGzRyJP0T9W6WiPlWixx4pvJBdLcmVCzu/4146KBRYAteMvyKwPD2C63XbbJR1PzWWwkL30msnQfHEgASz0w0yzETlUEp92qAOWAl+VCDl0AilIQXTFlCPaGJU4AogBMYBoBz1lhve9730r5f3FigdWygMCIfMXgCDTrSmZ99P8zk3fBG6CO3OUmL1OofNigkYHBbrDgkQsN0w2ALMSR6VdgFTJkboJtN/+9reng2iXkkLz8tyHGSdQTYmbErxm6Z7koPI+7NBJHjZIZgDxvZfmsPmK2aI80v5r37EXdcEwvbHiHW6bOnN5XQN6OvBJVopRrGF109QJAAp0Xluig8+wVsUtnrFDLYkS+7eSU+sl0KlY8cAsekBy4YiosDg2wLGXxH71hdjfvO+PiwTMhyM5sU/8/S+imaTE6iDyHLPoi3LPa3pAgh3rUo+KOuNShZLYR0wkWdc1o89tf7CfN+WYSBySZgFuDiQrFdWI1WGHVYGUVhEILLgsNxz+wAc+kBJ0OwYwCkCloZ0TeEBblaALFpUWgepW1TnnVEERn4j7AbriWFquTV1z1RwAZknFLbfcciLXL1/abQ8UAHWI5zuq04a4ZPnIkB4AmgqcMK8cCrFYGPDABurg4JCCqbaU0Q3bYIMNFj6bvwcwg8GV/14vGx7yllvxMQBK3nT5ClNFts6mSBuna+NthdPLTQzsAQkSoIDSXows72ae3/kdBcoAHvzdO42pMi+WGwKYw1gX2IRN/wDHlLI1DdAMeMVCL9Z9D5B6oH1GuqFpEoX+37sgSTEJU2aYAQ7va56/gD4a413bc2688cbEILV29dIbxgYWX6iOASL3avZkn8bOVSWi+U7TgLQZWK37FKjqV9d8Oon3snxniz0Qe/6XIyHwmGj8eKe4zVtCyuI7sb/fPv788JCoWD/mR8A01ZdjHj0sWIibBZmi2Px4wHmM3rukkbL1pjnXkDA6DCjYMQMOO7P2qtgAngI9sS8H0gENSbdoMLNK/7RmWLy+T4UKkLp+zgZeS3oCcoGpi4yedjRmTr8mYAg/qjxI0fVKnmDKii/sn8WKBwb1wKhYYGGgDurx8vNT9QCtThsoJtbdo9ufRZ7RRMKulDGjBfihD31oyfuqH0R8FgNVAySdPQGo+Xu7AqAqF8xMI+MVaCiFwZQBUnVtvFN9KcvFxuYBjDmC9YTqlZxjoUqU5KQIsBRzWpmrdxagSAdqXkzZFk1FcxiASgvKvMZAzR3I1wagAnescfvtt9+8uGuux3n22WenuUOipmnm1jnBFFFSriHaJIxGb2706X11CKPJ6uALQO3anqOhiTJCskB53Nmv4gjs1FzWrwQRW6ipWcdnmqKKb3QUblpumJJjHiwg7FZgKgC1az6dxHtZvrOFHoj5EeL8VZSVVf8eCYYTYm+7KRII944qsIUYPxrYrBsJwI0jwXpAgKl3CX3v3zvzzCooZy0cULmlSXjAOirB5JwmDmyaPYb+e9e0tY3zzHjXxX/N6iL/RzZGJdJSlQs9n0fsVVG66QsW/fdeoWd61llnpbhSfFk/Z9Pqts+R0yCDt8gwUGMOxyY4icefSvdpwOpP0qtJsSSlfbDIe0zE/Z3/0gKgDvGIR3XaEJcsHxnSA0oB0fNlv97ylrcsKuGXoQMOYJ8CXJYzJe2ARSXtDiK5hF/jFYuw7BswoiuG0YJ5CzjFXMsl/MaqpFJ35i5JFnTluc3TOHTPpptIsxGA4N3EuFK6pHSH9p/5qqQPm0s2frlkSZf8pzQNUGoOa0iTS/iBZJIhGKaaxAl86+AMNiD/Aa+e+MQndsklZSxr8YCDJDYOoK552HAAwkI9IEphByr5G9Db9mqAvxgLuzyX8GOJKOG3J5Gk6IJJ5Jh7dPmah/sMWOtizN/Aa39uNnXjIwkk8U2vAyI/0X3DAsJi9XxzCb/DtfXSHM8NVrrg1zKGjnsAeBpSIpFhSL9/NPb93UOay/wA0JDl8s4DkEiOSEQcGSX+h918c3UH7LlgnUXg33EnleFlD5A/ESeqnqj3unCWI/+goqJX1cWse1AjVXu6/Vzclw2oDFSUHMdAHaiRVMTagUZW1c9/XkXnwoXvvOiii1IMbq4BZesl/Ni9QGxnyEVSNVFCH9nYKur8q8jaTsTdSAP22O233z7FEnX7l2Ct65mAQCVRWax4YFAPjIoFFgbqoB4vPz91D1jMbSaCKUCChVNW7phjjknsUVmqfg6FMmwybRZjlH/MEUEagXoHHtnMps7K1Ac7xgsCXmhL2vQAMfynk6+sHT08h65FmjZjvHb5quKBfj2QO2wSxTcHgaaSGRIbmp7JhmuYotEUzV7A/7wY8Nj8VcoliDWPjzzyyAROYdFjXujg7Wf4DEvf+mhua0KAcbg2YGZefDgv4wSa0wRT6vb0pz89gWtAPocwTO9eWp3j9g3NNBpq9lEgP2CQxvE73vGOBAACC5sHoXHfwzS/T7O2r3/96+nAqRs09o45698lPDR5Y+QTgACeC3CInI4kkUSuxNFSDJqsTwekpfeGCSRuATaJh8RGAzcTmaaTyrWKB+oeAJwGKBTBaBWoWKokQ27QfA0Tm+a5v9P3lVzdKprdeNefJBHoc0Cg0IdMDWyKdd4DNwdwbv0k5WSdFQsBD62dStlpoza1pbvgFHs3gFhMh+wjAfnzAD5pi4uDkQnMjYEs4sZoKlJFAFlF5m3ho+agfQizFWAqfpSgo6GPuGR/sc8ssgBdA3VdxWaNZzMpowVLQsBZVZxLLofclz3WGYG2eD/n/0ndX/ne2fVAAVCHeHajOm2IS5aPjOABJQQCK1qJ9RJ7Cz7G6CCbJz1VwKvDZjYHHVoq/bBYRxjGinxUIx4gCx9msyE70GrIVax4YKU9QAeQXqeSWNl0mW5BU13rVNCsRBkAMW8GKFUSTTQ/G9AUM0H5r2DaYQJLDUMDM+Ne97pXSjJh/hWbHw94R2iGOWA6VDgY3THKX5VAasY4DcMYOfzww5PkRDYMcnuR97hLZq5J8ugGLTbJPic5Yv5l3TbxBhaw2NPP5DgGI5d+cZ1Z1cs/ACSJk7pPHXAdsDFwihUPzIQHgC1AnwA9IghduGXgqXlQ7/QtFjA/jjrqqOqZz3zmKqZdrGdBwa5iIlXRqa6K7OBMDLvc5GgeAJiJEZ1jcowDPEOEIQ/TVbvlllvSfq6SMI8bgKjqYSiyT8TakVmt4kBdxeaxyG1iB/Os2VhYwlOjQ+fGRUZrPYg4aR6amxMyMYwY2LnAn/Meq4rSHus9KFY8MIwHRsUCCwN1GK+Xz0zdA7nZgvJdi6hs1Jvf/OZFpQ393pQSQqAiRoisHkZmbl7T73fM0s9hIBHhthkDm5X2NrsGz9J4yr3OlgfMV+wzbCnAgVJ8DJMmaECn2M8wPy/zjUWp7BVQ0Cx/XcoLGF6Y6TQYBVy0VTEYBip3apGb+UW5FoYAMAqYUhfOBzbzGaBGUwE+ntWxDuN2upAAeJqSwHbJtaYu5TDfO4ufMce890BUQLvyNtqo0zTSMHSNHcowyZQGDsyWmeYNj3gt6xRWOJa8ckvxBKZpc42zB5NSsCZZj8xlZo0EEuT1DwDrudU/L6mEHfQf//EfiV2MbWwdLVY8MDMekLQPIkQCXmplye7f3JEUxJY3P7DuEB7yHFkY4/e/4ZWjNAAAIABJREFUX8XkqKIko4pylZkZernRNT2Q9yoVcWK2+9///tUjQwe3V1M+ySrxD4kY7wTgdLnEUxd8bm+45pprUmWDmM6+oNqhl4/6Gm/EjkHprqpo0BRabos+wsck8SQFXQtAqTpiDYZnsMTjJlYlQSIunbR5N1R6iOmZKrRtttlmrmLcSft4Hr+/AKhDPPVRnTbEJctHRvCAAwcGjTL7umFZYaD2m4mzESkvpKlTN5uwg4lMd9dMecN73/veRcOyGSrnB1AVKx6YpAeUHGn0BjgA7AnKgCrmLs0zLKq6maPKVGW866Y0Vgm7RMByJlvvmkCNDTfcsJJ8AToIzs3/Xt08l/vOlfx/jD5yI4LIumHjYmXMwyFibf73vvDBDTfckJgIWBLeNWuc4L9oY03/zVXZgC1eN8/DOwwQ6ZoptdTQA4hvXTMfgdcqW6xxNJ2XMo2irFc+U18j/dnnSXCojsFgbcYtRx99dPTwiCYexYoH2u6B2IMjg19FoL1G1+7zzjuvesUrXpHAsbohOHzlK19JRIdFFlI2gSqt6iY+QfZb2106y/enYsZZTBm+OFCSLyegxGmDVBbOsh+WunexK73TnDgXu/IRX9G9J2E3sMV+Eyh1FQj0KimM2K+YGNk+5HeNJoGpSEY0ZklHLTA9I1mfZAD8HqBmXUt14Hvp4wPOC+7L2lCP5yVmvSfzmijvw3XlR5bxwKhYYGGglles9R7QmAJ4SvdLZgzTSumqQwVQgeZfPwybN7zhDZUDx/7771/RWyRWL6uFjYrd8YnoTkhXpiv21re+NelJOoTZAAEuNCb9uw7dNGFf8pKXdGW4ZRwt8wB2AZF3gQ8tXgEPEwDKcsugawxQZ0rqtgkwpJ2IJe3d/VZkyml50n4yT5fS7RX0YZQDXK0P2IiZ5SAQFZSbC7Ni5qsmUBrF8CXGGT0wjA3azVipdOLm1fgH2xFLAusUUKfMT1MEhw7vDVCr2HQ88MY3vjHtp7TG7a8aU2BmHnfccemZOAg59HTJgMWSNtabDPQA8a037OXRAGdtGm3WJglOIKw1UpKHAWOtkeIaAIO5rrkH/XbashIG1kpNpSSR51HapEvv0FyMRQMo8XWw42OiLAzZIRabDFtehZn1A3tb1cixxx6bGp6KARZZ1l+MuRHlFnPhvq4N0hlEHCPRiU0qDlSFRBPf7xoeeifm2bK0FVKB2I+PxNOSaRJufDQUgKiR4047VaGpU8UGVP0uvleVl4S0fQhQyZyt7UNiqCT5BjTVMCo0UiMgr6pHPWqij0c8L751VrC/SiraM78fLHTSBpkUMdGbKF/eWQ8UAHWIRzuq04a4ZPnIkB5wOH5+AAhnxaL99MiKfSOCsF8Eq+3x8fe/X3fd6ukBthwUZQQ2kqXMxvDAAE+eQ/8zDnD/FmVE10Zm+8kR0K2z7bbVblHS8KMI2K4Ksequ2OZRBrhDbEDv3Wef6sfhx6tizDsEiHq3aEaxR+jR/UP48walGMWKBybggdwlE2DS1KlSYgzAr3emFixtFIDnn8c8PSHAl5uj4cz1MR93isDp9qGF9sxgr/02DlqfX6KLt4OWwEqSJAeBeWhKvAWeAA3A6izY06OM8X9jnbo0NCVvF3P1kmjSs1WsVw+IBNARwbw8PQLJ/y8C6aHLuWbBCWu5R+8LsF25NP28ukms+T9NEJSCFpuOBzYNYGSnSF6cGom5f48952vx6wkBbt81GCu7x/P4fiRRrgu90K4YoFOTLIdOoE/d6DoCR5fqEtxrHczfIWkMnD09DpB7xF59UqyDPwyt469/9avVU2J9vGMkmHaJRPJ/R+LgS80GH11xcBlHdzwQBIakuxjJhTprVJJLc1PSWrQdJQuVcZs7uYJKokyTxAWLJGwIfFeRpaiiBXt3fDQnI1GZRErsKaFn63nXDSPf/0kKAdbn1ehdI7tIoGsgWDcJN/GNplpDNxCMqolqzz1TM6nvRZPWcyLRqelhJjrk65EOwBR+WdzDH0QVSdTRVxFIVxF0TfzR/F3oqwLUrRFYsXWjl4z0hEQAWC1WPDCoB0bFAgsDdVCPl5+fngciu3xjMFgeFgv2neKq348s1Lei7OO2+PNDgpmxSejdka7+RpQYPCqYqUFB6n1vkTX7eZQN3RoAjJYq/xElC9fH4VtbpQ3isLdlgKt3jV//GH9/aLBcgz4z22VBAR78NjbeH7zmNZU8/89ivN+I8f48/qxg+v8JltbdYrzUJjcNtp5OqLmMY3oPt1yp6x74ahz0JUAwSpp6nLLIJCQeFRls8hwh3ln9OLpL/y50/YRJP4l5eX28x9rQ3C/m/SOilGnd+Mzfxt+3iHK/oLH1nKO6h2IeYms1DaiGCYcVR0Oq1RZjjai1+tsY5xbx518GQ+Afwg83x1q2btz4H4V/7hXj0Vbqt5EguQ8tqijvmifD+sM2xqLHUmrapyLZhqXhEF5swh6IfflXwT79UYAkOJQ/Xb3H3hp/vmfsN3bm36eFHL9vHoBjnNSqoGVO+KYm//W06TS4IAHUi2UKCAAGOej2Mqx6v14Te/Uaa2TEN5cH+P+IAEebcct9ojHYI2JPF7eEmmT1sGClx0SY7bhl8o+rXGElPRAgSCq7V/ZbM+CQWEGlGcuNpPwdmIZtJoYg4bPIYj8MFGkqGowr6bYuXpve84cjGazSaI3mRDFg1TbK+lUxzKvRwyZtgRxEDqZp55xzTqpQkLwb2iIx4bz7u5DJ+3Ykmx8ajO9AreNgvJpgEAnC3wWw+u1I4D8kntntIlkdzIcqysOGvuQgH1RxqgIDSNq0HM/rBaDZXLHigUE9UADUQT0WPz+q04a4ZPnIoB5wyIoStZ8FUHBklCz8IjbSdaK8TSdfBiD5vQBd/iuy1EcGq3QjHX9luOMgs0gTSYfA0Iq5LRb/9wQIc2Z833bBTrs0SoFJASiN2Di+98Zgebwivjflsh12zj23CvGXQe965X9el1Pjvf766v1xuDo17mi70Jb6amyC5AqUPz8imDLXxnhtSamYOcoCo7ZyUVnVyg+k3MGse0AziMuCRQoc0Am8btiDOks7PD0e8BdA4W1xUDo5gJgPhubftgEGfCyy3D/84Q9T5+57xBz/+wDL/iqAmWfEZ6Nme1Ug1yjPdj1MU4F5E5DQYEkpLJmOVje0oRW3995VFQDgpeG3t8S69bAIIG+N+3ewkG1/QXTevi6C691D5/WAKHO7vZJIc3iOGBvK/DQnogWm3LNpSs8wNfbmy2KT84CGMPacYH+fEaC+3r6Pjz3nijicAUMwgDePhknfWL3HRgFgFbSaKk6HqzQRZ9jsqUrorXHNclNVLzlJhEXUy8gbfCEqQ+jDLlojw2+3hU9/G+yf0+N7zo5qm0cH6PzpYJ1jrSrj3zDWgW/GmnhgANG76U4erPQqDtVBvZ9hj5Zb76wHgCDR0DT0JxYNUZdvDFOVIfSD6zE+oI1sj/4ERwRLbsEkGCOWjwxaFeUmnXVZVwfmDE7OZW3sQYzk+wbDeFfd4ufUJA5UIJC5okPaNAxtwCoJhJEsJI/+Kfafe0a8dM9ISifT4M0cc64OuyXYn/8TcdQDNaCaoqyCua+qTM+OZjxPqkkjaWf4nHwZyQ/lw3PngVGxwMJAnbtXZgYGLAv2+tdX1X77Vd+NoOrBwRbDIrKpOgwLqnSWF2jJzn06SnZ3CcAw6GVV/GBVnXbaKhBVphsYSmg7DmuPDJDGgRpwSjvMwU6ZMb1EHXGVk3xCMIaBagNRFjdLBzylFdh8spUBAG8bh1gNuGQyb7zxxgRW2YwEJrr80pj8PD8r43AAk40selIzMEFm4xYzwKUUa9soO6+b95EG1gHxDt4jgILUVTfe2U0DGAUkeE/9//OiPM/3aAhFA4oO0rnxKzHYlPQEw3UhWx4X8L7TCAUwNDtUa0aBEUs7UKfsVlqI9idwKYDj6owzqr0DMMFCoBUmiCbkr2EN1oGg0Xr2zxoBmMOSRZj4O+zQyqGN+6awmOl2YaoAUesBNuYScLVX+du472Ouvy/mcdTdrko2xnv6RzEv6X/acyRQsMvttw56m266afSe2K66JJjmiS0pqWLPGaYRRkucnstNMUyNrW5ZTkTssraGKJp00Hh75jOfmdj4ya69NsUtvwwg9Kz4/a2RFPKuWwMwcoAKfKzBiLgFA+cj9OkkCiL5lOIW5c3Figfa5AGdvzWQ0ihqdeMat3fMMcckcPQdq6W4cgk/aQza1hjeDroPqsem8ffUBIcWIy3HYjPlAQ2klKfTLW9K7GTpp14x3EwNcsSbxbDkIxJF5kHdEAvOiPgQeKrCYVRLUjRxbn7Box9dba7JlPjTGTr25m/E7xcFKeFVa2ELj3rtpT6fJW56yeBcEfucmB5ZorXx/CSdU757ZA8UAHUIF47qtCEuWT7SrwdoGilJiKCqirIBhjFGTJuINYDk5ptvTocGAZcuy9cHeJrK5zDSgJ+RlYofXtVpEDMLwLDeekkM20Eb+0wTKY2oMNIcYHT6uzr0FlMmK7THEgjhEBKlRSnT3XYLTaG4+VUHqGC0BE0tHbb4CTvLRitQJcpPe5IfgUlJP8dmGSyAEFJcBTpHWUix4oFxeEAZNUYoIEuwDOTCSqN3tmWUCe0SpXkhVFkFjSslLTAs6TA9OgI5gL8AktYTtiqw4huhn5j0VCOJkt7ZAFXT+766HBjQgNkgCJcQEVwCGjDFsFx8705tPXBlFhldYsBwBM50EK1XAkRljAceeGD6dW2ALMoeTw3JA/pQiSkQ0gRp/gJSVzfsGsczbPN3/H0kjTTrsW5rsANMVfKFiey508IdqslCmwfdlnuLxEaau8DT8LfEnX0aI8ShD9Bnv1F6iy1DE9QcTMmU2H/SHivZp6y3wVBvyxD7uQ8MVOsSJh1pECw6a97nQ68U6CPmWMokimi90X/cKhK2dwn/3Brg6Xsi7tkk1kxaeGQqstyJtRDzRvyjY7K1IOmvaqjDp+a+Bh+zELf04+DyM93wgH06KqASAzX2tGwSpLQuxfX7BWmCDI+Eg47j/iy5YF1ZZCrEJA1DoqWeQO2Go+ZjFKRLxIHOIPYE+zS9TaxD+7g4cG3N9+bDQ1VqwMgf4la/xIGZle3PknP2m3EYSQWxk2Qg7XhVYs7WzolK5Jsg7jiuudx3iOcRCMQO7qsZz0u2OMsXKx4YxgOjYoGFgTqM18tnJuOBADGBBgkYAaTKgIXJVmpEA4yRlWOAGAdmh4973vOe/3c/wS5LQvWYp8qFdO+ssTEwlg499NDEaMsmWAPcLAJWHOqAi1itr33tZMY7zm8Npm4q34uDW51Fem4EmsofHLSyEePG5nXQXTCgC10b/gut2GLFA+PwgCDMIQjAoKSVCYoBXrsEqHJ7bCtztFaKr+xVyZ5GA9k2jky4QGqHOrsSyIitSdYj2NbZ/jd0QnX8xgATgDEsc4c0QVhrg/KYk4GGrgKjapqJgmggjGx8NkxUuouvra9NAC1JI1rQuhSvXj/H8Rzb/B06kgNMAU3ZNEKwvi3aG9o8iFm8N8nKaOLQBOztpQcHyxQwkk1DN4wZ+sMLppkUMFVpbr08d8Z8YV1zyL3uuuvSoZOJTxxCgT/LNXgT01gjHVafHbrHm8Qh9j0hUbRZJJA0R7N2YVO/PqpFJJGy6UBsf18kDxBrRZLkCT3a6pBDZsyT5XY77QEdvLHNJRRodtdMIsweJ/FQ37NVr2gi05QASvu+s0Aw0IrNpgc8ZwxC1YTOeNkQPiTfAOjzbnwkUc5P4tpsqjkQi8SB4zIJZ8lABIc8B4GzKhWBlOMCage9X+OWQBHPZ7MnAt1J0rU2nh90oOXnp+6BAqAO4fJRnTbEJctH+vGAQxRR+Cj/S+W5NVOqis2ii7ZDikPDG+OQsEb3PYfo2FwqXToDoEmlvjVz2AG6+i6g4gMf+MDERG12gkwfCeAxsVoj+5VK+ttqkbmPgaxi3kY5Q9Muvvji6sjQrtFQBViMEZQa9zSN/5VZGW8dlG7ruMt9zYwHzF+aTsycuxsGKb3OyHpHvf0ac1TXT/NSooPcBNaVQK5pvwmm+e8+/enq06GFdodgTivbx0oXVP0sSgUxrf3Zd7SaiRjBa5rDsunWnIYBCYFS9q71gk1/SIAjkkprBI9x2ExdiYNNH5SFmXk/Rr1RIBT2xP9E450NgtlMpqTYBD1gj47y8aBArwL9G/bpmJNHH310pdEXoE+lR7OTsGf1H9EAbYN4Zz8bzRs3CVaa+btSB7V+vPVvEVcAOiV3zEOseuAwA+BjjIsxrHG9mqMsdY3/jmQS9unNUSmyXrDM76aaZLX5TrGPvVvcomma+Kdn3KKBHj1k+3iwuooVD7TGA3oUAE+BIfa7mmGgviISoZKt1gCEBu/7GkkwEhXi1w99qKpCC7zY9DxgHSLJgikKcHOewE4cBewEkNm77eG+714NXfvpjW76V1L5aG8EIgMFJcz092iWpAOY+cjvfDSprvNiZnE3ZjADUNL3ttetlOldoEoUgcq7Ys9FHujVOHSl7rFcdzY9MCoWWBios/ncu3fXmBuy05FVS4eymsk8KW8DAGYDHMi+WVTXAAMxMLBPQ9el3ggK8KoMAdujacpidcxdZACfAF4SENvmRiSEvYO1l0rxG4cuOkIXhEZs02jJnhmH1kXGv8r/YgPtBcR276UrI1oxD9AqJq2h7LRWgiRAlO2mb5QNm8svJewSH9mAo5fFnP2LSLpcEQzsmwKAoeUkwNxjjz1GCuqn7pcAR0Jnowqx4lVSHDV7QzTHy+POLF7/DZDSgGYRw806CthywNSZu1jxwCQ8EIcqGr1NkM77iT2EAd40TWLepelLmJI8Uht3ij3ngJi/Xw322eUhzQGMfNGLXjRWZs04ho+R41DpoAvYVMVBh1RiSOl+z4TkoBcOPffQGVolb0BOZ7WJWzDxsKybRs8ZY3+RZXBbIobWbLHigbZ4gP6pKgma5+Lw1TITSA3mPbCkvseZZ2L8hUSBz+u4LU5VgbJauqctw+vyfUh40V8nj2SdBpqKwYDdNCoXadR22RFjGhuJF1UyEm/1d57WvR4dTQ3/MV12rV+jgkLSol6t6IfplzszN/sYTPp+fD8tdVVnNF+zOfsjQ5Busi8WKx4Y1gMFQB3Cc6M6bYhLlo8s5wEl5PTUYuNIh//VZmOheagc8BNRLkhLzabtICZb5wBjcV2nrttJFxHDja5i/Ew2rC3aYUr4BWT0QTVmUBoHZHSgw+paZPFzidGK0dFWe/zjVzW7CtZe3YAuxiajSQPVIc8myXca7cjq6YK5yOhDOrw1NafaOvZyX7PpAYkJyZLQOK2bjqPmOL1eZUoCc8xV76nyIqU8kiCCeRqAgs0XB+B/e6X9UQIvuKfl9IDQPpY8mBkzD2X9g9lRN4GrdQ6ozC9ZysA4ZeHpQq+RCFG6ay0AxBQrHpiEBzQ8AoQ02NLeSawxXeUlPTUIURJ4QsjCfCgYY8r7JTeUpDuYaYZ2tyhzl+j8YSRD/EwGUSdx28N+pzGIP+gqix0c4gCbAFWHXeNIOqSj2CMesUrDlARRzUjwWOvs5XRQAdTf+c53ko/dE7a+6y8y7H5ySNHFuVjxQKs8YJ8TZyrljzj05wGaYqljbOtToCkMiR/7/J6hc4qR6H2/Q8T6KZ7XLJX0j0Rhsal5gJSCs7OYDMOeAf8w48UjSCijMFGnNpAWXEgHee88ZqcKQVqmAFN7o8apEge0Tqdl9jKxpd/F2MeFdJ2zt+S9eYjAgCE+7eqQR8Se6LrWBUmWa0JaT4wgrsDelYgdtNJjWj4t12m/B0bFAgsDtf3PeD7ukH4ntoQMcwRS2SzmgM7TokMggfkXv/jFCUDFUCNurZRfoxlBV7IAVoK+UlV3vnMVlLWFRlQ2A2CLTUojC8CE7JWNH2PN5mFDs0AvMtqKAr4AWltpNB6xTpXfx4GqbkAkwaeSQzqKugRj82rwQWdIyQjtqUWmxCrLFrRywOWmZt4D9Ic1jwlN04gYF4aDfar8WlMB81NS40//9E9T8gTry/wVUJn3OnzTHQQu3E3Jqvd49dxVAmjdOCAYXUCamTAdvIHKfFIzJVTmL7Yb/2DdY4HQixPYWgcFkosSSMBTpY00paOZXLHigbF6gNyEPZZkjLm32uyx9lCldfYb7GjvLxaJf8NQUo4L8F80P+luR8l/nM6TBqIDObaqtaAtRr8VOOCA2zRNGZlkxtBGesg+HnFOFbIG2RxoAcqaZ1j3JJHMe0x7h2z+BmZogLnIyCpoJEUTvVjxQNs8YI8Kxik26dsCLH11rAnmPUaeZjkAVHNO4gXh4bMR2+6Ene18gLlKO7nY1DxAskQzT8BVk4kIRHUGcxZryrRM7QZn7ELkV1RU0TcV7zqbOZtKMCK2IL2IgafV8PTsSLTZvwCVYm5JOvu5fVqS7jnPeU4i3Yy0xw34jJzTVXcgPR100EGpWarzuYawfkkm6pVwxAzrpw/okvLjY/ZAAVCHcOioThvikuUjy3lAGVoshtElYdFPZtYokFP2C+DJAJ7M37EvsDCS0T6lf+f/Y9GPuvzV//xvC7p4Ppu/R2ZNw5H89yyevXATwaZJuqzAiDaagxd91gYYRZ8ol/bWx5t9t9bxKrF0oK0Jlrdx2OWeZtgDAZQErXwNtjlwH1DQfEeBp7qyemfNV4GdoE6pkU6tccJapYcW+oNMdl/QJRCULJgJ4w9N3UIPq27msLlsDhtXLq+qz2kAK12oBdNYA5NN0gcbv1jxwDg9oCEhnTp6u/bY1SbRkfUKl9pzHMqwSvbff/9VnwTEBuMcOOJdx2DVIGOrWqfucd7+oN8lJqDnigmuEV3TMliMfTu00StVlhxspMjsLnyNZHFme9V9qqmOhNJa93H+tJeLh4oVD7TRA5EEDUSm+m1UXUStWHVprCk3xn53VSQH9BXfId7vLSO+fW6cCR7n/lWmkZ2SaCw2VQ9gAEvcSlj30sM8JwgwyqrFXMWW9wBAUgxbP8f6lL/TgpUgkzjABJ2Gqfw6/fTT01lYjF0/Z9v/7Nf7RGJPUmNaZs/FgJVIRRDodfbXpLGXXNC07rFcZ7Y9MCoWWBios/38u3P3hOV1lAYI1rpHW0AtpBZ4jAulvUw5G0FpAtyyYrJjyQCdGlABUZUIrdYH073Wxu8XZprs3rVRBrRXdBK2afheh5J6N8j0fXHtpMna1oOI7pXYtsZfY8AAmQDOftmIHfJo7ijlByplP64BGAOcAVK1jtbdecnKSFrhAUCnQxAN1CiJzZbBAg2ABGsYqCQ2ZOMBqN5ZvwNqgDC60ivtvx3mtW7ggNkwjWvIVJDjIP8xEwboBJxI1tRM8Gg81jsAKqbHZlG6iIGK+SaoxPDTJGvByKBE+XR0e1gFVBcrHhinB7DAYh42G8CR1XCIxtTEGMFAVeKOten9zHuOvVflg8O4w1rQzFY1LwxgVhMLWuRtSn7YI4G6jw+pHHpsTaONihGjpH5oy4nf0HuMkpuFr5EwUUUCmM4yJhj2Sj4BqHzqcEk7cpFh5QCbALPFigfa6oFYM04JNunjgikdyqY97Qvxr9+LvfEv6CoXzdMVeZKa4wFJVQH2atD4npBPsh5JfBVb3gP2RIA0FqpKwPq5Vlk6Jirw1NltGpZlYsgwKImv3w+ZPOxj52ZSMtMy2t4ap9JGVr1SvyeVGfZkcge0UIsVDwzjgQKgDuG1UZ02xCXLR5bzgOBol12qEDxc1J3Txg0EoYVkU6mX8OcMFQ2yhSYOARym8mB6SSefXEUt4MKVdYvUiEoXya8ESyuX8GO9ABWVLdBPXGRAWFqCmlK11bBtlRZGWUjdHPgAULLHumbmEn6HMSX8/l9J4CLDCjLWUvrX1qc9+/cF9Feu2igBNjBlTJIY3ledvHMJv4w8RtpLQuZDFhxoeF6wrgWim5HvUFa8ujmcjDQ2qwYrkiIzYXQgrV2XXNKYjvunkmcADU3YXMIvEULOgJnfi0zCJwLhaBVeBboyE8MvNzlDHiAbo7xe+X4kOOumvBOo751UbpdL+B0SaYQqSQSQSngu6IaS7sGWjp+/9NJL07sOgL2zxGBLDFtIgkcZYb1pG9D41JhvYpRdxC/Dmrmv03EkSppSPMqZJY3ELUDpXMIvoWINcIi0Fi4ymqgh+xEaH8PeUflc8cBUPEBb0zt8eIBzxwQAd0wkRTeKmHavaI76Z0GQ+Fgk/iUNttAjodiKeABgBUSzzjkn1Y1GvRJw2qgP0Rys2LIeyBJyQEAgar2EH2CoovK70WA1M1SX/cIRf4DGt/g6N1Oul/CLoz37NSqdRrzmch8nW2X8ZD34o17Cj0ggRtBgjsRfseKBYTwwKhZYGKjDeL18ZvweyAyMRim6C9mYLaBAAy88zT/gJwYW/Rhg6CL74z+uIuKqQhisCkGlhf8CrFiMARHbb799AiZeE92EfY/DiIMbYHHBHGoi85Wa3Uwx8zawc5X+Yt7SPKsZfUTNZ+ikKT/EyrMZ0rn5yU9+kthBQOUFczDWAZz/Gs1BBr6n8oHigaU8QMPM3Go0PpPAAIpKaPzRH/1RYj0ojcVwwKq+4YYbUoMorDD/968B1hwUwdRvg0n+n9E8CavcYQtQs9C5dxaeBCAqtK+idmtRB25sBAAKw0CThecfAS+Q2NolqbTIJFMAUtbAYsUDk/BAaOFFx4kqWsMv+na6xAA+ZefAU9rlWCQaNKoCoV1sbmsE4eD9J8HofEwkR/83fv9SgH7mr+ZTknttMjGHJm73Dk1hyVpsK80r6ZL+Z2g6Y4Rm+YKh7zv03hKISg+2ZhJJSj6BFzQGxS0O3X4H4FrvxDSL4hZNXpTTNpr0DX1v5YPFAxP0APAGKx1wgxBh/cC8VjUldl0j0T/Beylf3dsDGtB6Dp4VnVqVBhLd1kCVMioBNdcr1p8HnF35VBUkIBBY6JdEiqozAAAgAElEQVRmSUDUc889t78vGtNPKYcH7KpukvwUY4uhMWWdIy9pJPfHdNklv4ZEF+IUkBSgqrGW+7MXS6iIF8o7N40n0c1rFAB1iOc6qtOGuGT5SD8ecGjCGAuWRd1kPx1QLOTK9hlGi8DKv92VBmjdYtGPk9oqTcRoXlE3Py9z9W+1knwHE2DMGoCLEmPdQgGTcXBprcWYEgNVI51GJ2Clzhpy0LDJpqGHDcgBd5HxGd9hpep2Wqx4YFIeULJ7+OGrSkwbjY4ETK8NOQ+gRTagCxCmrvWJqXp9MLYeHSyV94TExy1R+i+oV2aLCZfKg2fFML4BpQDlRkdtYCk5AoBpNkCOEi8ldYssEiNJSxEgSxKlWPHAJDygPDz25KCCr0qE1ExJHSYL1ng2AB+wX+KSqfpwIPtZHBxfHPP97GCh3hJzHECIjdPGuSuZIQlbjx1oswOMe5W1Dux2CZSQNUgVL/G9dbP2SX6qoMkm2euQ3Wzqkljs9u+Q7Un7ebHigZZ7QJMi80hSX7zPSFMgSiBPzEwlScv9POrtAfwApggnzDqNBQ98W9TIctQLzcHnlcYjB6m6oHua33ngKcLAtDvei6dVeqq2yFJ2qi0kNVQ41CsvpvV4kCYQBzCcs0wNv+y4446JCERuoFjxwLAeGBULLAzUYT1fPjd+DyifVzIfWedA9xZ9Px1AHfdk5wRYOj5iYy3S/vMJIIOGKrHIJlDRQa9mFmTlg0oAADS0VY6MUiGB2iITxDns0RaLJi11XdbxD3zEbwQqY5wAoBt6MMbr8KWpjgMt9h5GHybuIsM+BRY7ENNO5L9ixQOT8kDM59viXfxRsLsvj9JXASQwQmdNZeqYa+985ztT0yRAgbm/BuBPCiCA0t+G7uJ3IwEiqSKD7/eZNE0ywi9BhV+la1wzhxY6qDLwmG6SIkqa1jhYBtsvMVmBMLSgixUPTMIDNLJJx5CeiLnX3GMdeGiYAfwk7LCmgf5YLf6OXX6XAEh+G3vWb4JZ8oM4RG4c60FbgRKHN+x30iGSuNhxkjnGMjajLcunYqBY/5aKW8Q99OHXiFscxCV7/R5gR6vjlrE5rnxRFzygZBmzWuWUPRzrDHgj9rduiNVVTEmSFhvcAxh8AFDVZ7SqMfjEVoMy+Jy/yLRIgmHia/JZbDAP0PpW8SgpB0j1TPTi8L7fgwTdCpl9TqyJicpUcjlre19WwtwP3VXEJ7EEZro4WLKlWPHAqB4oAOoQHhzVaUNcsnykHw8omQecYo4qPw2ggNFekXFSKgcQZA5aMlEW1gUwMMrZEogoOxpZq+oVr1hVDrdam0xWzWbw1a9+deFuBA++k7YihsyCaWyhqy55gDazT/MNY65FNjPQ0iroaulfBTo2QE0umqYkEFNoIXiim8hnNk5AarHigQl6QNB4Y5R8bRf6Z5+L5is/C9kIByglqTLgWJfZaCECLV4R8/lkusbZzM8TT6yijqeKk9UE73ZKX33jjVUgyFVQzVaNa7X9VWi80o3E8OCfbErpMHYWGPj0DmN9S58NOYNixQMT9YD9MsoPq5jDUWOeLuVQba/+8pe/vMallQEq8wRCYrO8NNaA9TSF1PRM8qCl5uCG6fnfARpj0mJdGYN1iXwGEGFs9u53r9Jtv/jiVU3lwgaKW449dhX7nI55YZ+O7bGUL5qsB+igYt6JWa0hzDzT9FXCnwxVnnN+biyM78kOqVXffnXImWE6AjuRKCSmESo0pHz+858/u0nnVnm5v5uBP2BVO3vZT4CE5GzIIGCAIhCshKmswDQVY2ZikjkHPHVfmjhP09yPahR9ULJJnri/EyPGJQ1UrHhgFA+MigUWBuoo3i+fHb8HLJbbbLOqLDBK0X4XIKrF3OFFAHBKsKs0RgL+YaQpTZfFW0/pfwjRR/qsitPbKh1PLEsabTrbxqFOKYDSiDdFya+SYBIAQBtC3kraNafR/TuxPzRT0gExymRnwjBIY5OLuoZVLNTI3svmvzEaS2GqONTSlfvbKBWmnQaQwUolZ5BAV591cKsDVDMx8HKTs+gBiY9/i3n7l1ESe+dgdpGN+FWwSWXgL4s5S7QeMKHRDABDB1D6qMp2/tQ8163euxtzN170WXRB73vWWAv4uRoE/XRIcPCJJhtYuZhvGOXWQwxU/05PMpXrAlwAyRj8hUHenXeirSOx55Cb0ADy4x9P75/SfUkOeyqWqQSe/cc+bd/RcMlh7OuxFz8+mKu3RXLg9sFUbathvtEOx4gjo5FLBiWArGEOv6+MZlqDsrjWOl4JYk1agMqSv6EHW49bNOJSLtszbsngq0ZURx/dVpeW+yoeWOQBbDwAKQaeZL89DXgq4WLuAf0cdO159jrl4+bctEucZ/WxYYuSRaK56cyU/abRHyAv//usjm+W7ts77OyFTY3EkhslinGBlxtuuGGq1pi2IRHZt4GlNEYzq5i0hnhTUsM+NLZ9ro8B0hqnxSrmp4/sLAtoxky/MmT1sKnrkl59fGX5keKBRR4oAOoQL8SoThvikuUjg3gAoBLBU5xaqmuC4fLoOIw5fO29994VUWkAKhapEgglv++Lf98LU5Se4mqwNF1O+T1mTGiZ3hZgy0YBkD4sgFXC9MDYp0UjDMGFwM2G9oehpfpFnT5JCegwrHHULOkoKmnGPsUICrbegwNIvXeM66oAV/iLvpyNyCGMbtG6kcm7DvMngqug4K6SOyjAyyBvavnZITygo7TyfMDg1pqf6KIZAdFvgom6YQSXD445qPxXkxYAKua5gA7r5NHBnvg0jc+Q8kganwDUWZqjy/kLKHXEEVWFSRZ+eV4E1l8OFgC2CBYutqmAFpijqd4XIsl0SzBW7wRwzfrFRRdqOS+X/x+XBzCiNSuKBMhtod/5wCjd3yTmrzJArE1gqcOOvQfb6b6R6PwKlnUcFq+LvfguwWJ9+CMfOa67Gfv3iBXNN3GHOKFuGDKSGhhcD33oQ8d3bfIIGlcGmHRbJFPuH9d4+Oq4JXdvrsctD4o14Quxn6fkaQDYKbnUpTVxfJ4t39RCD5DQItGTu3wr0wegaqzjfafzTctf2W6ec+ICcWyx5T3w8UhuIZmo4GlqSzsH3RiVL/SVZ1b6aHkXtOYnnMO+ED0++LspReE5kKjznCTKp2mkoRAUzLUmuzsnP8Wc+oVMw7BOXYsvAM5ITwBUzGkJF+SK3WKPTOSBYsUDQ3pgVCywMFCHdHz52IQ9AAzVICVK2RTzfjBK/q4LQPWbcbhQxP+IoPL/UZT7PC9AhdTeKbKrCQhsHmRogQWr67Zgwfw0AMaz40eviizb1QGukkGnNrNdlMY+KQ6CUQBfrUM2AAuTDtksHkIwWOL+bwtW3s9jjPo4fiXGd3WM7+fx5+jxWz02/v6E+LtC/7vSL9KpNw6IMzneCb+G5evH7wGdWzEfsJ9TuRLgP5jetwUY+uOYr2fFJb8a8/3a+PdIgVRCycfFO7tjvLMB1VR3UkpEciIAxM4agDhY8L8K3bJIh1SXmcPhj1tiflOjenSsYY+O+f3n8ecNIulxOyxcTbka2qmd9U8ZWHs8QC889pDbgvn4s9iPKaJeWdtj11+9xz4x5m/sqtW668e/RHLybaFtuFXoiD4pWJZtNeCvX695zWt6NraS6PnjADexZcZqypjj0HhbAEs/jT9bE69uxC3WRHHL88UtDty0jwPMLfv4WJ9E+bIJewAQAiyts95c0t+V9GPtHRrVYJomMv0LgKzkuIot7wGsf1rNKu6ahsku0YXRS1u92GQ9QJ4KIWAv0jcN856fFM1V/zQSkiokp2l0h3W071UWrwrDfWEqq2KchgFzMWHzOoAJm//sd3+XtESmKlY8MKwHCoA6hOdGddoQlywfGcYDsXB/OIC9O0fTp11CL+b3Vuuf5q/6XfzbF+LfvhVdtw+MrN5S7Mlf/N3fVe8KZsyfx2f+oPE9vu878evsAGiP1Tm40RV8mFtf6c/8LprIHBeC23sHCHx/rLaGfT/+rr3WMcY7Tg23lR54uX7rPZCD9pe+9KWL9AP/LVjkH4q5vGe8s/fq8c4KlT4YbKtjgjUeSvutH+fINxiB9huCcfv8CBZ7hdM/DeD0nDhgPjcY9Rs1mu6NfO3yBcUDA3rgf4LF8rY41Owde+yGPfbYaE9YnRX/Z8/5dcxfh7IdYr5vr1ljS82hEgvukGCCNrtM0yY1BgCww+Uk7BchuXPqllumuGWDHj6Ndo8pbjku2LBBW5rELZTvLB6YqAfoCCtfPiH6Dihpxs5jdA4xrcl2YZ9JYphzpKf+5E/+JLHaiy3vAdV7wGis3aZl1iPgbEFLffmvLD8xpAc+E5UadEUB1k02sCZfJOZo/NJGnabRyCWf4T3IsgL5+jRHzTmSGtuGzNY0LFeIkpwgWYOBin0uecKsEe7la1/72jRup1yjox4YFQssDNSOvhhdGZZFk+j5s2MR/UiUtp4cB5kfhJ7aG6NU8KjI5h0ZQZZyQQHVcmbB/efQUPl2AA7/FPpixwVj5rQoz/tpfP8WsVArxTun0VF4ue9s8//L0N8Ycgg3Bbj8o9BUOzwYf28PGYNov1k9LA59NkQZ0WLFA9P0AFYJjVPaxhrA1QNJZXn/GSX+V8T8viXm9dvi4HROsFP+KRjnjwrJjf2DlelANS/2qiiLNt6rI/B+ZLBzXxhljAdEkPuYYDA8JPxxlwCUSxZ+Xt6G9o8TkPj/Rtn7t+MwdlOUjp4YDMpXBjv6AfHePiL2HLpvtENzUxPaxivZdXg5j2K6KCEE9DZjDOWY5ICMYX2s2glZPW75TjDTj49qmtPChyluCZ/+WTSPPDvWy2LFA7PogS9GbCoJobv20aHd630XI2B3k/oBOv1/QQigD0mO6nMhydX2daNNz4HPrFM00+9dI4fwMXAVYKaJbrHJe4CGp7W6KfuC5YmFDdAR801bTkFZvG735mEzoakhpDO2ZqaZJT5pT3k3SQnQRqZ1ai3IJfz6n0gGOEPwVbHigWE9UADUITw3qtOGuGT5yAgesPHLzFncBVKy0vQTL7jggnSooSnTjwnU6J7ST9kmGlXp/EnzxYLMvvGNb6RSl64YAW7+UZqjxNDBVRdkAamsouxd0ZHqytOerXHcEMC+gNH758BEvF5pv3dUwwNJEzq9tM+I1yszwwD75je/mQ5S82I/jjLnLSLhoXGGQw4wVSnet7/97dSd1NoFhC5WPNAGDzhsSczp2PuY0OT1fgIfNS/UqAKbUwmjvYl+ea+y0jaMo34PwIe/ia727nerrbZKCR/rkDE8+tGPTjHFJG3e4pZJ+rJ8dzs9INlv7dBASlwA6PMLQ1K587GhCW7OiVnFC0/XMLFYXx6gna5JrphfCbZ+D7QkrWl05sUVG2+8cV/fVX5oNA8ASpWnq8LCoFaG7rmodNCfYpdddknNF1fCsD4lNp2N7XNMnA7A3G677aqnPOUpU70tTa0kStwLqS/vKwLF+6Mi1fng76Kq9E4h9VWseGBYD4yKBRYG6rCeL5+bmgccvJTvnH766dV//dd/pesCU7BZLKaDLKKXRNMV5RPKKLLRU8I8fWSLm1kM62yZQ5sOkfBsABkB1bTKMYa99/K5bnvAgQg4AFBhd4wGM+Yi1tdfR0Opf/7nf15wAKBCM5dplza14QkItnVmFdxmE0AqccQ+K1Y80CYPOIhp/pCDU/e2+eabJ9AD21SyxHwGrDbLGNs0jnwvDr3Ypn7RqWPGACAGSExjDPMWt7TxPSj3NDkPKM2X3FcRBVBid49miBL/uanUtOfc5EY7/W++9dZbK2uIahXrGcPwk+zqEmlk+p4d/Iq/iUqiyy67LDVN092eqWDwrmfgcvBvHf0T3gt63+LMvM9pdKWqBNg7jX2uOQqEgWOOOab692imyjBz+UnzqDqbevTRl2+YRw8UAHWIpz6q04a4ZPnIiB7AwHKAodNi03FwsZAOWjonOFOSp3sueQAZQLovAIoumk0ReIrJJ9v8wNBFdZB1oF2JDbGLPi5jGt4D3k/zUFC5wQYbpMSIOapk54yQm6ALRVCfBmEGC73HMvb+T/kZpqrAEwDbVcPkowMl647dpys4nzhUFiseaJMH7M/YI+9+97srHXw322yzaA5/YLXTTjulPQeDfBbnqjXKmmPNUsWytjJL/y9Bq6JFcgh7xvqEbX/70DIdxgBMypn51Ppn/1ZSueeeew79ncPcRxs+g1GHGQUM4hdAkGTwPFUmtOE5jPseJFTfEPIUYnxzCxvvsMMOS9qcnrM4QSybnzmmnHlYrH8PAFKxTwFjOr2XM0D/vhv3T1rHAIPedWvXsHvDOO/LvgWwvDiaNyuj33HHHZO0xkqQi7ynqjwQKVSdrrfeeqnaSjxRbHY9ID5UkeQs46znPKO6Z6ONNpr6oEbFAlvHQFXGQZj/61//evWv0WxARlKXxmyylE29J2yGOjtnuacwqtOW+/7y/+P1gEOLEl4bzkMe8pC04QikLPA69SlJ6ccED7JpJm42hxv/rvOh0oo2bGL9jKWfn8Hc/Xjo0H3rW99KWjKCTYcv82rr6H78rGc9qwRQ/Tiy/MzUPECLyRyt63piomCeS3JgjysDljihoerfBX0CUGBCFwFFJXYY8gJI/slmLVTS6N+LFQ+0wQO5TFTZXzZJDnu3xN1FF13UqT226XPgKYkc8as1yb77ox/9KB0AzVdxxh2i+dsg9stf/jKVUAINs+VEkz1cjNyluGUp36hOEP//NHSyH/zgBycgSDwvhuMLcU2x2fOA2Ns+5z3ODFRJFtVlH/nIRyrakT/5yU/SMweo2vO9C0BWDNVixQPFA6N5gLawqk4AlyQFs8/Y08SfvZqQjXbFtX+aRNX555+fCBKShe7Hmd96b50A/hebPQ9Y22E5cAjVhM4uKuwkmrHhJ9WMc22eGhULbB2AqsyA1gUdkOc+97k9AVSAmtLtbDZZOo/92qhO6/c65edG94DF+9RTT02HDt06c6dIC6oF1kQkJN1PGb/PC9RoLAJgBNzAROLUBLSxUmmidsVk74BNdKWw+LLJ9Dt0GX8JPrvytLsxDuL63k0BmwOUd9fB6fDDD0/sK3MYkEqPKYMGmCl+XqBVT7Z1wSOCDcDwvvvumxKL1i1rmCTSC1/4wnSApAVdrHigDR6gV0yv3J4NMKRt6ODjPaZjmLtpt+FeJ3EPmBWSlhnYyQwvB0JAEB33QbuHi0nELPyqgsRBw6HD37HSdSbGRp0Hs/aJ+ayJuYRTIh1oDWCWYGtzU7J5eEaDjlFSUKLBu33FFVekJMP97ne/6rjjjksyHxIIJH1ooeZnjhyAJYflTS5kkPPfoPdXfr54oOseyE2bEBC+8pWvJMk8iT/rrTmo94g4G+Fo0ma+5yazMKBcrYIsIc4Hqu6zzz6F/DPpBzGB7/90NO9GjrF/qxxhMB5VB3A/5xxr/7RsVCywdQBq3XGCz14MVGj1J6Mb6bA2qtOGvW753OAe0CjFool5LMCqm/cA8NkPEAhwFWQ50Hl3lLQrBxCMo5DLhgAn6iyPwe+2XZ9417velVgwQKim0ZCRwe8SYNwu75e7GdQDAieZZUw1yRFN3gCqGilhodL9dDjGIG8yrsh7aCb36le/OmWpu2KqK7DXlDGRMTF+WrD8gn1vHeOfnFjqyrjLOGbPA0ANAAcWII03+ttKADWHU3anDNBBDZjYVZPYl9yQ6Gma5jiYdBpj9Fs6y6fiFuXKkqH8an3EwBMPkQVwPQ1Ium6ANvJLveI9rClA8h//8R+nd67Y7HhAYkWZsGoKz0+M7hBtn9NU0mH7+OOPr173utctGhRJDc8cCWDaDW5mx7vlTosHlveAfWvvvfdOeIvkn9gSgKqBIrkszMBec3D5bx78J6wD2LCSgk3AVuzg7DptoG3wUZRPND2Qpdk0tt5+++0X/bc4h0SRqkL7+7RsVCxwJgFUABjGIcDLw5CpBIKtzerNDPyMw6jgs2hpTOs1Hf46WJSaUmCg9Tp00FrDdMHKWMowNvppQJMF1oe/43Z80jiOPvroauedd05BadNIXsj60JgqVjzQBg+QmuhHa6nXHJUdxyCXmcZm6Yr1A7ToVLzlllt2ZchlHDPqAQyRfuQkurLH9npMGKEOmzTam5YrPw499NC+NWAdYpeKbfM1uuzTPEag8XnnnZf0dHtp3wPbJNZKY73ZWkA8L+zspQyzXUOZpmHIOXyrxihWPFA8MJwHrKkArKXMHJPUmLSR+UFs6kXukTSB96g0W8mGW5P2QRe/f7kzmgQzMoj+DtOyuQNQbbSyEgBQ7ESZS5OK5hRqdy8rAOq0XsfxXycfOmSjsNDqhnWg2YySuF4HlvrP0szC5KChJJONuSXbpqTQAUX2DbuLcHVXzNgwV5785CevMSRsFqwVjL1ixQNt8ABpFjq95CY0dsNAVZqJZeLAbI5iqNpkm4blZm9QztclfSRgsGBSCS/GeG7Gg4GKjWV91KinS6BxG97Fcg+De8B+LLGNPYZVhoGqegRgKFntQATgoofaVXMIpcmOxdM0+v7KI8Uf/WqWYm0oq8S+P/LIIxMDFQNHsx0xsDUR4x47vev2gx/8oHrve9+bNPCancMByCRevHtdk3Hp+nPdf//9U/JT2a4EjHea2fNUm9j/lfCfeOKJi1zhmfuc+J12Y7HigeKB4TxgbznqqKMW7St5Dqr0dE58+ctfXqlqnLRhvaoEdeZv6oWL/d2DpAviVLHZ8UCuGFYRq/Fv02ibq6aZZkPvuQNQm06nYSmQlInsdxMd1Wmz88rO/p06bAFJZZue+cxnLhqQsl0HCrpX/WggKYcFumO6YWCiigNtMBsAsC996UunskFM66kAn+iNCFDrpRCYQg4bSp+WY+5O617LdYoHeID2NcAQuP/FL34xyU9IfmBZ0g/0vnp36wdoZcE2X78r7emSHXLIIekAKajUqVISyV7HD4BmgPP111/fpSGXscywByTr6BIC9u2rynG/853vVP/93/+dknmAf6BqV42MiBLEl73sZYtYksZPs1QVzK677jrQ8FVZ5a61YhdznxSAwyS2K7mAM888c6DvnMUfBphhIYr1lJjWQeicQHvRi17UV6XRLI6/q/cMLBGLir/NkXoJv7miL4ZkoTi2/sxzOS9mHGJEseKB4oHhPCDmFlM7YyMW1Uv4JT4lruzp/VSIDXcH//epzFR0L2LebNZ/LEXzHqALbCs2Wx4Qp3iOJBnrz49MmYQZWcVpVtONigXOXAl/r9fF5ql0k/BxPzaq0/q5RvmZ8XnAgQRjkt6XQEtWSmYacPCYxzym2mmnnfq62JVXXpm0krDZfBeAxoFOycDd7na3tEFssMEGfX3XLPwQzTAbn4VKF19gi40S8MyATdMQBZ8FX5V7bIcHzEkaf5ktjrUlmBM4YYhjs8lkmvdYbZIBkiGCLofnJjOpHaMa/i6Ax5JHwBLBhTJVjHuJIP8mSVI0/4b3b/nkeD1gT5aMxIq0V9My896Si8FOVSmETdlVA5Tac7Fx7bkbbbRRStLacyWDxamDNjkiYwRUonNsLZBM0VyDtBF2Kp/PCwPd4VkCyTu07bbbJp9oUsZHwGnMpH5kT7r6/s3quDSO0gxRAsZagYn60Ic+NCUjMFKRZDbeeOMKCcIz9x74P2xvAGp55rP65Mt9t8UDqrewO8XWCAxia6QFScHdd999WZmNcY5DsyGJFfJz2Ip6mFx33XUpGdtPz5Nx3kv5rvF5QDMyCXS9Wbxn1nmJdmc4/6a6pMk6Ht/V1/ymUbHAmQdQdWgWPJ5++ulJbLwfG9Vp/Vyj/Mx4PYCBBkzJJfYAT+wLk3CQ4ElZoSYOGB3ZHE7OOuusTh7sADAOsQ4ZMj8y+AJTLJZ+9OrG+xTLtxUPLO8BAIHyHUmSbA5WWKbK9RywgAaCKuZg5f+bTeaWv9Js/ISkh4wtv2StQ0ElZn6/yaPZGGm5yy54IDMw68xooCr2wTwwxUht2HMdQukzik+M2547rLyIDrUOuPUml5ipWBsaL8yTOXA51FsX2TrrrJMO2k94whMKK2lGXwTzBKvMHi9BypAZvPNHHHFEpYeBZ07GIT9z1Spi98JEm9GHXm67dR5Qyn/qqaemBlIM2Wivvfaq3vzmN/ctOzOOQVkP7HliiSxPYz2w5/Uq/x7HNct3TMcD2KbOcHoRMYl1iWFEEH+epo2KBbYOQL311lurPCgMBuWLNkmMJL9McNn3+973vqmMCSMJqq1UGajWj43qtH6uUX5mvB5wKLGYes5KdYElstE0rwYxerkOIYBUmwTG2g477JDKYQcBYge55kr+LF8BnzF/zC0borIIm1C/Omwref/l2vPnAcxpDdBkKrEsscU1kVAWm99Z4Kmfo3vd1EbumscEk7TesAOU8AJhlO06WC7FZvvlL3+ZsvaAHOw3DHRl1Fg7xYoHJuUB790JJ5yQAFMgl/dNGeBBBx3Ud/OkSd3bNL+XH8QtGHN+DWIYrOIUezdWK0avPZwutLiF/htNOgDTvO7j1n/7gDWwgGiDvF3t/NkrrriiOuaYY9Lh+o53vGPSEab1Wy/pFP+TCBEXOGyLDexpg86vdnrg/+4q7932e++4vRvjumsVNm1/DvN2f5j8Ym8Vn5L1kn7mIKLSSpjzK9IUsI1Miz/bC7fYYosk92WdKDabHsBwdi5B5Jo2cJo9NioW2DoAFbAFMG0aai/tOwLxmA2ylEBUP2vTxULq10Z1Wr/XKT83Hg/8+7//+4LGIaATaGIxFUB7H/rVzHAo0UUQ4I4RIqOlAYvFWQaE3lKXQFRgsZJf5b7Gi70ngy/xAEClGTyvh6/xvJnlW8btAeWuEiOylIBDJkkCiNl5551TKf88vbN8YJ4at0qLzMDhA38X8DpcNU1wglUPwLFmkuqw71lLsXW33377cT+68n3FAylJ57Dl4I8ZqAkSgEslhAc672QAACAASURBVIoRIEk59Cz9ojhU6DZvrgNK+etVr3pVilWYg61yN2ulAy6NyHlaE8s0654HJAc1SESCyQxUQIn9T2k/PUTJQJI1Eoibb755BWTM64wKjX76IMyC5+zd73//+9NamvdupcsSJ1haJHyKFQ+M2wOkUVTxOl9795i40X4kGSppP22z19nfrr322iSHgzgFRFVRaQ90v+KMYsUDw3hgVCywdQDqME4Y9DOjOm3Q65WfH94DFlDyDH63WAqqmMCKTooyX4eLfrQ8lQBdddVVaSOo67D5DsyOaQsYD++V/j5J8sCvpjakLP7555+fMvyyeMWKB9riAUkM2n7mtoMEbTQHqje96U3V8ccfn5pMaDYxL0ZPkVaxLsQYp9Y5XbgFj894xjMSGErDuWmCYQ0WHSwzS9UaSmNWJ3A+7AW8zotfyzgn4wHvKuD+3HPPTQC/6g6HHYwWAMnrX//6xHAptnYPKP/HNhXv8KFGehdeeGFqpGM/N7clQhAKsIPe8Y53JFmiYsUDs+gBiQDx+NZbb50qw/QpoG9+4oknJh1hcYCYVWmx6ika6ZnoIEFovVGFgmTTBbO/03RXOq1ijNm7nV/0cdBMy/5frHhgXB6QjPBOIaLR6xY3Ihwh4Ei2k9DwTvZzzh7XPfme3Ciu2VDKvZj3yFPi4GLFA8N4YFQssACow3i9fGZqHsDCACLsscceKaiqm0WfxANdlOUYVQIQmoGYlwKwpjnwYWwKWrpgxuvAxWeA0qYJ0mQZu9a1vAvPbl7HkCUmBEu0/TBPHBZo3inzUK6n6kBZ67wYbT8MeQdI650MvE7UmqWYu5ipMvJ1PWOHyre97W2JtePzdZN4Arhg8Pj/YsUD4/KAd8t7qLwO4Aeol5R0IPO+AUO8wypAivX2gJJFenMSm4AkDF7gkEQJVuohhxyS2GnWAxU0fC1BgolXrHhgFj2g+a8EKXKDSimxvLgVQCI5CMyRPESeoJPaZLB798UKZH7ufe97z6ILFu4ZWGzv7kVusDbYu/UwKKDRTD/m1t28d87cQlywT9u3AajmH/anM/Mb3/jGvht1j2uAS51TJRTI+tkTi4TLuDw+X99TANQhnveoThvikuUjQ3rgm9/8ZvWJT3wiad32Kv0DrjpIYK4tZQ4iMtrYHL1EqJUW2igOPvjgIe+0XR8DBh933HFJ4oA8QdMIdDvgvva1r23XjZe7mVsPmOu93tWmQ3IjpXlwlNLc5cartLEOlAKogCw0Eq2NTXPYpKvYb9PFefBzGePoHpAA6UeHfrn3efQ7md1v4EOJXgkS5ftKd4HPy1nx6XIeKv/fVg+QqBHjL2XmA9CwVxmxhCEiRZ4zbR1nP/dFXksjrbWBwSrHaKKqKitWPDAuD9AoP+OMM5b8OokMceU0DVlAUqVXs1TECklFlS2ZqT3NeyvXmn0PjIoFFgbq7L8DnR5BXiQt8NhndZORFThpNkYbaCnzszJougErK2yaAE5ZgEY1XTAHKuOlJ/mkJz1pjSHJNGK2vfKVr+zCcMsYOuABGl90epXpHXbYYYlVQrMYEwWzTVacDhJ91HkxTSPMU+uTbqQOTs9//vPTYdH8loHH0q8309Ngg6acn8NWqVuWRMHU0YyxWPHAuDyAgXqHO9whNTrBaJGgsz9LXAIBldhitQDvi/X2AP+Y1xinmEB03h0OlSoeddRRiYGmzJmskeSIOex3sUux4oFZ9AA5Ge9zfZ+33/s7eS2yH5qlYaWSqmj2Kcig41/8xV+k+GCWTQxEqqAXGGzvJmGk1BroXKx4YFweOPzwwxPhxv5CTkOszcSd+g8A9MlI2cunaQBbGqcveMEL1rgs/X/SQO6r6KBO86l051oFQB3iWY7qtCEuWT4ypAdy2QotMHqI9WYJV199ddJLBHoCXpYz5a6evYCtruVCT0wApyFZlwTaCe7rwG289U7lABbjNVbyB8WKB9riAYC/pAk2qtLfrIEKjHnWs56VGNO0UOfFHB6PPfbYFMgq6c0aqE94whMSqKKkH3O+adgEDppYA/XyJs33PvKRj1QvfOELU2a/WPHAOD1AFkI1B1Y0MCBroP7kJz9Jew0GmYYUxdbuAXrskkSSxsqWlTTbxy+77LIESNOlE7PoRo6Vp/TypJNOKi4tHphJD+TKk8xwyyX8ZHwkEiQJrScf/ehHUwyAMJHN+cB8kGgA8sx6E1ggqb1bIkrCqb53WwP4QBJ10003nclnXW66nR6QhJf4fNrTnpZkoSTmJPMQbbIGt7i83jtkGiOhBe4cu/feey9KjpACMk/o+O++++7TuJVyjQ56YFQssDBQO/hSdG1I9L4EDrLLtMF0CfRvf/u3f1ttu+22PTVNe/lAkKXkHwjrc5gbOtsCILA8BHC+uyumtMl4MYMAU0BmG6XxAmJsSiVz15Wn3Y1xOCxhTK+77rqpgYrDFZDg85//fArerr/++qkL2a+kZ7FOHRixUAGogslHPvKRqUEUJh9QpVfSBwBzzjnnpM7E22yzTSqtFiwAXbABBZ2zfthcyedSrt3bA5o+2GvsOTpIS3JKTJrXknjmb2letvTbQ9MYyEyyiC+BpTTggSmY4w6yDroawqnKueGGGxZpIJd3s3hg1jwALLRfed+tFd51+xTQEPNaIhGYQ/+czA95CyAKYBX7WkKwK6AiCR49Ge51r3ulvVusTsrD2mnckspl7561N7z99ysRp3LE/Mp9BsSe3juViu985zunPghSdNYFc1xlGpDX/miN+N///d90hp113eOpO7VccMEDBUAd4mUY1WlDXLJ8ZEQP6AKI2ZIbUGic8JjHPCYFGIMEEzp6E58WmMle3+lOd0obBtCmi2AiUXrjVQqVx4u55lCL3VKseKBtHhAcvepVr0rgCwMkYJ5gTQME581++tOfJha5A6SgkVn7sNEe+9jHrtUdSq+ALHm/cxAThGL4YLgUKx6YhAckN7HBvHvZJEGUn+ryW2x5Dzgk8p84BRgtGervEiDM/M1rYjlALu/P8hPt9oB3HFB62mmnVbfccku62Qc96EGpQUyW1fIzYgLxgbg2/4xqjGkz4ybtTUQHUh31vdtZR7K07N2T9v78fj/9bc2HEYsYaSiyGRq9rZTR/DUXALl6mSBAkaZyZpdkKFY8MKwHRsUCCwN1WM+Xz03VAw4USnpvuummBAQ6iAEPZKQGMYsxBqbFWMMGQKwGLJitdXmAQb6zzT+rDCOP1yEM0zaPtwRibX5y83tvss2axunAKWBSpr7PPvtUr3vd6+by8JD1m7HJ6b1hydNII2VQ1z5d2xvDh9aBu971rp1c4+Z3prRz5Co9aKpp8CBhqdIDw+zoo49OzPKl7Hvf+14CSTCosdAwruzz85g44SfxivnLpzqRf/jDH05/F/fQfJzXNbGdb365q1E8YL+n/6vqhKkSk0i119VJEoBUlRkSq10kPdR9WPbuUd6o8tlBPaDSyz5NMosB7LG/ezVxGvS7h/l5Z3TxwLe+9a2070kWSiRsscUWAxGnhrl2+Uz3PVAA1CGe8ahOG+KS5SMjeEA2VkmLgMnCmUv4ZapprmFV9WPYW8oBfO4Rj3jEQgm/skN6gMpauwQqOnzxGyaa8Srh92c6iMqdBKZdGm8/70D5mXZ7AMNcGR/NRPNdmbpSPnOUhuLll18+V++sw+JTn/rUNO7sB+sfrTTJEMElpk6x4oE2eABb2gEH0A/0pINKese+Q3rC+7o2EFWi7+KLL04l/hgm9msyPcD/Pffcs69kQRt8MO574EuMc0lkoLLS5bwWqCQh41H28XF7vXzfND2Qtb7FqCQrGMkP77pk6hve8IYCmEzzgZRrzZ0HVHi9/OUvT3Gl+JtJftp3NJdSVTJNk3zVREoc4NxvPSBfQ85KUlVcXKx4YBQPjIoFFgbqKN4vn524BwAFulICDTSgyBql/v2SSy6piEwfeOCBi5okre2mZNcc0mid0g7LRl9I9hsYi53ZFVPyh7VrvPQks5FDwA6ioybLX6x4oC0ekOm+8sork+wEMFVSA/vq3e9+d2ogRaMJK2Ve7F3velfqQKxDqnFjkX7gAx9IAIrSRcCKda1Y8UAbPGCv0dTl4x//eKruIBehpD/vu95hZYJNM8cd0oCv9qXMOMtJT1po+++//1yCKLSPr7rqqrQmYuhKfKomOfnkkxO4RJuORl2x4oFZ9IAEAQIDaSnJAHG4hL91QjwOzFG2b88rVjxQPDB+D5DEcCaWuBR/63pvz73gggtSI0iJTJVh66233vgvvpZvdCaXTKFzSsM/m73wc5/7XLXXXnt1Trpjas4tF0oeKADqEC/CqE4b4pLlI0N6AIgiC4WB0mRaOVzRAVRmYJFfygCub37zm1MmywGtaUrjHEr23XffIe+0XR8zXmCTEkgBadM05RKYOpQWKx5ogweAKLLfQNRTTjklNY4DEEiSyD47TEkE0AWcF3OoBJqQHMHGpddMK07TDIkjjD3zeF5LnOflPZiVcWKXOoSZu3/zN3+TkncXXnhh+jeMESV5mWFWHxN9c8m+gw46KOmS103CTyWFg9S8aahi9JrbYhaA6Uc+8pEkj5Cb6ZEeov9I47xY8cAsekCCUKKQRvKTn/zkxC4DoJKsQZKgwWhdEL8XKx4oHhi/B0488cREUDj//PNT09LddtstAagXXXRRktR47nOfWx177LHVYYcdNv6L9/hGZ3Fn+5133nkNUpOzrfOBWMB9FiseGNYDo2KBhYE6rOfL56biAYv3Jz7xiQSkKOlt2hlnnFFtuOGGqaHCUgZspa/0nOc8J4GoTaP5oryQaH0XjG6iDW/XXXettt566zWG5LDq0EpDrVjxQBs8YK4DCJczAdS8mJJdc3kpw+7rV8ZkXvxWxjl9D9AoW07j1F31mr+f+tSnqh//+MdJ17NppGhOOOGEte7d0x/p9K4IKAWSLmfztCYu54vy/7PlAQ3mAKVLmc7zwJ1ixQPFA+P3wH777Vc5Sy9lGJ/ve9/7xn/xHt+oidWZZ56ZCD7O901T4YI1K0FbrHhgWA8UAHUIz43qtCEuWT4ypAcy+0QTmXoZuq+jjSZLpexPR76ljJagLJuSdVnupn3sYx9LzJjc8XPI223NxxyoTjrppASe9tKK+eQnP5k6Lcr+FyseaIMHACg0l5T9HnPMMYnFRr4DuIKBqpRV1tmaMC+mbNF+pXwXAxWbHEseA/XII49MSZB//dd/TbqRxYoHVtID9lhanMpx6alhoGJLkt/AQH3+85+fmr9goTaNxi+m+atf/eqk81m3fJjqVYWykuOdxrXptZvbKmwwzzFQMfWwen//93+/2nHHHVOTPdpwxYoHZtEDkiaAGQxTVSZ0fWn0Y6AiNUjy01/EOitWPFA8MH4PiCXtL0DUzTbbbBEDlcQG8BT7FClnGkb/lKRPL8KTs+1pp52WGko973nPm8btlGt01AOjYoGFgdrRF6Mrw3Ioo/FlsaTLUm+WADz40pe+lEDAe93rXssOWbmrUjcABH22bBpcyHY5jCgf6opdeuml1Q033JDGWy/xpWUjONWU5/GPf3xXhlvG0QEPAE913Lzuuuuqb3zjGwsaqACDF73oRSnI0416Xuz4449PgetZZ51VYeFkDVTrlMMmiQ6aUMWKB9rgAaV+9lkVHao+sgYqEPTpT396OogBV5smeaKMVyK0vidhX9NU1ciCzuftb3/7Ngxzqvew3XbbpcaP1kRs86yBqjIHqCzZBKguVjwwix6w36sKE49aO6wBSvglTzWU1KOALmOvSqpZHG+55+KBtnkgN3u099IXBVwq4f/0pz+d9m39NMjpTTNRf/bZZyfSAOme3PuE35zhEZ722GOPBPYWKx4Y1gMFQB3Cc6M6bYhLlo+M4AHPi6A0EFU5G400jSkEVpgZMtb9GPYLoFSpIfAB283BDsioTMBhpJdMQD/f3cafsfnI7Bs3vxkjsFhZIMBZ+UNTb66N4yj3ND8eUMYviJNlBvrruOnvJCce/vCHV9dcc021zjrrzI1DlC9jzQsaASmAKSxcerF8JIlEs6pY8UAbPPAv//IvSU6Chtkmm2ySkiH2Wk0oHL7sPWvT68Wy9n5jXT/sYQ9L+7Sfp/EreYqVNo8mPhHnaKwl8Tvva+I8vgNdH3NmoZrjmU2t4ky8qioM+zQ3luu6L8r4igdWwgOZhQqUzBiJahLn7GmyT/PYVV/of0IWSAyhkZS1QSz8yEc+snr2s59d1oSVeFE6dM1RscDCQO3Qy9DloQA6Ha4s5oADHQN1oJa5HiSwAiZ++ctfrm688cbEkMHoAi5iynQRTASi5vE6kN7lLndZGG89q9fld6eMbbY8AHTRNAKDmgmclP++/e1vT/N13uyXv/xlpXu58l3AKSNnoORRk6lixQMr5QF7cXP/xVTR4IxMDFM1gj2tkkTScm3muwCtGNWqJHwvMNXevNFGG63UEFtxXYdGayJ2ECNpYk3UKHIe18RWPJRyE2P1gGoL8hSSMAx4A1jVl2AemedjdW75suKBPjwAsHzTm96UKh6YCif7zko1V1aZ4tzvTKAaRfKVZB9SQVkT+nig5UeW9EABUId4QUZ12hCXLB8Z0QN0/pTx3HTTTZWyfrpfylgdsAYxgCJtNgAqMBWjQ3ZLqVBTe22Q723rz9p0sPaU/ymDlM3TqMehtBy82vrU5vu+zEtzHfOKUDzmdA6a6hIe8+Il6535ax5bB2kfKmc0h4HLxYoHpukBpX1f+9rXkmapLvHeR3vK4x73uLS/SExijOf/V+1gj7Vf95ukdA0HpHJIWvVk6T4ffPDBqaEm49MXv/jFSde9X59O8x0p1yoe6McD+g7Y6wE2qsokTzIDFUiCFaeEuFjxQPHA5D1w8sknV34hKjEx5tFHH913leck7hDxx5ndeYB++vrrr5+qrsQTXaoYnYTvyncu7YFRscDCQC1vWOs9IKBSwm/hBBxYNGWkZKp32mmnxETtxwAzMmwWYd9DEgCzFevlQQ960Boaq/18Z5t/BvCCtWaRoCn1gAc8IIGoyiKVQdOWKQBMm5/g/N2buUl2AuvSHAUUYLSZ70qLsK7mCVTByqP39Pd///dJwuAP//APE2glmJTwoSlpXSxWPDANDwA2aZKak8roMEOxRLyP9hLNzTR/829AVWX7ynBJc/gz0K8AfoM9qW9/+9vpsOggCawGOgGk7eOqZ4DV5SA5mE/LT6+8B6wh5513XnqnJVvOOeecRIwgUcEkTq0jNJPFqsWKB4oHJueBl770pWmuafiYGajOyKqezNPdd999chdfyzfb8+j/i3nFE3/wB3+Q4gln9vvd736pL0LZ+6b+WDpzwQKgDvEoR3XaEJcsHxnSA0BA3fiU/mmekFmigAXlbJgwyluVtC1nn/nMZxIQs88++yzSYfve975XnXvuuanDtYNJVwzLVhllU2xbh0NNpJRI7brrrl0ZbhlHBzzwqU99KmW/zdE6MGjN/sAHPpDe13lqJgE4BUgJXulCZqMxaQ4DsJRHFysemIYHNDG65JJLkl44MD8bnVLvoxI7DSmU3gJAsjn0SIyUxoWDP6UnPOEJqaEedp71wFpgD5ccdehV+qxTebHigVnxgPhd0zhVUKq/SHHtsssu1cc//vH0Z/JSGtiIyQGqJD3mSft8Vp5juc9ueECFkyovgKSzMMLNU5/61NS0FRMc8Ub107QrwC677LJUfSWeAJ5mQ3wCrGo4pzdAseKBYTwwKhZYGKjDeL18ZmoeyMDJfvvtl3RP66ZU8C1veUtqMrNcN3ml7LRdsFV7NZ3CcMVQBdx0xWwwNjysn6bRlaGN+td//dclg9eVBz7j4/j1r3+d5qi5rGlK0wR25rHmZ/Ni2H6y8L0YOFdffXUlwFTaq3S6WPHApD2AobLeeuslJnjTLr/88lSOq4kU4KNpkiPAkAMOOGDSt9mZ78e8AUoDUU866aSUTLFGfv7zn0/PwVopiZJLLjsz8DKQTntA9ZiEykte8pL0Pr/73e+uLr744kSUwLb2++GHH54qUexvp512WuUMUKx4oHhg/B5wRsQy1chRJQkwVfk+jW379rHHHludf/75U03WS7LQ+ZdQedrTnrbGoCVbgLp/+Zd/OX6HlG+cCw8UAHWIxzyq04a4ZPnIkB7AvLjwwgurI444omezKKLzulL3OrDVL0n71AGkyeTKP/PFL34xlcS9+tWvHvJO2/cxTTuw1jScaZoDF3Dmr/7qr/pi77ZvdOWOuuYBeqcCNmXA2NFNAxpgYM0TAGN9I73xjGc8Yw1/AKMkSQSQSq2KFQ9M2gMONA5XmKRN0+iI3ITDDlZZ01SLAPwBI8X68wDpA6WLy5nDZrHigVnxgEqwCy64oHrNa16TkjHYpksZhjWmdbHigeKB8XvgyU9+cgJPl7I3vvGNab5Oy5AlALe77bZbzz2QdM0VV1xRqi+m9UA6eJ1RscDCQO3gS9GlIdE/lRnTBZDmSd0ws9761rcmtpps2VKWGagOdmj/TcNABbIqFeiKnX322Ql0Vm7ZNOxTLNTCQO3K0579cfTDQCXpgbUyL7bUupQZqLoUl/LGeXkjVnacZ5xxRmKokNNpmgSHZg9kcHbeeec1/p+cDObZK1/5ypUdxAxdPTNQxSyqbTBQAUlf+tKXEgNV4y4MVM01ixUPzIoHMgNVbCopc+qpp1aXXnppKtPFQKV9jjShKgypwbrTpeqwWXlO5T7nwwPmoQovgCQ5PE2aVD0gNGhcqJGUhMdzn/vcqTlEUtCeR06gVyM5ydpbbrmlevnLXz61eyoX6pYHCoA6xPMc1WlDXLJ8ZEgPAEwwKZWxYabVNVA/+9nPJn0UGqj9NENSIkR8WiAmQMuWQVoaTJoydMWwV2x+L3jBC6rNN998YVgOZWeeeWb6t2c961ldGW4ZRwc8gIkCDDBH73GPeyyMSCMVYOLastEdGHrPIRDzp3X4vOc9LwWS2bB1aU5ip/q/YsUD0/CA/dY+Sittk002WbikZi/2FPuqJkeam9Uld7JmmUPZcsnOaYxjlq6BHXTNNdckcNramDVQJZZf8YpXVNNmBs2S78q9ttMDwBGgqcSfJICGdJjryoWV7Pp3f1Z5Ye0AlJTmc+18luWuZt8DuSEhNrjKRHOQBuqRRx6ZJHnEm8rlp93AlSyQvY+EVV1TXQM6BKEdd9wxJVyKFQ8M44FRscDCQB3G6+UzU/WAJk8WdSCpcjZd95Ty/uAHP0iZKSLX/RiG6fvf//60GWy55ZZJZ0km3Hc5DGLVTFsku5/7HvZngM8YKw5dSvl1ONXsQ3Mp4v0OuTqgFiseaIsHME5oo/ndXAfIKFX/h3/4h+ohD3lI0mCadhC3kr5x0JQEkfjRHVXjHg1kdD3XaMMcxkQrVjwwDQ+o5JDIsCcD9LEfNY2SrPMealhIKw2I6hB2n/vcJx28ctdcWmula+5gT0qCV+WMNfEud7lLaughfuFTsY9KkuLTwXxafnrlPSD2xnrzTotJydFYTwCmTHwu2S9ROE9VJyv/ZModzKMHSEFJamy22WZVBpYQl2699dZ0/p4m+zT7X5UpoNS5VTwBRNWQklyQtUIiN5Oq5vGZlTGP5oECoA7hv1GdNsQly0dG9IAunDRPgIGAQcwrmSeL/XLm0Peb3/wmZbAtyL7Hgc+BBMsN69RBpCvgKf/86le/SgALAAZryC8HL8Gqw5fOhf5crHigbR6Q6DBHZcWBhZhsdBf9mifwND8X85kWtEy84FEiaeutt07MnZIAadvb2/37sZ96F72T9hTvoGSHPQVzzN6jY7z/x0wFhCjr18CxAH3DvR/f//73k/4ccJo5SAKjjzvuuMLMG86lnflUjvfEt7O2P0q+YFartJAktW7khmj2N2X8mHDFigeKBybvAc3cTj755DQXmYqRo446qmdT18nfzaoraBZtXUAa+PnPf16tv/766cwuqVjA02k9hW5eZ1QssDBQu/lelFGFB2StaLpgmDr00XZRjuCg1xWwtP6gf/aznyVtNNk5gDGWqYOrkslycC1TYlY84P0ly6F8h+kwj3kqsDOH582AVNgBNKjMa6bckbRJr2Zb8+afMt52eUC5rdJyXXKBO0yTR/P3QQ96ULtudkbuRsLXmqjZJbO35zWxJFFm5CGO+TYBC7TsJRp1qwegYmkBPWbxnaCFao1Qnsse/vCHV4ceemhitRcrHigemLwHaA1rtpyTGCozaRCXTveT9325wvQ9UADUIXw+qtOGuGT5yJQ9ILOtXF9QCTSVtVJ2KIuFtUrrZday9Uu5EFNP6TPGqfEqfRaICq7vf//7l1KHKb9/5XLDeQBQ8PjHPz59WEMJa7WO31gq5i0mNfBgXkxShKA/uRLJEJl4B0uyBtY2nc0LiDovb0P7x4lxih2ihB9L2vup4sE8VvGAuVpA1MGe49e//vUEikn62te/+93vVk984hNT6T5Zj2uvvbY0kRvMpTP/01jeSlvzfBPjiXntj/YFzVBnCUTdf//9q9NOOy2tFWIAZp3AvAasAnGKFQ8UD0zOA294wxtSsyi9MfQcYKTfsFE1Gz7xxBMnd/HyzcUDK+CBUbHAwkBdgYdWLjl5D9BswdwSSGKwZZNZ83/NpiyTv6PJXoFOomBz3333XRQ4A1FpS2EAAWCKFQ+02QM77LBD0vYDGkh20F3CJMdG1TzlsMMOq4499tg2D2Gs93bAAQckXaqLLrooBbM0UD/3uc9V97vf/VIJE7D5kksuGes1y5cVDwzrgf322y8lLr2jQB26xVhyZCeU5D7lKU+pPvnJTw779XP5OVJFDrTWxKuvvjo1hVTKqOEedp4SS6XOxebHAxKK2Mji23qzNol0LDL6xBowzYIBaDSRsr/TV7ZOAHFOP/30VDosHsBqn6fE6Sw8t3KP3fGA5AtNUfGkvVt1A1a7uFOj4UsvvTSdL+3pxYoHChLpKgAAIABJREFUuuKBAqAO8SRHddoQlywfmaIHiF6/5S1vqXbZZZfEhmkapiatthe+8IVTvKvJXerXv/51yg5ipQg+myYopSsp2C5WPNBWD2gYQbSeVuIxxxyTSoBpMulC7981jHNYzCV+bR3HOO8L40zZ/sc+9rHEOt1nn30SGwAQpaT3W9/6VtKIKh2Kx+n18l3DegBQSnv7wx/+cAL9lP4B9xzMXvaylyUmKjmdLlV/DOurfj4HONKIiwwPhhC/nnnmmamxHIYhfUhMPY2mis2PByTV7IXPfvaz1xi0ZCNWMs3c293udq13inXhPe95z8I+b28D5kjESBq89rWvTXI1r3zlK1s/lnKDxQOz6AHMU/uLeFulF+ICAPXiiy9OjZb33nvvNA9POOGEWRxeuefigZ4eGBULLAzU8mJ1zgPKB20EFv2NN954jfFdeOGFqTMwtkwXDBvlrW99a2KmyNw37fOf/3wCWg488MAuDLeMoaMewERRnr6ckamYF+vnAKzBnqYyxYoHVtoD/byvEpyFTdbfkyLB0ysJXP80n2et2f6+tfzUrHvgTW96U2qimuVu6uPB2JR8fN3rXjcTiTUg8HKs9FJCPOtvbLn/NnsgS2gsdY8veclLUjVjseKBrnigAKhDPMlRnTbEJctHpugBmTO6STvuuGMKMusGfKG1hNmlTKELhqFG+FtJ75Oe9KQ1hmTTw/jZc889uzDcMoaOegCwgsG20047pTnqEEj7TDdvDFQSFHRRNYWbF3vgAx+YwJErr7wyMVDpwSrRxNLBoKcp+T//8z+dbIo3L8+4S+PEiqN1+oUvfCExUDEkzz333AT0kM3RIO4Xv/hFYaD2+dAzK58Ez7ve9a7EQMUE4kcM1K222qp6wAMesKAb2efXlh+bcQ/YA+yVf/Znf7bGSEi6SJgfdNBBM8FAdZ8IABq+2u9yCT8G6mc/+9kKuKNqbK+99prxp1Zuv3ignR5QsXnwwQdX559/frXtttsuYqDaa3beeedUFXb44Ye3cwDlrooHhvDAqFhgYaAO4fTykfZ7APiiaRQW6j3ucY+FGyay/5nPfCY1Vdp0003bP5A+71CpBeaBIBPIlM3mp/y3a5qvfbql/NiMeUCgBnxxcNIgI2ug0kPDqBHozVNDiSzsr2STpl3WQFUGveuuu6YSTqBKseKBNnhA2bDkJYBH2XnWQAUE2oOA/oXFMtiTAkLTvFRJIomSNVDf/va3V69//eurU045pXRJHsylM//TStvFsQDUetWRZoOaS5HB6ZVMb+PA3TMZiu2226667LLLUsM0YwKqIkDQZ1Rlccc73rGNt1/uqXhg5j0gqamKSfm+vQbZBhHJ2VHS3tnSHFxvvfVmfqxlAMUD2QMFQB3iXRjVaUNcsnxkyh7AZpPBVt5OUH/99ddPgKoDiAzb0572tJnIzvfrNptd7spqvBi2tCJpo+lsuttuu3VqvP36pfzcbHnghz/8YbXNNtukLt6/93u/l9iVQEMC9jR+HbB0o54Xo2+MvaebOV24m2++OTGPaBpjnmGg3vve954Xd5RxttwD5isGmdJz2p2kciQwf/azn1WbbLJJ6hJeDmGDPUT7uOoSzfSYNUHy196OiS7ZVDRlB/PprP+0qoSPfvSj1T/+4z8msFFzF0Cj6gwNBl/84hfPRPl+fg40/A899NC0l9n72d3vfve0/2v6KpFarHigeGByHnBeJmsnvpTwZM6RGtOdfPLJScO8WPFAlzwwKhZYGKhdehvKWBZ5AKgIYPjmN7+ZsmmYmcBT3az70WqbNXdqJmO8upcLPG1+j3rUo6otttiik+OdtedT7rc/DzgIajzzgQ98ICVAAC8aoGG3zRN4mr0FMDn22GNTQoigP0BK923C/3V2fX/eLT9VPDBZD9h78vsqIUJ+A6NFt3igSLHBPaCZFLYpMAlbyJrosHvIIYcU8HRwd3biE0BUsR6JG4AH4IOkg5ivztZUrYBQoNHguuuu29qx6/h9/PHHV1dddVW6R00jxQHYtMWKB4oHJu8BMhriSlVgbIcddkj7Djm8YsUDXfNA5wDUL3/5y0nPUYkK9oJuo9hz2WhYCsSVdAoaZOZpQ2Hd9WujOq3f65SfW1kPKAHWkfSmm26qvDcCyK233jqVNukU3CUDsnzpS19KwbQDLHvwgx+cxooJVKx4YFY8AHQRwOXO0g599E+VEmGlzpsVf8zbE5/t8WLF0S10GMtmHxKzdUk2Z5pPSVnlq171qsTgZQAykh7vfe97CwN9mg9ihq5FGz/HhAgETImuuUiruE0GDJYglSTMTGsVFvR+C/OtTU+q3EuXPYBpCn+RqGcY4fvuu29KiJYqhy4/+fkc26hYYOsYqATQBYs6jyrbaAKoSj2OO+64pKOldMXEBroCyWRg+7FRndbPNcrPrKwHgKeE59dZZ50EstsIlO9jaGJm/vmf/3lnNJUwDM4777z/v70zgbexav/+pZDMSSgZS2Qo0USIipIKkaIoFVHG5vlfz1MqFVHmIoUyZExFIgmpZArJQylTFDKF6Hn/v/W++7zn7HOwz7732ee+9/5en0+fkvu+11rftfY9/NY1uPBehT/LO0Uhkwr7VfiF8qL67YU5e1cHrfuVQCiHmzwr5S2ucF8JqRIOVGBCORST6UVOv2ml5pAXn+5j8uBLZh5+Xbf06/8S0NrUM0jijd7hJKJKsNFzV5uW+h0rJQcWOQEVkFOovt5vlcZD6RGU/1ih+wrd1p/x7I2cZzIcKUFSERxK/yCPVG1cpH4nVEVtrR2/mAq6TpgwwXm86XtOBdIkoColAcVr/DJL9CORCcjTVHqKIhZVAFIRjUrHIz1G7926n2AQSCQCXrVA3wmoqSdHYdapBVR5ESq/j3bitVsp049cyY8lrN5zzz0Rza1XaBE1wkHZSkD5oeTBrN2z1GFL+n8qcKEcqBJoEsGU4FtFs/RSnPrj9NChQ05EVlVkhVBiEPA7AXmgyJtaon/qMEQJM9ok0IdW5cqV/T6MmPVPv1+JUUfj0apVK5eSBIOAHwioqNnMmTOdYKo8vXrGKsxY73LaAJDwR9GzzM2UBGlt/uo5L0H65ptvtt27dzuh6frrr3fF9eRUgEEgRGDlypVOkFQuVG2oh0zPVj1TtJkhJwI/mO4Vujfce++9LppQ/61UBIMHD3Z5z7XpohQWElUxCEAg9gQUzSsnGxV+1PNb75vr16+3efPmuW9oRTosW7bM1dPAIJAoBLxqgYESUPWD1k6qwpQvuOCClDnUS7mKBMlTJyMLQQr9nV5G5c2kcBYs8QhIOHzxxRdN1Wszyp80duxYl1vx7rvvTojBa2dQL8YZvRDroTd58mRXuTxSD+2EgMIgAkdA3tL9+vVzkQdVq1ZN1/+33nrL8uXL5yoPJ4PppbZ///6uenlGKWrEQx+VElQwCPiBgIRS5RpXZfhvvvnGhQM+8cQTThBRWL/WtLzjsMgIqPKxPmyVwkROA+PGjXPCmH77ep5rA0VeqaGQy8iuylGJTuC9995zef/vvPPOdEMNbbjLEcUPBd0k1iiiUJuner5rTet7Tik/tPmivKgKLe7SpUuiTxvjg0C2EHjllVdcPm2lR9SGvJxxdP/Q80ae6xJRlXN7yJAh2dI/GoVAVhBIKgF1wYIFzqVcYZ7yRA2ZftgSRWfMmJEhYwTUrFh6/r2mvDP69u3rwg6UBzTcVMl79erV1q1bN/8OIhM9k0etvLBvuOGGdGcpBFgfW/p41TEYBPxKQLk+tZZ1P88o5YQ2Anbs2JHhR6Ffx+SlX3rOaef/aDwUnRFK0eGlHc6FQCwISBiNpMibIomwyAhIQErtLHC0s2AaGc9kOUrvfEpbJeeScDveczbejORFrQJSx7Inn3zShfJjEIBA7AlIPJWIeiyTY4M27zAIJAqBpBRQ9QKQ+gNbuyPagVdOqEjMK7RI2uCY7COgnKB6GMhrI6PqgRIlFNYugTURTOH7+k3cd999LlQytSl/msL+HnjgAZcPFoOAXwko5PfVV191+f7CPcclzsgLRSkqMvoo9OuYvPQrEh7lypXLcOPES7ucC4FoCZx22mkuukfFG+WBqt+ynj/yQFV+w23btrnUOlhkBLQZrJztEpnkoSePIG2o6H1X3nqqA6BckSq6ikEgRGDKlCnOqaRr167p3gnliKIijXonTJ3eKrvohcQbRRYq3UAohF8eqIoWU2o2rXul78EgAIHYE3j33Xddmrd33nnHvU/KAzUUwq+ikHoff/zxx0kVE3v0XDEbCXjVApMihD98frxCy8b5pukICcgbWS9keiikTpavfErTp093YcAVK1aM8Gr+PkyFAvRxpWIdymETElH1sarQKI0zWUQnf88UvTseAW0G6MVN6SjkQSOTd5VEGP2jtBt+Kn5xvPF4/fsPPvjAfvrpJ3h4Bcn5cSGgsGBtdAwaNMh5ToZyoGojT2KOxBLlq8ciJ6Bnt95n5IEvQVUpO+R5/q9//cv69OnjIkwyCtWOvAWOTDQCocij+vXru42L0Dvh9u3b3Tuh0pcpX7EfTJv/2ghU0TkJu+qzNlxU1EYRh0pPpWiMZCoe6Yd5oQ/JQ0BOR3JK06acikYpr7bew+WUpt+j0n7onhJ6J08eMow0kQl41QIDJaCGikj17NnTHn74YTevynepnFsUkUrkZZ75sWldaFdNL14K41cVawmNelnTR52KSIV7a2a+Ff+cMWfOHFdUQr8F7eIrb82aNWtMHkESkeVxi0HA7wT27dvncln/8ccfVqlSpZSq8/rw0wZB3bp1/T6EmPYPHjHFycWymMCBAwfcJp48IhXxoD/r2SNvanmW6RmVO3fuLO5FYl1e9z6x+/nnn91mkkzPeW2Q3njjjaaCmYhLiTXnsRiNNhw///xz9w6o2hGhd0KJIPIw89M7oXIma/NFAo42CWQqdJUzZ06TN+2VV14ZCyRcAwIQOAoBiaV6nugZo+e2THm2lQtVxd0U+YBBIJEIJJyAunfvXgsNSh4M2mFXJUYJYApVklD6wgsvOI87CWNKMK6XBIlFkRbJ8QotkRZQIo9F1auXLFniqgrKY0OCjAQYrZtEEk9Dc6gdQ4VnSXzSy7EqJuo3xAdrIq/yxBvbwYMHnff48uXL3YuccvcqhEjh+8loIR7yAtDLrD6Ia9eunbQ8knENBGnM8hhTCh3lM5b3tLzLFIarQoa5cuUK0lB801eJSs8//7zbXFJF8mrVqrkc7vI8RTz1zTT5riP6/SmVhsR2bWioOKPeCSVO+s20uaLvOXmhqn9KW/H000+793YMAhDIegIrV650uYanTZvmPL+Vgkeh+/IExyCQaAS8aoG+80CVGCrBNNy0Y6rQE+2OqFKcqsGpoqt25rU7klHV5qNNtldoibaIEnU8Wi96AQtVqJWQ2LhxY5fnpWDBggk1bOW7mjVrlguzkGnnXmFQegD68WU5oeAzmJgSkJe4Cr3J40qmwjSqQn/11Vf7ymsmpoM+xsXkhaoQXr3chiqYS5Rq1KiRlShRIl7doB0IRERAz1u9rykqImRKI6P8xk2aNInoGhyUloA+aJWzcu3ate4vJJrqPVnvMqkLqsINAkEkoO86Cb0KHw55oOodXRuFihhLRIeHIM4TfU5cAhJMlbtcTkeK4JTp/VJ1ROTBjkEg0Qh41QJ9J6DGY4K8QotHH2nDGwEVipLXi7xN5Y2ph8Jtt93mktKr8IL+nCjeMBJPla5AOWzkqVeoUCGXv0beqPJW08esBFUMAn4nsHXrVhs+fLiLONDHkwqoaH3rw0rhfXfddVdSbQjIA1c5DuV5Ki8ARWHIw1w85FUvDzR56GIQ8AOBHTt2uMgHbW4rV6cihST06Z1Lv+2pU6e69DlY5ASUs135KvV818aJQrP1u3///ffd/VGe6XrmYxAIKoFQCqrq1au7+4dMEShLly51OVwzcqoJ6ljpNwT8RkAb86NHj3bORvqG1DeyooEXLVrk3r9bt27tvqUxCCQSAa9aIAJqIq0GxuII6GGgQjP6uJBQ+tprr7m0D/q4UwicCtQo55Kq1ieCSSzWDr3GJW+9kIUKCTRr1sx5o2IQ8DuBMWPGOGFQxaJSp55QHsDBgwe73fBatWr5fRgx65+EUn1cdu7c2d3PQiYPAVUpVj47FcTDIOAHAgrT79evnwvDrVmzpkurJKFPomnlypXdel22bJkfuhqYPsj7fs+ePfb999+70EptBGtDRfcGeaE/+OCDFOYKzGzS0XACWtt6R1fu5HChVM8+FaBT3Yv8+fMDDwIQyAICP/zwg3Mu0rMltbdpSFiVV/i9996LJ3gWsOeS2UcAATUK9l6hRdEkp8SRgELZFbqucH15brz88ssu9E2Cg0zJsJX64auvvopjr7KmKXn69O/f32666Sb3gRpuCvGTqHrrrbdmTQe4KgRiREDelspxrTDfCy+8MN1VVSxF4mqHDh1i1KL/L6NUNRKdWrRoka6zX3/9tauS+sgjjySVV67/Zy15e6hw8i1btrhnrTxYJKiqAIy8UfWckgiojT1tcGLHJ6AclioKKc88fcDKS0geqGKpnJZ6lylVqpQrkIlBIIgE9BxTnQJtBGhNpza9EyifsjYKFMqPQQACsScwYcIE52CUUaEoRTMqwlERnaSMij17rph9BLxqgXigZt/c0XIWEZDHi0IOZPLMDFWuDeVR0p+Vk027bkE3hUVKZJHHXkYfpapg+vvvv7vQZwwCfiagKsHyRGnTpk2G4UL6yFKxwK5du/p5GDHtm7z55IEmz9twEwvd6yRSRVpAMaad42IQCCOg3Jx6vqZ+7oY/h+WBGgrTBeCxCUhc0mZvOMPUf1YqolDOOnhCIGgEVDxKocIPPfRQhl2XA4R+AwrlxyAAgdgT0Mac0rxpozPclDJKEZtKBZeshVxjT5wr+oEAAmoUs+AVWhRNckocCaxbt87lcJGwoJcv/RMK4ZdXjHIGyjtVu25BN+3QqziHXi7r1q2bZjgKv5AAc/bZZ7uKphgE/EzgyJEjbi0r3YQKRqU2iTLaKDjllFMyfMnz87i89O29995z4bvyug0vpPHxxx87jz4Vl6EStxfKnBsrAkqvoZxp8jLdv39/Sgi/PsxatWplH374oSkdh/IZY8cnoNDJYsWKOQ90feTqn1AIv1KcKC+q3nXmzZt3/ItxBAR8SCAUPpyRh1vIQUD3j0qVKvmw93QJAsEnIOcE5RvWN3N4vYxQpJPSaLBRH/y5ZgT/n4BXLRAPVFZTQhJQARolodcHm6p7SkBVdW/lA1WF74ULFyZMSJDyoqlCd9u2bVO8UCWeKpWBxqmwDH1oYRDwOwGtWXmjyAtVBVNkEk+VB015FbXGFdKaLKYHvEQTeaDqnhYSUbVJJHFVhaUosJEsq8H/4wxFf7Rv39769u1rhQsXdl7S+g23a9fOPX/HjRvn/4H4qIdKQ/TRRx/ZqFGjnKepBFRtBCukXyl6tBGcUYoPHw2BrkDgqAT0rqqUFMpxque+ir7KtAET2kDs1q0bm4SsIQhkEQF5mQ4YMMAuuOACu/baa1NqaWzbts09Y+R52rJlyyxqnctCIHsIIKBGwd0rtCia5JQ4E1BOMHnDKB9bKIS/YMGCzpvr6aeftmeeeSbOPcq65g4ePOhy1GzatMmJTqrIq9xpColW8Y5QCGDW9YArQyA2BA4fPuw+mpR3SRXnixQp4vL7KT/T5ZdfbvXr149NQwG6ioRjeZipiJTyHeplV9VSlexfBaTCPQYCNDS6moAElE7mrbfect4qet6G7Nxzz3V5x/UcxiInoDznepdRyo6QiaG8U+W1p+J6GASCTEDODXqHVRSKPKplP/74oxNytGmq3MoYBCCQdQRUcFnOOIoOUdSint16Dz/ttNNc+H5oYyPresCVIRBfAl61QDxQ4ztftBZHAvrw+Pe//22TJ092HxtKQq+CKxJigmoSg7UrqCq8ElRCIRUSnhTOq38U1q+wv4suugjP06BOdBL3Wx4p3333navWLY8rJa5XUSmJh8liYqDwRY1fv2XlMV68eLETT/WCqxySEqQI3U+WFRGscargm9LHrFq1yj2D5H3avXv3dEVigjWq7Outnvfi+fbbb7vnv37/St1Bap7smxNaji0BeVUrXDi0USAhVZv/8kzFIACBrCegZ4siwLRBr9zaes7UqFHD/TcGgUQjgIAaxYx6hRZFk5wSZwLK5zJnzhwnnMrkpRXKrRjUh4F2A2fMmOE+oGQK51UxLFUt5yUzzguM5rKEgML2lNtTKSlCnuPaKFAV3pBnSpY07KOLahPks88+s127drleyQunWrVqzpv8pJNO8lFP6QoE0hLQRp5S5Mib5e+//3Z/qWeTNi21CYJFR0DvrMpTp/yxoWe/NlAUbkk+2eiYcpZ/COhZL+90perRO4BMOX7lBHDFFVewUeifqaInCUpAv8EFCxa4f0K/Qb1vyvFIkV9s1ifoxCfxsLxqgXigJvHiSdShy3tNoQhVq1Z1L2Ann3yyKVG9wmAVFnzrrbemK8jidxYqzKFcNPLCq1OnjiumozD9uXPnOq8ehU0irvh9FunfsQhIcBk+fLjb9FBRNIWo67/1QqfNg9atW1uFChUSGuKKFSts4sSJrmDGpZde6sKmFMqoe5c8ceXJx4tsQi+BwA5OH2DKb7p27Vr3jKpcubLzoP7222+dN7kKw2lNY5kjoHuf8p8qD51yHodS9OjZr/uDnv0SmzAIBJWA1vLnn39uNWvWdHkY5fCgZ6Fy+MsLrmnTpkEdGv2GQCAIhFJFaaNTv0G9Z4Z+g/oz0Q6BmEY6mQkCCKiZgBU61Cu0KJrklDgRUA4lFa9QDhe9dKWuXC0hQvkVg1iIRsKSwnpVnEMeaSFTSO/AgQOtYcOGfJzGaY3RTNYQCG18hFfj1bqXgKBdcf1deDX6rOlN/K8aKqahfG833XRTmnH+/PPPNnLkSKMacfznhRYjI6CwPz2nVNBIm5epbfr06e5jTFV+Efsi4xk66s0333TPfOWhS715Im/UQYMGWePGjd1GMQaBIBJQeoo+ffq4cH0VS0xtSlujQrAqmKZcjBgEIBB7Avv27XPfzRkVJVVaDUWFdenSxaWNwyCQKAS8aoF4oCbKSmAcjoC8NZSMvlOnTla8ePE0VOQho0qDZcqUCdRumpJ56wXzxhtvdKG84TZ27FjTA/DOO+9kFUAgsAQkkuo3qg2OcFNeNFXzTuSXuJAApd9xRvlehwwZ4j4idR/AIOA3Ap988omtXr3aevTokW6TQ0XgXn/9dTYAMjlpKgT52muvuQ0VefSG25gxY1yqBImrGASCSEDe6apT8OCDD6ZLRyGHiFdeecWJq8lYQDKI80mfg0dAzgvaqNBvMLxYlNLy6DcocbVu3brBGxw9hsBRCCCgRrE0vEKLoklOiRMBhepLUMzoZUxdUBEGVbANkgghL9M33njDhe+WK1cuHUl590h8kWiMQSCoBOS9ptQUzZs3TzcEVekdNmyYdezYMWELo61bt8552nbr1s1xyEgskQfaLbfcEtQppt8JTGDq1Kmu8Jl+o+GmUP4XXnjB/bYVkotFRkBepoowUeSJ0g+Fm5j/9ttv1qFDh8guyFEQ8BmBb775xrT58uSTT2YYXaKNF+X6Vx50DAIQiD0B5R9W3v3HH388w9+gNvHkvHPllVfGvnGuCIFsIuBVC8QDNZsmjmazhsDOnTutf//+dsMNN7g8LqlNIcDy5GzQoIHbTQuKaQdQ/Q4VwUrdb3nsabzyqm3WrFlQhkQ/IZCOwEcffeSqdvfs2TNNmgodqPxoyoWqytOJmutXnuYKo1KuSHncpLaDBw+6e0CtWrXwxOG340sCEkIU6icPVG1SpjYVhZswYYJ17tzZihUr5sv++7FT8i599dVXXQGu8PBmpfzo16+fyxWt9x0MAkEkEIq8UG0Cpd5Kbb///ruLGmPjJYgzS5+DQkA1NuRclJGTjooWK1VMy5YtrUqVKkEZEv2EwHEJIKAeF1H6A7xCi6JJTokjAeU53bRpk912222u8IrswIEDrjiLcgnqAy88TCGO3YuqqVmzZrkqpa1atXKFdJQHUsKq/v+iRYtcIYmSJUtGdW1OgoAfCIRy+lWvXt3l9cuVK5frloql6Tet/6+q04lsH3zwgckTtU2bNnbmmWe6ocp7b8qUKa6YVNeuXdOJU4nMg7EFh4BEfnmqnH766S7kXMUbZfpdy7Na+dP0gYZljsDMmTNN4rTyH4cEJj37Z8yY4Qp0heeMztzVORoC2UtATgCKLtH9QyJqkSJFXIeUlkppe3bt2mXdu3d3haUwCEAg9gT0G1SKKD1X9BsMRUDt3bvXvXvr34qMSl1/I/a94IoQiC8Br1ogHqjxnS9aiwMBvXgpD6pC2xT2pg855UaVSYAM3+WOQ5c8N6EHW6jCsURhPeB++eUX95IpUYkiEp4RcwEfEFA+NImFefLkcV7Vu3fvNoXvqwJ169atE74AjQpqSGzSmCWg5suXz2366PcvD4BKlSr5YJboAgQyJqC1KtFDuQvLly/vRBF5txQtWtTlNg73TIXj8Qnoty+m2ljRs79w4cLu2a97xXXXXWc1atQ4/kU4AgI+JqDIsXfeeceU81fPeomlemdXwTkJOjgH+Hjy6FpCEFCqOH03651bqeKULkrOC4r4kjOSNkYxCCQSAQTUKGbTK7QomuSUOBPQR4fCgZUTVWFwegGrWbOmFShQIM49iV1z2iXU2lU1Y308yaNHY6I6aWSMtYsqz2TtokpYl/gskV0vCPozu6uRcczqo1RwRtV3FTqkDymtb/1+9WGVqOH7qZlKfFIxHv0j71O9uOp3XqhQoaxGz/UTkEBoE0Ie3dqUyGpPLt1nVZRi48aN7p56zjnnWNWqVVM8yhMQcZYPSeH6evbL41SpPuSld/nll5MOIcvJ00CL75GEAAAgAElEQVS8COhZt3z5cvd+q3d2vZOpaI02ETEIQCDrCWjDU79BPWv0val3bqXCC0WTZH0PaAEC8SPgVQvEAzV+c0VLEIBANhDQi7ly8+nFQB+iMu2uhv5bf86fP79dccUV6fLmZkN3afJ/CYRCVJcsWeK82WQSgJQbVDmMNX8YBCBwdAJKW6PKutpI1MeQTB9CEt4uvvjiDItFwNOfBBTGrIJR8ggKmTZUVFincuXK/uw0vYJAJgjIU133K+U9DZk2D5XfN5SKKxOX41AIQAACEIDAUQkgoEaxOLxCi6JJToEABLKBgISDMWPGuDBSCaTyhho9erTz4pGXg4ryqCq0ChTJ84FiBdkwSRk0qVyg8sCsX7++q/4pEVVi6vz58534c8011/ijo/QCAj4koM2hESNGODFClXNVxVpRC19//bXz7tbvJ7xQmQ+HQZf+l4CEcOWnk2kuFV4pQfXLL790ETbKl6y86BgEgkpgy5YtNnz4cDvjjDPcM1+F5hQtNGfOHLfWO3bsmJKXMahjpN8QgAAEIOAfAl61QDxQ/TOX9AQCEIgxAeWKk5CgAhzKH7l06VKXY7NTp05OMJWgcP/997vQcFWJVu5JFerBwzHGE5GJyymtwuDBg61p06aucFRqk2igjyoVggtyOo5M4OBQCGSawJo1a1zezDvuuMOF7ae2adOmOeGtZ8+eWR7On+mOc0I6Atrcmz17tnXp0sXlPw2ZNgeVs04Ca4cOHfAoZu0EloDy+6vYnAqipU4xorX9xhtvOC/rRC8gGdjJo+MQgAAEAkgAATWKSfMKLYomOQUCEMgGAqpUrBBWCW45cuRwooLy/Nx+++0uWXrfvn1dcZ4qVaq4Yj0jR4503g4kTM+Gyfp/Tc6dO9e++uore/DBB9PlpdUHVe/eva1JkyYuLygGAQikJ6BNInl1aaMo3EIbFCrqpEJPmL8JyDNPKWZUADPc5KUv8UnPN3Ik+3se6V3GBOQt//zzz9tVV13lIoLCbebMmfb999+7jW4MAhCAAAQgEAsCXrVAPFBjMQtcAwIQ8CWB6dOnu4rFnTt3dv2Tx44qu8ojVSH8vXr1SvF0DAkL7du3dwUMsOwh8Nlnn7l8tfKQCzd5XWnO9LFFCHL2zA+t+p+AvOlVzEkeqOEW2ji65ZZbXGg/5m8CQ4cOdTkglQsy3EKbfvfdd58VLVrU3wOhdxDIgIDS8zz33HNufatgTbjNmzfPpVh65JFH4AcBCEAAAhCICQEE1CgweoUWRZOcAgEIZAOBUMi+wvJVuVihkIsWLXLeDD/++KNNnDjR7r33XlfpXZ6PyrGpv8uTJ0829JYmRUDhxWPHjs3QE3jt2rUup+1dd91lZ555JsAgAIEMCCxcuNBmzZrlNiHkvZjalLbkk08+cV6LBQsWhJ/PCaiwjlIyaL5OPPHENL1VccSQd1743/l8WHQPAikElLJH6Sm0qZPatGH65ptvuuJ3t912G8QgAAEIQAACMSHgVQvEAzUm08BFIAABPxKQl2n//v2dUBAKgVROLRUrUIEV/VtFOCSmymtLHhDk2sremVRIn+ZIudD0QSXhW7Z161aXgkG5T++8805y/mXvNNG6jwmoYFS/fv1cKpIWLVo4EVVihDwWtTmhYno33nijj0dA10IEtm3b5opIVa1a1T2blK9bcynhdPLkyVa3bl1XeAeDQFAJhDa6GzZs6CJLtBlw+PBh+/zzz92m9q233mpnn312UIdHvyEAAQhAwGcEEFCjmBCv0KJoklMgAIFsIqBcgKNHj7b9+/c7r8U9e/a4yq4y/Vliwx9//OFe0CWy5sqVK5t6SrMhAhK3lW5B4caaI4X5aR4VpqrcjXjOsVYgcGwCGzZscBsOhw4dSrnPqVCL0pO0bt0aL/sALaCQWKrihiVLlnTPL/2j3N0Swil6GKDJpKvpCGhD4NNPPzV5zmuzR895pVTSu5lE1dq1a0MNAhCAAAQgEDMCXrVAPFBjNhVcCAKJQ0Af3evWrXMFl4oXLx74okoah/Jq/vrrr867QSKChFQJCsqJqg/RcuXK4dXokyUssXTTpk0pH1GaMwncqsZLqKpPJoluxJSANgl0z923b5/zutY9SoXvvJgEiGXLlrnfkjy69fs566yzENy8QI3DuRKUlLt7x44dTlBSsS+tiyVLlrjICaWYqVatmpUqVcrzGonDcGgiQAS09nS/0LtR3rx53f1C9454mERTeaPq3Uwh/YoIOvXUU+PRNG1AAAIQgEASEUBAjWKyvUKLoklOgUBgCHzzzTemQj4SHUMmL0B5upxyyimBGQcdDR4BeVUpL62E7pApZLVBgwYUjQredNLjCAmsWrXKlM9ShZ9CJi+s5s2buzQjWPIQ2Lx5s02aNMkJpSGTiKrw/XPPPTd5QDDSuBOQaKrnr9LlhEwiaqNGjez888+Pe39oEAIQgAAEIJAVBLxqgXigZsWscE0IBJRAKBdVjRo1rE6dOi5UWjeZmTNnmnJTdurUyeVgwyAQawIS7FVMQl53V199tfN8kSeKcqAtXrz4qFV6Y90PrgeBeBJYv369jRo1yipWrOhyWUo41QaCQlrlgXjPPfc4byws8Qns3LnThg4d6jyQFbosD1MJqcoFqUJSSl+iSAkMArEmoM0bPX/z5cvnBNOyZcua1uMXX3xhK1assJtvvtkqVaoU62a5HgQgAAEIQCDuBBBQo0DuFVoUTXIKBHxPQALp66+/7nKstWzZMk1/5Rmov9OLtZL8YxCINYFQdfAuXbqkFI4KtfHBBx84Ualbt26EH8caPNfLVgJvv/22y/Hbvn37NGv7wIEDrgCePL+0oYAlPoFPPvnEiVVdu3ZNk6NWz+bhw4e7dDPt2rVLfBCMMO4EJNIvWLDAunfv7kTUkCmkXznklUKiY8eOpIyI+8zQIAQgAAEIxJqAVy0QD9RYzwjXg0BACSj/lDwQ9IGWkZfLmDFj3Ie+vGAwCMSagLzw5H2qirvhpurhI0eOdN54JUqUiHXTXA8C2UJAXtcvvvjiUb2rP/roI5cXVYIalvgEJJhXqFDBGjdunG6w3333nU2bNs0ee+wxJ6RiEIglAXk+n3baaS5tSLgpxcj48eOtZ8+eFHCMJXSuBQEIQAAC2UIAATUK7F6hRdEkp0DA9wRUuEcv0XfddZer2hxuEyZMcDn67rjjDt+PhQ4Gj8A777zjvK5atWqVrvPKCzhs2DC7++67nYc0BoFEIKAiT71797YWLVpY1apV0w1p1qxZpgrsPXr0SIThMobjEOjbt6+dd955duWVV6Y7Up6pyk/5yCOPpPFOBSoEYkFAm+d677vuuuvSXU7fTPJCVQQIefBjQZtrQAACEIBAdhLwqgXigZqds0fbEPARgb///tv69OnjKp8qVD+1yVNKH3cXX3yxXXHFFT7qNV1JFAJz5syxr776ynm5SEhNbcoHqTyoDzzwgOXKlStRhsw4kpyAwmMHDhzoPL/CNw4Utj1gwAC3YaACfljiE1CqEm0W3XfffelSlYwdO9b++OMP69y5M2HUib8U4j7C6dOn2w8//OBC+HPmzJmm/SlTpphyNevvTjjhhLj3jQYhAAEIQAACsSSAgBoFTa/QomiSUyAQCAKzZ892RXvkhaDce3pZ3r17t02dOtV++eUX92FXqFChQIyFTgaLgNaZBCN5wTRt2tSFCkpEWr58uQtdrV27doaeWcEaJb2FQFoCS5YscfdXbUxdeumlboNg//79rnCf1r4iAvC6To5Vs3HjRpfrVM9ebWKefPLJpo3NhQsXmjaYbrjhBrfBiUEg1gS2b99uQ4YMsXPOOceuvfZay58/v0vZ9O2335py82o91qpVK9bNcj0IQAACEIBA3Al41QLxQI37lNEgBPxLQIKVPuaXLVvmCgkUKFDAlBtVOdfkIVW+fHn/dp6eBZ7ATz/9ZOPGjTN5PBcrVsyljFDximrVqlmzZs3wfgn8DDOAcALyQtXG1Zdffuk8rwsXLuwqr+v/SzBTSDeWPAT07NWGkfJBFy1a1FTAUQXF6tataw0aNMD7NHmWQtxHKg9UpYmQcKrnrzY1tZlz0UUXuby8WpMYBCAAAQhAIOgEEFCjmEGv0KJoklMgECgCyoe6cuXKFCFLH/EnnXRSoMZAZ4NJQOKp8v1JuFcoobyw5JVXpEgRO/vss+3EE0887sAkPqnwlK6hdVuxYkXLmzfvcc/jAAhkFwGFZ8vjVBsGWuvyQkxdDTu7+kW7Ryeg56QiMxSpoXtTrPJDag1ISN2xY4dbA1oLWhNeTGLYjz/+aIcPH3Ze/vJqRhDzQjQxz1VeZq09beLo2at3P6UYwSAAAQhAAAKJQsCrFhg4D9RnnnnGnn322TTzV7x4cdu6dWvEc+oVWsQNcSAEIAABCERFYOnSpS50UIKqBFSFssojWvkgy5Yte9Rr6sNPXqwKSdR5EgwkcMiDq169eogGUc0GJ0EAAiECEjiVr1Qe89rQ0YaNojeqV69uTZo0SZdDMjvJqV+6jyoUW4Kp7oW6J5YqVcpuuukmd0/FIAABCEAAAhCAQLIQ8KoFBlJAVTVwVacNmV5gM7ND6hVasiwuxgkBCEAgOwjIU+q9995znlcKW1XeXW2SzZgxwzZt2mT33HOPnXrqqem6Ju+ZQYMGuVBoCRmlS5c2/T/lEFSI9NVXX+3yTGIQgAAEoiEgsfStt95yofW6x8i7XYKkNnyUt1b3rOuvvz6aS2fJOerTokWLXP7omjVruk0lvQOraJDukx07dozIqz9LOsdFIQABCEAAAhCAQJwJeNUCAymgTp482b2sRmteoUXbLudBAAIQgMDxCaiQijylbr/99jQeo/JC7d+/v1WqVMmJF+EmoVSba6oWrCJUqU2VhHXv79GjB4LB8aeAIyAAgQwIrFu3zkaNGmXt2rWzcuXKpTlC959PP/3U3WPC7z/ZAVP5K/v27WuXXXaZ1a9fP00XNm/ebMOGDXO5zc8999zs6B5tQgACEIAABCAAgbgT8KoFBlJAffnll51HknLbXXLJJdarV69jFrcJQQrNzoYNG6xMmTIuZxUGAQhAAAL+IaCQ/RdffNGaNm3qQmLDTeGoa9ascSJpuEnYkPDapk2bdH+nXIUjRoywDh062BlnnOGfAdMTCEAgMATkBa9iO926dUuXDkTFnl566aWj3rviPcjVq1e7dCYSdPXOHG7y1lcuVBUrwyAAAQhAAAIQgEAyEEg6AfXjjz92VSHPOeccVyDkueeecy+zKniTUUinFgECajL8FBgjBCCQCARCIkTz5s0zrEAuDy/d7yUKhNu7775ruXPntptvvjnd3yn0/80337S7777biQYYBCAAgcwS0AbO2rVrrWvXrulOPXTokL3wwgtOkLzgggsye+mYH79q1SobP368PfDAA5Y/f/501x86dKiphoA2qzAIQAACEIAABCCQDASSTkANn1Ql8z/rrLPs4Ycftvvvvz+iOfcKLaJGOAgCEIAABKIiMGTIEPfBf+utt6Y5/8iRI/b666+70NmMPvrnzZtnX3zxhfXs2dPy5s2b5lxtvq1YscI9J3LmzBlVvzgJAhBIbgLyfn///fcz3IhZvHixffjhh8479ZRTTsl2UHv37nUh/Mp/Wrt27TT9UZG9gQMH2tE2qrK983QAAhCAAAQgAAEIZAEBr1pg4EL4M2LYsGFDF46vcKRIzCu0SNrgGAhAAAIQiI7A999/76pc16pVy+rWrWsnn3yy/fnnn66atApMKQy/RIkS6S6uDbUBAwa4aAR5gam4oPKmqgK1iqmoIFW9evWi6xRnQQACSU9AVe0HDx7s7ivNmjVzhepUWErh8lOnTrUKFSpYy5YtfcNp2rRptnz5crvuuuusatWqLv+zvPEnTZpk2pC677772FDyzWzREQhAAAIQgAAEspqAVy0w8AKq8uXJA1WVRJ9++umIeHuFFlEjHAQBCEAAAlETmD9/vs2ePdvlNJU3qgRUhedLtFARqaOZxIGxY8fanj17XN6/v/76yxRae9FFF1njxo3T5S2MuoOcCAEIJCUB3Yvee+89l0aqQIECdvjwYXefCYmnuk/5xdQ3iaUK58+TJ4/lypXL3Ru1ydS6deujpr7yS//pBwQgAAEIQAACEIglAa9aYOAE1AcffNCuv/56t+u/bds2lwN17ty5LjRThaEiMa/QImmDYyAAAQgkMgFVcda9VN5XZcuWtSJFiriPdOWo1se5KjvrY92LKQRV3qj6t65fpUoVVzzweCbRQLmxJXDo+MqVK7vzMQhAAALREJC3pu4peu+UEKn72++//24qTqdNHuXlj1VxOjkGKM+zhFoJtPIcVZteTPdC9V/3xlKlSrmoLfUbgwAEIAABCEAAAslEwKsWGDgB9ZZbbnE57vTiqvDMSy+91P7973+7D+RIzSu0SNvhOAhAAAKJRkBFniZMmGDr1q1zH/U5cuRw3lcyhYcq96g8nPTvFi1aWPny5RMNAeOBAASSiMDGjRtdNXvd1yRo6n4nQVV5RZVfVPfAWJk2jBR2rxQBakubR7qvynveD4WpYjVOrgMBCEAAAhCAAASyg4BXLTBwAmosIHuFFos+cA0IQAACQSSg0FV5XSkSQKH0yq83ZcoU522qTS1Vud+5c6d99NFHtmHDBuvUqRNhokGcaPoMAQg40VTFlnRvUx7RYsWKmTxEFy1aZHPmzLFGjRq5XM2xsF9//dVGjBjhPE6vuuoqK1iwoBNQP/vsM1u6dKm1bduWDalYgOYaEIAABCAAAQgkLQGvWiACatIuHQYOAQhAIHMEFL6qYn033nijVatWzYXvS1woWrSoXXjhhTZq1Ci7/fbbXUi/PKj69evnogOuvfbazDXE0RCAAAR8QEAi6cKFC61nz56umF1qU9EovYR3797deYl6NeVu3rFjh91zzz1pwut1n33rrbdcOhKJqBgEIAABCEAAAhCAQHQEEFCj4OYVWhRNcgoEIACBwBOQ19Wnn35qjz32mBMM5J3Vp08fa9WqlfNGffXVV61mzZqu2r1s+vTp9vPPP7tKzxgEIACBoBGQR6hC6Vu2bJmu67q3jRw50jp37uw8U73aiy++aJdddpnVrVs33aV0750xY4Y99dRTMU0Z4LXPnA8BCEAAAhCAAASCRMCrFogHapBmm75CAAIQyEYCX3/9tc2cOdMeffRRy5kzpwsvlWh60003uaIqr7zyivNEDQmoH374oQv3v/fee7Ox1zQNAQhAIDoCElDz58/v7nHh9tNPP9k777wTUwFVeVXr1auXri15wc6aNcuefPJJBNToppKzIAABCEAAAhCAgIsekqmgZjSGgBoNNc6BAAQgkIQEVLxvwIAB1rRpU6tevboL4R88eLAVKlTIeZ6+//77duedd7oqz4cOHbLXXnvNzj//fLv66quTkBZDhgAEgk5ARUvnzZtnPXr0sHz58qUZzqRJk1ye527dusWkov348eNNaVKUNzp1SoB//vnHhg0b5jxh27RpE3Sk9B8CEIAABCAAAQhkGwEE1CjQe4UWRZOcAgEIQCAhCOgjX/dQ5TWtUqWKrV692iZOnOg++E8//XQnoP7222/2ySef2JYtW5wYcMoppyTE2BkEBCCQXAT27dvn8jxrk6hJkyZWsmRJ279/v8uL+uWXX7r74EUXXRQTKJs2bbLhw4fbOeecYw0bNrQiRYq4gnyzZ8+2lStXWrt27Vx+aQwCEIAABCAAAQhAIDoCXrVAPFCj485ZEIAABJKSgDxLJ0+e7IRThfHnyJHDFYzSv2UqdHLgwIGUvIGlS5dOSk4MGgIQSAwCW7dutXHjxjkxU/c33QNPOOEEl6tU4fahe18sRvvDDz+YilP99ddflidPHncvVZvXXXedVa1aNRZNcA0IQAACEIAABCCQtAQQUKOYeq/QomiSUyAAAQgkFIHt27c7T1SF8ZcrV855mUpUlXfWqaeeahUqVIhJZeqEgpakg5EItGLFClMKCFUylxBUtGjRJKXBsDNLQMXqli9fbrt373aeoOedd57LSxpPUxj9unXrXIi9hE0VzQsP6Y9Vf7QhtWbNGtu1a5cVLFjQtZU7d+5YXZ7rQAACEIAABCAAgaQl4FULxAM1aZcOA4cABCAAAQhkLQG9pEyYMMF57Uk0lRgmQfXiiy+2a665Jqbee1k7Eq6eHQRUfV6F65QiRJs0O3bsMImZjRs3dgXrMAhAAAIQgAAEIAABCERKAAE1UlKpjvMKLYomOQUCEIAABCCQVAQkdg0aNMjKly/v8kfKm+7w4cP2zTffOFGsUaNGVqtWraRiwmAjJ7B27VobM2aMXXLJJVa/fn3n+anQduUE/fbbb61t27ZubWEQgAAEIAABCEAAAhCIhIBXLRAP1EgocwwEIAABCEAAApkioEJiCt1XBfNcuXKlOXfKlCm2fv166969e0wqmGeqYxwcCAIjR460I0eOWPv27dN4KittyJtvvunSQdx2222BGAudhAAEIAABCEAAAhDIfgIIqFHMgVdoUTTJKRCAAAQgAIGkIjB06FArUaKE3XDDDenGrXySo0aNsi5duricuRgEUhOQSPrcc885L2V5oIbbggULbM6cOfbEE08ADgIQgAAEIAABCEAAAhER8KoF4oEaEWYOggAEIAABCEAgMwTkJVikSBG78cYb052mauNjx451HqiFCxfOzGU5NgkISEDt1auXXX755VanTp10I547d64tXLjQHn300SSgwRAhAAEIQAACEIAABGJBAAE1CopeoUXRJKdAAAIQgAAEkoqARK758+c7kTR1xXKJY++//77t3LnTOnfuTCGppFoVkQ923Lhxtn37duvUqZMrIhUy5dEdOHCglSxZ0lq0aBH5BTkSAhCAAAQgAAEIQCCpCXjVAvFATerlw+AhAAEIQAACWUNg7969NnjwYMufP79dffXVVrZsWdu1a5fNmzfPlixZ4sSvqlWrZk3jXDXwBDZt2mQjRoywcuXK2ZVXXmnFixe3rVu32qxZs2zDhg129913uxQRGAQgAAEIQAACEIAABCIhgIAaCaWwY7xCi6JJToEABCAAAQgkHYFt27bZBx98YPp3yE466SRr2LCh1axZM+l4MODMEdD72tSpU23Pnj0pJxYsWNCaNm1q5cuXz9zFOBoCEIAABCAAAQhAIKkJeNUC8UBN6uXD4CEAAQhAIOgEDh06ZMuXL7eNGze6UOdKlSrZWWed5Zvq9grZ//XXX104tiqnV6hQwXLlyhUz7P/884/9+OOP7h+1Vbp0aefZGss2YtZZLpRpAkeOHLH169fb7t27rVChQk44PeGEEzJ9HU6AAAQgAAEIQAACEEhuAgioUcy/V2hRNMkpEIAABCAAgZgT2Lx5s40ZM8b2799vZ5xxhh08eNB+//13O/PMM61NmzZOsExk27dvn40ePdq2bNlixYoVs5w5c5qYFChQwG677Tb3/zAIQAACEIAABCAAAQhAAAJetUA8UFlDEIAABCAAgQASkOdp//79XRX7li1bun/LA1P5IVWAp0yZMnbzzTcHcGSRd/ndd9+13377zY2zVKlS7sQdO3a48R84cMC6du2apgBR5FfmSAhAAAIQgAAEIAABCEAgkQggoEYxm16hRdEkp0AAAhCAAARiSmDx4sX24Ycfuir3Ek9T23fffWfTpk2zbt262SmnnBLTdv1yMeVVHTRokBOPq1SpkqZbShegSu0UqvLLbNEPCEAAAhCAAAQgAAEIZC8Br1ogHqjZO3+0DgEIQAACEIiKwJQpU5z3ZceOHdOd/9dff1nv3r0TWkAMicRPPvlkhl6mb7zxhssF27hx46j4chIEIAABCEAAAhCAAAQgkDgEEFCjmEuv0KJoklMgAAEIQAACMSUwffp0V1ynS5culiNHjjTX3rlzpwvvV2i7ikoloqlw1qRJk+yhhx6yvHnzphmiUhn06dPHzjvvPGvYsGEiDp8xQQACEIAABCAAAQhAAAKZIOBVC8QDNROwORQCEIAABCDgFwLr1q2zUaNGuWJJ8rRMbTNnzjSF+N9///120kkn+aXLMe2HCmdJJK1Tp47Vr18/zbVXr17t8qDeddddrqAWBgEIQAACEIAABCAAAQgkNwEE1Cjm3yu0KJrkFAhAAAIQgEBMCcjLcuTIkbZ161a76qqr7Nxzz7WDBw/aN998Y1999ZU1aNDA6tWrF9M2/XaxWbNm2fz5852IWqNGDcuVK5etXLnSPvvsMytbtqy1bt06nXeu38ZAfyAAAQhAAAIQgAAEIACBrCfgVQvEAzXr54gWIAABCEAAAllCQIKpCklJNJSgKpPHae3ata1u3boJLx5qzHPmzHGC8d9//+3Gf8IJJ1i1atXs2muvtdy5c2cJdy4KAQhAAAIQgAAEIAABCASLAAJqFPPlFVoUTXIKBCAAAQhAIMsI/Pnnn7Zp0ybLmTOn87xMNuHwwIEDtmHDBjty5IiVKlXKChQokGWsuTAEIAABCEAAAhCAAAQgEDwCXrVAPFCDN+f0GAIQgAAEIAABCEAAAhCAAAQgAAEIQAACEIiQAAJqhKBSH+YVWhRNcgoEIAABCEAAAhCAAAQgAAEIQAACEIAABCCQDQS8aoF4oGbDpNEkBCAAAQhAAAIQgAAEIAABCEAAAhCAAAQgEB8CCKhRcPYKLYomOQUCEIAABCAAAQhAAAIQgAAEIAABCEAAAhDIBgJetUA8ULNh0mgSAhCAAAQgAAEIQAACEIAABCAAAQhAAAIQiA8BBNQoOHuFFkWTnAIBCEAAAhCAAAQgAAEIQAACEIAABCAAAQhkAwGvWiAeqNkwaTQJAQhAAAIQgAAEIAABCEAAAhCAAAQgAAEIxIcAAmoUnL1Ci6JJToEABCAAAQhAAAIQgAAEIAABCEAAAhCAAASygYBXLRAP1GyYNJqEAAQgAAEIQAACEIAABCAAAdJQN9sAABcaSURBVAhAAAIQgAAE4kMgaQXUgQMH2ssvv2xbtmyxKlWq2GuvvWZ169aNiLpXaBE1wkEQgAAEIAABCEAAAhCAAAQgAAEIQAACEIBAthPwqgUG0gN17Nix1rZtW5OIetlll9mQIUPszTfftFWrVlnp0qWPOyleoR23AQ6AAAQgAAEIQAACEIAABCAAAQhAAAIQgAAEfEHAqxYYSAH1kksusRo1atigQYNSJuHcc8+1Zs2a2QsvvHDcifEK7bgNcAAEIAABCEAAAhCAAAQgAAEIQAACEIAABCDgCwJetcDACaiHDh2yvHnz2vjx46158+Ypk9C9e3dbunSpzZ07N93EhCCF/kJ/zpUrl5UpU8YXk0gnIAABCEAAAhCAAAQgAAEIQAACEIAABCAAgawhsGHDBjv99NOtcuXKUTUQOAF18+bNVrJkSZs/f77Vrl07ZdC9evWykSNH2po1a44roK5evdpy5sxpFSpUiAoaJ0HATwR0E5CxIeCnWaEvXgiwpr3Q41y/EWA9+21G6I9XAqxprwQ5308EWM9+mg36EgsCrOlYUOQafiEQ6/Ush0yl/cyfP39UQwysgLpgwQKrVatWyqCff/55e/fdd+2HH344LgivbrvHbYADIBBHAqznOMKmqbgQYE3HBTONxIkA6zlOoGkmbgRY03FDTUNxIMB6jgNkmogrAdZ0XHHTWBYT8Nt6DpyAGk0If/ic+m0SsnjNcfkEJ8B6TvAJTsLhsaaTcNITeMis5wSe3CQdGms6SSc+QYfNek7QiU3iYbGmk3jyE3DoflvPgRNQtSZURKpmzZo2cODAlCWiHAZNmzaliFQC/mgY0rEJ+O2mwnxBwCsB1rRXgpzvJwKsZz/NBn2JBQHWdCwocg2/EGA9+2Um6EesCLCmY0WS6/iBgN/WcyAF1LFjx1rbtm1t8ODBLox/6NChNmzYMFu5cmVEeSD9Ngl+WJj0IbgEWM/BnTt6njEB1jQrI5EIsJ4TaTYZiwiwplkHiUSA9ZxIs8lYuEezBhKNgN/u0YEUULUo5H3au3dv27Jli1WtWtX69u1r9erVS7T1wnggAAEIQAACEIAABCAAAQhAAAIQgAAEIACBbCQQWAE1G5nRNAQgAAEIQAACEIAABCAAAQhAAAIQgAAEIJAkBBBQk2SiGSYEIAABCEAAAhCAAAQgAAEIQAACEIAABCCQeQIIqJlnxhkQgAAEIAABCEAAAhCAAAQgAAEIQAACEIBAkhBAQE2SiWaYEIAABCAAAQhAAAIQgAAEIAABCEAAAhCAQOYJIKBmnhlnQAACEIAABCAAAQhAAAIQgAAEIAABCEAAAklCIOkE1IEDB9rLL79sW7ZssSpVqthrr71mdevWTZLpZpiJROCFF16wiRMn2g8//GAnn3yy1a5d21566SWrWLFiIg2TsSQpAa3vxx9/3Lp37+7u0xgEgkhg06ZN9sgjj9jHH39sf/31l51zzjn21ltvWc2aNYM4HPqcxAQOHz5szzzzjI0ePdq2bt1qp59+ut1xxx325JNP2gknnJDEZBh6UAh88cUX7htw8eLF7jtw0qRJ1qxZs5Tu//e//7Vnn33Whg4dajt37rRLLrnEBgwY4L4XMQj4jcCx1vPff//t7s0fffSRrV+/3goVKmRXXXWVvfjii3bGGWf4bSj0BwKOwPHu0akx3XPPPe5e3bdvX+vRo0dcCSaVgDp27Fhr27atSUS97LLLbMiQIfbmm2/aqlWrrHTp0nEFT2MQ8ErgmmuusVtuucUuuugi04fNE088YStWrHDrOV++fF4vz/kQyDYC33zzjbVq1coKFixoDRo0QEDNtpmgYS8E9AF+wQUXuDXcuXNnK1asmK1bt87Kli1rZ511lpdLcy4E4k7g+eefdx8qI0eOdILSt99+a+3bt7fnnnvObXRhEPA7AW1kzZ8/32rUqGEtWrRIJ6DKCUHr/O2333abXVrb+qBfs2aNFShQwO/Do39JRuBY6/nPP/+0li1bWocOHez88893GwISmfS9qHs3BgE/EjjePTrU58mTJ7sN3e3bt9tDDz2EgJqVk6mdRD00Bw0alNLMueee63Yf5e2EQSDIBHQT0Qf63LlzrV69ekEeCn1PYgJ79+5192ltdOnjpXr16gioSbwegjz0Rx991H2sz5s3L8jDoO8QcASuu+46K168uPOgDplEqLx589q7774LJQgEikCOHDnSCKjyPpVnnkQmRQ3IDh486Na8hFV5O2EQ8CuB8PWcUT/lnHDxxRfbhg0bcBzz60TSrxQCR1vTiuySpjdjxgxr0qSJu2fjgZpFC+fQoUPuJW/8+PHWvHnzlFa0a7506VInOmEQCDKB//znP1ahQgXnhVq1atUgD4W+JzGB22+/3YoUKeI8nerXr4+AmsRrIehDr1y5sl199dW2ceNG945RsmRJu/fee51HCAaBoBFQ6OfgwYNt5syZzjtv2bJl1qhRI7fB1bp166ANh/4mOYHwj3OFOSsy4LvvvnORAyFr2rSpFS5c2HleYxDwK4FIBNRZs2a5e/auXbtchBcGAT8TyGhN//PPPy4Vhe7L0vAU0YWAmoWzuHnzZvfxIm8Q5YoMWa9evdxDUeEZGASCSkA757qZKEQDb6egziL9fv/99134nHbJ8+TJg4DKkgg0Aa1h2f3332833XSTff311+5FT+mD2rVrF+ix0fnkI6D3DOWlljfeiSeeaEeOHHH368ceeyz5YDDiwBMI/zhfsGCBS+8m76bUOSI7duzoPPbk7YRBwK8EjiegHjhwwOrUqWOVKlWyUaNG+XUY9AsCKQQyWtOKGJ8zZ467H+vvEVCzeMGEBFQ9IGvVqpXSml7+FHqkQjwYBIJK4L777rPp06fbl19+aWeeeWZQh0G/k5jAr7/+ahdeeKHzblK+JhkeqEm8IBJg6Llz53ZrWu8dIevWrZvbIFi4cGECjJAhJBMBbXAp15iK8CgHqqK3tCHQp08fU+QABoEgETiagKrvRRVIC5kiBvR+8sknnwRpePQ1yQgcS0BVQSlt4v7yyy/2+eef432aZGsjqMMNX9Mq/qeQfUUJhDa5EFCzeHYJ4c9iwFw+2wh07drVlExZie7LlSuXbf2gYQh4IaA1rPQq8mwKmTyc9ABVhWflIkv9d17a4lwIxINAmTJlrGHDhq5YZciUg125feXlhEEgSARKlSplyuurDduQaS3LmwknhCDNJH0VAUL4WQeJROBoAqrEUxVlVYqK2bNn26mnnppIw2YsCUwgfE0rXZAiuvRNmPo7UX/W+8nPP/8cNxo5/jck579xay2bG1LC2Zo1a7riJCFTjjKFPlNEKpsnh+YzTUA/XYmnkyZNcjuKyn+KQSCoBPbs2ePC5FKbKjwr3EgFHcjrG9SZTd5+t2nTxnkupU6r0rNnT1u0aFEar9TkJcTIg0RAH94STDt37pzSbb07jxgxwn788ccgDYW+QiCdgBoqIqV79MMPP+wIyflGxVkpIsWC8TuBjATUkHi6du1aF/Z82mmn+X0Y9A8CKQTC1/Qff/xhW7ZsSUNIdQbatm1r+l6sWLFi3OgllYA6duxYB1lJ8BXGP3ToUBs2bJitXLnS5CmCQSBIBFSMZMyYMTZlypQ0N41ChQrZySefHKSh0FcIZEiAEH4WRpAJKFRfOdefffZZ5wGiHKgKB9W7x6233hrkodH3JCRwxx13mIqQKIevQviXLFliyg955513OoEJg4DfCezdu9dUcFWmQlFKP9GgQQNXuLJ06dJuHYc2BeSUoDoZclBQnYwCBQr4fXj0L8kIHGs9K8S5RYsWLtz5ww8/tOLFi6fQ0XpXiiEMAn4jcLx7dHh/CeGP0wzK+7R3795OwZZHkyo916tXL06t0wwEYkdAOzMZmbxB9KGDQSDoBBBQgz6D9F8fLiqyIw8QpVhR+JFEVAwCQSOgKIGnnnrKRb1s27bN5SBr3bq1Pf3003yMB20yk7S/EkMlmIabcvi+/fbbJi9UbXhpk0BFWRW5OGDAACJgknS9+H3Yx1rPzzzzzFHTuskbVe/XGAT8RuB492gEVL/NGP2BAAQgAAEIQAACEIAABCAAAQhAAAIQgAAEIBBGIKlC+Jl9CEAAAhCAAAQgAAEIQAACEIAABCAAAQhAAAKZIYCAmhlaHAsBCEAAAhCAAAQgAAEIQAACEIAABCAAAQgkFQEE1KSabgYLAQhAAAIQgAAEIAABCEAAAhCAAAQgAAEIZIYAAmpmaHEsBCAAAQhAAAIQgAAEIAABCEAAAhCAAAQgkFQEEFCTaroZLAQgAAEIQAACEIAABCAAAQhAAAIQgAAEIJAZAgiomaHFsRCAAAQgAAEIQAACEIAABCAAAQhAAAIQgEBSEUBATarpZrAQgAAEIAABCEAAAhCAAAQgAAEIQAACEIBAZgggoGaGFsdCAAIQgAAEIAABCEAAAhCAAAQgAAEIQAACSUUAATWpppvBQgACEIAABCAAAQhkNYE77rjDRo4c6ZqZNGmSNWvWLGZNfv7559agQQN3vaZNm9rkyZNjdm0uBAEIQAACEIAABCCQMQEEVFYGBCAAAQhAAAIQgMAxCaQWBFMfuHbtWjv77LOhF0ZAvH777TcbMWKEnXLKKXbSSSe5I3LkyJGhoKrjd+3aFZEYeujQIduxY4d1797dDh48GNE5TBAEIAABCEAAAhCAgDcCCKje+HE2BCAAAQhAAAIQSHgCqQXB1IM97bTT7MQTT0wzfgl8uXPnTngmxxrg0QTRWAiooXYzI7om9WQweAhAAAIQgAAEIBADAgioMYDIJSAAAQhAAAIQgEAiEziWWFe/fn2rWrWqE03feecdq1Klis2dO9dWrVplDz74oH3xxReWL18+a9SokfXt29eKFi3qUO3bt886d+5sEydOtAIFCrhjp02bZtWrV7fXXnvNHZOR4Fi4cGH39+qTbNOmTXb//ffbzJkz7YQTTrA6depYv379rGzZsu7vQ33X/3/11VdNAu8tt9zirpErVy53jDw5n3rqKXvvvfds27ZtVrp0aXv00UftzjvvtAoVKlinTp1c/0L2/fff23nnnWfywD3rrLPSTb0XAfXnn3+2cuXKpbvm5ZdfbgrfDxkCaiL/4hgbBCAAAQhAAAJ+I4CA6rcZoT8QgAAEIAABCEDAZwSOJ6AuXrzYiaF33XWX/fe//7VChQo5gbFDhw7Wrl07++uvv+yRRx6xw4cP2+zZs93o7r33XieYDh8+3EqUKGGPP/64Ewh1jUgF1P379zvBtW7dutajRw/LmTOnPffcc6b+LF++3Im66rvykLZp08aFvf/nP/+xm2++2bWh/sn054ULFzrh9fzzz7effvrJfv/9d/f/e/XqZaNHj7aVK1emzIoEW7UhoTgj8yKgHjlyxLZv355y2a1bt9pVV13leP3rX/9CQPXZb4PuQAACEIAABCCQHAQQUJNjnhklBCAAAQhAAAIQiJqABMFRo0ZZnjx5Uq7RuHFjGz9+vMkD9c8//7QlS5ak/N3TTz9tixYtshkzZqT8v40bN1qpUqVszZo1dsYZZ9ipp57qPFYlUsqU1/PMM8+0jh07RiygSnzt3bu3rV692nmryuRhKi9VFVeS16v6LmF23bp1KekGWrVq5bxV33//ffvxxx+tYsWK9umnnzqhMty2bNni+r1gwQK7+OKL7e+//7aSJUvayy+/bLfffnuGTI8loIpheNoDecA2adIkXT7TAwcOOL5KlTBlyhTX55DhgRr1cuZECEAAAhCAAAQgkGkCCKiZRsYJEIAABCAAAQhAILkISKxTqPygQYNSBq6w/NNPP90JfApzHzZsWMrfSQyUIBmeC1Vh+x999JETUOU5umHDBhcuH7ILLrjAFKoeqQfqfffdZ0OGDEkj7Opa8kwdMGCA84pV3+XROX369JR25Im6YsUK5w07btw4550qL9lQSH/47KravcY6ePBg580q4VSeoXnz5s20gCqG4UKtvHPleSrRN7XdeuuttnTpUvvqq69cmoPUhoCaXL9BRgsBCEAAAhCAQPYSQEDNXv60DgEIQAACEIAABHxP4Hgh/Knzlmow8k6VuPjSSy+lG5uESOUOlVh6PAFVHpcffPCBNW/ePOU6Em4ljqpPEki/++47F2IfbvLaVCqBjPqucH8Jk/JMVRoBXf9YAqqOadu2rckbVR6zxYsXTyMYh7ftJYQ/dC2lIlDO2K+//jpTeVZ9v5joIAQgAAEIQAACEAggAQTUAE4aXYYABCAAAQhAAALxJJBZAfWJJ55wwqeKLSkvabjt3bvXihQp4tICKJxetnPnThfCr7ykIQ9UCZX/8z//4/J/yiS8nnPOOTZixAgnjMrrVd6bKrxUsGDBDJEcT0DVueXLl3dFqDIK4ddF5R0qT9kHHnjAtafCWLVq1TrqFHgVUMWudevW9vHHH9uVV14Z8bjiuSZoCwIQgAAEIAABCCQTAQTUZJptxgoBCEAAAhCAAASiIJBZAXXz5s0uRF/h+A899JAVLVrUFW9SzlGJnsoBKu9RhfMrj6mEUomuCqlPXURKIuKyZcuc0PrPP/848XLevHk2dOhQJ6CGikgpJ6kKLEmA/eWXX2zixImuXf35eAKqcLRv394+++wz69+/vysiJc/Ybdu2pYi7Okb9e+WVV5zYqpyrxzIvAqpE50suucRUqEopCkKmdAgSnUNGCH8UC5lTIAABCEAAAhCAQJQEEFCjBMdpEIAABCAAAQhAIFkIZFZAFRd5i0rwnDNnjqlIUpkyZeyaa66xPn36uIJP8kKViCqxU/k95d2pPKWp0wFIiJW4OX/+fJc3tV+/fs4zUx6q6pNMuUjVjsTYPXv2uAJP8tqU2Cmv1EgEVBVrevzxx53A+8cffzhvU/1ZbYds/fr1LpReRaskzh7LvAiob7/9dpp2Q+1IjFbKgZAhoCbLr49xQgACEIAABCDgBwIIqH6YBfoAAQhAAAIQgAAEIOAKUoXnU/ULFom46t/GjRudx2w0Amosx4KAGkuaXAsCEIAABCAAAQgcmwACKisEAhCAAAQgAAEIQMAXBPwooMp79tdff7WOHTuaCmBlVLAqHJ7ETaUdyJMnj/Nqve6662LGVykMVKRL/WrSpIlNnjw5ZtfmQhCAAAQgAAEIQAACGRNAQGVlQAACEIAABCAAAQj4goAfBVSF1Csvqzxjp06d6lIEHM+UP3X37t3uMImu+fLlO94pEf/9X3/9ZZs2bXLH58+f30qUKBHxuRwIAQhAAAIQgAAEIBAdAQTU6LhxFgQgAAEIQAACEIAABCAAAQhAAAIQgAAEIJAEBBBQk2CSGSIEIAABCEAAAhCAAAQgAAEIQAACEIAABCAQHQEE1Oi4cRYEIAABCEAAAhCAAAQgAAEIQAACEIAABCCQBAQQUJNgkhkiBCAAAQhAAAIQgAAEIAABCEAAAhCAAAQgEB0BBNTouHEWBCAAAQhAAAIQgAAEIAABCEAAAhCAAAQgkAQEEFCTYJIZIgQgAAEIQAACEIAABCAAAQhAAAIQgAAEIBAdAQTU6LhxFgQgAAEIQAACEIAABCAAAQhAAAIQgAAEIJAEBBBQk2CSGSIEIAABCEAAAhCAAAQgAAEIQAACEIAABCAQHQEE1Oi4cRYEIAABCEAAAhCAAAQgAAEIQAACEIAABCCQBAQQUJNgkhkiBCAAAQhAAAIQgAAEIAABCEAAAhCAAAQgEB0BBNTouHEWBCAAAQhAAAIQgAAEIAABCEAAAhCAAAQgkAQEEFCTYJIZIgQgAAEIQAACEIAABCAAAQhAAAIQgAAEIBAdAQTU6LhxFgQgAAEIQAACEIAABCAAAQhAAAIQgAAEIJAEBBBQk2CSGSIEIAABCEAAAhCAAAQgAAEIQAACEIAABCAQHYH/A0GA/CmS4ZD4AAAAAElFTkSuQmCC",
       "_figure_label": "Figure 0",
       "_image_mode": "diff",
       "_model_module_version": "^0.11",
       "_size": [
        1360,
        525.5723925793184
       ],
       "_view_module_version": "^0.11",
       "footer_visible": false,
       "header_visible": false,
       "layout": "IPY_MODEL_be4447cbe8754221ac7c3c40d830506d",
       "resizable": false,
       "toolbar": "IPY_MODEL_a1e3c71c144b4c2d981b93795a638b38",
       "toolbar_position": "right"
      }
     },
     "e8666ca797fe434f9c617ab067fdedf4": {
      "model_module": "@jupyter-widgets/controls",
      "model_module_version": "2.0.0",
      "model_name": "TextStyleModel",
      "state": {
       "description_width": "200px",
       "font_size": null,
       "text_color": null
      }
     },
     "e86a7b139135439db81d953bd7d277fc": {
      "model_module": "@jupyter-widgets/controls",
      "model_module_version": "2.0.0",
      "model_name": "VBoxModel",
      "state": {
       "children": [
        "IPY_MODEL_e8195e5243944f098a8882c4a8ba6938",
        "IPY_MODEL_c2b86b8c8f39440fa52efe9239a3aab6",
        "IPY_MODEL_3cb5c4f03a3c4350a3d1909f47fa232a"
       ],
       "layout": "IPY_MODEL_502248e06fd54ff190fa6abe7d8e3bea"
      }
     },
     "e97e5a63d8b34111999318783e71302c": {
      "model_module": "@jupyter-widgets/controls",
      "model_module_version": "2.0.0",
      "model_name": "ButtonStyleModel",
      "state": {
       "font_family": null,
       "font_size": null,
       "font_style": null,
       "font_variant": null,
       "font_weight": null,
       "text_color": null,
       "text_decoration": null
      }
     },
     "e9db576016164c4e993bb4f24d45aa41": {
      "model_module": "@jupyter-widgets/controls",
      "model_module_version": "2.0.0",
      "model_name": "VBoxModel",
      "state": {
       "children": [
        "IPY_MODEL_b158a95929954e13964cc8b71d99ac82",
        "IPY_MODEL_64c3f1e76a2f4b4f849c11d98cb598d2",
        "IPY_MODEL_094a33024466439794b312d122b119d2",
        "IPY_MODEL_a12fba531ef048a0ba55c9b89a52053f",
        "IPY_MODEL_9b06b24e670e426ea30a206c16bcf328",
        "IPY_MODEL_9c1c3beabe414cc38f4a8954c63da8e9"
       ],
       "layout": "IPY_MODEL_2bf8f737a55d4aadb9b44140f409c538"
      }
     },
     "eb8e30faa6b94f4288113dcb5656a400": {
      "model_module": "@jupyter-widgets/controls",
      "model_module_version": "2.0.0",
      "model_name": "TextModel",
      "state": {
       "description": "Modal Analysis Config File",
       "layout": "IPY_MODEL_ff8a048ec5a0438f8b473ee4649ba29b",
       "style": "IPY_MODEL_e8666ca797fe434f9c617ab067fdedf4",
       "value": "/home/sima9999/git/pyOMA/tests/files/plscf_config.txt"
      }
     },
     "ec1096f7df5641a0a6326af5fb8d1dee": {
      "model_module": "@jupyter-widgets/controls",
      "model_module_version": "2.0.0",
      "model_name": "VBoxModel",
      "state": {
       "children": [
        "IPY_MODEL_4f219f6754be4ec687c3f820f60b2777",
        "IPY_MODEL_87d79f8f19fa41ef87b9fb15fe6a6f94"
       ],
       "layout": "IPY_MODEL_28529105bbd1435e8be9c47ffd791001"
      }
     },
     "eca8abb1b0284986932ab6dc87417c74": {
      "model_module": "@jupyter-widgets/controls",
      "model_module_version": "2.0.0",
      "model_name": "TextModel",
      "state": {
       "description": "Setup Info File",
       "layout": "IPY_MODEL_70ccd03e0b8b479abd8d79cfc75100fc",
       "style": "IPY_MODEL_10039db771194bce85c25992dc5eacf2",
       "value": "/home/sima9999/git/pyOMA/tests/files/measurement_1/setup_info.txt"
      }
     },
     "ecd03160224b43aea107210196111501": {
      "model_module": "@jupyter-widgets/base",
      "model_module_version": "2.0.0",
      "model_name": "LayoutModel",
      "state": {}
     },
     "ed640f3e8e85453e9968c40a87b6d672": {
      "model_module": "@jupyter-widgets/controls",
      "model_module_version": "2.0.0",
      "model_name": "ButtonModel",
      "state": {
       "description": "Save",
       "layout": "IPY_MODEL_f5a5c82571964cec91cfe11564f2ff6e",
       "style": "IPY_MODEL_529b9c95d3c24e4989514fff7912512c",
       "tooltip": null
      }
     },
     "ed6c0b0948b04c4aa6aadb9c2c0e43ce": {
      "model_module": "@jupyter-widgets/controls",
      "model_module_version": "2.0.0",
      "model_name": "ButtonStyleModel",
      "state": {
       "font_family": null,
       "font_size": null,
       "font_style": null,
       "font_variant": null,
       "font_weight": null,
       "text_color": null,
       "text_decoration": null
      }
     },
     "ed8fde2c6ea348fd845eabc2e09ce3b4": {
      "model_module": "@jupyter-widgets/controls",
      "model_module_version": "2.0.0",
      "model_name": "ButtonModel",
      "state": {
       "description": "Save",
       "layout": "IPY_MODEL_5005bfa7518044908ab58f73e1145387",
       "style": "IPY_MODEL_1e994613188b401a938459f481e30d66",
       "tooltip": null
      }
     },
     "ee494846ce834f5c9985ecfcdc687acf": {
      "model_module": "@jupyter-widgets/controls",
      "model_module_version": "2.0.0",
      "model_name": "SliderStyleModel",
      "state": {
       "description_width": ""
      }
     },
     "ef2c085071764f139587f68465f1b96a": {
      "model_module": "@jupyter-widgets/controls",
      "model_module_version": "2.0.0",
      "model_name": "VBoxModel",
      "state": {
       "children": [
        "IPY_MODEL_6c6571d0439b47c09f4f175ab8e81e7e",
        "IPY_MODEL_5760206e00f646d9825c5274cfece192",
        "IPY_MODEL_3624b576c06a4e4d8290f966d89ab809",
        "IPY_MODEL_398bdb8f6c8c45bda05fff2e768a1b47",
        "IPY_MODEL_10d6d1605fde42f980a10c8c677a4df8",
        "IPY_MODEL_9a4ffce6107b4d279c845ae8c503bb13"
       ],
       "layout": "IPY_MODEL_d3e8670331f04dae80c383229c5236f9"
      }
     },
     "ef5e9b92427643338b237fecd42f1fd1": {
      "model_module": "@jupyter-widgets/controls",
      "model_module_version": "2.0.0",
      "model_name": "CheckboxStyleModel",
      "state": {
       "description_width": ""
      }
     },
     "f003e50423de4c438529be81bb7d8693": {
      "model_module": "@jupyter-widgets/base",
      "model_module_version": "2.0.0",
      "model_name": "LayoutModel",
      "state": {}
     },
     "f052b58acc54459cb3e0ee0329f49494": {
      "model_module": "@jupyter-widgets/base",
      "model_module_version": "2.0.0",
      "model_name": "LayoutModel",
      "state": {}
     },
     "f0797552c0bf4f5c92c10b707b772aeb": {
      "model_module": "@jupyter-widgets/base",
      "model_module_version": "2.0.0",
      "model_name": "LayoutModel",
      "state": {}
     },
     "f2350afd13f94adf886346e57c58931c": {
      "model_module": "@jupyter-widgets/base",
      "model_module_version": "2.0.0",
      "model_name": "LayoutModel",
      "state": {}
     },
     "f26bfc7cea1144a597b30aafe154d19b": {
      "model_module": "@jupyter-widgets/controls",
      "model_module_version": "2.0.0",
      "model_name": "TextareaModel",
      "state": {
       "layout": "IPY_MODEL_cf8719c68c0d43c3b5d70422ee393c39",
       "placeholder": "Load setup info file",
       "style": "IPY_MODEL_1c7bf780db4f4dbeb6f8e1e365bb2fda",
       "value": "Setup Name:\nmeasurement_1\nSampling Rate [Hz]:\n256\nReference Channels:\n3 4\nDelete Channels:\n5\nAccel. Channels:\n3 4 5\nVelo. Channels:\n0 1 2\nDisp. Channels:\n\n####\nNote:\nChannel Numbering start with 0!!!\nChannel Numbers refer to the columns of the measurement data!\nNumbers are separated by blank. Do not use tabulators.\nCreate one file per measurement.\n\n"
      }
     },
     "f357880d1c78402db26e4ad04609e902": {
      "model_module": "@jupyter-widgets/base",
      "model_module_version": "2.0.0",
      "model_name": "LayoutModel",
      "state": {
       "border_bottom": "solid 1px",
       "border_left": "solid 1px",
       "border_right": "solid 1px",
       "border_top": "solid 1px"
      }
     },
     "f44c56aa3f73477c9ab857f2ed974501": {
      "model_module": "@jupyter-widgets/controls",
      "model_module_version": "2.0.0",
      "model_name": "ButtonModel",
      "state": {
       "icon": "stop",
       "layout": "IPY_MODEL_1f709d75a9534d41b4a8a10779aa0465",
       "style": "IPY_MODEL_e97e5a63d8b34111999318783e71302c",
       "tooltip": null
      }
     },
     "f5a5c82571964cec91cfe11564f2ff6e": {
      "model_module": "@jupyter-widgets/base",
      "model_module_version": "2.0.0",
      "model_name": "LayoutModel",
      "state": {}
     },
     "f72f0a365a824c59ad71d9668b47e012": {
      "model_module": "@jupyter-widgets/controls",
      "model_module_version": "2.0.0",
      "model_name": "VBoxModel",
      "state": {
       "children": [
        "IPY_MODEL_b37566eb7c724e59a661e7e0b604d4d0",
        "IPY_MODEL_b9f3c50600fb4b3384fb4bd8768618af",
        "IPY_MODEL_52f1990b1d774fc5bc610e384d50b55f",
        "IPY_MODEL_15037191ec6440ec9cf2fead38f9a523"
       ],
       "layout": "IPY_MODEL_8ce34b15468d426197b2a3a2f0bafebb"
      }
     },
     "f8e2c5afd7f4458f9e48b7f4e734fff2": {
      "model_module": "@jupyter-widgets/controls",
      "model_module_version": "2.0.0",
      "model_name": "CheckboxStyleModel",
      "state": {
       "description_width": ""
      }
     },
     "f93aa895d3f646b2bf9604e285e62126": {
      "model_module": "@jupyter-widgets/base",
      "model_module_version": "2.0.0",
      "model_name": "LayoutModel",
      "state": {
       "border_bottom": "solid 1px",
       "border_left": "solid 1px",
       "border_right": "solid 1px",
       "border_top": "solid 1px",
       "width": "230px"
      }
     },
     "f943b11b5f484197b8ddda8aadee717e": {
      "model_module": "@jupyter-widgets/controls",
      "model_module_version": "2.0.0",
      "model_name": "VBoxModel",
      "state": {
       "children": [
        "IPY_MODEL_eca8abb1b0284986932ab6dc87417c74",
        "IPY_MODEL_f26bfc7cea1144a597b30aafe154d19b",
        "IPY_MODEL_89a6c7889f79409a89eeb7f4947051b5"
       ],
       "layout": "IPY_MODEL_2ad705c00d6d40c3afb008fb16051f9c"
      }
     },
     "f954bbd86dae421d9f1db17cbf0372ae": {
      "model_module": "@jupyter-widgets/base",
      "model_module_version": "2.0.0",
      "model_name": "LayoutModel",
      "state": {
       "border_bottom": "solid 1px",
       "border_left": "solid 1px",
       "border_right": "solid 1px",
       "border_top": "solid 1px",
       "width": "230px"
      }
     },
     "f956738966444044afea45dbdb8b5bd3": {
      "model_module": "@jupyter-widgets/base",
      "model_module_version": "2.0.0",
      "model_name": "LayoutModel",
      "state": {
       "height": "30px",
       "width": "30px"
      }
     },
     "fa1bdb6138d44360a1ecb73f8d488d07": {
      "model_module": "@jupyter-widgets/controls",
      "model_module_version": "2.0.0",
      "model_name": "SliderStyleModel",
      "state": {
       "description_width": ""
      }
     },
     "ff8a048ec5a0438f8b473ee4649ba29b": {
      "model_module": "@jupyter-widgets/base",
      "model_module_version": "2.0.0",
      "model_name": "LayoutModel",
      "state": {
       "width": "800px"
      }
     }
    },
    "version_major": 2,
    "version_minor": 0
   }
  }
 },
 "nbformat": 4,
 "nbformat_minor": 5
}
