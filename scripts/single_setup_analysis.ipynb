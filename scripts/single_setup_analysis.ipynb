{
 "cells": [
  {
   "cell_type": "markdown",
   "id": "c6aeae5b-2a75-420f-a483-2a8b795d932f",
   "metadata": {},
   "source": [
    "# pyOMA Jupyter Notebook\n",
    "\n",
    "Run the cells below with Shift+Enter"
   ]
  },
  {
   "cell_type": "code",
   "execution_count": 1,
   "id": "0d29dfe6-dd21-423a-9ee0-51c473f2b8a8",
   "metadata": {},
   "outputs": [],
   "source": [
    "%matplotlib widget\n",
    "\n",
    "import matplotlib\n",
    "import sys\n",
    "import os\n",
    "from pathlib import Path\n",
    "import numpy as np\n",
    "import matplotlib.pyplot as plt"
   ]
  },
  {
   "cell_type": "markdown",
   "id": "3a54feb7-f5b6-4755-96ae-e0e97d6a8ac3",
   "metadata": {},
   "source": [
    "please modify the path below to point to the code directory and run the cell"
   ]
  },
  {
   "cell_type": "code",
   "execution_count": 2,
   "id": "c0709c7c-e300-4521-8c9b-6620f4fd15d3",
   "metadata": {},
   "outputs": [],
   "source": [
    "sys.path.append('/home/sima9999/git/pyOMA')\n",
    "\n",
    "from pyOMA.core.PreProcessingTools import PreProcessSignals, GeometryProcessor, SignalPlot\n",
    "from pyOMA.core.StabilDiagram import StabilCalc, StabilCluster, StabilPlot\n",
    "from pyOMA.core.PostProcessingTools import MergePoSER\n",
    "from pyOMA.core.PlotMSH import ModeShapePlot\n",
    "\n",
    "from pyOMA.GUI.JupyterGUI import PlotMSHWeb, StabilGUIWeb, SnappingCursor, OutputWidgetHandler, ConfigGUIWeb"
   ]
  },
  {
   "cell_type": "markdown",
   "id": "e26a2c90-8c74-455e-82a8-cb0655bff13e",
   "metadata": {},
   "source": [
    "please modify the paths and setting below to point to the project and setup directories and run the cell"
   ]
  },
  {
   "cell_type": "code",
   "execution_count": 3,
   "id": "d001b95c",
   "metadata": {},
   "outputs": [],
   "source": [
    "project_dir = Path('/home/sima9999/git/pyOMA/tests/files/')\n",
    "nodes_file = project_dir / 'grid.txt'\n",
    "lines_file = project_dir / 'lines.txt'\n",
    "parent_child_file = ''\n",
    "\n",
    "meas_name = 'measurement_1'\n",
    "setup_dir = project_dir / meas_name\n",
    "result_dir = setup_dir\n",
    "\n",
    "setup_info_file = setup_dir / 'setup_info.txt'\n",
    "meas_file = setup_dir / (meas_name + '.npy')\n",
    "oma_conf_file = project_dir / 'ssi_config.txt'\n",
    "chan_dofs_file = setup_dir / \"channel_dofs.txt\"\n",
    "\n",
    "skip_existing=True\n",
    "save_results=False\n",
    "\n",
    "PreProcessSignals.load_measurement_file = np.load"
   ]
  },
  {
   "cell_type": "code",
   "execution_count": 4,
   "id": "8685bd66-3d60-415a-9143-0468c3cbcb58",
   "metadata": {},
   "outputs": [
    {
     "data": {
      "application/vnd.jupyter.widget-view+json": {
       "model_id": "551d0991e55b49dc8b9aa999077a7288",
       "version_major": 2,
       "version_minor": 0
      },
      "text/plain": [
       "Tab(children=(VBox(children=(Text(value='/home/sima9999/git/pyOMA/tests/files', description='Project Directory…"
      ]
     },
     "metadata": {},
     "output_type": "display_data"
    }
   ],
   "source": [
    "display(ConfigGUIWeb(locals()))"
   ]
  },
  {
   "cell_type": "code",
   "execution_count": 5,
   "id": "a2985354-a753-49fa-84ec-776f954a9e39",
   "metadata": {},
   "outputs": [],
   "source": [
    "geometry_data = GeometryProcessor.load_geometry(\n",
    "    nodes_file=nodes_file,\n",
    "    lines_file=lines_file,\n",
    "    parent_childs_file=parent_child_file)"
   ]
  },
  {
   "cell_type": "code",
   "execution_count": 6,
   "id": "08200156-8e72-4069-b19e-0473be0c3ee1",
   "metadata": {},
   "outputs": [
    {
     "name": "stdout",
     "output_type": "stream",
     "text": [
      "INFO:pyOMA.core.PreProcessingTools:Loading results from  /home/sima9999/git/pyOMA/tests/files/measurement_1/prep_signals.npz\n",
      "INFO:pyOMA.core.PreProcessingTools:Decimating signals by factor 3 to a sampling rate of 85.33333333333333 Hz\n",
      "INFO:pyOMA.core.PreProcessingTools:Filtering signals in the band: None .. 34.13333333333333 with a 8 order cheby1 filter.\n",
      "INFO:pyOMA.core.PreProcessingTools:Decimating signals by factor 3 to a sampling rate of 28.444444444444443 Hz\n",
      "INFO:pyOMA.core.PreProcessingTools:Filtering signals in the band: None .. 11.377777777777776 with a 8 order cheby1 filter.\n"
     ]
    }
   ],
   "source": [
    "if not os.path.exists(setup_dir / \n",
    "        'prep_signals.npz') or not skip_existing:\n",
    "    prep_signals = PreProcessSignals.init_from_config(\n",
    "        conf_file=setup_info_file,\n",
    "        meas_file=meas_file,\n",
    "        chan_dofs_file=chan_dofs_file)\n",
    "\n",
    "    if save_results:\n",
    "        prep_signals.save_state(result_dir / 'prep_signals.npz')\n",
    "else:\n",
    "    prep_signals = PreProcessSignals.load_state(result_dir / 'prep_signals.npz')\n",
    "\n",
    "prep_signals.decimate_signals(3)\n",
    "prep_signals.decimate_signals(3)"
   ]
  },
  {
   "cell_type": "code",
   "execution_count": 7,
   "id": "a1f46920-cde6-4a60-94ae-f1014cf8ab46",
   "metadata": {
    "tags": []
   },
   "outputs": [
    {
     "name": "stdout",
     "output_type": "stream",
     "text": [
      "INFO:pyOMA.core.SSICovRef:Loading results from  /home/sima9999/git/pyOMA/tests/files/measurement_1/modal_data.npz\n",
      "INFO:pyOMA.core.SSICovRef:Covariance Matrices Built\n",
      "INFO:pyOMA.core.SSICovRef:Modal Parameters Computed\n"
     ]
    }
   ],
   "source": [
    "if not os.path.exists(result_dir /\n",
    "        'modal_data.npz') or not skip_existing:\n",
    "\n",
    "    modal_data = method.init_from_config(oma_conf_file, prep_signals)\n",
    "\n",
    "    if save_results:\n",
    "        \n",
    "        modal_data.save_state(result_dir / 'modal_data.npz')\n",
    "else:\n",
    "    modal_data = method.load_state(\n",
    "        result_dir / 'modal_data.npz', prep_signals)"
   ]
  },
  {
   "cell_type": "code",
   "execution_count": 8,
   "id": "193d3383-4866-49af-b87d-43a2af82534f",
   "metadata": {},
   "outputs": [
    {
     "name": "stdout",
     "output_type": "stream",
     "text": [
      "INFO:pyOMA.core.StabilDiagram:Now loading previous results from  /home/sima9999/git/pyOMA/tests/files/measurement_1/stabil_data.npz\n"
     ]
    }
   ],
   "source": [
    "if os.path.exists(result_dir \n",
    "                  / 'stabil_data.npz') and skip_existing:\n",
    "    stabil_calc = StabilCalc.load_state(\n",
    "        result_dir / 'stabil_data.npz', modal_data)\n",
    "else:\n",
    "    stabil_calc = StabilCalc(modal_data)\n",
    "stabil_plot = StabilPlot(stabil_calc)"
   ]
  },
  {
   "cell_type": "code",
   "execution_count": 9,
   "id": "ab6548e1-7eb7-45ac-9e75-e5b67899df3a",
   "metadata": {},
   "outputs": [
    {
     "name": "stdout",
     "output_type": "stream",
     "text": [
      "INFO:pyOMA.core.StabilDiagram:Checking stabilisation criteria...\n",
      "....................................................................................................\n"
     ]
    },
    {
     "data": {
      "application/vnd.jupyter.widget-view+json": {
       "model_id": "0948f59579b1428b8f0a6855d36447c7",
       "version_major": 2,
       "version_minor": 0
      },
      "text/plain": [
       "VBox(children=(Canvas(footer_visible=False, header_visible=False, resizable=False, toolbar=Toolbar(toolitems=[…"
      ]
     },
     "metadata": {},
     "output_type": "display_data"
    }
   ],
   "source": [
    "vbox, snap_cursor =StabilGUIWeb(stabil_plot)\n",
    "display(vbox)"
   ]
  },
  {
   "cell_type": "code",
   "execution_count": 10,
   "id": "b3e857e9",
   "metadata": {},
   "outputs": [],
   "source": [
    "if save_results:\n",
    "    stabil_calc.save_state(result_dir / 'stabil_data.npz')"
   ]
  },
  {
   "cell_type": "code",
   "execution_count": 14,
   "id": "833bf761-b2af-461c-9289-138fbc7c1c5b",
   "metadata": {},
   "outputs": [],
   "source": [
    "mode_shape_plot = ModeShapePlot(amplitude=10,\n",
    "                                prep_signals=prep_signals,\n",
    "                                stabil_calc=stabil_calc,\n",
    "                                geometry_data=geometry_data,\n",
    "                                modal_data=modal_data)"
   ]
  },
  {
   "cell_type": "code",
   "execution_count": 15,
   "id": "27c49636-53c1-4d1d-ac73-a78b3fdd9c7b",
   "metadata": {},
   "outputs": [
    {
     "data": {
      "application/vnd.jupyter.widget-view+json": {
       "model_id": "a4db2dcc78be437f8f404205841365fe",
       "version_major": 2,
       "version_minor": 0
      },
      "text/plain": [
       "VBox(children=(Canvas(footer_visible=False, header_visible=False, resizable=False, toolbar=Toolbar(toolitems=[…"
      ]
     },
     "metadata": {},
     "output_type": "display_data"
    }
   ],
   "source": [
    "display(PlotMSHWeb(mode_shape_plot))"
   ]
  },
  {
   "cell_type": "code",
   "execution_count": 16,
   "id": "2ec123cb-0f9e-40e0-9dde-9b7cf1ed1cde",
   "metadata": {},
   "outputs": [
    {
     "data": {
      "text/plain": [
       "'done'"
      ]
     },
     "execution_count": 16,
     "metadata": {},
     "output_type": "execute_result"
    }
   ],
   "source": [
    "'done'"
   ]
  },
  {
   "cell_type": "code",
   "execution_count": null,
   "id": "39cdc3d3-9f15-45a2-86c7-b3ac46621edd",
   "metadata": {},
   "outputs": [],
   "source": []
  }
 ],
 "metadata": {
  "kernelspec": {
   "display_name": "Python 3 (ipykernel)",
   "language": "python",
   "name": "python3"
  },
  "language_info": {
   "codemirror_mode": {
    "name": "ipython",
    "version": 3
   },
   "file_extension": ".py",
   "mimetype": "text/x-python",
   "name": "python",
   "nbconvert_exporter": "python",
   "pygments_lexer": "ipython3",
   "version": "3.10.8"
  },
  "toc-autonumbering": false,
  "toc-showcode": true,
  "widgets": {
   "application/vnd.jupyter.widget-state+json": {
    "state": {
     "0109f931408d49bda10b6bae7cdbab47": {
      "model_module": "@jupyter-widgets/controls",
      "model_module_version": "2.0.0",
      "model_name": "LabelModel",
      "state": {
       "layout": "IPY_MODEL_2107e07037e34b2da9378a72718e2626",
       "style": "IPY_MODEL_d9a76a28006d4b02abd1edac47214335",
       "value": "Mode:"
      }
     },
     "013a537518934761816c5b4463fdbdf0": {
      "model_module": "@jupyter-widgets/controls",
      "model_module_version": "2.0.0",
      "model_name": "HTMLMathModel",
      "state": {
       "layout": "IPY_MODEL_4fa8b828059a4e9a88473844ab8f6f03",
       "style": "IPY_MODEL_76e65c65b98e4a54a769ea74118c3a6a",
       "value": "<table>\n<tr>\n<td> Frequency [Hz]:</td>\n <td> 12.136 </td>\n</tr>\n<tr>\n<td> Model order:</td>\n <td> 11 </td>\n</tr>\n<tr>\n<td> Damping [%]:</td>\n <td> 0.838 </td>\n</tr>\n<tr>\n<td> MPC [-]:</td>\n <td> 0.83127 </td>\n</tr>\n<tr>\n<td> MP  [°]:</td>\n <td> 174.463 </td>\n</tr>\n<tr>\n<td> MPD [-]:</td>\n <td> 13.33491 </td>\n</tr>\n<tr>\n<td> dMP  [°]:</td>\n <td> 0.002 </td>\n</tr>\n<tr>\n<td> MC [%]:</td>\n <td> 0.03923 </td>\n</tr>\n</table>"
      }
     },
     "019c68d700174f04a70570ed72d6217e": {
      "model_module": "@jupyter-widgets/base",
      "model_module_version": "2.0.0",
      "model_name": "LayoutModel",
      "state": {}
     },
     "01ad1fe1a8bb4fedb8e35f83446fb584": {
      "model_module": "@jupyter-widgets/base",
      "model_module_version": "2.0.0",
      "model_name": "LayoutModel",
      "state": {}
     },
     "01d977351a0b4fdf8ff705b1a67de17e": {
      "model_module": "@jupyter-widgets/controls",
      "model_module_version": "2.0.0",
      "model_name": "TextareaModel",
      "state": {
       "layout": "IPY_MODEL_876bcfc552ec47af809f4de955b043f6",
       "placeholder": "Load nodes file",
       "style": "IPY_MODEL_6fe55c472cf543a9a59cb4ec7ae1f2ea",
       "value": "node_name\t x\t\t y\t\t  z\n   1   1.8100000e+01  -1.8100000e+01   0.0000000e+00\n   2   1.8100000e+01   1.8100000e+01   0.0000000e+00\n   3  -1.8100000e+01   1.8100000e+01   0.0000000e+00\n   4  -1.8100000e+01  -1.8100000e+01   0.0000000e+00\n   5   1.8100000e+01  -1.8100000e+01   1.9200000e+01\n   6   1.8100000e+01   1.8100000e+01   1.9200000e+01\n   7  -1.8100000e+01   1.8100000e+01   1.9200000e+01\n   8  -1.8100000e+01  -1.8100000e+01   1.9200000e+01\n   9   1.8100000e+01  -1.8100000e+01   3.9200000e+01\n   10   1.8100000e+01   1.8100000e+01   3.9200000e+01\n   11  -1.8100000e+01   1.8100000e+01   3.9200000e+01\n   12  -1.8100000e+01  -1.8100000e+01   3.9200000e+01\n   13   1.8100000e+01  -1.8100000e+01   5.9200000e+01\n   14   1.8100000e+01   1.8100000e+01   5.9200000e+01\n   15  -1.8100000e+01   1.8100000e+01   5.9200000e+01\n   16  -1.8100000e+01  -1.8100000e+01   5.9200000e+01\n   17   1.8100000e+01  -1.8100000e+01   7.9200000e+01\n   18   1.8100000e+01   1.8100000e+01   7.9200000e+01\n   19  -1.8100000e+01   1.8100000e+01   7.9200000e+01\n   20  -1.8100000e+01  -1.8100000e+01   7.9200000e+01\n   21   1.8100000e+01  -1.8100000e+01   9.8000000e+01\n   22   1.8100000e+01   1.8100000e+01   9.8000000e+01\n   23  -1.8100000e+01   1.8100000e+01   9.8000000e+01\n   24  -1.8100000e+01  -1.8100000e+01   9.8000000e+01\n"
      }
     },
     "0211b75855454c96a4da35c1f803e18d": {
      "model_module": "@jupyter-widgets/base",
      "model_module_version": "2.0.0",
      "model_name": "LayoutModel",
      "state": {
       "height": "30px",
       "width": "170px"
      }
     },
     "02ab0bebf7514004823b91f693e4fbc4": {
      "model_module": "@jupyter-widgets/base",
      "model_module_version": "2.0.0",
      "model_name": "LayoutModel",
      "state": {}
     },
     "0377307f8d0143df84f770eeea89a6b6": {
      "model_module": "@jupyter-widgets/controls",
      "model_module_version": "2.0.0",
      "model_name": "CheckboxModel",
      "state": {
       "description": "Show Channel-DOF Assignm.",
       "disabled": false,
       "indent": false,
       "layout": "IPY_MODEL_9fd335efcfa34f1ea76344a612e1ca43",
       "style": "IPY_MODEL_184ea5bc968141a2bce2ccd29c315b0b",
       "value": false
      }
     },
     "051e437b57a44b41abbf41087d14223f": {
      "model_module": "@jupyter-widgets/base",
      "model_module_version": "2.0.0",
      "model_name": "LayoutModel",
      "state": {}
     },
     "06509e9d2a204462b25b66e4c9f6c66c": {
      "model_module": "@jupyter-widgets/base",
      "model_module_version": "2.0.0",
      "model_name": "LayoutModel",
      "state": {}
     },
     "066d6fa3f7094741acd0e2efa61c6ba2": {
      "model_module": "@jupyter-widgets/controls",
      "model_module_version": "2.0.0",
      "model_name": "HBoxModel",
      "state": {
       "children": [
        "IPY_MODEL_fe2ac2d1715548939b875507528525d8",
        "IPY_MODEL_498af4f17fca45369a7661351bcc613b",
        "IPY_MODEL_cdf0fc1dcf42429ba005a3faaadc9832",
        "IPY_MODEL_b5605e1ac0c44805b5f339efcae99977"
       ],
       "layout": "IPY_MODEL_453f4968670648aba406d346093f3db1"
      }
     },
     "06979aa19f134fb2adca57d411e70cae": {
      "model_module": "@jupyter-widgets/controls",
      "model_module_version": "2.0.0",
      "model_name": "LabelStyleModel",
      "state": {
       "description_width": "",
       "font_family": null,
       "font_size": null,
       "font_style": null,
       "font_variant": null,
       "font_weight": null,
       "text_color": null,
       "text_decoration": null
      }
     },
     "0733d2114aa0430090b12dded28d63ed": {
      "model_module": "@jupyter-widgets/controls",
      "model_module_version": "2.0.0",
      "model_name": "LabelStyleModel",
      "state": {
       "description_width": "",
       "font_family": null,
       "font_size": null,
       "font_style": null,
       "font_variant": null,
       "font_weight": null,
       "text_color": null,
       "text_decoration": null
      }
     },
     "077248cbe59e4e41855a2c67e15125a4": {
      "model_module": "@jupyter-widgets/controls",
      "model_module_version": "2.0.0",
      "model_name": "LabelStyleModel",
      "state": {
       "description_width": "",
       "font_family": null,
       "font_size": null,
       "font_style": null,
       "font_variant": null,
       "font_weight": null,
       "text_color": null,
       "text_decoration": null
      }
     },
     "07c406ef2691465d8dbc9abf1dd1726d": {
      "model_module": "@jupyter-widgets/base",
      "model_module_version": "2.0.0",
      "model_name": "LayoutModel",
      "state": {
       "height": "30px",
       "width": "40px"
      }
     },
     "087c947e253146878050ad7645eb6cae": {
      "model_module": "@jupyter-widgets/controls",
      "model_module_version": "2.0.0",
      "model_name": "CheckboxStyleModel",
      "state": {
       "description_width": ""
      }
     },
     "08d0c60d98c34a1eacd7d43d92c31c2d": {
      "model_module": "@jupyter-widgets/base",
      "model_module_version": "2.0.0",
      "model_name": "LayoutModel",
      "state": {}
     },
     "093724e5b8aa4119bb5a64c2ccf4c3b8": {
      "model_module": "@jupyter-widgets/controls",
      "model_module_version": "2.0.0",
      "model_name": "FloatSliderModel",
      "state": {
       "behavior": "drag-tap",
       "description": "MPD_max [°]",
       "layout": "IPY_MODEL_1bd159ac0eba4d1588f3fb22881c8666",
       "max": 180,
       "style": "IPY_MODEL_f5989e3f6f514e9ea1569101b474cc0f",
       "value": 90
      }
     },
     "0948f59579b1428b8f0a6855d36447c7": {
      "model_module": "@jupyter-widgets/controls",
      "model_module_version": "2.0.0",
      "model_name": "VBoxModel",
      "state": {
       "children": [
        "IPY_MODEL_d1411345dd1d4b4ab5e3d99931e5fd76",
        "IPY_MODEL_3cc796837ede46b48b9197f0fc8d761b",
        "IPY_MODEL_85caaa176f084369a5b573a16e67b2df"
       ],
       "layout": "IPY_MODEL_691f571f3e1748ee825f594e78352f4c"
      }
     },
     "0954f997f2004c3f93bd7bdfa5d514df": {
      "model_module": "@jupyter-widgets/controls",
      "model_module_version": "2.0.0",
      "model_name": "LabelStyleModel",
      "state": {
       "description_width": "",
       "font_family": null,
       "font_size": null,
       "font_style": null,
       "font_variant": null,
       "font_weight": null,
       "text_color": null,
       "text_decoration": null
      }
     },
     "0b19976a44ff4d8999b4826de384146b": {
      "model_module": "@jupyter-widgets/base",
      "model_module_version": "2.0.0",
      "model_name": "LayoutModel",
      "state": {
       "width": "800px"
      }
     },
     "0b4000faa47147c9a16f2d2538b1589b": {
      "model_module": "@jupyter-widgets/controls",
      "model_module_version": "2.0.0",
      "model_name": "ButtonStyleModel",
      "state": {
       "font_family": null,
       "font_size": null,
       "font_style": null,
       "font_variant": null,
       "font_weight": null,
       "text_color": null,
       "text_decoration": null
      }
     },
     "0c941f7ebea442fba64ef4b250f05a86": {
      "model_module": "@jupyter-widgets/base",
      "model_module_version": "2.0.0",
      "model_name": "LayoutModel",
      "state": {
       "align_items": "center"
      }
     },
     "0d79062cf511499fa20c47219a844dc2": {
      "model_module": "@jupyter-widgets/base",
      "model_module_version": "2.0.0",
      "model_name": "LayoutModel",
      "state": {}
     },
     "0daebfb35552435c951e977215ab3d07": {
      "model_module": "@jupyter-widgets/base",
      "model_module_version": "2.0.0",
      "model_name": "LayoutModel",
      "state": {}
     },
     "0de1ee674acf4ccd8cf6fe43d0156826": {
      "model_module": "@jupyter-widgets/base",
      "model_module_version": "2.0.0",
      "model_name": "LayoutModel",
      "state": {
       "height": "30px",
       "width": "200px"
      }
     },
     "0deb3e7b92294b9e9d0b7a745e2df672": {
      "model_module": "@jupyter-widgets/controls",
      "model_module_version": "2.0.0",
      "model_name": "SliderStyleModel",
      "state": {
       "description_width": ""
      }
     },
     "0df1e98844e94782898f5e0e0f5cf3e1": {
      "model_module": "@jupyter-widgets/base",
      "model_module_version": "2.0.0",
      "model_name": "LayoutModel",
      "state": {}
     },
     "0e386eef4cd444019133158f08c59a2b": {
      "model_module": "@jupyter-widgets/controls",
      "model_module_version": "2.0.0",
      "model_name": "SliderStyleModel",
      "state": {
       "description_width": ""
      }
     },
     "0e740a0a561d46848f9d653d6e95776d": {
      "model_module": "@jupyter-widgets/base",
      "model_module_version": "2.0.0",
      "model_name": "LayoutModel",
      "state": {
       "border_bottom": "solid 1px",
       "border_left": "solid 1px",
       "border_right": "solid 1px",
       "border_top": "solid 1px",
       "width": "350px"
      }
     },
     "0f089d0a42034822aff4a748731e3092": {
      "model_module": "@jupyter-widgets/controls",
      "model_module_version": "2.0.0",
      "model_name": "TextStyleModel",
      "state": {
       "description_width": "200px",
       "font_size": null,
       "text_color": null
      }
     },
     "0f3a499d7d1749dc8a1b7e0c1ffa47c4": {
      "model_module": "@jupyter-widgets/controls",
      "model_module_version": "2.0.0",
      "model_name": "VBoxModel",
      "state": {
       "children": [
        "IPY_MODEL_b8f7350872444c1b885121f28c04b0ff",
        "IPY_MODEL_013a537518934761816c5b4463fdbdf0"
       ],
       "layout": "IPY_MODEL_6049b43c5ef347e596cb05998787cd03"
      }
     },
     "0fc3febed85f49fa8e2b4f4460699fb1": {
      "model_module": "@jupyter-widgets/base",
      "model_module_version": "2.0.0",
      "model_name": "LayoutModel",
      "state": {
       "justify_content": "space-around"
      }
     },
     "107a672dd2ae42c4959c06f52e3a9755": {
      "model_module": "@jupyter-widgets/controls",
      "model_module_version": "2.0.0",
      "model_name": "VBoxModel",
      "state": {
       "children": [
        "IPY_MODEL_b31bf2249f844321aafa700766d7940b",
        "IPY_MODEL_92ceafe5dbfa4fb883e6228c6f66fe28"
       ],
       "layout": "IPY_MODEL_7991ae12e18a456c8e7b4c5b8212ed2f"
      }
     },
     "1115ebf7927d4effa2a99a093439d671": {
      "model_module": "@jupyter-widgets/base",
      "model_module_version": "2.0.0",
      "model_name": "LayoutModel",
      "state": {
       "height": "400px",
       "width": "800px"
      }
     },
     "1226c84e5f2946f48b27a7bc480d0820": {
      "model_module": "@jupyter-widgets/base",
      "model_module_version": "2.0.0",
      "model_name": "LayoutModel",
      "state": {}
     },
     "122fa9efc6934a70abcc3e7c67d3e79e": {
      "model_module": "@jupyter-widgets/base",
      "model_module_version": "2.0.0",
      "model_name": "LayoutModel",
      "state": {}
     },
     "1282f2b77cc94753bfc39d6af0390cef": {
      "model_module": "@jupyter-widgets/controls",
      "model_module_version": "2.0.0",
      "model_name": "ButtonStyleModel",
      "state": {
       "font_family": null,
       "font_size": null,
       "font_style": null,
       "font_variant": null,
       "font_weight": null,
       "text_color": null,
       "text_decoration": null
      }
     },
     "12c754b814a747a2b95848119493e848": {
      "model_module": "@jupyter-widgets/controls",
      "model_module_version": "2.0.0",
      "model_name": "DescriptionStyleModel",
      "state": {
       "description_width": ""
      }
     },
     "13cdf8c68c6c4fa2b47217f8aa5341d0": {
      "model_module": "@jupyter-widgets/base",
      "model_module_version": "2.0.0",
      "model_name": "LayoutModel",
      "state": {}
     },
     "13f9eb7d2d32422d9a3d299b85ddb688": {
      "model_module": "jupyter-matplotlib",
      "model_module_version": "^0.11",
      "model_name": "ToolbarModel",
      "state": {
       "_model_module_version": "^0.11",
       "_view_module_version": "^0.11",
       "collapsed": true,
       "layout": "IPY_MODEL_0daebfb35552435c951e977215ab3d07",
       "orientation": "vertical",
       "toolitems": [
        [
         "Home",
         "Reset original view",
         "home",
         "home"
        ],
        [
         "Back",
         "Back to previous view",
         "arrow-left",
         "back"
        ],
        [
         "Forward",
         "Forward to next view",
         "arrow-right",
         "forward"
        ],
        [
         "Pan",
         "Left button pans, Right button zooms\nx/y fixes axis, CTRL fixes aspect",
         "arrows",
         "pan"
        ],
        [
         "Zoom",
         "Zoom to rectangle\nx/y fixes axis",
         "square-o",
         "zoom"
        ],
        [
         "Download",
         "Download plot",
         "floppy-o",
         "save_figure"
        ]
       ]
      }
     },
     "140cf50a750f4e25b63be4d193f60734": {
      "model_module": "@jupyter-widgets/controls",
      "model_module_version": "2.0.0",
      "model_name": "CheckboxStyleModel",
      "state": {
       "description_width": ""
      }
     },
     "14e69b63c18c45b68e1683800d850d97": {
      "model_module": "@jupyter-widgets/controls",
      "model_module_version": "2.0.0",
      "model_name": "CheckboxModel",
      "state": {
       "description": "Show Axis Arrows",
       "disabled": false,
       "indent": false,
       "layout": "IPY_MODEL_c3618df2dd8d419485f36b23d9d9ccbc",
       "style": "IPY_MODEL_d10567ea98d2467cab326215122e61b2",
       "value": true
      }
     },
     "15d292566fcf412490273b7b35d38631": {
      "model_module": "@jupyter-widgets/base",
      "model_module_version": "2.0.0",
      "model_name": "LayoutModel",
      "state": {
       "height": "400px",
       "width": "800px"
      }
     },
     "1656154888cd4a63b54166f231a12894": {
      "model_module": "@jupyter-widgets/base",
      "model_module_version": "2.0.0",
      "model_name": "LayoutModel",
      "state": {
       "border_bottom": "solid 1px",
       "border_left": "solid 1px",
       "border_right": "solid 1px",
       "border_top": "solid 1px"
      }
     },
     "172a1bc1cbb8493f9491e86756ab0618": {
      "model_module": "@jupyter-widgets/controls",
      "model_module_version": "2.0.0",
      "model_name": "LabelStyleModel",
      "state": {
       "description_width": "",
       "font_family": null,
       "font_size": null,
       "font_style": null,
       "font_variant": null,
       "font_weight": null,
       "text_color": null,
       "text_decoration": null
      }
     },
     "17c397cdea6b454986a2a30f5e41b992": {
      "model_module": "@jupyter-widgets/controls",
      "model_module_version": "2.0.0",
      "model_name": "FloatLogSliderModel",
      "state": {
       "behavior": "drag-tap",
       "description": "Frequency [%]",
       "layout": "IPY_MODEL_b92b4d6c714c4b69985ece409f3e1f60",
       "max": 0,
       "min": -4,
       "style": "IPY_MODEL_fd67ea0d86c5414b99c6383239fd99f3",
       "value": 0.01
      }
     },
     "184ea5bc968141a2bce2ccd29c315b0b": {
      "model_module": "@jupyter-widgets/controls",
      "model_module_version": "2.0.0",
      "model_name": "CheckboxStyleModel",
      "state": {
       "description_width": ""
      }
     },
     "188df76d52cf4b9da9b1a5bc14625dcb": {
      "model_module": "@jupyter-widgets/base",
      "model_module_version": "2.0.0",
      "model_name": "LayoutModel",
      "state": {
       "height": "30px",
       "width": "180px"
      }
     },
     "18c1109c2b8e478e97e10332ab3ca656": {
      "model_module": "@jupyter-widgets/controls",
      "model_module_version": "2.0.0",
      "model_name": "HTMLMathStyleModel",
      "state": {
       "description_width": "",
       "font_size": null,
       "text_color": null
      }
     },
     "18f46318b0d542438b6e27587dc394b1": {
      "model_module": "@jupyter-widgets/controls",
      "model_module_version": "2.0.0",
      "model_name": "CheckboxStyleModel",
      "state": {
       "description_width": ""
      }
     },
     "19cd45a2a1454c0999bd4d667f9c1b12": {
      "model_module": "@jupyter-widgets/controls",
      "model_module_version": "2.0.0",
      "model_name": "HBoxModel",
      "state": {
       "children": [
        "IPY_MODEL_5818c70e2913481eb8a9b734c0417c73",
        "IPY_MODEL_8db05539ee614078b05499c2bde1f5e1",
        "IPY_MODEL_3640295bd29543a4b4d777d401d81243",
        "IPY_MODEL_a6a4493e8a68419daf718300683d52ba"
       ],
       "layout": "IPY_MODEL_0fc3febed85f49fa8e2b4f4460699fb1"
      }
     },
     "19cd590f3aaf4cc3b9b97661339fad09": {
      "model_module": "@jupyter-widgets/controls",
      "model_module_version": "2.0.0",
      "model_name": "CheckboxModel",
      "state": {
       "description": "Show Non-displaced Lines",
       "disabled": false,
       "indent": false,
       "layout": "IPY_MODEL_492350d7cc9d4d3f8b42e1f7b255dd37",
       "style": "IPY_MODEL_b0755a18605d48439cd71b9f24eafa59",
       "value": true
      }
     },
     "1b235043ddc947c986798966d5b4740a": {
      "model_module": "@jupyter-widgets/base",
      "model_module_version": "2.0.0",
      "model_name": "LayoutModel",
      "state": {}
     },
     "1b32a0ce34c441e08f54eaab58f2d7d0": {
      "model_module": "@jupyter-widgets/controls",
      "model_module_version": "2.0.0",
      "model_name": "TextareaModel",
      "state": {
       "layout": "IPY_MODEL_2d2af7a0e39a491c9c96b6464cf4217c",
       "placeholder": "Load modal analysis config file",
       "style": "IPY_MODEL_af73ec9b65cb451c848965777da68f79",
       "value": "Number of Block-Columns:\n200\nMaximum Model Order:\n40\nUse Multiprocessing:\nyes\n\n#######\nConfiguration Options for the SSI-cov/ref algorithm.\nKeep the order of options!"
      }
     },
     "1b3edea64a31405c89681637a8a8b3c5": {
      "model_module": "@jupyter-widgets/base",
      "model_module_version": "2.0.0",
      "model_name": "LayoutModel",
      "state": {}
     },
     "1b984052ce9e46019de8f4c1340b7bfc": {
      "model_module": "@jupyter-widgets/controls",
      "model_module_version": "2.0.0",
      "model_name": "LabelStyleModel",
      "state": {
       "description_width": "",
       "font_family": null,
       "font_size": null,
       "font_style": null,
       "font_variant": null,
       "font_weight": null,
       "text_color": null,
       "text_decoration": null
      }
     },
     "1bd159ac0eba4d1588f3fb22881c8666": {
      "model_module": "@jupyter-widgets/base",
      "model_module_version": "2.0.0",
      "model_name": "LayoutModel",
      "state": {}
     },
     "1bfa5c24e41c4788895f8c04dca3216b": {
      "model_module": "@jupyter-widgets/controls",
      "model_module_version": "2.0.0",
      "model_name": "LabelModel",
      "state": {
       "layout": "IPY_MODEL_3bfb06811bce4c8f9e51a7770564560d",
       "style": "IPY_MODEL_930bd76f0a1e4515ac29d132de6ad103",
       "value": "Info:"
      }
     },
     "1c38c95e47aa4c05aee519141f665be5": {
      "model_module": "@jupyter-widgets/controls",
      "model_module_version": "2.0.0",
      "model_name": "HBoxModel",
      "state": {
       "children": [
        "IPY_MODEL_290c575219fa4c2083a894193fba5f33",
        "IPY_MODEL_590304c392dc438dac66598a8fca18bd"
       ],
       "layout": "IPY_MODEL_e0fdbc2e6dc64e15bd515f4602276344"
      }
     },
     "1c6ed08973d24aefbb825135c760555e": {
      "model_module": "@jupyter-widgets/controls",
      "model_module_version": "2.0.0",
      "model_name": "ButtonModel",
      "state": {
       "description": "Z",
       "layout": "IPY_MODEL_aea5ef39215547d3889403df22a6409d",
       "style": "IPY_MODEL_d19fb4df32ae433db52a62b0c55543fc",
       "tooltip": null
      }
     },
     "1d3d751c7f6a42f38305128245f75050": {
      "model_module": "@jupyter-widgets/base",
      "model_module_version": "2.0.0",
      "model_name": "LayoutModel",
      "state": {}
     },
     "1d476352077948f086ce321abdee1a78": {
      "model_module": "@jupyter-widgets/controls",
      "model_module_version": "2.0.0",
      "model_name": "HTMLMathStyleModel",
      "state": {
       "description_width": "",
       "font_size": null,
       "text_color": null
      }
     },
     "1e013c92e6274fb7bb067ac936b21e57": {
      "model_module": "@jupyter-widgets/controls",
      "model_module_version": "2.0.0",
      "model_name": "ButtonStyleModel",
      "state": {
       "font_family": null,
       "font_size": null,
       "font_style": null,
       "font_variant": null,
       "font_weight": null,
       "text_color": null,
       "text_decoration": null
      }
     },
     "1e2fd2ee584e4265af174e9cb0a2292a": {
      "model_module": "@jupyter-widgets/base",
      "model_module_version": "2.0.0",
      "model_name": "LayoutModel",
      "state": {
       "border_bottom": "solid 1px",
       "border_left": "solid 1px",
       "border_right": "solid 1px",
       "border_top": "solid 1px"
      }
     },
     "1f5455ae9b5e4b92bce6c6576bb70123": {
      "model_module": "@jupyter-widgets/controls",
      "model_module_version": "2.0.0",
      "model_name": "LabelStyleModel",
      "state": {
       "description_width": "",
       "font_family": null,
       "font_size": null,
       "font_style": null,
       "font_variant": null,
       "font_weight": null,
       "text_color": null,
       "text_decoration": null
      }
     },
     "1f64027f6a3542c38e243fa5cc57de76": {
      "model_module": "@jupyter-widgets/controls",
      "model_module_version": "2.0.0",
      "model_name": "ButtonStyleModel",
      "state": {
       "font_family": null,
       "font_size": null,
       "font_style": null,
       "font_variant": null,
       "font_weight": null,
       "text_color": null,
       "text_decoration": null
      }
     },
     "1f7c9c0eac774f4192f164c785a5f162": {
      "model_module": "@jupyter-widgets/controls",
      "model_module_version": "2.0.0",
      "model_name": "CheckboxStyleModel",
      "state": {
       "description_width": ""
      }
     },
     "1ff2d5ce4c05444cb599ab0d9d314b62": {
      "model_module": "@jupyter-widgets/base",
      "model_module_version": "2.0.0",
      "model_name": "LayoutModel",
      "state": {}
     },
     "20954b8476dc4a68b4c379498fdbbfc3": {
      "model_module": "@jupyter-widgets/controls",
      "model_module_version": "2.0.0",
      "model_name": "TabModel",
      "state": {
       "children": [
        "IPY_MODEL_e012a74f14eb4ca9b6f3798f5ac0fba2",
        "IPY_MODEL_5d51a08cea6941e8bc52fa7711fb5eff",
        "IPY_MODEL_db956da89d924fc0ae69db4ed624df7c"
       ],
       "layout": "IPY_MODEL_13cdf8c68c6c4fa2b47217f8aa5341d0",
       "selected_index": 0,
       "titles": [
        "Nodes",
        "Lines",
        "Parent-Child-Assignments"
       ]
      }
     },
     "2107e07037e34b2da9378a72718e2626": {
      "model_module": "@jupyter-widgets/base",
      "model_module_version": "2.0.0",
      "model_name": "LayoutModel",
      "state": {}
     },
     "2170f4761ffd4d0bb6b5b06ea98ac0cd": {
      "model_module": "@jupyter-widgets/controls",
      "model_module_version": "2.0.0",
      "model_name": "SliderStyleModel",
      "state": {
       "description_width": ""
      }
     },
     "218095f64f4d42dcaca5d7aa2ce6054e": {
      "model_module": "@jupyter-widgets/base",
      "model_module_version": "2.0.0",
      "model_name": "LayoutModel",
      "state": {}
     },
     "2222ecad6f38467dbe84d77c46697fb0": {
      "model_module": "jupyter-matplotlib",
      "model_module_version": "^0.11",
      "model_name": "ToolbarModel",
      "state": {
       "_model_module_version": "^0.11",
       "_view_module_version": "^0.11",
       "collapsed": true,
       "layout": "IPY_MODEL_aec7d3e65225430cbc3b3f51cfdbcc4e",
       "orientation": "vertical",
       "toolitems": [
        [
         "Home",
         "Reset original view",
         "home",
         "home"
        ],
        [
         "Back",
         "Back to previous view",
         "arrow-left",
         "back"
        ],
        [
         "Forward",
         "Forward to next view",
         "arrow-right",
         "forward"
        ],
        [
         "Pan",
         "Left button pans, Right button zooms\nx/y fixes axis, CTRL fixes aspect",
         "arrows",
         "pan"
        ],
        [
         "Zoom",
         "Zoom to rectangle\nx/y fixes axis",
         "square-o",
         "zoom"
        ],
        [
         "Download",
         "Download plot",
         "floppy-o",
         "save_figure"
        ]
       ]
      }
     },
     "22aebd8ac0a7435e93614c4d83a37f90": {
      "model_module": "@jupyter-widgets/controls",
      "model_module_version": "2.0.0",
      "model_name": "DescriptionStyleModel",
      "state": {
       "description_width": ""
      }
     },
     "232455c7f08c413cad573c0b9d9d5b84": {
      "model_module": "@jupyter-widgets/base",
      "model_module_version": "2.0.0",
      "model_name": "LayoutModel",
      "state": {
       "border_bottom": "solid 1px",
       "border_left": "solid 1px",
       "border_right": "solid 1px",
       "border_top": "solid 1px",
       "width": "230px"
      }
     },
     "25409fe79e48429383a8f6eb3a184959": {
      "model_module": "@jupyter-widgets/base",
      "model_module_version": "2.0.0",
      "model_name": "LayoutModel",
      "state": {}
     },
     "25791c136b6c43e0ae7170483aecf446": {
      "model_module": "@jupyter-widgets/controls",
      "model_module_version": "2.0.0",
      "model_name": "HTMLMathStyleModel",
      "state": {
       "description_width": "",
       "font_size": null,
       "text_color": null
      }
     },
     "28b06fcdd42843d78787bbb6ccbd17b8": {
      "model_module": "@jupyter-widgets/base",
      "model_module_version": "2.0.0",
      "model_name": "LayoutModel",
      "state": {}
     },
     "290c575219fa4c2083a894193fba5f33": {
      "model_module": "@jupyter-widgets/controls",
      "model_module_version": "2.0.0",
      "model_name": "CheckboxModel",
      "state": {
       "description": "Skip existing results",
       "disabled": false,
       "layout": "IPY_MODEL_6f056f5095464b1e834256cfb0b0b54c",
       "style": "IPY_MODEL_f5996d98662d4180b75a93f9b096d917",
       "value": true
      }
     },
     "2a94b7b3e393444f81a67adf923b0128": {
      "model_module": "@jupyter-widgets/base",
      "model_module_version": "2.0.0",
      "model_name": "LayoutModel",
      "state": {}
     },
     "2a9d00d4233c47728bf84ccad03bdc86": {
      "model_module": "@jupyter-widgets/controls",
      "model_module_version": "2.0.0",
      "model_name": "DropdownModel",
      "state": {
       "description": "Selected mode:",
       "index": null,
       "layout": "IPY_MODEL_c9025326881b45e0a4006bcd193de472",
       "style": "IPY_MODEL_f7515e94ba854cc595e16f5115ee144e"
      }
     },
     "2b8508d720464eb486519357f046c348": {
      "model_module": "@jupyter-widgets/controls",
      "model_module_version": "2.0.0",
      "model_name": "ButtonStyleModel",
      "state": {
       "font_family": null,
       "font_size": null,
       "font_style": null,
       "font_variant": null,
       "font_weight": null,
       "text_color": null,
       "text_decoration": null
      }
     },
     "2c8cca1236544995baf184026e03468d": {
      "model_module": "@jupyter-widgets/base",
      "model_module_version": "2.0.0",
      "model_name": "LayoutModel",
      "state": {
       "height": "30px",
       "width": "150px"
      }
     },
     "2d2af7a0e39a491c9c96b6464cf4217c": {
      "model_module": "@jupyter-widgets/base",
      "model_module_version": "2.0.0",
      "model_name": "LayoutModel",
      "state": {
       "height": "400px",
       "width": "800px"
      }
     },
     "2d5b23eecd8a4e0581fb3ebd47400197": {
      "model_module": "@jupyter-widgets/controls",
      "model_module_version": "2.0.0",
      "model_name": "CheckboxModel",
      "state": {
       "description": "Real Modeshape",
       "disabled": false,
       "layout": "IPY_MODEL_28b06fcdd42843d78787bbb6ccbd17b8",
       "style": "IPY_MODEL_cd2716365f6049258b476b5ad3cf9d36",
       "value": false
      }
     },
     "2e2dfbcd5b1f45ec976e985daa5b0171": {
      "model_module": "@jupyter-widgets/base",
      "model_module_version": "2.0.0",
      "model_name": "LayoutModel",
      "state": {}
     },
     "2ee17447b0214e53b6c03c9deed27c0f": {
      "model_module": "@jupyter-widgets/controls",
      "model_module_version": "2.0.0",
      "model_name": "HBoxModel",
      "state": {
       "children": [
        "IPY_MODEL_c1c6bac3438e4629b5d67a67193f71a8",
        "IPY_MODEL_897bac374439426790fc7a572a5b306f"
       ],
       "layout": "IPY_MODEL_fc649bde53254c57b16045275ee77bdb"
      }
     },
     "2f91ba3fc3b14a10b9b0f18f54c8745c": {
      "model_module": "@jupyter-widgets/controls",
      "model_module_version": "2.0.0",
      "model_name": "ButtonModel",
      "state": {
       "description": "Y",
       "layout": "IPY_MODEL_ad447bc56e814c0f89cdbd247ff2a330",
       "style": "IPY_MODEL_1e013c92e6274fb7bb067ac936b21e57",
       "tooltip": null
      }
     },
     "2fb2933575db4e759d414cf3f1eff51b": {
      "model_module": "@jupyter-widgets/controls",
      "model_module_version": "2.0.0",
      "model_name": "FloatRangeSliderModel",
      "state": {
       "_model_name": "FloatRangeSliderModel",
       "_view_name": "FloatRangeSliderView",
       "behavior": "drag-tap",
       "description": "Damping range [%]",
       "layout": "IPY_MODEL_f1ae68638d574ba0b5e8b5858abecfaa",
       "max": 20,
       "step": 0.1,
       "style": "IPY_MODEL_0e386eef4cd444019133158f08c59a2b",
       "value": [
        0,
        20
       ]
      }
     },
     "303cec6dd50d4fb7b658f98a54932e27": {
      "model_module": "@jupyter-widgets/base",
      "model_module_version": "2.0.0",
      "model_name": "LayoutModel",
      "state": {}
     },
     "30be4e53eece4bad940db6eeeea3ef99": {
      "model_module": "@jupyter-widgets/controls",
      "model_module_version": "2.0.0",
      "model_name": "CheckboxModel",
      "state": {
       "description": "Show Nodes",
       "disabled": false,
       "indent": false,
       "layout": "IPY_MODEL_f117010a35834f6187dbf00ad71b61eb",
       "style": "IPY_MODEL_4216651c62cb4b3180b3622180cc8c28",
       "value": true
      }
     },
     "30dcebef9bc144db87d3ee52fce85d35": {
      "model_module": "@jupyter-widgets/controls",
      "model_module_version": "2.0.0",
      "model_name": "CheckboxStyleModel",
      "state": {
       "description_width": ""
      }
     },
     "31ea54846bc4400684606e44a2c4379a": {
      "model_module": "@jupyter-widgets/controls",
      "model_module_version": "2.0.0",
      "model_name": "CheckboxStyleModel",
      "state": {
       "description_width": ""
      }
     },
     "324a56b68ffd443d84f09a9084d8477e": {
      "model_module": "@jupyter-widgets/controls",
      "model_module_version": "2.0.0",
      "model_name": "CheckboxStyleModel",
      "state": {
       "description_width": ""
      }
     },
     "3291126a9bb041fb8005470fb20987d3": {
      "model_module": "@jupyter-widgets/controls",
      "model_module_version": "2.0.0",
      "model_name": "VBoxModel",
      "state": {
       "children": [
        "IPY_MODEL_1bfa5c24e41c4788895f8c04dca3216b",
        "IPY_MODEL_9d3b59d485544f8e9796f65b3d62b62c"
       ],
       "layout": "IPY_MODEL_fd9e3fc0e20947f58d9ee695ef8e1fab"
      }
     },
     "32973d61a6df463c87816cd1304a7a41": {
      "model_module": "@jupyter-widgets/controls",
      "model_module_version": "2.0.0",
      "model_name": "SliderStyleModel",
      "state": {
       "description_width": ""
      }
     },
     "33d0202d37a54e5f8359316478d19ec5": {
      "model_module": "@jupyter-widgets/base",
      "model_module_version": "2.0.0",
      "model_name": "LayoutModel",
      "state": {
       "width": "100px"
      }
     },
     "340c58e3d75948b9a2984ea4c1507feb": {
      "model_module": "@jupyter-widgets/controls",
      "model_module_version": "2.0.0",
      "model_name": "HBoxModel",
      "state": {
       "children": [
        "IPY_MODEL_8944698f4f0d487eb330b091a83e0e5e",
        "IPY_MODEL_44704c73fd6f40b0b84d2d2a26042534",
        "IPY_MODEL_1c6ed08973d24aefbb825135c760555e",
        "IPY_MODEL_60876b4dfc4f4a04b2465bfbd28bbea3"
       ],
       "layout": "IPY_MODEL_54ee943148f247ad9524bda1a80d648b"
      }
     },
     "35b9383c5d554f49bb618d01f8fa11af": {
      "model_module": "@jupyter-widgets/controls",
      "model_module_version": "2.0.0",
      "model_name": "ButtonStyleModel",
      "state": {
       "font_family": null,
       "font_size": null,
       "font_style": null,
       "font_variant": null,
       "font_weight": null,
       "text_color": null,
       "text_decoration": null
      }
     },
     "35c3e77aaf404289b4bb6d707cdd74bb": {
      "model_module": "@jupyter-widgets/controls",
      "model_module_version": "2.0.0",
      "model_name": "LabelStyleModel",
      "state": {
       "description_width": "",
       "font_family": null,
       "font_size": null,
       "font_style": null,
       "font_variant": null,
       "font_weight": null,
       "text_color": null,
       "text_decoration": null
      }
     },
     "35c8b84a2f0e41e686fa501cd45b9225": {
      "model_module": "jupyter-matplotlib",
      "model_module_version": "^0.11",
      "model_name": "MPLCanvasModel",
      "state": {
       "_cursor": "default",
       "_data_url": "data:image/png;base64,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",
       "_figure_label": "Figure 0",
       "_message": "x=−97.9199, y=−59.2232, z=95.3301",
       "_model_module_version": "^0.11",
       "_size": [
        850.3939947419401,
        525.5723925793184
       ],
       "_view_module_version": "^0.11",
       "footer_visible": false,
       "header_visible": false,
       "layout": "IPY_MODEL_5507a6c930f1405d9c35a5dbf99755da",
       "toolbar": "IPY_MODEL_898b3f9bed6d4b7e96d434a623491dce",
       "toolbar_position": "right"
      }
     },
     "3640295bd29543a4b4d777d401d81243": {
      "model_module": "@jupyter-widgets/controls",
      "model_module_version": "2.0.0",
      "model_name": "VBoxModel",
      "state": {
       "children": [
        "IPY_MODEL_c2090a4df8b841b0aeebdcbf6e02b092",
        "IPY_MODEL_5be5ab761f754aeab28c59e62690ecc7",
        "IPY_MODEL_bc0b235a93484093af674a5498369c2c",
        "IPY_MODEL_2d5b23eecd8a4e0581fb3ebd47400197",
        "IPY_MODEL_e16b2ef6fdc4405daa4fd92bf820ac3b",
        "IPY_MODEL_85378f2fa29543968434916ace9fe176"
       ],
       "layout": "IPY_MODEL_1e2fd2ee584e4265af174e9cb0a2292a"
      }
     },
     "3688162514054130b2990fe6413958a5": {
      "model_module": "@jupyter-widgets/base",
      "model_module_version": "2.0.0",
      "model_name": "LayoutModel",
      "state": {}
     },
     "373020e579d945c6b822a3f6ac89bc99": {
      "model_module": "@jupyter-widgets/controls",
      "model_module_version": "2.0.0",
      "model_name": "CheckboxModel",
      "state": {
       "description": "Show PSD",
       "disabled": false,
       "indent": false,
       "layout": "IPY_MODEL_33d0202d37a54e5f8359316478d19ec5",
       "style": "IPY_MODEL_fb11a1869ddf4166bea8e4163be6a871",
       "value": false
      }
     },
     "378d2d9be74541de965410c6017d5962": {
      "model_module": "@jupyter-widgets/controls",
      "model_module_version": "2.0.0",
      "model_name": "LabelStyleModel",
      "state": {
       "description_width": "",
       "font_family": null,
       "font_size": null,
       "font_style": null,
       "font_variant": null,
       "font_weight": null,
       "text_color": null,
       "text_decoration": null
      }
     },
     "380db268684a4c22aab3ad37bf036078": {
      "model_module": "@jupyter-widgets/controls",
      "model_module_version": "2.0.0",
      "model_name": "TextareaModel",
      "state": {
       "layout": "IPY_MODEL_5ffb9e157a6c42ce8305d01f5ec52aa3",
       "placeholder": "Load channel-DOF-assignments file",
       "style": "IPY_MODEL_e41c21c41bb94054a608fe59cd41d0ba",
       "value": "Channel-Nr.\tNode\tAzimuth\tElevation\tChannel Name\n0\t5\t28.86587619188732\t-8.695480642236125\tvib_l\n1\t5\t80.97701187878498\t-7.3090246040909514\tvib_r\n2\t5\t55.87930714013499\t29.34874066364139\tvib_t\n3\t24\t0.0\t180.0\tref_x\n4\t24\t-90.0\t0.0\tref_y\n5\t24\t0.0\t90.0\tref_z\n"
      }
     },
     "3843567ec60c488ba75162773f055b0f": {
      "model_module": "@jupyter-widgets/controls",
      "model_module_version": "2.0.0",
      "model_name": "ButtonStyleModel",
      "state": {
       "font_family": null,
       "font_size": null,
       "font_style": null,
       "font_variant": null,
       "font_weight": null,
       "text_color": null,
       "text_decoration": null
      }
     },
     "38f6fb721d614508a73c182e979e542a": {
      "model_module": "@jupyter-widgets/base",
      "model_module_version": "2.0.0",
      "model_name": "LayoutModel",
      "state": {}
     },
     "3a67c29d1c9c4f14bc0960fc3faefd1d": {
      "model_module": "@jupyter-widgets/base",
      "model_module_version": "2.0.0",
      "model_name": "LayoutModel",
      "state": {}
     },
     "3aa681a10edb4457877c5fe6eb7986df": {
      "model_module": "@jupyter-widgets/base",
      "model_module_version": "2.0.0",
      "model_name": "LayoutModel",
      "state": {
       "border_bottom": "1px solid black",
       "border_left": "1px solid black",
       "border_right": "1px solid black",
       "border_top": "1px solid black",
       "height": "160px",
       "overflow": "scroll",
       "width": "80%"
      }
     },
     "3acb747f299f44c6a73549361d7f7fda": {
      "model_module": "@jupyter-widgets/controls",
      "model_module_version": "2.0.0",
      "model_name": "CheckboxModel",
      "state": {
       "description": "Show Channel-DOF Assignm.",
       "disabled": false,
       "indent": false,
       "layout": "IPY_MODEL_aec721134a634369b63438096b7e2804",
       "style": "IPY_MODEL_807972c3be7a4a09989aa222b14f7ee6",
       "value": false
      }
     },
     "3b0e79cb3a8b48048f5854780554cb0e": {
      "model_module": "@jupyter-widgets/controls",
      "model_module_version": "2.0.0",
      "model_name": "ButtonModel",
      "state": {
       "description": "Save",
       "layout": "IPY_MODEL_476b4f6c716143debd6ffabcfbfac4e3",
       "style": "IPY_MODEL_4f389990418f45c0aa925bbaaaf10833",
       "tooltip": null
      }
     },
     "3b7c625b6ebb4ab79b37aca27d6eb658": {
      "model_module": "@jupyter-widgets/controls",
      "model_module_version": "2.0.0",
      "model_name": "TextModel",
      "state": {
       "description": "Lines File",
       "layout": "IPY_MODEL_4af8d60d963e45dcabd7e033698acff6",
       "style": "IPY_MODEL_ffb1d23c840b43ebb0a9899e9bf369d9",
       "value": "/home/sima9999/git/pyOMA/tests/files/lines.txt"
      }
     },
     "3b91af3becdb43139c26a6f8e921a3f2": {
      "model_module": "@jupyter-widgets/controls",
      "model_module_version": "2.0.0",
      "model_name": "DescriptionStyleModel",
      "state": {
       "description_width": ""
      }
     },
     "3b9eaf1258424e90a78eccc8585b9484": {
      "model_module": "@jupyter-widgets/controls",
      "model_module_version": "2.0.0",
      "model_name": "LabelModel",
      "state": {
       "layout": "IPY_MODEL_c78f576cb5004c6d923492ce4c8ca8cf",
       "style": "IPY_MODEL_ba210a439c464423b349347e4e3d365c",
       "value": "Mode:"
      }
     },
     "3bfb06811bce4c8f9e51a7770564560d": {
      "model_module": "@jupyter-widgets/base",
      "model_module_version": "2.0.0",
      "model_name": "LayoutModel",
      "state": {}
     },
     "3c78ebba34dc40948d93cd99869b7aab": {
      "model_module": "@jupyter-widgets/controls",
      "model_module_version": "2.0.0",
      "model_name": "CheckboxModel",
      "state": {
       "description": "Show Lines",
       "disabled": false,
       "indent": false,
       "layout": "IPY_MODEL_d7020c65ea894e5784e6614883ed854a",
       "style": "IPY_MODEL_140cf50a750f4e25b63be4d193f60734",
       "value": true
      }
     },
     "3cc796837ede46b48b9197f0fc8d761b": {
      "model_module": "@jupyter-widgets/controls",
      "model_module_version": "2.0.0",
      "model_name": "HBoxModel",
      "state": {
       "children": [
        "IPY_MODEL_6672bf6b7aa74c09bc6639d6c4f35507",
        "IPY_MODEL_970e8827f0b9460495f44da1979fb639",
        "IPY_MODEL_6f9e5c90e21242fe974692f612f956c9",
        "IPY_MODEL_444d99928ee04bd88b2541278882efb2",
        "IPY_MODEL_0f3a499d7d1749dc8a1b7e0c1ffa47c4"
       ],
       "layout": "IPY_MODEL_7747d520940641829037d61bbc164f0c"
      }
     },
     "3ccb291958c645ff9b6af0289db8209b": {
      "model_module": "@jupyter-widgets/controls",
      "model_module_version": "2.0.0",
      "model_name": "VBoxModel",
      "state": {
       "children": [
        "IPY_MODEL_0109f931408d49bda10b6bae7cdbab47",
        "IPY_MODEL_606c16a61c384f0fae90c7b4b7c473e9",
        "IPY_MODEL_c4bef750d7f04dc1891204f893824df3",
        "IPY_MODEL_41c9043e1c6f48a39b690ccaccfe54e5",
        "IPY_MODEL_dd660b235a074e92bf1f18900e6cf7c2",
        "IPY_MODEL_a14ceb3b715044d7a88f67f4fdc258b6"
       ],
       "layout": "IPY_MODEL_1656154888cd4a63b54166f231a12894"
      }
     },
     "3dadd2cf095e4f659022a5b072f2d30e": {
      "model_module": "@jupyter-widgets/base",
      "model_module_version": "2.0.0",
      "model_name": "LayoutModel",
      "state": {
       "border_bottom": "solid 1px",
       "border_left": "solid 1px",
       "border_right": "solid 1px",
       "border_top": "solid 1px"
      }
     },
     "3dbfbb5cb4fc4b59ba206c88eac74688": {
      "model_module": "@jupyter-widgets/controls",
      "model_module_version": "2.0.0",
      "model_name": "HBoxModel",
      "state": {
       "children": [
        "IPY_MODEL_6d5d1b563c5f4bc6afc7e1347f634f1d",
        "IPY_MODEL_ffe9ea1e4ac34889ba138022e78f070e"
       ],
       "layout": "IPY_MODEL_6c61215d232444dc87bc6d5b635797bc"
      }
     },
     "3e1fd1af3f254408bf2f33ccc8fe7594": {
      "model_module": "@jupyter-widgets/controls",
      "model_module_version": "2.0.0",
      "model_name": "CheckboxModel",
      "state": {
       "description": "Show Connecting Lines",
       "disabled": false,
       "indent": false,
       "layout": "IPY_MODEL_c15821d722dc4c5db6e790d859b22960",
       "style": "IPY_MODEL_97163a3ae9e1483381ead955f26045ab",
       "value": true
      }
     },
     "3fbdc3bd3b2d413cabfc395a65b0734f": {
      "model_module": "@jupyter-widgets/base",
      "model_module_version": "2.0.0",
      "model_name": "LayoutModel",
      "state": {
       "width": "800px"
      }
     },
     "3fd30706235b4e9ab75c97a2d16bd155": {
      "model_module": "@jupyter-widgets/controls",
      "model_module_version": "2.0.0",
      "model_name": "ButtonModel",
      "state": {
       "description": "Reset",
       "layout": "IPY_MODEL_218095f64f4d42dcaca5d7aa2ce6054e",
       "style": "IPY_MODEL_6918c3540af54be78dad636cfd6c6868",
       "tooltip": null
      }
     },
     "4055ee51817848edbbdde6f37a43799e": {
      "model_module": "@jupyter-widgets/controls",
      "model_module_version": "2.0.0",
      "model_name": "CheckboxModel",
      "state": {
       "description": "Show Nodes",
       "disabled": false,
       "indent": false,
       "layout": "IPY_MODEL_48e313d28d6d49baa7384c2edabb28c2",
       "style": "IPY_MODEL_411761ed2fc444c1809cd6411c70c35e",
       "value": true
      }
     },
     "411761ed2fc444c1809cd6411c70c35e": {
      "model_module": "@jupyter-widgets/controls",
      "model_module_version": "2.0.0",
      "model_name": "CheckboxStyleModel",
      "state": {
       "description_width": ""
      }
     },
     "41711c0c0a254ad0913dd5652af9a7bc": {
      "model_module": "@jupyter-widgets/controls",
      "model_module_version": "2.0.0",
      "model_name": "DescriptionStyleModel",
      "state": {
       "description_width": ""
      }
     },
     "41c9043e1c6f48a39b690ccaccfe54e5": {
      "model_module": "@jupyter-widgets/controls",
      "model_module_version": "2.0.0",
      "model_name": "CheckboxModel",
      "state": {
       "description": "Real Modeshape",
       "disabled": false,
       "layout": "IPY_MODEL_d470314378fe471da88142cc74d3a1ea",
       "style": "IPY_MODEL_d69c9cec7db748d59bdab516f51f632d",
       "value": false
      }
     },
     "4216651c62cb4b3180b3622180cc8c28": {
      "model_module": "@jupyter-widgets/controls",
      "model_module_version": "2.0.0",
      "model_name": "CheckboxStyleModel",
      "state": {
       "description_width": ""
      }
     },
     "423b3e9e5116462896f9394992966dd6": {
      "model_module": "@jupyter-widgets/base",
      "model_module_version": "2.0.0",
      "model_name": "LayoutModel",
      "state": {
       "width": "800px"
      }
     },
     "43368b3189a14698b24032d9dd8a6810": {
      "model_module": "@jupyter-widgets/controls",
      "model_module_version": "2.0.0",
      "model_name": "ButtonModel",
      "state": {
       "description": "Load",
       "layout": "IPY_MODEL_eda23303824444a18541deee51cf4bb4",
       "style": "IPY_MODEL_a5a3fdf528a246d4b66901a2a37718cc",
       "tooltip": null
      }
     },
     "444d99928ee04bd88b2541278882efb2": {
      "model_module": "@jupyter-widgets/controls",
      "model_module_version": "2.0.0",
      "model_name": "VBoxModel",
      "state": {
       "children": [
        "IPY_MODEL_2a9d00d4233c47728bf84ccad03bdc86",
        "IPY_MODEL_7ef8b31aa2de4224a1622f9969d3adaf"
       ],
       "layout": "IPY_MODEL_232455c7f08c413cad573c0b9d9d5b84"
      }
     },
     "44704c73fd6f40b0b84d2d2a26042534": {
      "model_module": "@jupyter-widgets/controls",
      "model_module_version": "2.0.0",
      "model_name": "ButtonModel",
      "state": {
       "description": "Y",
       "layout": "IPY_MODEL_5259bac124574288b3b98c867a781dec",
       "style": "IPY_MODEL_d9b8f1093d6e48a19f2422f03ba3717c",
       "tooltip": null
      }
     },
     "453f4968670648aba406d346093f3db1": {
      "model_module": "@jupyter-widgets/base",
      "model_module_version": "2.0.0",
      "model_name": "LayoutModel",
      "state": {}
     },
     "461f085d089147eea1261824d5100640": {
      "model_module": "@jupyter-widgets/controls",
      "model_module_version": "2.0.0",
      "model_name": "ButtonStyleModel",
      "state": {
       "font_family": null,
       "font_size": null,
       "font_style": null,
       "font_variant": null,
       "font_weight": null,
       "text_color": null,
       "text_decoration": null
      }
     },
     "464e57ad2c934beebef07f8f1427fe7b": {
      "model_module": "@jupyter-widgets/controls",
      "model_module_version": "2.0.0",
      "model_name": "ButtonStyleModel",
      "state": {
       "font_family": null,
       "font_size": null,
       "font_style": null,
       "font_variant": null,
       "font_weight": null,
       "text_color": null,
       "text_decoration": null
      }
     },
     "4654443039834ea19c504f6b864d17d0": {
      "model_module": "@jupyter-widgets/base",
      "model_module_version": "2.0.0",
      "model_name": "LayoutModel",
      "state": {}
     },
     "46ae303a4cff49ee989602ed772de698": {
      "model_module": "@jupyter-widgets/controls",
      "model_module_version": "2.0.0",
      "model_name": "LabelModel",
      "state": {
       "layout": "IPY_MODEL_9854fd87b5cb420891cf99aa48e1969d",
       "style": "IPY_MODEL_9131148e22b54c9cbc35ee51aa7f14fc",
       "value": "Soft criteria:"
      }
     },
     "46f51b00cd83486ba65bc64395f16c65": {
      "model_module": "@jupyter-widgets/base",
      "model_module_version": "2.0.0",
      "model_name": "LayoutModel",
      "state": {}
     },
     "476b4f6c716143debd6ffabcfbfac4e3": {
      "model_module": "@jupyter-widgets/base",
      "model_module_version": "2.0.0",
      "model_name": "LayoutModel",
      "state": {}
     },
     "47ad33ed6e0a43509d22a8f3b61b9f81": {
      "model_module": "@jupyter-widgets/controls",
      "model_module_version": "2.0.0",
      "model_name": "TextModel",
      "state": {
       "description": "Channel-DOF-Assignments File",
       "layout": "IPY_MODEL_423b3e9e5116462896f9394992966dd6",
       "style": "IPY_MODEL_f3c12be1d1c6400c85c045ed1a807fb4",
       "value": "/home/sima9999/git/pyOMA/tests/files/measurement_1/channel_dofs.txt"
      }
     },
     "47b76cbc9ab843af9d0e01e7f35551d7": {
      "model_module": "@jupyter-widgets/controls",
      "model_module_version": "2.0.0",
      "model_name": "ButtonModel",
      "state": {
       "description": "ISO",
       "layout": "IPY_MODEL_07c406ef2691465d8dbc9abf1dd1726d",
       "style": "IPY_MODEL_faa76f38ca574338a5f519c33ef17337",
       "tooltip": null
      }
     },
     "47ea426f70644d65ba3a32a81a1f129e": {
      "model_module": "@jupyter-widgets/controls",
      "model_module_version": "2.0.0",
      "model_name": "ButtonStyleModel",
      "state": {
       "font_family": null,
       "font_size": null,
       "font_style": null,
       "font_variant": null,
       "font_weight": null,
       "text_color": null,
       "text_decoration": null
      }
     },
     "48a15a3e80f14bfa9fe24282e3aaf941": {
      "model_module": "@jupyter-widgets/controls",
      "model_module_version": "2.0.0",
      "model_name": "CheckboxStyleModel",
      "state": {
       "description_width": ""
      }
     },
     "48e313d28d6d49baa7384c2edabb28c2": {
      "model_module": "@jupyter-widgets/base",
      "model_module_version": "2.0.0",
      "model_name": "LayoutModel",
      "state": {
       "height": "30px",
       "width": "100px"
      }
     },
     "4905383ef1e948608f3b2df096785cd9": {
      "model_module": "@jupyter-widgets/controls",
      "model_module_version": "2.0.0",
      "model_name": "ButtonStyleModel",
      "state": {
       "font_family": null,
       "font_size": null,
       "font_style": null,
       "font_variant": null,
       "font_weight": null,
       "text_color": null,
       "text_decoration": null
      }
     },
     "492350d7cc9d4d3f8b42e1f7b255dd37": {
      "model_module": "@jupyter-widgets/base",
      "model_module_version": "2.0.0",
      "model_name": "LayoutModel",
      "state": {
       "height": "30px",
       "width": "180px"
      }
     },
     "49757e4c238a4f5f8a7060cdab0bff1b": {
      "model_module": "@jupyter-widgets/controls",
      "model_module_version": "2.0.0",
      "model_name": "TextStyleModel",
      "state": {
       "description_width": "200px",
       "font_size": null,
       "text_color": null
      }
     },
     "498af4f17fca45369a7661351bcc613b": {
      "model_module": "@jupyter-widgets/controls",
      "model_module_version": "2.0.0",
      "model_name": "ButtonModel",
      "state": {
       "description": "Y",
       "layout": "IPY_MODEL_710f31c83175489b8ce99b06bbae4f3d",
       "style": "IPY_MODEL_55b27a422189422d9f74ebf8e3d2eaaf",
       "tooltip": null
      }
     },
     "4a06bc2d65154a64b1e77b7abb6c404c": {
      "model_module": "@jupyter-widgets/base",
      "model_module_version": "2.0.0",
      "model_name": "LayoutModel",
      "state": {}
     },
     "4a3011ca99be4ce4b06faf2de89fddd9": {
      "model_module": "@jupyter-widgets/controls",
      "model_module_version": "2.0.0",
      "model_name": "VBoxModel",
      "state": {
       "children": [
        "IPY_MODEL_5b69bb25f10c4a2ca0653d9c195d350d",
        "IPY_MODEL_e76298b8c83148aab24a59af7e9bf54f",
        "IPY_MODEL_4055ee51817848edbbdde6f37a43799e",
        "IPY_MODEL_ed1d2dea62334855a2fc0fa6551acefa",
        "IPY_MODEL_55438fae779a47f48c016ecf8211bb26",
        "IPY_MODEL_b953f1a7327443c3b05265e6f7b98492",
        "IPY_MODEL_8c3886f6fcae4131a68503fd709f790d",
        "IPY_MODEL_3acb747f299f44c6a73549361d7f7fda"
       ],
       "layout": "IPY_MODEL_ff2e747571754a68833466f77ec48956"
      }
     },
     "4a4cd23478d2482a934852dc3d976cf0": {
      "model_module": "@jupyter-widgets/controls",
      "model_module_version": "2.0.0",
      "model_name": "TextareaModel",
      "state": {
       "layout": "IPY_MODEL_1115ebf7927d4effa2a99a093439d671",
       "placeholder": "Load lines file",
       "style": "IPY_MODEL_bbdd557ba3ad47cf8d6b7a3e81ed3364",
       "value": "node_name_1\t node_name_2\n   3   7\n   4   8\n   5   9\n   6   10\n   7   11\n   8   12\n   9   13\n   10   14\n   11   15\n   12   16\n   1   5\n   2   6\n   8   5\n   5   6\n   6   7\n   7   8\n   11   12\n   12   9\n   9   10\n   10   11\n   15   16\n   16   13\n   13   14\n   14   15\n   15   19\n   19   18\n   16   20\n   19   20\n   17   20\n   17   13\n   17   18\n   17   21\n   24   21\n   22   21\n   22   18\n   22   23\n   19   23\n   23   24\n   20   24\n   18   14"
      }
     },
     "4af8d60d963e45dcabd7e033698acff6": {
      "model_module": "@jupyter-widgets/base",
      "model_module_version": "2.0.0",
      "model_name": "LayoutModel",
      "state": {
       "width": "800px"
      }
     },
     "4c9c0c18395b4ec6a8d6b5cf0b587dc9": {
      "model_module": "@jupyter-widgets/controls",
      "model_module_version": "2.0.0",
      "model_name": "CheckboxStyleModel",
      "state": {
       "description_width": ""
      }
     },
     "4cf58a4f99364bf2b23578f8be91a6d2": {
      "model_module": "@jupyter-widgets/base",
      "model_module_version": "2.0.0",
      "model_name": "LayoutModel",
      "state": {}
     },
     "4d875e6c3bf742208a910547449834d1": {
      "model_module": "@jupyter-widgets/controls",
      "model_module_version": "2.0.0",
      "model_name": "ButtonStyleModel",
      "state": {
       "font_family": null,
       "font_size": null,
       "font_style": null,
       "font_variant": null,
       "font_weight": null,
       "text_color": null,
       "text_decoration": null
      }
     },
     "4f389990418f45c0aa925bbaaaf10833": {
      "model_module": "@jupyter-widgets/controls",
      "model_module_version": "2.0.0",
      "model_name": "ButtonStyleModel",
      "state": {
       "font_family": null,
       "font_size": null,
       "font_style": null,
       "font_variant": null,
       "font_weight": null,
       "text_color": null,
       "text_decoration": null
      }
     },
     "4fa8b828059a4e9a88473844ab8f6f03": {
      "model_module": "@jupyter-widgets/base",
      "model_module_version": "2.0.0",
      "model_name": "LayoutModel",
      "state": {}
     },
     "4fb58c911f8a4fd2a4cd6bc70fff0ee0": {
      "model_module": "@jupyter-widgets/controls",
      "model_module_version": "2.0.0",
      "model_name": "DescriptionStyleModel",
      "state": {
       "description_width": ""
      }
     },
     "51c6126b9475459185fa43ee9a01ff34": {
      "model_module": "@jupyter-widgets/base",
      "model_module_version": "2.0.0",
      "model_name": "LayoutModel",
      "state": {}
     },
     "5259bac124574288b3b98c867a781dec": {
      "model_module": "@jupyter-widgets/base",
      "model_module_version": "2.0.0",
      "model_name": "LayoutModel",
      "state": {
       "height": "30px",
       "width": "30px"
      }
     },
     "53122e136f0a41b6bd7ec694131f721d": {
      "model_module": "@jupyter-widgets/controls",
      "model_module_version": "2.0.0",
      "model_name": "HBoxModel",
      "state": {
       "children": [
        "IPY_MODEL_a5475fa970d947048f07f4c9790c0600",
        "IPY_MODEL_2f91ba3fc3b14a10b9b0f18f54c8745c",
        "IPY_MODEL_87904ef31d264cc9adc1b75e8889ef11",
        "IPY_MODEL_47b76cbc9ab843af9d0e01e7f35551d7"
       ],
       "layout": "IPY_MODEL_0d79062cf511499fa20c47219a844dc2"
      }
     },
     "53d23780267f4ece89596781a14a380b": {
      "model_module": "@jupyter-widgets/controls",
      "model_module_version": "2.0.0",
      "model_name": "ButtonModel",
      "state": {
       "description": "Load",
       "layout": "IPY_MODEL_dce58cb87311446198fc5d40643937f0",
       "style": "IPY_MODEL_2b8508d720464eb486519357f046c348",
       "tooltip": null
      }
     },
     "544325ae675647e2a8c77828643f4f0b": {
      "model_module": "@jupyter-widgets/base",
      "model_module_version": "2.0.0",
      "model_name": "LayoutModel",
      "state": {}
     },
     "546cbaa653c94975a8b4cdd7d771e060": {
      "model_module": "@jupyter-widgets/base",
      "model_module_version": "2.0.0",
      "model_name": "LayoutModel",
      "state": {}
     },
     "54ee943148f247ad9524bda1a80d648b": {
      "model_module": "@jupyter-widgets/base",
      "model_module_version": "2.0.0",
      "model_name": "LayoutModel",
      "state": {}
     },
     "5507a6c930f1405d9c35a5dbf99755da": {
      "model_module": "@jupyter-widgets/base",
      "model_module_version": "2.0.0",
      "model_name": "LayoutModel",
      "state": {}
     },
     "551d0991e55b49dc8b9aa999077a7288": {
      "model_module": "@jupyter-widgets/controls",
      "model_module_version": "2.0.0",
      "model_name": "TabModel",
      "state": {
       "children": [
        "IPY_MODEL_c1726e9d083a4191bfb5b2009d2fccf7",
        "IPY_MODEL_20954b8476dc4a68b4c379498fdbbfc3",
        "IPY_MODEL_78fc5a70455f413a95d9324d413893d2",
        "IPY_MODEL_c596d559759d4ca587fd2172a9009bf0",
        "IPY_MODEL_d9549184619243718225a3c2b35a0f23"
       ],
       "layout": "IPY_MODEL_1d3d751c7f6a42f38305128245f75050",
       "selected_index": 0,
       "titles": [
        "General",
        "Geometry",
        "Setup Info",
        "Channel-DOF-Assignments",
        "OMA Config"
       ]
      }
     },
     "55438fae779a47f48c016ecf8211bb26": {
      "model_module": "@jupyter-widgets/controls",
      "model_module_version": "2.0.0",
      "model_name": "CheckboxModel",
      "state": {
       "description": "Show Connecting Lines",
       "disabled": false,
       "indent": false,
       "layout": "IPY_MODEL_0211b75855454c96a4da35c1f803e18d",
       "style": "IPY_MODEL_6c7725c1c08d41ddbbb1503f52ca2628",
       "value": true
      }
     },
     "5583e33ad6e744e683cb5e42844f5fe4": {
      "model_module": "@jupyter-widgets/base",
      "model_module_version": "2.0.0",
      "model_name": "LayoutModel",
      "state": {
       "width": "100px"
      }
     },
     "55b209d807504a368342d02dd8ae8b44": {
      "model_module": "@jupyter-widgets/controls",
      "model_module_version": "2.0.0",
      "model_name": "ButtonModel",
      "state": {
       "description": "Save",
       "layout": "IPY_MODEL_f6d7c59efd2149158d8d3240545e6a61",
       "style": "IPY_MODEL_d8655721e84a4b9db4d05885d6778a65",
       "tooltip": null
      }
     },
     "55b27a422189422d9f74ebf8e3d2eaaf": {
      "model_module": "@jupyter-widgets/controls",
      "model_module_version": "2.0.0",
      "model_name": "ButtonStyleModel",
      "state": {
       "font_family": null,
       "font_size": null,
       "font_style": null,
       "font_variant": null,
       "font_weight": null,
       "text_color": null,
       "text_decoration": null
      }
     },
     "55c1d378c68747c79927402ab58261cb": {
      "model_module": "@jupyter-widgets/controls",
      "model_module_version": "2.0.0",
      "model_name": "TextModel",
      "state": {
       "description": "Nodes File",
       "layout": "IPY_MODEL_0b19976a44ff4d8999b4826de384146b",
       "style": "IPY_MODEL_5b5b63fd0bb84a80a628b885330772b0",
       "value": "/home/sima9999/git/pyOMA/tests/files/grid.txt"
      }
     },
     "560fbdab6345471eb3e57195060fe764": {
      "model_module": "@jupyter-widgets/controls",
      "model_module_version": "2.0.0",
      "model_name": "LabelStyleModel",
      "state": {
       "description_width": "",
       "font_family": null,
       "font_size": null,
       "font_style": null,
       "font_variant": null,
       "font_weight": null,
       "text_color": null,
       "text_decoration": null
      }
     },
     "5661570d42e5445c89da74f84695c988": {
      "model_module": "@jupyter-widgets/controls",
      "model_module_version": "2.0.0",
      "model_name": "CheckboxModel",
      "state": {
       "description": "Show Nodes",
       "disabled": false,
       "indent": false,
       "layout": "IPY_MODEL_d078e2ece61a41f7b671367fb57d00fe",
       "style": "IPY_MODEL_662e56104d2a46e69c6ede587f987ac4",
       "value": true
      }
     },
     "56fcb99a7c10409cbc29e4d099e6922b": {
      "model_module": "@jupyter-widgets/base",
      "model_module_version": "2.0.0",
      "model_name": "LayoutModel",
      "state": {
       "border_bottom": "solid 1px",
       "border_left": "solid 1px",
       "border_right": "solid 1px",
       "border_top": "solid 1px"
      }
     },
     "576dd6ff2dfa4fbe918813375e625dca": {
      "model_module": "@jupyter-widgets/controls",
      "model_module_version": "2.0.0",
      "model_name": "LabelModel",
      "state": {
       "layout": "IPY_MODEL_8a4cf3b8d06b45af8072712cbf88d36c",
       "style": "IPY_MODEL_06979aa19f134fb2adca57d411e70cae",
       "value": "View:"
      }
     },
     "578e1f3d53a84b4dad21dca8a06a8f3a": {
      "model_module": "@jupyter-widgets/controls",
      "model_module_version": "2.0.0",
      "model_name": "SliderStyleModel",
      "state": {
       "description_width": ""
      }
     },
     "5818c70e2913481eb8a9b734c0417c73": {
      "model_module": "@jupyter-widgets/controls",
      "model_module_version": "2.0.0",
      "model_name": "VBoxModel",
      "state": {
       "children": [
        "IPY_MODEL_cc4dcc52ca3b4563b25bb95c4c03f00a",
        "IPY_MODEL_14e69b63c18c45b68e1683800d850d97",
        "IPY_MODEL_5661570d42e5445c89da74f84695c988",
        "IPY_MODEL_3c78ebba34dc40948d93cd99869b7aab",
        "IPY_MODEL_3e1fd1af3f254408bf2f33ccc8fe7594",
        "IPY_MODEL_d61fa3dea89a4bde851d286ec06dfe2c",
        "IPY_MODEL_8df6b039bb554305ba9a4e04e204c472",
        "IPY_MODEL_d01612ad2b0646a3b36dc4a661ffa2b5"
       ],
       "layout": "IPY_MODEL_56fcb99a7c10409cbc29e4d099e6922b"
      }
     },
     "581d5c408a6f4b7694e502331281e90d": {
      "model_module": "@jupyter-widgets/controls",
      "model_module_version": "2.0.0",
      "model_name": "LabelModel",
      "state": {
       "layout": "IPY_MODEL_5fe08c80b9f640b5a2bb36e8d1e8a3e6",
       "style": "IPY_MODEL_172a1bc1cbb8493f9491e86756ab0618",
       "value": "Left click to rotate, middle click to pan, right click to zoom."
      }
     },
     "58f6f864205046cf976988cf261e2cf5": {
      "model_module": "@jupyter-widgets/controls",
      "model_module_version": "2.0.0",
      "model_name": "ButtonStyleModel",
      "state": {
       "font_family": null,
       "font_size": null,
       "font_style": null,
       "font_variant": null,
       "font_weight": null,
       "text_color": null,
       "text_decoration": null
      }
     },
     "590304c392dc438dac66598a8fca18bd": {
      "model_module": "@jupyter-widgets/controls",
      "model_module_version": "2.0.0",
      "model_name": "CheckboxModel",
      "state": {
       "description": "Save new results",
       "disabled": false,
       "layout": "IPY_MODEL_46f51b00cd83486ba65bc64395f16c65",
       "style": "IPY_MODEL_48a15a3e80f14bfa9fe24282e3aaf941",
       "value": false
      }
     },
     "5951567ad86c455c96c491465ca4c722": {
      "model_module": "@jupyter-widgets/controls",
      "model_module_version": "2.0.0",
      "model_name": "TextStyleModel",
      "state": {
       "description_width": "",
       "font_size": null,
       "text_color": null
      }
     },
     "5993d1a93cc64ffaa8f55ee009e1db99": {
      "model_module": "@jupyter-widgets/controls",
      "model_module_version": "2.0.0",
      "model_name": "ButtonModel",
      "state": {
       "icon": "play",
       "layout": "IPY_MODEL_fc9422642b2a42d9b005dbcce4ad76de",
       "style": "IPY_MODEL_35b9383c5d554f49bb618d01f8fa11af",
       "tooltip": null
      }
     },
     "5a0a478895554dd98f951422ba91fbf6": {
      "model_module": "@jupyter-widgets/controls",
      "model_module_version": "2.0.0",
      "model_name": "CheckboxStyleModel",
      "state": {
       "description_width": ""
      }
     },
     "5a7ee6d488874244bb10df1a698429eb": {
      "model_module": "@jupyter-widgets/controls",
      "model_module_version": "2.0.0",
      "model_name": "SliderStyleModel",
      "state": {
       "description_width": ""
      }
     },
     "5b2b5157caad41f19828aa8c0b52366b": {
      "model_module": "@jupyter-widgets/controls",
      "model_module_version": "2.0.0",
      "model_name": "SliderStyleModel",
      "state": {
       "description_width": ""
      }
     },
     "5b5b63fd0bb84a80a628b885330772b0": {
      "model_module": "@jupyter-widgets/controls",
      "model_module_version": "2.0.0",
      "model_name": "TextStyleModel",
      "state": {
       "description_width": "200px",
       "font_size": null,
       "text_color": null
      }
     },
     "5b65e38c76e542d0b3bd8b93a4eefe99": {
      "model_module": "@jupyter-widgets/controls",
      "model_module_version": "2.0.0",
      "model_name": "ButtonStyleModel",
      "state": {
       "font_family": null,
       "font_size": null,
       "font_style": null,
       "font_variant": null,
       "font_weight": null,
       "text_color": null,
       "text_decoration": null
      }
     },
     "5b69bb25f10c4a2ca0653d9c195d350d": {
      "model_module": "@jupyter-widgets/controls",
      "model_module_version": "2.0.0",
      "model_name": "LabelModel",
      "state": {
       "layout": "IPY_MODEL_546cbaa653c94975a8b4cdd7d771e060",
       "style": "IPY_MODEL_1f5455ae9b5e4b92bce6c6576bb70123",
       "value": "Options:"
      }
     },
     "5b71114b01974de2a03f720c032ca658": {
      "model_module": "@jupyter-widgets/base",
      "model_module_version": "2.0.0",
      "model_name": "LayoutModel",
      "state": {
       "height": "30px",
       "width": "100px"
      }
     },
     "5be5ab761f754aeab28c59e62690ecc7": {
      "model_module": "@jupyter-widgets/controls",
      "model_module_version": "2.0.0",
      "model_name": "DropdownModel",
      "state": {
       "_options_labels": [
        "1.230",
        "1.435",
        "2.100",
        "4.016",
        "4.773",
        "6.679",
        "7.618",
        "9.665",
        "12.163",
        "12.598",
        "13.854"
       ],
       "index": 4,
       "layout": "IPY_MODEL_66cd978d017d4076958771d6afe53a97",
       "style": "IPY_MODEL_22aebd8ac0a7435e93614c4d83a37f90"
      }
     },
     "5cc6af56286a441f82ef3c8f29b253e0": {
      "model_module": "@jupyter-widgets/controls",
      "model_module_version": "2.0.0",
      "model_name": "CheckboxModel",
      "state": {
       "description": "Real Modeshape",
       "disabled": false,
       "layout": "IPY_MODEL_51c6126b9475459185fa43ee9a01ff34",
       "style": "IPY_MODEL_31ea54846bc4400684606e44a2c4379a",
       "value": false
      }
     },
     "5d51a08cea6941e8bc52fa7711fb5eff": {
      "model_module": "@jupyter-widgets/controls",
      "model_module_version": "2.0.0",
      "model_name": "VBoxModel",
      "state": {
       "children": [
        "IPY_MODEL_3b7c625b6ebb4ab79b37aca27d6eb658",
        "IPY_MODEL_4a4cd23478d2482a934852dc3d976cf0",
        "IPY_MODEL_8baa9c0eef624e5fa223c0a37ba6fac6"
       ],
       "layout": "IPY_MODEL_aec9a4c8ff7f41ae818b4c5a68ff630e"
      }
     },
     "5f7732e1c3bf4dd4b8f31396dc4c3324": {
      "model_module": "@jupyter-widgets/base",
      "model_module_version": "2.0.0",
      "model_name": "LayoutModel",
      "state": {}
     },
     "5fe08c80b9f640b5a2bb36e8d1e8a3e6": {
      "model_module": "@jupyter-widgets/base",
      "model_module_version": "2.0.0",
      "model_name": "LayoutModel",
      "state": {}
     },
     "5ffb9e157a6c42ce8305d01f5ec52aa3": {
      "model_module": "@jupyter-widgets/base",
      "model_module_version": "2.0.0",
      "model_name": "LayoutModel",
      "state": {
       "height": "400px",
       "width": "800px"
      }
     },
     "6049b43c5ef347e596cb05998787cd03": {
      "model_module": "@jupyter-widgets/base",
      "model_module_version": "2.0.0",
      "model_name": "LayoutModel",
      "state": {
       "border_bottom": "solid 1px",
       "border_left": "solid 1px",
       "border_right": "solid 1px",
       "border_top": "solid 1px",
       "width": "230px"
      }
     },
     "606c16a61c384f0fae90c7b4b7c473e9": {
      "model_module": "@jupyter-widgets/controls",
      "model_module_version": "2.0.0",
      "model_name": "DropdownModel",
      "state": {
       "_options_labels": [
        "1.230",
        "1.435",
        "2.100",
        "4.016",
        "4.773",
        "6.679",
        "7.618",
        "9.665",
        "12.163",
        "12.598",
        "13.854"
       ],
       "index": 0,
       "layout": "IPY_MODEL_c647f27c33744e8684a451444ee82edd",
       "style": "IPY_MODEL_de0e77e6a587403c8ecd05b307e42c02"
      }
     },
     "60876b4dfc4f4a04b2465bfbd28bbea3": {
      "model_module": "@jupyter-widgets/controls",
      "model_module_version": "2.0.0",
      "model_name": "ButtonModel",
      "state": {
       "description": "ISO",
       "layout": "IPY_MODEL_d3716eee543544fd83b41dc1c6cbbe23",
       "style": "IPY_MODEL_9d8932bc44a74de68fedf8af723e3747",
       "tooltip": null
      }
     },
     "616d4ea93e614b68bd4e4d7fb41d766c": {
      "model_module": "@jupyter-widgets/controls",
      "model_module_version": "2.0.0",
      "model_name": "CheckboxStyleModel",
      "state": {
       "description_width": ""
      }
     },
     "61841c6fc3e649328d8c99481ac71f87": {
      "model_module": "@jupyter-widgets/base",
      "model_module_version": "2.0.0",
      "model_name": "LayoutModel",
      "state": {
       "border_bottom": "solid 1px",
       "border_left": "solid 1px",
       "border_right": "solid 1px",
       "border_top": "solid 1px",
       "width": "200px"
      }
     },
     "61d049062ef741ec8fee10f8cf3c4691": {
      "model_module": "@jupyter-widgets/controls",
      "model_module_version": "2.0.0",
      "model_name": "TextStyleModel",
      "state": {
       "description_width": "200px",
       "font_size": null,
       "text_color": null
      }
     },
     "64dd86fb020940aa924d134899e12e7f": {
      "model_module": "@jupyter-widgets/base",
      "model_module_version": "2.0.0",
      "model_name": "LayoutModel",
      "state": {
       "height": "400px",
       "width": "800px"
      }
     },
     "65490ae778bc4c19ac160fd28ec77c02": {
      "model_module": "@jupyter-widgets/base",
      "model_module_version": "2.0.0",
      "model_name": "LayoutModel",
      "state": {}
     },
     "662e56104d2a46e69c6ede587f987ac4": {
      "model_module": "@jupyter-widgets/controls",
      "model_module_version": "2.0.0",
      "model_name": "CheckboxStyleModel",
      "state": {
       "description_width": ""
      }
     },
     "6672bf6b7aa74c09bc6639d6c4f35507": {
      "model_module": "@jupyter-widgets/controls",
      "model_module_version": "2.0.0",
      "model_name": "VBoxModel",
      "state": {
       "children": [
        "IPY_MODEL_46ae303a4cff49ee989602ed772de698",
        "IPY_MODEL_17c397cdea6b454986a2a30f5e41b992",
        "IPY_MODEL_945e3ef9f16441f09bdf25afee88b598",
        "IPY_MODEL_afaf17ec976b4c87910041863fc198c7"
       ],
       "layout": "IPY_MODEL_0e740a0a561d46848f9d653d6e95776d"
      }
     },
     "668506c7d9a7495a8528a5c0a972e845": {
      "model_module": "@jupyter-widgets/controls",
      "model_module_version": "2.0.0",
      "model_name": "ButtonModel",
      "state": {
       "description": "Save",
       "layout": "IPY_MODEL_df9398b1154942f19c9086541b844008",
       "style": "IPY_MODEL_4d875e6c3bf742208a910547449834d1",
       "tooltip": null
      }
     },
     "66cd978d017d4076958771d6afe53a97": {
      "model_module": "@jupyter-widgets/base",
      "model_module_version": "2.0.0",
      "model_name": "LayoutModel",
      "state": {}
     },
     "67a5e922f0804b3e951db6253d6e5a12": {
      "model_module": "@jupyter-widgets/base",
      "model_module_version": "2.0.0",
      "model_name": "LayoutModel",
      "state": {}
     },
     "6918c3540af54be78dad636cfd6c6868": {
      "model_module": "@jupyter-widgets/controls",
      "model_module_version": "2.0.0",
      "model_name": "ButtonStyleModel",
      "state": {
       "font_family": null,
       "font_size": null,
       "font_style": null,
       "font_variant": null,
       "font_weight": null,
       "text_color": null,
       "text_decoration": null
      }
     },
     "691f571f3e1748ee825f594e78352f4c": {
      "model_module": "@jupyter-widgets/base",
      "model_module_version": "2.0.0",
      "model_name": "LayoutModel",
      "state": {
       "align_items": "center",
       "overflow": "scroll",
       "padding": "0px 0px 0px 100px"
      }
     },
     "6962420824774f47b57cb17ca5e382a8": {
      "model_module": "@jupyter-widgets/controls",
      "model_module_version": "2.0.0",
      "model_name": "VBoxModel",
      "state": {
       "children": [
        "IPY_MODEL_35c8b84a2f0e41e686fa501cd45b9225",
        "IPY_MODEL_6a3113fa5aef49b09d2ea176debe26ed",
        "IPY_MODEL_19cd45a2a1454c0999bd4d667f9c1b12",
        "IPY_MODEL_dd3bca15b6104415ab8882e977135085"
       ],
       "layout": "IPY_MODEL_f492ca9a1e0c4fce9e59ee535084d8fe"
      }
     },
     "69b3c801e95140b4b453bcc2f7286a47": {
      "model_module": "@jupyter-widgets/controls",
      "model_module_version": "2.0.0",
      "model_name": "ButtonStyleModel",
      "state": {
       "font_family": null,
       "font_size": null,
       "font_style": null,
       "font_variant": null,
       "font_weight": null,
       "text_color": null,
       "text_decoration": null
      }
     },
     "6a1bf00f585347168e1c18e8ec3abb72": {
      "model_module": "@jupyter-widgets/output",
      "model_module_version": "1.0.0",
      "model_name": "OutputModel",
      "state": {
       "layout": "IPY_MODEL_6bfaccfdbe334d448f198143db3a5267"
      }
     },
     "6a3113fa5aef49b09d2ea176debe26ed": {
      "model_module": "@jupyter-widgets/controls",
      "model_module_version": "2.0.0",
      "model_name": "LabelModel",
      "state": {
       "layout": "IPY_MODEL_8beff5f893a949818fd6f3fa78f0fdc0",
       "style": "IPY_MODEL_077248cbe59e4e41855a2c67e15125a4",
       "value": "Left click to rotate, middle click to pan, right click to zoom."
      }
     },
     "6b13b95db6814b218bc67c788a31751f": {
      "model_module": "@jupyter-widgets/controls",
      "model_module_version": "2.0.0",
      "model_name": "VBoxModel",
      "state": {
       "children": [
        "IPY_MODEL_c7cf1dad6f9b44428debeb8f672e30e4",
        "IPY_MODEL_53122e136f0a41b6bd7ec694131f721d",
        "IPY_MODEL_f784327340fa430684dd404f4013271f",
        "IPY_MODEL_f7c7f6615547456ba885dc144419bb33",
        "IPY_MODEL_9ed1463ba563493488c731570c50cb85",
        "IPY_MODEL_afd3aa4dd878430fa750ae362dd38873"
       ],
       "layout": "IPY_MODEL_d19eefaa5c694b52aa9160f54e5fc9c9"
      }
     },
     "6b6d16e0b4304eb8a0813ab1f53f4b24": {
      "model_module": "@jupyter-widgets/base",
      "model_module_version": "2.0.0",
      "model_name": "LayoutModel",
      "state": {}
     },
     "6bda0dc5472e49b1b6340134399a6aaf": {
      "model_module": "@jupyter-widgets/controls",
      "model_module_version": "2.0.0",
      "model_name": "ButtonModel",
      "state": {
       "description": "Reset",
       "layout": "IPY_MODEL_95eef642dd25460a8769910958e23ecb",
       "style": "IPY_MODEL_988dddf3b1374896a2fb952a825731be",
       "tooltip": null
      }
     },
     "6bfaccfdbe334d448f198143db3a5267": {
      "model_module": "@jupyter-widgets/base",
      "model_module_version": "2.0.0",
      "model_name": "LayoutModel",
      "state": {
       "border_bottom": "1px solid black",
       "border_left": "1px solid black",
       "border_right": "1px solid black",
       "border_top": "1px solid black",
       "height": "160px",
       "overflow": "scroll",
       "width": "80%"
      }
     },
     "6c61215d232444dc87bc6d5b635797bc": {
      "model_module": "@jupyter-widgets/base",
      "model_module_version": "2.0.0",
      "model_name": "LayoutModel",
      "state": {}
     },
     "6c7725c1c08d41ddbbb1503f52ca2628": {
      "model_module": "@jupyter-widgets/controls",
      "model_module_version": "2.0.0",
      "model_name": "CheckboxStyleModel",
      "state": {
       "description_width": ""
      }
     },
     "6d5d1b563c5f4bc6afc7e1347f634f1d": {
      "model_module": "@jupyter-widgets/controls",
      "model_module_version": "2.0.0",
      "model_name": "ButtonModel",
      "state": {
       "description": "Load",
       "layout": "IPY_MODEL_f43a897b6fc947fcaba30d8969f23416",
       "style": "IPY_MODEL_ec3367a0b2974bc9a0190b7be2f29974",
       "tooltip": null
      }
     },
     "6db013c2f3804b0bb8530c96c129a076": {
      "model_module": "@jupyter-widgets/controls",
      "model_module_version": "2.0.0",
      "model_name": "LabelStyleModel",
      "state": {
       "description_width": "",
       "font_family": null,
       "font_size": null,
       "font_style": null,
       "font_variant": null,
       "font_weight": null,
       "text_color": null,
       "text_decoration": null
      }
     },
     "6dc080e4c0aa4aae8193af8bdd3beb24": {
      "model_module": "@jupyter-widgets/controls",
      "model_module_version": "2.0.0",
      "model_name": "CheckboxModel",
      "state": {
       "description": "Show Lines",
       "disabled": false,
       "indent": false,
       "layout": "IPY_MODEL_5b71114b01974de2a03f720c032ca658",
       "style": "IPY_MODEL_087c947e253146878050ad7645eb6cae",
       "value": true
      }
     },
     "6f056f5095464b1e834256cfb0b0b54c": {
      "model_module": "@jupyter-widgets/base",
      "model_module_version": "2.0.0",
      "model_name": "LayoutModel",
      "state": {}
     },
     "6f9e5c90e21242fe974692f612f956c9": {
      "model_module": "@jupyter-widgets/controls",
      "model_module_version": "2.0.0",
      "model_name": "VBoxModel",
      "state": {
       "children": [
        "IPY_MODEL_b181b486ae854632b4ad58985b59d03d",
        "IPY_MODEL_c9b1a6e56a294253b80b6101d7932908",
        "IPY_MODEL_710ff5960b6d4b30bd0ab5e940d938a7",
        "IPY_MODEL_373020e579d945c6b822a3f6ac89bc99",
        "IPY_MODEL_a12ab26f8dcb43148d4dacc756969d4f"
       ],
       "layout": "IPY_MODEL_61841c6fc3e649328d8c99481ac71f87"
      }
     },
     "6fe55c472cf543a9a59cb4ec7ae1f2ea": {
      "model_module": "@jupyter-widgets/controls",
      "model_module_version": "2.0.0",
      "model_name": "TextStyleModel",
      "state": {
       "description_width": "",
       "font_size": null,
       "text_color": null
      }
     },
     "710f31c83175489b8ce99b06bbae4f3d": {
      "model_module": "@jupyter-widgets/base",
      "model_module_version": "2.0.0",
      "model_name": "LayoutModel",
      "state": {
       "height": "30px",
       "width": "30px"
      }
     },
     "710ff5960b6d4b30bd0ab5e940d938a7": {
      "model_module": "@jupyter-widgets/controls",
      "model_module_version": "2.0.0",
      "model_name": "CheckboxModel",
      "state": {
       "description": "All poles",
       "disabled": false,
       "indent": false,
       "layout": "IPY_MODEL_5583e33ad6e744e683cb5e42844f5fe4",
       "style": "IPY_MODEL_9566dadd79f743c9b870a392dc5778eb",
       "value": true
      }
     },
     "727f0d467a604e73b8f2d486dbcbb121": {
      "model_module": "@jupyter-widgets/base",
      "model_module_version": "2.0.0",
      "model_name": "LayoutModel",
      "state": {}
     },
     "73e91a86654a4a9c9490d5a834b66903": {
      "model_module": "@jupyter-widgets/base",
      "model_module_version": "2.0.0",
      "model_name": "LayoutModel",
      "state": {
       "width": "800px"
      }
     },
     "74f7a98fd70a43fc90bf5970fc549e64": {
      "model_module": "@jupyter-widgets/controls",
      "model_module_version": "2.0.0",
      "model_name": "VBoxModel",
      "state": {
       "children": [
        "IPY_MODEL_7b8a79c59cbb40d486df04bdda39ba6c",
        "IPY_MODEL_581d5c408a6f4b7694e502331281e90d",
        "IPY_MODEL_efcbb8bccd044233b5f55d9d0c4002e0",
        "IPY_MODEL_92292ebe6f1142fbaf7dee17d766d55a"
       ],
       "layout": "IPY_MODEL_0c941f7ebea442fba64ef4b250f05a86"
      }
     },
     "76b4651fe1264f24a048a03830580dc4": {
      "model_module": "@jupyter-widgets/base",
      "model_module_version": "2.0.0",
      "model_name": "LayoutModel",
      "state": {
       "justify_content": "space-around"
      }
     },
     "76e65c65b98e4a54a769ea74118c3a6a": {
      "model_module": "@jupyter-widgets/controls",
      "model_module_version": "2.0.0",
      "model_name": "HTMLMathStyleModel",
      "state": {
       "description_width": "",
       "font_size": null,
       "text_color": null
      }
     },
     "773a18e1d2b9492d82f3ecba13a07366": {
      "model_module": "@jupyter-widgets/controls",
      "model_module_version": "2.0.0",
      "model_name": "FloatTextModel",
      "state": {
       "description": "Amplitude",
       "layout": "IPY_MODEL_06509e9d2a204462b25b66e4c9f6c66c",
       "step": null,
       "style": "IPY_MODEL_4fb58c911f8a4fd2a4cd6bc70fff0ee0",
       "value": 10
      }
     },
     "7747d520940641829037d61bbc164f0c": {
      "model_module": "@jupyter-widgets/base",
      "model_module_version": "2.0.0",
      "model_name": "LayoutModel",
      "state": {
       "justify_content": "space-around"
      }
     },
     "775714a517bf438db5ce1b97e59ffaef": {
      "model_module": "@jupyter-widgets/controls",
      "model_module_version": "2.0.0",
      "model_name": "ButtonStyleModel",
      "state": {
       "font_family": null,
       "font_size": null,
       "font_style": null,
       "font_variant": null,
       "font_weight": null,
       "text_color": null,
       "text_decoration": null
      }
     },
     "775e9fcc66cf41c9920651bcf94185d1": {
      "model_module": "@jupyter-widgets/controls",
      "model_module_version": "2.0.0",
      "model_name": "LabelModel",
      "state": {
       "layout": "IPY_MODEL_02ab0bebf7514004823b91f693e4fbc4",
       "style": "IPY_MODEL_e973c25ced1041f2aa77793f01335147",
       "value": "View:"
      }
     },
     "78fc5a70455f413a95d9324d413893d2": {
      "model_module": "@jupyter-widgets/controls",
      "model_module_version": "2.0.0",
      "model_name": "VBoxModel",
      "state": {
       "children": [
        "IPY_MODEL_f144edbb838745fb9888f90982245fab",
        "IPY_MODEL_8de3627019304ed3ae3d665a1ffb63b1",
        "IPY_MODEL_cc0730f259f744c7ae069cf785fa1169"
       ],
       "layout": "IPY_MODEL_4cf58a4f99364bf2b23578f8be91a6d2"
      }
     },
     "792e694a712d43bc8d6f5582c2570ce5": {
      "model_module": "@jupyter-widgets/base",
      "model_module_version": "2.0.0",
      "model_name": "LayoutModel",
      "state": {
       "border_bottom": "solid 1px",
       "border_left": "solid 1px",
       "border_right": "solid 1px",
       "border_top": "solid 1px"
      }
     },
     "7991ae12e18a456c8e7b4c5b8212ed2f": {
      "model_module": "@jupyter-widgets/base",
      "model_module_version": "2.0.0",
      "model_name": "LayoutModel",
      "state": {
       "border_bottom": "solid 1px",
       "border_left": "solid 1px",
       "border_right": "solid 1px",
       "border_top": "solid 1px"
      }
     },
     "7a128dd394e841f8a62d9117b6bbdad7": {
      "model_module": "@jupyter-widgets/base",
      "model_module_version": "2.0.0",
      "model_name": "LayoutModel",
      "state": {}
     },
     "7a99311e06a645e4b55b76042237c965": {
      "model_module": "@jupyter-widgets/controls",
      "model_module_version": "2.0.0",
      "model_name": "DropdownModel",
      "state": {
       "_options_labels": [
        "Reference-based Covariance-Driven Stochastic Subspace Identification",
        "Reference-based Data-Driven Stochastic Subspace Identification",
        "Stochastic Subspace Identification with Uncertainty Estimation",
        "Poly-reference Least Squares Complex Frequency",
        "Poly-reference Complex Exponential"
       ],
       "index": 0,
       "layout": "IPY_MODEL_eca174f56aa94dd09f681d372a794673",
       "style": "IPY_MODEL_ced5f63bff7a41a58268d9eded3d3828"
      }
     },
     "7b382f029efc4a4c996b774fff46a020": {
      "model_module": "@jupyter-widgets/base",
      "model_module_version": "2.0.0",
      "model_name": "LayoutModel",
      "state": {}
     },
     "7b8a79c59cbb40d486df04bdda39ba6c": {
      "model_module": "jupyter-matplotlib",
      "model_module_version": "^0.11",
      "model_name": "MPLCanvasModel",
      "state": {
       "_cursor": "default",
       "_data_url": "data:image/png;base64,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",
       "_figure_label": "Figure 0",
       "_message": "x=−97.9199, y=−59.2232, z=95.3301",
       "_model_module_version": "^0.11",
       "_size": [
        850.3939947419401,
        525.5723925793184
       ],
       "_view_module_version": "^0.11",
       "footer_visible": false,
       "header_visible": false,
       "layout": "IPY_MODEL_019c68d700174f04a70570ed72d6217e",
       "toolbar": "IPY_MODEL_2222ecad6f38467dbe84d77c46697fb0",
       "toolbar_position": "right"
      }
     },
     "7d61ab8ec4df40c7aa9013c363bc7c4e": {
      "model_module": "@jupyter-widgets/controls",
      "model_module_version": "2.0.0",
      "model_name": "LabelStyleModel",
      "state": {
       "description_width": "",
       "font_family": null,
       "font_size": null,
       "font_style": null,
       "font_variant": null,
       "font_weight": null,
       "text_color": null,
       "text_decoration": null
      }
     },
     "7d770fa538174dc2afe47c4e222302bd": {
      "model_module": "@jupyter-widgets/controls",
      "model_module_version": "2.0.0",
      "model_name": "TextModel",
      "state": {
       "description": "Modal Analysis Config File",
       "layout": "IPY_MODEL_73e91a86654a4a9c9490d5a834b66903",
       "style": "IPY_MODEL_0f089d0a42034822aff4a748731e3092",
       "value": "/home/sima9999/git/pyOMA/tests/files/ssi_config.txt"
      }
     },
     "7e81d5c86f484234821d0f5036e229ee": {
      "model_module": "@jupyter-widgets/controls",
      "model_module_version": "2.0.0",
      "model_name": "HTMLMathStyleModel",
      "state": {
       "description_width": "",
       "font_size": null,
       "text_color": null
      }
     },
     "7ef8b31aa2de4224a1622f9969d3adaf": {
      "model_module": "@jupyter-widgets/controls",
      "model_module_version": "2.0.0",
      "model_name": "HTMLMathModel",
      "state": {
       "layout": "IPY_MODEL_ebb3a45456d54b02847bcf979082468d",
       "style": "IPY_MODEL_25791c136b6c43e0ae7170483aecf446"
      }
     },
     "807972c3be7a4a09989aa222b14f7ee6": {
      "model_module": "@jupyter-widgets/controls",
      "model_module_version": "2.0.0",
      "model_name": "CheckboxStyleModel",
      "state": {
       "description_width": ""
      }
     },
     "828414d62e7a428284ad7b9883fde276": {
      "model_module": "@jupyter-widgets/controls",
      "model_module_version": "2.0.0",
      "model_name": "CheckboxStyleModel",
      "state": {
       "description_width": ""
      }
     },
     "82cdc4218d0146b089e18d7e49dde4db": {
      "model_module": "@jupyter-widgets/base",
      "model_module_version": "2.0.0",
      "model_name": "LayoutModel",
      "state": {}
     },
     "8304a138c4ad46beb7ddba2bd1aa4196": {
      "model_module": "@jupyter-widgets/controls",
      "model_module_version": "2.0.0",
      "model_name": "FloatSliderModel",
      "state": {
       "behavior": "drag-tap",
       "description": "Azimuth",
       "layout": "IPY_MODEL_9ec43637d7534da38bd68079ea05be11",
       "max": 180,
       "min": -180,
       "style": "IPY_MODEL_32973d61a6df463c87816cd1304a7a41",
       "value": -60
      }
     },
     "83a603cc415a41d486cb3ac06943c67c": {
      "model_module": "@jupyter-widgets/base",
      "model_module_version": "2.0.0",
      "model_name": "LayoutModel",
      "state": {
       "height": "30px",
       "width": "30px"
      }
     },
     "8456cefe9ce74527acebe41f598b46a6": {
      "model_module": "@jupyter-widgets/controls",
      "model_module_version": "2.0.0",
      "model_name": "CheckboxModel",
      "state": {
       "description": "Show Connecting Lines",
       "disabled": false,
       "indent": false,
       "layout": "IPY_MODEL_b1a0adc148544c6485417a8e8192cb94",
       "style": "IPY_MODEL_5a0a478895554dd98f951422ba91fbf6",
       "value": true
      }
     },
     "8457c0470e2b49f5a58ef2029982de2f": {
      "model_module": "@jupyter-widgets/controls",
      "model_module_version": "2.0.0",
      "model_name": "FloatSliderModel",
      "state": {
       "behavior": "drag-tap",
       "description": "Roll",
       "layout": "IPY_MODEL_b76e72c0bc4542b698fe85e1f5ff4cf3",
       "max": 180,
       "min": -180,
       "style": "IPY_MODEL_578e1f3d53a84b4dad21dca8a06a8f3a"
      }
     },
     "852437c9b5854cf7bf880daa5d20d800": {
      "model_module": "@jupyter-widgets/base",
      "model_module_version": "2.0.0",
      "model_name": "LayoutModel",
      "state": {}
     },
     "8533264255e945e2aed9bb05bd4ca2a8": {
      "model_module": "@jupyter-widgets/base",
      "model_module_version": "2.0.0",
      "model_name": "LayoutModel",
      "state": {}
     },
     "85378f2fa29543968434916ace9fe176": {
      "model_module": "@jupyter-widgets/controls",
      "model_module_version": "2.0.0",
      "model_name": "ButtonModel",
      "state": {
       "description": "Reload Mode Selection",
       "layout": "IPY_MODEL_ce999749cd3c4c1f99aa3306ffc6500e",
       "style": "IPY_MODEL_461f085d089147eea1261824d5100640",
       "tooltip": null
      }
     },
     "85caaa176f084369a5b573a16e67b2df": {
      "model_module": "@jupyter-widgets/output",
      "model_module_version": "1.0.0",
      "model_name": "OutputModel",
      "state": {
       "layout": "IPY_MODEL_f86a81268f9e432cbe7efdf83e6f8533"
      }
     },
     "864633c350784559a39ef0e9d85dcefd": {
      "model_module": "@jupyter-widgets/base",
      "model_module_version": "2.0.0",
      "model_name": "LayoutModel",
      "state": {}
     },
     "86f078fd8b5e4cd1a4b4bce6b833263b": {
      "model_module": "@jupyter-widgets/controls",
      "model_module_version": "2.0.0",
      "model_name": "SliderStyleModel",
      "state": {
       "description_width": ""
      }
     },
     "876bcfc552ec47af809f4de955b043f6": {
      "model_module": "@jupyter-widgets/base",
      "model_module_version": "2.0.0",
      "model_name": "LayoutModel",
      "state": {
       "height": "400px",
       "width": "800px"
      }
     },
     "87904ef31d264cc9adc1b75e8889ef11": {
      "model_module": "@jupyter-widgets/controls",
      "model_module_version": "2.0.0",
      "model_name": "ButtonModel",
      "state": {
       "description": "Z",
       "layout": "IPY_MODEL_ecbf17a3f999441181e6ecdbb39760d5",
       "style": "IPY_MODEL_ede8cb3642e64ed3bcae17c47e85384b",
       "tooltip": null
      }
     },
     "8944698f4f0d487eb330b091a83e0e5e": {
      "model_module": "@jupyter-widgets/controls",
      "model_module_version": "2.0.0",
      "model_name": "ButtonModel",
      "state": {
       "description": "X",
       "layout": "IPY_MODEL_9960edb688ae499abace783757aa8d92",
       "style": "IPY_MODEL_d28b54ab0aec429d8663511bdabd7664",
       "tooltip": null
      }
     },
     "897acd476d514e918ca888779f7f5bd5": {
      "model_module": "@jupyter-widgets/controls",
      "model_module_version": "2.0.0",
      "model_name": "TextStyleModel",
      "state": {
       "description_width": "",
       "font_size": null,
       "text_color": null
      }
     },
     "897bac374439426790fc7a572a5b306f": {
      "model_module": "@jupyter-widgets/controls",
      "model_module_version": "2.0.0",
      "model_name": "ButtonModel",
      "state": {
       "icon": "stop",
       "layout": "IPY_MODEL_a3f37a0da2ed47aeb7bbf6b098d7dd15",
       "style": "IPY_MODEL_775714a517bf438db5ce1b97e59ffaef",
       "tooltip": null
      }
     },
     "898b3f9bed6d4b7e96d434a623491dce": {
      "model_module": "jupyter-matplotlib",
      "model_module_version": "^0.11",
      "model_name": "ToolbarModel",
      "state": {
       "_model_module_version": "^0.11",
       "_view_module_version": "^0.11",
       "collapsed": true,
       "layout": "IPY_MODEL_122fa9efc6934a70abcc3e7c67d3e79e",
       "orientation": "vertical",
       "toolitems": [
        [
         "Home",
         "Reset original view",
         "home",
         "home"
        ],
        [
         "Back",
         "Back to previous view",
         "arrow-left",
         "back"
        ],
        [
         "Forward",
         "Forward to next view",
         "arrow-right",
         "forward"
        ],
        [
         "Pan",
         "Left button pans, Right button zooms\nx/y fixes axis, CTRL fixes aspect",
         "arrows",
         "pan"
        ],
        [
         "Zoom",
         "Zoom to rectangle\nx/y fixes axis",
         "square-o",
         "zoom"
        ],
        [
         "Download",
         "Download plot",
         "floppy-o",
         "save_figure"
        ]
       ]
      }
     },
     "8a4cf3b8d06b45af8072712cbf88d36c": {
      "model_module": "@jupyter-widgets/base",
      "model_module_version": "2.0.0",
      "model_name": "LayoutModel",
      "state": {}
     },
     "8baa9c0eef624e5fa223c0a37ba6fac6": {
      "model_module": "@jupyter-widgets/controls",
      "model_module_version": "2.0.0",
      "model_name": "HBoxModel",
      "state": {
       "children": [
        "IPY_MODEL_a2b2ada3f1274b49a91ea6bbc3c5de01",
        "IPY_MODEL_3b0e79cb3a8b48048f5854780554cb0e"
       ],
       "layout": "IPY_MODEL_852437c9b5854cf7bf880daa5d20d800"
      }
     },
     "8be7b0b8ca3e428fb8a8388d8136573f": {
      "model_module": "@jupyter-widgets/controls",
      "model_module_version": "2.0.0",
      "model_name": "SliderStyleModel",
      "state": {
       "description_width": ""
      }
     },
     "8beff5f893a949818fd6f3fa78f0fdc0": {
      "model_module": "@jupyter-widgets/base",
      "model_module_version": "2.0.0",
      "model_name": "LayoutModel",
      "state": {}
     },
     "8c3886f6fcae4131a68503fd709f790d": {
      "model_module": "@jupyter-widgets/controls",
      "model_module_version": "2.0.0",
      "model_name": "CheckboxModel",
      "state": {
       "description": "Show Parent-Child Assignm.",
       "disabled": false,
       "indent": false,
       "layout": "IPY_MODEL_0de1ee674acf4ccd8cf6fe43d0156826",
       "style": "IPY_MODEL_324a56b68ffd443d84f09a9084d8477e",
       "value": false
      }
     },
     "8cd9c7fc3abf4d458c54a55a9de8cc94": {
      "model_module": "@jupyter-widgets/controls",
      "model_module_version": "2.0.0",
      "model_name": "VBoxModel",
      "state": {
       "children": [
        "IPY_MODEL_3b9eaf1258424e90a78eccc8585b9484",
        "IPY_MODEL_e8d599ba300e40929ae5530de72dd280",
        "IPY_MODEL_773a18e1d2b9492d82f3ecba13a07366",
        "IPY_MODEL_5cc6af56286a441f82ef3c8f29b253e0",
        "IPY_MODEL_2ee17447b0214e53b6c03c9deed27c0f",
        "IPY_MODEL_c0fdb5c8cf3548259104393f1078fde3"
       ],
       "layout": "IPY_MODEL_c57b84b58176438dbd8af01bacf7f58d"
      }
     },
     "8d4817849461414b89e02da82af593cf": {
      "model_module": "@jupyter-widgets/controls",
      "model_module_version": "2.0.0",
      "model_name": "ButtonModel",
      "state": {
       "description": "Save",
       "layout": "IPY_MODEL_98bde072d11747bebeddb9a9f4582085",
       "style": "IPY_MODEL_a3d9608873b24675ab8ba4251b392081",
       "tooltip": null
      }
     },
     "8da9fe335bba4718bbce6c910abc7a6e": {
      "model_module": "@jupyter-widgets/base",
      "model_module_version": "2.0.0",
      "model_name": "LayoutModel",
      "state": {}
     },
     "8db05539ee614078b05499c2bde1f5e1": {
      "model_module": "@jupyter-widgets/controls",
      "model_module_version": "2.0.0",
      "model_name": "VBoxModel",
      "state": {
       "children": [
        "IPY_MODEL_775e9fcc66cf41c9920651bcf94185d1",
        "IPY_MODEL_340c58e3d75948b9a2984ea4c1507feb",
        "IPY_MODEL_afa4938d208d4fa2b0084954d9a0e922",
        "IPY_MODEL_a49ecc6d4f6145089702fef28d2b08b8",
        "IPY_MODEL_92ff12c04c4249569e6f9b631a583170",
        "IPY_MODEL_3fd30706235b4e9ab75c97a2d16bd155"
       ],
       "layout": "IPY_MODEL_792e694a712d43bc8d6f5582c2570ce5"
      }
     },
     "8de3627019304ed3ae3d665a1ffb63b1": {
      "model_module": "@jupyter-widgets/controls",
      "model_module_version": "2.0.0",
      "model_name": "TextareaModel",
      "state": {
       "layout": "IPY_MODEL_15d292566fcf412490273b7b35d38631",
       "placeholder": "Load setup info file",
       "style": "IPY_MODEL_897acd476d514e918ca888779f7f5bd5",
       "value": "Setup Name:\nmeasurement_1\nSampling Rate [Hz]:\n256\nReference Channels:\n3 4\nDelete Channels:\n5\nAccel. Channels:\n3 4 5\nVelo. Channels:\n0 1 2\nDisp. Channels:\n\n####\nNote:\nChannel Numbering start with 0!!!\nChannel Numbers refer to the columns of the measurement data!\nNumbers are separated by blank. Do not use tabulators.\nCreate one file per measurement.\n\n"
      }
     },
     "8df6b039bb554305ba9a4e04e204c472": {
      "model_module": "@jupyter-widgets/controls",
      "model_module_version": "2.0.0",
      "model_name": "CheckboxModel",
      "state": {
       "description": "Show Parent-Child Assignm.",
       "disabled": false,
       "indent": false,
       "layout": "IPY_MODEL_f8aa7bfa4ec3475f85e734f995132574",
       "style": "IPY_MODEL_1f7c9c0eac774f4192f164c785a5f162",
       "value": false
      }
     },
     "8e6b3f94bbc044d4b26d3210ec58ad41": {
      "model_module": "@jupyter-widgets/base",
      "model_module_version": "2.0.0",
      "model_name": "LayoutModel",
      "state": {
       "border_bottom": "solid 1px",
       "border_left": "solid 1px",
       "border_right": "solid 1px",
       "border_top": "solid 1px",
       "width": "350px"
      }
     },
     "8f7d725f507347308b82b645e6069ff7": {
      "model_module": "@jupyter-widgets/base",
      "model_module_version": "2.0.0",
      "model_name": "LayoutModel",
      "state": {
       "width": "100px"
      }
     },
     "90ba1f7fb5a1484f802151f67acb1ddd": {
      "model_module": "@jupyter-widgets/controls",
      "model_module_version": "2.0.0",
      "model_name": "VBoxModel",
      "state": {
       "children": [
        "IPY_MODEL_576dd6ff2dfa4fbe918813375e625dca",
        "IPY_MODEL_066d6fa3f7094741acd0e2efa61c6ba2",
        "IPY_MODEL_e1dc1bd022e94d8c813ed091e354cb7d",
        "IPY_MODEL_8304a138c4ad46beb7ddba2bd1aa4196",
        "IPY_MODEL_8457c0470e2b49f5a58ef2029982de2f",
        "IPY_MODEL_6bda0dc5472e49b1b6340134399a6aaf"
       ],
       "layout": "IPY_MODEL_c7c12d36435f4223a4589b0bb84ceb60"
      }
     },
     "9131148e22b54c9cbc35ee51aa7f14fc": {
      "model_module": "@jupyter-widgets/controls",
      "model_module_version": "2.0.0",
      "model_name": "LabelStyleModel",
      "state": {
       "description_width": "",
       "font_family": null,
       "font_size": null,
       "font_style": null,
       "font_variant": null,
       "font_weight": null,
       "text_color": null,
       "text_decoration": null
      }
     },
     "92292ebe6f1142fbaf7dee17d766d55a": {
      "model_module": "@jupyter-widgets/output",
      "model_module_version": "1.0.0",
      "model_name": "OutputModel",
      "state": {
       "layout": "IPY_MODEL_d0c97bb870ba4d8ab2a32aad61412d95"
      }
     },
     "92ceafe5dbfa4fb883e6228c6f66fe28": {
      "model_module": "@jupyter-widgets/controls",
      "model_module_version": "2.0.0",
      "model_name": "HTMLMathModel",
      "state": {
       "layout": "IPY_MODEL_e3cfb244d95f45a588b509f32227d57e",
       "style": "IPY_MODEL_1d476352077948f086ce321abdee1a78",
       "value": "<table>\n<tr>\n<td> Frequency [Hz]:</td>\n <td> 4.773 </td>\n</tr>\n<tr>\n<td> Model order:</td>\n <td> 23 </td>\n</tr>\n<tr>\n<td> Damping [%]:</td>\n <td> 0.132 </td>\n</tr>\n<tr>\n<td> MPC [-]:</td>\n <td> 0.99999 </td>\n</tr>\n<tr>\n<td> MP  [°]:</td>\n <td> 179.998 </td>\n</tr>\n<tr>\n<td> MPD [-]:</td>\n <td> 0.09483 </td>\n</tr>\n<tr>\n<td> dMP  [°]:</td>\n <td> 0.134 </td>\n</tr>\n<tr>\n<td> MC [%]:</td>\n <td> 0.16731 </td>\n</tr>\n</table>"
      }
     },
     "92ff12c04c4249569e6f9b631a583170": {
      "model_module": "@jupyter-widgets/controls",
      "model_module_version": "2.0.0",
      "model_name": "FloatSliderModel",
      "state": {
       "behavior": "drag-tap",
       "description": "Roll",
       "layout": "IPY_MODEL_4654443039834ea19c504f6b864d17d0",
       "max": 180,
       "min": -180,
       "style": "IPY_MODEL_e59cbbc9e6d845c882ddb75472d17b8f"
      }
     },
     "930bd76f0a1e4515ac29d132de6ad103": {
      "model_module": "@jupyter-widgets/controls",
      "model_module_version": "2.0.0",
      "model_name": "LabelStyleModel",
      "state": {
       "description_width": "",
       "font_family": null,
       "font_size": null,
       "font_style": null,
       "font_variant": null,
       "font_weight": null,
       "text_color": null,
       "text_decoration": null
      }
     },
     "9343d28630ae428ebe24761117ab189a": {
      "model_module": "@jupyter-widgets/controls",
      "model_module_version": "2.0.0",
      "model_name": "LabelModel",
      "state": {
       "layout": "IPY_MODEL_08d0c60d98c34a1eacd7d43d92c31c2d",
       "style": "IPY_MODEL_0733d2114aa0430090b12dded28d63ed",
       "value": "Options:"
      }
     },
     "93529510da5a4edfa01920e8495b401e": {
      "model_module": "@jupyter-widgets/controls",
      "model_module_version": "2.0.0",
      "model_name": "SliderStyleModel",
      "state": {
       "description_width": ""
      }
     },
     "945e3ef9f16441f09bdf25afee88b598": {
      "model_module": "@jupyter-widgets/controls",
      "model_module_version": "2.0.0",
      "model_name": "FloatLogSliderModel",
      "state": {
       "behavior": "drag-tap",
       "description": "Damping [%]",
       "layout": "IPY_MODEL_ebe49c82cc324187b7a259da09b475ab",
       "max": 0,
       "min": -4,
       "style": "IPY_MODEL_5a7ee6d488874244bb10df1a698429eb",
       "value": 0.05011872336272725
      }
     },
     "9550edc156604e3295a07cc422cda6de": {
      "model_module": "@jupyter-widgets/controls",
      "model_module_version": "2.0.0",
      "model_name": "LabelModel",
      "state": {
       "layout": "IPY_MODEL_051e437b57a44b41abbf41087d14223f",
       "style": "IPY_MODEL_7d61ab8ec4df40c7aa9013c363bc7c4e",
       "value": "Left click to rotate, middle click to pan, right click to zoom."
      }
     },
     "9566dadd79f743c9b870a392dc5778eb": {
      "model_module": "@jupyter-widgets/controls",
      "model_module_version": "2.0.0",
      "model_name": "CheckboxStyleModel",
      "state": {
       "description_width": ""
      }
     },
     "95acad14d495467d9eb014106ae79e90": {
      "model_module": "jupyter-matplotlib",
      "model_module_version": "^0.11",
      "model_name": "MPLCanvasModel",
      "state": {
       "_cursor": "default",
       "_data_url": "data:image/png;base64,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",
       "_figure_label": "Figure 0",
       "_message": "x=76.9877, y=54.4426, z=122.7408",
       "_model_module_version": "^0.11",
       "_size": [
        850.3939947419401,
        525.5723925793184
       ],
       "_view_module_version": "^0.11",
       "footer_visible": false,
       "header_visible": false,
       "layout": "IPY_MODEL_25409fe79e48429383a8f6eb3a184959",
       "toolbar": "IPY_MODEL_e33c3ee3a00f410c917c300d382ba78d",
       "toolbar_position": "right"
      }
     },
     "95eef642dd25460a8769910958e23ecb": {
      "model_module": "@jupyter-widgets/base",
      "model_module_version": "2.0.0",
      "model_name": "LayoutModel",
      "state": {}
     },
     "970e8827f0b9460495f44da1979fb639": {
      "model_module": "@jupyter-widgets/controls",
      "model_module_version": "2.0.0",
      "model_name": "VBoxModel",
      "state": {
       "children": [
        "IPY_MODEL_eb6e492e1b7b466b903d46a5285112ba",
        "IPY_MODEL_2fb2933575db4e759d414cf3f1eff51b",
        "IPY_MODEL_ce81645b045a473a8ed2c1ecf7826e76",
        "IPY_MODEL_093724e5b8aa4119bb5a64c2ccf4c3b8",
        "IPY_MODEL_edd1e7dbe89d4dbeab64bf504a85ff09"
       ],
       "layout": "IPY_MODEL_8e6b3f94bbc044d4b26d3210ec58ad41"
      }
     },
     "97163a3ae9e1483381ead955f26045ab": {
      "model_module": "@jupyter-widgets/controls",
      "model_module_version": "2.0.0",
      "model_name": "CheckboxStyleModel",
      "state": {
       "description_width": ""
      }
     },
     "97913283899848899bf87de3bea2135f": {
      "model_module": "@jupyter-widgets/base",
      "model_module_version": "2.0.0",
      "model_name": "LayoutModel",
      "state": {}
     },
     "9854fd87b5cb420891cf99aa48e1969d": {
      "model_module": "@jupyter-widgets/base",
      "model_module_version": "2.0.0",
      "model_name": "LayoutModel",
      "state": {}
     },
     "987ce8a9502c44aeb3411a26779e9610": {
      "model_module": "@jupyter-widgets/base",
      "model_module_version": "2.0.0",
      "model_name": "LayoutModel",
      "state": {
       "height": "30px",
       "width": "40px"
      }
     },
     "988dddf3b1374896a2fb952a825731be": {
      "model_module": "@jupyter-widgets/controls",
      "model_module_version": "2.0.0",
      "model_name": "ButtonStyleModel",
      "state": {
       "font_family": null,
       "font_size": null,
       "font_style": null,
       "font_variant": null,
       "font_weight": null,
       "text_color": null,
       "text_decoration": null
      }
     },
     "98bde072d11747bebeddb9a9f4582085": {
      "model_module": "@jupyter-widgets/base",
      "model_module_version": "2.0.0",
      "model_name": "LayoutModel",
      "state": {}
     },
     "9960edb688ae499abace783757aa8d92": {
      "model_module": "@jupyter-widgets/base",
      "model_module_version": "2.0.0",
      "model_name": "LayoutModel",
      "state": {
       "height": "30px",
       "width": "30px"
      }
     },
     "9d3b59d485544f8e9796f65b3d62b62c": {
      "model_module": "@jupyter-widgets/controls",
      "model_module_version": "2.0.0",
      "model_name": "HTMLMathModel",
      "state": {
       "layout": "IPY_MODEL_b9149e0ff0ff488385038819f6219a5b",
       "style": "IPY_MODEL_7e81d5c86f484234821d0f5036e229ee",
       "value": "<table>\n<tr>\n<td> Frequency [Hz]:</td>\n <td> 1.230 </td>\n</tr>\n<tr>\n<td> Model order:</td>\n <td> 26 </td>\n</tr>\n<tr>\n<td> Damping [%]:</td>\n <td> 0.440 </td>\n</tr>\n<tr>\n<td> MPC [-]:</td>\n <td> 0.99968 </td>\n</tr>\n<tr>\n<td> MP  [°]:</td>\n <td> 179.969 </td>\n</tr>\n<tr>\n<td> MPD [-]:</td>\n <td> 0.47030 </td>\n</tr>\n<tr>\n<td> dMP  [°]:</td>\n <td> 0.162 </td>\n</tr>\n<tr>\n<td> MC [%]:</td>\n <td> 0.00018 </td>\n</tr>\n</table>"
      }
     },
     "9d42eb4a317f43f58998d4769deca697": {
      "model_module": "@jupyter-widgets/controls",
      "model_module_version": "2.0.0",
      "model_name": "TextModel",
      "state": {
       "description": "Project Directory",
       "layout": "IPY_MODEL_3fbdc3bd3b2d413cabfc395a65b0734f",
       "style": "IPY_MODEL_b5fa15401ee64740bf6a6a8d73fa533c",
       "value": "/home/sima9999/git/pyOMA/tests/files"
      }
     },
     "9d8932bc44a74de68fedf8af723e3747": {
      "model_module": "@jupyter-widgets/controls",
      "model_module_version": "2.0.0",
      "model_name": "ButtonStyleModel",
      "state": {
       "font_family": null,
       "font_size": null,
       "font_style": null,
       "font_variant": null,
       "font_weight": null,
       "text_color": null,
       "text_decoration": null
      }
     },
     "9e3bee09add24a01b712f771351d85ac": {
      "model_module": "@jupyter-widgets/controls",
      "model_module_version": "2.0.0",
      "model_name": "CheckboxStyleModel",
      "state": {
       "description_width": ""
      }
     },
     "9ec43637d7534da38bd68079ea05be11": {
      "model_module": "@jupyter-widgets/base",
      "model_module_version": "2.0.0",
      "model_name": "LayoutModel",
      "state": {}
     },
     "9ed1463ba563493488c731570c50cb85": {
      "model_module": "@jupyter-widgets/controls",
      "model_module_version": "2.0.0",
      "model_name": "FloatSliderModel",
      "state": {
       "behavior": "drag-tap",
       "description": "Roll",
       "layout": "IPY_MODEL_82cdc4218d0146b089e18d7e49dde4db",
       "max": 180,
       "min": -180,
       "style": "IPY_MODEL_93529510da5a4edfa01920e8495b401e"
      }
     },
     "9f8db5e4165e4c4894b8450d5e41097d": {
      "model_module": "@jupyter-widgets/base",
      "model_module_version": "2.0.0",
      "model_name": "LayoutModel",
      "state": {
       "align_items": "center"
      }
     },
     "9fd335efcfa34f1ea76344a612e1ca43": {
      "model_module": "@jupyter-widgets/base",
      "model_module_version": "2.0.0",
      "model_name": "LayoutModel",
      "state": {
       "height": "30px",
       "width": "190px"
      }
     },
     "a01313617e7e41cc9f6ed18c1a7a7d50": {
      "model_module": "@jupyter-widgets/base",
      "model_module_version": "2.0.0",
      "model_name": "LayoutModel",
      "state": {}
     },
     "a03221e90920405a986b511f23d6826e": {
      "model_module": "@jupyter-widgets/controls",
      "model_module_version": "2.0.0",
      "model_name": "ButtonStyleModel",
      "state": {
       "font_family": null,
       "font_size": null,
       "font_style": null,
       "font_variant": null,
       "font_weight": null,
       "text_color": null,
       "text_decoration": null
      }
     },
     "a0badd0ada3a4f378f207a60fe4eceff": {
      "model_module": "@jupyter-widgets/base",
      "model_module_version": "2.0.0",
      "model_name": "LayoutModel",
      "state": {
       "width": "90%"
      }
     },
     "a12ab26f8dcb43148d4dacc756969d4f": {
      "model_module": "@jupyter-widgets/controls",
      "model_module_version": "2.0.0",
      "model_name": "RadioButtonsModel",
      "state": {
       "_options_labels": [
        "Stable",
        "All",
        "Off"
       ],
       "description": "Cursor",
       "index": 0,
       "layout": "IPY_MODEL_8f7d725f507347308b82b645e6069ff7",
       "style": "IPY_MODEL_f1bfd6d3daf243b3bee1bd94cf95fa3d"
      }
     },
     "a14ceb3b715044d7a88f67f4fdc258b6": {
      "model_module": "@jupyter-widgets/controls",
      "model_module_version": "2.0.0",
      "model_name": "ButtonModel",
      "state": {
       "description": "Reload Mode Selection",
       "layout": "IPY_MODEL_cd364e9a3509464b88042e54a4016761",
       "style": "IPY_MODEL_58f6f864205046cf976988cf261e2cf5",
       "tooltip": null
      }
     },
     "a2957d2b34d442df8ce378a4348b545d": {
      "model_module": "@jupyter-widgets/controls",
      "model_module_version": "2.0.0",
      "model_name": "ButtonStyleModel",
      "state": {
       "font_family": null,
       "font_size": null,
       "font_style": null,
       "font_variant": null,
       "font_weight": null,
       "text_color": null,
       "text_decoration": null
      }
     },
     "a2b2ada3f1274b49a91ea6bbc3c5de01": {
      "model_module": "@jupyter-widgets/controls",
      "model_module_version": "2.0.0",
      "model_name": "ButtonModel",
      "state": {
       "description": "Load",
       "layout": "IPY_MODEL_ae613cedcd92475e8326da4e8340a047",
       "style": "IPY_MODEL_5b65e38c76e542d0b3bd8b93a4eefe99",
       "tooltip": null
      }
     },
     "a370c177f4dc4ec9b3a4b071ec7bdd2f": {
      "model_module": "@jupyter-widgets/base",
      "model_module_version": "2.0.0",
      "model_name": "LayoutModel",
      "state": {}
     },
     "a3d9608873b24675ab8ba4251b392081": {
      "model_module": "@jupyter-widgets/controls",
      "model_module_version": "2.0.0",
      "model_name": "ButtonStyleModel",
      "state": {
       "font_family": null,
       "font_size": null,
       "font_style": null,
       "font_variant": null,
       "font_weight": null,
       "text_color": null,
       "text_decoration": null
      }
     },
     "a3f37a0da2ed47aeb7bbf6b098d7dd15": {
      "model_module": "@jupyter-widgets/base",
      "model_module_version": "2.0.0",
      "model_name": "LayoutModel",
      "state": {}
     },
     "a49a13172f1c49e481842d9eb08ff886": {
      "model_module": "@jupyter-widgets/base",
      "model_module_version": "2.0.0",
      "model_name": "LayoutModel",
      "state": {}
     },
     "a49ecc6d4f6145089702fef28d2b08b8": {
      "model_module": "@jupyter-widgets/controls",
      "model_module_version": "2.0.0",
      "model_name": "FloatSliderModel",
      "state": {
       "behavior": "drag-tap",
       "description": "Azimuth",
       "layout": "IPY_MODEL_a01313617e7e41cc9f6ed18c1a7a7d50",
       "max": 180,
       "min": -180,
       "style": "IPY_MODEL_2170f4761ffd4d0bb6b5b06ea98ac0cd",
       "value": -60
      }
     },
     "a4d94a1b202d42b4937420df93077066": {
      "model_module": "@jupyter-widgets/controls",
      "model_module_version": "2.0.0",
      "model_name": "SliderStyleModel",
      "state": {
       "description_width": ""
      }
     },
     "a4db2dcc78be437f8f404205841365fe": {
      "model_module": "@jupyter-widgets/controls",
      "model_module_version": "2.0.0",
      "model_name": "VBoxModel",
      "state": {
       "children": [
        "IPY_MODEL_95acad14d495467d9eb014106ae79e90",
        "IPY_MODEL_9550edc156604e3295a07cc422cda6de",
        "IPY_MODEL_cd4867bdd48b4cff9d0d9239b3124766",
        "IPY_MODEL_6a1bf00f585347168e1c18e8ec3abb72"
       ],
       "layout": "IPY_MODEL_9f8db5e4165e4c4894b8450d5e41097d"
      }
     },
     "a5475fa970d947048f07f4c9790c0600": {
      "model_module": "@jupyter-widgets/controls",
      "model_module_version": "2.0.0",
      "model_name": "ButtonModel",
      "state": {
       "description": "X",
       "layout": "IPY_MODEL_b0688a2314a5454ea8254594079a8931",
       "style": "IPY_MODEL_4905383ef1e948608f3b2df096785cd9",
       "tooltip": null
      }
     },
     "a5a3fdf528a246d4b66901a2a37718cc": {
      "model_module": "@jupyter-widgets/controls",
      "model_module_version": "2.0.0",
      "model_name": "ButtonStyleModel",
      "state": {
       "font_family": null,
       "font_size": null,
       "font_style": null,
       "font_variant": null,
       "font_weight": null,
       "text_color": null,
       "text_decoration": null
      }
     },
     "a5c939c366f14a8583531d6449e0f74d": {
      "model_module": "@jupyter-widgets/controls",
      "model_module_version": "2.0.0",
      "model_name": "TextStyleModel",
      "state": {
       "description_width": "200px",
       "font_size": null,
       "text_color": null
      }
     },
     "a60988cc709344eb88e0bed8f8281747": {
      "model_module": "@jupyter-widgets/controls",
      "model_module_version": "2.0.0",
      "model_name": "SliderStyleModel",
      "state": {
       "description_width": ""
      }
     },
     "a696e100847644beb9625c671e66d95d": {
      "model_module": "@jupyter-widgets/controls",
      "model_module_version": "2.0.0",
      "model_name": "CheckboxStyleModel",
      "state": {
       "description_width": ""
      }
     },
     "a6a4493e8a68419daf718300683d52ba": {
      "model_module": "@jupyter-widgets/controls",
      "model_module_version": "2.0.0",
      "model_name": "VBoxModel",
      "state": {
       "children": [
        "IPY_MODEL_af12ef86f79d49fbb631e9aa1d89283b",
        "IPY_MODEL_a8a1c05f11f54debb61884ad8913dedb"
       ],
       "layout": "IPY_MODEL_ffbf0c2655f44c51abaf58009b57c955"
      }
     },
     "a783097e0a2f42e080ef611c8b951db0": {
      "model_module": "@jupyter-widgets/base",
      "model_module_version": "2.0.0",
      "model_name": "LayoutModel",
      "state": {
       "height": "30px",
       "width": "190px"
      }
     },
     "a8a1c05f11f54debb61884ad8913dedb": {
      "model_module": "@jupyter-widgets/controls",
      "model_module_version": "2.0.0",
      "model_name": "HTMLMathModel",
      "state": {
       "layout": "IPY_MODEL_bbfa3a4eaa214e62bc0785c108781ace",
       "style": "IPY_MODEL_18c1109c2b8e478e97e10332ab3ca656",
       "value": "<table>\n<tr>\n<td> Frequency [Hz]:</td>\n <td> 4.773 </td>\n</tr>\n<tr>\n<td> Model order:</td>\n <td> 23 </td>\n</tr>\n<tr>\n<td> Damping [%]:</td>\n <td> 0.132 </td>\n</tr>\n<tr>\n<td> MPC [-]:</td>\n <td> 0.99999 </td>\n</tr>\n<tr>\n<td> MP  [°]:</td>\n <td> 179.998 </td>\n</tr>\n<tr>\n<td> MPD [-]:</td>\n <td> 0.09483 </td>\n</tr>\n<tr>\n<td> dMP  [°]:</td>\n <td> 0.134 </td>\n</tr>\n<tr>\n<td> MC [%]:</td>\n <td> 0.16731 </td>\n</tr>\n</table>"
      }
     },
     "aa78b4c5a00b413f8f75b0112e88a902": {
      "model_module": "@jupyter-widgets/base",
      "model_module_version": "2.0.0",
      "model_name": "LayoutModel",
      "state": {}
     },
     "ad447bc56e814c0f89cdbd247ff2a330": {
      "model_module": "@jupyter-widgets/base",
      "model_module_version": "2.0.0",
      "model_name": "LayoutModel",
      "state": {
       "height": "30px",
       "width": "30px"
      }
     },
     "ae613cedcd92475e8326da4e8340a047": {
      "model_module": "@jupyter-widgets/base",
      "model_module_version": "2.0.0",
      "model_name": "LayoutModel",
      "state": {}
     },
     "aea5ef39215547d3889403df22a6409d": {
      "model_module": "@jupyter-widgets/base",
      "model_module_version": "2.0.0",
      "model_name": "LayoutModel",
      "state": {
       "height": "30px",
       "width": "30px"
      }
     },
     "aec721134a634369b63438096b7e2804": {
      "model_module": "@jupyter-widgets/base",
      "model_module_version": "2.0.0",
      "model_name": "LayoutModel",
      "state": {
       "height": "30px",
       "width": "190px"
      }
     },
     "aec7d3e65225430cbc3b3f51cfdbcc4e": {
      "model_module": "@jupyter-widgets/base",
      "model_module_version": "2.0.0",
      "model_name": "LayoutModel",
      "state": {}
     },
     "aec9a4c8ff7f41ae818b4c5a68ff630e": {
      "model_module": "@jupyter-widgets/base",
      "model_module_version": "2.0.0",
      "model_name": "LayoutModel",
      "state": {}
     },
     "af12ef86f79d49fbb631e9aa1d89283b": {
      "model_module": "@jupyter-widgets/controls",
      "model_module_version": "2.0.0",
      "model_name": "LabelModel",
      "state": {
       "layout": "IPY_MODEL_8da9fe335bba4718bbce6c910abc7a6e",
       "style": "IPY_MODEL_6db013c2f3804b0bb8530c96c129a076",
       "value": "Info:"
      }
     },
     "af73ec9b65cb451c848965777da68f79": {
      "model_module": "@jupyter-widgets/controls",
      "model_module_version": "2.0.0",
      "model_name": "TextStyleModel",
      "state": {
       "description_width": "",
       "font_size": null,
       "text_color": null
      }
     },
     "afa4938d208d4fa2b0084954d9a0e922": {
      "model_module": "@jupyter-widgets/controls",
      "model_module_version": "2.0.0",
      "model_name": "FloatSliderModel",
      "state": {
       "behavior": "drag-tap",
       "description": "Elevation",
       "layout": "IPY_MODEL_c1a1f4b03fa44df181c3efbc8a4f26b6",
       "max": 180,
       "min": -180,
       "style": "IPY_MODEL_5b2b5157caad41f19828aa8c0b52366b",
       "value": 30
      }
     },
     "afaf17ec976b4c87910041863fc198c7": {
      "model_module": "@jupyter-widgets/controls",
      "model_module_version": "2.0.0",
      "model_name": "FloatLogSliderModel",
      "state": {
       "behavior": "drag-tap",
       "description": "MAC [%]",
       "layout": "IPY_MODEL_e27012816ec44e8aa0a4d6a90b2ff7c9",
       "max": 0,
       "min": -4,
       "style": "IPY_MODEL_0deb3e7b92294b9e9d0b7a745e2df672",
       "value": 0.01995262314968879
      }
     },
     "afd3aa4dd878430fa750ae362dd38873": {
      "model_module": "@jupyter-widgets/controls",
      "model_module_version": "2.0.0",
      "model_name": "ButtonModel",
      "state": {
       "description": "Reset",
       "layout": "IPY_MODEL_4a06bc2d65154a64b1e77b7abb6c404c",
       "style": "IPY_MODEL_3843567ec60c488ba75162773f055b0f",
       "tooltip": null
      }
     },
     "b0688a2314a5454ea8254594079a8931": {
      "model_module": "@jupyter-widgets/base",
      "model_module_version": "2.0.0",
      "model_name": "LayoutModel",
      "state": {
       "height": "30px",
       "width": "30px"
      }
     },
     "b0755a18605d48439cd71b9f24eafa59": {
      "model_module": "@jupyter-widgets/controls",
      "model_module_version": "2.0.0",
      "model_name": "CheckboxStyleModel",
      "state": {
       "description_width": ""
      }
     },
     "b181b486ae854632b4ad58985b59d03d": {
      "model_module": "@jupyter-widgets/controls",
      "model_module_version": "2.0.0",
      "model_name": "LabelModel",
      "state": {
       "layout": "IPY_MODEL_544325ae675647e2a8c77828643f4f0b",
       "style": "IPY_MODEL_d2d190bffeec4a27bff2b0b9fdf9b74a",
       "value": "View"
      }
     },
     "b1a0adc148544c6485417a8e8192cb94": {
      "model_module": "@jupyter-widgets/base",
      "model_module_version": "2.0.0",
      "model_name": "LayoutModel",
      "state": {
       "height": "30px",
       "width": "170px"
      }
     },
     "b31bf2249f844321aafa700766d7940b": {
      "model_module": "@jupyter-widgets/controls",
      "model_module_version": "2.0.0",
      "model_name": "LabelModel",
      "state": {
       "layout": "IPY_MODEL_0df1e98844e94782898f5e0e0f5cf3e1",
       "style": "IPY_MODEL_35c3e77aaf404289b4bb6d707cdd74bb",
       "value": "Info:"
      }
     },
     "b31cb58557d6478b8426173c963ba0a5": {
      "model_module": "@jupyter-widgets/controls",
      "model_module_version": "2.0.0",
      "model_name": "TextareaModel",
      "state": {
       "layout": "IPY_MODEL_64dd86fb020940aa924d134899e12e7f",
       "placeholder": "Load parent child assignments file",
       "style": "IPY_MODEL_5951567ad86c455c96c491465ca4c722",
       "value": "File does not exist"
      }
     },
     "b34c86b0378d4badb8842386f7336ee9": {
      "model_module": "@jupyter-widgets/base",
      "model_module_version": "2.0.0",
      "model_name": "LayoutModel",
      "state": {
       "width": "800px"
      }
     },
     "b4abaa4d901b477794f6f5691522efc6": {
      "model_module": "@jupyter-widgets/base",
      "model_module_version": "2.0.0",
      "model_name": "LayoutModel",
      "state": {}
     },
     "b5424ebb828e4e56916f3b8478382da2": {
      "model_module": "@jupyter-widgets/base",
      "model_module_version": "2.0.0",
      "model_name": "LayoutModel",
      "state": {
       "width": "800px"
      }
     },
     "b5605e1ac0c44805b5f339efcae99977": {
      "model_module": "@jupyter-widgets/controls",
      "model_module_version": "2.0.0",
      "model_name": "ButtonModel",
      "state": {
       "description": "ISO",
       "layout": "IPY_MODEL_987ce8a9502c44aeb3411a26779e9610",
       "style": "IPY_MODEL_1282f2b77cc94753bfc39d6af0390cef",
       "tooltip": null
      }
     },
     "b5fa15401ee64740bf6a6a8d73fa533c": {
      "model_module": "@jupyter-widgets/controls",
      "model_module_version": "2.0.0",
      "model_name": "TextStyleModel",
      "state": {
       "description_width": "200px",
       "font_size": null,
       "text_color": null
      }
     },
     "b61755ccc5ae44b398cd2da354abff84": {
      "model_module": "@jupyter-widgets/controls",
      "model_module_version": "2.0.0",
      "model_name": "CheckboxModel",
      "state": {
       "description": "Show Parent-Child Assignm.",
       "disabled": false,
       "indent": false,
       "layout": "IPY_MODEL_b636ab423e59474b904e6205a4884827",
       "style": "IPY_MODEL_18f46318b0d542438b6e27587dc394b1",
       "value": false
      }
     },
     "b636ab423e59474b904e6205a4884827": {
      "model_module": "@jupyter-widgets/base",
      "model_module_version": "2.0.0",
      "model_name": "LayoutModel",
      "state": {
       "height": "30px",
       "width": "200px"
      }
     },
     "b76e72c0bc4542b698fe85e1f5ff4cf3": {
      "model_module": "@jupyter-widgets/base",
      "model_module_version": "2.0.0",
      "model_name": "LayoutModel",
      "state": {}
     },
     "b78db1e5ac5342ee86249087e8166263": {
      "model_module": "@jupyter-widgets/controls",
      "model_module_version": "2.0.0",
      "model_name": "ButtonStyleModel",
      "state": {
       "font_family": null,
       "font_size": null,
       "font_style": null,
       "font_variant": null,
       "font_weight": null,
       "text_color": null,
       "text_decoration": null
      }
     },
     "b835daf831ea4e11a612800d3b1eb0ad": {
      "model_module": "@jupyter-widgets/controls",
      "model_module_version": "2.0.0",
      "model_name": "SliderStyleModel",
      "state": {
       "description_width": ""
      }
     },
     "b87437c3d83246cf85d32f894f56d44a": {
      "model_module": "@jupyter-widgets/controls",
      "model_module_version": "2.0.0",
      "model_name": "ButtonStyleModel",
      "state": {
       "font_family": null,
       "font_size": null,
       "font_style": null,
       "font_variant": null,
       "font_weight": null,
       "text_color": null,
       "text_decoration": null
      }
     },
     "b8a37e2f79054444abb502042b3d2e18": {
      "model_module": "@jupyter-widgets/controls",
      "model_module_version": "2.0.0",
      "model_name": "TextStyleModel",
      "state": {
       "description_width": "200px",
       "font_size": null,
       "text_color": null
      }
     },
     "b8f7350872444c1b885121f28c04b0ff": {
      "model_module": "@jupyter-widgets/controls",
      "model_module_version": "2.0.0",
      "model_name": "LabelModel",
      "state": {
       "layout": "IPY_MODEL_a49a13172f1c49e481842d9eb08ff886",
       "style": "IPY_MODEL_560fbdab6345471eb3e57195060fe764",
       "value": "Current mode:"
      }
     },
     "b9149e0ff0ff488385038819f6219a5b": {
      "model_module": "@jupyter-widgets/base",
      "model_module_version": "2.0.0",
      "model_name": "LayoutModel",
      "state": {}
     },
     "b92b4d6c714c4b69985ece409f3e1f60": {
      "model_module": "@jupyter-widgets/base",
      "model_module_version": "2.0.0",
      "model_name": "LayoutModel",
      "state": {}
     },
     "b953f1a7327443c3b05265e6f7b98492": {
      "model_module": "@jupyter-widgets/controls",
      "model_module_version": "2.0.0",
      "model_name": "CheckboxModel",
      "state": {
       "description": "Show Non-displaced Lines",
       "disabled": false,
       "indent": false,
       "layout": "IPY_MODEL_188df76d52cf4b9da9b1a5bc14625dcb",
       "style": "IPY_MODEL_a696e100847644beb9625c671e66d95d",
       "value": true
      }
     },
     "ba210a439c464423b349347e4e3d365c": {
      "model_module": "@jupyter-widgets/controls",
      "model_module_version": "2.0.0",
      "model_name": "LabelStyleModel",
      "state": {
       "description_width": "",
       "font_family": null,
       "font_size": null,
       "font_style": null,
       "font_variant": null,
       "font_weight": null,
       "text_color": null,
       "text_decoration": null
      }
     },
     "bbdd557ba3ad47cf8d6b7a3e81ed3364": {
      "model_module": "@jupyter-widgets/controls",
      "model_module_version": "2.0.0",
      "model_name": "TextStyleModel",
      "state": {
       "description_width": "",
       "font_size": null,
       "text_color": null
      }
     },
     "bbfa3a4eaa214e62bc0785c108781ace": {
      "model_module": "@jupyter-widgets/base",
      "model_module_version": "2.0.0",
      "model_name": "LayoutModel",
      "state": {}
     },
     "bc0b235a93484093af674a5498369c2c": {
      "model_module": "@jupyter-widgets/controls",
      "model_module_version": "2.0.0",
      "model_name": "FloatTextModel",
      "state": {
       "description": "Amplitude",
       "layout": "IPY_MODEL_ced12f5cc35941098465d038291a18bc",
       "step": null,
       "style": "IPY_MODEL_41711c0c0a254ad0913dd5652af9a7bc",
       "value": 10
      }
     },
     "bc137dcadd814d5f910733e576bca8c3": {
      "model_module": "@jupyter-widgets/controls",
      "model_module_version": "2.0.0",
      "model_name": "ButtonModel",
      "state": {
       "description": "Load",
       "layout": "IPY_MODEL_1b3edea64a31405c89681637a8a8b3c5",
       "style": "IPY_MODEL_0b4000faa47147c9a16f2d2538b1589b",
       "tooltip": null
      }
     },
     "be881b92b6b74e01a69d106b69b9a512": {
      "model_module": "@jupyter-widgets/base",
      "model_module_version": "2.0.0",
      "model_name": "LayoutModel",
      "state": {}
     },
     "bf3caf32b0cf4a0eb67cfd77dad88cf1": {
      "model_module": "@jupyter-widgets/controls",
      "model_module_version": "2.0.0",
      "model_name": "LabelStyleModel",
      "state": {
       "description_width": "",
       "font_family": null,
       "font_size": null,
       "font_style": null,
       "font_variant": null,
       "font_weight": null,
       "text_color": null,
       "text_decoration": null
      }
     },
     "c0fdb5c8cf3548259104393f1078fde3": {
      "model_module": "@jupyter-widgets/controls",
      "model_module_version": "2.0.0",
      "model_name": "ButtonModel",
      "state": {
       "description": "Reload Mode Selection",
       "layout": "IPY_MODEL_a0badd0ada3a4f378f207a60fe4eceff",
       "style": "IPY_MODEL_b87437c3d83246cf85d32f894f56d44a",
       "tooltip": null
      }
     },
     "c15821d722dc4c5db6e790d859b22960": {
      "model_module": "@jupyter-widgets/base",
      "model_module_version": "2.0.0",
      "model_name": "LayoutModel",
      "state": {
       "height": "30px",
       "width": "170px"
      }
     },
     "c1726e9d083a4191bfb5b2009d2fccf7": {
      "model_module": "@jupyter-widgets/controls",
      "model_module_version": "2.0.0",
      "model_name": "VBoxModel",
      "state": {
       "children": [
        "IPY_MODEL_9d42eb4a317f43f58998d4769deca697",
        "IPY_MODEL_dafb9c022249494bbd2ede68caf1ad4f",
        "IPY_MODEL_f7a6170e86214f6ca386c5688dc24be6",
        "IPY_MODEL_f0aecfd9f3134213afa83d1123ff207f",
        "IPY_MODEL_7a99311e06a645e4b55b76042237c965",
        "IPY_MODEL_1c38c95e47aa4c05aee519141f665be5"
       ],
       "layout": "IPY_MODEL_65490ae778bc4c19ac160fd28ec77c02"
      }
     },
     "c1a1f4b03fa44df181c3efbc8a4f26b6": {
      "model_module": "@jupyter-widgets/base",
      "model_module_version": "2.0.0",
      "model_name": "LayoutModel",
      "state": {}
     },
     "c1c6bac3438e4629b5d67a67193f71a8": {
      "model_module": "@jupyter-widgets/controls",
      "model_module_version": "2.0.0",
      "model_name": "ButtonModel",
      "state": {
       "icon": "play",
       "layout": "IPY_MODEL_8533264255e945e2aed9bb05bd4ca2a8",
       "style": "IPY_MODEL_d3f94cf6cb924edaa47e0a0ade90aee8",
       "tooltip": null
      }
     },
     "c1f6d96b21a1446f9cb989898782b3d8": {
      "model_module": "@jupyter-widgets/base",
      "model_module_version": "2.0.0",
      "model_name": "LayoutModel",
      "state": {
       "width": "100px"
      }
     },
     "c2090a4df8b841b0aeebdcbf6e02b092": {
      "model_module": "@jupyter-widgets/controls",
      "model_module_version": "2.0.0",
      "model_name": "LabelModel",
      "state": {
       "layout": "IPY_MODEL_2a94b7b3e393444f81a67adf923b0128",
       "style": "IPY_MODEL_bf3caf32b0cf4a0eb67cfd77dad88cf1",
       "value": "Mode:"
      }
     },
     "c2d49c268d224f69ac4b1da57c9e572e": {
      "model_module": "@jupyter-widgets/controls",
      "model_module_version": "2.0.0",
      "model_name": "TextModel",
      "state": {
       "description": "Parent-Child Assignments File",
       "layout": "IPY_MODEL_b5424ebb828e4e56916f3b8478382da2",
       "style": "IPY_MODEL_61d049062ef741ec8fee10f8cf3c4691"
      }
     },
     "c3618df2dd8d419485f36b23d9d9ccbc": {
      "model_module": "@jupyter-widgets/base",
      "model_module_version": "2.0.0",
      "model_name": "LayoutModel",
      "state": {
       "height": "30px",
       "width": "150px"
      }
     },
     "c4bef750d7f04dc1891204f893824df3": {
      "model_module": "@jupyter-widgets/controls",
      "model_module_version": "2.0.0",
      "model_name": "FloatTextModel",
      "state": {
       "description": "Amplitude",
       "layout": "IPY_MODEL_e4fdda2d9cd64f53a3f997cac63024bd",
       "step": null,
       "style": "IPY_MODEL_12c754b814a747a2b95848119493e848",
       "value": 10
      }
     },
     "c57b84b58176438dbd8af01bacf7f58d": {
      "model_module": "@jupyter-widgets/base",
      "model_module_version": "2.0.0",
      "model_name": "LayoutModel",
      "state": {
       "border_bottom": "solid 1px",
       "border_left": "solid 1px",
       "border_right": "solid 1px",
       "border_top": "solid 1px"
      }
     },
     "c596d559759d4ca587fd2172a9009bf0": {
      "model_module": "@jupyter-widgets/controls",
      "model_module_version": "2.0.0",
      "model_name": "VBoxModel",
      "state": {
       "children": [
        "IPY_MODEL_47ad33ed6e0a43509d22a8f3b61b9f81",
        "IPY_MODEL_380db268684a4c22aab3ad37bf036078",
        "IPY_MODEL_fc7a9fb80a624797aa970e58e6784b85"
       ],
       "layout": "IPY_MODEL_727f0d467a604e73b8f2d486dbcbb121"
      }
     },
     "c5cc6754f0a343ef9f1ffed1c51f5faf": {
      "model_module": "@jupyter-widgets/base",
      "model_module_version": "2.0.0",
      "model_name": "LayoutModel",
      "state": {}
     },
     "c647f27c33744e8684a451444ee82edd": {
      "model_module": "@jupyter-widgets/base",
      "model_module_version": "2.0.0",
      "model_name": "LayoutModel",
      "state": {}
     },
     "c68f3246046a431e8b765c6e69e85e60": {
      "model_module": "@jupyter-widgets/controls",
      "model_module_version": "2.0.0",
      "model_name": "HBoxModel",
      "state": {
       "children": [
        "IPY_MODEL_43368b3189a14698b24032d9dd8a6810",
        "IPY_MODEL_d7499e5516f9457bbb9d5b9fb6d7404a"
       ],
       "layout": "IPY_MODEL_2e2dfbcd5b1f45ec976e985daa5b0171"
      }
     },
     "c78f576cb5004c6d923492ce4c8ca8cf": {
      "model_module": "@jupyter-widgets/base",
      "model_module_version": "2.0.0",
      "model_name": "LayoutModel",
      "state": {}
     },
     "c7c12d36435f4223a4589b0bb84ceb60": {
      "model_module": "@jupyter-widgets/base",
      "model_module_version": "2.0.0",
      "model_name": "LayoutModel",
      "state": {
       "border_bottom": "solid 1px",
       "border_left": "solid 1px",
       "border_right": "solid 1px",
       "border_top": "solid 1px"
      }
     },
     "c7cf1dad6f9b44428debeb8f672e30e4": {
      "model_module": "@jupyter-widgets/controls",
      "model_module_version": "2.0.0",
      "model_name": "LabelModel",
      "state": {
       "layout": "IPY_MODEL_e540df4e479742f88a45c30338368e25",
       "style": "IPY_MODEL_378d2d9be74541de965410c6017d5962",
       "value": "View:"
      }
     },
     "c9025326881b45e0a4006bcd193de472": {
      "model_module": "@jupyter-widgets/base",
      "model_module_version": "2.0.0",
      "model_name": "LayoutModel",
      "state": {
       "width": "200px"
      }
     },
     "c9b1a6e56a294253b80b6101d7932908": {
      "model_module": "@jupyter-widgets/controls",
      "model_module_version": "2.0.0",
      "model_name": "CheckboxModel",
      "state": {
       "description": "Stable poles",
       "disabled": false,
       "indent": false,
       "layout": "IPY_MODEL_c1f6d96b21a1446f9cb989898782b3d8",
       "style": "IPY_MODEL_616d4ea93e614b68bd4e4d7fb41d766c",
       "value": true
      }
     },
     "cacf5756676c4c01a078f3eb87cd4044": {
      "model_module": "@jupyter-widgets/controls",
      "model_module_version": "2.0.0",
      "model_name": "CheckboxStyleModel",
      "state": {
       "description_width": ""
      }
     },
     "cb4199451b954ffa96c52785873d2b46": {
      "model_module": "@jupyter-widgets/base",
      "model_module_version": "2.0.0",
      "model_name": "LayoutModel",
      "state": {}
     },
     "cc0730f259f744c7ae069cf785fa1169": {
      "model_module": "@jupyter-widgets/controls",
      "model_module_version": "2.0.0",
      "model_name": "HBoxModel",
      "state": {
       "children": [
        "IPY_MODEL_e102cc5c28bc4a9190a85bcf191478d6",
        "IPY_MODEL_8d4817849461414b89e02da82af593cf"
       ],
       "layout": "IPY_MODEL_38f6fb721d614508a73c182e979e542a"
      }
     },
     "cc4dcc52ca3b4563b25bb95c4c03f00a": {
      "model_module": "@jupyter-widgets/controls",
      "model_module_version": "2.0.0",
      "model_name": "LabelModel",
      "state": {
       "layout": "IPY_MODEL_3a67c29d1c9c4f14bc0960fc3faefd1d",
       "style": "IPY_MODEL_1b984052ce9e46019de8f4c1340b7bfc",
       "value": "Options:"
      }
     },
     "cce39b4f9a704d5ab0809e7e1e288a13": {
      "model_module": "@jupyter-widgets/controls",
      "model_module_version": "2.0.0",
      "model_name": "CheckboxModel",
      "state": {
       "description": "Show Axis Arrows",
       "disabled": false,
       "indent": false,
       "layout": "IPY_MODEL_2c8cca1236544995baf184026e03468d",
       "style": "IPY_MODEL_cacf5756676c4c01a078f3eb87cd4044",
       "value": true
      }
     },
     "cd2716365f6049258b476b5ad3cf9d36": {
      "model_module": "@jupyter-widgets/controls",
      "model_module_version": "2.0.0",
      "model_name": "CheckboxStyleModel",
      "state": {
       "description_width": ""
      }
     },
     "cd364e9a3509464b88042e54a4016761": {
      "model_module": "@jupyter-widgets/base",
      "model_module_version": "2.0.0",
      "model_name": "LayoutModel",
      "state": {
       "width": "90%"
      }
     },
     "cd4867bdd48b4cff9d0d9239b3124766": {
      "model_module": "@jupyter-widgets/controls",
      "model_module_version": "2.0.0",
      "model_name": "HBoxModel",
      "state": {
       "children": [
        "IPY_MODEL_d3cfc00af3f946c0b7faf4d608a001b2",
        "IPY_MODEL_90ba1f7fb5a1484f802151f67acb1ddd",
        "IPY_MODEL_3ccb291958c645ff9b6af0289db8209b",
        "IPY_MODEL_3291126a9bb041fb8005470fb20987d3"
       ],
       "layout": "IPY_MODEL_f8181bc42a4b40428b6fcf15301b81f5"
      }
     },
     "cdf0fc1dcf42429ba005a3faaadc9832": {
      "model_module": "@jupyter-widgets/controls",
      "model_module_version": "2.0.0",
      "model_name": "ButtonModel",
      "state": {
       "description": "Z",
       "layout": "IPY_MODEL_d78e06409ef247ababca2a32d68aee6f",
       "style": "IPY_MODEL_47ea426f70644d65ba3a32a81a1f129e",
       "tooltip": null
      }
     },
     "ce81645b045a473a8ed2c1ecf7826e76": {
      "model_module": "@jupyter-widgets/controls",
      "model_module_version": "2.0.0",
      "model_name": "FloatSliderModel",
      "state": {
       "behavior": "drag-tap",
       "description": "MPC_min",
       "layout": "IPY_MODEL_c5cc6754f0a343ef9f1ffed1c51f5faf",
       "max": 1,
       "step": 0.01,
       "style": "IPY_MODEL_8be7b0b8ca3e428fb8a8388d8136573f"
      }
     },
     "ce999749cd3c4c1f99aa3306ffc6500e": {
      "model_module": "@jupyter-widgets/base",
      "model_module_version": "2.0.0",
      "model_name": "LayoutModel",
      "state": {
       "width": "90%"
      }
     },
     "ced12f5cc35941098465d038291a18bc": {
      "model_module": "@jupyter-widgets/base",
      "model_module_version": "2.0.0",
      "model_name": "LayoutModel",
      "state": {}
     },
     "ced5f63bff7a41a58268d9eded3d3828": {
      "model_module": "@jupyter-widgets/controls",
      "model_module_version": "2.0.0",
      "model_name": "DescriptionStyleModel",
      "state": {
       "description_width": ""
      }
     },
     "cf24f8f35ab148e7ab4a4ca976694ceb": {
      "model_module": "@jupyter-widgets/base",
      "model_module_version": "2.0.0",
      "model_name": "LayoutModel",
      "state": {}
     },
     "d01612ad2b0646a3b36dc4a661ffa2b5": {
      "model_module": "@jupyter-widgets/controls",
      "model_module_version": "2.0.0",
      "model_name": "CheckboxModel",
      "state": {
       "description": "Show Channel-DOF Assignm.",
       "disabled": false,
       "indent": false,
       "layout": "IPY_MODEL_a783097e0a2f42e080ef611c8b951db0",
       "style": "IPY_MODEL_9e3bee09add24a01b712f771351d85ac",
       "value": false
      }
     },
     "d078e2ece61a41f7b671367fb57d00fe": {
      "model_module": "@jupyter-widgets/base",
      "model_module_version": "2.0.0",
      "model_name": "LayoutModel",
      "state": {
       "height": "30px",
       "width": "100px"
      }
     },
     "d0c97bb870ba4d8ab2a32aad61412d95": {
      "model_module": "@jupyter-widgets/base",
      "model_module_version": "2.0.0",
      "model_name": "LayoutModel",
      "state": {
       "border_bottom": "1px solid black",
       "border_left": "1px solid black",
       "border_right": "1px solid black",
       "border_top": "1px solid black",
       "height": "160px",
       "overflow": "scroll",
       "width": "80%"
      }
     },
     "d10567ea98d2467cab326215122e61b2": {
      "model_module": "@jupyter-widgets/controls",
      "model_module_version": "2.0.0",
      "model_name": "CheckboxStyleModel",
      "state": {
       "description_width": ""
      }
     },
     "d1411345dd1d4b4ab5e3d99931e5fd76": {
      "model_module": "jupyter-matplotlib",
      "model_module_version": "^0.11",
      "model_name": "MPLCanvasModel",
      "state": {
       "_cursor": "default",
       "_data_url": "data:image/png;base64,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",
       "_figure_label": "Figure 0",
       "_image_mode": "diff",
       "_model_module_version": "^0.11",
       "_size": [
        1360,
        525.5723925793184
       ],
       "_view_module_version": "^0.11",
       "footer_visible": false,
       "header_visible": false,
       "layout": "IPY_MODEL_dbbef7f7f7004c7988140ccfa553320b",
       "toolbar": "IPY_MODEL_13f9eb7d2d32422d9a3d299b85ddb688",
       "toolbar_position": "left"
      }
     },
     "d19eefaa5c694b52aa9160f54e5fc9c9": {
      "model_module": "@jupyter-widgets/base",
      "model_module_version": "2.0.0",
      "model_name": "LayoutModel",
      "state": {
       "border_bottom": "solid 1px",
       "border_left": "solid 1px",
       "border_right": "solid 1px",
       "border_top": "solid 1px"
      }
     },
     "d19fb4df32ae433db52a62b0c55543fc": {
      "model_module": "@jupyter-widgets/controls",
      "model_module_version": "2.0.0",
      "model_name": "ButtonStyleModel",
      "state": {
       "font_family": null,
       "font_size": null,
       "font_style": null,
       "font_variant": null,
       "font_weight": null,
       "text_color": null,
       "text_decoration": null
      }
     },
     "d28b54ab0aec429d8663511bdabd7664": {
      "model_module": "@jupyter-widgets/controls",
      "model_module_version": "2.0.0",
      "model_name": "ButtonStyleModel",
      "state": {
       "font_family": null,
       "font_size": null,
       "font_style": null,
       "font_variant": null,
       "font_weight": null,
       "text_color": null,
       "text_decoration": null
      }
     },
     "d2d190bffeec4a27bff2b0b9fdf9b74a": {
      "model_module": "@jupyter-widgets/controls",
      "model_module_version": "2.0.0",
      "model_name": "LabelStyleModel",
      "state": {
       "description_width": "",
       "font_family": null,
       "font_size": null,
       "font_style": null,
       "font_variant": null,
       "font_weight": null,
       "text_color": null,
       "text_decoration": null
      }
     },
     "d2fc0a04e7d1475caa41e99401f227f9": {
      "model_module": "@jupyter-widgets/base",
      "model_module_version": "2.0.0",
      "model_name": "LayoutModel",
      "state": {
       "height": "30px",
       "width": "180px"
      }
     },
     "d3716eee543544fd83b41dc1c6cbbe23": {
      "model_module": "@jupyter-widgets/base",
      "model_module_version": "2.0.0",
      "model_name": "LayoutModel",
      "state": {
       "height": "30px",
       "width": "40px"
      }
     },
     "d3cfc00af3f946c0b7faf4d608a001b2": {
      "model_module": "@jupyter-widgets/controls",
      "model_module_version": "2.0.0",
      "model_name": "VBoxModel",
      "state": {
       "children": [
        "IPY_MODEL_9343d28630ae428ebe24761117ab189a",
        "IPY_MODEL_cce39b4f9a704d5ab0809e7e1e288a13",
        "IPY_MODEL_30be4e53eece4bad940db6eeeea3ef99",
        "IPY_MODEL_6dc080e4c0aa4aae8193af8bdd3beb24",
        "IPY_MODEL_8456cefe9ce74527acebe41f598b46a6",
        "IPY_MODEL_19cd590f3aaf4cc3b9b97661339fad09",
        "IPY_MODEL_b61755ccc5ae44b398cd2da354abff84",
        "IPY_MODEL_0377307f8d0143df84f770eeea89a6b6"
       ],
       "layout": "IPY_MODEL_3dadd2cf095e4f659022a5b072f2d30e"
      }
     },
     "d3f94cf6cb924edaa47e0a0ade90aee8": {
      "model_module": "@jupyter-widgets/controls",
      "model_module_version": "2.0.0",
      "model_name": "ButtonStyleModel",
      "state": {
       "font_family": null,
       "font_size": null,
       "font_style": null,
       "font_variant": null,
       "font_weight": null,
       "text_color": null,
       "text_decoration": null
      }
     },
     "d470314378fe471da88142cc74d3a1ea": {
      "model_module": "@jupyter-widgets/base",
      "model_module_version": "2.0.0",
      "model_name": "LayoutModel",
      "state": {}
     },
     "d61fa3dea89a4bde851d286ec06dfe2c": {
      "model_module": "@jupyter-widgets/controls",
      "model_module_version": "2.0.0",
      "model_name": "CheckboxModel",
      "state": {
       "description": "Show Non-displaced Lines",
       "disabled": false,
       "indent": false,
       "layout": "IPY_MODEL_d2fc0a04e7d1475caa41e99401f227f9",
       "style": "IPY_MODEL_4c9c0c18395b4ec6a8d6b5cf0b587dc9",
       "value": true
      }
     },
     "d69c9cec7db748d59bdab516f51f632d": {
      "model_module": "@jupyter-widgets/controls",
      "model_module_version": "2.0.0",
      "model_name": "CheckboxStyleModel",
      "state": {
       "description_width": ""
      }
     },
     "d6b7d8387957497a87783187453f02cc": {
      "model_module": "@jupyter-widgets/base",
      "model_module_version": "2.0.0",
      "model_name": "LayoutModel",
      "state": {
       "width": "800px"
      }
     },
     "d7020c65ea894e5784e6614883ed854a": {
      "model_module": "@jupyter-widgets/base",
      "model_module_version": "2.0.0",
      "model_name": "LayoutModel",
      "state": {
       "height": "30px",
       "width": "100px"
      }
     },
     "d7499e5516f9457bbb9d5b9fb6d7404a": {
      "model_module": "@jupyter-widgets/controls",
      "model_module_version": "2.0.0",
      "model_name": "ButtonModel",
      "state": {
       "description": "Save",
       "layout": "IPY_MODEL_97913283899848899bf87de3bea2135f",
       "style": "IPY_MODEL_69b3c801e95140b4b453bcc2f7286a47",
       "tooltip": null
      }
     },
     "d78e06409ef247ababca2a32d68aee6f": {
      "model_module": "@jupyter-widgets/base",
      "model_module_version": "2.0.0",
      "model_name": "LayoutModel",
      "state": {
       "height": "30px",
       "width": "30px"
      }
     },
     "d8655721e84a4b9db4d05885d6778a65": {
      "model_module": "@jupyter-widgets/controls",
      "model_module_version": "2.0.0",
      "model_name": "ButtonStyleModel",
      "state": {
       "font_family": null,
       "font_size": null,
       "font_style": null,
       "font_variant": null,
       "font_weight": null,
       "text_color": null,
       "text_decoration": null
      }
     },
     "d9549184619243718225a3c2b35a0f23": {
      "model_module": "@jupyter-widgets/controls",
      "model_module_version": "2.0.0",
      "model_name": "VBoxModel",
      "state": {
       "children": [
        "IPY_MODEL_7d770fa538174dc2afe47c4e222302bd",
        "IPY_MODEL_1b32a0ce34c441e08f54eaab58f2d7d0",
        "IPY_MODEL_f5f389e6eeab4194a9a2d7d753921e36"
       ],
       "layout": "IPY_MODEL_303cec6dd50d4fb7b658f98a54932e27"
      }
     },
     "d9a76a28006d4b02abd1edac47214335": {
      "model_module": "@jupyter-widgets/controls",
      "model_module_version": "2.0.0",
      "model_name": "LabelStyleModel",
      "state": {
       "description_width": "",
       "font_family": null,
       "font_size": null,
       "font_style": null,
       "font_variant": null,
       "font_weight": null,
       "text_color": null,
       "text_decoration": null
      }
     },
     "d9b8f1093d6e48a19f2422f03ba3717c": {
      "model_module": "@jupyter-widgets/controls",
      "model_module_version": "2.0.0",
      "model_name": "ButtonStyleModel",
      "state": {
       "font_family": null,
       "font_size": null,
       "font_style": null,
       "font_variant": null,
       "font_weight": null,
       "text_color": null,
       "text_decoration": null
      }
     },
     "dafb9c022249494bbd2ede68caf1ad4f": {
      "model_module": "@jupyter-widgets/controls",
      "model_module_version": "2.0.0",
      "model_name": "TextModel",
      "state": {
       "description": "Setup Directory",
       "layout": "IPY_MODEL_d6b7d8387957497a87783187453f02cc",
       "style": "IPY_MODEL_a5c939c366f14a8583531d6449e0f74d",
       "value": "/home/sima9999/git/pyOMA/tests/files/measurement_1"
      }
     },
     "db956da89d924fc0ae69db4ed624df7c": {
      "model_module": "@jupyter-widgets/controls",
      "model_module_version": "2.0.0",
      "model_name": "VBoxModel",
      "state": {
       "children": [
        "IPY_MODEL_c2d49c268d224f69ac4b1da57c9e572e",
        "IPY_MODEL_b31cb58557d6478b8426173c963ba0a5",
        "IPY_MODEL_3dbfbb5cb4fc4b59ba206c88eac74688"
       ],
       "layout": "IPY_MODEL_cb4199451b954ffa96c52785873d2b46"
      }
     },
     "dbbef7f7f7004c7988140ccfa553320b": {
      "model_module": "@jupyter-widgets/base",
      "model_module_version": "2.0.0",
      "model_name": "LayoutModel",
      "state": {}
     },
     "dc779f9b3c194da58c03a0d3d7a6325f": {
      "model_module": "@jupyter-widgets/base",
      "model_module_version": "2.0.0",
      "model_name": "LayoutModel",
      "state": {
       "height": "30px",
       "width": "100px"
      }
     },
     "dce58cb87311446198fc5d40643937f0": {
      "model_module": "@jupyter-widgets/base",
      "model_module_version": "2.0.0",
      "model_name": "LayoutModel",
      "state": {}
     },
     "dd3bca15b6104415ab8882e977135085": {
      "model_module": "@jupyter-widgets/output",
      "model_module_version": "1.0.0",
      "model_name": "OutputModel",
      "state": {
       "layout": "IPY_MODEL_3aa681a10edb4457877c5fe6eb7986df"
      }
     },
     "dd4d7ac1c6864e80bd6a67310d883234": {
      "model_module": "@jupyter-widgets/base",
      "model_module_version": "2.0.0",
      "model_name": "LayoutModel",
      "state": {
       "width": "800px"
      }
     },
     "dd660b235a074e92bf1f18900e6cf7c2": {
      "model_module": "@jupyter-widgets/controls",
      "model_module_version": "2.0.0",
      "model_name": "HBoxModel",
      "state": {
       "children": [
        "IPY_MODEL_f58ea6164dcc43ab8f20b8ce5a5d96f2",
        "IPY_MODEL_e6d4c0ce6335454490a0ddfffd291132"
       ],
       "layout": "IPY_MODEL_a370c177f4dc4ec9b3a4b071ec7bdd2f"
      }
     },
     "de0e77e6a587403c8ecd05b307e42c02": {
      "model_module": "@jupyter-widgets/controls",
      "model_module_version": "2.0.0",
      "model_name": "DescriptionStyleModel",
      "state": {
       "description_width": ""
      }
     },
     "df9398b1154942f19c9086541b844008": {
      "model_module": "@jupyter-widgets/base",
      "model_module_version": "2.0.0",
      "model_name": "LayoutModel",
      "state": {}
     },
     "e012a74f14eb4ca9b6f3798f5ac0fba2": {
      "model_module": "@jupyter-widgets/controls",
      "model_module_version": "2.0.0",
      "model_name": "VBoxModel",
      "state": {
       "children": [
        "IPY_MODEL_55c1d378c68747c79927402ab58261cb",
        "IPY_MODEL_01d977351a0b4fdf8ff705b1a67de17e",
        "IPY_MODEL_c68f3246046a431e8b765c6e69e85e60"
       ],
       "layout": "IPY_MODEL_1b235043ddc947c986798966d5b4740a"
      }
     },
     "e0fdbc2e6dc64e15bd515f4602276344": {
      "model_module": "@jupyter-widgets/base",
      "model_module_version": "2.0.0",
      "model_name": "LayoutModel",
      "state": {}
     },
     "e102cc5c28bc4a9190a85bcf191478d6": {
      "model_module": "@jupyter-widgets/controls",
      "model_module_version": "2.0.0",
      "model_name": "ButtonModel",
      "state": {
       "description": "Load",
       "layout": "IPY_MODEL_864633c350784559a39ef0e9d85dcefd",
       "style": "IPY_MODEL_1f64027f6a3542c38e243fa5cc57de76",
       "tooltip": null
      }
     },
     "e16b2ef6fdc4405daa4fd92bf820ac3b": {
      "model_module": "@jupyter-widgets/controls",
      "model_module_version": "2.0.0",
      "model_name": "HBoxModel",
      "state": {
       "children": [
        "IPY_MODEL_5993d1a93cc64ffaa8f55ee009e1db99",
        "IPY_MODEL_e9c59c10310546cdb663442169cebf62"
       ],
       "layout": "IPY_MODEL_1ff2d5ce4c05444cb599ab0d9d314b62"
      }
     },
     "e1dc1bd022e94d8c813ed091e354cb7d": {
      "model_module": "@jupyter-widgets/controls",
      "model_module_version": "2.0.0",
      "model_name": "FloatSliderModel",
      "state": {
       "behavior": "drag-tap",
       "description": "Elevation",
       "layout": "IPY_MODEL_aa78b4c5a00b413f8f75b0112e88a902",
       "max": 180,
       "min": -180,
       "style": "IPY_MODEL_86f078fd8b5e4cd1a4b4bce6b833263b",
       "value": 30
      }
     },
     "e27012816ec44e8aa0a4d6a90b2ff7c9": {
      "model_module": "@jupyter-widgets/base",
      "model_module_version": "2.0.0",
      "model_name": "LayoutModel",
      "state": {}
     },
     "e33c3ee3a00f410c917c300d382ba78d": {
      "model_module": "jupyter-matplotlib",
      "model_module_version": "^0.11",
      "model_name": "ToolbarModel",
      "state": {
       "_model_module_version": "^0.11",
       "_view_module_version": "^0.11",
       "collapsed": true,
       "layout": "IPY_MODEL_1226c84e5f2946f48b27a7bc480d0820",
       "orientation": "vertical",
       "position": "right",
       "toolitems": [
        [
         "Home",
         "Reset original view",
         "home",
         "home"
        ],
        [
         "Back",
         "Back to previous view",
         "arrow-left",
         "back"
        ],
        [
         "Forward",
         "Forward to next view",
         "arrow-right",
         "forward"
        ],
        [
         "Pan",
         "Left button pans, Right button zooms\nx/y fixes axis, CTRL fixes aspect",
         "arrows",
         "pan"
        ],
        [
         "Zoom",
         "Zoom to rectangle\nx/y fixes axis",
         "square-o",
         "zoom"
        ],
        [
         "Download",
         "Download plot",
         "floppy-o",
         "save_figure"
        ]
       ]
      }
     },
     "e3ac0c246f0e49b1b53911df01ef29d7": {
      "model_module": "@jupyter-widgets/base",
      "model_module_version": "2.0.0",
      "model_name": "LayoutModel",
      "state": {}
     },
     "e3cfb244d95f45a588b509f32227d57e": {
      "model_module": "@jupyter-widgets/base",
      "model_module_version": "2.0.0",
      "model_name": "LayoutModel",
      "state": {}
     },
     "e41c21c41bb94054a608fe59cd41d0ba": {
      "model_module": "@jupyter-widgets/controls",
      "model_module_version": "2.0.0",
      "model_name": "TextStyleModel",
      "state": {
       "description_width": "",
       "font_size": null,
       "text_color": null
      }
     },
     "e4fdda2d9cd64f53a3f997cac63024bd": {
      "model_module": "@jupyter-widgets/base",
      "model_module_version": "2.0.0",
      "model_name": "LayoutModel",
      "state": {}
     },
     "e540df4e479742f88a45c30338368e25": {
      "model_module": "@jupyter-widgets/base",
      "model_module_version": "2.0.0",
      "model_name": "LayoutModel",
      "state": {}
     },
     "e59cbbc9e6d845c882ddb75472d17b8f": {
      "model_module": "@jupyter-widgets/controls",
      "model_module_version": "2.0.0",
      "model_name": "SliderStyleModel",
      "state": {
       "description_width": ""
      }
     },
     "e6d4c0ce6335454490a0ddfffd291132": {
      "model_module": "@jupyter-widgets/controls",
      "model_module_version": "2.0.0",
      "model_name": "ButtonModel",
      "state": {
       "icon": "stop",
       "layout": "IPY_MODEL_67a5e922f0804b3e951db6253d6e5a12",
       "style": "IPY_MODEL_a2957d2b34d442df8ce378a4348b545d",
       "tooltip": null
      }
     },
     "e76298b8c83148aab24a59af7e9bf54f": {
      "model_module": "@jupyter-widgets/controls",
      "model_module_version": "2.0.0",
      "model_name": "CheckboxModel",
      "state": {
       "description": "Show Axis Arrows",
       "disabled": false,
       "indent": false,
       "layout": "IPY_MODEL_ed8155b2e4884ccdbf79372d6c0770e8",
       "style": "IPY_MODEL_30dcebef9bc144db87d3ee52fce85d35",
       "value": true
      }
     },
     "e8d599ba300e40929ae5530de72dd280": {
      "model_module": "@jupyter-widgets/controls",
      "model_module_version": "2.0.0",
      "model_name": "DropdownModel",
      "state": {
       "_options_labels": [
        "1.230",
        "1.435",
        "2.100",
        "4.016",
        "4.773",
        "6.679",
        "7.618",
        "9.665",
        "12.163",
        "12.598",
        "13.854"
       ],
       "index": 4,
       "layout": "IPY_MODEL_6b6d16e0b4304eb8a0813ab1f53f4b24",
       "style": "IPY_MODEL_3b91af3becdb43139c26a6f8e921a3f2"
      }
     },
     "e9138cc93a1a489eab885b0a517998d4": {
      "model_module": "@jupyter-widgets/controls",
      "model_module_version": "2.0.0",
      "model_name": "TextStyleModel",
      "state": {
       "description_width": "200px",
       "font_size": null,
       "text_color": null
      }
     },
     "e973c25ced1041f2aa77793f01335147": {
      "model_module": "@jupyter-widgets/controls",
      "model_module_version": "2.0.0",
      "model_name": "LabelStyleModel",
      "state": {
       "description_width": "",
       "font_family": null,
       "font_size": null,
       "font_style": null,
       "font_variant": null,
       "font_weight": null,
       "text_color": null,
       "text_decoration": null
      }
     },
     "e9c59c10310546cdb663442169cebf62": {
      "model_module": "@jupyter-widgets/controls",
      "model_module_version": "2.0.0",
      "model_name": "ButtonModel",
      "state": {
       "icon": "stop",
       "layout": "IPY_MODEL_5f7732e1c3bf4dd4b8f31396dc4c3324",
       "style": "IPY_MODEL_a03221e90920405a986b511f23d6826e",
       "tooltip": null
      }
     },
     "eb6e492e1b7b466b903d46a5285112ba": {
      "model_module": "@jupyter-widgets/controls",
      "model_module_version": "2.0.0",
      "model_name": "LabelModel",
      "state": {
       "layout": "IPY_MODEL_01ad1fe1a8bb4fedb8e35f83446fb584",
       "style": "IPY_MODEL_0954f997f2004c3f93bd7bdfa5d514df",
       "value": "Hard criteria:"
      }
     },
     "ebb3a45456d54b02847bcf979082468d": {
      "model_module": "@jupyter-widgets/base",
      "model_module_version": "2.0.0",
      "model_name": "LayoutModel",
      "state": {}
     },
     "ebe49c82cc324187b7a259da09b475ab": {
      "model_module": "@jupyter-widgets/base",
      "model_module_version": "2.0.0",
      "model_name": "LayoutModel",
      "state": {}
     },
     "ec3367a0b2974bc9a0190b7be2f29974": {
      "model_module": "@jupyter-widgets/controls",
      "model_module_version": "2.0.0",
      "model_name": "ButtonStyleModel",
      "state": {
       "font_family": null,
       "font_size": null,
       "font_style": null,
       "font_variant": null,
       "font_weight": null,
       "text_color": null,
       "text_decoration": null
      }
     },
     "eca174f56aa94dd09f681d372a794673": {
      "model_module": "@jupyter-widgets/base",
      "model_module_version": "2.0.0",
      "model_name": "LayoutModel",
      "state": {
       "width": "800px"
      }
     },
     "ecbf17a3f999441181e6ecdbb39760d5": {
      "model_module": "@jupyter-widgets/base",
      "model_module_version": "2.0.0",
      "model_name": "LayoutModel",
      "state": {
       "height": "30px",
       "width": "30px"
      }
     },
     "ed1d2dea62334855a2fc0fa6551acefa": {
      "model_module": "@jupyter-widgets/controls",
      "model_module_version": "2.0.0",
      "model_name": "CheckboxModel",
      "state": {
       "description": "Show Lines",
       "disabled": false,
       "indent": false,
       "layout": "IPY_MODEL_dc779f9b3c194da58c03a0d3d7a6325f",
       "style": "IPY_MODEL_828414d62e7a428284ad7b9883fde276",
       "value": true
      }
     },
     "ed8155b2e4884ccdbf79372d6c0770e8": {
      "model_module": "@jupyter-widgets/base",
      "model_module_version": "2.0.0",
      "model_name": "LayoutModel",
      "state": {
       "height": "30px",
       "width": "150px"
      }
     },
     "eda23303824444a18541deee51cf4bb4": {
      "model_module": "@jupyter-widgets/base",
      "model_module_version": "2.0.0",
      "model_name": "LayoutModel",
      "state": {}
     },
     "edd1e7dbe89d4dbeab64bf504a85ff09": {
      "model_module": "@jupyter-widgets/controls",
      "model_module_version": "2.0.0",
      "model_name": "FloatSliderModel",
      "state": {
       "behavior": "drag-tap",
       "description": "MC_min []",
       "layout": "IPY_MODEL_3688162514054130b2990fe6413958a5",
       "max": 1,
       "step": 0.01,
       "style": "IPY_MODEL_a4d94a1b202d42b4937420df93077066"
      }
     },
     "edd92baa98b94da3aa991226aa849ab0": {
      "model_module": "@jupyter-widgets/base",
      "model_module_version": "2.0.0",
      "model_name": "LayoutModel",
      "state": {
       "width": "800px"
      }
     },
     "ede8cb3642e64ed3bcae17c47e85384b": {
      "model_module": "@jupyter-widgets/controls",
      "model_module_version": "2.0.0",
      "model_name": "ButtonStyleModel",
      "state": {
       "font_family": null,
       "font_size": null,
       "font_style": null,
       "font_variant": null,
       "font_weight": null,
       "text_color": null,
       "text_decoration": null
      }
     },
     "ef35151f69cd4e688e141a1e42592ef2": {
      "model_module": "@jupyter-widgets/controls",
      "model_module_version": "2.0.0",
      "model_name": "ButtonStyleModel",
      "state": {
       "font_family": null,
       "font_size": null,
       "font_style": null,
       "font_variant": null,
       "font_weight": null,
       "text_color": null,
       "text_decoration": null
      }
     },
     "efcbb8bccd044233b5f55d9d0c4002e0": {
      "model_module": "@jupyter-widgets/controls",
      "model_module_version": "2.0.0",
      "model_name": "HBoxModel",
      "state": {
       "children": [
        "IPY_MODEL_4a3011ca99be4ce4b06faf2de89fddd9",
        "IPY_MODEL_6b13b95db6814b218bc67c788a31751f",
        "IPY_MODEL_8cd9c7fc3abf4d458c54a55a9de8cc94",
        "IPY_MODEL_107a672dd2ae42c4959c06f52e3a9755"
       ],
       "layout": "IPY_MODEL_76b4651fe1264f24a048a03830580dc4"
      }
     },
     "f0aecfd9f3134213afa83d1123ff207f": {
      "model_module": "@jupyter-widgets/controls",
      "model_module_version": "2.0.0",
      "model_name": "TextModel",
      "state": {
       "description": "Measurement File",
       "layout": "IPY_MODEL_dd4d7ac1c6864e80bd6a67310d883234",
       "style": "IPY_MODEL_b8a37e2f79054444abb502042b3d2e18",
       "value": "/home/sima9999/git/pyOMA/tests/files/measurement_1/measurement_1.npy"
      }
     },
     "f117010a35834f6187dbf00ad71b61eb": {
      "model_module": "@jupyter-widgets/base",
      "model_module_version": "2.0.0",
      "model_name": "LayoutModel",
      "state": {
       "height": "30px",
       "width": "100px"
      }
     },
     "f144edbb838745fb9888f90982245fab": {
      "model_module": "@jupyter-widgets/controls",
      "model_module_version": "2.0.0",
      "model_name": "TextModel",
      "state": {
       "description": "Setup Info File",
       "layout": "IPY_MODEL_b34c86b0378d4badb8842386f7336ee9",
       "style": "IPY_MODEL_49757e4c238a4f5f8a7060cdab0bff1b",
       "value": "/home/sima9999/git/pyOMA/tests/files/measurement_1/setup_info.txt"
      }
     },
     "f1ae68638d574ba0b5e8b5858abecfaa": {
      "model_module": "@jupyter-widgets/base",
      "model_module_version": "2.0.0",
      "model_name": "LayoutModel",
      "state": {}
     },
     "f1bfd6d3daf243b3bee1bd94cf95fa3d": {
      "model_module": "@jupyter-widgets/controls",
      "model_module_version": "2.0.0",
      "model_name": "DescriptionStyleModel",
      "state": {
       "description_width": ""
      }
     },
     "f3c12be1d1c6400c85c045ed1a807fb4": {
      "model_module": "@jupyter-widgets/controls",
      "model_module_version": "2.0.0",
      "model_name": "TextStyleModel",
      "state": {
       "description_width": "200px",
       "font_size": null,
       "text_color": null
      }
     },
     "f43a897b6fc947fcaba30d8969f23416": {
      "model_module": "@jupyter-widgets/base",
      "model_module_version": "2.0.0",
      "model_name": "LayoutModel",
      "state": {}
     },
     "f492ca9a1e0c4fce9e59ee535084d8fe": {
      "model_module": "@jupyter-widgets/base",
      "model_module_version": "2.0.0",
      "model_name": "LayoutModel",
      "state": {
       "align_items": "center"
      }
     },
     "f58ea6164dcc43ab8f20b8ce5a5d96f2": {
      "model_module": "@jupyter-widgets/controls",
      "model_module_version": "2.0.0",
      "model_name": "ButtonModel",
      "state": {
       "icon": "play",
       "layout": "IPY_MODEL_cf24f8f35ab148e7ab4a4ca976694ceb",
       "style": "IPY_MODEL_ef35151f69cd4e688e141a1e42592ef2",
       "tooltip": null
      }
     },
     "f5989e3f6f514e9ea1569101b474cc0f": {
      "model_module": "@jupyter-widgets/controls",
      "model_module_version": "2.0.0",
      "model_name": "SliderStyleModel",
      "state": {
       "description_width": ""
      }
     },
     "f5996d98662d4180b75a93f9b096d917": {
      "model_module": "@jupyter-widgets/controls",
      "model_module_version": "2.0.0",
      "model_name": "CheckboxStyleModel",
      "state": {
       "description_width": ""
      }
     },
     "f5f389e6eeab4194a9a2d7d753921e36": {
      "model_module": "@jupyter-widgets/controls",
      "model_module_version": "2.0.0",
      "model_name": "HBoxModel",
      "state": {
       "children": [
        "IPY_MODEL_53d23780267f4ece89596781a14a380b",
        "IPY_MODEL_668506c7d9a7495a8528a5c0a972e845"
       ],
       "layout": "IPY_MODEL_b4abaa4d901b477794f6f5691522efc6"
      }
     },
     "f6d7c59efd2149158d8d3240545e6a61": {
      "model_module": "@jupyter-widgets/base",
      "model_module_version": "2.0.0",
      "model_name": "LayoutModel",
      "state": {}
     },
     "f7515e94ba854cc595e16f5115ee144e": {
      "model_module": "@jupyter-widgets/controls",
      "model_module_version": "2.0.0",
      "model_name": "DescriptionStyleModel",
      "state": {
       "description_width": "100px"
      }
     },
     "f784327340fa430684dd404f4013271f": {
      "model_module": "@jupyter-widgets/controls",
      "model_module_version": "2.0.0",
      "model_name": "FloatSliderModel",
      "state": {
       "behavior": "drag-tap",
       "description": "Elevation",
       "layout": "IPY_MODEL_7b382f029efc4a4c996b774fff46a020",
       "max": 180,
       "min": -180,
       "style": "IPY_MODEL_b835daf831ea4e11a612800d3b1eb0ad",
       "value": 30
      }
     },
     "f7a6170e86214f6ca386c5688dc24be6": {
      "model_module": "@jupyter-widgets/controls",
      "model_module_version": "2.0.0",
      "model_name": "TextModel",
      "state": {
       "description": "Result Directory",
       "layout": "IPY_MODEL_edd92baa98b94da3aa991226aa849ab0",
       "style": "IPY_MODEL_e9138cc93a1a489eab885b0a517998d4",
       "value": "/home/sima9999/git/pyOMA/tests/files/measurement_1"
      }
     },
     "f7c7f6615547456ba885dc144419bb33": {
      "model_module": "@jupyter-widgets/controls",
      "model_module_version": "2.0.0",
      "model_name": "FloatSliderModel",
      "state": {
       "behavior": "drag-tap",
       "description": "Azimuth",
       "layout": "IPY_MODEL_e3ac0c246f0e49b1b53911df01ef29d7",
       "max": 180,
       "min": -180,
       "style": "IPY_MODEL_a60988cc709344eb88e0bed8f8281747",
       "value": -60
      }
     },
     "f8181bc42a4b40428b6fcf15301b81f5": {
      "model_module": "@jupyter-widgets/base",
      "model_module_version": "2.0.0",
      "model_name": "LayoutModel",
      "state": {
       "justify_content": "space-around"
      }
     },
     "f86a81268f9e432cbe7efdf83e6f8533": {
      "model_module": "@jupyter-widgets/base",
      "model_module_version": "2.0.0",
      "model_name": "LayoutModel",
      "state": {
       "border_bottom": "1px solid black",
       "border_left": "1px solid black",
       "border_right": "1px solid black",
       "border_top": "1px solid black",
       "height": "160px",
       "overflow": "scroll",
       "width": "1360px"
      }
     },
     "f8aa7bfa4ec3475f85e734f995132574": {
      "model_module": "@jupyter-widgets/base",
      "model_module_version": "2.0.0",
      "model_name": "LayoutModel",
      "state": {
       "height": "30px",
       "width": "200px"
      }
     },
     "faa76f38ca574338a5f519c33ef17337": {
      "model_module": "@jupyter-widgets/controls",
      "model_module_version": "2.0.0",
      "model_name": "ButtonStyleModel",
      "state": {
       "font_family": null,
       "font_size": null,
       "font_style": null,
       "font_variant": null,
       "font_weight": null,
       "text_color": null,
       "text_decoration": null
      }
     },
     "fb11a1869ddf4166bea8e4163be6a871": {
      "model_module": "@jupyter-widgets/controls",
      "model_module_version": "2.0.0",
      "model_name": "CheckboxStyleModel",
      "state": {
       "description_width": ""
      }
     },
     "fc649bde53254c57b16045275ee77bdb": {
      "model_module": "@jupyter-widgets/base",
      "model_module_version": "2.0.0",
      "model_name": "LayoutModel",
      "state": {}
     },
     "fc7a9fb80a624797aa970e58e6784b85": {
      "model_module": "@jupyter-widgets/controls",
      "model_module_version": "2.0.0",
      "model_name": "HBoxModel",
      "state": {
       "children": [
        "IPY_MODEL_bc137dcadd814d5f910733e576bca8c3",
        "IPY_MODEL_55b209d807504a368342d02dd8ae8b44"
       ],
       "layout": "IPY_MODEL_be881b92b6b74e01a69d106b69b9a512"
      }
     },
     "fc9422642b2a42d9b005dbcce4ad76de": {
      "model_module": "@jupyter-widgets/base",
      "model_module_version": "2.0.0",
      "model_name": "LayoutModel",
      "state": {}
     },
     "fd67ea0d86c5414b99c6383239fd99f3": {
      "model_module": "@jupyter-widgets/controls",
      "model_module_version": "2.0.0",
      "model_name": "SliderStyleModel",
      "state": {
       "description_width": ""
      }
     },
     "fd9e3fc0e20947f58d9ee695ef8e1fab": {
      "model_module": "@jupyter-widgets/base",
      "model_module_version": "2.0.0",
      "model_name": "LayoutModel",
      "state": {
       "border_bottom": "solid 1px",
       "border_left": "solid 1px",
       "border_right": "solid 1px",
       "border_top": "solid 1px"
      }
     },
     "fe2ac2d1715548939b875507528525d8": {
      "model_module": "@jupyter-widgets/controls",
      "model_module_version": "2.0.0",
      "model_name": "ButtonModel",
      "state": {
       "description": "X",
       "layout": "IPY_MODEL_83a603cc415a41d486cb3ac06943c67c",
       "style": "IPY_MODEL_b78db1e5ac5342ee86249087e8166263",
       "tooltip": null
      }
     },
     "ff2e747571754a68833466f77ec48956": {
      "model_module": "@jupyter-widgets/base",
      "model_module_version": "2.0.0",
      "model_name": "LayoutModel",
      "state": {
       "border_bottom": "solid 1px",
       "border_left": "solid 1px",
       "border_right": "solid 1px",
       "border_top": "solid 1px"
      }
     },
     "ffb1d23c840b43ebb0a9899e9bf369d9": {
      "model_module": "@jupyter-widgets/controls",
      "model_module_version": "2.0.0",
      "model_name": "TextStyleModel",
      "state": {
       "description_width": "200px",
       "font_size": null,
       "text_color": null
      }
     },
     "ffbf0c2655f44c51abaf58009b57c955": {
      "model_module": "@jupyter-widgets/base",
      "model_module_version": "2.0.0",
      "model_name": "LayoutModel",
      "state": {
       "border_bottom": "solid 1px",
       "border_left": "solid 1px",
       "border_right": "solid 1px",
       "border_top": "solid 1px"
      }
     },
     "ffe9ea1e4ac34889ba138022e78f070e": {
      "model_module": "@jupyter-widgets/controls",
      "model_module_version": "2.0.0",
      "model_name": "ButtonModel",
      "state": {
       "description": "Save",
       "layout": "IPY_MODEL_7a128dd394e841f8a62d9117b6bbdad7",
       "style": "IPY_MODEL_464e57ad2c934beebef07f8f1427fe7b",
       "tooltip": null
      }
     }
    },
    "version_major": 2,
    "version_minor": 0
   }
  }
 },
 "nbformat": 4,
 "nbformat_minor": 5
}
