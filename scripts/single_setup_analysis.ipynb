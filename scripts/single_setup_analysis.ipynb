{
 "cells": [
  {
   "cell_type": "markdown",
   "id": "c6aeae5b-2a75-420f-a483-2a8b795d932f",
   "metadata": {},
   "source": [
    "# pyOMA Jupyter Notebook\n",
    "\n",
    "Run the cells below with Shift+Enter"
   ]
  },
  {
   "cell_type": "code",
   "execution_count": 1,
   "id": "0d29dfe6-dd21-423a-9ee0-51c473f2b8a8",
   "metadata": {},
   "outputs": [],
   "source": [
    "%matplotlib widget\n",
    "%load_ext autoreload\n",
    "%autoreload 2\n",
    "\n",
    "import matplotlib\n",
    "import sys\n",
    "import os\n",
    "from pathlib import Path\n",
    "import numpy as np\n",
    "import matplotlib.pyplot as plt \n",
    "\n",
    "%aimport -sys -logging -matplotlib -matplotlib.pyplot -numpy -pandas - scipy.stats -scipy.stats.qmc"
   ]
  },
  {
   "cell_type": "markdown",
   "id": "3a54feb7-f5b6-4755-96ae-e0e97d6a8ac3",
   "metadata": {},
   "source": [
    "please modify the path below to point to the code directory and run the cell"
   ]
  },
  {
   "cell_type": "code",
   "execution_count": 2,
   "id": "c0709c7c-e300-4521-8c9b-6620f4fd15d3",
   "metadata": {},
   "outputs": [],
   "source": [
    "sys.path.append('/home/sima9999/git/pyOMA')\n",
    "\n",
    "from pyOMA.core.PreProcessingTools import PreProcessSignals, GeometryProcessor, SignalPlot\n",
    "from pyOMA.core.StabilDiagram import StabilCalc, StabilCluster, StabilPlot\n",
    "from pyOMA.core.PostProcessingTools import MergePoSER\n",
    "from pyOMA.core.PlotMSH import ModeShapePlot\n",
    "\n",
    "from pyOMA.GUI.JupyterGUI import PlotMSHWeb, StabilGUIWeb, SnappingCursor, OutputWidgetHandler, ConfigGUIWeb"
   ]
  },
  {
   "cell_type": "markdown",
   "id": "e26a2c90-8c74-455e-82a8-cb0655bff13e",
   "metadata": {},
   "source": [
    "please modify the paths and setting below to point to the project and setup directories and run the cell"
   ]
  },
  {
   "cell_type": "code",
   "execution_count": 3,
   "id": "d001b95c",
   "metadata": {},
   "outputs": [],
   "source": [
    "project_dir = Path('/home/sima9999/git/pyOMA/tests/files/')\n",
    "nodes_file = project_dir / 'grid.txt'\n",
    "lines_file = project_dir / 'lines.txt'\n",
    "parent_child_file = ''\n",
    "\n",
    "meas_name = 'measurement_1'\n",
    "setup_dir = project_dir / meas_name\n",
    "result_dir = setup_dir\n",
    "\n",
    "setup_info_file = setup_dir / 'setup_info.txt'\n",
    "meas_file = setup_dir / (meas_name + '.npy')\n",
    "oma_conf_file = project_dir / 'ssi_config.txt'\n",
    "chan_dofs_file = setup_dir / \"channel_dofs.txt\"\n",
    "\n",
    "skip_existing=True\n",
    "save_results=False\n",
    "\n",
    "PreProcessSignals.load_measurement_file = np.load"
   ]
  },
  {
   "cell_type": "code",
   "execution_count": 4,
   "id": "8685bd66-3d60-415a-9143-0468c3cbcb58",
   "metadata": {},
   "outputs": [
    {
     "data": {
      "application/vnd.jupyter.widget-view+json": {
       "model_id": "a14da087fc9b41c1b3c163b7d2adefa5",
       "version_major": 2,
       "version_minor": 0
      },
      "text/plain": [
       "Tab(children=(VBox(children=(Text(value='/home/sima9999/git/pyOMA/tests/files', description='Project Directory…"
      ]
     },
     "metadata": {},
     "output_type": "display_data"
    }
   ],
   "source": [
    "display(ConfigGUIWeb(locals()))"
   ]
  },
  {
   "cell_type": "code",
   "execution_count": 5,
   "id": "a2985354-a753-49fa-84ec-776f954a9e39",
   "metadata": {},
   "outputs": [],
   "source": [
    "geometry_data = GeometryProcessor.load_geometry(\n",
    "    nodes_file=nodes_file,\n",
    "    lines_file=lines_file,\n",
    "    parent_childs_file=parent_child_file)"
   ]
  },
  {
   "cell_type": "code",
   "execution_count": 6,
   "id": "08200156-8e72-4069-b19e-0473be0c3ee1",
   "metadata": {},
   "outputs": [
    {
     "name": "stdout",
     "output_type": "stream",
     "text": [
      "INFO:pyOMA.core.PreProcessingTools:Loading results from  /home/sima9999/git/pyOMA/tests/files/measurement_1/prep_signals.npz\n",
      "INFO:pyOMA.core.PreProcessingTools:Decimating signals by factor 3 to a sampling rate of 85.33333333333333 Hz\n",
      "INFO:pyOMA.core.PreProcessingTools:Filtering signals in the band: None .. 34.13333333333333 with a 8 order cheby1 filter.\n",
      "INFO:pyOMA.core.PreProcessingTools:Decimating signals by factor 3 to a sampling rate of 28.444444444444443 Hz\n",
      "INFO:pyOMA.core.PreProcessingTools:Filtering signals in the band: None .. 11.377777777777776 with a 8 order cheby1 filter.\n"
     ]
    }
   ],
   "source": [
    "if not os.path.exists(setup_dir / \n",
    "        'prep_signals.npz') or not skip_existing:\n",
    "    prep_signals = PreProcessSignals.init_from_config(\n",
    "        conf_file=setup_info_file,\n",
    "        meas_file=meas_file,\n",
    "        chan_dofs_file=chan_dofs_file)\n",
    "\n",
    "    if save_results:\n",
    "        prep_signals.save_state(result_dir / 'prep_signals.npz')\n",
    "else:\n",
    "    prep_signals = PreProcessSignals.load_state(result_dir / 'prep_signals.npz')\n",
    "\n",
    "prep_signals.decimate_signals(3)\n",
    "prep_signals.decimate_signals(3)"
   ]
  },
  {
   "cell_type": "code",
   "execution_count": 7,
   "id": "a1f46920-cde6-4a60-94ae-f1014cf8ab46",
   "metadata": {
    "tags": []
   },
   "outputs": [
    {
     "name": "stdout",
     "output_type": "stream",
     "text": [
      "INFO:pyOMA.core.SSIData:Loading results from  /home/sima9999/git/pyOMA/tests/files/measurement_1/modal_data.npz\n"
     ]
    }
   ],
   "source": [
    "if not os.path.exists(result_dir /\n",
    "        'modal_data.npz') or not skip_existing:\n",
    "\n",
    "    modal_data = method.init_from_config(oma_conf_file, prep_signals)\n",
    "\n",
    "    if save_results:\n",
    "        \n",
    "        modal_data.save_state(result_dir / 'modal_data.npz')\n",
    "else:\n",
    "    modal_data = method.load_state(\n",
    "        result_dir / 'modal_data.npz', prep_signals)"
   ]
  },
  {
   "cell_type": "code",
   "execution_count": 8,
   "id": "193d3383-4866-49af-b87d-43a2af82534f",
   "metadata": {},
   "outputs": [
    {
     "name": "stdout",
     "output_type": "stream",
     "text": [
      "INFO:pyOMA.core.StabilDiagram:Now loading previous results from  /home/sima9999/git/pyOMA/tests/files/measurement_1/stabil_data.npz\n"
     ]
    }
   ],
   "source": [
    "if os.path.exists(result_dir \n",
    "                  / 'stabil_data.npz') and skip_existing:\n",
    "    stabil_calc = StabilCalc.load_state(\n",
    "        result_dir / 'stabil_data.npz', modal_data)\n",
    "else:\n",
    "    stabil_calc = StabilCalc(modal_data)\n",
    "stabil_plot = StabilPlot(stabil_calc)"
   ]
  },
  {
   "cell_type": "code",
   "execution_count": 9,
   "id": "ab6548e1-7eb7-45ac-9e75-e5b67899df3a",
   "metadata": {},
   "outputs": [
    {
     "data": {
      "application/vnd.jupyter.widget-view+json": {
       "model_id": "0275a91f32134053a4adf1eacd062958",
       "version_major": 2,
       "version_minor": 0
      },
      "text/plain": [
       "VBox(children=(Canvas(footer_visible=False, header_visible=False, resizable=False, toolbar=Toolbar(toolitems=[…"
      ]
     },
     "metadata": {},
     "output_type": "display_data"
    }
   ],
   "source": [
    "display(StabilGUIWeb(stabil_plot))"
   ]
  },
  {
   "cell_type": "code",
   "execution_count": 34,
   "id": "b3e857e9",
   "metadata": {},
   "outputs": [],
   "source": [
    "if save_results:\n",
    "    stabil_calc.save_state(result_dir / 'stabil_data.npz')"
   ]
  },
  {
   "cell_type": "code",
   "execution_count": 11,
   "id": "833bf761-b2af-461c-9289-138fbc7c1c5b",
   "metadata": {},
   "outputs": [],
   "source": [
    "mode_shape_plot = ModeShapePlot(amplitude=10,\n",
    "                                prep_signals=prep_signals,\n",
    "                                stabil_calc=stabil_calc,\n",
    "                                geometry_data=geometry_data,\n",
    "                                modal_data=modal_data)"
   ]
  },
  {
   "cell_type": "code",
   "execution_count": 12,
   "id": "27c49636-53c1-4d1d-ac73-a78b3fdd9c7b",
   "metadata": {},
   "outputs": [
    {
     "data": {
      "application/vnd.jupyter.widget-view+json": {
       "model_id": "dcde2744e0d440559f0122135973898e",
       "version_major": 2,
       "version_minor": 0
      },
      "text/plain": [
       "VBox(children=(Canvas(footer_visible=False, header_visible=False, resizable=False, toolbar=Toolbar(toolitems=[…"
      ]
     },
     "metadata": {},
     "output_type": "display_data"
    }
   ],
   "source": [
    "display(PlotMSHWeb(mode_shape_plot))"
   ]
  },
  {
   "cell_type": "code",
   "execution_count": null,
   "id": "2ec123cb-0f9e-40e0-9dde-9b7cf1ed1cde",
   "metadata": {},
   "outputs": [],
   "source": []
  }
 ],
 "metadata": {
  "kernelspec": {
   "display_name": "Python 3 (ipykernel)",
   "language": "python",
   "name": "python3"
  },
  "language_info": {
   "codemirror_mode": {
    "name": "ipython",
    "version": 3
   },
   "file_extension": ".py",
   "mimetype": "text/x-python",
   "name": "python",
   "nbconvert_exporter": "python",
   "pygments_lexer": "ipython3",
   "version": "3.10.8"
  },
  "toc-autonumbering": false,
  "toc-showcode": true,
  "widgets": {
   "application/vnd.jupyter.widget-state+json": {
    "state": {
     "0010c9a8f6f74756b1311e99ae37a5c0": {
      "model_module": "@jupyter-widgets/controls",
      "model_module_version": "2.0.0",
      "model_name": "FloatSliderModel",
      "state": {
       "behavior": "drag-tap",
       "description": "Roll",
       "layout": "IPY_MODEL_9f67672f80dd4b6cbcbc466aa4b55fba",
       "max": 180,
       "min": -180,
       "style": "IPY_MODEL_24e1f1cade0c4038ba184cd327c5809c"
      }
     },
     "0031f150d09d4689839c5c9b60e932e5": {
      "model_module": "@jupyter-widgets/base",
      "model_module_version": "2.0.0",
      "model_name": "LayoutModel",
      "state": {}
     },
     "0275a91f32134053a4adf1eacd062958": {
      "model_module": "@jupyter-widgets/controls",
      "model_module_version": "2.0.0",
      "model_name": "VBoxModel",
      "state": {
       "children": [
        "IPY_MODEL_99e33ed892774195aafa794da6093d08",
        "IPY_MODEL_a7e0408f576346b4b33263ab7cd23d97",
        "IPY_MODEL_2e30d442bf754561aa13bcba253a2843"
       ],
       "layout": "IPY_MODEL_49d4d51f79aa49eb91db2cf45c0ebf75"
      }
     },
     "02da01cca1f7410aa7b1f9a8463bdf62": {
      "model_module": "@jupyter-widgets/controls",
      "model_module_version": "2.0.0",
      "model_name": "HBoxModel",
      "state": {
       "children": [
        "IPY_MODEL_ab8a86be2948492aba59ed543316770f",
        "IPY_MODEL_492398338b8f4e518bc3ff754ea9be23"
       ],
       "layout": "IPY_MODEL_12b74ebfafc44b4a8bdb1f5b3378c586"
      }
     },
     "035dae24d0704cdfaa8d892cd97905ec": {
      "model_module": "@jupyter-widgets/controls",
      "model_module_version": "2.0.0",
      "model_name": "CheckboxStyleModel",
      "state": {
       "description_width": ""
      }
     },
     "0526138d74e74b1f9d5c2ed38d3bacaa": {
      "model_module": "@jupyter-widgets/controls",
      "model_module_version": "2.0.0",
      "model_name": "LabelStyleModel",
      "state": {
       "description_width": "",
       "font_family": null,
       "font_size": null,
       "font_style": null,
       "font_variant": null,
       "font_weight": null,
       "text_color": null,
       "text_decoration": null
      }
     },
     "05f9dd4821834cd1ae3bc9a541d8ebe3": {
      "model_module": "@jupyter-widgets/base",
      "model_module_version": "2.0.0",
      "model_name": "LayoutModel",
      "state": {}
     },
     "06307bdbf8e442b3aec395d136199a23": {
      "model_module": "@jupyter-widgets/controls",
      "model_module_version": "2.0.0",
      "model_name": "TextStyleModel",
      "state": {
       "description_width": "200px",
       "font_size": null,
       "text_color": null
      }
     },
     "068b480d9d3d435bb2120a688289bb05": {
      "model_module": "@jupyter-widgets/base",
      "model_module_version": "2.0.0",
      "model_name": "LayoutModel",
      "state": {}
     },
     "06ac104a2b414030986bf1e3509f7df5": {
      "model_module": "@jupyter-widgets/controls",
      "model_module_version": "2.0.0",
      "model_name": "LabelStyleModel",
      "state": {
       "description_width": "",
       "font_family": null,
       "font_size": null,
       "font_style": null,
       "font_variant": null,
       "font_weight": null,
       "text_color": null,
       "text_decoration": null
      }
     },
     "0765ce5d56c34ec9a5affd2fa5b949ef": {
      "model_module": "@jupyter-widgets/base",
      "model_module_version": "2.0.0",
      "model_name": "LayoutModel",
      "state": {}
     },
     "07ebee3b52364f4e819198fdd43f603a": {
      "model_module": "@jupyter-widgets/controls",
      "model_module_version": "2.0.0",
      "model_name": "HBoxModel",
      "state": {
       "children": [
        "IPY_MODEL_7064104e0cc545739b2f61a09c554e7b",
        "IPY_MODEL_d681f556f0fe4d8f917050e6cb260c90",
        "IPY_MODEL_fc3372bffaf34dfea635c9b61755772c",
        "IPY_MODEL_b158f73e242e4baead758ef4ffa50f13"
       ],
       "layout": "IPY_MODEL_52f053c257594fb695e9bbca7e6fca5a"
      }
     },
     "0a340045c8bf4cbcbfd9829205bd948d": {
      "model_module": "@jupyter-widgets/controls",
      "model_module_version": "2.0.0",
      "model_name": "TextareaModel",
      "state": {
       "layout": "IPY_MODEL_48c6e053211f4bd09df87b85f5956f18",
       "placeholder": "Load channel-DOF-assignments file",
       "style": "IPY_MODEL_ecbbb1778f4a4993bcd58db05cdbaf89",
       "value": "Channel-Nr.\tNode\tAzimuth\tElevation\tChannel Name\n0\t5\t28.86587619188732\t-8.695480642236125\tvib_l\n1\t5\t80.97701187878498\t-7.3090246040909514\tvib_r\n2\t5\t55.87930714013499\t29.34874066364139\tvib_t\n3\t24\t0.0\t180.0\tref_x\n4\t24\t-90.0\t0.0\tref_y\n5\t24\t0.0\t90.0\tref_z\n"
      }
     },
     "0af8ec09b5e94a06b082ced007a51749": {
      "model_module": "@jupyter-widgets/controls",
      "model_module_version": "2.0.0",
      "model_name": "HBoxModel",
      "state": {
       "children": [
        "IPY_MODEL_97828d52fc534e2f91ec6ad9cf0704f2",
        "IPY_MODEL_1eb677e1ed37485c94c708bc4453af14"
       ],
       "layout": "IPY_MODEL_985ab58fdc594559b50c2e238ed2abdb"
      }
     },
     "0bc9bd4a09f64c90bc286b2e991a7f53": {
      "model_module": "@jupyter-widgets/controls",
      "model_module_version": "2.0.0",
      "model_name": "HBoxModel",
      "state": {
       "children": [
        "IPY_MODEL_c474845cb6854590bfbf3cdedd23b326",
        "IPY_MODEL_62c319c7aa2b46bab3dd775c86848d5b"
       ],
       "layout": "IPY_MODEL_068b480d9d3d435bb2120a688289bb05"
      }
     },
     "0bca2d8a3c8b42a1a7ab8461da18dd1f": {
      "model_module": "@jupyter-widgets/controls",
      "model_module_version": "2.0.0",
      "model_name": "TextModel",
      "state": {
       "description": "Project Directory",
       "layout": "IPY_MODEL_c21ba22165654f938ec4686c52c307a0",
       "style": "IPY_MODEL_609ef8737e0541d6a0f3054f3ecbda5a",
       "value": "/home/sima9999/git/pyOMA/tests/files"
      }
     },
     "0c10d3921d2545bba5ea45a390496ef6": {
      "model_module": "@jupyter-widgets/base",
      "model_module_version": "2.0.0",
      "model_name": "LayoutModel",
      "state": {
       "width": "800px"
      }
     },
     "0ed5674381854b75b5dab52f123d56e4": {
      "model_module": "@jupyter-widgets/base",
      "model_module_version": "2.0.0",
      "model_name": "LayoutModel",
      "state": {}
     },
     "0ee40bbf5d494709ad78ff6ea80ecca1": {
      "model_module": "@jupyter-widgets/controls",
      "model_module_version": "2.0.0",
      "model_name": "SliderStyleModel",
      "state": {
       "description_width": ""
      }
     },
     "12b74ebfafc44b4a8bdb1f5b3378c586": {
      "model_module": "@jupyter-widgets/base",
      "model_module_version": "2.0.0",
      "model_name": "LayoutModel",
      "state": {}
     },
     "138818b0498c4a7986f41b48188ea020": {
      "model_module": "@jupyter-widgets/controls",
      "model_module_version": "2.0.0",
      "model_name": "DescriptionStyleModel",
      "state": {
       "description_width": ""
      }
     },
     "14bf8167ea224d25a3ed028790f3867c": {
      "model_module": "@jupyter-widgets/base",
      "model_module_version": "2.0.0",
      "model_name": "LayoutModel",
      "state": {
       "width": "800px"
      }
     },
     "15b10436756f45acbde0b543f1f93123": {
      "model_module": "@jupyter-widgets/controls",
      "model_module_version": "2.0.0",
      "model_name": "LabelModel",
      "state": {
       "layout": "IPY_MODEL_2243aaa6072f4c3cae4bc3df7879a940",
       "style": "IPY_MODEL_b20bb198ef4c42799091cefbda03200d",
       "value": "Current mode:"
      }
     },
     "163ab66d3d554065b034e499a943b772": {
      "model_module": "@jupyter-widgets/base",
      "model_module_version": "2.0.0",
      "model_name": "LayoutModel",
      "state": {
       "width": "200px"
      }
     },
     "17188d978c114abf826804513b027e91": {
      "model_module": "@jupyter-widgets/controls",
      "model_module_version": "2.0.0",
      "model_name": "DropdownModel",
      "state": {
       "_options_labels": [
        "1.231",
        "1.434",
        "2.100",
        "4.017",
        "4.773",
        "6.680",
        "7.618",
        "9.665",
        "12.164",
        "12.599",
        "13.853"
       ],
       "index": 0,
       "layout": "IPY_MODEL_0765ce5d56c34ec9a5affd2fa5b949ef",
       "style": "IPY_MODEL_3480b48f5d9d49d995cfb9cd731089fa"
      }
     },
     "17d1074c16554850874f3ec3d9b032e0": {
      "model_module": "@jupyter-widgets/base",
      "model_module_version": "2.0.0",
      "model_name": "LayoutModel",
      "state": {
       "border_bottom": "solid 1px",
       "border_left": "solid 1px",
       "border_right": "solid 1px",
       "border_top": "solid 1px",
       "width": "350px"
      }
     },
     "19dc4fca41ef41e183acaf52d02610e2": {
      "model_module": "@jupyter-widgets/base",
      "model_module_version": "2.0.0",
      "model_name": "LayoutModel",
      "state": {}
     },
     "19ed80beb0f143f9a27273ae867c084c": {
      "model_module": "@jupyter-widgets/controls",
      "model_module_version": "2.0.0",
      "model_name": "CheckboxModel",
      "state": {
       "description": "Show Parent-Child Assignm.",
       "disabled": false,
       "indent": false,
       "layout": "IPY_MODEL_91f19dbb99f645a5bbadbe6344d2f7fa",
       "style": "IPY_MODEL_210cb45d6d1e484999d3076c3784a438",
       "value": false
      }
     },
     "1afa28cf48074e4aa6b2ca7e011bffab": {
      "model_module": "@jupyter-widgets/base",
      "model_module_version": "2.0.0",
      "model_name": "LayoutModel",
      "state": {}
     },
     "1baf5f5f1e454024af856fda23550130": {
      "model_module": "@jupyter-widgets/base",
      "model_module_version": "2.0.0",
      "model_name": "LayoutModel",
      "state": {}
     },
     "1c17a17ec1b34527a6df05ac749450c4": {
      "model_module": "@jupyter-widgets/base",
      "model_module_version": "2.0.0",
      "model_name": "LayoutModel",
      "state": {
       "border_bottom": "solid 1px",
       "border_left": "solid 1px",
       "border_right": "solid 1px",
       "border_top": "solid 1px"
      }
     },
     "1cccb5812f584182b7ceec6680aee37d": {
      "model_module": "@jupyter-widgets/controls",
      "model_module_version": "2.0.0",
      "model_name": "LabelStyleModel",
      "state": {
       "description_width": "",
       "font_family": null,
       "font_size": null,
       "font_style": null,
       "font_variant": null,
       "font_weight": null,
       "text_color": null,
       "text_decoration": null
      }
     },
     "1cce3570181f435aa4f25fd2ca6636a9": {
      "model_module": "@jupyter-widgets/base",
      "model_module_version": "2.0.0",
      "model_name": "LayoutModel",
      "state": {}
     },
     "1d0ebfd7f0514d188ae4d7cfaf224915": {
      "model_module": "@jupyter-widgets/controls",
      "model_module_version": "2.0.0",
      "model_name": "VBoxModel",
      "state": {
       "children": [
        "IPY_MODEL_1e9390e72d1c462dbd2d4691675048be",
        "IPY_MODEL_44c29231f8754855bbc512a480d80d1d"
       ],
       "layout": "IPY_MODEL_ba6624fa3ea840a4aa27ad9f8e469d41"
      }
     },
     "1e9390e72d1c462dbd2d4691675048be": {
      "model_module": "@jupyter-widgets/controls",
      "model_module_version": "2.0.0",
      "model_name": "LabelModel",
      "state": {
       "layout": "IPY_MODEL_76258b417d0942a092b60408aaa69d69",
       "style": "IPY_MODEL_0526138d74e74b1f9d5c2ed38d3bacaa",
       "value": "Info:"
      }
     },
     "1eb677e1ed37485c94c708bc4453af14": {
      "model_module": "@jupyter-widgets/controls",
      "model_module_version": "2.0.0",
      "model_name": "ButtonModel",
      "state": {
       "description": "Save",
       "layout": "IPY_MODEL_881a82efd40a4cca90944cb84e17b846",
       "style": "IPY_MODEL_b4d4df611b2b4b04ae1ddcddd4abacaa",
       "tooltip": null
      }
     },
     "1f63807d03d141f7afbc5299f1801223": {
      "model_module": "@jupyter-widgets/controls",
      "model_module_version": "2.0.0",
      "model_name": "ButtonStyleModel",
      "state": {
       "font_family": null,
       "font_size": null,
       "font_style": null,
       "font_variant": null,
       "font_weight": null,
       "text_color": null,
       "text_decoration": null
      }
     },
     "210cb45d6d1e484999d3076c3784a438": {
      "model_module": "@jupyter-widgets/controls",
      "model_module_version": "2.0.0",
      "model_name": "CheckboxStyleModel",
      "state": {
       "description_width": ""
      }
     },
     "21287265cf1d4da5b0ef729793d663b3": {
      "model_module": "@jupyter-widgets/controls",
      "model_module_version": "2.0.0",
      "model_name": "TextStyleModel",
      "state": {
       "description_width": "200px",
       "font_size": null,
       "text_color": null
      }
     },
     "2243aaa6072f4c3cae4bc3df7879a940": {
      "model_module": "@jupyter-widgets/base",
      "model_module_version": "2.0.0",
      "model_name": "LayoutModel",
      "state": {}
     },
     "224d1efd27284b1981018292fe87348a": {
      "model_module": "@jupyter-widgets/controls",
      "model_module_version": "2.0.0",
      "model_name": "CheckboxModel",
      "state": {
       "description": "Show PSD",
       "disabled": false,
       "indent": false,
       "layout": "IPY_MODEL_8b012d6c75fe419d90adf7fabdcf0239",
       "style": "IPY_MODEL_60196cb0af4d49dd96403a320337886f",
       "value": false
      }
     },
     "23c2bb963b1a4e33925cd9f9c2798cbf": {
      "model_module": "@jupyter-widgets/base",
      "model_module_version": "2.0.0",
      "model_name": "LayoutModel",
      "state": {
       "width": "100px"
      }
     },
     "2408bb6dc3bd49abbec31160152bbe37": {
      "model_module": "@jupyter-widgets/base",
      "model_module_version": "2.0.0",
      "model_name": "LayoutModel",
      "state": {}
     },
     "24e1f1cade0c4038ba184cd327c5809c": {
      "model_module": "@jupyter-widgets/controls",
      "model_module_version": "2.0.0",
      "model_name": "SliderStyleModel",
      "state": {
       "description_width": ""
      }
     },
     "257c2cf95ff64903b1ee5220a6bf9393": {
      "model_module": "@jupyter-widgets/base",
      "model_module_version": "2.0.0",
      "model_name": "LayoutModel",
      "state": {}
     },
     "259da7069aa2429d9329e3be86d35545": {
      "model_module": "@jupyter-widgets/base",
      "model_module_version": "2.0.0",
      "model_name": "LayoutModel",
      "state": {}
     },
     "25b5a625aca04d9fb13dbb38bbf804c1": {
      "model_module": "@jupyter-widgets/controls",
      "model_module_version": "2.0.0",
      "model_name": "DescriptionStyleModel",
      "state": {
       "description_width": ""
      }
     },
     "26670007926f491b8f42e8283fc1347e": {
      "model_module": "@jupyter-widgets/base",
      "model_module_version": "2.0.0",
      "model_name": "LayoutModel",
      "state": {
       "width": "800px"
      }
     },
     "27c9507cb53449cea178352d3c4f70f9": {
      "model_module": "@jupyter-widgets/controls",
      "model_module_version": "2.0.0",
      "model_name": "TextStyleModel",
      "state": {
       "description_width": "200px",
       "font_size": null,
       "text_color": null
      }
     },
     "2816acc6ca21472fb2bc11ca6bc4b600": {
      "model_module": "@jupyter-widgets/controls",
      "model_module_version": "2.0.0",
      "model_name": "ButtonStyleModel",
      "state": {
       "font_family": null,
       "font_size": null,
       "font_style": null,
       "font_variant": null,
       "font_weight": null,
       "text_color": null,
       "text_decoration": null
      }
     },
     "2dca9de846b349168f89d5694daac066": {
      "model_module": "@jupyter-widgets/controls",
      "model_module_version": "2.0.0",
      "model_name": "ButtonStyleModel",
      "state": {
       "font_family": null,
       "font_size": null,
       "font_style": null,
       "font_variant": null,
       "font_weight": null,
       "text_color": null,
       "text_decoration": null
      }
     },
     "2e30d442bf754561aa13bcba253a2843": {
      "model_module": "@jupyter-widgets/output",
      "model_module_version": "1.0.0",
      "model_name": "OutputModel",
      "state": {
       "layout": "IPY_MODEL_5280a3ffb91140af8da30d8d9fb756c6",
       "outputs": [
        {
         "name": "stdout",
         "output_type": "stream",
         "text": "CRITICAL:pyOMA.GUI.JupyterGUI:Unhandled exception\nTraceback (most recent call last):\n  File \"/home/sima9999/conda/envs/py311/lib/python3.10/site-packages/IPython/core/interactiveshell.py\", line 3398, in run_code\n    exec(code_obj, self.user_global_ns, self.user_ns)\n  File \"/tmp/ipykernel_79807/3024487193.py\", line 1, in <cell line: 1>\n    prep_signals.psd()\n  File \"/home/sima9999/git/pyOMA/pyOMA/core/PreProcessingTools.py\", line 2334, in psd\n    return self.psd_welch(n_lines, **kwargs)\n  File \"/home/sima9999/git/pyOMA/pyOMA/core/PreProcessingTools.py\", line 1528, in psd_welch\n    raise RuntimeError('Either n_lines or n_segments must be provided on first run.')\nRuntimeError: Either n_lines or n_segments must be provided on first run.\n"
        },
        {
         "name": "stdout",
         "output_type": "stream",
         "text": "CRITICAL:pyOMA.GUI.JupyterGUI:Unhandled exception\nTraceback (most recent call last):\n  File \"/home/sima9999/conda/envs/py311/lib/python3.10/site-packages/IPython/core/interactiveshell.py\", line 3398, in run_code\n    exec(code_obj, self.user_global_ns, self.user_ns)\n  File \"/tmp/ipykernel_79807/3024487193.py\", line 1, in <cell line: 1>\n    prep_signals.psd()\n  File \"/home/sima9999/git/pyOMA/pyOMA/core/PreProcessingTools.py\", line 2334, in psd\n    return self.psd_welch(n_lines, **kwargs)\n  File \"/home/sima9999/git/pyOMA/pyOMA/core/PreProcessingTools.py\", line 1528, in psd_welch\n    raise RuntimeError('Either n_lines or n_segments must be provided on first run.')\nRuntimeError: Either n_lines or n_segments must be provided on first run.\n"
        }
       ]
      }
     },
     "2e4ac1242e994067a5aaef858f7dcc9c": {
      "model_module": "@jupyter-widgets/base",
      "model_module_version": "2.0.0",
      "model_name": "LayoutModel",
      "state": {}
     },
     "2e4ce10c7cb74e7298680772535eaa5e": {
      "model_module": "@jupyter-widgets/controls",
      "model_module_version": "2.0.0",
      "model_name": "CheckboxStyleModel",
      "state": {
       "description_width": ""
      }
     },
     "2e5b2d9dea4c4542b65120aa5687e2e8": {
      "model_module": "@jupyter-widgets/controls",
      "model_module_version": "2.0.0",
      "model_name": "LabelModel",
      "state": {
       "layout": "IPY_MODEL_8cb8036c4f0f4665ae3c88df4bcb9c99",
       "style": "IPY_MODEL_9ba192878b644becaec754fdfa44e211",
       "value": "View"
      }
     },
     "2f57fc22fa924e6281e87887caf5cca5": {
      "model_module": "@jupyter-widgets/controls",
      "model_module_version": "2.0.0",
      "model_name": "TextStyleModel",
      "state": {
       "description_width": "",
       "font_size": null,
       "text_color": null
      }
     },
     "2f7d9bf78e0541318244347384254b24": {
      "model_module": "@jupyter-widgets/controls",
      "model_module_version": "2.0.0",
      "model_name": "HBoxModel",
      "state": {
       "children": [
        "IPY_MODEL_fb6e3541b0fc4e8ab8f56670a24ffb6d",
        "IPY_MODEL_77f5de8b9c3c425fa4904b5899ed6c20"
       ],
       "layout": "IPY_MODEL_b2a8b34e4ee44c4c8685e0dbd37a2554"
      }
     },
     "307e5742d76f47c8abaf5aba9038c9fe": {
      "model_module": "@jupyter-widgets/base",
      "model_module_version": "2.0.0",
      "model_name": "LayoutModel",
      "state": {}
     },
     "30831687e93544cb8dbe8b888e6e7fdf": {
      "model_module": "@jupyter-widgets/base",
      "model_module_version": "2.0.0",
      "model_name": "LayoutModel",
      "state": {}
     },
     "31eceefd7689416d8b58c4713f39c14e": {
      "model_module": "@jupyter-widgets/base",
      "model_module_version": "2.0.0",
      "model_name": "LayoutModel",
      "state": {}
     },
     "323780f57f754b4da97cae9e4571d848": {
      "model_module": "@jupyter-widgets/controls",
      "model_module_version": "2.0.0",
      "model_name": "CheckboxStyleModel",
      "state": {
       "description_width": ""
      }
     },
     "3480b48f5d9d49d995cfb9cd731089fa": {
      "model_module": "@jupyter-widgets/controls",
      "model_module_version": "2.0.0",
      "model_name": "DescriptionStyleModel",
      "state": {
       "description_width": ""
      }
     },
     "3615be517a69466c9b3b13bec577c950": {
      "model_module": "@jupyter-widgets/controls",
      "model_module_version": "2.0.0",
      "model_name": "CheckboxModel",
      "state": {
       "description": "All poles",
       "disabled": false,
       "indent": false,
       "layout": "IPY_MODEL_ce63981c4b524e8cb36557f39f53506a",
       "style": "IPY_MODEL_ac42b403ee03463f98e4d902b77a42f2",
       "value": true
      }
     },
     "361f4d933f9740a6a82e8ab2ab22df97": {
      "model_module": "@jupyter-widgets/base",
      "model_module_version": "2.0.0",
      "model_name": "LayoutModel",
      "state": {}
     },
     "37d505fb2e5e4d98b7623dc29422529c": {
      "model_module": "@jupyter-widgets/controls",
      "model_module_version": "2.0.0",
      "model_name": "TextStyleModel",
      "state": {
       "description_width": "200px",
       "font_size": null,
       "text_color": null
      }
     },
     "387de154e73b4dd9bf1cb28abe621a54": {
      "model_module": "@jupyter-widgets/controls",
      "model_module_version": "2.0.0",
      "model_name": "ButtonStyleModel",
      "state": {
       "font_family": null,
       "font_size": null,
       "font_style": null,
       "font_variant": null,
       "font_weight": null,
       "text_color": null,
       "text_decoration": null
      }
     },
     "3a35b1e0807e4bf7b90ced21ea3edafb": {
      "model_module": "@jupyter-widgets/base",
      "model_module_version": "2.0.0",
      "model_name": "LayoutModel",
      "state": {
       "border_bottom": "1px solid black",
       "border_left": "1px solid black",
       "border_right": "1px solid black",
       "border_top": "1px solid black",
       "height": "160px",
       "overflow": "scroll",
       "width": "80%"
      }
     },
     "3aa077bde5004f398bbbeb7c8f343dc5": {
      "model_module": "@jupyter-widgets/controls",
      "model_module_version": "2.0.0",
      "model_name": "DropdownModel",
      "state": {
       "_options_labels": [
        "Reference-based Covariance-Driven Stochastic Subspace Identification",
        "Reference-based Data-Driven Stochastic Subspace Identification",
        "Stochastic Subspace Identification with Uncertainty Estimation",
        "Poly-reference Least Squares Complex Frequency",
        "Poly-reference Complex Exponential"
       ],
       "index": 1,
       "layout": "IPY_MODEL_8c117a81cdc748a7bb3e8bc511acab62",
       "style": "IPY_MODEL_25b5a625aca04d9fb13dbb38bbf804c1"
      }
     },
     "3bfde67801844f728113d3274442e159": {
      "model_module": "@jupyter-widgets/output",
      "model_module_version": "1.0.0",
      "model_name": "OutputModel",
      "state": {
       "layout": "IPY_MODEL_3a35b1e0807e4bf7b90ced21ea3edafb"
      }
     },
     "3c713bc28f2b45448ba880a5b52839b4": {
      "model_module": "@jupyter-widgets/controls",
      "model_module_version": "2.0.0",
      "model_name": "CheckboxStyleModel",
      "state": {
       "description_width": ""
      }
     },
     "3ca8b678959d474082d045a00f7119fb": {
      "model_module": "@jupyter-widgets/controls",
      "model_module_version": "2.0.0",
      "model_name": "DropdownModel",
      "state": {
       "_options_labels": [
        "1.231",
        "1.434",
        "2.100",
        "4.017",
        "4.773",
        "6.680",
        "7.618",
        "9.665",
        "12.164",
        "12.599",
        "13.853"
       ],
       "description": "Selected mode:",
       "index": 10,
       "layout": "IPY_MODEL_163ab66d3d554065b034e499a943b772",
       "style": "IPY_MODEL_a16e2920f9874d9f9707f3771851863a"
      }
     },
     "3ce04fd803dd44c6bab43d8fa9a527ec": {
      "model_module": "@jupyter-widgets/controls",
      "model_module_version": "2.0.0",
      "model_name": "SliderStyleModel",
      "state": {
       "description_width": ""
      }
     },
     "3dd2a405ff274f8182a2de7299db9569": {
      "model_module": "@jupyter-widgets/controls",
      "model_module_version": "2.0.0",
      "model_name": "TextStyleModel",
      "state": {
       "description_width": "200px",
       "font_size": null,
       "text_color": null
      }
     },
     "3fcd478180ba418e9b8933b02c187192": {
      "model_module": "@jupyter-widgets/controls",
      "model_module_version": "2.0.0",
      "model_name": "ButtonStyleModel",
      "state": {
       "font_family": null,
       "font_size": null,
       "font_style": null,
       "font_variant": null,
       "font_weight": null,
       "text_color": null,
       "text_decoration": null
      }
     },
     "41ed0bbbf31f42d2a1ec84a347d66740": {
      "model_module": "@jupyter-widgets/base",
      "model_module_version": "2.0.0",
      "model_name": "LayoutModel",
      "state": {}
     },
     "429a55e1797145699d68d9d1e490fbe0": {
      "model_module": "jupyter-matplotlib",
      "model_module_version": "^0.11",
      "model_name": "ToolbarModel",
      "state": {
       "_model_module_version": "^0.11",
       "_view_module_version": "^0.11",
       "collapsed": true,
       "layout": "IPY_MODEL_ed5af396a33d4171ae82d78d141bd075",
       "orientation": "vertical",
       "position": "right",
       "toolitems": [
        [
         "Home",
         "Reset original view",
         "home",
         "home"
        ],
        [
         "Back",
         "Back to previous view",
         "arrow-left",
         "back"
        ],
        [
         "Forward",
         "Forward to next view",
         "arrow-right",
         "forward"
        ],
        [
         "Pan",
         "Left button pans, Right button zooms\nx/y fixes axis, CTRL fixes aspect",
         "arrows",
         "pan"
        ],
        [
         "Zoom",
         "Zoom to rectangle\nx/y fixes axis",
         "square-o",
         "zoom"
        ],
        [
         "Download",
         "Download plot",
         "floppy-o",
         "save_figure"
        ]
       ]
      }
     },
     "433432809ec3424bb1701dd76982d120": {
      "model_module": "@jupyter-widgets/controls",
      "model_module_version": "2.0.0",
      "model_name": "LabelStyleModel",
      "state": {
       "description_width": "",
       "font_family": null,
       "font_size": null,
       "font_style": null,
       "font_variant": null,
       "font_weight": null,
       "text_color": null,
       "text_decoration": null
      }
     },
     "444e3e2c9e1a4eb89750f6eb49d29872": {
      "model_module": "@jupyter-widgets/controls",
      "model_module_version": "2.0.0",
      "model_name": "FloatSliderModel",
      "state": {
       "behavior": "drag-tap",
       "description": "MPD_max [°]",
       "layout": "IPY_MODEL_9eb1ab20134940a2b893553b46591b4b",
       "max": 180,
       "style": "IPY_MODEL_50c86af2a2cf49db8b530b899d21794c",
       "value": 90
      }
     },
     "44c29231f8754855bbc512a480d80d1d": {
      "model_module": "@jupyter-widgets/controls",
      "model_module_version": "2.0.0",
      "model_name": "HTMLMathModel",
      "state": {
       "layout": "IPY_MODEL_9fdfba9044834abcbfebc9bbd41758c1",
       "style": "IPY_MODEL_fa76a6fe593d432890045de17b25a1c1",
       "value": "<table>\n<tr>\n<td> Frequency [Hz]:</td>\n <td> 1.231 </td>\n</tr>\n<tr>\n<td> Model order:</td>\n <td> 25 </td>\n</tr>\n<tr>\n<td> Damping [%]:</td>\n <td> 0.281 </td>\n</tr>\n<tr>\n<td> MPC [-]:</td>\n <td> 0.99988 </td>\n</tr>\n<tr>\n<td> MP  [°]:</td>\n <td> 179.981 </td>\n</tr>\n<tr>\n<td> MPD [-]:</td>\n <td> 0.28452 </td>\n</tr>\n<tr>\n<td> dMP  [°]:</td>\n <td> 0.155 </td>\n</tr>\n</table>"
      }
     },
     "47614d138b74466da16e00ad518a8564": {
      "model_module": "@jupyter-widgets/controls",
      "model_module_version": "2.0.0",
      "model_name": "HTMLMathStyleModel",
      "state": {
       "description_width": "",
       "font_size": null,
       "text_color": null
      }
     },
     "48c6e053211f4bd09df87b85f5956f18": {
      "model_module": "@jupyter-widgets/base",
      "model_module_version": "2.0.0",
      "model_name": "LayoutModel",
      "state": {
       "height": "400px",
       "width": "800px"
      }
     },
     "492398338b8f4e518bc3ff754ea9be23": {
      "model_module": "@jupyter-widgets/controls",
      "model_module_version": "2.0.0",
      "model_name": "ButtonModel",
      "state": {
       "description": "Save",
       "layout": "IPY_MODEL_deb1eed478ea487986a366fdff5d2547",
       "style": "IPY_MODEL_ec5972cb912947858084eed314962f39",
       "tooltip": null
      }
     },
     "49904302424d4926b08c87a0af6b072f": {
      "model_module": "@jupyter-widgets/base",
      "model_module_version": "2.0.0",
      "model_name": "LayoutModel",
      "state": {
       "height": "30px",
       "width": "100px"
      }
     },
     "49a6e839ec704e5782ad9210ed10a10d": {
      "model_module": "@jupyter-widgets/controls",
      "model_module_version": "2.0.0",
      "model_name": "TextModel",
      "state": {
       "description": "Lines File",
       "layout": "IPY_MODEL_cc8ead69ec244619856a2cf6bd0eef65",
       "style": "IPY_MODEL_27c9507cb53449cea178352d3c4f70f9",
       "value": "/home/sima9999/git/pyOMA/tests/files/lines.txt"
      }
     },
     "49b97b517e024c018fea6ab3aaf3a162": {
      "model_module": "@jupyter-widgets/controls",
      "model_module_version": "2.0.0",
      "model_name": "ButtonStyleModel",
      "state": {
       "font_family": null,
       "font_size": null,
       "font_style": null,
       "font_variant": null,
       "font_weight": null,
       "text_color": null,
       "text_decoration": null
      }
     },
     "49d4d51f79aa49eb91db2cf45c0ebf75": {
      "model_module": "@jupyter-widgets/base",
      "model_module_version": "2.0.0",
      "model_name": "LayoutModel",
      "state": {
       "align_items": "center",
       "overflow": "scroll",
       "padding": "0px 0px 0px 100px"
      }
     },
     "4a24d6065a2e4a508539e7571b4da481": {
      "model_module": "@jupyter-widgets/base",
      "model_module_version": "2.0.0",
      "model_name": "LayoutModel",
      "state": {}
     },
     "4ad1ec054ffd4974a7306176722dbbb5": {
      "model_module": "@jupyter-widgets/base",
      "model_module_version": "2.0.0",
      "model_name": "LayoutModel",
      "state": {
       "height": "400px",
       "width": "800px"
      }
     },
     "4d5d4b7271d54738a064f862730e816e": {
      "model_module": "@jupyter-widgets/base",
      "model_module_version": "2.0.0",
      "model_name": "LayoutModel",
      "state": {}
     },
     "4d8c51190210409496fd307c4c615c30": {
      "model_module": "@jupyter-widgets/base",
      "model_module_version": "2.0.0",
      "model_name": "LayoutModel",
      "state": {}
     },
     "4f328d36cc69424ebbe4d36fcbc8330f": {
      "model_module": "@jupyter-widgets/controls",
      "model_module_version": "2.0.0",
      "model_name": "HTMLMathModel",
      "state": {
       "layout": "IPY_MODEL_307e5742d76f47c8abaf5aba9038c9fe",
       "style": "IPY_MODEL_c469088eb9f7401c8d8e72978924b26f",
       "value": "<table>\n<tr>\n<td> Frequency [Hz]:</td>\n <td> 1.231 </td>\n</tr>\n<tr>\n<td> Model order:</td>\n <td> 25 </td>\n</tr>\n<tr>\n<td> Damping [%]:</td>\n <td> 0.281 </td>\n</tr>\n<tr>\n<td> MPC [-]:</td>\n <td> 0.99988 </td>\n</tr>\n<tr>\n<td> MP  [°]:</td>\n <td> 179.981 </td>\n</tr>\n<tr>\n<td> MPD [-]:</td>\n <td> 0.28452 </td>\n</tr>\n<tr>\n<td> dMP  [°]:</td>\n <td> 0.155 </td>\n</tr>\n</table>"
      }
     },
     "509d995922c949d5be1bd7b249503904": {
      "model_module": "@jupyter-widgets/controls",
      "model_module_version": "2.0.0",
      "model_name": "VBoxModel",
      "state": {
       "children": [
        "IPY_MODEL_5f931301727c4b8485379310d4a5ad25",
        "IPY_MODEL_6c72b99ab5914153b6a35e606d4f4f41",
        "IPY_MODEL_6b4492f8c3ef463aa6297be8c3ae0091",
        "IPY_MODEL_444e3e2c9e1a4eb89750f6eb49d29872"
       ],
       "layout": "IPY_MODEL_8b0e4ef922714779875b4d2b90960a57"
      }
     },
     "50c86af2a2cf49db8b530b899d21794c": {
      "model_module": "@jupyter-widgets/controls",
      "model_module_version": "2.0.0",
      "model_name": "SliderStyleModel",
      "state": {
       "description_width": ""
      }
     },
     "50dc2c29c38143058a8bbd18eb1ead3e": {
      "model_module": "@jupyter-widgets/base",
      "model_module_version": "2.0.0",
      "model_name": "LayoutModel",
      "state": {
       "width": "800px"
      }
     },
     "521bc9d7eca2456e9151429bc93cf561": {
      "model_module": "@jupyter-widgets/controls",
      "model_module_version": "2.0.0",
      "model_name": "CheckboxModel",
      "state": {
       "description": "Show Lines",
       "disabled": false,
       "indent": false,
       "layout": "IPY_MODEL_f57b4de0c32a4f2f8afdb7c41b0dd1aa",
       "style": "IPY_MODEL_8e44688a7b2e43839180f1a5d26ed2d2",
       "value": true
      }
     },
     "5280a3ffb91140af8da30d8d9fb756c6": {
      "model_module": "@jupyter-widgets/base",
      "model_module_version": "2.0.0",
      "model_name": "LayoutModel",
      "state": {
       "border_bottom": "1px solid black",
       "border_left": "1px solid black",
       "border_right": "1px solid black",
       "border_top": "1px solid black",
       "height": "160px",
       "overflow": "scroll",
       "width": "1360px"
      }
     },
     "52854452000d44849d86e38c15bc2a14": {
      "model_module": "@jupyter-widgets/controls",
      "model_module_version": "2.0.0",
      "model_name": "TextStyleModel",
      "state": {
       "description_width": "200px",
       "font_size": null,
       "text_color": null
      }
     },
     "52d27ee1669a4e42b52834e9f30e7e06": {
      "model_module": "jupyter-matplotlib",
      "model_module_version": "^0.11",
      "model_name": "MPLCanvasModel",
      "state": {
       "_cursor": "default",
       "_data_url": "data:image/png;base64,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",
       "_figure_label": "Figure 0",
       "_message": "x=109.1180, y=67.3215, z=14.3110",
       "_model_module_version": "^0.11",
       "_size": [
        850.3939947419401,
        525.5723925793184
       ],
       "_view_module_version": "^0.11",
       "footer_visible": false,
       "header_visible": false,
       "layout": "IPY_MODEL_d0f812c70db44d40a2d1e8f79c274bb2",
       "resizable": false,
       "toolbar": "IPY_MODEL_429a55e1797145699d68d9d1e490fbe0",
       "toolbar_position": "right"
      }
     },
     "52e05a11c70b46b69b695743f28d6e24": {
      "model_module": "@jupyter-widgets/base",
      "model_module_version": "2.0.0",
      "model_name": "LayoutModel",
      "state": {
       "height": "30px",
       "width": "30px"
      }
     },
     "52f053c257594fb695e9bbca7e6fca5a": {
      "model_module": "@jupyter-widgets/base",
      "model_module_version": "2.0.0",
      "model_name": "LayoutModel",
      "state": {}
     },
     "52f2344e07924d2aa3013b29911895ab": {
      "model_module": "@jupyter-widgets/controls",
      "model_module_version": "2.0.0",
      "model_name": "LabelStyleModel",
      "state": {
       "description_width": "",
       "font_family": null,
       "font_size": null,
       "font_style": null,
       "font_variant": null,
       "font_weight": null,
       "text_color": null,
       "text_decoration": null
      }
     },
     "5417704bc9ab4c069d74d01a51e77c36": {
      "model_module": "@jupyter-widgets/controls",
      "model_module_version": "2.0.0",
      "model_name": "HBoxModel",
      "state": {
       "children": [
        "IPY_MODEL_a4026bbbb1b14124bf756251ba5c6ec7",
        "IPY_MODEL_611341bc308b4d73a114ba03e2d1d3b7",
        "IPY_MODEL_8266175ac83b4626980ac23841cf5dff",
        "IPY_MODEL_1d0ebfd7f0514d188ae4d7cfaf224915"
       ],
       "layout": "IPY_MODEL_867f7a0cd68b41df840d52dfa9acb76a"
      }
     },
     "541e625b4b1c4d9992441a91e4ec56b1": {
      "model_module": "@jupyter-widgets/base",
      "model_module_version": "2.0.0",
      "model_name": "LayoutModel",
      "state": {}
     },
     "59c04b24855a42ecab25625fb68a75c2": {
      "model_module": "@jupyter-widgets/controls",
      "model_module_version": "2.0.0",
      "model_name": "TextStyleModel",
      "state": {
       "description_width": "",
       "font_size": null,
       "text_color": null
      }
     },
     "5a91ebb2f9d6425f8bec0ad8c5779811": {
      "model_module": "@jupyter-widgets/controls",
      "model_module_version": "2.0.0",
      "model_name": "ButtonStyleModel",
      "state": {
       "font_family": null,
       "font_size": null,
       "font_style": null,
       "font_variant": null,
       "font_weight": null,
       "text_color": null,
       "text_decoration": null
      }
     },
     "5c4fc5efc0504057babd9e8021e9dce0": {
      "model_module": "@jupyter-widgets/controls",
      "model_module_version": "2.0.0",
      "model_name": "TextModel",
      "state": {
       "description": "Parent-Child Assignments File",
       "layout": "IPY_MODEL_14bf8167ea224d25a3ed028790f3867c",
       "style": "IPY_MODEL_616f22298e674b3381b8f3c9e25a680d"
      }
     },
     "5ea7831a2a2e49a7a9e6eb5d40cc81be": {
      "model_module": "@jupyter-widgets/base",
      "model_module_version": "2.0.0",
      "model_name": "LayoutModel",
      "state": {
       "height": "30px",
       "width": "170px"
      }
     },
     "5ed8818ac7f94a69a5f122226b5b359f": {
      "model_module": "@jupyter-widgets/controls",
      "model_module_version": "2.0.0",
      "model_name": "HBoxModel",
      "state": {
       "children": [
        "IPY_MODEL_7f658654ddab417daeead823a77d4331",
        "IPY_MODEL_63ec13015cf648c5bcdd51e7e671a6b1"
       ],
       "layout": "IPY_MODEL_0ed5674381854b75b5dab52f123d56e4"
      }
     },
     "5f6b61d215fa4108baa35c24929e04fd": {
      "model_module": "@jupyter-widgets/base",
      "model_module_version": "2.0.0",
      "model_name": "LayoutModel",
      "state": {
       "height": "30px",
       "width": "30px"
      }
     },
     "5f931301727c4b8485379310d4a5ad25": {
      "model_module": "@jupyter-widgets/controls",
      "model_module_version": "2.0.0",
      "model_name": "LabelModel",
      "state": {
       "layout": "IPY_MODEL_6bb3d2b5947f4b6f8bbac7ff71605da3",
       "style": "IPY_MODEL_433432809ec3424bb1701dd76982d120",
       "value": "Hard criteria:"
      }
     },
     "60196cb0af4d49dd96403a320337886f": {
      "model_module": "@jupyter-widgets/controls",
      "model_module_version": "2.0.0",
      "model_name": "CheckboxStyleModel",
      "state": {
       "description_width": ""
      }
     },
     "609ef8737e0541d6a0f3054f3ecbda5a": {
      "model_module": "@jupyter-widgets/controls",
      "model_module_version": "2.0.0",
      "model_name": "TextStyleModel",
      "state": {
       "description_width": "200px",
       "font_size": null,
       "text_color": null
      }
     },
     "611341bc308b4d73a114ba03e2d1d3b7": {
      "model_module": "@jupyter-widgets/controls",
      "model_module_version": "2.0.0",
      "model_name": "VBoxModel",
      "state": {
       "children": [
        "IPY_MODEL_e7a60a961cc441779d9bc59080e6a933",
        "IPY_MODEL_07ebee3b52364f4e819198fdd43f603a",
        "IPY_MODEL_90da8ec57d9b47c5bd9c4ebf9618a49b",
        "IPY_MODEL_c45f70015628472da841fc6a2e7d7fd3",
        "IPY_MODEL_0010c9a8f6f74756b1311e99ae37a5c0",
        "IPY_MODEL_9de9fbbdc2c7407485439ccb34bb0354"
       ],
       "layout": "IPY_MODEL_1c17a17ec1b34527a6df05ac749450c4"
      }
     },
     "6134e90510d947a3809cba3bd7341ab6": {
      "model_module": "@jupyter-widgets/base",
      "model_module_version": "2.0.0",
      "model_name": "LayoutModel",
      "state": {
       "height": "30px",
       "width": "180px"
      }
     },
     "616f22298e674b3381b8f3c9e25a680d": {
      "model_module": "@jupyter-widgets/controls",
      "model_module_version": "2.0.0",
      "model_name": "TextStyleModel",
      "state": {
       "description_width": "200px",
       "font_size": null,
       "text_color": null
      }
     },
     "62c319c7aa2b46bab3dd775c86848d5b": {
      "model_module": "@jupyter-widgets/controls",
      "model_module_version": "2.0.0",
      "model_name": "CheckboxModel",
      "state": {
       "description": "Save new results",
       "disabled": false,
       "layout": "IPY_MODEL_1cce3570181f435aa4f25fd2ca6636a9",
       "style": "IPY_MODEL_da9eee0734d54ef48d938530c4b56b6d",
       "value": false
      }
     },
     "63a11e0038a4454c8531df925d7e698a": {
      "model_module": "@jupyter-widgets/controls",
      "model_module_version": "2.0.0",
      "model_name": "CheckboxStyleModel",
      "state": {
       "description_width": ""
      }
     },
     "63ec13015cf648c5bcdd51e7e671a6b1": {
      "model_module": "@jupyter-widgets/controls",
      "model_module_version": "2.0.0",
      "model_name": "ButtonModel",
      "state": {
       "icon": "stop",
       "layout": "IPY_MODEL_99c5952a079c4b1cad856cf27b208816",
       "style": "IPY_MODEL_387de154e73b4dd9bf1cb28abe621a54",
       "tooltip": null
      }
     },
     "64ed4823c1a34b49bd212c11f09dfb90": {
      "model_module": "@jupyter-widgets/controls",
      "model_module_version": "2.0.0",
      "model_name": "TextStyleModel",
      "state": {
       "description_width": "",
       "font_size": null,
       "text_color": null
      }
     },
     "66316c1a9960441bb56eb7090d48cdcc": {
      "model_module": "@jupyter-widgets/controls",
      "model_module_version": "2.0.0",
      "model_name": "HBoxModel",
      "state": {
       "children": [
        "IPY_MODEL_e0d605601b3d484cbe0bf089c8459e16",
        "IPY_MODEL_68687efa629644a7a790d1fc75a6a46b"
       ],
       "layout": "IPY_MODEL_19dc4fca41ef41e183acaf52d02610e2"
      }
     },
     "66b1b64ab38d45469e9a36cafccde968": {
      "model_module": "@jupyter-widgets/controls",
      "model_module_version": "2.0.0",
      "model_name": "RadioButtonsModel",
      "state": {
       "_options_labels": [
        "Stable",
        "All",
        "Off"
       ],
       "description": "Cursor",
       "index": 0,
       "layout": "IPY_MODEL_23c2bb963b1a4e33925cd9f9c2798cbf",
       "style": "IPY_MODEL_138818b0498c4a7986f41b48188ea020"
      }
     },
     "6759bcbd939340b2ac2b4c0e722cdd85": {
      "model_module": "@jupyter-widgets/base",
      "model_module_version": "2.0.0",
      "model_name": "LayoutModel",
      "state": {
       "border_bottom": "solid 1px",
       "border_left": "solid 1px",
       "border_right": "solid 1px",
       "border_top": "solid 1px",
       "width": "200px"
      }
     },
     "68687efa629644a7a790d1fc75a6a46b": {
      "model_module": "@jupyter-widgets/controls",
      "model_module_version": "2.0.0",
      "model_name": "ButtonModel",
      "state": {
       "description": "Save",
       "layout": "IPY_MODEL_1afa28cf48074e4aa6b2ca7e011bffab",
       "style": "IPY_MODEL_8c4fdb70dff547a79b439aafb10a4c90",
       "tooltip": null
      }
     },
     "69ea3a03e16640e3ad809baea077e0ad": {
      "model_module": "@jupyter-widgets/controls",
      "model_module_version": "2.0.0",
      "model_name": "VBoxModel",
      "state": {
       "children": [
        "IPY_MODEL_15b10436756f45acbde0b543f1f93123",
        "IPY_MODEL_afd2bf942e81437f8718a58d3ec929bb"
       ],
       "layout": "IPY_MODEL_7d766f4df35f466ba40f5153ca361c24"
      }
     },
     "6b4492f8c3ef463aa6297be8c3ae0091": {
      "model_module": "@jupyter-widgets/controls",
      "model_module_version": "2.0.0",
      "model_name": "FloatSliderModel",
      "state": {
       "behavior": "drag-tap",
       "description": "MPC_min",
       "layout": "IPY_MODEL_c79f44a25b2743a186dca529aba858f2",
       "max": 1,
       "step": 0.01,
       "style": "IPY_MODEL_941310ff8b1343df9ac3e63678ec97ba"
      }
     },
     "6b48014b65874172bfc355c17c263736": {
      "model_module": "@jupyter-widgets/controls",
      "model_module_version": "2.0.0",
      "model_name": "TextStyleModel",
      "state": {
       "description_width": "200px",
       "font_size": null,
       "text_color": null
      }
     },
     "6bb3d2b5947f4b6f8bbac7ff71605da3": {
      "model_module": "@jupyter-widgets/base",
      "model_module_version": "2.0.0",
      "model_name": "LayoutModel",
      "state": {}
     },
     "6c72b99ab5914153b6a35e606d4f4f41": {
      "model_module": "@jupyter-widgets/controls",
      "model_module_version": "2.0.0",
      "model_name": "FloatRangeSliderModel",
      "state": {
       "_model_name": "FloatRangeSliderModel",
       "_view_name": "FloatRangeSliderView",
       "behavior": "drag-tap",
       "description": "Damping range [%]",
       "layout": "IPY_MODEL_05f9dd4821834cd1ae3bc9a541d8ebe3",
       "max": 20,
       "step": 0.1,
       "style": "IPY_MODEL_725004ff9aec439c9cd40914fc4e4230",
       "value": [
        0,
        20
       ]
      }
     },
     "6d9c43bf7a9744d182511aabff6c0902": {
      "model_module": "@jupyter-widgets/controls",
      "model_module_version": "2.0.0",
      "model_name": "ButtonStyleModel",
      "state": {
       "font_family": null,
       "font_size": null,
       "font_style": null,
       "font_variant": null,
       "font_weight": null,
       "text_color": null,
       "text_decoration": null
      }
     },
     "6e5f711aa3ee421aaf08018b0b27d389": {
      "model_module": "@jupyter-widgets/base",
      "model_module_version": "2.0.0",
      "model_name": "LayoutModel",
      "state": {}
     },
     "7064104e0cc545739b2f61a09c554e7b": {
      "model_module": "@jupyter-widgets/controls",
      "model_module_version": "2.0.0",
      "model_name": "ButtonModel",
      "state": {
       "description": "X",
       "layout": "IPY_MODEL_52e05a11c70b46b69b695743f28d6e24",
       "style": "IPY_MODEL_91f155e771d1409faf63238dd7fa4fc4",
       "tooltip": null
      }
     },
     "709fcf67902441ee8cf783bd8ffa8f18": {
      "model_module": "jupyter-matplotlib",
      "model_module_version": "^0.11",
      "model_name": "ToolbarModel",
      "state": {
       "_model_module_version": "^0.11",
       "_view_module_version": "^0.11",
       "collapsed": true,
       "layout": "IPY_MODEL_1baf5f5f1e454024af856fda23550130",
       "orientation": "vertical",
       "position": "right",
       "toolitems": [
        [
         "Home",
         "Reset original view",
         "home",
         "home"
        ],
        [
         "Back",
         "Back to previous view",
         "arrow-left",
         "back"
        ],
        [
         "Forward",
         "Forward to next view",
         "arrow-right",
         "forward"
        ],
        [
         "Pan",
         "Left button pans, Right button zooms\nx/y fixes axis, CTRL fixes aspect",
         "arrows",
         "pan"
        ],
        [
         "Zoom",
         "Zoom to rectangle\nx/y fixes axis",
         "square-o",
         "zoom"
        ],
        [
         "Download",
         "Download plot",
         "floppy-o",
         "save_figure"
        ]
       ]
      }
     },
     "70f454d165444a0b8cc1fa79be32ad2c": {
      "model_module": "@jupyter-widgets/controls",
      "model_module_version": "2.0.0",
      "model_name": "TextModel",
      "state": {
       "description": "Result Directory",
       "layout": "IPY_MODEL_26670007926f491b8f42e8283fc1347e",
       "style": "IPY_MODEL_3dd2a405ff274f8182a2de7299db9569",
       "value": "/home/sima9999/git/pyOMA/tests/files/measurement_1"
      }
     },
     "716dd14989434413a21fdaa17fd4917c": {
      "model_module": "@jupyter-widgets/controls",
      "model_module_version": "2.0.0",
      "model_name": "VBoxModel",
      "state": {
       "children": [
        "IPY_MODEL_bf558dd1efbf460398f189a18f7a62d5",
        "IPY_MODEL_f870677c8fa44cda9c93195b9bd47631",
        "IPY_MODEL_9927996d3d3643e2beed23ecf0863a37"
       ],
       "layout": "IPY_MODEL_259da7069aa2429d9329e3be86d35545"
      }
     },
     "717988ecc29841f49e4d4783cf83297a": {
      "model_module": "@jupyter-widgets/controls",
      "model_module_version": "2.0.0",
      "model_name": "VBoxModel",
      "state": {
       "children": [
        "IPY_MODEL_3ca8b678959d474082d045a00f7119fb",
        "IPY_MODEL_4f328d36cc69424ebbe4d36fcbc8330f"
       ],
       "layout": "IPY_MODEL_e4700ee78fe542c886b8c6c4e3f25baa"
      }
     },
     "71f74e9e94df4f759e205953242996b9": {
      "model_module": "@jupyter-widgets/base",
      "model_module_version": "2.0.0",
      "model_name": "LayoutModel",
      "state": {}
     },
     "725004ff9aec439c9cd40914fc4e4230": {
      "model_module": "@jupyter-widgets/controls",
      "model_module_version": "2.0.0",
      "model_name": "SliderStyleModel",
      "state": {
       "description_width": ""
      }
     },
     "75e1af21ccc0468dbc4533fba1d42c0e": {
      "model_module": "@jupyter-widgets/controls",
      "model_module_version": "2.0.0",
      "model_name": "CheckboxStyleModel",
      "state": {
       "description_width": ""
      }
     },
     "76258b417d0942a092b60408aaa69d69": {
      "model_module": "@jupyter-widgets/base",
      "model_module_version": "2.0.0",
      "model_name": "LayoutModel",
      "state": {}
     },
     "7695477cd7ae4f43b22abb4a7bcb2e82": {
      "model_module": "@jupyter-widgets/base",
      "model_module_version": "2.0.0",
      "model_name": "LayoutModel",
      "state": {
       "height": "400px",
       "width": "800px"
      }
     },
     "7773a97c94484312ae5723018582b7bc": {
      "model_module": "@jupyter-widgets/controls",
      "model_module_version": "2.0.0",
      "model_name": "TextareaModel",
      "state": {
       "layout": "IPY_MODEL_a1b14517de7b4afda9e6d0262ec62d87",
       "placeholder": "Load lines file",
       "style": "IPY_MODEL_2f57fc22fa924e6281e87887caf5cca5",
       "value": "node_name_1\t node_name_2\n   3   7\n   4   8\n   5   9\n   6   10\n   7   11\n   8   12\n   9   13\n   10   14\n   11   15\n   12   16\n   1   5\n   2   6\n   8   5\n   5   6\n   6   7\n   7   8\n   11   12\n   12   9\n   9   10\n   10   11\n   15   16\n   16   13\n   13   14\n   14   15\n   15   19\n   19   18\n   16   20\n   19   20\n   17   20\n   17   13\n   17   18\n   17   21\n   24   21\n   22   21\n   22   18\n   22   23\n   19   23\n   23   24\n   20   24\n   18   14"
      }
     },
     "778b90971fa74812b1f2bb1873cd4969": {
      "model_module": "@jupyter-widgets/base",
      "model_module_version": "2.0.0",
      "model_name": "LayoutModel",
      "state": {}
     },
     "77f5de8b9c3c425fa4904b5899ed6c20": {
      "model_module": "@jupyter-widgets/controls",
      "model_module_version": "2.0.0",
      "model_name": "ButtonModel",
      "state": {
       "description": "Save",
       "layout": "IPY_MODEL_4d8c51190210409496fd307c4c615c30",
       "style": "IPY_MODEL_fc58a895a37241b8a5a21ae0e5742a85",
       "tooltip": null
      }
     },
     "786a48f40f3c4d57988ee21e1e179a24": {
      "model_module": "@jupyter-widgets/base",
      "model_module_version": "2.0.0",
      "model_name": "LayoutModel",
      "state": {}
     },
     "79b7c9527550485b829c4ff69122d093": {
      "model_module": "@jupyter-widgets/controls",
      "model_module_version": "2.0.0",
      "model_name": "TextModel",
      "state": {
       "description": "Channel-DOF-Assignments File",
       "layout": "IPY_MODEL_0c10d3921d2545bba5ea45a390496ef6",
       "style": "IPY_MODEL_21287265cf1d4da5b0ef729793d663b3",
       "value": "/home/sima9999/git/pyOMA/tests/files/measurement_1/channel_dofs.txt"
      }
     },
     "7c81392fa57c430586ad8664d9474948": {
      "model_module": "@jupyter-widgets/base",
      "model_module_version": "2.0.0",
      "model_name": "LayoutModel",
      "state": {}
     },
     "7d766f4df35f466ba40f5153ca361c24": {
      "model_module": "@jupyter-widgets/base",
      "model_module_version": "2.0.0",
      "model_name": "LayoutModel",
      "state": {
       "border_bottom": "solid 1px",
       "border_left": "solid 1px",
       "border_right": "solid 1px",
       "border_top": "solid 1px",
       "width": "230px"
      }
     },
     "7d9c3427e173492d97f471e79d6bf04c": {
      "model_module": "@jupyter-widgets/controls",
      "model_module_version": "2.0.0",
      "model_name": "VBoxModel",
      "state": {
       "children": [
        "IPY_MODEL_79b7c9527550485b829c4ff69122d093",
        "IPY_MODEL_0a340045c8bf4cbcbfd9829205bd948d",
        "IPY_MODEL_66316c1a9960441bb56eb7090d48cdcc"
       ],
       "layout": "IPY_MODEL_d58fe56ab1da4bc6bc47ec8a87171697"
      }
     },
     "7dc596d97e85435d80df68a9d595b96e": {
      "model_module": "@jupyter-widgets/controls",
      "model_module_version": "2.0.0",
      "model_name": "TextModel",
      "state": {
       "description": "Setup Info File",
       "layout": "IPY_MODEL_f877b64c4636402a8151f5bec22ac2b1",
       "style": "IPY_MODEL_37d505fb2e5e4d98b7623dc29422529c",
       "value": "/home/sima9999/git/pyOMA/tests/files/measurement_1/setup_info.txt"
      }
     },
     "7ef221c693aa43a19c984b57a24232d7": {
      "model_module": "@jupyter-widgets/base",
      "model_module_version": "2.0.0",
      "model_name": "LayoutModel",
      "state": {}
     },
     "7f658654ddab417daeead823a77d4331": {
      "model_module": "@jupyter-widgets/controls",
      "model_module_version": "2.0.0",
      "model_name": "ButtonModel",
      "state": {
       "icon": "play",
       "layout": "IPY_MODEL_31eceefd7689416d8b58c4713f39c14e",
       "style": "IPY_MODEL_6d9c43bf7a9744d182511aabff6c0902",
       "tooltip": null
      }
     },
     "80f2281af8b647a595474baa079a4e63": {
      "model_module": "@jupyter-widgets/base",
      "model_module_version": "2.0.0",
      "model_name": "LayoutModel",
      "state": {
       "height": "400px",
       "width": "800px"
      }
     },
     "81a87fd4fc094d739b48555add86cdf2": {
      "model_module": "@jupyter-widgets/base",
      "model_module_version": "2.0.0",
      "model_name": "LayoutModel",
      "state": {
       "height": "400px",
       "width": "800px"
      }
     },
     "8266175ac83b4626980ac23841cf5dff": {
      "model_module": "@jupyter-widgets/controls",
      "model_module_version": "2.0.0",
      "model_name": "VBoxModel",
      "state": {
       "children": [
        "IPY_MODEL_859315b52aef47e08100db42b1335780",
        "IPY_MODEL_17188d978c114abf826804513b027e91",
        "IPY_MODEL_95ce5bf274e84f05b728fafd59aec6e6",
        "IPY_MODEL_b5020b99a0bf4686868c8bd7e816a19d",
        "IPY_MODEL_5ed8818ac7f94a69a5f122226b5b359f",
        "IPY_MODEL_f4d6e330c356407886067895c0bf70d4"
       ],
       "layout": "IPY_MODEL_8a2a2db2bbd640118a9ca14c936afab2"
      }
     },
     "852494d91ef9430b9032b48cc6c6db80": {
      "model_module": "@jupyter-widgets/controls",
      "model_module_version": "2.0.0",
      "model_name": "TextStyleModel",
      "state": {
       "description_width": "",
       "font_size": null,
       "text_color": null
      }
     },
     "859315b52aef47e08100db42b1335780": {
      "model_module": "@jupyter-widgets/controls",
      "model_module_version": "2.0.0",
      "model_name": "LabelModel",
      "state": {
       "layout": "IPY_MODEL_7c81392fa57c430586ad8664d9474948",
       "style": "IPY_MODEL_e31091f2371f4337b562f78cbc83026b",
       "value": "Mode:"
      }
     },
     "867f7a0cd68b41df840d52dfa9acb76a": {
      "model_module": "@jupyter-widgets/base",
      "model_module_version": "2.0.0",
      "model_name": "LayoutModel",
      "state": {
       "justify_content": "space-around"
      }
     },
     "86b77715a4764b8185d9bd67ecd58a00": {
      "model_module": "@jupyter-widgets/base",
      "model_module_version": "2.0.0",
      "model_name": "LayoutModel",
      "state": {
       "height": "30px",
       "width": "30px"
      }
     },
     "872e5fbff2d24d3c8c489b41878ce663": {
      "model_module": "@jupyter-widgets/controls",
      "model_module_version": "2.0.0",
      "model_name": "VBoxModel",
      "state": {
       "children": [
        "IPY_MODEL_0bca2d8a3c8b42a1a7ab8461da18dd1f",
        "IPY_MODEL_eff466742415431c840232ad51951657",
        "IPY_MODEL_70f454d165444a0b8cc1fa79be32ad2c",
        "IPY_MODEL_ab2db23256c44411ae2da710d45f6e00",
        "IPY_MODEL_3aa077bde5004f398bbbeb7c8f343dc5",
        "IPY_MODEL_0bc9bd4a09f64c90bc286b2e991a7f53"
       ],
       "layout": "IPY_MODEL_ecf9c76fb80b4d97ade11098f561db35"
      }
     },
     "881a82efd40a4cca90944cb84e17b846": {
      "model_module": "@jupyter-widgets/base",
      "model_module_version": "2.0.0",
      "model_name": "LayoutModel",
      "state": {}
     },
     "886450aa1e2841528384ca9fd60a260b": {
      "model_module": "@jupyter-widgets/controls",
      "model_module_version": "2.0.0",
      "model_name": "TextModel",
      "state": {
       "description": "Nodes File",
       "layout": "IPY_MODEL_ece37986a47a427aa39005eb16d1a6a8",
       "style": "IPY_MODEL_52854452000d44849d86e38c15bc2a14",
       "value": "/home/sima9999/git/pyOMA/tests/files/grid.txt"
      }
     },
     "8a2a2db2bbd640118a9ca14c936afab2": {
      "model_module": "@jupyter-widgets/base",
      "model_module_version": "2.0.0",
      "model_name": "LayoutModel",
      "state": {
       "border_bottom": "solid 1px",
       "border_left": "solid 1px",
       "border_right": "solid 1px",
       "border_top": "solid 1px"
      }
     },
     "8b012d6c75fe419d90adf7fabdcf0239": {
      "model_module": "@jupyter-widgets/base",
      "model_module_version": "2.0.0",
      "model_name": "LayoutModel",
      "state": {
       "width": "100px"
      }
     },
     "8b0e4ef922714779875b4d2b90960a57": {
      "model_module": "@jupyter-widgets/base",
      "model_module_version": "2.0.0",
      "model_name": "LayoutModel",
      "state": {
       "border_bottom": "solid 1px",
       "border_left": "solid 1px",
       "border_right": "solid 1px",
       "border_top": "solid 1px",
       "width": "350px"
      }
     },
     "8c117a81cdc748a7bb3e8bc511acab62": {
      "model_module": "@jupyter-widgets/base",
      "model_module_version": "2.0.0",
      "model_name": "LayoutModel",
      "state": {
       "width": "800px"
      }
     },
     "8c4fdb70dff547a79b439aafb10a4c90": {
      "model_module": "@jupyter-widgets/controls",
      "model_module_version": "2.0.0",
      "model_name": "ButtonStyleModel",
      "state": {
       "font_family": null,
       "font_size": null,
       "font_style": null,
       "font_variant": null,
       "font_weight": null,
       "text_color": null,
       "text_decoration": null
      }
     },
     "8cb8036c4f0f4665ae3c88df4bcb9c99": {
      "model_module": "@jupyter-widgets/base",
      "model_module_version": "2.0.0",
      "model_name": "LayoutModel",
      "state": {}
     },
     "8e44688a7b2e43839180f1a5d26ed2d2": {
      "model_module": "@jupyter-widgets/controls",
      "model_module_version": "2.0.0",
      "model_name": "CheckboxStyleModel",
      "state": {
       "description_width": ""
      }
     },
     "9007e670cd594124a344240ac6d03a10": {
      "model_module": "@jupyter-widgets/controls",
      "model_module_version": "2.0.0",
      "model_name": "ButtonModel",
      "state": {
       "description": "Save",
       "layout": "IPY_MODEL_6e5f711aa3ee421aaf08018b0b27d389",
       "style": "IPY_MODEL_5a91ebb2f9d6425f8bec0ad8c5779811",
       "tooltip": null
      }
     },
     "90da8ec57d9b47c5bd9c4ebf9618a49b": {
      "model_module": "@jupyter-widgets/controls",
      "model_module_version": "2.0.0",
      "model_name": "FloatSliderModel",
      "state": {
       "behavior": "drag-tap",
       "description": "Elevation",
       "layout": "IPY_MODEL_fbebbe970019413f800f5f952874a5da",
       "max": 180,
       "min": -180,
       "style": "IPY_MODEL_bd58dcf8c1fc44b895c197cb6d159096",
       "value": 30
      }
     },
     "90e719ee47554af8b0915481e54e5ba7": {
      "model_module": "@jupyter-widgets/base",
      "model_module_version": "2.0.0",
      "model_name": "LayoutModel",
      "state": {
       "height": "30px",
       "width": "150px"
      }
     },
     "916767f9ab1b45dfa6ec9f8f82eac249": {
      "model_module": "@jupyter-widgets/controls",
      "model_module_version": "2.0.0",
      "model_name": "LabelStyleModel",
      "state": {
       "description_width": "",
       "font_family": null,
       "font_size": null,
       "font_style": null,
       "font_variant": null,
       "font_weight": null,
       "text_color": null,
       "text_decoration": null
      }
     },
     "91f155e771d1409faf63238dd7fa4fc4": {
      "model_module": "@jupyter-widgets/controls",
      "model_module_version": "2.0.0",
      "model_name": "ButtonStyleModel",
      "state": {
       "font_family": null,
       "font_size": null,
       "font_style": null,
       "font_variant": null,
       "font_weight": null,
       "text_color": null,
       "text_decoration": null
      }
     },
     "91f19dbb99f645a5bbadbe6344d2f7fa": {
      "model_module": "@jupyter-widgets/base",
      "model_module_version": "2.0.0",
      "model_name": "LayoutModel",
      "state": {
       "height": "30px",
       "width": "200px"
      }
     },
     "9227c3b4b0a340198f8d9e88d2213061": {
      "model_module": "@jupyter-widgets/base",
      "model_module_version": "2.0.0",
      "model_name": "LayoutModel",
      "state": {}
     },
     "92b3104f9ed54555a6d9098236092f59": {
      "model_module": "@jupyter-widgets/base",
      "model_module_version": "2.0.0",
      "model_name": "LayoutModel",
      "state": {
       "width": "800px"
      }
     },
     "93e1cb31f5424502b0001af62a6ab604": {
      "model_module": "@jupyter-widgets/controls",
      "model_module_version": "2.0.0",
      "model_name": "TextareaModel",
      "state": {
       "layout": "IPY_MODEL_4ad1ec054ffd4974a7306176722dbbb5",
       "placeholder": "Load nodes file",
       "style": "IPY_MODEL_852494d91ef9430b9032b48cc6c6db80",
       "value": "node_name\t x\t\t y\t\t  z\n   1   1.8100000e+01  -1.8100000e+01   0.0000000e+00\n   2   1.8100000e+01   1.8100000e+01   0.0000000e+00\n   3  -1.8100000e+01   1.8100000e+01   0.0000000e+00\n   4  -1.8100000e+01  -1.8100000e+01   0.0000000e+00\n   5   1.8100000e+01  -1.8100000e+01   1.9200000e+01\n   6   1.8100000e+01   1.8100000e+01   1.9200000e+01\n   7  -1.8100000e+01   1.8100000e+01   1.9200000e+01\n   8  -1.8100000e+01  -1.8100000e+01   1.9200000e+01\n   9   1.8100000e+01  -1.8100000e+01   3.9200000e+01\n   10   1.8100000e+01   1.8100000e+01   3.9200000e+01\n   11  -1.8100000e+01   1.8100000e+01   3.9200000e+01\n   12  -1.8100000e+01  -1.8100000e+01   3.9200000e+01\n   13   1.8100000e+01  -1.8100000e+01   5.9200000e+01\n   14   1.8100000e+01   1.8100000e+01   5.9200000e+01\n   15  -1.8100000e+01   1.8100000e+01   5.9200000e+01\n   16  -1.8100000e+01  -1.8100000e+01   5.9200000e+01\n   17   1.8100000e+01  -1.8100000e+01   7.9200000e+01\n   18   1.8100000e+01   1.8100000e+01   7.9200000e+01\n   19  -1.8100000e+01   1.8100000e+01   7.9200000e+01\n   20  -1.8100000e+01  -1.8100000e+01   7.9200000e+01\n   21   1.8100000e+01  -1.8100000e+01   9.8000000e+01\n   22   1.8100000e+01   1.8100000e+01   9.8000000e+01\n   23  -1.8100000e+01   1.8100000e+01   9.8000000e+01\n   24  -1.8100000e+01  -1.8100000e+01   9.8000000e+01\n"
      }
     },
     "941310ff8b1343df9ac3e63678ec97ba": {
      "model_module": "@jupyter-widgets/controls",
      "model_module_version": "2.0.0",
      "model_name": "SliderStyleModel",
      "state": {
       "description_width": ""
      }
     },
     "95ce5bf274e84f05b728fafd59aec6e6": {
      "model_module": "@jupyter-widgets/controls",
      "model_module_version": "2.0.0",
      "model_name": "FloatTextModel",
      "state": {
       "description": "Amplitude",
       "layout": "IPY_MODEL_257c2cf95ff64903b1ee5220a6bf9393",
       "step": null,
       "style": "IPY_MODEL_ede42744455341d8a8852200841cbbc1",
       "value": 10
      }
     },
     "97828d52fc534e2f91ec6ad9cf0704f2": {
      "model_module": "@jupyter-widgets/controls",
      "model_module_version": "2.0.0",
      "model_name": "ButtonModel",
      "state": {
       "description": "Load",
       "layout": "IPY_MODEL_e0e2b624d149423fae49432488f80943",
       "style": "IPY_MODEL_ed919bffc53e4c3787ba6c401dab99dc",
       "tooltip": null
      }
     },
     "985ab58fdc594559b50c2e238ed2abdb": {
      "model_module": "@jupyter-widgets/base",
      "model_module_version": "2.0.0",
      "model_name": "LayoutModel",
      "state": {}
     },
     "992498edf4814d6a8007460c4a99b09f": {
      "model_module": "@jupyter-widgets/base",
      "model_module_version": "2.0.0",
      "model_name": "LayoutModel",
      "state": {
       "align_items": "center"
      }
     },
     "9927996d3d3643e2beed23ecf0863a37": {
      "model_module": "@jupyter-widgets/controls",
      "model_module_version": "2.0.0",
      "model_name": "HBoxModel",
      "state": {
       "children": [
        "IPY_MODEL_a1ecfd78f35d4ebd875b2e7e8800cd38",
        "IPY_MODEL_9007e670cd594124a344240ac6d03a10"
       ],
       "layout": "IPY_MODEL_e60205e824b84495b7f6a5ab308345c0"
      }
     },
     "99c5952a079c4b1cad856cf27b208816": {
      "model_module": "@jupyter-widgets/base",
      "model_module_version": "2.0.0",
      "model_name": "LayoutModel",
      "state": {}
     },
     "99e33ed892774195aafa794da6093d08": {
      "model_module": "jupyter-matplotlib",
      "model_module_version": "^0.11",
      "model_name": "MPLCanvasModel",
      "state": {
       "_cursor": "default",
       "_data_url": "data:image/png;base64,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",
       "_figure_label": "Figure 0",
       "_image_mode": "diff",
       "_model_module_version": "^0.11",
       "_size": [
        1360,
        525.5723925793184
       ],
       "_view_module_version": "^0.11",
       "footer_visible": false,
       "header_visible": false,
       "layout": "IPY_MODEL_4d5d4b7271d54738a064f862730e816e",
       "resizable": false,
       "toolbar": "IPY_MODEL_709fcf67902441ee8cf783bd8ffa8f18",
       "toolbar_position": "right"
      }
     },
     "99e4b1fcc3e14fcd84c9f49a6bd9f326": {
      "model_module": "@jupyter-widgets/controls",
      "model_module_version": "2.0.0",
      "model_name": "LabelModel",
      "state": {
       "layout": "IPY_MODEL_778b90971fa74812b1f2bb1873cd4969",
       "style": "IPY_MODEL_52f2344e07924d2aa3013b29911895ab",
       "value": "Left click to rotate, middle click to pan, right click to zoom."
      }
     },
     "9ba192878b644becaec754fdfa44e211": {
      "model_module": "@jupyter-widgets/controls",
      "model_module_version": "2.0.0",
      "model_name": "LabelStyleModel",
      "state": {
       "description_width": "",
       "font_family": null,
       "font_size": null,
       "font_style": null,
       "font_variant": null,
       "font_weight": null,
       "text_color": null,
       "text_decoration": null
      }
     },
     "9cca90daf14c4ad693f026f742999e79": {
      "model_module": "@jupyter-widgets/base",
      "model_module_version": "2.0.0",
      "model_name": "LayoutModel",
      "state": {
       "width": "100px"
      }
     },
     "9d7ab9d91116457da55a07b0c817da6b": {
      "model_module": "@jupyter-widgets/controls",
      "model_module_version": "2.0.0",
      "model_name": "VBoxModel",
      "state": {
       "children": [
        "IPY_MODEL_dc9b9da892324ed88da49408a5f55b6f",
        "IPY_MODEL_9df602f510fd41d2a781182db5ee5a99",
        "IPY_MODEL_9fd4c62100d344b9b4eabcc0f45871ed",
        "IPY_MODEL_ba553808069b465c82d6f7ed153276cc"
       ],
       "layout": "IPY_MODEL_17d1074c16554850874f3ec3d9b032e0"
      }
     },
     "9de9fbbdc2c7407485439ccb34bb0354": {
      "model_module": "@jupyter-widgets/controls",
      "model_module_version": "2.0.0",
      "model_name": "ButtonModel",
      "state": {
       "description": "Reset",
       "layout": "IPY_MODEL_c3b029fb41d64eb4b1a420de54e9a891",
       "style": "IPY_MODEL_dc26459bfe52487da781841405df3ebf",
       "tooltip": null
      }
     },
     "9df602f510fd41d2a781182db5ee5a99": {
      "model_module": "@jupyter-widgets/controls",
      "model_module_version": "2.0.0",
      "model_name": "FloatLogSliderModel",
      "state": {
       "behavior": "drag-tap",
       "description": "Frequency [%]",
       "layout": "IPY_MODEL_9227c3b4b0a340198f8d9e88d2213061",
       "max": 0,
       "min": -4,
       "style": "IPY_MODEL_bfd27ac09cf84c3d9a012292b96d6348",
       "value": 0.01
      }
     },
     "9e4e53fbeef74e3abca270a54d9fd9c3": {
      "model_module": "@jupyter-widgets/controls",
      "model_module_version": "2.0.0",
      "model_name": "CheckboxModel",
      "state": {
       "description": "Show Nodes",
       "disabled": false,
       "indent": false,
       "layout": "IPY_MODEL_49904302424d4926b08c87a0af6b072f",
       "style": "IPY_MODEL_fab5c936ac094050bd4defcddbfffb35",
       "value": true
      }
     },
     "9eb1ab20134940a2b893553b46591b4b": {
      "model_module": "@jupyter-widgets/base",
      "model_module_version": "2.0.0",
      "model_name": "LayoutModel",
      "state": {}
     },
     "9ed8fa56ea024e2486f85b56f5323874": {
      "model_module": "@jupyter-widgets/controls",
      "model_module_version": "2.0.0",
      "model_name": "ButtonStyleModel",
      "state": {
       "font_family": null,
       "font_size": null,
       "font_style": null,
       "font_variant": null,
       "font_weight": null,
       "text_color": null,
       "text_decoration": null
      }
     },
     "9f67672f80dd4b6cbcbc466aa4b55fba": {
      "model_module": "@jupyter-widgets/base",
      "model_module_version": "2.0.0",
      "model_name": "LayoutModel",
      "state": {}
     },
     "9fd4c62100d344b9b4eabcc0f45871ed": {
      "model_module": "@jupyter-widgets/controls",
      "model_module_version": "2.0.0",
      "model_name": "FloatLogSliderModel",
      "state": {
       "behavior": "drag-tap",
       "description": "Damping [%]",
       "layout": "IPY_MODEL_e470712c9c394366845ea6d576b1c774",
       "max": 0,
       "min": -4,
       "style": "IPY_MODEL_0ee40bbf5d494709ad78ff6ea80ecca1",
       "value": 0.039810717055349734
      }
     },
     "9fdfba9044834abcbfebc9bbd41758c1": {
      "model_module": "@jupyter-widgets/base",
      "model_module_version": "2.0.0",
      "model_name": "LayoutModel",
      "state": {}
     },
     "a14da087fc9b41c1b3c163b7d2adefa5": {
      "model_module": "@jupyter-widgets/controls",
      "model_module_version": "2.0.0",
      "model_name": "TabModel",
      "state": {
       "children": [
        "IPY_MODEL_872e5fbff2d24d3c8c489b41878ce663",
        "IPY_MODEL_ac22411a38994d8e8c5206ca964a35e5",
        "IPY_MODEL_a98b61480cca45aca1f93254d9d92bdc",
        "IPY_MODEL_7d9c3427e173492d97f471e79d6bf04c",
        "IPY_MODEL_716dd14989434413a21fdaa17fd4917c"
       ],
       "layout": "IPY_MODEL_41ed0bbbf31f42d2a1ec84a347d66740",
       "selected_index": 0,
       "titles": [
        "General",
        "Geometry",
        "Setup Info",
        "Channel-DOF-Assignments",
        "OMA Config"
       ]
      }
     },
     "a16e2920f9874d9f9707f3771851863a": {
      "model_module": "@jupyter-widgets/controls",
      "model_module_version": "2.0.0",
      "model_name": "DescriptionStyleModel",
      "state": {
       "description_width": "100px"
      }
     },
     "a1b14517de7b4afda9e6d0262ec62d87": {
      "model_module": "@jupyter-widgets/base",
      "model_module_version": "2.0.0",
      "model_name": "LayoutModel",
      "state": {
       "height": "400px",
       "width": "800px"
      }
     },
     "a1ecfd78f35d4ebd875b2e7e8800cd38": {
      "model_module": "@jupyter-widgets/controls",
      "model_module_version": "2.0.0",
      "model_name": "ButtonModel",
      "state": {
       "description": "Load",
       "layout": "IPY_MODEL_b4b84c4d96734d01ad0864716de91c52",
       "style": "IPY_MODEL_d4a0ddebc70f4fc5b4f4f6492565f903",
       "tooltip": null
      }
     },
     "a2bec61894eb4a199ece53f6e2c7a0b2": {
      "model_module": "@jupyter-widgets/controls",
      "model_module_version": "2.0.0",
      "model_name": "VBoxModel",
      "state": {
       "children": [
        "IPY_MODEL_5c4fc5efc0504057babd9e8021e9dce0",
        "IPY_MODEL_b2606036e2374841a37789bf65391a99",
        "IPY_MODEL_0af8ec09b5e94a06b082ced007a51749"
       ],
       "layout": "IPY_MODEL_4a24d6065a2e4a508539e7571b4da481"
      }
     },
     "a2eb971676654b1ba10c7b4d525c480c": {
      "model_module": "@jupyter-widgets/controls",
      "model_module_version": "2.0.0",
      "model_name": "VBoxModel",
      "state": {
       "children": [
        "IPY_MODEL_2e5b2d9dea4c4542b65120aa5687e2e8",
        "IPY_MODEL_aee9c4a1cc0d4af2a8a1b1101811bf9c",
        "IPY_MODEL_3615be517a69466c9b3b13bec577c950",
        "IPY_MODEL_224d1efd27284b1981018292fe87348a",
        "IPY_MODEL_66b1b64ab38d45469e9a36cafccde968"
       ],
       "layout": "IPY_MODEL_6759bcbd939340b2ac2b4c0e722cdd85"
      }
     },
     "a4026bbbb1b14124bf756251ba5c6ec7": {
      "model_module": "@jupyter-widgets/controls",
      "model_module_version": "2.0.0",
      "model_name": "VBoxModel",
      "state": {
       "children": [
        "IPY_MODEL_ff555907b9c545868884013313512c5e",
        "IPY_MODEL_bca860c36edd4aeabb3268ec2b2db616",
        "IPY_MODEL_9e4e53fbeef74e3abca270a54d9fd9c3",
        "IPY_MODEL_521bc9d7eca2456e9151429bc93cf561",
        "IPY_MODEL_d8d5c2a867404e20a4c867f08190cdf2",
        "IPY_MODEL_c4b4c7a04aab4374a7f9cbc0f320727d",
        "IPY_MODEL_19ed80beb0f143f9a27273ae867c084c",
        "IPY_MODEL_ad9b57a3a78443efbcc3d5bf5142f72a"
       ],
       "layout": "IPY_MODEL_ac15a96969354dfb99e70891abf04425"
      }
     },
     "a625a5a1084f42169bab491b9040ffae": {
      "model_module": "@jupyter-widgets/controls",
      "model_module_version": "2.0.0",
      "model_name": "HBoxModel",
      "state": {
       "children": [
        "IPY_MODEL_fddb33f594d8469b974c8ceb602866c7",
        "IPY_MODEL_e0a7ff5d5eb0476cafa63e5cdea121e0"
       ],
       "layout": "IPY_MODEL_7ef221c693aa43a19c984b57a24232d7"
      }
     },
     "a70543f4441c4dabb25365178d30366e": {
      "model_module": "@jupyter-widgets/controls",
      "model_module_version": "2.0.0",
      "model_name": "ButtonStyleModel",
      "state": {
       "font_family": null,
       "font_size": null,
       "font_style": null,
       "font_variant": null,
       "font_weight": null,
       "text_color": null,
       "text_decoration": null
      }
     },
     "a7e0408f576346b4b33263ab7cd23d97": {
      "model_module": "@jupyter-widgets/controls",
      "model_module_version": "2.0.0",
      "model_name": "HBoxModel",
      "state": {
       "children": [
        "IPY_MODEL_9d7ab9d91116457da55a07b0c817da6b",
        "IPY_MODEL_509d995922c949d5be1bd7b249503904",
        "IPY_MODEL_a2eb971676654b1ba10c7b4d525c480c",
        "IPY_MODEL_717988ecc29841f49e4d4783cf83297a",
        "IPY_MODEL_69ea3a03e16640e3ad809baea077e0ad"
       ],
       "layout": "IPY_MODEL_c264f99b84de487884f2e0d2f8f1c769"
      }
     },
     "a8e086e3ad70478ca4848c46871b7568": {
      "model_module": "@jupyter-widgets/base",
      "model_module_version": "2.0.0",
      "model_name": "LayoutModel",
      "state": {}
     },
     "a98b61480cca45aca1f93254d9d92bdc": {
      "model_module": "@jupyter-widgets/controls",
      "model_module_version": "2.0.0",
      "model_name": "VBoxModel",
      "state": {
       "children": [
        "IPY_MODEL_7dc596d97e85435d80df68a9d595b96e",
        "IPY_MODEL_fdaef17caabe42f0a2e9cad2d155d5ca",
        "IPY_MODEL_2f7d9bf78e0541318244347384254b24"
       ],
       "layout": "IPY_MODEL_a8e086e3ad70478ca4848c46871b7568"
      }
     },
     "ab2db23256c44411ae2da710d45f6e00": {
      "model_module": "@jupyter-widgets/controls",
      "model_module_version": "2.0.0",
      "model_name": "TextModel",
      "state": {
       "description": "Measurement File",
       "layout": "IPY_MODEL_50dc2c29c38143058a8bbd18eb1ead3e",
       "style": "IPY_MODEL_b2076629f62c4878b71d04b3a1bd9bab",
       "value": "/home/sima9999/git/pyOMA/tests/files/measurement_1/measurement_1.npy"
      }
     },
     "ab8a86be2948492aba59ed543316770f": {
      "model_module": "@jupyter-widgets/controls",
      "model_module_version": "2.0.0",
      "model_name": "ButtonModel",
      "state": {
       "description": "Load",
       "layout": "IPY_MODEL_df4fcf5ac967405eaf9f3a78a20a01f5",
       "style": "IPY_MODEL_a70543f4441c4dabb25365178d30366e",
       "tooltip": null
      }
     },
     "ac15a96969354dfb99e70891abf04425": {
      "model_module": "@jupyter-widgets/base",
      "model_module_version": "2.0.0",
      "model_name": "LayoutModel",
      "state": {
       "border_bottom": "solid 1px",
       "border_left": "solid 1px",
       "border_right": "solid 1px",
       "border_top": "solid 1px"
      }
     },
     "ac22411a38994d8e8c5206ca964a35e5": {
      "model_module": "@jupyter-widgets/controls",
      "model_module_version": "2.0.0",
      "model_name": "TabModel",
      "state": {
       "children": [
        "IPY_MODEL_e4c525cb555c4827a3b0b4724c9c1a2b",
        "IPY_MODEL_f24ab541381f4a6c9ab0e7106edcb953",
        "IPY_MODEL_a2bec61894eb4a199ece53f6e2c7a0b2"
       ],
       "layout": "IPY_MODEL_fc25f549004c416ba4a058780e85549f",
       "selected_index": 0,
       "titles": [
        "Nodes",
        "Lines",
        "Parent-Child-Assignments"
       ]
      }
     },
     "ac42b403ee03463f98e4d902b77a42f2": {
      "model_module": "@jupyter-widgets/controls",
      "model_module_version": "2.0.0",
      "model_name": "CheckboxStyleModel",
      "state": {
       "description_width": ""
      }
     },
     "ad9b57a3a78443efbcc3d5bf5142f72a": {
      "model_module": "@jupyter-widgets/controls",
      "model_module_version": "2.0.0",
      "model_name": "CheckboxModel",
      "state": {
       "description": "Show Channel-DOF Assignm.",
       "disabled": false,
       "indent": false,
       "layout": "IPY_MODEL_c12f35afdc054a48bb55fbfc75f43266",
       "style": "IPY_MODEL_63a11e0038a4454c8531df925d7e698a",
       "value": false
      }
     },
     "aee9c4a1cc0d4af2a8a1b1101811bf9c": {
      "model_module": "@jupyter-widgets/controls",
      "model_module_version": "2.0.0",
      "model_name": "CheckboxModel",
      "state": {
       "description": "Stable poles",
       "disabled": false,
       "indent": false,
       "layout": "IPY_MODEL_9cca90daf14c4ad693f026f742999e79",
       "style": "IPY_MODEL_2e4ce10c7cb74e7298680772535eaa5e",
       "value": true
      }
     },
     "afd2bf942e81437f8718a58d3ec929bb": {
      "model_module": "@jupyter-widgets/controls",
      "model_module_version": "2.0.0",
      "model_name": "HTMLMathModel",
      "state": {
       "layout": "IPY_MODEL_b453b17063a54b5f9b3abbea41ddec8d",
       "style": "IPY_MODEL_47614d138b74466da16e00ad518a8564"
      }
     },
     "b158f73e242e4baead758ef4ffa50f13": {
      "model_module": "@jupyter-widgets/controls",
      "model_module_version": "2.0.0",
      "model_name": "ButtonModel",
      "state": {
       "description": "ISO",
       "layout": "IPY_MODEL_f702ee80a14b414db1830907708733ee",
       "style": "IPY_MODEL_2dca9de846b349168f89d5694daac066",
       "tooltip": null
      }
     },
     "b2076629f62c4878b71d04b3a1bd9bab": {
      "model_module": "@jupyter-widgets/controls",
      "model_module_version": "2.0.0",
      "model_name": "TextStyleModel",
      "state": {
       "description_width": "200px",
       "font_size": null,
       "text_color": null
      }
     },
     "b20bb198ef4c42799091cefbda03200d": {
      "model_module": "@jupyter-widgets/controls",
      "model_module_version": "2.0.0",
      "model_name": "LabelStyleModel",
      "state": {
       "description_width": "",
       "font_family": null,
       "font_size": null,
       "font_style": null,
       "font_variant": null,
       "font_weight": null,
       "text_color": null,
       "text_decoration": null
      }
     },
     "b2606036e2374841a37789bf65391a99": {
      "model_module": "@jupyter-widgets/controls",
      "model_module_version": "2.0.0",
      "model_name": "TextareaModel",
      "state": {
       "layout": "IPY_MODEL_7695477cd7ae4f43b22abb4a7bcb2e82",
       "placeholder": "Load parent child assignments file",
       "style": "IPY_MODEL_59c04b24855a42ecab25625fb68a75c2",
       "value": "File does not exist"
      }
     },
     "b2a8b34e4ee44c4c8685e0dbd37a2554": {
      "model_module": "@jupyter-widgets/base",
      "model_module_version": "2.0.0",
      "model_name": "LayoutModel",
      "state": {}
     },
     "b453b17063a54b5f9b3abbea41ddec8d": {
      "model_module": "@jupyter-widgets/base",
      "model_module_version": "2.0.0",
      "model_name": "LayoutModel",
      "state": {}
     },
     "b4b84c4d96734d01ad0864716de91c52": {
      "model_module": "@jupyter-widgets/base",
      "model_module_version": "2.0.0",
      "model_name": "LayoutModel",
      "state": {}
     },
     "b4d4df611b2b4b04ae1ddcddd4abacaa": {
      "model_module": "@jupyter-widgets/controls",
      "model_module_version": "2.0.0",
      "model_name": "ButtonStyleModel",
      "state": {
       "font_family": null,
       "font_size": null,
       "font_style": null,
       "font_variant": null,
       "font_weight": null,
       "text_color": null,
       "text_decoration": null
      }
     },
     "b5020b99a0bf4686868c8bd7e816a19d": {
      "model_module": "@jupyter-widgets/controls",
      "model_module_version": "2.0.0",
      "model_name": "CheckboxModel",
      "state": {
       "description": "Real Modeshape",
       "disabled": false,
       "layout": "IPY_MODEL_dcea1e2dcd80428aa1fe31c7c8ae977e",
       "style": "IPY_MODEL_75e1af21ccc0468dbc4533fba1d42c0e",
       "value": false
      }
     },
     "ba553808069b465c82d6f7ed153276cc": {
      "model_module": "@jupyter-widgets/controls",
      "model_module_version": "2.0.0",
      "model_name": "FloatLogSliderModel",
      "state": {
       "behavior": "drag-tap",
       "description": "MAC [%]",
       "layout": "IPY_MODEL_71f74e9e94df4f759e205953242996b9",
       "max": 0,
       "min": -4,
       "style": "IPY_MODEL_3ce04fd803dd44c6bab43d8fa9a527ec",
       "value": 0.01995262314968879
      }
     },
     "ba6624fa3ea840a4aa27ad9f8e469d41": {
      "model_module": "@jupyter-widgets/base",
      "model_module_version": "2.0.0",
      "model_name": "LayoutModel",
      "state": {
       "border_bottom": "solid 1px",
       "border_left": "solid 1px",
       "border_right": "solid 1px",
       "border_top": "solid 1px"
      }
     },
     "bca860c36edd4aeabb3268ec2b2db616": {
      "model_module": "@jupyter-widgets/controls",
      "model_module_version": "2.0.0",
      "model_name": "CheckboxModel",
      "state": {
       "description": "Show Axis Arrows",
       "disabled": false,
       "indent": false,
       "layout": "IPY_MODEL_90e719ee47554af8b0915481e54e5ba7",
       "style": "IPY_MODEL_035dae24d0704cdfaa8d892cd97905ec",
       "value": true
      }
     },
     "bd03c8f9687c451ebf4a349040b0094f": {
      "model_module": "@jupyter-widgets/base",
      "model_module_version": "2.0.0",
      "model_name": "LayoutModel",
      "state": {}
     },
     "bd58dcf8c1fc44b895c197cb6d159096": {
      "model_module": "@jupyter-widgets/controls",
      "model_module_version": "2.0.0",
      "model_name": "SliderStyleModel",
      "state": {
       "description_width": ""
      }
     },
     "bf558dd1efbf460398f189a18f7a62d5": {
      "model_module": "@jupyter-widgets/controls",
      "model_module_version": "2.0.0",
      "model_name": "TextModel",
      "state": {
       "description": "Modal Analysis Config File",
       "layout": "IPY_MODEL_92b3104f9ed54555a6d9098236092f59",
       "style": "IPY_MODEL_06307bdbf8e442b3aec395d136199a23",
       "value": "/home/sima9999/git/pyOMA/tests/files/ssi_config.txt"
      }
     },
     "bfd27ac09cf84c3d9a012292b96d6348": {
      "model_module": "@jupyter-widgets/controls",
      "model_module_version": "2.0.0",
      "model_name": "SliderStyleModel",
      "state": {
       "description_width": ""
      }
     },
     "c12f35afdc054a48bb55fbfc75f43266": {
      "model_module": "@jupyter-widgets/base",
      "model_module_version": "2.0.0",
      "model_name": "LayoutModel",
      "state": {
       "height": "30px",
       "width": "190px"
      }
     },
     "c21ba22165654f938ec4686c52c307a0": {
      "model_module": "@jupyter-widgets/base",
      "model_module_version": "2.0.0",
      "model_name": "LayoutModel",
      "state": {
       "width": "800px"
      }
     },
     "c264f99b84de487884f2e0d2f8f1c769": {
      "model_module": "@jupyter-widgets/base",
      "model_module_version": "2.0.0",
      "model_name": "LayoutModel",
      "state": {
       "justify_content": "space-around"
      }
     },
     "c3b029fb41d64eb4b1a420de54e9a891": {
      "model_module": "@jupyter-widgets/base",
      "model_module_version": "2.0.0",
      "model_name": "LayoutModel",
      "state": {}
     },
     "c404d9c0cec34248b79bd874c2ff725f": {
      "model_module": "@jupyter-widgets/base",
      "model_module_version": "2.0.0",
      "model_name": "LayoutModel",
      "state": {
       "width": "90%"
      }
     },
     "c45f70015628472da841fc6a2e7d7fd3": {
      "model_module": "@jupyter-widgets/controls",
      "model_module_version": "2.0.0",
      "model_name": "FloatSliderModel",
      "state": {
       "behavior": "drag-tap",
       "description": "Azimuth",
       "layout": "IPY_MODEL_e0d835a34bf348ae9c0fd937fc70d1b7",
       "max": 180,
       "min": -180,
       "style": "IPY_MODEL_e0f4d34220bd494ab14c62c244fc14d7",
       "value": -60
      }
     },
     "c469088eb9f7401c8d8e72978924b26f": {
      "model_module": "@jupyter-widgets/controls",
      "model_module_version": "2.0.0",
      "model_name": "HTMLMathStyleModel",
      "state": {
       "description_width": "",
       "font_size": null,
       "text_color": null
      }
     },
     "c474845cb6854590bfbf3cdedd23b326": {
      "model_module": "@jupyter-widgets/controls",
      "model_module_version": "2.0.0",
      "model_name": "CheckboxModel",
      "state": {
       "description": "Skip existing results",
       "disabled": false,
       "layout": "IPY_MODEL_ec2dc533fc1b4b8e82cea63f65ffcd6d",
       "style": "IPY_MODEL_3c713bc28f2b45448ba880a5b52839b4",
       "value": true
      }
     },
     "c4b4c7a04aab4374a7f9cbc0f320727d": {
      "model_module": "@jupyter-widgets/controls",
      "model_module_version": "2.0.0",
      "model_name": "CheckboxModel",
      "state": {
       "description": "Show Non-displaced Lines",
       "disabled": false,
       "indent": false,
       "layout": "IPY_MODEL_6134e90510d947a3809cba3bd7341ab6",
       "style": "IPY_MODEL_323780f57f754b4da97cae9e4571d848",
       "value": true
      }
     },
     "c79f44a25b2743a186dca529aba858f2": {
      "model_module": "@jupyter-widgets/base",
      "model_module_version": "2.0.0",
      "model_name": "LayoutModel",
      "state": {}
     },
     "c99ebad2043a45b98bf167ce75786315": {
      "model_module": "@jupyter-widgets/controls",
      "model_module_version": "2.0.0",
      "model_name": "TextStyleModel",
      "state": {
       "description_width": "",
       "font_size": null,
       "text_color": null
      }
     },
     "cb33af0290564c259c66eb52b9ccc1d9": {
      "model_module": "@jupyter-widgets/controls",
      "model_module_version": "2.0.0",
      "model_name": "ButtonStyleModel",
      "state": {
       "font_family": null,
       "font_size": null,
       "font_style": null,
       "font_variant": null,
       "font_weight": null,
       "text_color": null,
       "text_decoration": null
      }
     },
     "cc8ead69ec244619856a2cf6bd0eef65": {
      "model_module": "@jupyter-widgets/base",
      "model_module_version": "2.0.0",
      "model_name": "LayoutModel",
      "state": {
       "width": "800px"
      }
     },
     "ce63981c4b524e8cb36557f39f53506a": {
      "model_module": "@jupyter-widgets/base",
      "model_module_version": "2.0.0",
      "model_name": "LayoutModel",
      "state": {
       "width": "100px"
      }
     },
     "d0f812c70db44d40a2d1e8f79c274bb2": {
      "model_module": "@jupyter-widgets/base",
      "model_module_version": "2.0.0",
      "model_name": "LayoutModel",
      "state": {}
     },
     "d4a0ddebc70f4fc5b4f4f6492565f903": {
      "model_module": "@jupyter-widgets/controls",
      "model_module_version": "2.0.0",
      "model_name": "ButtonStyleModel",
      "state": {
       "font_family": null,
       "font_size": null,
       "font_style": null,
       "font_variant": null,
       "font_weight": null,
       "text_color": null,
       "text_decoration": null
      }
     },
     "d58fe56ab1da4bc6bc47ec8a87171697": {
      "model_module": "@jupyter-widgets/base",
      "model_module_version": "2.0.0",
      "model_name": "LayoutModel",
      "state": {}
     },
     "d681f556f0fe4d8f917050e6cb260c90": {
      "model_module": "@jupyter-widgets/controls",
      "model_module_version": "2.0.0",
      "model_name": "ButtonModel",
      "state": {
       "description": "Y",
       "layout": "IPY_MODEL_86b77715a4764b8185d9bd67ecd58a00",
       "style": "IPY_MODEL_e7e17cf866814e789d8c28779568f69f",
       "tooltip": null
      }
     },
     "d747e391fa6c44e2b11548fac2429705": {
      "model_module": "@jupyter-widgets/base",
      "model_module_version": "2.0.0",
      "model_name": "LayoutModel",
      "state": {}
     },
     "d8d5c2a867404e20a4c867f08190cdf2": {
      "model_module": "@jupyter-widgets/controls",
      "model_module_version": "2.0.0",
      "model_name": "CheckboxModel",
      "state": {
       "description": "Show Connecting Lines",
       "disabled": false,
       "indent": false,
       "layout": "IPY_MODEL_5ea7831a2a2e49a7a9e6eb5d40cc81be",
       "style": "IPY_MODEL_f5debd93140d4823b2bce21b744e5761",
       "value": true
      }
     },
     "da9eee0734d54ef48d938530c4b56b6d": {
      "model_module": "@jupyter-widgets/controls",
      "model_module_version": "2.0.0",
      "model_name": "CheckboxStyleModel",
      "state": {
       "description_width": ""
      }
     },
     "dc26459bfe52487da781841405df3ebf": {
      "model_module": "@jupyter-widgets/controls",
      "model_module_version": "2.0.0",
      "model_name": "ButtonStyleModel",
      "state": {
       "font_family": null,
       "font_size": null,
       "font_style": null,
       "font_variant": null,
       "font_weight": null,
       "text_color": null,
       "text_decoration": null
      }
     },
     "dc9b9da892324ed88da49408a5f55b6f": {
      "model_module": "@jupyter-widgets/controls",
      "model_module_version": "2.0.0",
      "model_name": "LabelModel",
      "state": {
       "layout": "IPY_MODEL_30831687e93544cb8dbe8b888e6e7fdf",
       "style": "IPY_MODEL_1cccb5812f584182b7ceec6680aee37d",
       "value": "Soft criteria:"
      }
     },
     "dcde2744e0d440559f0122135973898e": {
      "model_module": "@jupyter-widgets/controls",
      "model_module_version": "2.0.0",
      "model_name": "VBoxModel",
      "state": {
       "children": [
        "IPY_MODEL_52d27ee1669a4e42b52834e9f30e7e06",
        "IPY_MODEL_99e4b1fcc3e14fcd84c9f49a6bd9f326",
        "IPY_MODEL_5417704bc9ab4c069d74d01a51e77c36",
        "IPY_MODEL_3bfde67801844f728113d3274442e159"
       ],
       "layout": "IPY_MODEL_992498edf4814d6a8007460c4a99b09f"
      }
     },
     "dcea1e2dcd80428aa1fe31c7c8ae977e": {
      "model_module": "@jupyter-widgets/base",
      "model_module_version": "2.0.0",
      "model_name": "LayoutModel",
      "state": {}
     },
     "deb1eed478ea487986a366fdff5d2547": {
      "model_module": "@jupyter-widgets/base",
      "model_module_version": "2.0.0",
      "model_name": "LayoutModel",
      "state": {}
     },
     "df4fcf5ac967405eaf9f3a78a20a01f5": {
      "model_module": "@jupyter-widgets/base",
      "model_module_version": "2.0.0",
      "model_name": "LayoutModel",
      "state": {}
     },
     "e05295c441514fa4a714016f04b61876": {
      "model_module": "@jupyter-widgets/base",
      "model_module_version": "2.0.0",
      "model_name": "LayoutModel",
      "state": {
       "width": "800px"
      }
     },
     "e0a7ff5d5eb0476cafa63e5cdea121e0": {
      "model_module": "@jupyter-widgets/controls",
      "model_module_version": "2.0.0",
      "model_name": "ButtonModel",
      "state": {
       "description": "Save",
       "layout": "IPY_MODEL_0031f150d09d4689839c5c9b60e932e5",
       "style": "IPY_MODEL_3fcd478180ba418e9b8933b02c187192",
       "tooltip": null
      }
     },
     "e0d605601b3d484cbe0bf089c8459e16": {
      "model_module": "@jupyter-widgets/controls",
      "model_module_version": "2.0.0",
      "model_name": "ButtonModel",
      "state": {
       "description": "Load",
       "layout": "IPY_MODEL_d747e391fa6c44e2b11548fac2429705",
       "style": "IPY_MODEL_cb33af0290564c259c66eb52b9ccc1d9",
       "tooltip": null
      }
     },
     "e0d835a34bf348ae9c0fd937fc70d1b7": {
      "model_module": "@jupyter-widgets/base",
      "model_module_version": "2.0.0",
      "model_name": "LayoutModel",
      "state": {}
     },
     "e0e2b624d149423fae49432488f80943": {
      "model_module": "@jupyter-widgets/base",
      "model_module_version": "2.0.0",
      "model_name": "LayoutModel",
      "state": {}
     },
     "e0f4d34220bd494ab14c62c244fc14d7": {
      "model_module": "@jupyter-widgets/controls",
      "model_module_version": "2.0.0",
      "model_name": "SliderStyleModel",
      "state": {
       "description_width": ""
      }
     },
     "e31091f2371f4337b562f78cbc83026b": {
      "model_module": "@jupyter-widgets/controls",
      "model_module_version": "2.0.0",
      "model_name": "LabelStyleModel",
      "state": {
       "description_width": "",
       "font_family": null,
       "font_size": null,
       "font_style": null,
       "font_variant": null,
       "font_weight": null,
       "text_color": null,
       "text_decoration": null
      }
     },
     "e4700ee78fe542c886b8c6c4e3f25baa": {
      "model_module": "@jupyter-widgets/base",
      "model_module_version": "2.0.0",
      "model_name": "LayoutModel",
      "state": {
       "border_bottom": "solid 1px",
       "border_left": "solid 1px",
       "border_right": "solid 1px",
       "border_top": "solid 1px",
       "width": "230px"
      }
     },
     "e470712c9c394366845ea6d576b1c774": {
      "model_module": "@jupyter-widgets/base",
      "model_module_version": "2.0.0",
      "model_name": "LayoutModel",
      "state": {}
     },
     "e4c525cb555c4827a3b0b4724c9c1a2b": {
      "model_module": "@jupyter-widgets/controls",
      "model_module_version": "2.0.0",
      "model_name": "VBoxModel",
      "state": {
       "children": [
        "IPY_MODEL_886450aa1e2841528384ca9fd60a260b",
        "IPY_MODEL_93e1cb31f5424502b0001af62a6ab604",
        "IPY_MODEL_02da01cca1f7410aa7b1f9a8463bdf62"
       ],
       "layout": "IPY_MODEL_361f4d933f9740a6a82e8ab2ab22df97"
      }
     },
     "e60205e824b84495b7f6a5ab308345c0": {
      "model_module": "@jupyter-widgets/base",
      "model_module_version": "2.0.0",
      "model_name": "LayoutModel",
      "state": {}
     },
     "e7a60a961cc441779d9bc59080e6a933": {
      "model_module": "@jupyter-widgets/controls",
      "model_module_version": "2.0.0",
      "model_name": "LabelModel",
      "state": {
       "layout": "IPY_MODEL_2408bb6dc3bd49abbec31160152bbe37",
       "style": "IPY_MODEL_916767f9ab1b45dfa6ec9f8f82eac249",
       "value": "View:"
      }
     },
     "e7e17cf866814e789d8c28779568f69f": {
      "model_module": "@jupyter-widgets/controls",
      "model_module_version": "2.0.0",
      "model_name": "ButtonStyleModel",
      "state": {
       "font_family": null,
       "font_size": null,
       "font_style": null,
       "font_variant": null,
       "font_weight": null,
       "text_color": null,
       "text_decoration": null
      }
     },
     "ec2dc533fc1b4b8e82cea63f65ffcd6d": {
      "model_module": "@jupyter-widgets/base",
      "model_module_version": "2.0.0",
      "model_name": "LayoutModel",
      "state": {}
     },
     "ec5972cb912947858084eed314962f39": {
      "model_module": "@jupyter-widgets/controls",
      "model_module_version": "2.0.0",
      "model_name": "ButtonStyleModel",
      "state": {
       "font_family": null,
       "font_size": null,
       "font_style": null,
       "font_variant": null,
       "font_weight": null,
       "text_color": null,
       "text_decoration": null
      }
     },
     "ecbbb1778f4a4993bcd58db05cdbaf89": {
      "model_module": "@jupyter-widgets/controls",
      "model_module_version": "2.0.0",
      "model_name": "TextStyleModel",
      "state": {
       "description_width": "",
       "font_size": null,
       "text_color": null
      }
     },
     "ece37986a47a427aa39005eb16d1a6a8": {
      "model_module": "@jupyter-widgets/base",
      "model_module_version": "2.0.0",
      "model_name": "LayoutModel",
      "state": {
       "width": "800px"
      }
     },
     "ecf9c76fb80b4d97ade11098f561db35": {
      "model_module": "@jupyter-widgets/base",
      "model_module_version": "2.0.0",
      "model_name": "LayoutModel",
      "state": {}
     },
     "ed5af396a33d4171ae82d78d141bd075": {
      "model_module": "@jupyter-widgets/base",
      "model_module_version": "2.0.0",
      "model_name": "LayoutModel",
      "state": {}
     },
     "ed919bffc53e4c3787ba6c401dab99dc": {
      "model_module": "@jupyter-widgets/controls",
      "model_module_version": "2.0.0",
      "model_name": "ButtonStyleModel",
      "state": {
       "font_family": null,
       "font_size": null,
       "font_style": null,
       "font_variant": null,
       "font_weight": null,
       "text_color": null,
       "text_decoration": null
      }
     },
     "ede42744455341d8a8852200841cbbc1": {
      "model_module": "@jupyter-widgets/controls",
      "model_module_version": "2.0.0",
      "model_name": "DescriptionStyleModel",
      "state": {
       "description_width": ""
      }
     },
     "eff466742415431c840232ad51951657": {
      "model_module": "@jupyter-widgets/controls",
      "model_module_version": "2.0.0",
      "model_name": "TextModel",
      "state": {
       "description": "Setup Directory",
       "layout": "IPY_MODEL_e05295c441514fa4a714016f04b61876",
       "style": "IPY_MODEL_6b48014b65874172bfc355c17c263736",
       "value": "/home/sima9999/git/pyOMA/tests/files/measurement_1"
      }
     },
     "f24ab541381f4a6c9ab0e7106edcb953": {
      "model_module": "@jupyter-widgets/controls",
      "model_module_version": "2.0.0",
      "model_name": "VBoxModel",
      "state": {
       "children": [
        "IPY_MODEL_49a6e839ec704e5782ad9210ed10a10d",
        "IPY_MODEL_7773a97c94484312ae5723018582b7bc",
        "IPY_MODEL_a625a5a1084f42169bab491b9040ffae"
       ],
       "layout": "IPY_MODEL_bd03c8f9687c451ebf4a349040b0094f"
      }
     },
     "f4d6e330c356407886067895c0bf70d4": {
      "model_module": "@jupyter-widgets/controls",
      "model_module_version": "2.0.0",
      "model_name": "ButtonModel",
      "state": {
       "description": "Reload Mode Selection",
       "layout": "IPY_MODEL_c404d9c0cec34248b79bd874c2ff725f",
       "style": "IPY_MODEL_9ed8fa56ea024e2486f85b56f5323874",
       "tooltip": null
      }
     },
     "f57b4de0c32a4f2f8afdb7c41b0dd1aa": {
      "model_module": "@jupyter-widgets/base",
      "model_module_version": "2.0.0",
      "model_name": "LayoutModel",
      "state": {
       "height": "30px",
       "width": "100px"
      }
     },
     "f5debd93140d4823b2bce21b744e5761": {
      "model_module": "@jupyter-widgets/controls",
      "model_module_version": "2.0.0",
      "model_name": "CheckboxStyleModel",
      "state": {
       "description_width": ""
      }
     },
     "f702ee80a14b414db1830907708733ee": {
      "model_module": "@jupyter-widgets/base",
      "model_module_version": "2.0.0",
      "model_name": "LayoutModel",
      "state": {
       "height": "30px",
       "width": "40px"
      }
     },
     "f870677c8fa44cda9c93195b9bd47631": {
      "model_module": "@jupyter-widgets/controls",
      "model_module_version": "2.0.0",
      "model_name": "TextareaModel",
      "state": {
       "layout": "IPY_MODEL_80f2281af8b647a595474baa079a4e63",
       "placeholder": "Load modal analysis config file",
       "style": "IPY_MODEL_c99ebad2043a45b98bf167ce75786315",
       "value": "Number of Block-Columns:\n200\nMaximum Model Order:\n40\nUse Multiprocessing:\nyes\n\n#######\nConfiguration Options for the SSI-cov/ref algorithm.\nKeep the order of options!"
      }
     },
     "f877b64c4636402a8151f5bec22ac2b1": {
      "model_module": "@jupyter-widgets/base",
      "model_module_version": "2.0.0",
      "model_name": "LayoutModel",
      "state": {
       "width": "800px"
      }
     },
     "fa76a6fe593d432890045de17b25a1c1": {
      "model_module": "@jupyter-widgets/controls",
      "model_module_version": "2.0.0",
      "model_name": "HTMLMathStyleModel",
      "state": {
       "description_width": "",
       "font_size": null,
       "text_color": null
      }
     },
     "fab5c936ac094050bd4defcddbfffb35": {
      "model_module": "@jupyter-widgets/controls",
      "model_module_version": "2.0.0",
      "model_name": "CheckboxStyleModel",
      "state": {
       "description_width": ""
      }
     },
     "fb6e3541b0fc4e8ab8f56670a24ffb6d": {
      "model_module": "@jupyter-widgets/controls",
      "model_module_version": "2.0.0",
      "model_name": "ButtonModel",
      "state": {
       "description": "Load",
       "layout": "IPY_MODEL_541e625b4b1c4d9992441a91e4ec56b1",
       "style": "IPY_MODEL_2816acc6ca21472fb2bc11ca6bc4b600",
       "tooltip": null
      }
     },
     "fbebbe970019413f800f5f952874a5da": {
      "model_module": "@jupyter-widgets/base",
      "model_module_version": "2.0.0",
      "model_name": "LayoutModel",
      "state": {}
     },
     "fc25f549004c416ba4a058780e85549f": {
      "model_module": "@jupyter-widgets/base",
      "model_module_version": "2.0.0",
      "model_name": "LayoutModel",
      "state": {}
     },
     "fc3372bffaf34dfea635c9b61755772c": {
      "model_module": "@jupyter-widgets/controls",
      "model_module_version": "2.0.0",
      "model_name": "ButtonModel",
      "state": {
       "description": "Z",
       "layout": "IPY_MODEL_5f6b61d215fa4108baa35c24929e04fd",
       "style": "IPY_MODEL_1f63807d03d141f7afbc5299f1801223",
       "tooltip": null
      }
     },
     "fc58a895a37241b8a5a21ae0e5742a85": {
      "model_module": "@jupyter-widgets/controls",
      "model_module_version": "2.0.0",
      "model_name": "ButtonStyleModel",
      "state": {
       "font_family": null,
       "font_size": null,
       "font_style": null,
       "font_variant": null,
       "font_weight": null,
       "text_color": null,
       "text_decoration": null
      }
     },
     "fdaef17caabe42f0a2e9cad2d155d5ca": {
      "model_module": "@jupyter-widgets/controls",
      "model_module_version": "2.0.0",
      "model_name": "TextareaModel",
      "state": {
       "layout": "IPY_MODEL_81a87fd4fc094d739b48555add86cdf2",
       "placeholder": "Load setup info file",
       "style": "IPY_MODEL_64ed4823c1a34b49bd212c11f09dfb90",
       "value": "Setup Name:\nmeasurement_1\nSampling Rate [Hz]:\n256\nReference Channels:\n3 4\nDelete Channels:\n5\nAccel. Channels:\n3 4 5\nVelo. Channels:\n0 1 2\nDisp. Channels:\n\n####\nNote:\nChannel Numbering start with 0!!!\nChannel Numbers refer to the columns of the measurement data!\nNumbers are separated by blank. Do not use tabulators.\nCreate one file per measurement.\n\n"
      }
     },
     "fddb33f594d8469b974c8ceb602866c7": {
      "model_module": "@jupyter-widgets/controls",
      "model_module_version": "2.0.0",
      "model_name": "ButtonModel",
      "state": {
       "description": "Load",
       "layout": "IPY_MODEL_2e4ac1242e994067a5aaef858f7dcc9c",
       "style": "IPY_MODEL_49b97b517e024c018fea6ab3aaf3a162",
       "tooltip": null
      }
     },
     "ff555907b9c545868884013313512c5e": {
      "model_module": "@jupyter-widgets/controls",
      "model_module_version": "2.0.0",
      "model_name": "LabelModel",
      "state": {
       "layout": "IPY_MODEL_786a48f40f3c4d57988ee21e1e179a24",
       "style": "IPY_MODEL_06ac104a2b414030986bf1e3509f7df5",
       "value": "Options:"
      }
     }
    },
    "version_major": 2,
    "version_minor": 0
   }
  }
 },
 "nbformat": 4,
 "nbformat_minor": 5
}
